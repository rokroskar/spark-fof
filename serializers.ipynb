{
 "cells": [
  {
   "cell_type": "code",
   "execution_count": 1,
   "metadata": {
    "collapsed": true
   },
   "outputs": [],
   "source": [
    "import findspark\n",
    "import numpy as np"
   ]
  },
  {
   "cell_type": "code",
   "execution_count": 2,
   "metadata": {
    "collapsed": true
   },
   "outputs": [],
   "source": [
    "findspark.init()\n",
    "import pyspark"
   ]
  },
  {
   "cell_type": "code",
   "execution_count": 3,
   "metadata": {
    "collapsed": true
   },
   "outputs": [],
   "source": [
    "from cPickle import dumps, loads\n",
    "import cPickle"
   ]
  },
  {
   "cell_type": "code",
   "execution_count": null,
   "metadata": {
    "collapsed": true
   },
   "outputs": [],
   "source": [
    "def print_types(obj): \n",
    "    if isinstance(obj, (list, tuple)):\n",
    "        return ' '.join(map(print_types, obj))\n",
    "    else: \n",
    "        return str(type(obj))\n",
    "\n",
    "import cPickle as pickle\n",
    "import marshal \n",
    "\n",
    "def check_for_numpy(obj): \n",
    "    if isinstance(obj, np.ndarray): \n",
    "        return True\n",
    "    elif isinstance(obj, (list,tuple)):\n",
    "        return any(map(check_for_numpy, obj))\n",
    "    else: \n",
    "        return False\n",
    "    \n",
    "class AutoSerializerNumpy(pyspark.serializers.FramedSerializer):\n",
    "\n",
    "    \"\"\"\n",
    "    Choose marshal or pickle as serialization protocol automatically\n",
    "    \"\"\"\n",
    "\n",
    "    def __init__(self):\n",
    "        pyspark.serializers.FramedSerializer.__init__(self)\n",
    "        self._type = None\n",
    "\n",
    "    def dumps(self, obj):\n",
    "        if self._type is not None or check_for_numpy(obj):\n",
    "            return b'P' + pickle.dumps(obj, 2)\n",
    "        try:\n",
    "            return b'M' + marshal.dumps(obj, 2)\n",
    "        except Exception as e:\n",
    "            self._type = b'P'\n",
    "            return b'P' + pickle.dumps(obj, 2)\n",
    "\n",
    "    def loads(self, obj):\n",
    "        _type = obj[0]\n",
    "        if _type == b'M':\n",
    "            return marshal.loads(obj[1:])\n",
    "        elif _type == b'P':\n",
    "            return pickle.loads(obj[1:])\n",
    "        else:\n",
    "            raise ValueError(\"invalid serialization type: %s\" % _type)"
   ]
  },
  {
   "cell_type": "code",
   "execution_count": 195,
   "metadata": {
    "collapsed": false
   },
   "outputs": [],
   "source": [
    "import numpy as np\n",
    "import ujson\n",
    "\n",
    "class NumpySerializer(pyspark.serializers.PickleSerializer):\n",
    "    def dumps(self, obj):\n",
    "        if isinstance(obj,list):\n",
    "            res = 'NPALIST'\n",
    "            res += '>><<'.join([self.dumps(x) for x in obj])\n",
    "            return res\n",
    "        if isinstance(obj,np.ndarray):\n",
    "            md = dict(\n",
    "                dtype = str(obj.dtype),\n",
    "                shape = obj.shape,\n",
    "                )\n",
    "            return 'NPA'+'<<>>'.join([ujson.dumps(md),obj.tostring()])\n",
    "        else: \n",
    "            return super(NumpySerializer, self).dumps(obj)\n",
    "    def loads(self, string): \n",
    "        loc = string.find('NPALIST')\n",
    "        if loc >= 0: \n",
    "            return [self.loads(s) for s in string[loc+len('NPALIST'):].split('>><<')]\n",
    "        elif string[:3] == 'NPA':\n",
    "            dict_str, arr_str = string[3:].split('<<>>')\n",
    "            md = ujson.loads(dict_str)\n",
    "            return np.fromstring(arr_str,md['dtype']).reshape(md['shape'])\n",
    "        else: \n",
    "            return super(NumpySerializer, self).loads(string)"
   ]
  },
  {
   "cell_type": "code",
   "execution_count": 106,
   "metadata": {
    "collapsed": true
   },
   "outputs": [],
   "source": [
    "import json, ujson"
   ]
  },
  {
   "cell_type": "code",
   "execution_count": 101,
   "metadata": {
    "collapsed": true
   },
   "outputs": [],
   "source": [
    "md = dict(dtype=str(a.dtype), shape=a.shape)"
   ]
  },
  {
   "cell_type": "code",
   "execution_count": 114,
   "metadata": {
    "collapsed": false
   },
   "outputs": [
    {
     "name": "stdout",
     "output_type": "stream",
     "text": [
      "The slowest run took 9.63 times longer than the fastest. This could mean that an intermediate result is being cached.\n",
      "100000 loops, best of 3: 3.22 µs per loop\n"
     ]
    }
   ],
   "source": [
    "%timeit json.dumps(md)"
   ]
  },
  {
   "cell_type": "code",
   "execution_count": 196,
   "metadata": {
    "collapsed": true
   },
   "outputs": [],
   "source": [
    "ns = NumpySerializer()"
   ]
  },
  {
   "cell_type": "code",
   "execution_count": 197,
   "metadata": {
    "collapsed": true
   },
   "outputs": [],
   "source": [
    "%load_ext line_profiler"
   ]
  },
  {
   "cell_type": "code",
   "execution_count": 201,
   "metadata": {
    "collapsed": true
   },
   "outputs": [],
   "source": [
    "%lprun -f NumpySerializer.dumps ns.dumps(arrays[0])"
   ]
  },
  {
   "cell_type": "code",
   "execution_count": 209,
   "metadata": {
    "collapsed": false
   },
   "outputs": [
    {
     "name": "stdout",
     "output_type": "stream",
     "text": [
      " "
     ]
    }
   ],
   "source": [
    "%prun x = ns.dumps(arrays)"
   ]
  },
  {
   "cell_type": "code",
   "execution_count": 210,
   "metadata": {
    "collapsed": false
   },
   "outputs": [
    {
     "name": "stdout",
     "output_type": "stream",
     "text": [
      " "
     ]
    }
   ],
   "source": [
    "%prun x=dumps(arrays, 2)"
   ]
  },
  {
   "cell_type": "code",
   "execution_count": 146,
   "metadata": {
    "collapsed": false
   },
   "outputs": [
    {
     "name": "stdout",
     "output_type": "stream",
     "text": [
      "1 loop, best of 3: 1.44 s per loop\n"
     ]
    }
   ],
   "source": [
    "%timeit ns.dumps(arrays)"
   ]
  },
  {
   "cell_type": "code",
   "execution_count": 147,
   "metadata": {
    "collapsed": false
   },
   "outputs": [
    {
     "name": "stdout",
     "output_type": "stream",
     "text": [
      "1 loop, best of 3: 1.04 s per loop\n"
     ]
    }
   ],
   "source": [
    "%timeit dumps(arrays,2)"
   ]
  },
  {
   "cell_type": "code",
   "execution_count": 155,
   "metadata": {
    "collapsed": false
   },
   "outputs": [
    {
     "name": "stdout",
     "output_type": "stream",
     "text": [
      "1 loop, best of 3: 2.93 s per loop\n"
     ]
    }
   ],
   "source": [
    "%%timeit x=ns.dumps(arrays)\n",
    "ns.loads(x)"
   ]
  },
  {
   "cell_type": "code",
   "execution_count": 156,
   "metadata": {
    "collapsed": false
   },
   "outputs": [
    {
     "name": "stdout",
     "output_type": "stream",
     "text": [
      "1 loop, best of 3: 545 ms per loop\n"
     ]
    }
   ],
   "source": [
    "%%timeit x = dumps(arrays,2)\n",
    "loads(x)"
   ]
  },
  {
   "cell_type": "code",
   "execution_count": 158,
   "metadata": {
    "collapsed": false
   },
   "outputs": [],
   "source": [
    "import re"
   ]
  },
  {
   "cell_type": "code",
   "execution_count": 189,
   "metadata": {
    "collapsed": true
   },
   "outputs": [],
   "source": [
    "x = ns.dumps(arrays)"
   ]
  },
  {
   "cell_type": "code",
   "execution_count": 190,
   "metadata": {
    "collapsed": true
   },
   "outputs": [],
   "source": [
    "get_arrays = re.compile('>><<(.*)>><<')"
   ]
  },
  {
   "cell_type": "code",
   "execution_count": 191,
   "metadata": {
    "collapsed": true
   },
   "outputs": [],
   "source": [
    "x = 'NPALIST>><<'+x[7:]"
   ]
  },
  {
   "cell_type": "code",
   "execution_count": 192,
   "metadata": {
    "collapsed": false
   },
   "outputs": [
    {
     "data": {
      "text/plain": [
       "'NPALIST>><<NPA{\"dtype\":\"float64\",\"shape\":[10,1]}<<>>\\xdf\\xfb\\xb7\\xe8\\xe9I\\xe6?\\xb8$\\r\\x8f\\xf44\\xc5?\\xd8J\\x11A\\x0f\\x8d\\xef?\\xee/~U\\x81\\x80\\xeb?\\x1eMy<(V\\xd6?Pc\\x8c\\xdb\\x0e\\x9f\\xc8?h1dj\\x1b\\xdb\\xe3?\\xe1duB\\xfa\\xdc\\xeb?\\x00c\\xb5\\x17l&\\xe1?\\xd3\\xd7\\xee\\x1c\\xf7\\x98\\xe3?>><<NPA{\"dtype\":\"float64\",\"shape\":[10,1]}<<>>\\x86\\xf4A\\x8fXY\\xea?l\\x98(J\\xe6\\'\\xdc?]c96#(\\xe9?\\x80\\x84Q\\xa4\\xd35\\xa1?&\\xef\\xa5\\xdd\\x96\\xd1\\xed?\\x0c\\x92=x\\x99\\xd2\\xc6?x\\xec\\xe5g\\xfa5\\xcc?\\xf0\\xaa\\xd8\\xb3\\x81t\\xe1?\\x0f\\x91wb\\xea\\xb7\\xe4?@\\x80E6\\x95\\xeb\\x9f?>><<NPA{\"dtype\":\"float64\",\"shape\":[10,1]}<<>>\\xec\\rw\\xfaR6\\xd8?f\\xb4\\x9ce\"6\\xd5?@M\\x8f\\xe1.\\xcc\\xa4?T\\xde{\\n\\xe1\\x03\\xe1?\\x16\\x02\\x92\\xc21\\x1c\\xd5?\\xd1!\\xbf\\xec?\\xae\\xed?\\x80i\\x85\\xca\\xedxp?\\xf8\\x16\\xe6\\xbf\\xec\\xff\\xb8?\\x16\\xe1{\\x9c\\x96\\xeb\\xd3?\\x88\\xe62\\x87\\x18=\\xcf?>><<NPA{\"dtype\":\"float64\",\"shape\":[10,1]}<<>>P&\\xb4\\xbc4\\x1b\\xe3?w\\xbaO\\xcf\\xde]\\xe9?\\xa8\\'\\xcb_\\x1a#\\xd1?$L\\x8cS-\\xc5\\xdc?\\xfe\\x93\\xe0\\xed~a\\xd9?\\xf4(n\\xc5\\x1f-\\xe0?\\xcc\\xd7\\xb2\\xc3\\xbdn\\xd3?p\\x90\\xe4\\xc5\\x86U\\xe6?\\xba\\xa1\\xca;\\xc8J\\xdf?V0\\x1a\\x19\\xad\\xcc\\xea?>><<NPA{\"dtype\":\"float64\",\"shape\":[10,1]}<<>>\\x12\\xe7\\xdc\\xf89\\x8d\\xe4?x\\x9e#p\\xd1\\x8d\\xd6?xE\\xb2\\x033\\xe5\\xde?[\\xbe)^Q\\xf8\\xea?\\x9ci\\xdf\\x19\\\\\\x12\\xca?\\x1b\\xb6\\xb3\\xe8\\x1b\\x05\\xe7?\\xd8<h.F`\\xd1?\\xe7\\x92+\\xf8\\x8f\\xc8\\xeb?#\\x87\\xb9\\x8b\\xdez\\xee?%\\xe8`\\xae\\xa1\\x0c\\xe0?>><<NPA{\"dtype\":\"float64\",\"shape\":[10,1]}<<>>\\xd4\\xfb\\xdb\\xcbo\\xdc\\xe2?\\xf8)\\xa9\\x90\\xf7m\\xeb?}\\xf3\\x91\\x96\\x9fz\\xe5?V:\\x10\\x861+\\xd1?\\xd8\\xfcu/\\x10g\\xd5?\\x13\\x98\\xc2*\\xbb\\xef\\xef?\\x80\\xdc\\xf0\\xa9\\xf7\\xc3\\xd6?\\xfan\\xfc\\xee\\x95\\x08\\xe4?\\xf0E-.\\x13~\\xed?\\x92\\xce\\xad\"\\x9c\\xd2\\xe9?>><<NPA{\"dtype\":\"float64\",\"shape\":[10,1]}<<>>\\xed\\xe6Y\\x9a\\xa0\\x8f\\xe2?\\xbc@Z\\xb0u\\xd1\\xdd?\\x00\\xa6`\\xe5d\\xe3`?\\x1f[\\x93\\x97[B\\xee?\\xa0_\\xeb\\xf9\\x11\\x17\\x90?\\xde\\xf7\\t\\xff\\xf8\\xba\\xe8?\\x98\\xd0\\x08\\rV\\xd6\\xb7?\\xbcE\\x90.=V\\xe5?`\\xb5\\xaa\\xb9\\xdc\\xe1\\xc6?t\\xdal\\xe7\\xf8\\x1e\\xec?>><<NPA{\"dtype\":\"float64\",\"shape\":[10,1]}<<>>\\x0e\\x1d\\xe4\\x1f\\xcc\\xf8\\xd0?\\x06\\xf2Ye\\x11\\xbb\\xe3?`\\xe7>\\x16-`\\xcf?\\xe5\\xfe1\\xb9\\x14\\xeb\\xea?\\xdc`hY\\x9b\\x86\\xd8?f5`\\xefn\\x01\\xd9?\\\\ec\\xa1?h\\xdb?S\\xc9\\xa0f\"_\\xec?\\x08\\x12\\x88\\xe6\\x83u\\xd7?\\x8cP\\x8fP\\xfd\\x1c\\xef?>><<NPA{\"dtype\":\"float64\",\"shape\":[10,1]}<<>>d\\x1a\\xdb\\xc1o2\\xe5?QT\\x93W\\xeb5\\xe7?R\\x0e_\\xf9$V\\xd1?\\xd6\\x01\\xd3\\xa1\\xb6\\x15\\xd0?\\xf5V\\xd3\\x90VA\\xe6?\\x96\\r\\x85z\\x16\\xd2\\xde?\\x80\\xac\\xed\\x16pJ\\x92?R,\\xf4\\x95\\xdc\\x91\\xdd?t\\x1a\\x18\\xb57\\xcb\\xe4?\\xf5\\x0f\\xde\\x97\\xc2\\\\\\xe6?>><<NPA{\"dtype\":\"float64\",\"shape\":[10,1]}<<>>\\xc6ti3%\\x8a\\xd7?\\x96\\xf3\\x02\\xda\\x0c\\x04\\xd6?\\xfe\\xd8i\\x8a\\x13\\n\\xed?\\x91\\xad6\\xd9\\xc8[\\xe5?D\\xe4\\x1f[\\xe4U\\xcb?\\xaaO\\xfc\\x9a\\xfdX\\xd0?\\xce\\xb9N#\\x17+\\xdd?\\xe8H\\x15\\'\\x1e<\\xcf?\\x85\\xa3\\xb5\\xa1\\xee\\x8c\\xe5?\\n!\\xbb\\xe7\\xa5\\xb4\\xd5?'"
      ]
     },
     "execution_count": 192,
     "metadata": {},
     "output_type": "execute_result"
    }
   ],
   "source": [
    "x[:100000]"
   ]
  },
  {
   "cell_type": "code",
   "execution_count": 194,
   "metadata": {
    "collapsed": false
   },
   "outputs": [
    {
     "data": {
      "text/plain": [
       "['NPA{\"dtype\":\"float64\",\"shape\":[10,1]}<<>>\\xdf\\xfb\\xb7\\xe8\\xe9I\\xe6?\\xb8$\\r\\x8f\\xf44\\xc5?\\xd8J\\x11A\\x0f\\x8d\\xef?\\xee/~U\\x81\\x80\\xeb?\\x1eMy<(V\\xd6?Pc\\x8c\\xdb\\x0e\\x9f\\xc8?h1dj\\x1b\\xdb\\xe3?\\xe1duB\\xfa\\xdc\\xeb?\\x00c\\xb5\\x17l&\\xe1?\\xd3\\xd7\\xee\\x1c\\xf7\\x98\\xe3?>><<NPA{\"dtype\":\"float64\",\"shape\":[10,1]}<<>>\\x86\\xf4A\\x8fXY\\xea?l\\x98(J\\xe6\\'\\xdc?]c96#(\\xe9?\\x80\\x84Q\\xa4\\xd35\\xa1?&\\xef\\xa5\\xdd\\x96\\xd1\\xed?\\x0c\\x92=x\\x99\\xd2\\xc6?x\\xec\\xe5g\\xfa5\\xcc?\\xf0\\xaa\\xd8\\xb3\\x81t\\xe1?\\x0f\\x91wb\\xea\\xb7\\xe4?@\\x80E6\\x95\\xeb\\x9f?',\n",
       " 'NPA{\"dtype\":\"float64\",\"shape\":[10,1]}<<>>P&\\xb4\\xbc4\\x1b\\xe3?w\\xbaO\\xcf\\xde]\\xe9?\\xa8\\'\\xcb_\\x1a#\\xd1?$L\\x8cS-\\xc5\\xdc?\\xfe\\x93\\xe0\\xed~a\\xd9?\\xf4(n\\xc5\\x1f-\\xe0?\\xcc\\xd7\\xb2\\xc3\\xbdn\\xd3?p\\x90\\xe4\\xc5\\x86U\\xe6?\\xba\\xa1\\xca;\\xc8J\\xdf?V0\\x1a\\x19\\xad\\xcc\\xea?>><<NPA{\"dtype\":\"float64\",\"shape\":[10,1]}<<>>\\x12\\xe7\\xdc\\xf89\\x8d\\xe4?x\\x9e#p\\xd1\\x8d\\xd6?xE\\xb2\\x033\\xe5\\xde?[\\xbe)^Q\\xf8\\xea?\\x9ci\\xdf\\x19\\\\\\x12\\xca?\\x1b\\xb6\\xb3\\xe8\\x1b\\x05\\xe7?\\xd8<h.F`\\xd1?\\xe7\\x92+\\xf8\\x8f\\xc8\\xeb?#\\x87\\xb9\\x8b\\xdez\\xee?%\\xe8`\\xae\\xa1\\x0c\\xe0?>><<NPA{\"dtype\":\"float64\",\"shape\":[10,1]}<<>>\\xd4\\xfb\\xdb\\xcbo\\xdc\\xe2?\\xf8)\\xa9\\x90\\xf7m\\xeb?}\\xf3\\x91\\x96\\x9fz\\xe5?V:\\x10\\x861+\\xd1?\\xd8\\xfcu/\\x10g\\xd5?\\x13\\x98\\xc2*\\xbb\\xef\\xef?\\x80\\xdc\\xf0\\xa9\\xf7\\xc3\\xd6?\\xfan\\xfc\\xee\\x95\\x08\\xe4?\\xf0E-.\\x13~\\xed?\\x92\\xce\\xad\"\\x9c\\xd2\\xe9?>><<NPA{\"dtype\":\"float64\",\"shape\":[10,1]}<<>>\\xed\\xe6Y\\x9a\\xa0\\x8f\\xe2?\\xbc@Z\\xb0u\\xd1\\xdd?\\x00\\xa6`\\xe5d\\xe3`?\\x1f[\\x93\\x97[B\\xee?\\xa0_\\xeb\\xf9\\x11\\x17\\x90?\\xde\\xf7\\t\\xff\\xf8\\xba\\xe8?\\x98\\xd0\\x08\\rV\\xd6\\xb7?\\xbcE\\x90.=V\\xe5?`\\xb5\\xaa\\xb9\\xdc\\xe1\\xc6?t\\xdal\\xe7\\xf8\\x1e\\xec?>><<NPA{\"dtype\":\"float64\",\"shape\":[10,1]}<<>>\\x0e\\x1d\\xe4\\x1f\\xcc\\xf8\\xd0?\\x06\\xf2Ye\\x11\\xbb\\xe3?`\\xe7>\\x16-`\\xcf?\\xe5\\xfe1\\xb9\\x14\\xeb\\xea?\\xdc`hY\\x9b\\x86\\xd8?f5`\\xefn\\x01\\xd9?\\\\ec\\xa1?h\\xdb?S\\xc9\\xa0f\"_\\xec?\\x08\\x12\\x88\\xe6\\x83u\\xd7?\\x8cP\\x8fP\\xfd\\x1c\\xef?>><<NPA{\"dtype\":\"float64\",\"shape\":[10,1]}<<>>d\\x1a\\xdb\\xc1o2\\xe5?QT\\x93W\\xeb5\\xe7?R\\x0e_\\xf9$V\\xd1?\\xd6\\x01\\xd3\\xa1\\xb6\\x15\\xd0?\\xf5V\\xd3\\x90VA\\xe6?\\x96\\r\\x85z\\x16\\xd2\\xde?\\x80\\xac\\xed\\x16pJ\\x92?R,\\xf4\\x95\\xdc\\x91\\xdd?t\\x1a\\x18\\xb57\\xcb\\xe4?\\xf5\\x0f\\xde\\x97\\xc2\\\\\\xe6?']"
      ]
     },
     "execution_count": 194,
     "metadata": {},
     "output_type": "execute_result"
    }
   ],
   "source": [
    "get_arrays.findall(x)"
   ]
  },
  {
   "cell_type": "code",
   "execution_count": 125,
   "metadata": {
    "collapsed": true
   },
   "outputs": [],
   "source": [
    "sc.stop()"
   ]
  },
  {
   "cell_type": "code",
   "execution_count": 126,
   "metadata": {
    "collapsed": false
   },
   "outputs": [],
   "source": [
    "from pyspark import SparkContext, SparkConf\n",
    "\n",
    "conf = SparkConf()\n",
    "conf.set('spark.python.profile', 'true')\n",
    "\n",
    "sc = SparkContext('local[2]', conf=conf, serializer=NumpySerializer())"
   ]
  },
  {
   "cell_type": "code",
   "execution_count": 199,
   "metadata": {
    "collapsed": true
   },
   "outputs": [],
   "source": [
    "def generate_arrays(l, s, n): \n",
    "    for i in range(n): \n",
    "        yield(np.random.rand(l, s))\n",
    "\n",
    "arrays = list(generate_arrays(100000,1,100))"
   ]
  },
  {
   "cell_type": "code",
   "execution_count": 7,
   "metadata": {
    "collapsed": true
   },
   "outputs": [],
   "source": [
    "ns = NumpySerializer()"
   ]
  },
  {
   "cell_type": "code",
   "execution_count": 8,
   "metadata": {
    "collapsed": false
   },
   "outputs": [],
   "source": [
    "res = ns.dumps(arrays)"
   ]
  },
  {
   "cell_type": "code",
   "execution_count": 9,
   "metadata": {
    "collapsed": false
   },
   "outputs": [
    {
     "data": {
      "text/plain": [
       "'NPALISTNPA<<>>(I1000\\nI3\\nt.<<>><f8<<>>\\xd0\\x05=\\x1e\\xb5c\\xde?\\xdf\\xaa\\x1f*\\x90\\xa8\\xe0?\\x99\\x16\\x8e\\x8c1g\\xe3?\\xf4B\\x90K\\xb7\\xd3\\xef?&AO\\xce)*\\xd2?\\xe4w\\xf6\\xac\\x1c\\x01\\xe6?\\x08:\\x1e!\\xa7x\\xc4?m\\x1b\\xf9\\xeb\\xa8c\\xed'"
      ]
     },
     "execution_count": 9,
     "metadata": {},
     "output_type": "execute_result"
    }
   ],
   "source": [
    "res[:100]"
   ]
  },
  {
   "cell_type": "code",
   "execution_count": 10,
   "metadata": {
    "collapsed": false
   },
   "outputs": [],
   "source": [
    "x = res[len('NPALIST'):].split('>><<')"
   ]
  },
  {
   "cell_type": "code",
   "execution_count": 11,
   "metadata": {
    "collapsed": false
   },
   "outputs": [
    {
     "data": {
      "text/plain": [
       "'NPA<<>>(I1000\\nI3\\nt.<<>><f8<<>>\\xd0\\x05=\\x1e\\xb5c\\xde?\\xdf\\xaa\\x1f*\\x90\\xa8\\xe0?\\x99\\x16\\x8e\\x8c1g\\xe3?\\xf4B\\x90K\\xb7\\xd3\\xef?&AO\\xce)*\\xd2?\\xe4w\\xf6\\xac\\x1c\\x01\\xe6?\\x08:\\x1e!\\xa7x\\xc4?m\\x1b\\xf9\\xeb\\xa8c\\xed?t\\xb0^\\x867\\x8c\\xc6?/\\x98I\\x1fR\\x1c\\xef?T\\x13\\xf3\\xdf\\x07\\x98\\xc8?\\x93I3\\xcbZ\\x00\\xe2?\\x82l\\xf4\\x14\\xbfB\\xef?\\xf2D\\x85\\xa6\\xee\\xc6\\xd9?\\xc0\\x11\\xe4\\xdd\\x82\\x1d\\x99?>\\xb4\\x08\\xdb@\\xf4\\xe9?\\xf2\\xe3\\xc0\\xf3\\xf8Q\\xea?\\xbaH\\xdd<Z\\x89\\xdc?8\\xe3`SCR\\xdb?t\\xc9\\\\\\xd03\\xd4\\xcd?\\xb0z\\xf9v\\xaeq\\xcd?\\x80\\x05'"
      ]
     },
     "execution_count": 11,
     "metadata": {},
     "output_type": "execute_result"
    }
   ],
   "source": [
    "x[0][:200]"
   ]
  },
  {
   "cell_type": "code",
   "execution_count": 12,
   "metadata": {
    "collapsed": false
   },
   "outputs": [
    {
     "data": {
      "text/plain": [
       "array([[ 0.47483566,  0.52057656,  0.60634687],\n",
       "       [ 0.99459424,  0.28382344,  0.68763574],\n",
       "       [ 0.15993203,  0.91841551,  0.17615408],\n",
       "       ..., \n",
       "       [ 0.39369234,  0.49611302,  0.33502906],\n",
       "       [ 0.29454165,  0.97429573,  0.86025263],\n",
       "       [ 0.69032917,  0.12008566,  0.34762298]])"
      ]
     },
     "execution_count": 12,
     "metadata": {},
     "output_type": "execute_result"
    }
   ],
   "source": [
    "ns.loads(x[0])"
   ]
  },
  {
   "cell_type": "code",
   "execution_count": 15,
   "metadata": {
    "collapsed": false
   },
   "outputs": [
    {
     "name": "stdout",
     "output_type": "stream",
     "text": [
      "1000 loops, best of 3: 964 µs per loop\n"
     ]
    }
   ],
   "source": [
    "%timeit x = ns.dumps(arrays)"
   ]
  },
  {
   "cell_type": "code",
   "execution_count": 16,
   "metadata": {
    "collapsed": false
   },
   "outputs": [
    {
     "name": "stdout",
     "output_type": "stream",
     "text": [
      "10000 loops, best of 3: 113 µs per loop\n"
     ]
    }
   ],
   "source": [
    "%%timeit \n",
    "for a in arrays: a.tostring()"
   ]
  },
  {
   "cell_type": "code",
   "execution_count": 17,
   "metadata": {
    "collapsed": false
   },
   "outputs": [],
   "source": [
    "pickle_ser = pyspark.serializers.AutoBatchedSerializer(pyspark.serializers.PickleSerializer(), 1)\n",
    "numpy_ser = pyspark.serializers.AutoBatchedSerializer(NumpySerializer())"
   ]
  },
  {
   "cell_type": "code",
   "execution_count": 18,
   "metadata": {
    "collapsed": true
   },
   "outputs": [],
   "source": [
    "import cStringIO"
   ]
  },
  {
   "cell_type": "code",
   "execution_count": 19,
   "metadata": {
    "collapsed": true
   },
   "outputs": [],
   "source": [
    "import itertools"
   ]
  },
  {
   "cell_type": "code",
   "execution_count": 20,
   "metadata": {
    "collapsed": true
   },
   "outputs": [],
   "source": [
    "class AutoBatchedSerializer2(pyspark.serializers.AutoBatchedSerializer): \n",
    "    def dump_stream(self, iterator, stream):\n",
    "        batch, best = 1, self.bestSize\n",
    "        iterator = iter(iterator)\n",
    "        while True:\n",
    "            vs = list(itertools.islice(iterator, batch))\n",
    "            if not vs:\n",
    "                break\n",
    "\n",
    "            bytes = self.serializer.dumps(vs)\n",
    "            pyspark.serializers.write_int(len(bytes), stream)\n",
    "            stream.write(bytes)\n",
    "\n",
    "            size = len(bytes)\n",
    "            #print 'batch: ', batch, 'size: ', size\n",
    "            if size < best:\n",
    "                batch *= 2\n",
    "            elif size > best * 10 and batch > 1:\n",
    "                batch //= 2"
   ]
  },
  {
   "cell_type": "code",
   "execution_count": 21,
   "metadata": {
    "collapsed": true
   },
   "outputs": [],
   "source": [
    "sio = cStringIO.StringIO()"
   ]
  },
  {
   "cell_type": "code",
   "execution_count": 23,
   "metadata": {
    "collapsed": false
   },
   "outputs": [
    {
     "name": "stdout",
     "output_type": "stream",
     "text": [
      "1000 loops, best of 3: 954 µs per loop\n"
     ]
    }
   ],
   "source": [
    "%%timeit \n",
    "numpy_ser.dump_stream(arrays, sio)\n",
    "sio.reset()"
   ]
  },
  {
   "cell_type": "code",
   "execution_count": 24,
   "metadata": {
    "collapsed": true
   },
   "outputs": [],
   "source": [
    "res = sio.getvalue()"
   ]
  },
  {
   "cell_type": "code",
   "execution_count": 26,
   "metadata": {
    "collapsed": false
   },
   "outputs": [
    {
     "name": "stdout",
     "output_type": "stream",
     "text": [
      "100 loops, best of 3: 5.65 ms per loop\n"
     ]
    }
   ],
   "source": [
    "%%timeit \n",
    "sio.reset()\n",
    "x = list(numpy_ser.load_stream(sio))"
   ]
  },
  {
   "cell_type": "code",
   "execution_count": 27,
   "metadata": {
    "collapsed": true
   },
   "outputs": [],
   "source": [
    "sio2 = cStringIO.StringIO()"
   ]
  },
  {
   "cell_type": "code",
   "execution_count": 28,
   "metadata": {
    "collapsed": false
   },
   "outputs": [
    {
     "name": "stdout",
     "output_type": "stream",
     "text": [
      "100 loops, best of 3: 2.13 ms per loop\n"
     ]
    }
   ],
   "source": [
    "%%timeit\n",
    "pickle_ser.dump_stream(arrays,sio2)\n",
    "sio2.reset()"
   ]
  },
  {
   "cell_type": "code",
   "execution_count": 30,
   "metadata": {
    "collapsed": false
   },
   "outputs": [
    {
     "name": "stdout",
     "output_type": "stream",
     "text": [
      "1000 loops, best of 3: 1.06 ms per loop\n"
     ]
    }
   ],
   "source": [
    "%%timeit\n",
    "sio2.reset()\n",
    "x = list(pickle_ser.load_stream(sio2))"
   ]
  },
  {
   "cell_type": "code",
   "execution_count": 218,
   "metadata": {
    "collapsed": true
   },
   "outputs": [],
   "source": [
    "%lprun -f pyspark.serializers.AutoBatchedSerializer.dump_stream pickle_ser.dump_stream(arrays, sio)"
   ]
  },
  {
   "cell_type": "code",
   "execution_count": 221,
   "metadata": {
    "collapsed": true
   },
   "outputs": [],
   "source": [
    "x = ns.dumps(arrays)"
   ]
  },
  {
   "cell_type": "code",
   "execution_count": 222,
   "metadata": {
    "collapsed": false
   },
   "outputs": [
    {
     "name": "stderr",
     "output_type": "stream",
     "text": [
      "/Users/rok/miniconda/lib/python2.7/site-packages/ipykernel/__main__.py:1: DeprecationWarning: elementwise == comparison failed; this will raise an error in the future.\n",
      "  if __name__ == '__main__':\n"
     ]
    },
    {
     "ename": "AssertionError",
     "evalue": "",
     "output_type": "error",
     "traceback": [
      "\u001b[0;31m---------------------------------------------------------------------------\u001b[0m",
      "\u001b[0;31mAssertionError\u001b[0m                            Traceback (most recent call last)",
      "\u001b[0;32m<ipython-input-222-23cf4e6c52d2>\u001b[0m in \u001b[0;36m<module>\u001b[0;34m()\u001b[0m\n\u001b[0;32m----> 1\u001b[0;31m \u001b[0;32massert\u001b[0m\u001b[0;34m(\u001b[0m\u001b[0mnp\u001b[0m\u001b[0;34m.\u001b[0m\u001b[0mall\u001b[0m\u001b[0;34m(\u001b[0m\u001b[0mns\u001b[0m\u001b[0;34m.\u001b[0m\u001b[0mloads\u001b[0m\u001b[0;34m(\u001b[0m\u001b[0mx\u001b[0m\u001b[0;34m)\u001b[0m \u001b[0;34m==\u001b[0m \u001b[0marr\u001b[0m\u001b[0;34m)\u001b[0m\u001b[0;34m)\u001b[0m\u001b[0;34m\u001b[0m\u001b[0m\n\u001b[0m",
      "\u001b[0;31mAssertionError\u001b[0m: "
     ]
    }
   ],
   "source": [
    "assert(np.all(ns.loads(x) == arr))"
   ]
  },
  {
   "cell_type": "code",
   "execution_count": 223,
   "metadata": {
    "collapsed": false
   },
   "outputs": [
    {
     "name": "stdout",
     "output_type": "stream",
     "text": [
      "The line_profiler extension is already loaded. To reload it, use:\n",
      "  %reload_ext line_profiler\n"
     ]
    }
   ],
   "source": [
    "%load_ext line_profiler"
   ]
  },
  {
   "cell_type": "code",
   "execution_count": 226,
   "metadata": {
    "collapsed": true
   },
   "outputs": [],
   "source": [
    "%lprun -f pyspark.serializers.PickleSerializer.dumps ns.dumps(arrays)"
   ]
  },
  {
   "cell_type": "code",
   "execution_count": 60,
   "metadata": {
    "collapsed": false
   },
   "outputs": [],
   "source": [
    "rdd = sc.parallelize(arrays, 100)"
   ]
  },
  {
   "cell_type": "code",
   "execution_count": 61,
   "metadata": {
    "collapsed": false
   },
   "outputs": [
    {
     "data": {
      "text/plain": [
       "BatchedSerializer(NumpySerializer(), 10)"
      ]
     },
     "execution_count": 61,
     "metadata": {},
     "output_type": "execute_result"
    }
   ],
   "source": [
    "rdd._jrdd_deserializer"
   ]
  },
  {
   "cell_type": "code",
   "execution_count": 62,
   "metadata": {
    "collapsed": false
   },
   "outputs": [
    {
     "data": {
      "text/plain": [
       "1000"
      ]
     },
     "execution_count": 62,
     "metadata": {},
     "output_type": "execute_result"
    }
   ],
   "source": [
    "rdd.count()"
   ]
  },
  {
   "cell_type": "code",
   "execution_count": 63,
   "metadata": {
    "collapsed": false
   },
   "outputs": [
    {
     "name": "stdout",
     "output_type": "stream",
     "text": [
      "============================================================\n",
      "Profile of RDD<id=1>\n",
      "============================================================\n",
      "         12000 function calls (10800 primitive calls) in 0.079 seconds\n",
      "\n",
      "   Ordered by: internal time, cumulative time\n",
      "\n",
      "   ncalls  tottime  percall  cumtime  percall filename:lineno(function)\n",
      "     1100    0.040    0.000    0.040    0.000 {method 'split' of 'str' objects}\n",
      "     1100    0.011    0.000    0.011    0.000 {method 'find' of 'str' objects}\n",
      " 1100/100    0.009    0.000    0.064    0.001 <ipython-input-34-eec8db71e4e3>:17(loads)\n",
      "      300    0.006    0.000    0.006    0.000 {method 'read' of 'file' objects}\n",
      "     1000    0.002    0.000    0.002    0.000 {numpy.core.multiarray.fromstring}\n",
      "     1000    0.002    0.000    0.002    0.000 {cPickle.loads}\n",
      "      100    0.001    0.000    0.004    0.000 serializers.py:259(dump_stream)\n",
      "     1100    0.001    0.000    0.073    0.000 rdd.py:1004(<genexpr>)\n",
      "     1000    0.001    0.000    0.001    0.000 {method 'reshape' of 'numpy.ndarray' objects}\n",
      "      200    0.001    0.000    0.072    0.000 serializers.py:136(load_stream)\n",
      "      200    0.001    0.000    0.071    0.000 serializers.py:155(_read_with_length)\n",
      "  200/100    0.001    0.000    0.001    0.000 <ipython-input-34-eec8db71e4e3>:4(dumps)\n",
      "      200    0.000    0.000    0.001    0.000 serializers.py:542(read_int)\n",
      "      100    0.000    0.000    0.001    0.000 serializers.py:217(load_stream)\n",
      "      100    0.000    0.000    0.079    0.001 worker.py:104(process)\n",
      "      200    0.000    0.000    0.073    0.000 {sum}\n",
      "      100    0.000    0.000    0.001    0.000 serializers.py:549(write_int)\n",
      "  200/100    0.000    0.000    0.074    0.001 rdd.py:2345(pipeline_func)\n",
      "      200    0.000    0.000    0.000    0.000 {method 'write' of 'file' objects}\n",
      "      300    0.000    0.000    0.074    0.000 rdd.py:316(func)\n",
      "      100    0.000    0.000    0.074    0.001 rdd.py:1004(<lambda>)\n",
      "      100    0.000    0.000    0.000    0.000 {cPickle.dumps}\n",
      "      200    0.000    0.000    0.000    0.000 rdd.py:861(func)\n",
      "      100    0.000    0.000    0.000    0.000 serializers.py:414(dumps)\n",
      "      100    0.000    0.000    0.000    0.000 serializers.py:220(_load_stream_without_unbatching)\n",
      "      100    0.000    0.000    0.000    0.000 {_struct.pack}\n",
      "      200    0.000    0.000    0.000    0.000 {_struct.unpack}\n",
      "      300    0.000    0.000    0.000    0.000 {isinstance}\n",
      "      100    0.000    0.000    0.000    0.000 rdd.py:995(<lambda>)\n",
      "      100    0.000    0.000    0.000    0.000 {built-in method from_iterable}\n",
      "      100    0.000    0.000    0.000    0.000 {operator.add}\n",
      "      400    0.000    0.000    0.000    0.000 {len}\n",
      "      100    0.000    0.000    0.000    0.000 {method 'join' of 'str' objects}\n",
      "      100    0.000    0.000    0.000    0.000 {iter}\n",
      "      100    0.000    0.000    0.000    0.000 {method 'disable' of '_lsprof.Profiler' objects}\n",
      "\n",
      "\n"
     ]
    }
   ],
   "source": [
    "sc.show_profiles()"
   ]
  },
  {
   "cell_type": "code",
   "execution_count": 57,
   "metadata": {
    "collapsed": false
   },
   "outputs": [
    {
     "name": "stdout",
     "output_type": "stream",
     "text": [
      "============================================================\n",
      "Profile of RDD<id=2>\n",
      "============================================================\n",
      "         5200 function calls (5100 primitive calls) in 0.019 seconds\n",
      "\n",
      "   Ordered by: internal time, cumulative time\n",
      "\n",
      "   ncalls  tottime  percall  cumtime  percall filename:lineno(function)\n",
      "      100    0.007    0.000    0.007    0.000 {cPickle.loads}\n",
      "      300    0.004    0.000    0.004    0.000 {method 'read' of 'file' objects}\n",
      "      100    0.001    0.000    0.003    0.000 serializers.py:259(dump_stream)\n",
      "      200    0.001    0.000    0.014    0.000 serializers.py:136(load_stream)\n",
      "     1100    0.001    0.000    0.014    0.000 rdd.py:1004(<genexpr>)\n",
      "      200    0.001    0.000    0.013    0.000 serializers.py:155(_read_with_length)\n",
      "      200    0.000    0.000    0.001    0.000 serializers.py:542(read_int)\n",
      "      100    0.000    0.000    0.019    0.000 worker.py:104(process)\n",
      "      100    0.000    0.000    0.000    0.000 serializers.py:217(load_stream)\n",
      "      100    0.000    0.000    0.000    0.000 {cPickle.dumps}\n",
      "      200    0.000    0.000    0.015    0.000 {sum}\n",
      "      100    0.000    0.000    0.001    0.000 serializers.py:549(write_int)\n",
      "      200    0.000    0.000    0.000    0.000 {method 'write' of 'file' objects}\n",
      "  200/100    0.000    0.000    0.015    0.000 rdd.py:2345(pipeline_func)\n",
      "      300    0.000    0.000    0.015    0.000 rdd.py:316(func)\n",
      "      100    0.000    0.000    0.015    0.000 rdd.py:1004(<lambda>)\n",
      "      200    0.000    0.000    0.000    0.000 rdd.py:861(func)\n",
      "      100    0.000    0.000    0.000    0.000 serializers.py:414(dumps)\n",
      "      100    0.000    0.000    0.000    0.000 {_struct.pack}\n",
      "      100    0.000    0.000    0.000    0.000 serializers.py:220(_load_stream_without_unbatching)\n",
      "      100    0.000    0.000    0.007    0.000 serializers.py:421(loads)\n",
      "      200    0.000    0.000    0.000    0.000 {_struct.unpack}\n",
      "      100    0.000    0.000    0.000    0.000 rdd.py:995(<lambda>)\n",
      "      100    0.000    0.000    0.000    0.000 {built-in method from_iterable}\n",
      "      100    0.000    0.000    0.000    0.000 {operator.add}\n",
      "      300    0.000    0.000    0.000    0.000 {len}\n",
      "      100    0.000    0.000    0.000    0.000 {iter}\n",
      "      100    0.000    0.000    0.000    0.000 {method 'disable' of '_lsprof.Profiler' objects}\n",
      "\n",
      "\n"
     ]
    }
   ],
   "source": [
    "sc.show_profiles()"
   ]
  },
  {
   "cell_type": "code",
   "execution_count": 30,
   "metadata": {
    "collapsed": true
   },
   "outputs": [],
   "source": [
    "arrs = list(generate_arrays(100000,3,100))"
   ]
  },
  {
   "cell_type": "code",
   "execution_count": 32,
   "metadata": {
    "collapsed": false
   },
   "outputs": [
    {
     "name": "stdout",
     "output_type": "stream",
     "text": [
      "10 loops, best of 3: 22.7 ms per loop\n"
     ]
    }
   ],
   "source": [
    "%%timeit\n",
    "for a in arrs:\n",
    "    a.tostring()"
   ]
  },
  {
   "cell_type": "code",
   "execution_count": 44,
   "metadata": {
    "collapsed": false
   },
   "outputs": [],
   "source": [
    "rdd2 = rdd._reserialize(NumpySerializer())"
   ]
  },
  {
   "cell_type": "code",
   "execution_count": 45,
   "metadata": {
    "collapsed": false
   },
   "outputs": [
    {
     "data": {
      "text/plain": [
       "100"
      ]
     },
     "execution_count": 45,
     "metadata": {},
     "output_type": "execute_result"
    }
   ],
   "source": [
    "rdd.count()"
   ]
  },
  {
   "cell_type": "code",
   "execution_count": 59,
   "metadata": {
    "collapsed": false
   },
   "outputs": [],
   "source": [
    "rdd._jrdd_deserializer = pyspark.serializers.BatchedSerializer(pyspark.serializers.PickleSerializer())"
   ]
  },
  {
   "cell_type": "code",
   "execution_count": 60,
   "metadata": {
    "collapsed": false
   },
   "outputs": [
    {
     "data": {
      "text/plain": [
       "100"
      ]
     },
     "execution_count": 60,
     "metadata": {},
     "output_type": "execute_result"
    }
   ],
   "source": [
    "rdd.count()"
   ]
  },
  {
   "cell_type": "code",
   "execution_count": 62,
   "metadata": {
    "collapsed": false
   },
   "outputs": [
    {
     "data": {
      "text/plain": [
       "BatchedSerializer(PickleSerializer(), -1)"
      ]
     },
     "execution_count": 62,
     "metadata": {},
     "output_type": "execute_result"
    }
   ],
   "source": [
    "rdd._jrdd_deserializer"
   ]
  },
  {
   "cell_type": "code",
   "execution_count": 61,
   "metadata": {
    "collapsed": false
   },
   "outputs": [
    {
     "name": "stdout",
     "output_type": "stream",
     "text": [
      "============================================================\n",
      "Profile of RDD<id=4>\n",
      "============================================================\n",
      "         4400 function calls (4300 primitive calls) in 0.013 seconds\n",
      "\n",
      "   Ordered by: internal time, cumulative time\n",
      "\n",
      "   ncalls  tottime  percall  cumtime  percall filename:lineno(function)\n",
      "      100    0.004    0.000    0.004    0.000 {cPickle.loads}\n",
      "      100    0.002    0.000    0.004    0.000 serializers.py:259(dump_stream)\n",
      "      200    0.001    0.000    0.006    0.000 serializers.py:155(_read_with_length)\n",
      "      300    0.001    0.000    0.001    0.000 {method 'read' of 'file' objects}\n",
      "      200    0.001    0.000    0.006    0.000 serializers.py:136(load_stream)\n",
      "      200    0.000    0.000    0.001    0.000 serializers.py:542(read_int)\n",
      "      100    0.000    0.000    0.000    0.000 {cPickle.dumps}\n",
      "      100    0.000    0.000    0.013    0.000 worker.py:104(process)\n",
      "      100    0.000    0.000    0.001    0.000 serializers.py:217(load_stream)\n",
      "      200    0.000    0.000    0.007    0.000 {sum}\n",
      "      100    0.000    0.000    0.001    0.000 <ipython-input-45-020d4d54a772>:4(dumps)\n",
      "      200    0.000    0.000    0.007    0.000 rdd.py:1004(<genexpr>)\n",
      "      200    0.000    0.000    0.000    0.000 {method 'write' of 'file' objects}\n",
      "      100    0.000    0.000    0.001    0.000 serializers.py:549(write_int)\n",
      "      300    0.000    0.000    0.008    0.000 rdd.py:316(func)\n",
      "  200/100    0.000    0.000    0.008    0.000 rdd.py:2345(pipeline_func)\n",
      "      100    0.000    0.000    0.007    0.000 rdd.py:1004(<lambda>)\n",
      "      200    0.000    0.000    0.000    0.000 rdd.py:861(func)\n",
      "      100    0.000    0.000    0.001    0.000 serializers.py:414(dumps)\n",
      "      100    0.000    0.000    0.004    0.000 serializers.py:421(loads)\n",
      "      100    0.000    0.000    0.000    0.000 {_struct.pack}\n",
      "      100    0.000    0.000    0.000    0.000 serializers.py:220(_load_stream_without_unbatching)\n",
      "      200    0.000    0.000    0.000    0.000 {_struct.unpack}\n",
      "      100    0.000    0.000    0.000    0.000 {built-in method from_iterable}\n",
      "      100    0.000    0.000    0.000    0.000 {operator.add}\n",
      "      100    0.000    0.000    0.000    0.000 rdd.py:995(<lambda>)\n",
      "      300    0.000    0.000    0.000    0.000 {len}\n",
      "      100    0.000    0.000    0.000    0.000 {iter}\n",
      "      100    0.000    0.000    0.000    0.000 {method 'disable' of '_lsprof.Profiler' objects}\n",
      "\n",
      "\n"
     ]
    }
   ],
   "source": [
    "sc.show_profiles()"
   ]
  },
  {
   "cell_type": "code",
   "execution_count": 47,
   "metadata": {
    "collapsed": false
   },
   "outputs": [
    {
     "name": "stdout",
     "output_type": "stream",
     "text": [
      "============================================================\n",
      "Profile of RDD<id=12>\n",
      "============================================================\n",
      "         288 function calls (284 primitive calls) in 0.496 seconds\n",
      "\n",
      "   Ordered by: internal time, cumulative time\n",
      "\n",
      "   ncalls  tottime  percall  cumtime  percall filename:lineno(function)\n",
      "        2    0.166    0.083    0.166    0.083 {cPickle.loads}\n",
      "        6    0.159    0.027    0.159    0.027 {method 'read' of 'file' objects}\n",
      "      102    0.119    0.001    0.495    0.005 rdd.py:1004(<genexpr>)\n",
      "        4    0.050    0.013    0.376    0.094 serializers.py:136(load_stream)\n",
      "        4    0.001    0.000    0.496    0.124 {sum}\n",
      "        2    0.000    0.000    0.000    0.000 serializers.py:259(dump_stream)\n",
      "        4    0.000    0.000    0.325    0.081 serializers.py:155(_read_with_length)\n",
      "        2    0.000    0.000    0.000    0.000 serializers.py:549(write_int)\n",
      "      6/2    0.000    0.000    0.496    0.248 rdd.py:2345(pipeline_func)\n",
      "        2    0.000    0.000    0.496    0.248 rdd.py:1004(<lambda>)\n",
      "        2    0.000    0.000    0.496    0.248 worker.py:104(process)\n",
      "        2    0.000    0.000    0.166    0.083 serializers.py:421(loads)\n",
      "        6    0.000    0.000    0.496    0.083 rdd.py:316(func)\n",
      "        4    0.000    0.000    0.000    0.000 serializers.py:542(read_int)\n",
      "        2    0.000    0.000    0.000    0.000 {cPickle.dumps}\n",
      "        4    0.000    0.000    0.000    0.000 {method 'write' of 'file' objects}\n",
      "        2    0.000    0.000    0.000    0.000 serializers.py:414(dumps)\n",
      "        4    0.000    0.000    0.000    0.000 rdd.py:861(func)\n",
      "        2    0.000    0.000    0.000    0.000 serializers.py:217(load_stream)\n",
      "      100    0.000    0.000    0.000    0.000 rdd.py:553(<lambda>)\n",
      "        2    0.000    0.000    0.000    0.000 {_struct.pack}\n",
      "        4    0.000    0.000    0.000    0.000 {_struct.unpack}\n",
      "        2    0.000    0.000    0.000    0.000 rdd.py:995(<lambda>)\n",
      "        6    0.000    0.000    0.000    0.000 {len}\n",
      "        2    0.000    0.000    0.000    0.000 rdd.py:288(func)\n",
      "        2    0.000    0.000    0.000    0.000 serializers.py:220(_load_stream_without_unbatching)\n",
      "        2    0.000    0.000    0.000    0.000 {operator.add}\n",
      "        2    0.000    0.000    0.000    0.000 {iter}\n",
      "        2    0.000    0.000    0.000    0.000 {built-in method from_iterable}\n",
      "        2    0.000    0.000    0.000    0.000 {method 'disable' of '_lsprof.Profiler' objects}\n",
      "\n",
      "\n"
     ]
    }
   ],
   "source": [
    "rdd2.count()\n",
    "sc.show_profiles()"
   ]
  },
  {
   "cell_type": "code",
   "execution_count": 64,
   "metadata": {
    "collapsed": false
   },
   "outputs": [],
   "source": [
    "import hickle"
   ]
  },
  {
   "cell_type": "code",
   "execution_count": 66,
   "metadata": {
    "collapsed": false
   },
   "outputs": [],
   "source": [
    "sco = cStringIO.StringIO()"
   ]
  },
  {
   "cell_type": "code",
   "execution_count": 75,
   "metadata": {
    "collapsed": false
   },
   "outputs": [
    {
     "name": "stdout",
     "output_type": "stream",
     "text": [
      "<type 'cStringIO.StringO'>\n"
     ]
    },
    {
     "ename": "FileError",
     "evalue": "Cannot open file. Please pass either a filename string, a file object, or a h5py.File",
     "output_type": "error",
     "traceback": [
      "\u001b[0;31m---------------------------------------------------------------------------\u001b[0m",
      "\u001b[0;31mFileError\u001b[0m                                 Traceback (most recent call last)",
      "\u001b[0;32m<ipython-input-75-c971f442d1be>\u001b[0m in \u001b[0;36m<module>\u001b[0;34m()\u001b[0m\n\u001b[0;32m----> 1\u001b[0;31m \u001b[0mget_ipython\u001b[0m\u001b[0;34m(\u001b[0m\u001b[0;34m)\u001b[0m\u001b[0;34m.\u001b[0m\u001b[0mrun_cell_magic\u001b[0m\u001b[0;34m(\u001b[0m\u001b[0;34mu'timeit'\u001b[0m\u001b[0;34m,\u001b[0m \u001b[0;34mu''\u001b[0m\u001b[0;34m,\u001b[0m \u001b[0;34mu'hickle.dump(arrays, sco)\\nsco.reset()'\u001b[0m\u001b[0;34m)\u001b[0m\u001b[0;34m\u001b[0m\u001b[0m\n\u001b[0m",
      "\u001b[0;32m/Users/rok/miniconda/lib/python2.7/site-packages/IPython/core/interactiveshell.pyc\u001b[0m in \u001b[0;36mrun_cell_magic\u001b[0;34m(self, magic_name, line, cell)\u001b[0m\n\u001b[1;32m   2101\u001b[0m             \u001b[0mmagic_arg_s\u001b[0m \u001b[0;34m=\u001b[0m \u001b[0mself\u001b[0m\u001b[0;34m.\u001b[0m\u001b[0mvar_expand\u001b[0m\u001b[0;34m(\u001b[0m\u001b[0mline\u001b[0m\u001b[0;34m,\u001b[0m \u001b[0mstack_depth\u001b[0m\u001b[0;34m)\u001b[0m\u001b[0;34m\u001b[0m\u001b[0m\n\u001b[1;32m   2102\u001b[0m             \u001b[0;32mwith\u001b[0m \u001b[0mself\u001b[0m\u001b[0;34m.\u001b[0m\u001b[0mbuiltin_trap\u001b[0m\u001b[0;34m:\u001b[0m\u001b[0;34m\u001b[0m\u001b[0m\n\u001b[0;32m-> 2103\u001b[0;31m                 \u001b[0mresult\u001b[0m \u001b[0;34m=\u001b[0m \u001b[0mfn\u001b[0m\u001b[0;34m(\u001b[0m\u001b[0mmagic_arg_s\u001b[0m\u001b[0;34m,\u001b[0m \u001b[0mcell\u001b[0m\u001b[0;34m)\u001b[0m\u001b[0;34m\u001b[0m\u001b[0m\n\u001b[0m\u001b[1;32m   2104\u001b[0m             \u001b[0;32mreturn\u001b[0m \u001b[0mresult\u001b[0m\u001b[0;34m\u001b[0m\u001b[0m\n\u001b[1;32m   2105\u001b[0m \u001b[0;34m\u001b[0m\u001b[0m\n",
      "\u001b[0;32m<decorator-gen-58>\u001b[0m in \u001b[0;36mtimeit\u001b[0;34m(self, line, cell)\u001b[0m\n",
      "\u001b[0;32m/Users/rok/miniconda/lib/python2.7/site-packages/IPython/core/magic.pyc\u001b[0m in \u001b[0;36m<lambda>\u001b[0;34m(f, *a, **k)\u001b[0m\n\u001b[1;32m    186\u001b[0m     \u001b[0;31m# but it's overkill for just that one bit of state.\u001b[0m\u001b[0;34m\u001b[0m\u001b[0;34m\u001b[0m\u001b[0m\n\u001b[1;32m    187\u001b[0m     \u001b[0;32mdef\u001b[0m \u001b[0mmagic_deco\u001b[0m\u001b[0;34m(\u001b[0m\u001b[0marg\u001b[0m\u001b[0;34m)\u001b[0m\u001b[0;34m:\u001b[0m\u001b[0;34m\u001b[0m\u001b[0m\n\u001b[0;32m--> 188\u001b[0;31m         \u001b[0mcall\u001b[0m \u001b[0;34m=\u001b[0m \u001b[0;32mlambda\u001b[0m \u001b[0mf\u001b[0m\u001b[0;34m,\u001b[0m \u001b[0;34m*\u001b[0m\u001b[0ma\u001b[0m\u001b[0;34m,\u001b[0m \u001b[0;34m**\u001b[0m\u001b[0mk\u001b[0m\u001b[0;34m:\u001b[0m \u001b[0mf\u001b[0m\u001b[0;34m(\u001b[0m\u001b[0;34m*\u001b[0m\u001b[0ma\u001b[0m\u001b[0;34m,\u001b[0m \u001b[0;34m**\u001b[0m\u001b[0mk\u001b[0m\u001b[0;34m)\u001b[0m\u001b[0;34m\u001b[0m\u001b[0m\n\u001b[0m\u001b[1;32m    189\u001b[0m \u001b[0;34m\u001b[0m\u001b[0m\n\u001b[1;32m    190\u001b[0m         \u001b[0;32mif\u001b[0m \u001b[0mcallable\u001b[0m\u001b[0;34m(\u001b[0m\u001b[0marg\u001b[0m\u001b[0;34m)\u001b[0m\u001b[0;34m:\u001b[0m\u001b[0;34m\u001b[0m\u001b[0m\n",
      "\u001b[0;32m/Users/rok/miniconda/lib/python2.7/site-packages/IPython/core/magics/execution.pyc\u001b[0m in \u001b[0;36mtimeit\u001b[0;34m(self, line, cell)\u001b[0m\n\u001b[1;32m   1038\u001b[0m             \u001b[0mnumber\u001b[0m \u001b[0;34m=\u001b[0m \u001b[0;36m1\u001b[0m\u001b[0;34m\u001b[0m\u001b[0m\n\u001b[1;32m   1039\u001b[0m             \u001b[0;32mfor\u001b[0m \u001b[0m_\u001b[0m \u001b[0;32min\u001b[0m \u001b[0mrange\u001b[0m\u001b[0;34m(\u001b[0m\u001b[0;36m1\u001b[0m\u001b[0;34m,\u001b[0m \u001b[0;36m10\u001b[0m\u001b[0;34m)\u001b[0m\u001b[0;34m:\u001b[0m\u001b[0;34m\u001b[0m\u001b[0m\n\u001b[0;32m-> 1040\u001b[0;31m                 \u001b[0mtime_number\u001b[0m \u001b[0;34m=\u001b[0m \u001b[0mtimer\u001b[0m\u001b[0;34m.\u001b[0m\u001b[0mtimeit\u001b[0m\u001b[0;34m(\u001b[0m\u001b[0mnumber\u001b[0m\u001b[0;34m)\u001b[0m\u001b[0;34m\u001b[0m\u001b[0m\n\u001b[0m\u001b[1;32m   1041\u001b[0m                 \u001b[0mworst_tuning\u001b[0m \u001b[0;34m=\u001b[0m \u001b[0mmax\u001b[0m\u001b[0;34m(\u001b[0m\u001b[0mworst_tuning\u001b[0m\u001b[0;34m,\u001b[0m \u001b[0mtime_number\u001b[0m \u001b[0;34m/\u001b[0m \u001b[0mnumber\u001b[0m\u001b[0;34m)\u001b[0m\u001b[0;34m\u001b[0m\u001b[0m\n\u001b[1;32m   1042\u001b[0m                 \u001b[0;32mif\u001b[0m \u001b[0mtime_number\u001b[0m \u001b[0;34m>=\u001b[0m \u001b[0;36m0.2\u001b[0m\u001b[0;34m:\u001b[0m\u001b[0;34m\u001b[0m\u001b[0m\n",
      "\u001b[0;32m/Users/rok/miniconda/lib/python2.7/site-packages/IPython/core/magics/execution.pyc\u001b[0m in \u001b[0;36mtimeit\u001b[0;34m(self, number)\u001b[0m\n\u001b[1;32m    137\u001b[0m         \u001b[0mgc\u001b[0m\u001b[0;34m.\u001b[0m\u001b[0mdisable\u001b[0m\u001b[0;34m(\u001b[0m\u001b[0;34m)\u001b[0m\u001b[0;34m\u001b[0m\u001b[0m\n\u001b[1;32m    138\u001b[0m         \u001b[0;32mtry\u001b[0m\u001b[0;34m:\u001b[0m\u001b[0;34m\u001b[0m\u001b[0m\n\u001b[0;32m--> 139\u001b[0;31m             \u001b[0mtiming\u001b[0m \u001b[0;34m=\u001b[0m \u001b[0mself\u001b[0m\u001b[0;34m.\u001b[0m\u001b[0minner\u001b[0m\u001b[0;34m(\u001b[0m\u001b[0mit\u001b[0m\u001b[0;34m,\u001b[0m \u001b[0mself\u001b[0m\u001b[0;34m.\u001b[0m\u001b[0mtimer\u001b[0m\u001b[0;34m)\u001b[0m\u001b[0;34m\u001b[0m\u001b[0m\n\u001b[0m\u001b[1;32m    140\u001b[0m         \u001b[0;32mfinally\u001b[0m\u001b[0;34m:\u001b[0m\u001b[0;34m\u001b[0m\u001b[0m\n\u001b[1;32m    141\u001b[0m             \u001b[0;32mif\u001b[0m \u001b[0mgcold\u001b[0m\u001b[0;34m:\u001b[0m\u001b[0;34m\u001b[0m\u001b[0m\n",
      "\u001b[0;32m<magic-timeit>\u001b[0m in \u001b[0;36minner\u001b[0;34m(_it, _timer)\u001b[0m\n",
      "\u001b[0;32m/Users/rok/miniconda/lib/python2.7/site-packages/hickle.pyc\u001b[0m in \u001b[0;36mdump\u001b[0;34m(py_obj, file_obj, mode, track_times, path, **kwargs)\u001b[0m\n\u001b[1;32m    306\u001b[0m     \u001b[0;32mtry\u001b[0m\u001b[0;34m:\u001b[0m\u001b[0;34m\u001b[0m\u001b[0m\n\u001b[1;32m    307\u001b[0m         \u001b[0;31m# Open the file\u001b[0m\u001b[0;34m\u001b[0m\u001b[0;34m\u001b[0m\u001b[0m\n\u001b[0;32m--> 308\u001b[0;31m         \u001b[0mh5f\u001b[0m \u001b[0;34m=\u001b[0m \u001b[0mfile_opener\u001b[0m\u001b[0;34m(\u001b[0m\u001b[0mfile_obj\u001b[0m\u001b[0;34m,\u001b[0m \u001b[0mmode\u001b[0m\u001b[0;34m,\u001b[0m \u001b[0mtrack_times\u001b[0m\u001b[0;34m)\u001b[0m\u001b[0;34m\u001b[0m\u001b[0m\n\u001b[0m\u001b[1;32m    309\u001b[0m         \u001b[0mh5f\u001b[0m\u001b[0;34m.\u001b[0m\u001b[0mattrs\u001b[0m\u001b[0;34m[\u001b[0m\u001b[0;34m\"CLASS\"\u001b[0m\u001b[0;34m]\u001b[0m \u001b[0;34m=\u001b[0m \u001b[0;34m'hickle'\u001b[0m\u001b[0;34m\u001b[0m\u001b[0m\n\u001b[1;32m    310\u001b[0m         \u001b[0mh5f\u001b[0m\u001b[0;34m.\u001b[0m\u001b[0mattrs\u001b[0m\u001b[0;34m[\u001b[0m\u001b[0;34m\"VERSION\"\u001b[0m\u001b[0;34m]\u001b[0m \u001b[0;34m=\u001b[0m \u001b[0;36m3\u001b[0m\u001b[0;34m\u001b[0m\u001b[0m\n",
      "\u001b[0;32m/Users/rok/miniconda/lib/python2.7/site-packages/hickle.pyc\u001b[0m in \u001b[0;36mfile_opener\u001b[0;34m(f, mode, track_times)\u001b[0m\n\u001b[1;32m    161\u001b[0m     \u001b[0;32melse\u001b[0m\u001b[0;34m:\u001b[0m\u001b[0;34m\u001b[0m\u001b[0m\n\u001b[1;32m    162\u001b[0m         \u001b[0;32mprint\u001b[0m\u001b[0;34m(\u001b[0m\u001b[0mtype\u001b[0m\u001b[0;34m(\u001b[0m\u001b[0mf\u001b[0m\u001b[0;34m)\u001b[0m\u001b[0;34m)\u001b[0m\u001b[0;34m\u001b[0m\u001b[0m\n\u001b[0;32m--> 163\u001b[0;31m         \u001b[0;32mraise\u001b[0m \u001b[0mFileError\u001b[0m\u001b[0;34m\u001b[0m\u001b[0m\n\u001b[0m\u001b[1;32m    164\u001b[0m \u001b[0;34m\u001b[0m\u001b[0m\n\u001b[1;32m    165\u001b[0m     \u001b[0mh5f\u001b[0m\u001b[0;34m.\u001b[0m\u001b[0m__class__\u001b[0m \u001b[0;34m=\u001b[0m \u001b[0mH5FileWrapper\u001b[0m\u001b[0;34m\u001b[0m\u001b[0m\n",
      "\u001b[0;31mFileError\u001b[0m: Cannot open file. Please pass either a filename string, a file object, or a h5py.File"
     ]
    }
   ],
   "source": [
    "%%timeit \n",
    "hickle.dump(arrays, sco)\n",
    "sco.reset()"
   ]
  },
  {
   "cell_type": "code",
   "execution_count": 76,
   "metadata": {
    "collapsed": false
   },
   "outputs": [
    {
     "name": "stdout",
     "output_type": "stream",
     "text": [
      "> \u001b[0;32m/Users/rok/miniconda/lib/python2.7/site-packages/hickle.py\u001b[0m(163)\u001b[0;36mfile_opener\u001b[0;34m()\u001b[0m\n",
      "\u001b[0;32m    161 \u001b[0;31m    \u001b[0;32melse\u001b[0m\u001b[0;34m:\u001b[0m\u001b[0;34m\u001b[0m\u001b[0m\n",
      "\u001b[0m\u001b[0;32m    162 \u001b[0;31m        \u001b[0;32mprint\u001b[0m\u001b[0;34m(\u001b[0m\u001b[0mtype\u001b[0m\u001b[0;34m(\u001b[0m\u001b[0mf\u001b[0m\u001b[0;34m)\u001b[0m\u001b[0;34m)\u001b[0m\u001b[0;34m\u001b[0m\u001b[0m\n",
      "\u001b[0m\u001b[0;32m--> 163 \u001b[0;31m        \u001b[0;32mraise\u001b[0m \u001b[0mFileError\u001b[0m\u001b[0;34m\u001b[0m\u001b[0m\n",
      "\u001b[0m\u001b[0;32m    164 \u001b[0;31m\u001b[0;34m\u001b[0m\u001b[0m\n",
      "\u001b[0m\u001b[0;32m    165 \u001b[0;31m    \u001b[0mh5f\u001b[0m\u001b[0;34m.\u001b[0m\u001b[0m__class__\u001b[0m \u001b[0;34m=\u001b[0m \u001b[0mH5FileWrapper\u001b[0m\u001b[0;34m\u001b[0m\u001b[0m\n",
      "\u001b[0m\n",
      "ipdb> u\n",
      "> \u001b[0;32m/Users/rok/miniconda/lib/python2.7/site-packages/hickle.py\u001b[0m(308)\u001b[0;36mdump\u001b[0;34m()\u001b[0m\n",
      "\u001b[0;32m    306 \u001b[0;31m    \u001b[0;32mtry\u001b[0m\u001b[0;34m:\u001b[0m\u001b[0;34m\u001b[0m\u001b[0m\n",
      "\u001b[0m\u001b[0;32m    307 \u001b[0;31m        \u001b[0;31m# Open the file\u001b[0m\u001b[0;34m\u001b[0m\u001b[0;34m\u001b[0m\u001b[0m\n",
      "\u001b[0m\u001b[0;32m--> 308 \u001b[0;31m        \u001b[0mh5f\u001b[0m \u001b[0;34m=\u001b[0m \u001b[0mfile_opener\u001b[0m\u001b[0;34m(\u001b[0m\u001b[0mfile_obj\u001b[0m\u001b[0;34m,\u001b[0m \u001b[0mmode\u001b[0m\u001b[0;34m,\u001b[0m \u001b[0mtrack_times\u001b[0m\u001b[0;34m)\u001b[0m\u001b[0;34m\u001b[0m\u001b[0m\n",
      "\u001b[0m\u001b[0;32m    309 \u001b[0;31m        \u001b[0mh5f\u001b[0m\u001b[0;34m.\u001b[0m\u001b[0mattrs\u001b[0m\u001b[0;34m[\u001b[0m\u001b[0;34m\"CLASS\"\u001b[0m\u001b[0;34m]\u001b[0m \u001b[0;34m=\u001b[0m \u001b[0;34m'hickle'\u001b[0m\u001b[0;34m\u001b[0m\u001b[0m\n",
      "\u001b[0m\u001b[0;32m    310 \u001b[0;31m        \u001b[0mh5f\u001b[0m\u001b[0;34m.\u001b[0m\u001b[0mattrs\u001b[0m\u001b[0;34m[\u001b[0m\u001b[0;34m\"VERSION\"\u001b[0m\u001b[0;34m]\u001b[0m \u001b[0;34m=\u001b[0m \u001b[0;36m3\u001b[0m\u001b[0;34m\u001b[0m\u001b[0m\n",
      "\u001b[0m\n",
      "ipdb> d\n",
      "> \u001b[0;32m/Users/rok/miniconda/lib/python2.7/site-packages/hickle.py\u001b[0m(163)\u001b[0;36mfile_opener\u001b[0;34m()\u001b[0m\n",
      "\u001b[0;32m    161 \u001b[0;31m    \u001b[0;32melse\u001b[0m\u001b[0;34m:\u001b[0m\u001b[0;34m\u001b[0m\u001b[0m\n",
      "\u001b[0m\u001b[0;32m    162 \u001b[0;31m        \u001b[0;32mprint\u001b[0m\u001b[0;34m(\u001b[0m\u001b[0mtype\u001b[0m\u001b[0;34m(\u001b[0m\u001b[0mf\u001b[0m\u001b[0;34m)\u001b[0m\u001b[0;34m)\u001b[0m\u001b[0;34m\u001b[0m\u001b[0m\n",
      "\u001b[0m\u001b[0;32m--> 163 \u001b[0;31m        \u001b[0;32mraise\u001b[0m \u001b[0mFileError\u001b[0m\u001b[0;34m\u001b[0m\u001b[0m\n",
      "\u001b[0m\u001b[0;32m    164 \u001b[0;31m\u001b[0;34m\u001b[0m\u001b[0m\n",
      "\u001b[0m\u001b[0;32m    165 \u001b[0;31m    \u001b[0mh5f\u001b[0m\u001b[0;34m.\u001b[0m\u001b[0m__class__\u001b[0m \u001b[0;34m=\u001b[0m \u001b[0mH5FileWrapper\u001b[0m\u001b[0;34m\u001b[0m\u001b[0m\n",
      "\u001b[0m\n",
      "ipdb> ?\n",
      "\n",
      "Documented commands (type help <topic>):\n",
      "========================================\n",
      "EOF    bt         cont      enable  jump  pdef    psource  run      unt   \n",
      "a      c          continue  exit    l     pdoc    q        s        until \n",
      "alias  cl         d         h       list  pfile   quit     step     up    \n",
      "args   clear      debug     help    n     pinfo   r        tbreak   w     \n",
      "b      commands   disable   ignore  next  pinfo2  restart  u        whatis\n",
      "break  condition  down      j       p     pp      return   unalias  where \n",
      "\n",
      "Miscellaneous help topics:\n",
      "==========================\n",
      "exec  pdb\n",
      "\n",
      "Undocumented commands:\n",
      "======================\n",
      "ll  longlist  retval  rv\n",
      "\n",
      "ipdb> quit\n"
     ]
    }
   ],
   "source": [
    "ipdb.pm()"
   ]
  },
  {
   "cell_type": "code",
   "execution_count": 80,
   "metadata": {
    "collapsed": false
   },
   "outputs": [],
   "source": [
    "import marshal"
   ]
  },
  {
   "cell_type": "code",
   "execution_count": 81,
   "metadata": {
    "collapsed": false
   },
   "outputs": [
    {
     "name": "stdout",
     "output_type": "stream",
     "text": [
      "10 loops, best of 3: 47.7 ms per loop\n"
     ]
    }
   ],
   "source": [
    "%timeit x = marshal.dumps(arrays)"
   ]
  },
  {
   "cell_type": "code",
   "execution_count": 82,
   "metadata": {
    "collapsed": false
   },
   "outputs": [
    {
     "name": "stdout",
     "output_type": "stream",
     "text": [
      "10 loops, best of 3: 28.2 ms per loop\n"
     ]
    }
   ],
   "source": [
    "%timeit x = cPickle.dumps(arrays, 2)"
   ]
  },
  {
   "cell_type": "code",
   "execution_count": 84,
   "metadata": {
    "collapsed": false
   },
   "outputs": [
    {
     "name": "stdout",
     "output_type": "stream",
     "text": [
      "10000 loops, best of 3: 38.8 µs per loop\n"
     ]
    }
   ],
   "source": [
    "%timeit marshal.dumps(arrays[0])"
   ]
  },
  {
   "cell_type": "code",
   "execution_count": 86,
   "metadata": {
    "collapsed": false
   },
   "outputs": [
    {
     "name": "stdout",
     "output_type": "stream",
     "text": [
      "100000 loops, best of 3: 14 µs per loop\n"
     ]
    }
   ],
   "source": [
    "%timeit cPickle.dumps(arrays[0], 2)"
   ]
  },
  {
   "cell_type": "code",
   "execution_count": 87,
   "metadata": {
    "collapsed": true
   },
   "outputs": [],
   "source": [
    "a = arrays[0]"
   ]
  },
  {
   "cell_type": "code",
   "execution_count": 89,
   "metadata": {
    "collapsed": false
   },
   "outputs": [],
   "source": [
    "buff = np.getbuffer(a)"
   ]
  },
  {
   "cell_type": "code",
   "execution_count": 99,
   "metadata": {
    "collapsed": false
   },
   "outputs": [
    {
     "name": "stdout",
     "output_type": "stream",
     "text": [
      "The slowest run took 5.07 times longer than the fastest. This could mean that an intermediate result is being cached.\n",
      "1000000 loops, best of 3: 988 ns per loop\n"
     ]
    }
   ],
   "source": [
    "%timeit a.tobytes()"
   ]
  },
  {
   "cell_type": "code",
   "execution_count": null,
   "metadata": {
    "collapsed": true
   },
   "outputs": [],
   "source": []
  }
 ],
 "metadata": {
  "kernelspec": {
   "display_name": "Python 2",
   "language": "python",
   "name": "python2"
  },
  "language_info": {
   "codemirror_mode": {
    "name": "ipython",
    "version": 2
   },
   "file_extension": ".py",
   "mimetype": "text/x-python",
   "name": "python",
   "nbconvert_exporter": "python",
   "pygments_lexer": "ipython2",
   "version": "2.7.11"
  }
 },
 "nbformat": 4,
 "nbformat_minor": 0
}
