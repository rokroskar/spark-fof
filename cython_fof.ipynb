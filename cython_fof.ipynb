{
 "cells": [
  {
   "cell_type": "code",
   "execution_count": 1,
   "metadata": {
    "collapsed": false
   },
   "outputs": [
    {
     "name": "stderr",
     "output_type": "stream",
     "text": [
      "/Users/rokstar/miniconda/lib/python2.7/site-packages/matplotlib/__init__.py:486: UserWarning: matplotlibrc text.usetex option can not be used unless TeX-3.1415 or later is installed on your system\n",
      "  'installed on your system') % tex_req)\n",
      "/Users/rokstar/miniconda/lib/python2.7/site-packages/matplotlib/__init__.py:493: UserWarning: matplotlibrc text.usetex can not be used with *Agg backend unless dvipng-1.5 or later is installed on your system\n",
      "  warnings.warn('matplotlibrc text.usetex can not be used with *Agg '\n",
      "/Users/rokstar/miniconda/lib/python2.7/site-packages/matplotlib/__init__.py:508: UserWarning: matplotlibrc text.usetex can not be used unless ghostscript-7.07 or later is installed on your system\n",
      "  'installed on your system') % gs_req)\n"
     ]
    }
   ],
   "source": [
    "import numpy as np\n",
    "\n",
    "import matplotlib.pylab as plt\n",
    "\n",
    "%matplotlib inline\n",
    "\n",
    "import fof"
   ]
  },
  {
   "cell_type": "code",
   "execution_count": 2,
   "metadata": {
    "collapsed": false
   },
   "outputs": [],
   "source": [
    "# create the arrays\n",
    "pdt = np.dtype([('pos','f4', 3), ('iGroup', 'i4'), ('iOrder', 'i4')])\n",
    "nps = 1000000\n",
    "ngs = 5\n",
    "particles = np.zeros(nps, dtype=pdt)\n",
    "done_ps = 0\n",
    "centers = np.random.rand(ngs,3)*2 - 1\n",
    "for group, center in zip(range(ngs), centers): \n",
    "    group_ps = nps/ngs\n",
    "    if nps - (done_ps + group_ps) < group_ps:\n",
    "        group_ps = nps - done_ps \n",
    "    particles['pos'][done_ps:done_ps+group_ps] = \\\n",
    "        np.random.multivariate_normal(center, [[.001,0,0],[0,.001,0],[0,0,.001]], group_ps)\n",
    "    done_ps += group_ps\n",
    "   \n",
    "particles['iOrder'] = range(nps)"
   ]
  },
  {
   "cell_type": "code",
   "execution_count": 3,
   "metadata": {
    "collapsed": false
   },
   "outputs": [
    {
     "name": "stderr",
     "output_type": "stream",
     "text": [
      "/Users/rokstar/miniconda/lib/python2.7/site-packages/matplotlib/font_manager.py:1288: UserWarning: findfont: Font family [u'serif'] not found. Falling back to Bitstream Vera Sans\n",
      "  (prop.get_family(), self.defaultFamily[fontext]))\n"
     ]
    },
    {
     "data": {
      "image/png": "[encoded data removed]",
      "text/plain": [
       "<matplotlib.figure.Figure at 0x10e8577d0>"
      ]
     },
     "metadata": {},
     "output_type": "display_data"
    }
   ],
   "source": [
    "f, axs = plt.subplots(1,2, subplot_kw={'aspect':'equal'}, figsize=(12,12))\n",
    "axs[0].plot(particles['pos'][:,0], particles['pos'][:,1], ',')\n",
    "axs[1].plot(particles['pos'][:,0], particles['pos'][:,2], ',')\n",
    "for ax in axs:\n",
    "    ax.set_xlim(-1,1); ax.set_ylim(-1,1)"
   ]
  },
  {
   "cell_type": "code",
   "execution_count": 5,
   "metadata": {
    "collapsed": false
   },
   "outputs": [
    {
     "name": "stdout",
     "output_type": "stream",
     "text": [
      "CPU times: user 27.8 s, sys: 70.7 ms, total: 27.9 s\n",
      "Wall time: 27.9 s\n"
     ]
    },
    {
     "data": {
      "text/plain": [
       "5"
      ]
     },
     "execution_count": 5,
     "metadata": {},
     "output_type": "execute_result"
    }
   ],
   "source": [
    "%time fof.run(particles, 0.02)"
   ]
  },
  {
   "cell_type": "code",
   "execution_count": 4,
   "metadata": {
    "collapsed": false
   },
   "outputs": [
    {
     "data": {
      "image/png": "[encoded data removed]",
      "text/plain": [
       "<matplotlib.figure.Figure at 0x1175c7610>"
      ]
     },
     "metadata": {},
     "output_type": "display_data"
    }
   ],
   "source": [
    "f, axs = plt.subplots(1,2, subplot_kw={'aspect':'equal'}, figsize=(12,12))\n",
    "for group in range(ngs+1): \n",
    "    inds = np.where(particles['iGroup'] == group)[0]\n",
    "    axs[0].plot(particles['pos'][inds,0], particles['pos'][inds,1], ',')\n",
    "    axs[1].plot(particles['pos'][inds,0], particles['pos'][inds,2], ',')\n",
    "for ax in axs:\n",
    "    ax.set_xlim(-1,1); ax.set_ylim(-1,1)"
   ]
  },
  {
   "cell_type": "code",
   "execution_count": 32,
   "metadata": {
    "collapsed": true
   },
   "outputs": [],
   "source": [
    "setup = \"\"\"\n",
    "import fof\n",
    "import numpy as np\n",
    "import spark_fof_c\n",
    "mins=np.array([0.,0.,0.])\n",
    "maxs=np.array([1.,1.,1.])\n",
    "point=np.array([0.5,0.5,0.5])\n",
    "mins_32 = mins.astype(np.float32)\n",
    "maxs_32 = maxs.astype(np.float32)\n",
    "point_32 = point.astype(np.float32)\n",
    "\"\"\""
   ]
  },
  {
   "cell_type": "code",
   "execution_count": 31,
   "metadata": {
    "collapsed": false
   },
   "outputs": [
    {
     "data": {
      "text/plain": [
       "[0.9535839557647705,\n",
       " 0.8923609256744385,\n",
       " 0.9031839370727539,\n",
       " 0.8951680660247803,\n",
       " 0.9193241596221924,\n",
       " 0.898425817489624,\n",
       " 0.9142448902130127,\n",
       " 0.8969850540161133,\n",
       " 0.8992099761962891,\n",
       " 0.8953008651733398]"
      ]
     },
     "execution_count": 31,
     "metadata": {},
     "output_type": "execute_result"
    }
   ],
   "source": [
    "timeit.repeat(\"fof.call_check_within(mins_32, maxs_32, point_32)\", setup=setup, repeat=10, number=100000)"
   ]
  },
  {
   "cell_type": "code",
   "execution_count": 33,
   "metadata": {
    "collapsed": false
   },
   "outputs": [
    {
     "data": {
      "text/plain": [
       "[0.34435105323791504,\n",
       " 0.32041287422180176,\n",
       " 0.312014102935791,\n",
       " 0.33949804306030273,\n",
       " 0.3078649044036865,\n",
       " 0.358288049697876,\n",
       " 0.3667490482330322,\n",
       " 0.31624603271484375,\n",
       " 0.3298821449279785,\n",
       " 0.3383769989013672]"
      ]
     },
     "execution_count": 33,
     "metadata": {},
     "output_type": "execute_result"
    }
   ],
   "source": [
    "timeit.repeat(\"spark_fof_c.in_rectangle_cython(mins,maxs,point_32)\", setup=setup, repeat=10, number=100000)"
   ]
  },
  {
   "cell_type": "code",
   "execution_count": 13,
   "metadata": {
    "collapsed": true
   },
   "outputs": [],
   "source": [
    "import spark_fof_c"
   ]
  },
  {
   "cell_type": "code",
   "execution_count": 35,
   "metadata": {
    "collapsed": false
   },
   "outputs": [
    {
     "name": "stdout",
     "output_type": "stream",
     "text": [
      "100000 loops, best of 3: 13.9 µs per loop\n"
     ]
    }
   ],
   "source": [
    "%%timeit mins=np.array([0.,0.,0.]); maxs=np.array([1.,1.,1.]); \\\n",
    "point=np.array([0.5,0.5,0.5]); mins_32 = mins.astype(np.float32); \\\n",
    "maxs_32 = maxs.astype(np.float32); point_32 = point.astype(np.float32);\n",
    "\n",
    "fof.call_check_within(mins_32, maxs_32, point_32)"
   ]
  },
  {
   "cell_type": "code",
   "execution_count": 34,
   "metadata": {
    "collapsed": false
   },
   "outputs": [
    {
     "name": "stdout",
     "output_type": "stream",
     "text": [
      "The slowest run took 6.14 times longer than the fastest. This could mean that an intermediate result is being cached.\n",
      "100000 loops, best of 3: 3.11 µs per loop\n"
     ]
    }
   ],
   "source": [
    "%timeit spark_fof_c.in_rectangle_cython(mins,maxs,point_32)"
   ]
  },
  {
   "cell_type": "code",
   "execution_count": null,
   "metadata": {
    "collapsed": true
   },
   "outputs": [],
   "source": []
  }
 ],
 "metadata": {
  "kernelspec": {
   "display_name": "Python 2",
   "language": "python",
   "name": "python2"
  },
  "language_info": {
   "codemirror_mode": {
    "name": "ipython",
    "version": 2
   },
   "file_extension": ".py",
   "mimetype": "text/x-python",
   "name": "python",
   "nbconvert_exporter": "python",
   "pygments_lexer": "ipython2",
   "version": "2.7.11"
  }
 },
 "nbformat": 4,
 "nbformat_minor": 0
}
