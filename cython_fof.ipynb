{
 "cells": [
  {
   "cell_type": "code",
   "execution_count": 1,
   "metadata": {
    "collapsed": true
   },
   "outputs": [],
   "source": [
    "import numpy as np"
   ]
  },
  {
   "cell_type": "code",
   "execution_count": 2,
   "metadata": {
    "collapsed": false
   },
   "outputs": [
    {
     "name": "stderr",
     "output_type": "stream",
     "text": [
      "/Users/rok/miniconda/lib/python2.7/site-packages/matplotlib/font_manager.py:273: UserWarning: Matplotlib is building the font cache using fc-list. This may take a moment.\n",
      "  warnings.warn('Matplotlib is building the font cache using fc-list. This may take a moment.')\n"
     ]
    }
   ],
   "source": [
    "import matplotlib.pylab as plt\n",
    "\n",
    "%matplotlib inline"
   ]
  },
  {
   "cell_type": "code",
   "execution_count": 3,
   "metadata": {
    "collapsed": true
   },
   "outputs": [],
   "source": [
    "import fof"
   ]
  },
  {
   "cell_type": "code",
   "execution_count": 42,
   "metadata": {
    "collapsed": false
   },
   "outputs": [],
   "source": [
    "# create the arrays\n",
    "pdt = np.dtype([('pos','f4', 3), ('iGroup', 'i4'), ('iOrder', 'i4')])\n",
    "nps = 10000\n",
    "ngs = 5\n",
    "particles = np.zeros(nps, dtype=pdt)\n",
    "done_ps = 0\n",
    "centers = np.random.rand(ngs,3) - .5\n",
    "for group, center in zip(range(ngs), centers): \n",
    "    group_ps = nps/ngs\n",
    "    if nps - (done_ps + group_ps) < group_ps:\n",
    "        group_ps = nps - done_ps \n",
    "    particles['pos'][done_ps:done_ps+group_ps] = \\\n",
    "        np.random.multivariate_normal(center, [[.001,0,0],[0,.001,0],[0,0,.001]], group_ps)\n",
    "    done_ps += group_ps\n",
    "   \n",
    "particles['iOrder'] = range(nps)"
   ]
  },
  {
   "cell_type": "code",
   "execution_count": 43,
   "metadata": {
    "collapsed": false
   },
   "outputs": [
    {
     "data": {
      "image/png": "[encoded data removed]",
      "text/plain": [
       "<matplotlib.figure.Figure at 0x114adbb90>"
      ]
     },
     "metadata": {},
     "output_type": "display_data"
    }
   ],
   "source": [
    "f, axs = plt.subplots(1,2, subplot_kw={'aspect':'equal'}, figsize=(12,12))\n",
    "axs[0].plot(particles['pos'][:,0], particles['pos'][:,1], ',')\n",
    "axs[1].plot(particles['pos'][:,0], particles['pos'][:,2], ',')\n",
    "for ax in axs:\n",
    "    ax.set_xlim(-1,1); ax.set_ylim(-1,1)"
   ]
  },
  {
   "cell_type": "code",
   "execution_count": 53,
   "metadata": {
    "collapsed": false
   },
   "outputs": [
    {
     "name": "stdout",
     "output_type": "stream",
     "text": [
      "Number of initial groups:  5\n",
      "Final number of groups:  5\n",
      "Number of initial groups:  5\n",
      "Final number of groups:  5\n",
      "Number of initial groups:  5\n",
      "Final number of groups:  5\n",
      "Number of initial groups:  5\n",
      "Final number of groups:  5\n",
      "Number of initial groups:  5\n",
      "Final number of groups:  5\n",
      "Number of initial groups:  5\n",
      "Final number of groups:  5\n",
      "Number of initial groups:  5\n",
      "Final number of groups:  5\n",
      "Number of initial groups:  5\n",
      "Final number of groups:  5\n",
      "Number of initial groups:  5\n",
      "Final number of groups:  5\n",
      "Number of initial groups:  5\n",
      "Final number of groups:  5\n",
      "Number of initial groups:  5\n",
      "Final number of groups:  5\n",
      "Number of initial groups:  5\n",
      "Final number of groups:  5\n",
      "Number of initial groups:  5\n",
      "Final number of groups:  5\n",
      "Number of initial groups:  5\n",
      "Final number of groups:  5\n",
      "Number of initial groups:  5\n",
      "Final number of groups:  5\n",
      "Number of initial groups:  5\n",
      "Final number of groups:  5\n",
      "Number of initial groups:  5\n",
      "Final number of groups:  5\n",
      "Number of initial groups:  5\n",
      "Final number of groups:  5\n",
      "Number of initial groups:  5\n",
      "Final number of groups:  5\n",
      "Number of initial groups:  5\n",
      "Final number of groups:  5\n",
      "Number of initial groups:  5\n",
      "Final number of groups:  5\n",
      "Number of initial groups:  5\n",
      "Final number of groups:  5\n",
      "Number of initial groups:  5\n",
      "Final number of groups:  5\n",
      "Number of initial groups:  5\n",
      "Final number of groups:  5\n",
      "Number of initial groups:  5\n",
      "Final number of groups:  5\n",
      "Number of initial groups:  5\n",
      "Final number of groups:  5\n",
      "Number of initial groups:  5\n",
      "Final number of groups:  5\n",
      "Number of initial groups:  5\n",
      "Final number of groups:  5\n",
      "Number of initial groups:  5\n",
      "Final number of groups:  5\n",
      "Number of initial groups:  5\n",
      "Final number of groups:  5\n",
      "Number of initial groups:  5\n",
      "Final number of groups:  5\n",
      "Number of initial groups:  5\n",
      "Final number of groups:  5\n",
      "Number of initial groups:  5\n",
      "Final number of groups:  5\n",
      "Number of initial groups:  5\n",
      "Final number of groups:  5\n",
      "Number of initial groups:  5\n",
      "Final number of groups:  5\n",
      "Number of initial groups:  5\n",
      "Final number of groups:  5\n",
      "Number of initial groups:  5\n",
      "Final number of groups:  5\n",
      "Number of initial groups:  5\n",
      "Final number of groups:  5\n",
      "Number of initial groups:  5\n",
      "Final number of groups:  5\n",
      "Number of initial groups:  5\n",
      "Final number of groups:  5\n",
      "Number of initial groups:  5\n",
      "Final number of groups:  5\n",
      "10 loops, best of 3: 49.9 ms per loop\n"
     ]
    }
   ],
   "source": [
    "%timeit fof.run(particles, 0.1)"
   ]
  },
  {
   "cell_type": "code",
   "execution_count": 51,
   "metadata": {
    "collapsed": false
   },
   "outputs": [],
   "source": [
    "inds = np.where(particles['iGroup'] == 2)"
   ]
  },
  {
   "cell_type": "code",
   "execution_count": 52,
   "metadata": {
    "collapsed": false
   },
   "outputs": [
    {
     "data": {
      "image/png": "[encoded data removed]",
      "text/plain": [
       "<matplotlib.figure.Figure at 0x115e6a590>"
      ]
     },
     "metadata": {},
     "output_type": "display_data"
    }
   ],
   "source": [
    "f, axs = plt.subplots(1,2, subplot_kw={'aspect':'equal'}, figsize=(12,12))\n",
    "for group in range(ngs+1): \n",
    "    inds = np.where(particles['iGroup'] == group)[0]\n",
    "    axs[0].plot(particles['pos'][inds,0], particles['pos'][inds,1], '.')\n",
    "    axs[1].plot(particles['pos'][inds,0], particles['pos'][inds,2], '.')\n",
    "for ax in axs:\n",
    "    ax.set_xlim(-1,1); ax.set_ylim(-1,1)"
   ]
  },
  {
   "cell_type": "code",
   "execution_count": null,
   "metadata": {
    "collapsed": true
   },
   "outputs": [],
   "source": []
  }
 ],
 "metadata": {
  "kernelspec": {
   "display_name": "Python 2",
   "language": "python",
   "name": "python2"
  },
  "language_info": {
   "codemirror_mode": {
    "name": "ipython",
    "version": 2
   },
   "file_extension": ".py",
   "mimetype": "text/x-python",
   "name": "python",
   "nbconvert_exporter": "python",
   "pygments_lexer": "ipython2",
   "version": "2.7.11"
  }
 },
 "nbformat": 4,
 "nbformat_minor": 0
}
