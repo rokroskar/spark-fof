{
 "cells": [
  {
   "cell_type": "markdown",
   "metadata": {},
   "source": [
    "## Make a simple synthetic dataset to test hierarchical merge in FOF algorithm\n",
    "\n",
    "#### the idea is this: \n",
    "\n",
    "* after the local FOF stage, each partition reports the particles it holds in the overlap region\n",
    "* do a reduceByKey or treeAggregate of some sort to collect the groups belonging to the same particles\n",
    "* produce a mapping of $G -> G_1$ and distribute to all hosts in form of broadcast lookup table"
   ]
  },
  {
   "cell_type": "code",
   "execution_count": 1,
   "metadata": {
    "collapsed": false
   },
   "outputs": [
    {
     "name": "stderr",
     "output_type": "stream",
     "text": [
      "/Users/rokstar/miniconda/lib/python2.7/site-packages/matplotlib/__init__.py:486: UserWarning: matplotlibrc text.usetex option can not be used unless TeX-3.1415 or later is installed on your system\n",
      "  'installed on your system') % tex_req)\n",
      "/Users/rokstar/miniconda/lib/python2.7/site-packages/matplotlib/__init__.py:493: UserWarning: matplotlibrc text.usetex can not be used with *Agg backend unless dvipng-1.5 or later is installed on your system\n",
      "  warnings.warn('matplotlibrc text.usetex can not be used with *Agg '\n",
      "/Users/rokstar/miniconda/lib/python2.7/site-packages/matplotlib/__init__.py:508: UserWarning: matplotlibrc text.usetex can not be used unless ghostscript-7.07 or later is installed on your system\n",
      "  'installed on your system') % gs_req)\n"
     ]
    }
   ],
   "source": [
    "import numpy as np\n",
    "import matplotlib.pylab as plt\n",
    "%matplotlib inline\n",
    "\n",
    "import sys\n",
    "sys.setrecursionlimit(sys.getrecursionlimit()*10)\n",
    "\n",
    "import matplotlib.patches as patches"
   ]
  },
  {
   "cell_type": "code",
   "execution_count": 2,
   "metadata": {
    "collapsed": false
   },
   "outputs": [],
   "source": [
    "import spark_fof\n",
    "reload(spark_fof)\n",
    "from spark_fof import Particle, groupID, get_bin, set_local_group"
   ]
  },
  {
   "cell_type": "code",
   "execution_count": 3,
   "metadata": {
    "collapsed": true
   },
   "outputs": [],
   "source": [
    "def plot_rectangle(rec, ax=None):\n",
    "    if ax is None: \n",
    "        ax = plt.subplot(aspect='equal')\n",
    "    \n",
    "    if isinstance(rec, (list, tuple)):\n",
    "        for r in rec: \n",
    "            plot_rectangle(r,ax)\n",
    "    \n",
    "    else:\n",
    "        size = (rec.maxes-rec.mins)\n",
    "        ax.add_patch(patches.Rectangle(rec.mins, size[0], size[1], fill=False, zorder=-1))\n",
    "    \n",
    "    plt.xlim(-1.1,1.1); plt.ylim(-1.1,1.1)"
   ]
  },
  {
   "cell_type": "markdown",
   "metadata": {},
   "source": [
    "## Set up data"
   ]
  },
  {
   "cell_type": "code",
   "execution_count": 4,
   "metadata": {
    "collapsed": false
   },
   "outputs": [],
   "source": [
    "data = []\n",
    "data.append(Particle(-.35,-.35,0,groupID(1,1)))\n",
    "data.append(Particle(-.27,-.27,1,groupID(1,1)))\n",
    "data.append(Particle(-.23,-.23,2,groupID(1,1)))\n",
    "data.append(Particle(-.19,-.19,3,groupID(1,1)))\n",
    "data.append(Particle(-.01,-.01,4,groupID(1,1)))\n",
    "data.append(Particle(0.01,0.01,5,groupID(1,1)))\n",
    "data.append(Particle(0.23,0.23,6,groupID(1,1)))\n",
    "data.append(Particle(0.29,0.29,7,groupID(1,1)))\n",
    "data.append(Particle(0.49,0.49,8,groupID(1,1)))\n",
    "data.append(Particle(0.51,0.51,9,groupID(1,1)))"
   ]
  },
  {
   "cell_type": "markdown",
   "metadata": {},
   "source": [
    "## Start Spark"
   ]
  },
  {
   "cell_type": "code",
   "execution_count": 5,
   "metadata": {
    "collapsed": true
   },
   "outputs": [],
   "source": [
    "import findspark\n",
    "findspark.init()"
   ]
  },
  {
   "cell_type": "code",
   "execution_count": 6,
   "metadata": {
    "collapsed": true
   },
   "outputs": [],
   "source": [
    "import pyspark\n",
    "from pyspark import SparkContext"
   ]
  },
  {
   "cell_type": "code",
   "execution_count": 7,
   "metadata": {
    "collapsed": false
   },
   "outputs": [],
   "source": [
    "sc = SparkContext(master='local[4]')"
   ]
  },
  {
   "cell_type": "code",
   "execution_count": 8,
   "metadata": {
    "collapsed": false
   },
   "outputs": [],
   "source": [
    "sc.addPyFile('spark_fof.py')"
   ]
  },
  {
   "cell_type": "markdown",
   "metadata": {},
   "source": [
    "## Set up the domains"
   ]
  },
  {
   "cell_type": "code",
   "execution_count": 9,
   "metadata": {
    "collapsed": true
   },
   "outputs": [],
   "source": [
    "N = 3\n",
    "tau = 0.05\n",
    "mins = [-1,-1]\n",
    "maxes= [1,1]\n",
    "domain_containers = spark_fof.setup_domain(N,tau)"
   ]
  },
  {
   "cell_type": "code",
   "execution_count": 10,
   "metadata": {
    "collapsed": false
   },
   "outputs": [
    {
     "name": "stderr",
     "output_type": "stream",
     "text": [
      "/Users/rokstar/miniconda/lib/python2.7/site-packages/matplotlib/font_manager.py:1288: UserWarning: findfont: Font family [u'serif'] not found. Falling back to Bitstream Vera Sans\n",
      "  (prop.get_family(), self.defaultFamily[fontext]))\n"
     ]
    },
    {
     "data": {
      "image/png": "[encoded data removed]",
      "text/plain": [
       "<matplotlib.figure.Figure at 0x11184e490>"
      ]
     },
     "metadata": {},
     "output_type": "display_data"
    }
   ],
   "source": [
    "f, ax = plt.subplots(subplot_kw={'aspect':'equal'}, figsize=(15,15))\n",
    "#plot_rectangle(domain_containers[0].bufferRectangle, ax=ax)\n",
    "for p in data: \n",
    "    plot_rectangle(domain_containers[get_bin(p.x, p.y, 2**N, mins,maxes)], ax=ax)\n",
    "    plot_rectangle(domain_containers[get_bin(p.x, p.y, 2**N, mins,maxes)].bufferRectangle, ax=ax)\n",
    "    ax.plot(p.x, p.y, 'o')\n",
    "for r in domain_containers: \n",
    "    plot_rectangle(r.parent, ax=ax)"
   ]
  },
  {
   "cell_type": "markdown",
   "metadata": {},
   "source": [
    "### Make the base RDD"
   ]
  },
  {
   "cell_type": "code",
   "execution_count": 11,
   "metadata": {
    "collapsed": false
   },
   "outputs": [],
   "source": [
    "p_rdd = sc.parallelize(data)"
   ]
  },
  {
   "cell_type": "code",
   "execution_count": 12,
   "metadata": {
    "collapsed": false
   },
   "outputs": [
    {
     "data": {
      "text/plain": [
       "[x=-0.35 y=-0.35 pid=0 gid=(id=1 cid=1),\n",
       " x=-0.27 y=-0.27 pid=1 gid=(id=1 cid=1),\n",
       " x=-0.23 y=-0.23 pid=2 gid=(id=1 cid=1),\n",
       " x=-0.19 y=-0.19 pid=3 gid=(id=1 cid=1),\n",
       " x=-0.01 y=-0.01 pid=4 gid=(id=1 cid=1),\n",
       " x=0.01 y=0.01 pid=5 gid=(id=1 cid=1),\n",
       " x=0.23 y=0.23 pid=6 gid=(id=1 cid=1),\n",
       " x=0.29 y=0.29 pid=7 gid=(id=1 cid=1),\n",
       " x=0.49 y=0.49 pid=8 gid=(id=1 cid=1),\n",
       " x=0.51 y=0.51 pid=9 gid=(id=1 cid=1)]"
      ]
     },
     "execution_count": 12,
     "metadata": {},
     "output_type": "execute_result"
    }
   ],
   "source": [
    "p_rdd.collect()"
   ]
  },
  {
   "cell_type": "markdown",
   "metadata": {},
   "source": [
    "### Partition particles into domains and set the partition part of local group ID"
   ]
  },
  {
   "cell_type": "code",
   "execution_count": 13,
   "metadata": {
    "collapsed": false
   },
   "outputs": [],
   "source": [
    "# partitioning duplicates the particles that are located in the boundary regions\n",
    "part_rdd = (p_rdd.mapPartitions(lambda particles: spark_fof.partition_particles(particles, domain_containers, tau))\n",
    "                 .partitionBy(len(domain_containers))\n",
    "                 .values()\n",
    "                 .mapPartitionsWithIndex(set_local_group))"
   ]
  },
  {
   "cell_type": "markdown",
   "metadata": {},
   "source": [
    "#### Check the partitioned RDD -- some of the particles will be duplicated"
   ]
  },
  {
   "cell_type": "code",
   "execution_count": 14,
   "metadata": {
    "collapsed": false
   },
   "outputs": [],
   "source": [
    "parts = part_rdd.collect()"
   ]
  },
  {
   "cell_type": "code",
   "execution_count": 15,
   "metadata": {
    "collapsed": false
   },
   "outputs": [
    {
     "name": "stdout",
     "output_type": "stream",
     "text": [
      "0 x=-0.35 y=-0.35 pid=0 gid=(id=1 cid=18)\n",
      "1 x=-0.27 y=-0.27 pid=1 gid=(id=1 cid=18)\n",
      "2 x=-0.23 y=-0.23 pid=2 gid=(id=1 cid=18)\n",
      "3 x=-0.23 y=-0.23 pid=2 gid=(id=1 cid=19)\n",
      "4 x=-0.23 y=-0.23 pid=2 gid=(id=1 cid=26)\n",
      "5 x=-0.23 y=-0.23 pid=2 gid=(id=1 cid=27)\n",
      "6 x=-0.19 y=-0.19 pid=3 gid=(id=1 cid=27)\n",
      "7 x=-0.01 y=-0.01 pid=4 gid=(id=1 cid=27)\n",
      "8 x=0.01 y=0.01 pid=5 gid=(id=1 cid=27)\n",
      "9 x=0.01 y=0.01 pid=5 gid=(id=1 cid=28)\n",
      "10 x=0.01 y=0.01 pid=5 gid=(id=1 cid=35)\n",
      "11 x=0.01 y=0.01 pid=5 gid=(id=1 cid=36)\n",
      "12 x=0.23 y=0.23 pid=6 gid=(id=1 cid=36)\n",
      "13 x=0.29 y=0.29 pid=7 gid=(id=1 cid=36)\n",
      "14 x=0.29 y=0.29 pid=7 gid=(id=1 cid=37)\n",
      "15 x=0.29 y=0.29 pid=7 gid=(id=1 cid=44)\n",
      "16 x=0.29 y=0.29 pid=7 gid=(id=1 cid=45)\n",
      "17 x=0.49 y=0.49 pid=8 gid=(id=1 cid=45)\n",
      "18 x=0.51 y=0.51 pid=9 gid=(id=1 cid=45)\n",
      "19 x=0.51 y=0.51 pid=9 gid=(id=1 cid=46)\n",
      "20 x=0.51 y=0.51 pid=9 gid=(id=1 cid=53)\n",
      "21 x=0.51 y=0.51 pid=9 gid=(id=1 cid=54)\n"
     ]
    }
   ],
   "source": [
    "for i,p in enumerate(parts): \n",
    "    print i, p"
   ]
  },
  {
   "cell_type": "markdown",
   "metadata": {},
   "source": [
    "### Group Merging stage\n",
    "\n",
    "#### Ugly hack to create a 'fake' data set to look like what we would get out of a first FOF pass"
   ]
  },
  {
   "cell_type": "code",
   "execution_count": 16,
   "metadata": {
    "collapsed": true
   },
   "outputs": [],
   "source": [
    "data_partitions = []\n",
    "for p in parts: \n",
    "    data_partitions.append(p.gid.partition)"
   ]
  },
  {
   "cell_type": "code",
   "execution_count": 17,
   "metadata": {
    "collapsed": false
   },
   "outputs": [],
   "source": [
    "fof_rdd = sc.parallelize(zip(data_partitions, parts)).partitionBy(len(domain_containers)).values()"
   ]
  },
  {
   "cell_type": "code",
   "execution_count": 39,
   "metadata": {
    "collapsed": false
   },
   "outputs": [
    {
     "data": {
      "text/plain": [
       "[x=-0.35 y=-0.35 pid=0 gid=(id=1 cid=18),\n",
       " x=-0.27 y=-0.27 pid=1 gid=(id=1 cid=18),\n",
       " x=-0.23 y=-0.23 pid=2 gid=(id=1 cid=18),\n",
       " x=-0.23 y=-0.23 pid=2 gid=(id=1 cid=19),\n",
       " x=-0.23 y=-0.23 pid=2 gid=(id=1 cid=26),\n",
       " x=-0.23 y=-0.23 pid=2 gid=(id=1 cid=27),\n",
       " x=-0.19 y=-0.19 pid=3 gid=(id=1 cid=27),\n",
       " x=-0.01 y=-0.01 pid=4 gid=(id=1 cid=27),\n",
       " x=0.01 y=0.01 pid=5 gid=(id=1 cid=27),\n",
       " x=0.01 y=0.01 pid=5 gid=(id=1 cid=28),\n",
       " x=0.01 y=0.01 pid=5 gid=(id=1 cid=35),\n",
       " x=0.01 y=0.01 pid=5 gid=(id=1 cid=36),\n",
       " x=0.23 y=0.23 pid=6 gid=(id=1 cid=36),\n",
       " x=0.29 y=0.29 pid=7 gid=(id=1 cid=36),\n",
       " x=0.29 y=0.29 pid=7 gid=(id=1 cid=37),\n",
       " x=0.29 y=0.29 pid=7 gid=(id=1 cid=44),\n",
       " x=0.29 y=0.29 pid=7 gid=(id=1 cid=45),\n",
       " x=0.49 y=0.49 pid=8 gid=(id=1 cid=45),\n",
       " x=0.51 y=0.51 pid=9 gid=(id=1 cid=45),\n",
       " x=0.51 y=0.51 pid=9 gid=(id=1 cid=46),\n",
       " x=0.51 y=0.51 pid=9 gid=(id=1 cid=53),\n",
       " x=0.51 y=0.51 pid=9 gid=(id=1 cid=54)]"
      ]
     },
     "execution_count": 39,
     "metadata": {},
     "output_type": "execute_result"
    }
   ],
   "source": [
    "fof_rdd.collect()"
   ]
  },
  {
   "cell_type": "code",
   "execution_count": 19,
   "metadata": {
    "collapsed": true
   },
   "outputs": [],
   "source": [
    "mappings_list = []"
   ]
  },
  {
   "cell_type": "code",
   "execution_count": 20,
   "metadata": {
    "collapsed": true
   },
   "outputs": [],
   "source": [
    "fof_analyzer = spark_fof.FOFAnalyzer(sc, N, tau, fof_rdd)"
   ]
  },
  {
   "cell_type": "code",
   "execution_count": 21,
   "metadata": {
    "collapsed": false
   },
   "outputs": [],
   "source": [
    "merged_rdd = fof_analyzer.merge_groups(0)"
   ]
  },
  {
   "cell_type": "code",
   "execution_count": 22,
   "metadata": {
    "collapsed": false
   },
   "outputs": [
    {
     "data": {
      "text/plain": [
       "[x=-0.35 y=-0.35 pid=0 gid=(id=1 cid=18),\n",
       " x=-0.27 y=-0.27 pid=1 gid=(id=1 cid=18),\n",
       " x=-0.23 y=-0.23 pid=2 gid=(id=1 cid=18),\n",
       " x=-0.23 y=-0.23 pid=2 gid=(id=1 cid=18),\n",
       " x=-0.23 y=-0.23 pid=2 gid=(id=1 cid=18),\n",
       " x=-0.23 y=-0.23 pid=2 gid=(id=1 cid=18),\n",
       " x=-0.19 y=-0.19 pid=3 gid=(id=1 cid=18),\n",
       " x=-0.01 y=-0.01 pid=4 gid=(id=1 cid=18),\n",
       " x=0.01 y=0.01 pid=5 gid=(id=1 cid=18),\n",
       " x=0.01 y=0.01 pid=5 gid=(id=1 cid=18),\n",
       " x=0.01 y=0.01 pid=5 gid=(id=1 cid=18),\n",
       " x=0.01 y=0.01 pid=5 gid=(id=1 cid=18),\n",
       " x=0.23 y=0.23 pid=6 gid=(id=1 cid=18),\n",
       " x=0.29 y=0.29 pid=7 gid=(id=1 cid=18),\n",
       " x=0.29 y=0.29 pid=7 gid=(id=1 cid=18),\n",
       " x=0.29 y=0.29 pid=7 gid=(id=1 cid=18),\n",
       " x=0.29 y=0.29 pid=7 gid=(id=1 cid=18),\n",
       " x=0.49 y=0.49 pid=8 gid=(id=1 cid=18),\n",
       " x=0.51 y=0.51 pid=9 gid=(id=1 cid=18),\n",
       " x=0.51 y=0.51 pid=9 gid=(id=1 cid=18),\n",
       " x=0.51 y=0.51 pid=9 gid=(id=1 cid=18),\n",
       " x=0.51 y=0.51 pid=9 gid=(id=1 cid=18)]"
      ]
     },
     "execution_count": 22,
     "metadata": {},
     "output_type": "execute_result"
    }
   ],
   "source": [
    "merged_rdd.collect()"
   ]
  },
  {
   "cell_type": "code",
   "execution_count": 23,
   "metadata": {
    "collapsed": false
   },
   "outputs": [
    {
     "data": {
      "text/plain": [
       "[x=-0.35 y=-0.35 pid=0 gid=(id=1 cid=18),\n",
       " x=-0.27 y=-0.27 pid=1 gid=(id=1 cid=18),\n",
       " x=-0.23 y=-0.23 pid=2 gid=(id=1 cid=18),\n",
       " x=-0.23 y=-0.23 pid=2 gid=(id=1 cid=19),\n",
       " x=-0.23 y=-0.23 pid=2 gid=(id=1 cid=26),\n",
       " x=-0.23 y=-0.23 pid=2 gid=(id=1 cid=27),\n",
       " x=-0.19 y=-0.19 pid=3 gid=(id=1 cid=27),\n",
       " x=-0.01 y=-0.01 pid=4 gid=(id=1 cid=27),\n",
       " x=0.01 y=0.01 pid=5 gid=(id=1 cid=27),\n",
       " x=0.01 y=0.01 pid=5 gid=(id=1 cid=28),\n",
       " x=0.01 y=0.01 pid=5 gid=(id=1 cid=35),\n",
       " x=0.01 y=0.01 pid=5 gid=(id=1 cid=36),\n",
       " x=0.23 y=0.23 pid=6 gid=(id=1 cid=36),\n",
       " x=0.29 y=0.29 pid=7 gid=(id=1 cid=36),\n",
       " x=0.29 y=0.29 pid=7 gid=(id=1 cid=37),\n",
       " x=0.29 y=0.29 pid=7 gid=(id=1 cid=44),\n",
       " x=0.29 y=0.29 pid=7 gid=(id=1 cid=45),\n",
       " x=0.49 y=0.49 pid=8 gid=(id=1 cid=45),\n",
       " x=0.51 y=0.51 pid=9 gid=(id=1 cid=45),\n",
       " x=0.51 y=0.51 pid=9 gid=(id=1 cid=46),\n",
       " x=0.51 y=0.51 pid=9 gid=(id=1 cid=53),\n",
       " x=0.51 y=0.51 pid=9 gid=(id=1 cid=54)]"
      ]
     },
     "execution_count": 23,
     "metadata": {},
     "output_type": "execute_result"
    }
   ],
   "source": [
    "fof_analyzer.particle_rdd.collect()"
   ]
  },
  {
   "cell_type": "code",
   "execution_count": null,
   "metadata": {
    "collapsed": true
   },
   "outputs": [],
   "source": []
  }
 ],
 "metadata": {
  "kernelspec": {
   "display_name": "Python 2",
   "language": "python",
   "name": "python2"
  },
  "language_info": {
   "codemirror_mode": {
    "name": "ipython",
    "version": 2
   },
   "file_extension": ".py",
   "mimetype": "text/x-python",
   "name": "python",
   "nbconvert_exporter": "python",
   "pygments_lexer": "ipython2",
   "version": "2.7.11"
  }
 },
 "nbformat": 4,
 "nbformat_minor": 0
}
