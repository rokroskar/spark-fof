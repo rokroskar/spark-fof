{
 "cells": [
  {
   "cell_type": "markdown",
   "metadata": {},
   "source": [
    "## Make a simple synthetic dataset to test hierarchical merge in FOF algorithm\n",
    "\n",
    "#### the idea is this: \n",
    "\n",
    "* after the local FOF stage, each partition reports the particles it holds in the overlap region\n",
    "* do a reduceByKey or treeAggregate of some sort to collect the groups belonging to the same particles\n",
    "* produce a mapping of $G -> G_1$ and distribute to all hosts in form of broadcast lookup table"
   ]
  },
  {
   "cell_type": "code",
   "execution_count": 1,
   "metadata": {
    "collapsed": false
   },
   "outputs": [
    {
     "name": "stderr",
     "output_type": "stream",
     "text": [
      "/Users/rokstar/miniconda/lib/python2.7/site-packages/matplotlib/__init__.py:486: UserWarning: matplotlibrc text.usetex option can not be used unless TeX-3.1415 or later is installed on your system\n",
      "  'installed on your system') % tex_req)\n",
      "/Users/rokstar/miniconda/lib/python2.7/site-packages/matplotlib/__init__.py:493: UserWarning: matplotlibrc text.usetex can not be used with *Agg backend unless dvipng-1.5 or later is installed on your system\n",
      "  warnings.warn('matplotlibrc text.usetex can not be used with *Agg '\n",
      "/Users/rokstar/miniconda/lib/python2.7/site-packages/matplotlib/__init__.py:508: UserWarning: matplotlibrc text.usetex can not be used unless ghostscript-7.07 or later is installed on your system\n",
      "  'installed on your system') % gs_req)\n"
     ]
    }
   ],
   "source": [
    "import numpy as np\n",
    "import matplotlib.pylab as plt\n",
    "%matplotlib inline\n",
    "\n",
    "import sys\n",
    "sys.setrecursionlimit(sys.getrecursionlimit()*10)\n",
    "\n",
    "import matplotlib.patches as patches"
   ]
  },
  {
   "cell_type": "code",
   "execution_count": 2,
   "metadata": {
    "collapsed": false
   },
   "outputs": [],
   "source": [
    "import spark_fof"
   ]
  },
  {
   "cell_type": "code",
   "execution_count": 3,
   "metadata": {
    "collapsed": true
   },
   "outputs": [],
   "source": [
    "def plot_rectangle(rec, ax=None):\n",
    "    if ax is None: \n",
    "        ax = plt.subplot(aspect='equal')\n",
    "    \n",
    "    if isinstance(rec, (list, tuple)):\n",
    "        for r in rec: \n",
    "            plot_rectangle(r,ax)\n",
    "    \n",
    "    else:\n",
    "        size = (rec.maxes-rec.mins)\n",
    "        ax.add_patch(patches.Rectangle(rec.mins, size[0], size[1], fill=False, zorder=-1))\n",
    "    \n",
    "    plt.xlim(-1.1,1.1); plt.ylim(-1.1,1.1)"
   ]
  },
  {
   "cell_type": "markdown",
   "metadata": {},
   "source": [
    "## Set up data"
   ]
  },
  {
   "cell_type": "code",
   "execution_count": 4,
   "metadata": {
    "collapsed": true
   },
   "outputs": [],
   "source": [
    "import numpy as np\n",
    "\n",
    "import matplotlib.pylab as plt\n",
    "\n",
    "%matplotlib inline\n",
    "\n",
    "import fof"
   ]
  },
  {
   "cell_type": "code",
   "execution_count": 5,
   "metadata": {
    "collapsed": true
   },
   "outputs": [],
   "source": [
    "# create the arrays\n",
    "pdt = np.dtype([('pos','f4', 3), ('iGroup', 'i4'), ('iOrder', 'i4')])\n",
    "nps = 100\n",
    "ngs = 5\n",
    "particles = np.zeros(nps, dtype=pdt)\n",
    "done_ps = 0\n",
    "centers = np.random.rand(ngs,3)*1.8 - 0.9\n",
    "for group, center in zip(range(ngs), centers): \n",
    "    group_ps = nps/ngs\n",
    "    if nps - (done_ps + group_ps) < group_ps:\n",
    "        group_ps = nps - done_ps \n",
    "    particles['pos'][done_ps:done_ps+group_ps] = \\\n",
    "        np.random.multivariate_normal(center, [[.005,0,0],[0,.005,0],[0,0,.005]], group_ps)\n",
    "    done_ps += group_ps\n",
    "   \n",
    "particles['iOrder'] = range(nps)"
   ]
  },
  {
   "cell_type": "markdown",
   "metadata": {},
   "source": [
    "## Start Spark"
   ]
  },
  {
   "cell_type": "code",
   "execution_count": 6,
   "metadata": {
    "collapsed": true
   },
   "outputs": [],
   "source": [
    "import findspark\n",
    "findspark.init()"
   ]
  },
  {
   "cell_type": "code",
   "execution_count": 7,
   "metadata": {
    "collapsed": false
   },
   "outputs": [],
   "source": [
    "import pyspark\n",
    "from pyspark import SparkContext, SparkConf"
   ]
  },
  {
   "cell_type": "code",
   "execution_count": 8,
   "metadata": {
    "collapsed": true
   },
   "outputs": [],
   "source": [
    "conf = SparkConf()"
   ]
  },
  {
   "cell_type": "code",
   "execution_count": 9,
   "metadata": {
    "collapsed": true
   },
   "outputs": [],
   "source": [
    "import os"
   ]
  },
  {
   "cell_type": "code",
   "execution_count": 10,
   "metadata": {
    "collapsed": false
   },
   "outputs": [],
   "source": [
    "os.environ['SPARK_DRIVER_MEMORY']= '4G'"
   ]
  },
  {
   "cell_type": "code",
   "execution_count": 11,
   "metadata": {
    "collapsed": false
   },
   "outputs": [
    {
     "data": {
      "text/plain": [
       "<pyspark.conf.SparkConf at 0x113cbd110>"
      ]
     },
     "execution_count": 11,
     "metadata": {},
     "output_type": "execute_result"
    }
   ],
   "source": [
    "conf.set('spark.python.profile', 'true')\n",
    "conf.set('spark.executor.memory', '5G')\n",
    "conf.set('spark.driver.memory', '4G')\n"
   ]
  },
  {
   "cell_type": "code",
   "execution_count": 12,
   "metadata": {
    "collapsed": false
   },
   "outputs": [],
   "source": [
    "sc = SparkContext(master='local[4]', conf=conf, batchSize=0)"
   ]
  },
  {
   "cell_type": "code",
   "execution_count": 13,
   "metadata": {
    "collapsed": false
   },
   "outputs": [],
   "source": [
    "sc.addPyFile('spark_fof.py')"
   ]
  },
  {
   "cell_type": "markdown",
   "metadata": {},
   "source": [
    "## Set up the domains"
   ]
  },
  {
   "cell_type": "code",
   "execution_count": 14,
   "metadata": {
    "collapsed": false
   },
   "outputs": [],
   "source": [
    "N = 4\n",
    "tau = 0.05\n",
    "mins = [-1,-1,-1]\n",
    "maxes= [1,1,1]\n",
    "domain_containers = spark_fof.setup_domain(N,tau,maxes,mins)"
   ]
  },
  {
   "cell_type": "code",
   "execution_count": 15,
   "metadata": {
    "collapsed": false
   },
   "outputs": [
    {
     "data": {
      "text/plain": [
       "[<matplotlib.lines.Line2D at 0x114cc0690>]"
      ]
     },
     "execution_count": 15,
     "metadata": {},
     "output_type": "execute_result"
    },
    {
     "name": "stderr",
     "output_type": "stream",
     "text": [
      "/Users/rokstar/miniconda/lib/python2.7/site-packages/matplotlib/font_manager.py:1288: UserWarning: findfont: Font family [u'serif'] not found. Falling back to Bitstream Vera Sans\n",
      "  (prop.get_family(), self.defaultFamily[fontext]))\n"
     ]
    },
    {
     "data": {
      "image/png": "[encoded data removed]",
      "text/plain": [
       "<matplotlib.figure.Figure at 0x114253710>"
      ]
     },
     "metadata": {},
     "output_type": "display_data"
    }
   ],
   "source": [
    "f, ax = plt.subplots(subplot_kw={'aspect':'equal'}, figsize=(15,15))\n",
    "#plot_rectangle(domain_containers[0].bufferRectangle, ax=ax)\n",
    "for p in particles: \n",
    "    x,y,z = p['pos']\n",
    "    plot_rectangle(domain_containers[spark_fof.get_bin_cython(x, y, z,2**N, -1,-1,-1, 1,1,1)], ax=ax)\n",
    "#    plot_rectangle(domain_containers[get_bin(p.x, p.y, 2**N, mins,maxes)].bufferRectangle, ax=ax)\n",
    "# for r in domain_containers: \n",
    "#     plot_rectangle(r.parent, ax=ax)\n",
    "ax.plot(particles['pos'][:,0], particles['pos'][:,1], '.')"
   ]
  },
  {
   "cell_type": "markdown",
   "metadata": {},
   "source": [
    "### Make the base RDD"
   ]
  },
  {
   "cell_type": "code",
   "execution_count": 16,
   "metadata": {
    "collapsed": false
   },
   "outputs": [],
   "source": [
    "p_rdd = sc.parallelize(particles)"
   ]
  },
  {
   "cell_type": "code",
   "execution_count": 17,
   "metadata": {
    "collapsed": false
   },
   "outputs": [
    {
     "data": {
      "text/plain": [
       "[([0.3688322603702545, -0.6101234555244446, 0.6099408864974976], 0, 0),\n",
       " ([0.3120541274547577, -0.675307035446167, 0.6730671525001526], 0, 1),\n",
       " ([0.44488945603370667, -0.6110955476760864, 0.457280695438385], 0, 2),\n",
       " ([0.4138353168964386, -0.5534836649894714, 0.5893735885620117], 0, 3),\n",
       " ([0.4081345796585083, -0.6472935080528259, 0.5498375296592712], 0, 4),\n",
       " ([0.37722575664520264, -0.5980820655822754, 0.540463924407959], 0, 5),\n",
       " ([0.3915318548679352, -0.6684837937355042, 0.6530113816261292], 0, 6),\n",
       " ([0.3814866840839386, -0.6563430428504944, 0.7016027569770813], 0, 7),\n",
       " ([0.44385597109794617, -0.781044602394104, 0.6080893278121948], 0, 8),\n",
       " ([0.5353909730911255, -0.5567878484725952, 0.5920332670211792], 0, 9),\n",
       " ([0.2823551595211029, -0.5323067903518677, 0.6467645168304443], 0, 10),\n",
       " ([0.4661885201931, -0.7385273575782776, 0.5200901627540588], 0, 11),\n",
       " ([0.3469484746456146, -0.5556879043579102, 0.5175505876541138], 0, 12),\n",
       " ([0.37491780519485474, -0.5455730557441711, 0.5355561375617981], 0, 13),\n",
       " ([0.4337168037891388, -0.7567577958106995, 0.7289950847625732], 0, 14),\n",
       " ([0.45867499709129333, -0.6658878326416016, 0.7432758808135986], 0, 15),\n",
       " ([0.4328220784664154, -0.7465195655822754, 0.5856640338897705], 0, 16),\n",
       " ([0.4387885332107544, -0.6438577771186829, 0.5600566267967224], 0, 17),\n",
       " ([0.4176252484321594, -0.6981483101844788, 0.5548536777496338], 0, 18),\n",
       " ([0.39761123061180115, -0.696831464767456, 0.5655437111854553], 0, 19),\n",
       " ([0.9319064021110535, -0.5091584920883179, -0.6067798137664795], 0, 20),\n",
       " ([0.8980746865272522, -0.4500257670879364, -0.5925406813621521], 0, 21),\n",
       " ([0.889989972114563, -0.4965425729751587, -0.560666024684906], 0, 22),\n",
       " ([0.8277555108070374, -0.4838550388813019, -0.5063705444335938], 0, 23),\n",
       " ([0.8629443049430847, -0.439815491437912, -0.5394346714019775], 0, 24),\n",
       " ([0.8843963742256165, -0.5024728775024414, -0.51718670129776], 0, 25),\n",
       " ([0.8442195057868958, -0.43056830763816833, -0.5033016204833984], 0, 26),\n",
       " ([0.8851189613342285, -0.39609649777412415, -0.6436885595321655], 0, 27),\n",
       " ([0.9638507962226868, -0.3120215833187103, -0.4792979657649994], 0, 28),\n",
       " ([0.827175498008728, -0.44963037967681885, -0.6104562878608704], 0, 29),\n",
       " ([0.8089191317558289, -0.5934577584266663, -0.5170765519142151], 0, 30),\n",
       " ([1.0771758556365967, -0.5425916910171509, -0.49463847279548645], 0, 31),\n",
       " ([0.8838980793952942, -0.4885076582431793, -0.6772534251213074], 0, 32),\n",
       " ([0.8505407571792603, -0.5987856388092041, -0.6478893756866455], 0, 33),\n",
       " ([0.8869955539703369, -0.4126334488391876, -0.5572336316108704], 0, 34),\n",
       " ([0.805959939956665, -0.49373817443847656, -0.6488362550735474], 0, 35),\n",
       " ([0.7550281286239624, -0.5082511901855469, -0.6072574853897095], 0, 36),\n",
       " ([0.9070413708686829, -0.6258770823478699, -0.433845579624176], 0, 37),\n",
       " ([0.955773115158081, -0.5496973991394043, -0.5849942564964294], 0, 38),\n",
       " ([0.85660320520401, -0.46612513065338135, -0.6016474366188049], 0, 39),\n",
       " ([0.7700240612030029, 0.9312323927879333, 0.10513152182102203], 0, 40),\n",
       " ([0.7943019270896912, 0.8225419521331787, 0.08198649436235428], 0, 41),\n",
       " ([0.7325495481491089, 0.7114074230194092, -0.014009248465299606], 0, 42),\n",
       " ([0.9095204472541809, 0.6771352291107178, 0.1712387204170227], 0, 43),\n",
       " ([0.9084171056747437, 0.6904294490814209, 0.14469771087169647], 0, 44),\n",
       " ([0.7445492148399353, 0.6384197473526001, 0.10453944653272629], 0, 45),\n",
       " ([0.9153607487678528, 0.680031955242157, 0.13755114376544952], 0, 46),\n",
       " ([0.8520736694335938, 0.662914514541626, 0.15097105503082275], 0, 47),\n",
       " ([0.8935602903366089, 0.6787083745002747, 0.06925926357507706], 0, 48),\n",
       " ([0.798326313495636, 0.7100362181663513, 0.06136167794466019], 0, 49),\n",
       " ([0.8051809072494507, 0.6748359799385071, 0.0387890562415123], 0, 50),\n",
       " ([0.764980137348175, 0.6967620253562927, 0.10268820822238922], 0, 51),\n",
       " ([0.8305802345275879, 0.8929513692855835, -0.013191168196499348], 0, 52),\n",
       " ([0.8858170509338379, 0.6719757318496704, 0.11918250471353531], 0, 53),\n",
       " ([0.776237964630127, 0.6562666296958923, 0.06879033148288727], 0, 54),\n",
       " ([0.8728578686714172, 0.7537253499031067, 0.17397579550743103], 0, 55),\n",
       " ([0.8419605493545532, 0.7391659021377563, 0.018269488587975502], 0, 56),\n",
       " ([0.9941255450248718, 0.7637882232666016, 0.030199017375707626], 0, 57),\n",
       " ([0.920871376991272, 0.6252495646476746, 0.12204428762197495], 0, 58),\n",
       " ([0.8788347840309143, 0.7833147644996643, 0.03652302548289299], 0, 59),\n",
       " ([-0.7788869142532349, 0.6939318180084229, -0.12801846861839294], 0, 60),\n",
       " ([-0.7367226481437683, 0.6693707704544067, 0.10776089876890182], 0, 61),\n",
       " ([-0.7736361622810364, 0.6124203205108643, 0.08119858056306839], 0, 62),\n",
       " ([-0.8679510354995728, 0.6455169320106506, 0.30747362971305847], 0, 63),\n",
       " ([-0.8939946293830872, 0.5914384722709656, 0.1136598140001297], 0, 64),\n",
       " ([-0.7589715719223022, 0.6641857624053955, 0.03794905170798302], 0, 65),\n",
       " ([-0.8236410617828369, 0.6801575422286987, -0.02665569633245468], 0, 66),\n",
       " ([-0.8154315948486328, 0.713705837726593, -0.0906636044383049], 0, 67),\n",
       " ([-0.8669268488883972, 0.7009073495864868, -0.01599561795592308], 0, 68),\n",
       " ([-0.9772241115570068, 0.6182494759559631, -0.03238458186388016], 0, 69),\n",
       " ([-0.8510967493057251, 0.6410834789276123, 0.015603136271238327], 0, 70),\n",
       " ([-0.8927981853485107, 0.709855318069458, 0.07251792401075363], 0, 71),\n",
       " ([-0.8854503631591797, 0.7244235277175903, 0.11554290354251862], 0, 72),\n",
       " ([-0.8841785788536072, 0.6143519282341003, 0.04835491627454758], 0, 73),\n",
       " ([-0.8840427398681641, 0.5859950184822083, -0.05817415192723274], 0, 74),\n",
       " ([-0.7649581432342529, 0.6873530745506287, 0.016607386991381645], 0, 75),\n",
       " ([-0.9325286746025085, 0.6834912300109863, -0.0061319442465901375], 0, 76),\n",
       " ([-0.7547905445098877, 0.5345654487609863, -0.011900221928954124], 0, 77),\n",
       " ([-0.8407140970230103, 0.6003095507621765, 0.055932555347681046], 0, 78),\n",
       " ([-0.8662042617797852, 0.577141284942627, 0.10332226008176804], 0, 79),\n",
       " ([-0.8414120078086853, 0.22700899839401245, 0.13895852863788605], 0, 80),\n",
       " ([-0.6672213077545166, 0.043999094516038895, 0.08432389050722122], 0, 81),\n",
       " ([-0.6731011271476746, 0.12070495635271072, 0.18980233371257782], 0, 82),\n",
       " ([-0.9421642422676086, 0.19701382517814636, 0.2821967899799347], 0, 83),\n",
       " ([-0.7907573580741882, 0.18551954627037048, 0.18586285412311554], 0, 84),\n",
       " ([-0.5557076334953308, -0.01799728348851204, 0.08984528481960297], 0, 85),\n",
       " ([-0.7070558667182922, 0.20911723375320435, 0.14417420327663422], 0, 86),\n",
       " ([-0.6626155972480774, 0.2002527415752411, 0.08912475407123566], 0, 87),\n",
       " ([-0.6606215238571167, 0.04960291460156441, 0.16498060524463654], 0, 88),\n",
       " ([-0.6747189164161682, 0.22067368030548096, 0.015297439880669117], 0, 89),\n",
       " ([-0.7293651700019836, 0.11826067417860031, 0.09016085416078568], 0, 90),\n",
       " ([-0.7607569098472595, 0.19866302609443665, 0.03273770585656166], 0, 91),\n",
       " ([-0.7014877796173096, 0.11571446806192398, 0.03981105238199234], 0, 92),\n",
       " ([-0.7485930323600769, 0.17494352161884308, 0.1852075755596161], 0, 93),\n",
       " ([-0.7016851305961609, 0.2586653530597687, -0.007230700459331274], 0, 94),\n",
       " ([-0.7562074661254883, 0.16343939304351807, -0.03138786181807518], 0, 95),\n",
       " ([-0.8261099457740784, 0.052951879799366, 0.05354695022106171], 0, 96),\n",
       " ([-0.5732349753379822, 0.16811677813529968, 0.06657757610082626], 0, 97),\n",
       " ([-0.6766225099563599, 0.09273171424865723, 0.09397747367620468], 0, 98),\n",
       " ([-0.6753075122833252, 0.2107209414243698, 0.08310028910636902], 0, 99)]"
      ]
     },
     "execution_count": 17,
     "metadata": {},
     "output_type": "execute_result"
    }
   ],
   "source": [
    "p_rdd.collect()"
   ]
  },
  {
   "cell_type": "markdown",
   "metadata": {},
   "source": [
    "### Partition particles into domains and set the partition part of local group ID"
   ]
  },
  {
   "cell_type": "code",
   "execution_count": 18,
   "metadata": {
    "collapsed": false
   },
   "outputs": [],
   "source": [
    "# partitioning duplicates the particles that are located in the boundary regions\n",
    "part_rdd = (p_rdd.mapPartitions(lambda particles: spark_fof.partition_particles(particles, domain_containers, tau))\n",
    "                 .partitionBy(len(domain_containers))\n",
    "                 .values()).cache()"
   ]
  },
  {
   "cell_type": "markdown",
   "metadata": {},
   "source": [
    "### Run the local FOF"
   ]
  },
  {
   "cell_type": "code",
   "execution_count": 19,
   "metadata": {
    "collapsed": true
   },
   "outputs": [],
   "source": [
    "from spark_util import spark_cython"
   ]
  },
  {
   "cell_type": "code",
   "execution_count": 20,
   "metadata": {
    "collapsed": true
   },
   "outputs": [],
   "source": [
    "run_fof = spark_cython('fof', 'run')"
   ]
  },
  {
   "cell_type": "code",
   "execution_count": 21,
   "metadata": {
    "collapsed": false
   },
   "outputs": [
    {
     "data": {
      "text/plain": [
       "[([0.8505407571792603, -0.5987856388092041, -0.6478893756866455], 0, 33),\n",
       " ([0.8505407571792603, -0.5987856388092041, -0.6478893756866455], 0, 33),\n",
       " ([0.8505407571792603, -0.5987856388092041, -0.6478893756866455], 0, 33),\n",
       " ([0.8505407571792603, -0.5987856388092041, -0.6478893756866455], 0, 33),\n",
       " ([0.7550281286239624, -0.5082511901855469, -0.6072574853897095], 0, 36),\n",
       " ([0.8980746865272522, -0.4500257670879364, -0.5925406813621521], 0, 21),\n",
       " ([0.8838980793952942, -0.4885076582431793, -0.6772534251213074], 0, 32),\n",
       " ([0.8838980793952942, -0.4885076582431793, -0.6772534251213074], 0, 32),\n",
       " ([0.8505407571792603, -0.5987856388092041, -0.6478893756866455], 0, 33),\n",
       " ([0.805959939956665, -0.49373817443847656, -0.6488362550735474], 0, 35)]"
      ]
     },
     "execution_count": 21,
     "metadata": {},
     "output_type": "execute_result"
    }
   ],
   "source": [
    "part_rdd.take(10)"
   ]
  },
  {
   "cell_type": "code",
   "execution_count": 22,
   "metadata": {
    "collapsed": true
   },
   "outputs": [],
   "source": [
    "def run_local_fof(particle_iter): \n",
    "    part_arr = np.fromiter(particle_iter, pdt)\n",
    "    if len(part_arr)>0:\n",
    "        run_fof(part_arr, 0.1)\n",
    "    return part_arr\n",
    "\n",
    "def set_group_id(partition_index, particle_iter):\n",
    "    part_arr = np.fromiter(particle_iter, pdt)\n",
    "    for i in range(len(part_arr)):\n",
    "        gid = part_arr[i]['iGroup']\n",
    "        part_arr[i]['iGroup'] = spark_fof.encode_gid(partition_index, gid, 16)\n",
    "    return part_arr"
   ]
  },
  {
   "cell_type": "code",
   "execution_count": 28,
   "metadata": {
    "collapsed": false
   },
   "outputs": [],
   "source": [
    "fof_rdd = part_rdd.mapPartitions(run_local_fof).mapPartitionsWithIndex(set_group_id)"
   ]
  },
  {
   "cell_type": "code",
   "execution_count": 27,
   "metadata": {
    "collapsed": false
   },
   "outputs": [
    {
     "data": {
      "text/plain": [
       "[([0.8505407571792603, -0.5987856388092041, -0.6478893756866455], 36569088, 33),\n",
       " ([0.8505407571792603, -0.5987856388092041, -0.6478893756866455], 36569088, 33),\n",
       " ([0.8505407571792603, -0.5987856388092041, -0.6478893756866455], 36569088, 33),\n",
       " ([0.8505407571792603, -0.5987856388092041, -0.6478893756866455], 36569088, 33),\n",
       " ([0.7550281286239624, -0.5082511901855469, -0.6072574853897095], 37552128, 36),\n",
       " ([0.8980746865272522, -0.4500257670879364, -0.5925406813621521], 37617665, 21),\n",
       " ([0.8838980793952942, -0.4885076582431793, -0.6772534251213074], 37617665, 32),\n",
       " ([0.8838980793952942, -0.4885076582431793, -0.6772534251213074], 37617665, 32),\n",
       " ([0.8505407571792603, -0.5987856388092041, -0.6478893756866455], 37617664, 33),\n",
       " ([0.805959939956665, -0.49373817443847656, -0.6488362550735474], 37617665, 35)]"
      ]
     },
     "execution_count": 27,
     "metadata": {},
     "output_type": "execute_result"
    }
   ],
   "source": [
    "parts[:10]"
   ]
  },
  {
   "cell_type": "markdown",
   "metadata": {},
   "source": [
    "### Group Merging stage"
   ]
  },
  {
   "cell_type": "code",
   "execution_count": 29,
   "metadata": {
    "collapsed": false
   },
   "outputs": [
    {
     "ename": "TypeError",
     "evalue": "setup_domain() takes exactly 4 arguments (2 given)",
     "output_type": "error",
     "traceback": [
      "\u001b[0;31m---------------------------------------------------------------------------\u001b[0m",
      "\u001b[0;31mTypeError\u001b[0m                                 Traceback (most recent call last)",
      "\u001b[0;32m<ipython-input-29-419b2408bd83>\u001b[0m in \u001b[0;36m<module>\u001b[0;34m()\u001b[0m\n\u001b[0;32m----> 1\u001b[0;31m \u001b[0mfof_analyzer\u001b[0m \u001b[0;34m=\u001b[0m \u001b[0mspark_fof\u001b[0m\u001b[0;34m.\u001b[0m\u001b[0mFOFAnalyzer\u001b[0m\u001b[0;34m(\u001b[0m\u001b[0msc\u001b[0m\u001b[0;34m,\u001b[0m \u001b[0mN\u001b[0m\u001b[0;34m,\u001b[0m \u001b[0mtau\u001b[0m\u001b[0;34m,\u001b[0m \u001b[0mfof_rdd\u001b[0m\u001b[0;34m)\u001b[0m\u001b[0;34m\u001b[0m\u001b[0m\n\u001b[0m",
      "\u001b[0;32m/private/var/folders/c0/w1kmhx108xl92w006s7jjhyh0000gn/T/spark-3d1ff777-091c-424e-9a19-a815e7738447/userFiles-05115b95-880e-4917-a037-c8e872593ed9/spark_fof.py\u001b[0m in \u001b[0;36m__init__\u001b[0;34m(self, sc, N, tau, particle_rdd)\u001b[0m\n\u001b[1;32m     39\u001b[0m         \u001b[0mself\u001b[0m\u001b[0;34m.\u001b[0m\u001b[0mN\u001b[0m \u001b[0;34m=\u001b[0m \u001b[0mN\u001b[0m\u001b[0;34m\u001b[0m\u001b[0m\n\u001b[1;32m     40\u001b[0m         \u001b[0mself\u001b[0m\u001b[0;34m.\u001b[0m\u001b[0mtau\u001b[0m \u001b[0;34m=\u001b[0m \u001b[0mtau\u001b[0m\u001b[0;34m\u001b[0m\u001b[0m\n\u001b[0;32m---> 41\u001b[0;31m         \u001b[0mself\u001b[0m\u001b[0;34m.\u001b[0m\u001b[0mdomain_containers\u001b[0m \u001b[0;34m=\u001b[0m \u001b[0msetup_domain\u001b[0m\u001b[0;34m(\u001b[0m\u001b[0mN\u001b[0m\u001b[0;34m,\u001b[0m \u001b[0mtau\u001b[0m\u001b[0;34m)\u001b[0m\u001b[0;34m\u001b[0m\u001b[0m\n\u001b[0m\u001b[1;32m     42\u001b[0m \u001b[0;34m\u001b[0m\u001b[0m\n\u001b[1;32m     43\u001b[0m         \u001b[0mself\u001b[0m\u001b[0;34m.\u001b[0m\u001b[0mparticle_rdd\u001b[0m \u001b[0;34m=\u001b[0m \u001b[0mparticle_rdd\u001b[0m\u001b[0;34m\u001b[0m\u001b[0m\n",
      "\u001b[0;31mTypeError\u001b[0m: setup_domain() takes exactly 4 arguments (2 given)"
     ]
    }
   ],
   "source": [
    "fof_analyzer = spark_fof.FOFAnalyzer(sc, N, tau, fof_rdd)"
   ]
  },
  {
   "cell_type": "code",
   "execution_count": 38,
   "metadata": {
    "collapsed": false
   },
   "outputs": [],
   "source": [
    "merged_rdd = fof_analyzer.merge_groups(0)"
   ]
  },
  {
   "cell_type": "code",
   "execution_count": 39,
   "metadata": {
    "collapsed": false
   },
   "outputs": [
    {
     "data": {
      "text/plain": [
       "[(-0.3499999940395355, -0.3499999940395355, 0, 77309411328),\n",
       " (-0.27000001072883606, -0.27000001072883606, 1, 77309411328),\n",
       " (-0.23000000417232513, -0.23000000417232513, 2, 77309411328),\n",
       " (-0.23000000417232513, -0.23000000417232513, 2, 77309411328),\n",
       " (-0.23000000417232513, -0.23000000417232513, 2, 77309411328),\n",
       " (-0.23000000417232513, -0.23000000417232513, 2, 77309411328),\n",
       " (-0.1899999976158142, -0.1899999976158142, 3, 77309411328),\n",
       " (-0.009999999776482582, -0.009999999776482582, 4, 77309411328),\n",
       " (0.009999999776482582, 0.009999999776482582, 5, 77309411328),\n",
       " (0.009999999776482582, 0.009999999776482582, 5, 77309411328),\n",
       " (0.009999999776482582, 0.009999999776482582, 5, 77309411328),\n",
       " (0.009999999776482582, 0.009999999776482582, 5, 77309411328),\n",
       " (0.23000000417232513, 0.23000000417232513, 6, 77309411328),\n",
       " (0.28999999165534973, 0.28999999165534973, 7, 77309411328),\n",
       " (0.28999999165534973, 0.28999999165534973, 7, 77309411328),\n",
       " (0.28999999165534973, 0.28999999165534973, 7, 77309411328),\n",
       " (0.28999999165534973, 0.28999999165534973, 7, 77309411328),\n",
       " (0.49000000953674316, 0.49000000953674316, 8, 77309411328),\n",
       " (0.5099999904632568, 0.5099999904632568, 9, 77309411328),\n",
       " (0.5099999904632568, 0.5099999904632568, 9, 77309411328),\n",
       " (0.5099999904632568, 0.5099999904632568, 9, 77309411328),\n",
       " (0.5099999904632568, 0.5099999904632568, 9, 77309411328)]"
      ]
     },
     "execution_count": 39,
     "metadata": {},
     "output_type": "execute_result"
    }
   ],
   "source": [
    "merged_rdd.collect()"
   ]
  },
  {
   "cell_type": "code",
   "execution_count": 40,
   "metadata": {
    "collapsed": false
   },
   "outputs": [
    {
     "name": "stdout",
     "output_type": "stream",
     "text": [
      "============================================================\n",
      "Profile of RDD<id=26>\n",
      "============================================================\n",
      "         2077 function calls (2013 primitive calls) in 0.007 seconds\n",
      "\n",
      "   Ordered by: internal time, cumulative time\n",
      "\n",
      "   ncalls  tottime  percall  cumtime  percall filename:lineno(function)\n",
      "       44    0.001    0.000    0.002    0.000 kdtree.py:119(min_distance_point)\n",
      "       64    0.001    0.000    0.005    0.000 serializers.py:259(dump_stream)\n",
      "       13    0.000    0.000    0.000    0.000 {cPickle.loads}\n",
      "       44    0.000    0.000    0.001    0.000 kdtree.py:15(minkowski_distance_p)\n",
      "       68    0.000    0.000    0.005    0.000 spark_fof.py:258(get_buffer_particles)\n",
      "       77    0.000    0.000    0.002    0.000 serializers.py:136(load_stream)\n",
      "       77    0.000    0.000    0.001    0.000 serializers.py:542(read_int)\n",
      "       44    0.000    0.000    0.000    0.000 {method 'reduce' of 'numpy.ufunc' objects}\n",
      "       64    0.000    0.000    0.000    0.000 serializers.py:217(load_stream)\n",
      "       77    0.000    0.000    0.001    0.000 serializers.py:155(_read_with_length)\n",
      "       64    0.000    0.000    0.007    0.000 worker.py:104(process)\n",
      "       22    0.000    0.000    0.002    0.000 spark_fof.py:386(in_buffer_zone)\n",
      "   128/64    0.000    0.000    0.000    0.000 rdd.py:2345(pipeline_func)\n",
      "       90    0.000    0.000    0.000    0.000 {method 'read' of 'file' objects}\n",
      "        4    0.000    0.000    0.000    0.000 {cPickle.dumps}\n",
      "       44    0.000    0.000    0.001    0.000 kdtree.py:49(minkowski_distance)\n",
      "       44    0.000    0.000    0.001    0.000 fromnumeric.py:1743(sum)\n",
      "      176    0.000    0.000    0.000    0.000 {numpy.core.multiarray.array}\n",
      "      176    0.000    0.000    0.000    0.000 numeric.py:414(asarray)\n",
      "       77    0.000    0.000    0.000    0.000 {_struct.unpack}\n",
      "       64    0.000    0.000    0.000    0.000 serializers.py:220(_load_stream_without_unbatching)\n",
      "      128    0.000    0.000    0.000    0.000 rdd.py:288(func)\n",
      "       64    0.000    0.000    0.000    0.000 spark_fof.py:62(<lambda>)\n",
      "       44    0.000    0.000    0.000    0.000 _methods.py:31(_sum)\n",
      "       64    0.000    0.000    0.000    0.000 {built-in method from_iterable}\n",
      "       64    0.000    0.000    0.000    0.000 {range}\n",
      "       44    0.000    0.000    0.000    0.000 {isinstance}\n",
      "       13    0.000    0.000    0.000    0.000 serializers.py:421(loads)\n",
      "        4    0.000    0.000    0.000    0.000 serializers.py:549(write_int)\n",
      "       64    0.000    0.000    0.000    0.000 {iter}\n",
      "       64    0.000    0.000    0.000    0.000 {method 'disable' of '_lsprof.Profiler' objects}\n",
      "        8    0.000    0.000    0.000    0.000 {method 'write' of 'file' objects}\n",
      "       22    0.000    0.000    0.000    0.000 rdd.py:1540(<lambda>)\n",
      "        4    0.000    0.000    0.000    0.000 spark_fof.py:271(pid_gid)\n",
      "        4    0.000    0.000    0.000    0.000 serializers.py:414(dumps)\n",
      "       21    0.000    0.000    0.000    0.000 {len}\n",
      "        4    0.000    0.000    0.000    0.000 {_struct.pack}\n",
      "\n",
      "\n",
      "============================================================\n",
      "Profile of RDD<id=27>\n",
      "============================================================\n",
      "         4845 function calls (4653 primitive calls) in 0.014 seconds\n",
      "\n",
      "   Ordered by: internal time, cumulative time\n",
      "\n",
      "   ncalls  tottime  percall  cumtime  percall filename:lineno(function)\n",
      "       64    0.001    0.000    0.002    0.000 shuffle.py:69(_get_local_dirs)\n",
      "       64    0.001    0.000    0.004    0.000 shuffle.py:196(__init__)\n",
      "       64    0.001    0.000    0.006    0.000 shuffle.py:229(mergeValues)\n",
      "       16    0.001    0.000    0.001    0.000 {cPickle.dumps}\n",
      "       64    0.001    0.000    0.001    0.000 posixpath.py:61(join)\n",
      "       13    0.000    0.000    0.000    0.000 {cPickle.loads}\n",
      "       64    0.000    0.000    0.002    0.000 shuffle.py:37(get_used_memory)\n",
      "       64    0.000    0.000    0.011    0.000 rdd.py:1774(combineLocally)\n",
      "       64    0.000    0.000    0.000    0.000 {psutil._psutil_osx.proc_memory_info}\n",
      "       64    0.000    0.000    0.001    0.000 _psosx.py:267(memory_info)\n",
      "       96    0.000    0.000    0.001    0.000 rdd.py:1697(add_shuffle_key)\n",
      "        4    0.000    0.000    0.000    0.000 {open}\n",
      "   256/64    0.000    0.000    0.011    0.000 rdd.py:2345(pipeline_func)\n",
      "       64    0.000    0.000    0.001    0.000 shuffle.py:134(_compressed_serializer)\n",
      "       64    0.000    0.000    0.000    0.000 <string>:8(__new__)\n",
      "       64    0.000    0.000    0.000    0.000 serializers.py:217(load_stream)\n",
      "       77    0.000    0.000    0.002    0.000 serializers.py:136(load_stream)\n",
      "       77    0.000    0.000    0.000    0.000 serializers.py:542(read_int)\n",
      "       64    0.000    0.000    0.014    0.000 worker.py:104(process)\n",
      "      128    0.000    0.000    0.011    0.000 rdd.py:316(func)\n",
      "       64    0.000    0.000    0.000    0.000 UserDict.py:91(get)\n",
      "       64    0.000    0.000    0.000    0.000 shuffle.py:337(items)\n",
      "       77    0.000    0.000    0.001    0.000 serializers.py:155(_read_with_length)\n",
      "        4    0.000    0.000    0.000    0.000 {cPickle.load}\n",
      "       64    0.000    0.000    0.000    0.000 serializers.py:481(__init__)\n",
      "      128    0.000    0.000    0.000    0.000 serializers.py:127(__init__)\n",
      "       64    0.000    0.000    0.002    0.000 __init__.py:936(memory_info)\n",
      "       64    0.000    0.000    0.000    0.000 serializers.py:255(__init__)\n",
      "       22    0.000    0.000    0.000    0.000 spark_fof.py:271(pid_gid)\n",
      "       16    0.000    0.000    0.000    0.000 copy.py:145(deepcopy)\n",
      "       90    0.000    0.000    0.000    0.000 {method 'read' of 'file' objects}\n",
      "       64    0.000    0.000    0.002    0.000 serializers.py:132(dump_stream)\n",
      "       32    0.000    0.000    0.000    0.000 serializers.py:143(_write_with_length)\n",
      "       64    0.000    0.000    0.001    0.000 _psosx.py:196(wrapper)\n",
      "      128    0.000    0.000    0.000    0.000 rdd.py:288(func)\n",
      "        4    0.000    0.000    0.001    0.000 broadcast.py:82(load)\n",
      "       64    0.000    0.000    0.000    0.000 serializers.py:220(_load_stream_without_unbatching)\n",
      "       16    0.000    0.000    0.000    0.000 copy.py:267(_keep_alive)\n",
      "      192    0.000    0.000    0.000    0.000 {method 'startswith' of 'str' objects}\n",
      "       22    0.000    0.000    0.001    0.000 spark_fof.py:79(<lambda>)\n",
      "       64    0.000    0.000    0.000    0.000 {method 'write' of 'file' objects}\n",
      "       64    0.000    0.000    0.000    0.000 {built-in method __new__ of type object at 0x100186920}\n",
      "       64    0.000    0.000    0.000    0.000 UserDict.py:103(__contains__)\n",
      "       64    0.000    0.000    0.000    0.000 {method 'split' of 'str' objects}\n",
      "       64    0.000    0.000    0.000    0.000 rdd.py:366(func)\n",
      "       80    0.000    0.000    0.000    0.000 {isinstance}\n",
      "       64    0.000    0.000    0.000    0.000 shuffle.py:118(__init__)\n",
      "       32    0.000    0.000    0.000    0.000 serializers.py:549(write_int)\n",
      "       64    0.000    0.000    0.000    0.000 {min}\n",
      "       64    0.000    0.000    0.000    0.000 UserDict.py:35(__getitem__)\n",
      "       48    0.000    0.000    0.000    0.000 {_struct.pack}\n",
      "      128    0.000    0.000    0.000    0.000 {posix.getpid}\n",
      "       86    0.000    0.000    0.000    0.000 {hasattr}\n",
      "       77    0.000    0.000    0.000    0.000 {_struct.unpack}\n",
      "       64    0.000    0.000    0.000    0.000 serializers.py:190(__init__)\n",
      "      192    0.000    0.000    0.000    0.000 {method 'endswith' of 'str' objects}\n",
      "       22    0.000    0.000    0.001    0.000 broadcast.py:92(value)\n",
      "       16    0.000    0.000    0.000    0.000 rdd.py:61(portable_hash)\n",
      "      192    0.000    0.000    0.000    0.000 {id}\n",
      "       64    0.000    0.000    0.000    0.000 {built-in method from_iterable}\n",
      "       16    0.000    0.000    0.000    0.000 rdd.py:1800(createZero)\n",
      "      128    0.000    0.000    0.000    0.000 {method 'items' of 'dict' objects}\n",
      "       16    0.000    0.000    0.001    0.000 serializers.py:414(dumps)\n",
      "       16    0.000    0.000    0.000    0.000 rdd.py:1804(<lambda>)\n",
      "      141    0.000    0.000    0.000    0.000 {len}\n",
      "       16    0.000    0.000    0.000    0.000 serializers.py:538(pack_long)\n",
      "       64    0.000    0.000    0.000    0.000 {iter}\n",
      "       13    0.000    0.000    0.001    0.000 serializers.py:421(loads)\n",
      "       16    0.000    0.000    0.000    0.000 copy.py:226(_deepcopy_list)\n",
      "       16    0.000    0.000    0.000    0.000 spark_fof.py:80(<lambda>)\n",
      "       64    0.000    0.000    0.000    0.000 {method 'disable' of '_lsprof.Profiler' objects}\n",
      "       22    0.000    0.000    0.000    0.000 {method 'keys' of 'dict' objects}\n",
      "       32    0.000    0.000    0.000    0.000 {method 'get' of 'dict' objects}\n",
      "       22    0.000    0.000    0.000    0.000 rdd.py:1540(<lambda>)\n",
      "       32    0.000    0.000    0.000    0.000 serializers.py:335(dumps)\n",
      "       16    0.000    0.000    0.000    0.000 {method 'append' of 'list' objects}\n",
      "        4    0.000    0.000    0.000    0.000 {gc.enable}\n",
      "       16    0.000    0.000    0.000    0.000 {hash}\n",
      "        4    0.000    0.000    0.000    0.000 {gc.disable}\n",
      "\n",
      "\n",
      "============================================================\n",
      "Profile of RDD<id=31>\n",
      "============================================================\n",
      "         3904 function calls (3840 primitive calls) in 0.011 seconds\n",
      "\n",
      "   Ordered by: internal time, cumulative time\n",
      "\n",
      "   ncalls  tottime  percall  cumtime  percall filename:lineno(function)\n",
      "       64    0.001    0.000    0.002    0.000 shuffle.py:69(_get_local_dirs)\n",
      "       64    0.001    0.000    0.004    0.000 shuffle.py:196(__init__)\n",
      "       64    0.001    0.000    0.001    0.000 serializers.py:259(dump_stream)\n",
      "       64    0.001    0.000    0.004    0.000 shuffle.py:263(mergeCombiners)\n",
      "       64    0.000    0.000    0.001    0.000 posixpath.py:61(join)\n",
      "       64    0.000    0.000    0.000    0.000 {psutil._psutil_osx.proc_memory_info}\n",
      "       80    0.000    0.000    0.001    0.000 serializers.py:136(load_stream)\n",
      "       64    0.000    0.000    0.001    0.000 _psosx.py:267(memory_info)\n",
      "       64    0.000    0.000    0.002    0.000 shuffle.py:37(get_used_memory)\n",
      "       64    0.000    0.000    0.008    0.000 rdd.py:1782(_mergeCombiners)\n",
      "        8    0.000    0.000    0.000    0.000 {cPickle.dumps}\n",
      "       64    0.000    0.000    0.001    0.000 shuffle.py:134(_compressed_serializer)\n",
      "       64    0.000    0.000    0.011    0.000 worker.py:104(process)\n",
      "       64    0.000    0.000    0.000    0.000 <string>:8(__new__)\n",
      "       64    0.000    0.000    0.000    0.000 serializers.py:217(load_stream)\n",
      "       64    0.000    0.000    0.002    0.000 __init__.py:936(memory_info)\n",
      "       64    0.000    0.000    0.000    0.000 shuffle.py:337(items)\n",
      "       80    0.000    0.000    0.000    0.000 serializers.py:542(read_int)\n",
      "   128/64    0.000    0.000    0.009    0.000 rdd.py:2345(pipeline_func)\n",
      "       64    0.000    0.000    0.000    0.000 UserDict.py:91(get)\n",
      "       64    0.000    0.000    0.000    0.000 serializers.py:481(__init__)\n",
      "       80    0.000    0.000    0.001    0.000 serializers.py:155(_read_with_length)\n",
      "       16    0.000    0.000    0.000    0.000 {cPickle.loads}\n",
      "       64    0.000    0.000    0.009    0.000 rdd.py:316(func)\n",
      "      128    0.000    0.000    0.000    0.000 serializers.py:127(__init__)\n",
      "       64    0.000    0.000    0.000    0.000 serializers.py:255(__init__)\n",
      "       64    0.000    0.000    0.000    0.000 rdd.py:303(func)\n",
      "       96    0.000    0.000    0.000    0.000 {method 'read' of 'file' objects}\n",
      "       64    0.000    0.000    0.001    0.000 _psosx.py:196(wrapper)\n",
      "       64    0.000    0.000    0.000    0.000 serializers.py:220(_load_stream_without_unbatching)\n",
      "      192    0.000    0.000    0.000    0.000 {method 'startswith' of 'str' objects}\n",
      "       64    0.000    0.000    0.000    0.000 rdd.py:288(func)\n",
      "       64    0.000    0.000    0.000    0.000 UserDict.py:103(__contains__)\n",
      "       64    0.000    0.000    0.000    0.000 {method 'split' of 'str' objects}\n",
      "       64    0.000    0.000    0.000    0.000 {built-in method __new__ of type object at 0x100186920}\n",
      "      128    0.000    0.000    0.000    0.000 {built-in method from_iterable}\n",
      "       64    0.000    0.000    0.000    0.000 serializers.py:190(__init__)\n",
      "      128    0.000    0.000    0.000    0.000 {posix.getpid}\n",
      "       64    0.000    0.000    0.000    0.000 shuffle.py:118(__init__)\n",
      "      192    0.000    0.000    0.000    0.000 {method 'endswith' of 'str' objects}\n",
      "       64    0.000    0.000    0.000    0.000 UserDict.py:35(__getitem__)\n",
      "       80    0.000    0.000    0.000    0.000 {_struct.unpack}\n",
      "       64    0.000    0.000    0.000    0.000 {hasattr}\n",
      "       16    0.000    0.000    0.000    0.000 {method 'write' of 'file' objects}\n",
      "      128    0.000    0.000    0.000    0.000 {id}\n",
      "       64    0.000    0.000    0.000    0.000 {isinstance}\n",
      "       64    0.000    0.000    0.000    0.000 {method 'items' of 'dict' objects}\n",
      "        8    0.000    0.000    0.000    0.000 serializers.py:549(write_int)\n",
      "       12    0.000    0.000    0.000    0.000 {sorted}\n",
      "       96    0.000    0.000    0.000    0.000 {len}\n",
      "      128    0.000    0.000    0.000    0.000 {iter}\n",
      "        8    0.000    0.000    0.000    0.000 serializers.py:414(dumps)\n",
      "       16    0.000    0.000    0.000    0.000 serializers.py:421(loads)\n",
      "       12    0.000    0.000    0.000    0.000 spark_fof.py:80(<lambda>)\n",
      "        8    0.000    0.000    0.000    0.000 {_struct.pack}\n",
      "       64    0.000    0.000    0.000    0.000 {method 'disable' of '_lsprof.Profiler' objects}\n",
      "        4    0.000    0.000    0.000    0.000 spark_fof.py:82(<lambda>)\n",
      "       16    0.000    0.000    0.000    0.000 shuffle.py:257(_object_size)\n",
      "        4    0.000    0.000    0.000    0.000 rdd.py:1540(<lambda>)\n",
      "\n",
      "\n",
      "============================================================\n",
      "Profile of RDD<id=32>\n",
      "============================================================\n",
      "         1891 function calls in 0.008 seconds\n",
      "\n",
      "   Ordered by: internal time, cumulative time\n",
      "\n",
      "   ncalls  tottime  percall  cumtime  percall filename:lineno(function)\n",
      "       64    0.001    0.000    0.004    0.000 spark_fof.py:285(remap_gid_partition)\n",
      "       18    0.001    0.000    0.001    0.000 {cPickle.dumps}\n",
      "        4    0.001    0.000    0.001    0.000 {open}\n",
      "       64    0.001    0.000    0.002    0.000 serializers.py:259(dump_stream)\n",
      "       64    0.001    0.000    0.001    0.000 arraysetops.py:96(unique)\n",
      "       64    0.000    0.000    0.002    0.000 {numpy.core.multiarray.fromiter}\n",
      "       13    0.000    0.000    0.000    0.000 {cPickle.loads}\n",
      "       64    0.000    0.000    0.008    0.000 worker.py:104(process)\n",
      "        4    0.000    0.000    0.000    0.000 {cPickle.load}\n",
      "       77    0.000    0.000    0.001    0.000 serializers.py:136(load_stream)\n",
      "       64    0.000    0.000    0.000    0.000 serializers.py:217(load_stream)\n",
      "       64    0.000    0.000    0.005    0.000 spark_fof.py:158(<lambda>)\n",
      "       64    0.000    0.000    0.000    0.000 {method 'flatten' of 'numpy.ndarray' objects}\n",
      "       77    0.000    0.000    0.000    0.000 serializers.py:542(read_int)\n",
      "       77    0.000    0.000    0.001    0.000 serializers.py:155(_read_with_length)\n",
      "       64    0.000    0.000    0.000    0.000 numeric.py:484(asanyarray)\n",
      "       64    0.000    0.000    0.001    0.000 broadcast.py:92(value)\n",
      "       64    0.000    0.000    0.005    0.000 rdd.py:2345(pipeline_func)\n",
      "       90    0.000    0.000    0.000    0.000 {method 'read' of 'file' objects}\n",
      "       13    0.000    0.000    0.000    0.000 {numpy.core.multiarray.concatenate}\n",
      "       64    0.000    0.000    0.000    0.000 serializers.py:220(_load_stream_without_unbatching)\n",
      "        4    0.000    0.000    0.001    0.000 broadcast.py:82(load)\n",
      "       64    0.000    0.000    0.005    0.000 rdd.py:316(func)\n",
      "       64    0.000    0.000    0.000    0.000 rdd.py:288(func)\n",
      "       18    0.000    0.000    0.000    0.000 serializers.py:549(write_int)\n",
      "       64    0.000    0.000    0.000    0.000 {hasattr}\n",
      "       64    0.000    0.000    0.000    0.000 {numpy.core.multiarray.array}\n",
      "       64    0.000    0.000    0.000    0.000 {built-in method from_iterable}\n",
      "       36    0.000    0.000    0.000    0.000 {method 'write' of 'file' objects}\n",
      "       77    0.000    0.000    0.000    0.000 {_struct.unpack}\n",
      "       18    0.000    0.000    0.001    0.000 serializers.py:414(dumps)\n",
      "       18    0.000    0.000    0.000    0.000 {_struct.pack}\n",
      "       13    0.000    0.000    0.000    0.000 serializers.py:421(loads)\n",
      "       13    0.000    0.000    0.000    0.000 {numpy.core.multiarray.where}\n",
      "       64    0.000    0.000    0.000    0.000 {iter}\n",
      "       13    0.000    0.000    0.000    0.000 {method 'sort' of 'numpy.ndarray' objects}\n",
      "       13    0.000    0.000    0.000    0.000 {method 'keys' of 'dict' objects}\n",
      "       64    0.000    0.000    0.000    0.000 {method 'disable' of '_lsprof.Profiler' objects}\n",
      "       49    0.000    0.000    0.000    0.000 {len}\n",
      "       22    0.000    0.000    0.000    0.000 rdd.py:1540(<lambda>)\n",
      "        4    0.000    0.000    0.000    0.000 {gc.enable}\n",
      "        4    0.000    0.000    0.000    0.000 {gc.disable}\n",
      "\n",
      "\n"
     ]
    }
   ],
   "source": [
    "sc.show_profiles()"
   ]
  },
  {
   "cell_type": "code",
   "execution_count": 30,
   "metadata": {
    "collapsed": true
   },
   "outputs": [],
   "source": [
    "p_arr = np.array(fof_analyzer.particle_rdd.collect())"
   ]
  },
  {
   "cell_type": "code",
   "execution_count": 31,
   "metadata": {
    "collapsed": false
   },
   "outputs": [],
   "source": [
    "groups = np.unique(p_arr['gid'])"
   ]
  },
  {
   "cell_type": "code",
   "execution_count": 32,
   "metadata": {
    "collapsed": false
   },
   "outputs": [],
   "source": [
    "for g in groups:\n",
    "    inds = np.where(p_arr['gid'] == g)\n",
    "    if g in m.keys():\n",
    "        p_arr['gid'][inds] = m[g]"
   ]
  },
  {
   "cell_type": "code",
   "execution_count": 33,
   "metadata": {
    "collapsed": false
   },
   "outputs": [
    {
     "data": {
      "text/plain": [
       "array([(-0.3499999940395355, -0.3499999940395355, 0, 77309411328),\n",
       "       (-0.27000001072883606, -0.27000001072883606, 1, 77309411328),\n",
       "       (-0.23000000417232513, -0.23000000417232513, 2, 77309411328),\n",
       "       (-0.23000000417232513, -0.23000000417232513, 2, 77309411328),\n",
       "       (-0.23000000417232513, -0.23000000417232513, 2, 77309411328),\n",
       "       (-0.23000000417232513, -0.23000000417232513, 2, 77309411328),\n",
       "       (-0.1899999976158142, -0.1899999976158142, 3, 77309411328),\n",
       "       (-0.009999999776482582, -0.009999999776482582, 4, 77309411328),\n",
       "       (0.009999999776482582, 0.009999999776482582, 5, 77309411328),\n",
       "       (0.009999999776482582, 0.009999999776482582, 5, 77309411328),\n",
       "       (0.009999999776482582, 0.009999999776482582, 5, 77309411328),\n",
       "       (0.009999999776482582, 0.009999999776482582, 5, 77309411328),\n",
       "       (0.23000000417232513, 0.23000000417232513, 6, 77309411328),\n",
       "       (0.28999999165534973, 0.28999999165534973, 7, 77309411328),\n",
       "       (0.28999999165534973, 0.28999999165534973, 7, 77309411328),\n",
       "       (0.28999999165534973, 0.28999999165534973, 7, 77309411328),\n",
       "       (0.28999999165534973, 0.28999999165534973, 7, 77309411328),\n",
       "       (0.49000000953674316, 0.49000000953674316, 8, 77309411328),\n",
       "       (0.5099999904632568, 0.5099999904632568, 9, 77309411328),\n",
       "       (0.5099999904632568, 0.5099999904632568, 9, 77309411328),\n",
       "       (0.5099999904632568, 0.5099999904632568, 9, 77309411328),\n",
       "       (0.5099999904632568, 0.5099999904632568, 9, 77309411328)], \n",
       "      dtype=[('x', '<f4'), ('y', '<f4'), ('pid', '<i8'), ('gid', '<i8')])"
      ]
     },
     "execution_count": 33,
     "metadata": {},
     "output_type": "execute_result"
    }
   ],
   "source": [
    "p_arr"
   ]
  },
  {
   "cell_type": "code",
   "execution_count": 41,
   "metadata": {
    "collapsed": true
   },
   "outputs": [],
   "source": [
    "def remap_gid_partition(particles, gid_map):\n",
    "    p_arr = np.fromiter(particles, spark_fof.pdt)\n",
    "    groups = np.unique(p_arr['gid'])\n",
    "    for g in groups:\n",
    "        inds = np.where(p_arr['gid'] == g)\n",
    "        if g in gid_map.keys():\n",
    "            p_arr['gid'][inds] = gid_map[g]\n",
    "    return p_arr"
   ]
  },
  {
   "cell_type": "code",
   "execution_count": 42,
   "metadata": {
    "collapsed": true
   },
   "outputs": [],
   "source": [
    "ps = fof_analyzer.particle_rdd.collect()"
   ]
  },
  {
   "cell_type": "code",
   "execution_count": 28,
   "metadata": {
    "collapsed": false
   },
   "outputs": [
    {
     "data": {
      "text/plain": [
       "[(-0.3499999940395355, -0.3499999940395355, 0, 77309411328),\n",
       " (-0.27000001072883606, -0.27000001072883606, 0, 77309411328),\n",
       " (-0.23000000417232513, -0.23000000417232513, 0, 77309411328),\n",
       " (-0.23000000417232513, -0.23000000417232513, 0, 81604378624),\n",
       " (-0.23000000417232513, -0.23000000417232513, 0, 111669149696),\n",
       " (-0.23000000417232513, -0.23000000417232513, 0, 115964116992),\n",
       " (-0.1899999976158142, -0.1899999976158142, 0, 115964116992),\n",
       " (-0.009999999776482582, -0.009999999776482582, 0, 115964116992),\n",
       " (0.009999999776482582, 0.009999999776482582, 0, 115964116992),\n",
       " (0.009999999776482582, 0.009999999776482582, 0, 120259084288),\n",
       " (0.009999999776482582, 0.009999999776482582, 0, 150323855360),\n",
       " (0.009999999776482582, 0.009999999776482582, 0, 154618822656),\n",
       " (0.23000000417232513, 0.23000000417232513, 0, 154618822656),\n",
       " (0.28999999165534973, 0.28999999165534973, 0, 154618822656),\n",
       " (0.28999999165534973, 0.28999999165534973, 0, 158913789952),\n",
       " (0.28999999165534973, 0.28999999165534973, 0, 188978561024),\n",
       " (0.28999999165534973, 0.28999999165534973, 0, 193273528320),\n",
       " (0.49000000953674316, 0.49000000953674316, 0, 193273528320),\n",
       " (0.5099999904632568, 0.5099999904632568, 0, 193273528320),\n",
       " (0.5099999904632568, 0.5099999904632568, 0, 197568495616),\n",
       " (0.5099999904632568, 0.5099999904632568, 0, 227633266688),\n",
       " (0.5099999904632568, 0.5099999904632568, 0, 231928233984)]"
      ]
     },
     "execution_count": 28,
     "metadata": {},
     "output_type": "execute_result"
    }
   ],
   "source": [
    "fof_analyzer.particle_rdd.collect()"
   ]
  },
  {
   "cell_type": "markdown",
   "metadata": {
    "collapsed": true
   },
   "source": [
    "## try get_bin with cython"
   ]
  },
  {
   "cell_type": "code",
   "execution_count": 41,
   "metadata": {
    "collapsed": false
   },
   "outputs": [],
   "source": [
    "import numpy as np\n",
    "# import pyximport\n",
    "# pyximport.install(setup_args={\"include_dirs\":np.get_include()},\n",
    "#                   reload_support=True)"
   ]
  },
  {
   "cell_type": "code",
   "execution_count": 42,
   "metadata": {
    "collapsed": false
   },
   "outputs": [],
   "source": [
    "xs = np.random.rand(1000000)\n",
    "ys = np.random.rand(1000000)"
   ]
  },
  {
   "cell_type": "markdown",
   "metadata": {},
   "source": [
    "### Setup cython on workers\n",
    "\n",
    "looks like some helpful info here: https://www.4info.com/Blog/October-2014/Enhancing-Spark-with-IPython-Notebook-and-Cython"
   ]
  },
  {
   "cell_type": "code",
   "execution_count": 43,
   "metadata": {
    "collapsed": false
   },
   "outputs": [],
   "source": [
    "sc.addPyFile('spark_fof_c.pyx')\n",
    "sc.addPyFile('spark_util.py')"
   ]
  },
  {
   "cell_type": "code",
   "execution_count": 44,
   "metadata": {
    "collapsed": false
   },
   "outputs": [
    {
     "data": {
      "text/plain": [
       "(None, <pyximport.pyximport.PyxImporter at 0x10ea1bed0>)"
      ]
     },
     "execution_count": 44,
     "metadata": {},
     "output_type": "execute_result"
    }
   ],
   "source": [
    "import pyximport\n",
    "pyximport.install(setup_args={\"include_dirs\":np.get_include()})   "
   ]
  },
  {
   "cell_type": "code",
   "execution_count": 45,
   "metadata": {
    "collapsed": true
   },
   "outputs": [],
   "source": [
    "from spark_util import spark_cython"
   ]
  },
  {
   "cell_type": "code",
   "execution_count": 46,
   "metadata": {
    "collapsed": false
   },
   "outputs": [],
   "source": [
    "def get_particle_bin(p):\n",
    "    from spark_util import spark_cython\n",
    "    return spark_cython('spark_fof_c', 'get_bin_cython')(p.x,p.y,100,-1,-1,1,1)\n",
    "\n",
    "def get_particle_bin_numpy(p):\n",
    "    from spark_util import spark_cython\n",
    "    return spark_cython('spark_fof_c', 'get_bin_cython')(p['x'],p['y'],100,-1,-1,1,1)\n",
    "\n",
    "def get_particle_bin_partition(particles, n):\n",
    "    xs = np.zeros(n)\n",
    "    ys = np.zeros(n)\n",
    "    bins = np.zeros(n, dtype=np.int32)\n",
    "    \n",
    "    for i, p in enumerate(particles): \n",
    "        xs[i]=p.x\n",
    "        xs[i]=p.y\n",
    "    \n",
    "    spark_cython('spark_fof_c', 'get_particle_bins_cython')(xs,ys,bins)\n",
    "    \n",
    "    for bin in bins: yield bin\n",
    "\n",
    "def get_particle_bin_partition_numpy(particles): \n",
    "    p_arr = np.fromiter(particles, pdt)\n",
    "    bins = np.zeros(len(p_arr), dtype=np.int)\n",
    "    spark_cython('spark_fof_c', 'get_particle_bins_cython')(p_arr['x'], p_arr['y'], bins)\n",
    "    return bins\n",
    "\n",
    "def get_particle_bin_python(p):\n",
    "    return get_bin(p['x'],p['y'],100,[-1,-1],[1,1])"
   ]
  },
  {
   "cell_type": "code",
   "execution_count": 171,
   "metadata": {
    "collapsed": false
   },
   "outputs": [],
   "source": [
    "pdt = np.dtype([('x','f8'), ('y','f8')])\n",
    "\n",
    "p_np_arr = np.zeros(10000000,dtype=pdt)\n",
    "\n",
    "for i in range(len(p_np_arr)):\n",
    "    p_np_arr[i] = np.random.rand(2)"
   ]
  },
  {
   "cell_type": "code",
   "execution_count": 68,
   "metadata": {
    "collapsed": false
   },
   "outputs": [],
   "source": [
    "#p_arr_rdd = sc.parallelize(p_arr).cache()\n",
    "p_np_arr_rdd = sc.parallelize(p_np_arr).cache()"
   ]
  },
  {
   "cell_type": "code",
   "execution_count": 69,
   "metadata": {
    "collapsed": false
   },
   "outputs": [
    {
     "data": {
      "text/plain": [
       "5000000"
      ]
     },
     "execution_count": 69,
     "metadata": {},
     "output_type": "execute_result"
    }
   ],
   "source": [
    "p_np_arr_rdd.count()"
   ]
  },
  {
   "cell_type": "code",
   "execution_count": 70,
   "metadata": {
    "collapsed": false
   },
   "outputs": [
    {
     "name": "stdout",
     "output_type": "stream",
     "text": [
      "CPU times: user 29.7 ms, sys: 2.65 ms, total: 32.4 ms\n",
      "Wall time: 1.09 s\n"
     ]
    },
    {
     "data": {
      "text/plain": [
       "5000000"
      ]
     },
     "execution_count": 70,
     "metadata": {},
     "output_type": "execute_result"
    }
   ],
   "source": [
    "%time p_np_arr_rdd.mapPartitions(get_particle_bin_partition_numpy).count()"
   ]
  },
  {
   "cell_type": "code",
   "execution_count": 71,
   "metadata": {
    "collapsed": false,
    "scrolled": true
   },
   "outputs": [
    {
     "name": "stdout",
     "output_type": "stream",
     "text": [
      "============================================================\n",
      "Profile of RDD<id=38>\n",
      "============================================================\n",
      "         10100843 function calls (10099603 primitive calls) in 3.732 seconds\n",
      "\n",
      "   Ordered by: internal time, cumulative time\n",
      "\n",
      "   ncalls  tottime  percall  cumtime  percall filename:lineno(function)\n",
      "        4    1.305    0.326    1.786    0.447 {numpy.core.multiarray.fromiter}\n",
      "  5000004    0.659    0.000    0.659    0.000 rdd.py:1004(<genexpr>)\n",
      "        4    0.591    0.148    0.591    0.148 {spark_fof_c.get_particle_bins_cython}\n",
      "        8    0.420    0.052    1.078    0.135 {sum}\n",
      "  5000000    0.366    0.000    0.366    0.000 rdd.py:553(<lambda>)\n",
      "        4    0.068    0.017    0.068    0.017 {posix.system}\n",
      "     4883    0.063    0.000    0.063    0.000 {cPickle.loads}\n",
      "     9774    0.030    0.000    0.030    0.000 {method 'read' of 'file' objects}\n",
      "        4    0.022    0.006    0.081    0.020 Main.py:5(<module>)\n",
      "        4    0.011    0.003    0.018    0.005 PyrexTypes.py:5(<module>)\n",
      "      320    0.010    0.000    0.010    0.000 {imp.find_module}\n",
      "       16    0.010    0.001    0.056    0.003 __init__.py:1(<module>)\n",
      "        4    0.009    0.002    0.032    0.008 Symtab.py:5(<module>)\n",
      "     4887    0.009    0.000    0.111    0.000 serializers.py:155(_read_with_length)\n",
      "        4    0.006    0.001    0.021    0.005 core.py:7(<module>)\n",
      "      432    0.005    0.000    0.005    0.000 Shadow.py:298(pointer)\n",
      "       16    0.005    0.000    3.731    0.233 rdd.py:316(func)\n",
      "        4    0.005    0.001    0.061    0.015 pyxbuild.py:5(<module>)\n",
      "     4887    0.005    0.000    0.116    0.000 serializers.py:136(load_stream)\n",
      "     4887    0.004    0.000    0.010    0.000 serializers.py:542(read_int)\n",
      "   316/92    0.004    0.000    0.010    0.000 sre_parse.py:395(_parse)\n",
      "       20    0.004    0.000    0.004    0.000 {method 'clear' of 'dict' objects}\n",
      "        4    0.004    0.001    0.004    0.001 pyximport.py:48(<module>)\n",
      "        4    0.004    0.001    0.086    0.022 build_ext.py:174(cython_sources)\n",
      "        8    0.004    0.001    0.004    0.001 {function seed at 0x102935ed8}\n",
      "        4    0.004    0.001    0.013    0.003 __init__.py:31(<module>)\n",
      "      320    0.004    0.000    0.019    0.000 pyximport.py:250(find_module)\n",
      "        4    0.004    0.001    0.006    0.001 Errors.py:5(<module>)\n",
      "        4    0.004    0.001    0.033    0.008 build_ext.py:4(<module>)\n",
      "        4    0.003    0.001    0.008    0.002 Lexicons.py:9(<module>)\n",
      "        4    0.003    0.001    0.860    0.215 spark_util.py:4(wrapped)\n",
      "      352    0.003    0.000    0.004    0.000 genericpath.py:34(isfile)\n",
      "        4    0.003    0.001    0.004    0.001 cmd.py:5(<module>)\n",
      "     4883    0.002    0.000    0.065    0.000 serializers.py:421(loads)\n",
      "   452/92    0.002    0.000    0.006    0.000 sre_compile.py:64(_compile)\n",
      "        4    0.002    0.001    0.180    0.045 build_ext.py:277(run)\n",
      "     12/4    0.002    0.000    0.258    0.064 {__import__}\n",
      "        4    0.002    0.001    0.005    0.001 util.py:5(<module>)\n",
      "        4    0.002    0.000    0.008    0.002 Shadow.py:2(<module>)\n",
      "        4    0.002    0.000    0.029    0.007 build_ext.py:5(<module>)\n",
      "     2564    0.002    0.000    0.002    0.000 sre_parse.py:193(__next)\n",
      "     4887    0.002    0.000    0.002    0.000 {_struct.unpack}\n",
      "        4    0.002    0.000    0.008    0.002 fancy_getopt.py:9(<module>)\n",
      "      408    0.002    0.000    0.002    0.000 {posix.stat}\n",
      "        4    0.002    0.000    0.005    0.001 pyximport.py:92(get_distutils_extension)\n",
      "        4    0.002    0.000    0.255    0.064 pyximport.py:176(build_module)\n",
      "        4    0.002    0.000    0.002    0.000 spawn.py:7(<module>)\n",
      "        4    0.001    0.000    0.004    0.001 TypeSlots.py:6(<module>)\n",
      "        4    0.001    0.000    0.010    0.003 dist.py:5(<module>)\n",
      "        8    0.001    0.000    0.001    0.000 {posix.urandom}\n",
      "14695/14547    0.001    0.000    0.001    0.000 {len}\n",
      "  564/212    0.001    0.000    0.002    0.000 sre_parse.py:151(getwidth)\n",
      "        8    0.001    0.000    0.001    0.000 {posix.unlink}\n",
      "        8    0.001    0.000    0.001    0.000 {method 'close' of 'file' objects}\n",
      "        4    0.001    0.000    0.001    0.000 {posix.close}\n",
      "        4    0.001    0.000    0.003    0.001 DFA.py:9(<module>)\n",
      "      152    0.001    0.000    0.002    0.000 sre_compile.py:256(_optimize_charset)\n",
      "      152    0.001    0.000    0.026    0.000 re.py:230(_compile)\n",
      "        4    0.001    0.000    0.001    0.000 Machines.py:9(<module>)\n",
      "       92    0.001    0.000    0.003    0.000 sre_compile.py:433(_compile_info)\n",
      "        4    0.001    0.000    0.001    0.000 {imp.load_dynamic}\n",
      "     8596    0.001    0.000    0.001    0.000 {method 'append' of 'list' objects}\n",
      "     1980    0.001    0.000    0.002    0.000 sre_parse.py:212(get)\n",
      "     1424    0.001    0.000    0.001    0.000 sre_parse.py:141(__getitem__)\n",
      "        8    0.001    0.000    0.001    0.000 fancy_getopt.py:146(_grok_option_table)\n",
      "        4    0.001    0.000    0.001    0.000 Errors.py:10(<module>)\n",
      "     3008    0.001    0.000    0.001    0.000 {isinstance}\n",
      "        8    0.001    0.000    0.003    0.000 extension.py:4(<module>)\n",
      "      300    0.001    0.000    0.001    0.000 TypeSlots.py:280(__init__)\n",
      "        4    0.001    0.000    0.001    0.000 getopt.py:15(<module>)\n",
      "   168/92    0.001    0.000    0.010    0.000 sre_parse.py:317(_parse_sub)\n",
      "        4    0.001    0.000    0.005    0.001 StringEncoding.py:5(<module>)\n",
      "      480    0.001    0.000    0.001    0.000 TypeSlots.py:174(__init__)\n",
      "        8    0.001    0.000    0.001    0.000 {posix.open}\n",
      "       92    0.001    0.000    0.011    0.000 sre_parse.py:706(parse)\n",
      "       92    0.001    0.000    0.021    0.000 sre_compile.py:567(compile)\n",
      "        4    0.001    0.000    0.001    0.000 Regexps.py:9(<module>)\n",
      "       16    0.001    0.000    0.004    0.000 util.py:16(get_platform)\n",
      "      344    0.000    0.000    0.001    0.000 __init__.py:22(find_module)\n",
      "       68    0.000    0.000    0.001    0.000 sre_compile.py:411(_mk_bitmap)\n",
      "     1464    0.000    0.000    0.001    0.000 sre_parse.py:206(match)\n",
      "      152    0.000    0.000    0.003    0.000 sre_compile.py:228(_compile_charset)\n",
      "     1032    0.000    0.000    0.000    0.000 six.py:184(find_module)\n",
      "    80/68    0.000    0.000    0.001    0.000 PyrexTypes.py:41(specialization_name)\n",
      "       16    0.000    0.000    0.000    0.000 {method 'update' of 'dict' objects}\n",
      "        4    0.000    0.000    0.007    0.002 tempfile.py:176(_get_default_tempdir)\n",
      "      180    0.000    0.000    0.000    0.000 {max}\n",
      "      384    0.000    0.000    0.000    0.000 {method 'split' of 'str' objects}\n",
      "        4    0.000    0.000    0.001    0.000 archive_util.py:4(<module>)\n",
      "        4    0.000    0.000    0.000    0.000 PyrexTypes.py:3248(CStructOrUnionType)\n",
      "      192    0.000    0.000    0.000    0.000 TypeSlots.py:87(__init__)\n",
      "      768    0.000    0.000    0.000    0.000 sre_parse.py:149(append)\n",
      "        4    0.000    0.000    0.005    0.001 StringEncoding.py:218(_build_specials_replacer)\n",
      "       16    0.000    0.000    0.001    0.000 _osx_support.py:429(get_platform_osx)\n",
      "      564    0.000    0.000    0.000    0.000 {range}\n",
      "       28    0.000    0.000    0.003    0.000 util.py:230(split_quoted)\n",
      "        4    0.000    0.000    0.001    0.000 serializers.py:259(dump_stream)\n",
      "      216    0.000    0.000    0.006    0.000 Shadow.py:204(_pointer)\n",
      "        4    0.000    0.000    0.080    0.020 _osx_support.py:55(_read_output)\n",
      "     1068    0.000    0.000    0.000    0.000 {min}\n",
      "      764    0.000    0.000    0.000    0.000 {method 'startswith' of 'str' objects}\n",
      "        4    0.000    0.000    0.000    0.000 Symtab.py:2158(CppClassScope)\n",
      "        8    0.000    0.000    0.006    0.001 tempfile.py:124(rng)\n",
      "        4    0.000    0.000    2.647    0.662 <ipython-input-46-70e5b75fae3f>:22(get_particle_bin_partition_numpy)\n",
      "      448    0.000    0.000    0.000    0.000 {method 'match' of '_sre.SRE_Pattern' objects}\n",
      "        8    0.000    0.000    0.000    0.000 collections.py:38(__init__)\n",
      "        8    0.000    0.000    0.000    0.000 posixpath.py:251(expanduser)\n",
      "      452    0.000    0.000    0.000    0.000 sre_parse.py:92(__init__)\n",
      "      140    0.000    0.000    0.000    0.000 StringEncoding.py:206(_to_escape_sequence)\n",
      "        4    0.000    0.000    0.000    0.000 StringIOTree.py:1(<module>)\n",
      "        4    0.000    0.000    0.000    0.000 Options.py:5(<module>)\n",
      "        4    0.000    0.000    0.000    0.000 {_io.open}\n",
      "        8    0.000    0.000    0.006    0.001 random.py:100(seed)\n",
      "       92    0.000    0.000    0.009    0.000 sre_compile.py:552(_code)\n",
      "      284    0.000    0.000    0.000    0.000 {method 'encode' of 'str' objects}\n",
      "        4    0.000    0.000    0.000    0.000 utils.py:21(get_include)\n",
      "        4    0.000    0.000    0.000    0.000 {cPickle.dumps}\n",
      "        4    0.000    0.000    0.000    0.000 config.py:5(<module>)\n",
      "      420    0.000    0.000    0.000    0.000 string.py:484(translate)\n",
      "      108    0.000    0.000    0.000    0.000 posixpath.py:61(join)\n",
      "       92    0.000    0.000    0.000    0.000 {_sre.compile}\n",
      "        4    0.000    0.000    0.000    0.000 {numpy.core.multiarray.zeros}\n",
      "     1148    0.000    0.000    0.000    0.000 {method 'get' of 'dict' objects}\n",
      "      560    0.000    0.000    0.000    0.000 {method 'find' of 'bytearray' objects}\n",
      "      320    0.000    0.000    0.000    0.000 posixpath.py:52(isabs)\n",
      "        8    0.000    0.000    0.006    0.001 tempfile.py:135(next)\n",
      "        4    0.000    0.000    0.000    0.000 Transitions.py:7(<module>)\n",
      "      688    0.000    0.000    0.000    0.000 sre_parse.py:137(__len__)\n",
      "      232    0.000    0.000    0.000    0.000 PyrexTypes.py:260(same_as)\n",
      "      184    0.000    0.000    0.000    0.000 sre_compile.py:546(isstring)\n",
      "        4    0.000    0.000    0.186    0.047 pyxbuild.py:23(pyx_to_dll)\n",
      "      120    0.000    0.000    0.000    0.000 sre_compile.py:428(_simple)\n",
      "       68    0.000    0.000    0.000    0.000 PyrexTypes.py:2297(__init__)\n",
      "        4    0.000    0.000    0.000    0.000 dep_util.py:5(<module>)\n",
      "      344    0.000    0.000    0.000    0.000 six.py:180(find_module)\n",
      "       88    0.000    0.000    0.000    0.000 sre_parse.py:268(_escape)\n",
      "       28    0.000    0.000    0.001    0.000 PyrexTypes.py:3262(__init__)\n",
      "        4    0.000    0.000    3.732    0.933 worker.py:104(process)\n",
      "       12    0.000    0.000    0.000    0.000 abc.py:148(__subclasscheck__)\n",
      "       16    0.000    0.000    0.000    0.000 {posix.uname}\n",
      "     1108    0.000    0.000    0.000    0.000 {ord}\n",
      "     16/4    0.000    0.000    3.731    0.933 rdd.py:2345(pipeline_func)\n",
      "        4    0.000    0.000    0.000    0.000 build.py:3(<module>)\n",
      "       16    0.000    0.000    0.000    0.000 posixpath.py:329(normpath)\n",
      "      264    0.000    0.000    0.000    0.000 {getattr}\n",
      "        4    0.000    0.000    0.000    0.000 {posix.listdir}\n",
      "       48    0.000    0.000    0.003    0.000 sysconfig.py:440(get_config_vars)\n",
      "       68    0.000    0.000    0.019    0.000 re.py:192(compile)\n",
      "        4    0.000    0.000    0.001    0.000 sysconfig.py:395(_init_posix)\n",
      "       32    0.000    0.000    0.000    0.000 Future.py:1(_get_feature)\n",
      "        4    0.000    0.000    0.000    0.000 dist.py:128(__init__)\n",
      "      432    0.000    0.000    0.000    0.000 Shadow.py:299(PointerInstance)\n",
      "      460    0.000    0.000    0.000    0.000 {method 'replace' of 'str' objects}\n",
      "  296/292    0.000    0.000    0.000    0.000 {setattr}\n",
      "       92    0.000    0.000    0.000    0.000 sre_parse.py:189(__init__)\n",
      "       12    0.000    0.000    0.000    0.000 _weakrefset.py:70(__contains__)\n",
      "        8    0.000    0.000    0.000    0.000 {posix.getcwd}\n",
      "        4    0.000    0.000    0.001    0.000 ConfigParser.py:232(__init__)\n",
      "        4    0.000    0.000    0.000    0.000 dir_util.py:3(<module>)\n",
      "        4    0.000    0.000    0.089    0.022 sysconfig.py:151(customize_compiler)\n",
      "        4    0.000    0.000    0.001    0.000 Utils.py:6(<module>)\n",
      "        4    0.000    0.000    0.000    0.000 ccompiler.py:4(<module>)\n",
      "        4    0.000    0.000    0.001    0.000 dist.py:377(parse_config_files)\n",
      "        4    0.000    0.000    0.002    0.000 _osx_support.py:277(_check_for_unavailable_sdk)\n",
      "        4    0.000    0.000    0.000    0.000 pyximport.py:471(install)\n",
      "      276    0.000    0.000    0.000    0.000 fancy_getopt.py:113(get_attr_name)\n",
      "      496    0.000    0.000    0.000    0.000 {method 'translate' of 'str' objects}\n",
      "        4    0.000    0.000    0.000    0.000 contextlib.py:54(contextmanager)\n",
      "       20    0.000    0.000    0.000    0.000 {method 'search' of '_sre.SRE_Pattern' objects}\n",
      "        4    0.000    0.000    0.001    0.000 build_ext.py:131(finalize_options)\n",
      "        4    0.000    0.000    0.000    0.000 Naming.py:9(<module>)\n",
      "      144    0.000    0.000    0.000    0.000 fancy_getopt.py:469(translate_longopt)\n",
      "        4    0.000    0.000    0.000    0.000 Symtab.py:896(BuiltinScope)\n",
      "    84/72    0.000    0.000    0.000    0.000 PyrexTypes.py:36(empty_declaration_code)\n",
      "        4    0.000    0.000    0.000    0.000 unixccompiler.py:14(<module>)\n",
      "       48    0.000    0.000    0.000    0.000 re.py:208(escape)\n",
      "      136    0.000    0.000    0.000    0.000 Shadow.py:325(__init__)\n",
      "        4    0.000    0.000    0.003    0.001 tempfile.py:235(_mkstemp_inner)\n",
      "        4    0.000    0.000    0.000    0.000 serializers.py:217(load_stream)\n",
      "       48    0.000    0.000    0.000    0.000 random.py:273(choice)\n",
      "      344    0.000    0.000    0.000    0.000 {method 'partition' of 'str' objects}\n",
      "      200    0.000    0.000    0.000    0.000 PyrexTypes.py:263(same_as_resolved_type)\n",
      "        4    0.000    0.000    0.001    0.000 dist.py:501(_parse_command_opts)\n",
      "        4    0.000    0.000    0.001    0.000 glob.py:71(glob1)\n",
      "        4    0.000    0.000    0.080    0.020 _osx_support.py:144(_find_appropriate_compiler)\n",
      "       92    0.000    0.000    0.000    0.000 TypeSlots.py:258(__init__)\n",
      "        4    0.000    0.000    0.000    0.000 TypeSlots.py:16(Signature)\n",
      "       92    0.000    0.000    0.000    0.000 TypeSlots.py:269(__init__)\n",
      "       12    0.000    0.000    0.000    0.000 PyrexTypes.py:1869(__init__)\n",
      "        4    0.000    0.000    0.000    0.000 util.py:168(check_environ)\n",
      "        4    0.000    0.000    0.000    0.000 log.py:1(<module>)\n",
      "       16    0.000    0.000    0.002    0.000 dist.py:833(get_command_obj)\n",
      "       12    0.000    0.000    0.000    0.000 posixpath.py:120(dirname)\n",
      "       60    0.000    0.000    0.003    0.000 ccompiler.py:162(set_executable)\n",
      "       16    0.000    0.000    0.000    0.000 {map}\n",
      "       92    0.000    0.000    0.000    0.000 sre_parse.py:67(__init__)\n",
      "        4    0.000    0.000    0.007    0.002 tempfile.py:268(gettempdir)\n",
      "        4    0.000    0.000    0.000    0.000 <string>:1(<module>)\n",
      "  224/220    0.000    0.000    0.000    0.000 build_ext.py:137(__setattr__)\n",
      "        8    0.000    0.000    0.000    0.000 fancy_getopt.py:89(_build_index)\n",
      "        8    0.000    0.000    0.002    0.000 fancy_getopt.py:234(getopt)\n",
      "        4    0.000    0.000    0.000    0.000 dist.py:329(find_config_files)\n",
      "        8    0.000    0.000    0.000    0.000 build_ext.py:624(get_ext_fullpath)\n",
      "        8    0.000    0.000    0.000    0.000 {method 'write' of 'file' objects}\n",
      "      424    0.000    0.000    0.000    0.000 {method 'join' of 'str' objects}\n",
      "        4    0.000    0.000    0.000    0.000 tempfile.py:48(_set_cloexec)\n",
      "        4    0.000    0.000    0.001    0.000 fnmatch.py:45(filter)\n",
      "        4    0.000    0.000    0.000    0.000 fnmatch.py:85(translate)\n",
      "       12    0.000    0.000    0.000    0.000 PyrexTypes.py:1466(__init__)\n",
      "      136    0.000    0.000    0.000    0.000 UserDict.py:103(__contains__)\n",
      "        4    0.000    0.000    0.000    0.000 _osx_support.py:29(_find_executable)\n",
      "      124    0.000    0.000    0.000    0.000 PyrexTypes.py:1553(__init__)\n",
      "        4    0.000    0.000    0.010    0.003 tempfile.py:447(NamedTemporaryFile)\n",
      "      104    0.000    0.000    0.000    0.000 {hasattr}\n",
      "        8    0.000    0.000    0.000    0.000 build_ext.py:665(get_ext_filename)\n",
      "        4    0.000    0.000    0.000    0.000 tempfile.py:148(_candidate_tempdir_list)\n",
      "        8    0.000    0.000    0.000    0.000 rdd.py:861(func)\n",
      "        8    0.000    0.000    0.000    0.000 build_ext.py:341(check_extensions_list)\n",
      "      168    0.000    0.000    0.000    0.000 {method 'extend' of 'list' objects}\n",
      "       40    0.000    0.000    0.000    0.000 genericpath.py:23(exists)\n",
      "        4    0.000    0.000    0.000    0.000 ccompiler.py:23(CCompiler)\n",
      "        4    0.000    0.000    0.002    0.000 dist.py:423(parse_command_line)\n",
      "        8    0.000    0.000    0.000    0.000 cmd.py:49(__init__)\n",
      "       36    0.000    0.000    0.000    0.000 {method 'sub' of '_sre.SRE_Pattern' objects}\n",
      "        4    0.000    0.000    0.000    0.000 Symtab.py:268(Scope)\n",
      "      312    0.000    0.000    0.000    0.000 pyximport.py:72(_debug)\n",
      "        4    0.000    0.000    0.000    0.000 _osx_support.py:128(_supports_universal_builds)\n",
      "        4    0.000    0.000    0.000    0.000 functools.py:39(wraps)\n",
      "        4    0.000    0.000    0.000    0.000 dist.py:34(Distribution)\n",
      "        4    0.000    0.000    0.000    0.000 serializers.py:549(write_int)\n",
      "        8    0.000    0.000    0.000    0.000 getopt.py:166(long_has_args)\n",
      "        8    0.000    0.000    0.000    0.000 {binascii.hexlify}\n",
      "        4    0.000    0.000    0.000    0.000 unixccompiler.py:48(UnixCCompiler)\n",
      "        4    0.000    0.000    0.004    0.001 build_ext.py:37(build_ext)\n",
      "      112    0.000    0.000    0.000    0.000 string.py:262(lstrip)\n",
      "      132    0.000    0.000    0.000    0.000 {method 'items' of 'dict' objects}\n",
      "        4    0.000    0.000    0.000    0.000 build.py:70(finalize_options)\n",
      "       48    0.000    0.000    0.000    0.000 _osx_support.py:455(<genexpr>)\n",
      "        4    0.000    0.000    0.000    0.000 ccompiler.py:93(__init__)\n",
      "       68    0.000    0.000    0.000    0.000 {method 'rfind' of 'str' objects}\n",
      "       28    0.000    0.000    0.000    0.000 sre_parse.py:236(_class_escape)\n",
      "        4    0.000    0.000    0.086    0.022 build_ext.py:166(build_extensions)\n",
      "       16    0.000    0.000    0.000    0.000 {method 'findall' of '_sre.SRE_Pattern' objects}\n",
      "      136    0.000    0.000    0.000    0.000 {method 'endswith' of 'str' objects}\n",
      "        4    0.000    0.000    0.001    0.000 glob.py:18(glob)\n",
      "       16    0.000    0.000    0.000    0.000 genericpath.py:93(_splitext)\n",
      "       16    0.000    0.000    0.000    0.000 UserDict.py:35(__getitem__)\n",
      "        8    0.000    0.000    0.000    0.000 sysconfig.py:66(get_python_inc)\n",
      "        4    0.000    0.000    0.000    0.000 os.py:472(__setitem__)\n",
      "        4    0.000    0.000    0.000    0.000 file_util.py:4(<module>)\n",
      "        4    0.000    0.000    0.000    0.000 PyrexTypes.py:494(MemoryViewSliceType)\n",
      "       12    0.000    0.000    0.000    0.000 {method 'acquire' of 'thread.lock' objects}\n",
      "        8    0.000    0.000    0.000    0.000 getopt.py:144(do_longs)\n",
      "        4    0.000    0.000    0.000    0.000 PyrexTypes.py:22(BaseType)\n",
      "        4    0.000    0.000    0.000    0.000 Symtab.py:55(Entry)\n",
      "       44    0.000    0.000    0.000    0.000 sre_parse.py:74(opengroup)\n",
      "       36    0.000    0.000    0.001    0.000 re.py:148(sub)\n",
      "        4    0.000    0.000    0.000    0.000 Symtab.py:1009(ModuleScope)\n",
      "        4    0.000    0.000    0.256    0.064 pyximport.py:428(load_module)\n",
      "        8    0.000    0.000    0.006    0.001 re.py:143(search)\n",
      "        8    0.000    0.000    0.000    0.000 getopt.py:51(getopt)\n",
      "       44    0.000    0.000    0.000    0.000 sre_parse.py:85(closegroup)\n",
      "        4    0.000    0.000    0.000    0.000 PyrexTypes.py:2615(CFuncType)\n",
      "        4    0.000    0.000    1.078    0.270 rdd.py:1004(<lambda>)\n",
      "        4    0.000    0.000    0.000    0.000 pyximport.py:138(handle_dependencies)\n",
      "       12    0.000    0.000    0.000    0.000 glob.py:99(has_magic)\n",
      "       24    0.000    0.000    0.001    0.000 re.py:138(match)\n",
      "        4    0.000    0.000    0.000    0.000 pyximport.py:458(_have_importers)\n",
      "        8    0.000    0.000    0.000    0.000 _osx_support.py:260(_override_all_archs)\n",
      "        4    0.000    0.000    0.000    0.000 dist.py:1011(DistributionMetadata)\n",
      "        8    0.000    0.000    0.000    0.000 {fcntl.fcntl}\n",
      "       12    0.000    0.000    0.001    0.000 dist.py:794(get_command_class)\n",
      "        4    0.000    0.000    0.000    0.000 PyrexTypes.py:3415(CppClassType)\n",
      "       16    0.000    0.000    0.000    0.000 posixpath.py:97(splitext)\n",
      "        4    0.000    0.000    0.001    0.000 glob.py:29(iglob)\n",
      "        4    0.000    0.000    0.001    0.000 ccompiler.py:906(get_default_compiler)\n",
      "        4    0.000    0.000    0.000    0.000 cmd.py:14(Command)\n",
      "        4    0.000    0.000    0.000    0.000 Version.py:3(<module>)\n",
      "        4    0.000    0.000    0.000    0.000 pyximport.py:418(__init__)\n",
      "      120    0.000    0.000    0.000    0.000 sre_parse.py:145(__setitem__)\n",
      "        4    0.000    0.000    0.000    0.000 cmd.py:280(set_undefined_options)\n",
      "       36    0.000    0.000    0.000    0.000 _osx_support.py:120(_save_modified_value)\n",
      "        4    0.000    0.000    0.000    0.000 PyrexTypes.py:153(PyrexType)\n",
      "        4    0.000    0.000    0.003    0.001 ccompiler.py:129(set_executables)\n",
      "       16    0.000    0.000    0.000    0.000 {sorted}\n",
      "        4    0.000    0.000    0.000    0.000 dist.py:860(_set_command_options)\n",
      "        4    0.000    0.000    0.000    0.000 Main.py:55(Context)\n",
      "        8    0.000    0.000    0.006    0.001 random.py:91(__init__)\n",
      "        4    0.000    0.000    0.005    0.001 _osx_support.py:220(_remove_unsupported_archs)\n",
      "       24    0.000    0.000    0.000    0.000 build_ext.py:131(__getattr__)\n",
      "        4    0.000    0.000    0.000    0.000 extension.py:90(__init__)\n",
      "        4    0.000    0.000    0.000    0.000 dist.py:657(handle_display_options)\n",
      "        4    0.000    0.000    0.000    0.000 serializers.py:220(_load_stream_without_unbatching)\n",
      "        4    0.000    0.000    0.000    0.000 PyrexTypes.py:326(CTypedefType)\n",
      "        8    0.000    0.000    0.000    0.000 Regexps.py:349(__init__)\n",
      "       16    0.000    0.000    0.000    0.000 posixpath.py:82(split)\n",
      "        8    0.000    0.000    0.002    0.000 tempfile.py:424(close)\n",
      "       48    0.000    0.000    0.000    0.000 string.py:513(replace)\n",
      "       44    0.000    0.000    0.000    0.000 PyrexTypes.py:1887(__eq__)\n",
      "       28    0.000    0.000    0.000    0.000 PyrexTypes.py:3347(declaration_code)\n",
      "       84    0.000    0.000    0.000    0.000 dist.py:119(<lambda>)\n",
      "       12    0.000    0.000    0.000    0.000 Regexps.py:221(Char)\n",
      "       12    0.000    0.000    0.000    0.000 PyrexTypes.py:1850(__init__)\n",
      "       12    0.000    0.000    0.000    0.000 posixpath.py:358(abspath)\n",
      "       48    0.000    0.000    0.000    0.000 PyrexTypes.py:91(is_fused)\n",
      "        4    0.000    0.000    0.000    0.000 {built-in method from_iterable}\n",
      "        4    0.000    0.000    0.000    0.000 PyrexTypes.py:1088(BuiltinObjectType)\n",
      "        4    0.000    0.000    0.000    0.000 build_ext.py:450(build_extension)\n",
      "       16    0.000    0.000    0.000    0.000 re.py:173(findall)\n",
      "       28    0.000    0.000    0.000    0.000 TypeSlots.py:385(__init__)\n",
      "       24    0.000    0.000    0.000    0.000 Utils.py:24(cached_function)\n",
      "        4    0.000    0.000    0.000    0.000 serializers.py:414(dumps)\n",
      "        4    0.000    0.000    0.002    0.001 util.py:224(_init_regex)\n",
      "        8    0.000    0.000    0.000    0.000 dep_util.py:52(newer_group)\n",
      "       16    0.000    0.000    0.000    0.000 string.py:222(lower)\n",
      "        4    0.000    0.000    0.000    0.000 tempfile.py:397(__getattr__)\n",
      "        4    0.000    0.000    0.086    0.021 _osx_support.py:409(customize_compiler)\n",
      "        4    0.000    0.000    0.000    0.000 tempfile.py:120(__init__)\n",
      "        4    0.000    0.000    0.001    0.000 Regexps.py:478(AnyBut)\n",
      "        8    0.000    0.000    0.000    0.000 stat.py:49(S_ISREG)\n",
      "        4    0.000    0.000    0.000    0.000 debug.py:1(<module>)\n",
      "      228    0.000    0.000    0.000    0.000 {globals}\n",
      "        4    0.000    0.000    0.000    0.000 PyrexTypes.py:1019(PyObjectType)\n",
      "        4    0.000    0.000    0.000    0.000 PyrexTypes.py:1862(CComplexType)\n",
      "        4    0.000    0.000    0.181    0.045 dist.py:957(run_command)\n",
      "        8    0.000    0.000    0.000    0.000 Regexps.py:245(__init__)\n",
      "       16    0.000    0.000    0.000    0.000 UserDict.py:91(get)\n",
      "        4    0.000    0.000    0.256    0.064 pyximport.py:207(load_module)\n",
      "        4    0.000    0.000    0.000    0.000 build_ext.py:118(initialize_options)\n",
      "        4    0.000    0.000    0.000    0.000 build_ext.py:108(initialize_options)\n",
      "        4    0.000    0.000    0.000    0.000 build_ext.py:60(build_ext)\n",
      "        4    0.000    0.000    0.000    0.000 Regexps.py:34(chars_to_ranges)\n",
      "      112    0.000    0.000    0.000    0.000 {method 'lstrip' of 'str' objects}\n",
      "       12    0.000    0.000    0.000    0.000 PyrexTypes.py:1910(declaration_code)\n",
      "       12    0.000    0.000    0.000    0.000 PyrexTypes.py:1569(declaration_code)\n",
      "       12    0.000    0.000    0.000    0.000 fancy_getopt.py:120(_check_alias_dict)\n",
      "        4    0.000    0.000    0.000    0.000 Transitions.py:15(TransitionMap)\n",
      "        4    0.000    0.000    0.000    0.000 build.py:17(build)\n",
      "       20    0.000    0.000    0.000    0.000 sysconfig.py:478(get_config_var)\n",
      "        4    0.000    0.000    0.003    0.001 ccompiler.py:962(new_compiler)\n",
      "       12    0.000    0.000    0.000    0.000 PyrexTypes.py:1919(sign_and_name)\n",
      "        4    0.000    0.000    0.000    0.000 PyrexTypes.py:1221(PyExtensionType)\n",
      "       28    0.000    0.000    0.000    0.000 string.py:250(strip)\n",
      "        4    0.000    0.000    0.000    0.000 functools.py:17(update_wrapper)\n",
      "       20    0.000    0.000    0.000    0.000 {method 'lower' of 'str' objects}\n",
      "        4    0.000    0.000    0.000    0.000 rdd.py:288(func)\n",
      "       20    0.000    0.000    0.000    0.000 TypeSlots.py:433(__init__)\n",
      "        4    0.000    0.000    0.000    0.000 {_struct.pack}\n",
      "        4    0.000    0.000    0.000    0.000 PyrexTypes.py:2484(CPtrType)\n",
      "        8    0.000    0.000    0.000    0.000 stat.py:24(S_IFMT)\n",
      "        4    0.000    0.000    0.000    0.000 PyrexTypes.py:1617(CIntType)\n",
      "        4    0.000    0.000    0.000    0.000 PyrexTypes.py:1347(CType)\n",
      "        4    0.000    0.000    0.000    0.000 {posix.fdopen}\n",
      "       28    0.000    0.000    0.000    0.000 {method 'rstrip' of 'str' objects}\n",
      "        4    0.000    0.000    0.000    0.000 Symtab.py:1855(CClassScope)\n",
      "       72    0.000    0.000    0.000    0.000 TypeSlots.py:74(<genexpr>)\n",
      "       44    0.000    0.000    0.000    0.000 {method 'remove' of 'list' objects}\n",
      "       44    0.000    0.000    0.000    0.000 TypeSlots.py:315(__init__)\n",
      "        4    0.000    0.000    0.000    0.000 Machines.py:137(FastMachine)\n",
      "        4    0.000    0.000    0.002    0.001 _osx_support.py:368(customize_config_vars)\n",
      "        4    0.000    0.000    0.000    0.000 Future.py:1(<module>)\n",
      "    36/28    0.000    0.000    0.000    0.000 PyrexTypes.py:2490(__hash__)\n",
      "        8    0.000    0.000    0.000    0.000 Regexps.py:57(uppercase_range)\n",
      "        4    0.000    0.000    0.000    0.000 {method 'write' of '_io.BufferedWriter' objects}\n",
      "       16    0.000    0.000    0.000    0.000 {strop.maketrans}\n",
      "       12    0.000    0.000    0.000    0.000 log.py:19(_log)\n",
      "        4    0.000    0.000    0.000    0.000 PyrexTypes.py:3758(CEnumType)\n",
      "        4    0.000    0.000    0.002    0.000 contextlib.py:153(__exit__)\n",
      "        4    0.000    0.000    0.000    0.000 fancy_getopt.py:45(__init__)\n",
      "        8    0.000    0.000    0.000    0.000 log.py:39(info)\n",
      "    44/28    0.000    0.000    0.000    0.000 {hash}\n",
      "        4    0.000    0.000    0.000    0.000 {posix.putenv}\n",
      "       48    0.000    0.000    0.000    0.000 PyrexTypes.py:65(get_fused_types)\n",
      "        4    0.000    0.000    0.000    0.000 fancy_getopt.py:33(FancyGetopt)\n",
      "       12    0.000    0.000    0.000    0.000 _osx_support.py:138(<genexpr>)\n",
      "      140    0.000    0.000    0.000    0.000 {method 'end' of '_sre.SRE_Match' objects}\n",
      "       28    0.000    0.000    0.000    0.000 cmd.py:97(__getattr__)\n",
      "        4    0.000    0.000    0.000    0.000 Regexps.py:306(__init__)\n",
      "        4    0.000    0.000    0.000    0.000 Regexps.py:94(CodeRange)\n",
      "        4    0.000    0.000    0.000    0.000 PyrexTypes.py:3767(__init__)\n",
      "        4    0.000    0.000    0.000    0.000 Regexps.py:85(CodeRanges)\n",
      "        4    0.000    0.000    0.000    0.000 abc.py:105(register)\n",
      "        4    0.000    0.000    0.000    0.000 dist.py:782(get_command_packages)\n",
      "        4    0.000    0.000    0.000    0.000 tempfile.py:221(_get_candidate_names)\n",
      "       28    0.000    0.000    0.000    0.000 {repr}\n",
      "        4    0.000    0.000    0.000    0.000 Main.py:513(CompilationOptions)\n",
      "       48    0.000    0.000    0.000    0.000 PyrexTypes.py:3359(__eq__)\n",
      "       48    0.000    0.000    0.000    0.000 {method 'strip' of 'str' objects}\n",
      "      232    0.000    0.000    0.000    0.000 PyrexTypes.py:244(resolve)\n",
      "        4    0.000    0.000    0.000    0.000 PyrexTypes.py:2343(CArrayType)\n",
      "        4    0.000    0.000    0.000    0.000 StringIOTree.py:7(StringIOTree)\n",
      "       48    0.000    0.000    0.000    0.000 {method 'random' of '_random.Random' objects}\n",
      "        4    0.000    0.000    0.180    0.045 build_ext.py:155(run)\n",
      "        4    0.000    0.000    0.001    0.000 build_ext.py:144(finalize_options)\n",
      "       12    0.000    0.000    0.000    0.000 {issubclass}\n",
      "        4    0.000    0.000    0.000    0.000 build_ext.py:429(get_outputs)\n",
      "        4    0.000    0.000    0.000    0.000 rdd.py:995(<lambda>)\n",
      "        4    0.000    0.000    0.000    0.000 TypeSlots.py:355(__init__)\n",
      "        8    0.000    0.000    0.000    0.000 _abcoll.py:548(update)\n",
      "        4    0.000    0.000    0.000    0.000 Regexps.py:405(SwitchCase)\n",
      "        4    0.000    0.000    0.000    0.000 StringEncoding.py:90(StrLiteralBuilder)\n",
      "        4    0.000    0.000    0.000    0.000 Symtab.py:1704(ClosureScope)\n",
      "        4    0.000    0.000    0.000    0.000 PyrexTypes.py:944(BufferType)\n",
      "        8    0.000    0.000    0.000    0.000 Regexps.py:71(lowercase_range)\n",
      "       12    0.000    0.000    0.000    0.000 os.py:512(getenv)\n",
      "        4    0.000    0.000    0.000    0.000 Symtab.py:1566(LocalScope)\n",
      "        4    0.000    0.000    0.000    0.000 build.py:55(initialize_options)\n",
      "        4    0.000    0.000    0.000    0.000 Symtab.py:1796(PyClassScope)\n",
      "        4    0.000    0.000    0.000    0.000 StringEncoding.py:113(EncodedString)\n",
      "        4    0.000    0.000    0.000    0.000 Symtab.py:2272(PropertyScope)\n",
      "        4    0.000    0.000    0.000    0.000 config.py:21(PyPIRCCommand)\n",
      "       12    0.000    0.000    0.000    0.000 Regexps.py:291(__init__)\n",
      "      8/4    0.000    0.000    0.001    0.000 cmd.py:107(ensure_finalized)\n",
      "        4    0.000    0.000    0.000    0.000 build_ext.py:28(__init__)\n",
      "        4    0.000    0.000    0.000    0.000 PyrexTypes.py:1538(CNumericType)\n",
      "        4    0.000    0.000    0.000    0.000 dist.py:1026(__init__)\n",
      "        4    0.000    0.000    0.000    0.000 PyrexTypes.py:1406(CConstType)\n",
      "        4    0.000    0.000    0.000    0.000 Shadow.py:211(__init__)\n",
      "        4    0.000    0.000    0.000    0.000 {filter}\n",
      "        4    0.000    0.000    0.000    0.000 Machines.py:73(Node)\n",
      "        4    0.000    0.000    0.000    0.000 PyrexTypes.py:1736(CBIntType)\n",
      "       56    0.000    0.000    0.000    0.000 PyrexTypes.py:304(public_decl)\n",
      "       20    0.000    0.000    0.000    0.000 _osx_support.py:83(_get_system_version)\n",
      "        4    0.000    0.000    0.000    0.000 PyrexTypes.py:1502(CVoidType)\n",
      "        4    0.000    0.000    0.000    0.000 Lexicons.py:42(Lexicon)\n",
      "        4    0.000    0.000    0.000    0.000 PyrexTypes.py:3711(TemplatePlaceholderType)\n",
      "        4    0.000    0.000    0.000    0.000 Symtab.py:1661(GeneratorExpressionScope)\n",
      "        4    0.000    0.000    0.000    0.000 TypeSlots.py:309(InternalMethodSlot)\n",
      "        4    0.000    0.000    0.000    0.000 {operator.add}\n",
      "       12    0.000    0.000    0.000    0.000 PyrexTypes.py:1410(__init__)\n",
      "        4    0.000    0.000    0.000    0.000 Machines.py:28(Machine)\n",
      "        4    0.000    0.000    0.181    0.045 dist.py:947(run_commands)\n",
      "        4    0.000    0.000    0.000    0.000 pyximport.py:112(handle_special_build)\n",
      "        8    0.000    0.000    0.000    0.000 posixpath.py:112(basename)\n",
      "        4    0.000    0.000    0.000    0.000 dist.py:594(finalize_options)\n",
      "        4    0.000    0.000    0.000    0.000 log.py:14(Log)\n",
      "        8    0.000    0.000    0.000    0.000 {vars}\n",
      "        4    0.000    0.000    0.000    0.000 PyrexTypes.py:3918(ErrorType)\n",
      "        4    0.000    0.000    0.000    0.000 PyrexTypes.py:3164(CFuncTypeArg)\n",
      "        4    0.000    0.000    0.000    0.000 PyrexTypes.py:3197(ToPyStructUtilityCode)\n",
      "        4    0.000    0.000    0.000    0.000 DebugFlags.py:3(<module>)\n",
      "       12    0.000    0.000    0.000    0.000 {method 'index' of 'list' objects}\n",
      "       32    0.000    0.000    0.000    0.000 PyrexTypes.py:2504(same_as_resolved_type)\n",
      "        4    0.000    0.000    0.000    0.000 Symtab.py:1725(StructOrUnionScope)\n",
      "       12    0.000    0.000    0.000    0.000 {method 'release' of 'thread.lock' objects}\n",
      "        4    0.000    0.000    0.000    0.000 Symtab.py:233(InnerEntry)\n",
      "        4    0.000    0.000    0.000    0.000 Regexps.py:111(RE)\n",
      "        8    0.000    0.000    0.000    0.000 fancy_getopt.py:137(set_negative_aliases)\n",
      "       16    0.000    0.000    0.000    0.000 Regexps.py:157(check_re)\n",
      "        4    0.000    0.000    0.000    0.000 PyrexTypes.py:2564(CReferenceType)\n",
      "        8    0.000    0.000    0.000    0.000 {method 'keys' of 'dict' objects}\n",
      "        4    0.000    0.000    0.000    0.000 StringEncoding.py:23(UnicodeLiteralBuilder)\n",
      "       16    0.000    0.000    0.000    0.000 posixpath.py:44(normcase)\n",
      "        8    0.000    0.000    0.000    0.000 {method 'find' of 'str' objects}\n",
      "        4    0.000    0.000    0.000    0.000 log.py:65(set_verbosity)\n",
      "        8    0.000    0.000    0.000    0.000 string.py:310(join)\n",
      "        4    0.000    0.000    0.000    0.000 tempfile.py:433(__del__)\n",
      "        4    0.000    0.000    0.000    0.000 DFA.py:93(StateMap)\n",
      "       12    0.000    0.000    0.000    0.000 PyrexTypes.py:1561(sign_and_name)\n",
      "        4    0.000    0.000    0.000    0.000 dist.py:490(_get_toplevel_options)\n",
      "        4    0.000    0.000    0.000    0.000 extension.py:17(Extension)\n",
      "        4    0.000    0.000    0.000    0.000 PyrexTypes.py:1762(CPyUCS4IntType)\n",
      "        4    0.000    0.000    0.000    0.000 PyrexTypes.py:3820(CTupleType)\n",
      "        4    0.000    0.000    0.000    0.000 Shadow.py:430(CythonDotParallel)\n",
      "        4    0.000    0.000    0.000    0.000 cmd.py:433(install_misc)\n",
      "        8    0.000    0.000    0.000    0.000 build_ext.py:656(get_ext_fullname)\n",
      "        4    0.000    0.000    0.000    0.000 StringEncoding.py:156(BytesLiteral)\n",
      "        4    0.000    0.000    0.000    0.000 build_ext.py:27(Optimization)\n",
      "       12    0.000    0.000    0.000    0.000 {method 'copy' of 'dict' objects}\n",
      "        4    0.000    0.000    0.000    0.000 Shadow.py:14(_ArrayType)\n",
      "        4    0.000    0.000    0.000    0.000 StringEncoding.py:60(BytesLiteralBuilder)\n",
      "        4    0.000    0.000    0.000    0.000 fancy_getopt.py:94(set_option_table)\n",
      "        4    0.000    0.000    0.000    0.000 TypeSlots.py:500(__init__)\n",
      "        4    0.000    0.000    0.000    0.000 dist.py:289(get_option_dict)\n",
      "        4    0.000    0.000    0.000    0.000 __init__.py:4(<module>)\n",
      "        4    0.000    0.000    0.000    0.000 Regexps.py:233(RawCodeRange)\n",
      "        4    0.000    0.000    0.000    0.000 extension.py:26(Extension)\n",
      "        4    0.000    0.000    0.000    0.000 tempfile.py:391(__init__)\n",
      "        4    0.000    0.000    0.000    0.000 pyximport.py:243(__init__)\n",
      "        4    0.000    0.000    0.000    0.000 Symtab.py:882(PreImportScope)\n",
      "       56    0.000    0.000    0.000    0.000 PyrexTypes.py:52(base_declaration_code)\n",
      "        4    0.000    0.000    0.000    0.000 pyximport.py:325(PyImporter)\n",
      "        4    0.000    0.000    0.000    0.000 TypeSlots.py:164(SlotDescriptor)\n",
      "        4    0.000    0.000    0.000    0.000 Shadow.py:209(PointerType)\n",
      "        4    0.000    0.000    0.000    0.000 PyrexTypes.py:1784(CPyUnicodeIntType)\n",
      "        4    0.000    0.000    0.000    0.000 Symtab.py:44(BufferAux)\n",
      "        4    0.000    0.000    0.000    0.000 pyximport.py:397(__init__)\n",
      "        4    0.000    0.000    0.000    0.000 Utils.py:439(LazyStr)\n",
      "        4    0.000    0.000    0.000    0.000 log.py:59(set_threshold)\n",
      "        4    0.000    0.000    0.000    0.000 PyrexTypes.py:1842(CFloatType)\n",
      "        4    0.000    0.000    0.000    0.000 getopt.py:38(GetoptError)\n",
      "        4    0.000    0.000    0.000    0.000 PyrexTypes.py:1451(FusedType)\n",
      "        4    0.000    0.000    0.000    0.000 PyrexTypes.py:2290(CPointerBaseType)\n",
      "        8    0.000    0.000    0.000    0.000 {method 'insert' of 'list' objects}\n",
      "        4    0.000    0.000    0.000    0.000 spark_util.py:3(spark_cython)\n",
      "        4    0.000    0.000    0.000    0.000 TypeSlots.py:273(MethodSlot)\n",
      "        4    0.000    0.000    0.000    0.000 cmd.py:274(get_command_name)\n",
      "        8    0.000    0.000    0.000    0.000 TypeSlots.py:326(__init__)\n",
      "        8    0.000    0.000    0.000    0.000 string.py:283(split)\n",
      "        4    0.000    0.000    0.000    0.000 log.py:36(debug)\n",
      "        4    0.000    0.000    0.000    0.000 PyrexTypes.py:3781(declaration_code)\n",
      "        4    0.000    0.000    0.000    0.000 dist.py:1242(fix_help_options)\n",
      "        4    0.000    0.000    0.000    0.000 Shadow.py:181(_nogil)\n",
      "        4    0.000    0.000    0.000    0.000 Regexps.py:384(Rep1)\n",
      "        4    0.000    0.000    0.000    0.000 PyrexTypes.py:1821(CSSizeTType)\n",
      "        4    0.000    0.000    0.000    0.000 PyrexTypes.py:2559(CNullPtrType)\n",
      "        4    0.000    0.000    0.000    0.000 PyrexTypes.py:1728(CReturnCodeType)\n",
      "        4    0.000    0.000    0.000    0.000 PyrexTypes.py:2599(CFakeReferenceType)\n",
      "        4    0.000    0.000    0.000    0.000 Shadow.py:323(typedef)\n",
      "        4    0.000    0.000    0.000    0.000 pyximport.py:396(LibLoader)\n",
      "        4    0.000    0.000    0.000    0.000 Shadow.py:202(CythonType)\n",
      "        4    0.000    0.000    0.000    0.000 pyximport.py:240(PyxImporter)\n",
      "        4    0.000    0.000    0.000    0.000 Symtab.py:2294(CConstScope)\n",
      "        8    0.000    0.000    0.000    0.000 glob.py:82(<lambda>)\n",
      "        4    0.000    0.000    0.000    0.000 sre_parse.py:87(checkgroup)\n",
      "        4    0.000    0.000    0.000    0.000 PyrexTypes.py:1609(ForbidUseClass)\n",
      "        4    0.000    0.000    0.000    0.000 Errors.py:10(PlexError)\n",
      "        4    0.000    0.000    0.000    0.000 Main.py:41(CompilationData)\n",
      "        4    0.000    0.000    0.000    0.000 Regexps.py:345(Alt)\n",
      "        4    0.000    0.000    0.000    0.000 Shadow.py:248(StructType)\n",
      "        4    0.000    0.000    0.000    0.000 Errors.py:42(UnrecognizedInput)\n",
      "        4    0.000    0.000    0.000    0.000 TypeSlots.py:428(SuiteSlot)\n",
      "        4    0.000    0.000    0.000    0.000 Symtab.py:2311(TemplateScope)\n",
      "        4    0.000    0.000    0.000    0.000 ccompiler.py:263(set_libraries)\n",
      "        4    0.000    0.000    0.000    0.000 TypeSlots.py:377(SyntheticSlot)\n",
      "        4    0.000    0.000    0.000    0.000 ccompiler.py:237(set_include_dirs)\n",
      "        8    0.000    0.000    0.000    0.000 {method 'index' of 'str' objects}\n",
      "        4    0.000    0.000    0.000    0.000 PyrexTypes.py:1829(CSizeTType)\n",
      "        4    0.000    0.000    0.000    0.000 PyrexTypes.py:1805(CPyHashTType)\n",
      "        4    0.000    0.000    0.000    0.000 Shadow.py:97(_EmptyDecoratorAndManager)\n",
      "        4    0.000    0.000    0.000    0.000 Shadow.py:105(_Optimization)\n",
      "        8    0.000    0.000    0.000    0.000 sysconfig.py:58(get_python_version)\n",
      "        4    0.000    0.000    0.000    0.000 fancy_getopt.py:132(set_aliases)\n",
      "        4    0.000    0.000    0.000    0.000 cmd.py:225(ensure_string_list)\n",
      "        4    0.000    0.000    0.000    0.000 TypeSlots.py:416(DocStringSlot)\n",
      "        4    0.000    0.000    0.000    0.000 Main.py:611(CompilationResultSet)\n",
      "        4    0.000    0.000    0.000    0.000 Main.py:585(CompilationResult)\n",
      "        4    0.000    0.000    0.000    0.000 Errors.py:35(AmbiguousAction)\n",
      "        4    0.000    0.000    0.000    0.000 Regexps.py:282(SpecialSymbol)\n",
      "        4    0.000    0.000    0.000    0.000 Errors.py:18(PlexValueError)\n",
      "        4    0.000    0.000    0.000    0.000 {method 'sort' of 'list' objects}\n",
      "        4    0.000    0.000    0.000    0.000 TypeSlots.py:266(EmptySlot)\n",
      "        4    0.000    0.000    0.000    0.000 Errors.py:14(PlexTypeError)\n",
      "        4    0.000    0.000    0.000    0.000 Lexicons.py:24(State)\n",
      "        4    0.000    0.000    0.000    0.000 Options.py:177(one_of)\n",
      "        4    0.000    0.000    0.000    0.000 Errors.py:80(InternalError)\n",
      "        4    0.000    0.000    0.000    0.000 TypeSlots.py:344(GCClearReferencesSlot)\n",
      "        4    0.000    0.000    0.000    0.000 Symtab.py:1762(ClassScope)\n",
      "        4    0.000    0.000    0.000    0.000 {method 'group' of '_sre.SRE_Match' objects}\n",
      "        4    0.000    0.000    0.000    0.000 {thread.allocate_lock}\n",
      "        4    0.000    0.000    0.000    0.000 TypeSlots.py:497(BaseClassSlot)\n",
      "        4    0.000    0.000    0.000    0.000 PyrexTypes.py:3905(UnspecifiedType)\n",
      "        4    0.000    0.000    0.000    0.000 dist.py:984(has_c_libraries)\n",
      "        4    0.000    0.000    0.000    0.000 TypeSlots.py:253(FixedSlot)\n",
      "        4    0.000    0.000    0.000    0.000 Errors.py:55(CompileError)\n",
      "        4    0.000    0.000    0.000    0.000 TypeSlots.py:322(GCDependentSlot)\n",
      "        4    0.000    0.000    0.000    0.000 Errors.py:95(CompilerCrash)\n",
      "        4    0.000    0.000    0.000    0.000 fancy_getopt.py:476(OptionDummy)\n",
      "        4    0.000    0.000    0.000    0.000 PyrexTypes.py:1813(CPySSizeTType)\n",
      "        4    0.000    0.000    0.000    0.000 PyrexTypes.py:1524(InvisibleVoidType)\n",
      "        4    0.000    0.000    0.000    0.000 contextlib.py:149(__init__)\n",
      "        4    0.000    0.000    0.000    0.000 Errors.py:23(PyrexWarning)\n",
      "        4    0.000    0.000    0.000    0.000 ccompiler.py:280(set_library_dirs)\n",
      "        4    0.000    0.000    0.000    0.000 Shadow.py:270(UnionType)\n",
      "        4    0.000    0.000    0.000    0.000 PyrexTypes.py:1720(CAnonEnumType)\n",
      "        4    0.000    0.000    0.000    0.000 Errors.py:31(InvalidScanner)\n",
      "        4    0.000    0.000    0.000    0.000 ccompiler.py:293(set_runtime_library_dirs)\n",
      "        4    0.000    0.000    0.000    0.000 fancy_getopt.py:480(__init__)\n",
      "        4    0.000    0.000    0.000    0.000 pyximport.py:417(PyxLoader)\n",
      "        8    0.000    0.000    0.000    0.000 {posix.getpid}\n",
      "        4    0.000    0.000    0.000    0.000 PyrexTypes.py:1836(CPtrdiffTType)\n",
      "        4    0.000    0.000    0.000    0.000 fancy_getopt.py:298(get_option_order)\n",
      "        4    0.000    0.000    0.000    0.000 Shadow.py:242(ArrayType)\n",
      "        4    0.000    0.000    0.000    0.000 TypeSlots.py:487(GetSetSlot)\n",
      "        4    0.000    0.000    0.000    0.000 pyximport.py:450(PyxArgs)\n",
      "        4    0.000    0.000    0.000    0.000 Main.py:503(CompilationSource)\n",
      "        4    0.000    0.000    0.000    0.000 Errors.py:22(InvalidRegex)\n",
      "        4    0.000    0.000    0.000    0.000 {iter}\n",
      "        4    0.000    0.000    0.000    0.000 Errors.py:72(CompileWarning)\n",
      "        4    0.000    0.000    0.000    0.000 TypeSlots.py:480(MemberTableSlot)\n",
      "        4    0.000    0.000    0.000    0.000 Errors.py:88(AbortError)\n",
      "        4    0.000    0.000    0.000    0.000 {method 'upper' of 'str' objects}\n",
      "        4    0.000    0.000    0.000    0.000 Regexps.py:264(_RawNewline)\n",
      "        4    0.000    0.000    0.000    0.000 Shadow.py:338(_FusedType)\n",
      "        4    0.000    0.000    0.000    0.000 Errors.py:26(InvalidToken)\n",
      "        4    0.000    0.000    0.000    0.000 log.py:16(__init__)\n",
      "        4    0.000    0.000    0.000    0.000 {method 'disable' of '_lsprof.Profiler' objects}\n",
      "        4    0.000    0.000    0.000    0.000 PyrexTypes.py:3374(__hash__)\n",
      "        4    0.000    0.000    0.000    0.000 Errors.py:119(NoElementTreeInstalledException)\n",
      "        4    0.000    0.000    0.000    0.000 Shadow.py:195(CythonMetaType)\n",
      "        4    0.000    0.000    0.000    0.000 Regexps.py:302(Seq)\n",
      "        4    0.000    0.000    0.000    0.000 TypeSlots.py:470(MethodTableSlot)\n",
      "        4    0.000    0.000    0.000    0.000 TypeSlots.py:397(TypeFlagsSlot)\n",
      "        4    0.000    0.000    0.000    0.000 contextlib.py:151(__enter__)\n",
      "        4    0.000    0.000    0.000    0.000 {method 'pop' of 'dict' objects}\n",
      "        4    0.000    0.000    0.000    0.000 TypeSlots.py:352(ConstructorSlot)\n",
      "        4    0.000    0.000    0.000    0.000 Errors.py:19(PyrexError)\n",
      "\n",
      "\n",
      "============================================================\n",
      "Profile of RDD<id=41>\n",
      "============================================================\n",
      "         5044079 function calls (5044075 primitive calls) in 1.245 seconds\n",
      "\n",
      "   Ordered by: internal time, cumulative time\n",
      "\n",
      "   ncalls  tottime  percall  cumtime  percall filename:lineno(function)\n",
      "  5000004    0.676    0.000    0.843    0.000 rdd.py:1004(<genexpr>)\n",
      "        8    0.402    0.050    1.244    0.156 {sum}\n",
      "     9770    0.090    0.000    0.090    0.000 {method 'read' of 'file' objects}\n",
      "     4883    0.056    0.000    0.056    0.000 {cPickle.loads}\n",
      "     4887    0.008    0.000    0.162    0.000 serializers.py:155(_read_with_length)\n",
      "     4887    0.005    0.000    0.166    0.000 serializers.py:136(load_stream)\n",
      "     4887    0.004    0.000    0.008    0.000 serializers.py:542(read_int)\n",
      "     4883    0.002    0.000    0.058    0.000 serializers.py:421(loads)\n",
      "     4887    0.001    0.000    0.001    0.000 {_struct.unpack}\n",
      "     4891    0.001    0.000    0.001    0.000 {len}\n",
      "        4    0.000    0.000    0.001    0.000 serializers.py:259(dump_stream)\n",
      "        4    0.000    0.000    0.000    0.000 serializers.py:217(load_stream)\n",
      "        4    0.000    0.000    1.245    0.311 worker.py:104(process)\n",
      "        4    0.000    0.000    0.000    0.000 {cPickle.dumps}\n",
      "       12    0.000    0.000    1.244    0.104 rdd.py:316(func)\n",
      "        8    0.000    0.000    0.000    0.000 rdd.py:861(func)\n",
      "      8/4    0.000    0.000    1.245    0.311 rdd.py:2345(pipeline_func)\n",
      "        4    0.000    0.000    0.000    0.000 serializers.py:549(write_int)\n",
      "        8    0.000    0.000    0.000    0.000 {method 'write' of 'file' objects}\n",
      "        4    0.000    0.000    0.000    0.000 {built-in method from_iterable}\n",
      "        4    0.000    0.000    1.244    0.311 rdd.py:1004(<lambda>)\n",
      "        4    0.000    0.000    0.000    0.000 serializers.py:220(_load_stream_without_unbatching)\n",
      "        4    0.000    0.000    0.000    0.000 serializers.py:414(dumps)\n",
      "        4    0.000    0.000    0.000    0.000 {operator.add}\n",
      "        4    0.000    0.000    0.000    0.000 rdd.py:995(<lambda>)\n",
      "        4    0.000    0.000    0.000    0.000 {_struct.pack}\n",
      "        4    0.000    0.000    0.000    0.000 {iter}\n",
      "        4    0.000    0.000    0.000    0.000 {method 'disable' of '_lsprof.Profiler' objects}\n",
      "\n",
      "\n",
      "============================================================\n",
      "Profile of RDD<id=42>\n",
      "============================================================\n",
      "         5100835 function calls (5099599 primitive calls) in 3.490 seconds\n",
      "\n",
      "   Ordered by: internal time, cumulative time\n",
      "\n",
      "   ncalls  tottime  percall  cumtime  percall filename:lineno(function)\n",
      "        4    0.608    0.152    0.608    0.152 {spark_fof_c.get_particle_bins_cython}\n",
      "  5000004    0.583    0.000    0.583    0.000 rdd.py:1004(<genexpr>)\n",
      "        4    0.517    0.129    0.673    0.168 {numpy.core.multiarray.fromiter}\n",
      "        8    0.380    0.048    0.963    0.120 {sum}\n",
      "        4    0.372    0.093    0.372    0.093 {posix.system}\n",
      "        4    0.204    0.051    0.419    0.105 Main.py:5(<module>)\n",
      "     4883    0.070    0.000    0.070    0.000 {cPickle.loads}\n",
      "        4    0.065    0.016    0.125    0.031 Symtab.py:5(<module>)\n",
      "     12/4    0.064    0.005    1.225    0.306 {__import__}\n",
      "     9774    0.060    0.000    0.060    0.000 {method 'read' of 'file' objects}\n",
      "        4    0.049    0.012    0.049    0.012 {imp.load_dynamic}\n",
      "        4    0.047    0.012    0.054    0.014 PyrexTypes.py:5(<module>)\n",
      "      320    0.039    0.000    0.039    0.000 {imp.find_module}\n",
      "        4    0.036    0.009    0.918    0.230 build_ext.py:277(run)\n",
      "       16    0.032    0.002    0.172    0.011 __init__.py:1(<module>)\n",
      "        4    0.026    0.006    0.099    0.025 core.py:7(<module>)\n",
      "        4    0.024    0.006    0.226    0.057 pyxbuild.py:5(<module>)\n",
      "        4    0.023    0.006    0.026    0.007 Errors.py:5(<module>)\n",
      "        4    0.023    0.006    0.024    0.006 cmd.py:5(<module>)\n",
      "        4    0.020    0.005    0.056    0.014 __init__.py:31(<module>)\n",
      "        4    0.020    0.005    0.036    0.009 Lexicons.py:9(<module>)\n",
      "        4    0.018    0.005    0.036    0.009 util.py:5(<module>)\n",
      "        4    0.016    0.004    0.130    0.033 build_ext.py:4(<module>)\n",
      "        4    0.016    0.004    0.017    0.004 spawn.py:7(<module>)\n",
      "        4    0.015    0.004    0.435    0.109 build_ext.py:174(cython_sources)\n",
      "     4887    0.009    0.000    0.151    0.000 serializers.py:155(_read_with_length)\n",
      "        4    0.008    0.002    0.113    0.028 build_ext.py:5(<module>)\n",
      "        4    0.008    0.002    0.048    0.012 dist.py:5(<module>)\n",
      "        4    0.008    0.002    1.172    0.293 pyximport.py:176(build_module)\n",
      "        4    0.007    0.002    0.015    0.004 DFA.py:9(<module>)\n",
      "        4    0.007    0.002    0.008    0.002 Machines.py:9(<module>)\n",
      "        4    0.007    0.002    0.038    0.010 fancy_getopt.py:9(<module>)\n",
      "     4887    0.006    0.000    0.013    0.000 serializers.py:542(read_int)\n",
      "        4    0.006    0.002    1.848    0.462 spark_util.py:4(wrapped)\n",
      "       16    0.005    0.000    3.490    0.218 rdd.py:316(func)\n",
      "     4887    0.005    0.000    0.156    0.000 serializers.py:136(load_stream)\n",
      "        4    0.005    0.001    0.006    0.001 pyximport.py:92(get_distutils_extension)\n",
      "      432    0.004    0.000    0.004    0.000 Shadow.py:298(pointer)\n",
      "        8    0.004    0.000    0.004    0.000 {function seed at 0x102935ed8}\n",
      "   316/92    0.004    0.000    0.009    0.000 sre_parse.py:395(_parse)\n",
      "      320    0.004    0.000    0.045    0.000 pyximport.py:250(find_module)\n",
      "        8    0.003    0.000    0.003    0.000 {posix.urandom}\n",
      "     4883    0.002    0.000    0.072    0.000 serializers.py:421(loads)\n",
      "   452/92    0.002    0.000    0.006    0.000 sre_compile.py:64(_compile)\n",
      "     2564    0.002    0.000    0.002    0.000 sre_parse.py:193(__next)\n",
      "     4887    0.002    0.000    0.002    0.000 {_struct.unpack}\n",
      "      408    0.002    0.000    0.002    0.000 {posix.stat}\n",
      "        4    0.002    0.000    0.005    0.001 TypeSlots.py:6(<module>)\n",
      "        4    0.002    0.000    0.007    0.002 Shadow.py:2(<module>)\n",
      "        4    0.002    0.000    0.002    0.000 pyximport.py:48(<module>)\n",
      "       20    0.002    0.000    0.002    0.000 {method 'clear' of 'dict' objects}\n",
      "14695/14547    0.001    0.000    0.001    0.000 {len}\n",
      "      152    0.001    0.000    0.002    0.000 sre_compile.py:256(_optimize_charset)\n",
      "        8    0.001    0.000    0.001    0.000 {posix.unlink}\n",
      "  564/212    0.001    0.000    0.002    0.000 sre_parse.py:151(getwidth)\n",
      "      300    0.001    0.000    0.002    0.000 TypeSlots.py:280(__init__)\n",
      "      152    0.001    0.000    0.023    0.000 re.py:230(_compile)\n",
      "        8    0.001    0.000    0.001    0.000 {posix.open}\n",
      "       92    0.001    0.000    0.003    0.000 sre_compile.py:433(_compile_info)\n",
      "     8596    0.001    0.000    0.001    0.000 {method 'append' of 'list' objects}\n",
      "      352    0.001    0.000    0.002    0.000 genericpath.py:34(isfile)\n",
      "     3008    0.001    0.000    0.001    0.000 {isinstance}\n",
      "     1980    0.001    0.000    0.002    0.000 sre_parse.py:212(get)\n",
      "        8    0.001    0.000    0.001    0.000 fancy_getopt.py:146(_grok_option_table)\n",
      "     1424    0.001    0.000    0.001    0.000 sre_parse.py:141(__getitem__)\n",
      "        8    0.001    0.000    0.001    0.000 extension.py:4(<module>)\n",
      "      480    0.001    0.000    0.001    0.000 TypeSlots.py:174(__init__)\n",
      "        4    0.001    0.000    0.005    0.001 StringEncoding.py:5(<module>)\n",
      "        4    0.001    0.000    0.001    0.000 Shadow.py:323(typedef)\n",
      "   168/92    0.001    0.000    0.009    0.000 sre_parse.py:317(_parse_sub)\n",
      "        4    0.001    0.000    0.001    0.000 Errors.py:10(<module>)\n",
      "      344    0.001    0.000    0.001    0.000 __init__.py:22(find_module)\n",
      "        4    0.001    0.000    0.001    0.000 Regexps.py:9(<module>)\n",
      "       92    0.000    0.000    0.010    0.000 sre_parse.py:706(parse)\n",
      "       92    0.000    0.000    0.020    0.000 sre_compile.py:567(compile)\n",
      "       68    0.000    0.000    0.001    0.000 sre_compile.py:411(_mk_bitmap)\n",
      "     1032    0.000    0.000    0.000    0.000 six.py:184(find_module)\n",
      "        4    0.000    0.000    0.000    0.000 dist.py:1011(DistributionMetadata)\n",
      "      152    0.000    0.000    0.003    0.000 sre_compile.py:228(_compile_charset)\n",
      "     1464    0.000    0.000    0.001    0.000 sre_parse.py:206(match)\n",
      "      192    0.000    0.000    0.000    0.000 TypeSlots.py:87(__init__)\n",
      "    80/68    0.000    0.000    0.001    0.000 PyrexTypes.py:41(specialization_name)\n",
      "       16    0.000    0.000    0.004    0.000 util.py:16(get_platform)\n",
      "       16    0.000    0.000    0.000    0.000 {method 'update' of 'dict' objects}\n",
      "        4    0.000    0.000    0.001    0.000 archive_util.py:4(<module>)\n",
      "      384    0.000    0.000    0.000    0.000 {method 'split' of 'str' objects}\n",
      "        4    0.000    0.000    0.000    0.000 StringIOTree.py:1(<module>)\n",
      "        4    0.000    0.000    0.004    0.001 StringEncoding.py:218(_build_specials_replacer)\n",
      "        4    0.000    0.000    0.006    0.001 tempfile.py:176(_get_default_tempdir)\n",
      "      768    0.000    0.000    0.000    0.000 sre_parse.py:149(append)\n",
      "       28    0.000    0.000    0.002    0.000 util.py:230(split_quoted)\n",
      "      564    0.000    0.000    0.000    0.000 {range}\n",
      "      216    0.000    0.000    0.005    0.000 Shadow.py:204(_pointer)\n",
      "      764    0.000    0.000    0.000    0.000 {method 'startswith' of 'str' objects}\n",
      "     1068    0.000    0.000    0.000    0.000 {min}\n",
      "        4    0.000    0.000    0.000    0.000 {numpy.core.multiarray.zeros}\n",
      "        4    0.000    0.000    0.000    0.000 dep_util.py:5(<module>)\n",
      "      320    0.000    0.000    0.000    0.000 posixpath.py:52(isabs)\n",
      "      452    0.000    0.000    0.000    0.000 sre_parse.py:92(__init__)\n",
      "        4    0.000    0.000    0.383    0.096 _osx_support.py:55(_read_output)\n",
      "        8    0.000    0.000    0.000    0.000 {posix.getcwd}\n",
      "      140    0.000    0.000    0.000    0.000 StringEncoding.py:206(_to_escape_sequence)\n",
      "        4    0.000    0.000    0.000    0.000 getopt.py:15(<module>)\n",
      "       16    0.000    0.000    0.000    0.000 _osx_support.py:429(get_platform_osx)\n",
      "        8    0.000    0.000    0.007    0.001 random.py:100(seed)\n",
      "      448    0.000    0.000    0.000    0.000 {method 'match' of '_sre.SRE_Pattern' objects}\n",
      "        4    0.000    0.000    0.931    0.233 pyxbuild.py:23(pyx_to_dll)\n",
      "      284    0.000    0.000    0.000    0.000 {method 'encode' of 'str' objects}\n",
      "        4    0.000    0.000    0.000    0.000 dist.py:128(__init__)\n",
      "      420    0.000    0.000    0.000    0.000 string.py:484(translate)\n",
      "        4    0.000    0.000    0.000    0.000 {posix.listdir}\n",
      "       92    0.000    0.000    0.009    0.000 sre_compile.py:552(_code)\n",
      "       92    0.000    0.000    0.000    0.000 {_sre.compile}\n",
      "        4    0.000    0.000    0.000    0.000 config.py:5(<module>)\n",
      "      120    0.000    0.000    0.000    0.000 sre_compile.py:428(_simple)\n",
      "        4    0.000    0.000    0.000    0.000 Transitions.py:7(<module>)\n",
      "      560    0.000    0.000    0.000    0.000 {method 'find' of 'bytearray' objects}\n",
      "        4    0.000    0.000    0.058    0.014 ccompiler.py:962(new_compiler)\n",
      "      108    0.000    0.000    0.000    0.000 posixpath.py:61(join)\n",
      "      688    0.000    0.000    0.000    0.000 sre_parse.py:137(__len__)\n",
      "     1148    0.000    0.000    0.000    0.000 {method 'get' of 'dict' objects}\n",
      "       68    0.000    0.000    0.000    0.000 PyrexTypes.py:2297(__init__)\n",
      "        4    0.000    0.000    0.002    0.000 Utils.py:6(<module>)\n",
      "        8    0.000    0.000    0.000    0.000 {method 'close' of 'file' objects}\n",
      "       16    0.000    0.000    0.000    0.000 {posix.uname}\n",
      "       68    0.000    0.000    0.018    0.000 re.py:192(compile)\n",
      "        4    0.000    0.000    0.001    0.000 sysconfig.py:395(_init_posix)\n",
      "        8    0.000    0.000    0.007    0.001 tempfile.py:135(next)\n",
      "        4    0.000    0.000    0.000    0.000 Options.py:5(<module>)\n",
      "       88    0.000    0.000    0.000    0.000 sre_parse.py:268(_escape)\n",
      "      232    0.000    0.000    0.000    0.000 PyrexTypes.py:260(same_as)\n",
      "        8    0.000    0.000    0.000    0.000 posixpath.py:251(expanduser)\n",
      "        4    0.000    0.000    0.000    0.000 unixccompiler.py:14(<module>)\n",
      "        4    0.000    0.000    0.000    0.000 ccompiler.py:4(<module>)\n",
      "      184    0.000    0.000    0.000    0.000 sre_compile.py:546(isstring)\n",
      "     1108    0.000    0.000    0.000    0.000 {ord}\n",
      "       32    0.000    0.000    0.000    0.000 Future.py:1(_get_feature)\n",
      "      344    0.000    0.000    0.000    0.000 six.py:180(find_module)\n",
      "        8    0.000    0.000    0.000    0.000 collections.py:38(__init__)\n",
      "        4    0.000    0.000    0.000    0.000 utils.py:21(get_include)\n",
      "       92    0.000    0.000    0.000    0.000 sre_parse.py:189(__init__)\n",
      "  296/292    0.000    0.000    0.000    0.000 {setattr}\n",
      "        4    0.000    0.000    0.000    0.000 dir_util.py:3(<module>)\n",
      "        4    0.000    0.000    2.521    0.630 <ipython-input-46-70e5b75fae3f>:22(get_particle_bin_partition_numpy)\n",
      "      264    0.000    0.000    0.000    0.000 {getattr}\n",
      "      460    0.000    0.000    0.000    0.000 {method 'replace' of 'str' objects}\n",
      "        8    0.000    0.000    0.007    0.001 tempfile.py:124(rng)\n",
      "        4    0.000    0.000    0.000    0.000 {_io.open}\n",
      "       48    0.000    0.000    0.003    0.000 sysconfig.py:440(get_config_vars)\n",
      "        4    0.000    0.000    0.000    0.000 Naming.py:9(<module>)\n",
      "        4    0.000    0.000    0.000    0.000 pyximport.py:471(install)\n",
      "       92    0.000    0.000    0.000    0.000 TypeSlots.py:258(__init__)\n",
      "      432    0.000    0.000    0.000    0.000 Shadow.py:299(PointerInstance)\n",
      "        4    0.000    0.000    0.000    0.000 ConfigParser.py:232(__init__)\n",
      "      276    0.000    0.000    0.000    0.000 fancy_getopt.py:113(get_attr_name)\n",
      "        4    0.000    0.000    0.000    0.000 {posix.close}\n",
      "       28    0.000    0.000    0.001    0.000 PyrexTypes.py:3262(__init__)\n",
      "       16    0.000    0.000    0.000    0.000 posixpath.py:329(normpath)\n",
      "        4    0.000    0.000    0.000    0.000 TypeSlots.py:16(Signature)\n",
      "       92    0.000    0.000    0.000    0.000 TypeSlots.py:269(__init__)\n",
      "      496    0.000    0.000    0.000    0.000 {method 'translate' of 'str' objects}\n",
      "        4    0.000    0.000    0.000    0.000 serializers.py:259(dump_stream)\n",
      "        4    0.000    0.000    0.000    0.000 log.py:1(<module>)\n",
      "       20    0.000    0.000    0.000    0.000 {method 'search' of '_sre.SRE_Pattern' objects}\n",
      "        4    0.000    0.000    0.002    0.000 _osx_support.py:277(_check_for_unavailable_sdk)\n",
      "      312    0.000    0.000    0.000    0.000 pyximport.py:72(_debug)\n",
      "      168    0.000    0.000    0.000    0.000 {method 'extend' of 'list' objects}\n",
      "     12/4    0.000    0.000    3.490    0.873 rdd.py:2345(pipeline_func)\n",
      "      104    0.000    0.000    0.000    0.000 {hasattr}\n",
      "       16    0.000    0.000    0.009    0.001 dist.py:833(get_command_obj)\n",
      "        4    0.000    0.000    0.001    0.000 dist.py:501(_parse_command_opts)\n",
      "      136    0.000    0.000    0.000    0.000 UserDict.py:103(__contains__)\n",
      "      200    0.000    0.000    0.000    0.000 PyrexTypes.py:263(same_as_resolved_type)\n",
      "      144    0.000    0.000    0.000    0.000 fancy_getopt.py:469(translate_longopt)\n",
      "       48    0.000    0.000    0.000    0.000 re.py:208(escape)\n",
      "      136    0.000    0.000    0.000    0.000 Shadow.py:325(__init__)\n",
      "        8    0.000    0.000    0.002    0.000 fancy_getopt.py:234(getopt)\n",
      "        4    0.000    0.000    0.004    0.001 tempfile.py:235(_mkstemp_inner)\n",
      "        4    0.000    0.000    0.384    0.096 _osx_support.py:144(_find_appropriate_compiler)\n",
      "       92    0.000    0.000    0.000    0.000 sre_parse.py:67(__init__)\n",
      "      124    0.000    0.000    0.000    0.000 PyrexTypes.py:1553(__init__)\n",
      "        4    0.000    0.000    0.389    0.097 sysconfig.py:151(customize_compiler)\n",
      "        8    0.000    0.000    0.000    0.000 build_ext.py:665(get_ext_filename)\n",
      "        4    0.000    0.000    0.000    0.000 build_ext.py:131(finalize_options)\n",
      "        4    0.000    0.000    0.000    0.000 contextlib.py:54(contextmanager)\n",
      "      424    0.000    0.000    0.000    0.000 {method 'join' of 'str' objects}\n",
      "       16    0.000    0.000    0.000    0.000 {map}\n",
      "      344    0.000    0.000    0.000    0.000 {method 'partition' of 'str' objects}\n",
      "       48    0.000    0.000    0.000    0.000 random.py:273(choice)\n",
      "        4    0.000    0.000    0.000    0.000 build.py:3(<module>)\n",
      "        8    0.000    0.000    0.000    0.000 fancy_getopt.py:89(_build_index)\n",
      "        8    0.000    0.000    0.000    0.000 {binascii.hexlify}\n",
      "        4    0.000    0.000    0.002    0.000 dist.py:423(parse_command_line)\n",
      "        4    0.000    0.000    0.000    0.000 dist.py:34(Distribution)\n",
      "       12    0.000    0.000    0.000    0.000 PyrexTypes.py:1466(__init__)\n",
      "  224/220    0.000    0.000    0.000    0.000 build_ext.py:137(__setattr__)\n",
      "        4    0.000    0.000    0.006    0.001 tempfile.py:268(gettempdir)\n",
      "        4    0.000    0.000    0.000    0.000 dist.py:377(parse_config_files)\n",
      "        4    0.000    0.000    0.000    0.000 ccompiler.py:23(CCompiler)\n",
      "        4    0.000    0.000    0.000    0.000 unixccompiler.py:48(UnixCCompiler)\n",
      "        8    0.000    0.000    0.000    0.000 getopt.py:166(long_has_args)\n",
      "       60    0.000    0.000    0.002    0.000 ccompiler.py:162(set_executable)\n",
      "       40    0.000    0.000    0.000    0.000 genericpath.py:23(exists)\n",
      "        4    0.000    0.000    0.000    0.000 Symtab.py:896(BuiltinScope)\n",
      "        4    0.000    0.000    0.000    0.000 Symtab.py:268(Scope)\n",
      "        4    0.000    0.000    0.000    0.000 fnmatch.py:85(translate)\n",
      "        8    0.000    0.000    0.000    0.000 build_ext.py:624(get_ext_fullpath)\n",
      "       12    0.000    0.000    0.000    0.000 abc.py:148(__subclasscheck__)\n",
      "    84/72    0.000    0.000    0.000    0.000 PyrexTypes.py:36(empty_declaration_code)\n",
      "       12    0.000    0.000    0.000    0.000 posixpath.py:120(dirname)\n",
      "        4    0.000    0.000    0.000    0.000 _osx_support.py:29(_find_executable)\n",
      "        4    0.000    0.000    0.000    0.000 dist.py:657(handle_display_options)\n",
      "        4    0.000    0.000    1.222    0.305 pyximport.py:207(load_module)\n",
      "        4    0.000    0.000    0.001    0.000 ccompiler.py:906(get_default_compiler)\n",
      "      132    0.000    0.000    0.000    0.000 {method 'items' of 'dict' objects}\n",
      "       16    0.000    0.000    0.000    0.000 posixpath.py:97(splitext)\n",
      "        4    0.000    0.000    0.003    0.001 build_ext.py:37(build_ext)\n",
      "        4    0.000    0.000    0.000    0.000 util.py:168(check_environ)\n",
      "        8    0.000    0.000    0.000    0.000 cmd.py:49(__init__)\n",
      "       12    0.000    0.000    0.000    0.000 PyrexTypes.py:1869(__init__)\n",
      "       36    0.000    0.000    0.000    0.000 {method 'sub' of '_sre.SRE_Pattern' objects}\n",
      "        4    0.000    0.000    0.001    0.000 glob.py:71(glob1)\n",
      "        4    0.000    0.000    0.000    0.000 pyximport.py:138(handle_dependencies)\n",
      "        4    0.000    0.000    0.000    0.000 debug.py:1(<module>)\n",
      "        4    0.000    0.000    0.000    0.000 file_util.py:4(<module>)\n",
      "        8    0.000    0.000    0.000    0.000 build_ext.py:341(check_extensions_list)\n",
      "        4    0.000    0.000    0.000    0.000 Version.py:3(<module>)\n",
      "        4    0.000    0.000    0.000    0.000 {cPickle.dumps}\n",
      "        4    0.000    0.000    0.000    0.000 _osx_support.py:128(_supports_universal_builds)\n",
      "        8    0.000    0.000    0.000    0.000 getopt.py:144(do_longs)\n",
      "       24    0.000    0.000    0.000    0.000 build_ext.py:131(__getattr__)\n",
      "        4    0.000    0.000    0.000    0.000 dist.py:329(find_config_files)\n",
      "       28    0.000    0.000    0.000    0.000 TypeSlots.py:385(__init__)\n",
      "        4    0.000    0.000    0.000    0.000 ccompiler.py:93(__init__)\n",
      "        4    0.000    0.000    0.001    0.000 fnmatch.py:45(filter)\n",
      "      112    0.000    0.000    0.000    0.000 string.py:262(lstrip)\n",
      "       44    0.000    0.000    0.000    0.000 sre_parse.py:85(closegroup)\n",
      "       44    0.000    0.000    0.000    0.000 sre_parse.py:74(opengroup)\n",
      "        4    0.000    0.000    0.000    0.000 Symtab.py:1009(ModuleScope)\n",
      "        4    0.000    0.000    0.000    0.000 Main.py:55(Context)\n",
      "        8    0.000    0.000    0.000    0.000 getopt.py:51(getopt)\n",
      "        4    0.000    0.000    0.000    0.000 extension.py:90(__init__)\n",
      "        4    0.000    0.000    0.000    0.000 PyrexTypes.py:2615(CFuncType)\n",
      "        4    0.000    0.000    0.436    0.109 build_ext.py:166(build_extensions)\n",
      "        4    0.000    0.000    0.000    0.000 tempfile.py:48(_set_cloexec)\n",
      "       48    0.000    0.000    0.000    0.000 _osx_support.py:455(<genexpr>)\n",
      "      136    0.000    0.000    0.000    0.000 {method 'endswith' of 'str' objects}\n",
      "        4    0.000    0.000    3.491    0.873 worker.py:104(process)\n",
      "       24    0.000    0.000    0.000    0.000 Utils.py:24(cached_function)\n",
      "        4    0.000    0.000    0.000    0.000 PyrexTypes.py:494(MemoryViewSliceType)\n",
      "       12    0.000    0.000    0.000    0.000 _weakrefset.py:70(__contains__)\n",
      "        4    0.000    0.000    0.000    0.000 functools.py:39(wraps)\n",
      "        4    0.000    0.000    0.010    0.002 tempfile.py:447(NamedTemporaryFile)\n",
      "        8    0.000    0.000    0.000    0.000 {fcntl.fcntl}\n",
      "        4    0.000    0.000    0.000    0.000 Symtab.py:55(Entry)\n",
      "       36    0.000    0.000    0.001    0.000 re.py:148(sub)\n",
      "       16    0.000    0.000    0.000    0.000 genericpath.py:93(_splitext)\n",
      "        4    0.000    0.000    0.000    0.000 cmd.py:14(Command)\n",
      "       28    0.000    0.000    0.000    0.000 sre_parse.py:236(_class_escape)\n",
      "      180    0.000    0.000    0.000    0.000 {max}\n",
      "       84    0.000    0.000    0.000    0.000 dist.py:119(<lambda>)\n",
      "        4    0.000    0.000    0.000    0.000 PyrexTypes.py:22(BaseType)\n",
      "        8    0.000    0.000    0.003    0.000 re.py:143(search)\n",
      "        4    0.000    0.000    0.002    0.001 _osx_support.py:220(_remove_unsupported_archs)\n",
      "        4    0.000    0.000    0.000    0.000 os.py:472(__setitem__)\n",
      "       16    0.000    0.000    0.000    0.000 {method 'findall' of '_sre.SRE_Pattern' objects}\n",
      "       16    0.000    0.000    0.000    0.000 UserDict.py:35(__getitem__)\n",
      "        4    0.000    0.000    0.963    0.241 rdd.py:1004(<lambda>)\n",
      "       12    0.000    0.000    0.008    0.001 dist.py:794(get_command_class)\n",
      "        4    0.000    0.000    0.002    0.001 ccompiler.py:129(set_executables)\n",
      "       24    0.000    0.000    0.001    0.000 re.py:138(match)\n",
      "        4    0.000    0.000    0.000    0.000 dist.py:860(_set_command_options)\n",
      "       12    0.000    0.000    0.000    0.000 glob.py:99(has_magic)\n",
      "       16    0.000    0.000    0.000    0.000 posixpath.py:82(split)\n",
      "        4    0.000    0.000    0.000    0.000 PyrexTypes.py:1088(BuiltinObjectType)\n",
      "        4    0.000    0.000    0.000    0.000 build.py:70(finalize_options)\n",
      "       44    0.000    0.000    0.000    0.000 TypeSlots.py:315(__init__)\n",
      "        4    0.000    0.000    0.000    0.000 cmd.py:280(set_undefined_options)\n",
      "        4    0.000    0.000    0.000    0.000 Shadow.py:181(_nogil)\n",
      "      120    0.000    0.000    0.000    0.000 sre_parse.py:145(__setitem__)\n",
      "       28    0.000    0.000    0.000    0.000 PyrexTypes.py:3347(declaration_code)\n",
      "       12    0.000    0.000    0.000    0.000 PyrexTypes.py:1919(sign_and_name)\n",
      "       16    0.000    0.000    0.000    0.000 re.py:173(findall)\n",
      "       36    0.000    0.000    0.000    0.000 _osx_support.py:120(_save_modified_value)\n",
      "       12    0.000    0.000    0.000    0.000 posixpath.py:358(abspath)\n",
      "        8    0.000    0.000    0.000    0.000 sysconfig.py:66(get_python_inc)\n",
      "       68    0.000    0.000    0.000    0.000 {method 'rfind' of 'str' objects}\n",
      "        4    0.000    0.000    0.000    0.000 Transitions.py:15(TransitionMap)\n",
      "        8    0.000    0.000    0.000    0.000 dep_util.py:52(newer_group)\n",
      "        8    0.000    0.000    0.000    0.000 stat.py:49(S_ISREG)\n",
      "        4    0.000    0.000    0.000    0.000 PyrexTypes.py:153(PyrexType)\n",
      "        4    0.000    0.000    0.000    0.000 build_ext.py:108(initialize_options)\n",
      "        4    0.000    0.000    0.000    0.000 tempfile.py:397(__getattr__)\n",
      "       16    0.000    0.000    0.000    0.000 {sorted}\n",
      "        4    0.000    0.000    0.000    0.000 Shadow.py:209(PointerType)\n",
      "        4    0.000    0.000    0.000    0.000 PyrexTypes.py:1862(CComplexType)\n",
      "        8    0.000    0.000    0.001    0.000 tempfile.py:424(close)\n",
      "       16    0.000    0.000    0.000    0.000 UserDict.py:91(get)\n",
      "        4    0.000    0.000    0.000    0.000 extension.py:26(Extension)\n",
      "      228    0.000    0.000    0.000    0.000 {globals}\n",
      "        4    0.000    0.000    0.000    0.000 {posix.fdopen}\n",
      "        4    0.000    0.000    0.919    0.230 dist.py:957(run_command)\n",
      "        4    0.000    0.000    0.000    0.000 <string>:1(<module>)\n",
      "        4    0.000    0.000    0.000    0.000 dist.py:782(get_command_packages)\n",
      "        4    0.000    0.000    0.000    0.000 PyrexTypes.py:326(CTypedefType)\n",
      "        4    0.000    0.000    0.000    0.000 Regexps.py:85(CodeRanges)\n",
      "        4    0.000    0.000    0.386    0.097 _osx_support.py:409(customize_compiler)\n",
      "        4    0.000    0.000    0.000    0.000 build.py:17(build)\n",
      "        4    0.000    0.000    0.000    0.000 build_ext.py:450(build_extension)\n",
      "        4    0.000    0.000    0.000    0.000 Regexps.py:94(CodeRange)\n",
      "        4    0.000    0.000    0.000    0.000 serializers.py:549(write_int)\n",
      "        4    0.000    0.000    0.000    0.000 functools.py:17(update_wrapper)\n",
      "       16    0.000    0.000    0.000    0.000 string.py:222(lower)\n",
      "        4    0.000    0.000    0.000    0.000 build_ext.py:60(build_ext)\n",
      "       44    0.000    0.000    0.000    0.000 PyrexTypes.py:1887(__eq__)\n",
      "       28    0.000    0.000    0.000    0.000 {method 'rstrip' of 'str' objects}\n",
      "        4    0.000    0.000    0.000    0.000 PyrexTypes.py:3415(CppClassType)\n",
      "        8    0.000    0.000    0.000    0.000 Regexps.py:349(__init__)\n",
      "        4    0.000    0.000    0.000    0.000 tempfile.py:148(_candidate_tempdir_list)\n",
      "       48    0.000    0.000    0.000    0.000 string.py:513(replace)\n",
      "       20    0.000    0.000    0.000    0.000 sysconfig.py:478(get_config_var)\n",
      "       12    0.000    0.000    0.000    0.000 fancy_getopt.py:120(_check_alias_dict)\n",
      "        4    0.000    0.000    0.000    0.000 StringEncoding.py:113(EncodedString)\n",
      "        4    0.000    0.000    0.000    0.000 fancy_getopt.py:33(FancyGetopt)\n",
      "       20    0.000    0.000    0.000    0.000 TypeSlots.py:433(__init__)\n",
      "      232    0.000    0.000    0.000    0.000 PyrexTypes.py:244(resolve)\n",
      "        4    0.000    0.000    0.000    0.000 Regexps.py:478(AnyBut)\n",
      "    44/28    0.000    0.000    0.000    0.000 {hash}\n",
      "       28    0.000    0.000    0.000    0.000 cmd.py:97(__getattr__)\n",
      "        8    0.000    0.000    0.000    0.000 {method 'write' of 'file' objects}\n",
      "      112    0.000    0.000    0.000    0.000 {method 'lstrip' of 'str' objects}\n",
      "        4    0.000    0.000    0.000    0.000 Future.py:1(<module>)\n",
      "    36/28    0.000    0.000    0.000    0.000 PyrexTypes.py:2490(__hash__)\n",
      "       48    0.000    0.000    0.000    0.000 {method 'strip' of 'str' objects}\n",
      "        4    0.000    0.000    1.222    0.305 pyximport.py:428(load_module)\n",
      "      8/4    0.000    0.000    0.000    0.000 cmd.py:107(ensure_finalized)\n",
      "       72    0.000    0.000    0.000    0.000 TypeSlots.py:74(<genexpr>)\n",
      "      140    0.000    0.000    0.000    0.000 {method 'end' of '_sre.SRE_Match' objects}\n",
      "        4    0.000    0.000    0.001    0.000 glob.py:29(iglob)\n",
      "       12    0.000    0.000    0.000    0.000 PyrexTypes.py:1569(declaration_code)\n",
      "       48    0.000    0.000    0.000    0.000 PyrexTypes.py:3359(__eq__)\n",
      "        4    0.000    0.000    0.000    0.000 pyximport.py:418(__init__)\n",
      "        4    0.000    0.000    0.000    0.000 PyrexTypes.py:3248(CStructOrUnionType)\n",
      "       48    0.000    0.000    0.000    0.000 PyrexTypes.py:91(is_fused)\n",
      "        4    0.000    0.000    0.000    0.000 serializers.py:217(load_stream)\n",
      "        4    0.000    0.000    0.000    0.000 PyrexTypes.py:1617(CIntType)\n",
      "        4    0.000    0.000    0.001    0.000 glob.py:18(glob)\n",
      "        4    0.000    0.000    0.000    0.000 Regexps.py:34(chars_to_ranges)\n",
      "        8    0.000    0.000    0.000    0.000 _osx_support.py:260(_override_all_archs)\n",
      "        4    0.000    0.000    0.000    0.000 Machines.py:137(FastMachine)\n",
      "       48    0.000    0.000    0.000    0.000 PyrexTypes.py:65(get_fused_types)\n",
      "        4    0.000    0.000    0.002    0.001 _osx_support.py:368(customize_config_vars)\n",
      "        4    0.000    0.000    0.002    0.000 util.py:224(_init_regex)\n",
      "        4    0.000    0.000    0.000    0.000 build_ext.py:118(initialize_options)\n",
      "        8    0.000    0.000    0.000    0.000 log.py:39(info)\n",
      "        4    0.000    0.000    0.000    0.000 Symtab.py:1855(CClassScope)\n",
      "        4    0.000    0.000    0.000    0.000 PyrexTypes.py:3758(CEnumType)\n",
      "       16    0.000    0.000    0.000    0.000 {strop.maketrans}\n",
      "       12    0.000    0.000    0.000    0.000 PyrexTypes.py:1910(declaration_code)\n",
      "        4    0.000    0.000    0.000    0.000 PyrexTypes.py:2484(CPtrType)\n",
      "       20    0.000    0.000    0.000    0.000 {method 'lower' of 'str' objects}\n",
      "       44    0.000    0.000    0.000    0.000 {method 'remove' of 'list' objects}\n",
      "       28    0.000    0.000    0.000    0.000 string.py:250(strip)\n",
      "       12    0.000    0.000    0.000    0.000 Regexps.py:221(Char)\n",
      "        4    0.000    0.000    0.000    0.000 Regexps.py:306(__init__)\n",
      "        4    0.000    0.000    0.000    0.000 {posix.putenv}\n",
      "        4    0.000    0.000    0.000    0.000 StringEncoding.py:23(UnicodeLiteralBuilder)\n",
      "        4    0.000    0.000    0.000    0.000 Symtab.py:233(InnerEntry)\n",
      "        4    0.000    0.000    0.000    0.000 abc.py:105(register)\n",
      "        8    0.000    0.000    0.000    0.000 Regexps.py:57(uppercase_range)\n",
      "       12    0.000    0.000    0.000    0.000 PyrexTypes.py:1850(__init__)\n",
      "        4    0.000    0.000    0.000    0.000 fancy_getopt.py:45(__init__)\n",
      "        4    0.000    0.000    0.000    0.000 build_ext.py:28(__init__)\n",
      "        4    0.000    0.000    0.000    0.000 PyrexTypes.py:1019(PyObjectType)\n",
      "        4    0.000    0.000    0.001    0.000 contextlib.py:153(__exit__)\n",
      "        8    0.000    0.000    0.000    0.000 Regexps.py:245(__init__)\n",
      "       12    0.000    0.000    0.000    0.000 {method 'acquire' of 'thread.lock' objects}\n",
      "        4    0.000    0.000    0.000    0.000 PyrexTypes.py:1406(CConstType)\n",
      "        4    0.000    0.000    0.000    0.000 serializers.py:414(dumps)\n",
      "        4    0.000    0.000    0.000    0.000 {method 'write' of '_io.BufferedWriter' objects}\n",
      "        4    0.000    0.000    0.000    0.000 Symtab.py:1725(StructOrUnionScope)\n",
      "       12    0.000    0.000    0.000    0.000 log.py:19(_log)\n",
      "        8    0.000    0.000    0.007    0.001 random.py:91(__init__)\n",
      "        8    0.000    0.000    0.000    0.000 _abcoll.py:548(update)\n",
      "       12    0.000    0.000    0.000    0.000 _osx_support.py:138(<genexpr>)\n",
      "       12    0.000    0.000    0.000    0.000 {issubclass}\n",
      "       12    0.000    0.000    0.000    0.000 os.py:512(getenv)\n",
      "        4    0.000    0.000    0.000    0.000 PyrexTypes.py:3767(__init__)\n",
      "        8    0.000    0.000    0.000    0.000 Regexps.py:71(lowercase_range)\n",
      "        4    0.000    0.000    0.000    0.000 {filter}\n",
      "        4    0.000    0.000    0.000    0.000 TypeSlots.py:322(GCDependentSlot)\n",
      "        4    0.000    0.000    0.000    0.000 PyrexTypes.py:2343(CArrayType)\n",
      "        4    0.000    0.000    0.000    0.000 tempfile.py:433(__del__)\n",
      "        4    0.000    0.000    0.918    0.230 build_ext.py:155(run)\n",
      "        4    0.000    0.000    0.000    0.000 pyximport.py:458(_have_importers)\n",
      "        4    0.000    0.000    0.000    0.000 tempfile.py:120(__init__)\n",
      "        4    0.000    0.000    0.000    0.000 {_struct.pack}\n",
      "        4    0.000    0.000    0.000    0.000 config.py:21(PyPIRCCommand)\n",
      "        4    0.000    0.000    0.000    0.000 Machines.py:73(Node)\n",
      "        4    0.000    0.000    0.000    0.000 PyrexTypes.py:1221(PyExtensionType)\n",
      "        4    0.000    0.000    0.000    0.000 StringIOTree.py:7(StringIOTree)\n",
      "        4    0.000    0.000    0.000    0.000 dist.py:1026(__init__)\n",
      "        4    0.000    0.000    0.000    0.000 PyrexTypes.py:1502(CVoidType)\n",
      "        4    0.000    0.000    0.000    0.000 build_ext.py:429(get_outputs)\n",
      "        4    0.000    0.000    0.000    0.000 PyrexTypes.py:1538(CNumericType)\n",
      "        4    0.000    0.000    0.000    0.000 PyrexTypes.py:1842(CFloatType)\n",
      "        4    0.000    0.000    0.000    0.000 Symtab.py:2158(CppClassScope)\n",
      "        4    0.000    0.000    0.000    0.000 log.py:65(set_verbosity)\n",
      "        8    0.000    0.000    0.000    0.000 rdd.py:861(func)\n",
      "        4    0.000    0.000    0.000    0.000 Symtab.py:1566(LocalScope)\n",
      "        4    0.000    0.000    0.000    0.000 PyrexTypes.py:944(BufferType)\n",
      "       48    0.000    0.000    0.000    0.000 {method 'random' of '_random.Random' objects}\n",
      "        4    0.000    0.000    0.919    0.230 dist.py:947(run_commands)\n",
      "        4    0.000    0.000    0.000    0.000 build_ext.py:144(finalize_options)\n",
      "        4    0.000    0.000    0.000    0.000 pyximport.py:112(handle_special_build)\n",
      "       16    0.000    0.000    0.000    0.000 Regexps.py:157(check_re)\n",
      "        4    0.000    0.000    0.000    0.000 rdd.py:995(<lambda>)\n",
      "        8    0.000    0.000    0.000    0.000 posixpath.py:112(basename)\n",
      "        4    0.000    0.000    0.000    0.000 __init__.py:4(<module>)\n",
      "        8    0.000    0.000    0.000    0.000 stat.py:24(S_IFMT)\n",
      "       32    0.000    0.000    0.000    0.000 PyrexTypes.py:2504(same_as_resolved_type)\n",
      "       12    0.000    0.000    0.000    0.000 PyrexTypes.py:1561(sign_and_name)\n",
      "        4    0.000    0.000    0.000    0.000 log.py:14(Log)\n",
      "        4    0.000    0.000    0.000    0.000 PyrexTypes.py:1347(CType)\n",
      "       56    0.000    0.000    0.000    0.000 PyrexTypes.py:304(public_decl)\n",
      "        4    0.000    0.000    0.000    0.000 PyrexTypes.py:3164(CFuncTypeArg)\n",
      "       12    0.000    0.000    0.000    0.000 PyrexTypes.py:1410(__init__)\n",
      "        4    0.000    0.000    0.000    0.000 Symtab.py:2311(TemplateScope)\n",
      "        4    0.000    0.000    0.000    0.000 DebugFlags.py:3(<module>)\n",
      "        4    0.000    0.000    0.000    0.000 Lexicons.py:42(Lexicon)\n",
      "        4    0.000    0.000    0.000    0.000 Symtab.py:1661(GeneratorExpressionScope)\n",
      "        4    0.000    0.000    0.000    0.000 PyrexTypes.py:3374(__hash__)\n",
      "        4    0.000    0.000    0.000    0.000 build.py:55(initialize_options)\n",
      "        4    0.000    0.000    0.000    0.000 PyrexTypes.py:3918(ErrorType)\n",
      "        4    0.000    0.000    0.000    0.000 PyrexTypes.py:1451(FusedType)\n",
      "        4    0.000    0.000    0.000    0.000 Regexps.py:111(RE)\n",
      "        4    0.000    0.000    0.000    0.000 Machines.py:28(Machine)\n",
      "        4    0.000    0.000    0.000    0.000 log.py:36(debug)\n",
      "        4    0.000    0.000    0.000    0.000 dist.py:594(finalize_options)\n",
      "        4    0.000    0.000    0.000    0.000 Regexps.py:233(RawCodeRange)\n",
      "        4    0.000    0.000    0.000    0.000 Symtab.py:882(PreImportScope)\n",
      "       56    0.000    0.000    0.000    0.000 PyrexTypes.py:52(base_declaration_code)\n",
      "        8    0.000    0.000    0.000    0.000 {vars}\n",
      "       28    0.000    0.000    0.000    0.000 {repr}\n",
      "        4    0.000    0.000    0.000    0.000 PyrexTypes.py:1736(CBIntType)\n",
      "       20    0.000    0.000    0.000    0.000 _osx_support.py:83(_get_system_version)\n",
      "       12    0.000    0.000    0.000    0.000 {method 'copy' of 'dict' objects}\n",
      "        8    0.000    0.000    0.000    0.000 TypeSlots.py:326(__init__)\n",
      "        4    0.000    0.000    0.000    0.000 Shadow.py:211(__init__)\n",
      "        4    0.000    0.000    0.000    0.000 TypeSlots.py:500(__init__)\n",
      "        8    0.000    0.000    0.000    0.000 string.py:283(split)\n",
      "        4    0.000    0.000    0.000    0.000 Symtab.py:1796(PyClassScope)\n",
      "        4    0.000    0.000    0.000    0.000 extension.py:17(Extension)\n",
      "        4    0.000    0.000    0.000    0.000 PyrexTypes.py:3820(CTupleType)\n",
      "        4    0.000    0.000    0.000    0.000 PyrexTypes.py:2564(CReferenceType)\n",
      "        4    0.000    0.000    0.000    0.000 cmd.py:433(install_misc)\n",
      "        4    0.000    0.000    0.000    0.000 build_ext.py:27(Optimization)\n",
      "        8    0.000    0.000    0.000    0.000 {method 'find' of 'str' objects}\n",
      "        4    0.000    0.000    0.000    0.000 spark_util.py:3(spark_cython)\n",
      "        8    0.000    0.000    0.000    0.000 fancy_getopt.py:137(set_negative_aliases)\n",
      "        4    0.000    0.000    0.000    0.000 TypeSlots.py:355(__init__)\n",
      "        4    0.000    0.000    0.000    0.000 dist.py:289(get_option_dict)\n",
      "        4    0.000    0.000    0.000    0.000 DFA.py:93(StateMap)\n",
      "        4    0.000    0.000    0.000    0.000 pyximport.py:243(__init__)\n",
      "        4    0.000    0.000    0.000    0.000 pyximport.py:325(PyImporter)\n",
      "        4    0.000    0.000    0.000    0.000 dist.py:490(_get_toplevel_options)\n",
      "        4    0.000    0.000    0.000    0.000 PyrexTypes.py:1762(CPyUCS4IntType)\n",
      "        4    0.000    0.000    0.000    0.000 Symtab.py:44(BufferAux)\n",
      "        4    0.000    0.000    0.000    0.000 Utils.py:439(LazyStr)\n",
      "        4    0.000    0.000    0.000    0.000 StringEncoding.py:156(BytesLiteral)\n",
      "        4    0.000    0.000    0.000    0.000 getopt.py:38(GetoptError)\n",
      "        4    0.000    0.000    0.000    0.000 TypeSlots.py:428(SuiteSlot)\n",
      "        8    0.000    0.000    0.000    0.000 {method 'insert' of 'list' objects}\n",
      "        4    0.000    0.000    0.000    0.000 contextlib.py:149(__init__)\n",
      "        4    0.000    0.000    0.000    0.000 Shadow.py:14(_ArrayType)\n",
      "        4    0.000    0.000    0.000    0.000 PyrexTypes.py:3711(TemplatePlaceholderType)\n",
      "        4    0.000    0.000    0.000    0.000 Shadow.py:97(_EmptyDecoratorAndManager)\n",
      "        4    0.000    0.000    0.000    0.000 TypeSlots.py:273(MethodSlot)\n",
      "       12    0.000    0.000    0.000    0.000 {method 'index' of 'list' objects}\n",
      "        4    0.000    0.000    0.000    0.000 fancy_getopt.py:94(set_option_table)\n",
      "        4    0.000    0.000    0.000    0.000 cmd.py:274(get_command_name)\n",
      "        4    0.000    0.000    0.000    0.000 fancy_getopt.py:132(set_aliases)\n",
      "        8    0.000    0.000    0.000    0.000 string.py:310(join)\n",
      "        4    0.000    0.000    0.000    0.000 PyrexTypes.py:3781(declaration_code)\n",
      "        4    0.000    0.000    0.000    0.000 serializers.py:220(_load_stream_without_unbatching)\n",
      "        4    0.000    0.000    0.000    0.000 tempfile.py:391(__init__)\n",
      "        4    0.000    0.000    0.000    0.000 pyximport.py:417(PyxLoader)\n",
      "        4    0.000    0.000    0.000    0.000 Regexps.py:405(SwitchCase)\n",
      "        4    0.000    0.000    0.000    0.000 StringEncoding.py:90(StrLiteralBuilder)\n",
      "        4    0.000    0.000    0.000    0.000 Errors.py:80(InternalError)\n",
      "        4    0.000    0.000    0.000    0.000 {operator.add}\n",
      "        4    0.000    0.000    0.000    0.000 Symtab.py:1762(ClassScope)\n",
      "        4    0.000    0.000    0.000    0.000 pyximport.py:396(LibLoader)\n",
      "        4    0.000    0.000    0.000    0.000 PyrexTypes.py:1784(CPyUnicodeIntType)\n",
      "        4    0.000    0.000    0.000    0.000 pyximport.py:397(__init__)\n",
      "        4    0.000    0.000    0.000    0.000 pyximport.py:240(PyxImporter)\n",
      "        4    0.000    0.000    0.000    0.000 PyrexTypes.py:3905(UnspecifiedType)\n",
      "        4    0.000    0.000    0.000    0.000 sre_parse.py:87(checkgroup)\n",
      "        4    0.000    0.000    0.000    0.000 Shadow.py:430(CythonDotParallel)\n",
      "        4    0.000    0.000    0.000    0.000 log.py:59(set_threshold)\n",
      "        4    0.000    0.000    0.000    0.000 Symtab.py:2272(PropertyScope)\n",
      "        4    0.000    0.000    0.000    0.000 PyrexTypes.py:3197(ToPyStructUtilityCode)\n",
      "        4    0.000    0.000    0.000    0.000 Main.py:513(CompilationOptions)\n",
      "        4    0.000    0.000    0.000    0.000 PyrexTypes.py:2290(CPointerBaseType)\n",
      "        8    0.000    0.000    0.000    0.000 {method 'index' of 'str' objects}\n",
      "        4    0.000    0.000    0.000    0.000 Symtab.py:1704(ClosureScope)\n",
      "        4    0.000    0.000    0.000    0.000 StringEncoding.py:60(BytesLiteralBuilder)\n",
      "        4    0.000    0.000    0.000    0.000 dist.py:1242(fix_help_options)\n",
      "        4    0.000    0.000    0.000    0.000 pyximport.py:450(PyxArgs)\n",
      "        4    0.000    0.000    0.000    0.000 Main.py:611(CompilationResultSet)\n",
      "        4    0.000    0.000    0.000    0.000 Main.py:585(CompilationResult)\n",
      "        4    0.000    0.000    0.000    0.000 fancy_getopt.py:480(__init__)\n",
      "        4    0.000    0.000    0.000    0.000 {method 'sort' of 'list' objects}\n",
      "        4    0.000    0.000    0.000    0.000 TypeSlots.py:266(EmptySlot)\n",
      "        4    0.000    0.000    0.000    0.000 Lexicons.py:24(State)\n",
      "        4    0.000    0.000    0.000    0.000 PyrexTypes.py:2599(CFakeReferenceType)\n",
      "        4    0.000    0.000    0.000    0.000 TypeSlots.py:164(SlotDescriptor)\n",
      "        4    0.000    0.000    0.000    0.000 TypeSlots.py:497(BaseClassSlot)\n",
      "        4    0.000    0.000    0.000    0.000 Shadow.py:202(CythonType)\n",
      "        4    0.000    0.000    0.000    0.000 TypeSlots.py:487(GetSetSlot)\n",
      "        4    0.000    0.000    0.000    0.000 {built-in method from_iterable}\n",
      "       12    0.000    0.000    0.000    0.000 {method 'release' of 'thread.lock' objects}\n",
      "        8    0.000    0.000    0.000    0.000 build_ext.py:656(get_ext_fullname)\n",
      "        4    0.000    0.000    0.000    0.000 PyrexTypes.py:1609(ForbidUseClass)\n",
      "        4    0.000    0.000    0.000    0.000 Errors.py:55(CompileError)\n",
      "        4    0.000    0.000    0.000    0.000 Errors.py:95(CompilerCrash)\n",
      "        4    0.000    0.000    0.000    0.000 Errors.py:42(UnrecognizedInput)\n",
      "        4    0.000    0.000    0.000    0.000 Errors.py:88(AbortError)\n",
      "        4    0.000    0.000    0.000    0.000 ccompiler.py:280(set_library_dirs)\n",
      "        8    0.000    0.000    0.000    0.000 sysconfig.py:58(get_python_version)\n",
      "        4    0.000    0.000    0.000    0.000 Errors.py:119(NoElementTreeInstalledException)\n",
      "        4    0.000    0.000    0.000    0.000 Errors.py:35(AmbiguousAction)\n",
      "        4    0.000    0.000    0.000    0.000 Regexps.py:282(SpecialSymbol)\n",
      "        4    0.000    0.000    0.000    0.000 Shadow.py:195(CythonMetaType)\n",
      "        4    0.000    0.000    0.000    0.000 TypeSlots.py:309(InternalMethodSlot)\n",
      "        4    0.000    0.000    0.000    0.000 cmd.py:225(ensure_string_list)\n",
      "        4    0.000    0.000    0.000    0.000 PyrexTypes.py:1728(CReturnCodeType)\n",
      "        4    0.000    0.000    0.000    0.000 Options.py:177(one_of)\n",
      "        8    0.000    0.000    0.000    0.000 {posix.getpid}\n",
      "        4    0.000    0.000    0.000    0.000 Regexps.py:302(Seq)\n",
      "        4    0.000    0.000    0.000    0.000 PyrexTypes.py:1836(CPtrdiffTType)\n",
      "        4    0.000    0.000    0.000    0.000 TypeSlots.py:470(MethodTableSlot)\n",
      "        4    0.000    0.000    0.000    0.000 TypeSlots.py:397(TypeFlagsSlot)\n",
      "        8    0.000    0.000    0.000    0.000 {method 'keys' of 'dict' objects}\n",
      "        4    0.000    0.000    0.000    0.000 {method 'group' of '_sre.SRE_Match' objects}\n",
      "        4    0.000    0.000    0.000    0.000 {thread.allocate_lock}\n",
      "        4    0.000    0.000    0.000    0.000 Symtab.py:2294(CConstScope)\n",
      "        4    0.000    0.000    0.000    0.000 dist.py:984(has_c_libraries)\n",
      "        4    0.000    0.000    0.000    0.000 TypeSlots.py:253(FixedSlot)\n",
      "       12    0.000    0.000    0.000    0.000 Regexps.py:291(__init__)\n",
      "        4    0.000    0.000    0.000    0.000 Main.py:503(CompilationSource)\n",
      "        4    0.000    0.000    0.000    0.000 TypeSlots.py:352(ConstructorSlot)\n",
      "        4    0.000    0.000    0.000    0.000 Errors.py:10(PlexError)\n",
      "        4    0.000    0.000    0.000    0.000 Regexps.py:345(Alt)\n",
      "        4    0.000    0.000    0.000    0.000 Shadow.py:248(StructType)\n",
      "        4    0.000    0.000    0.000    0.000 Errors.py:72(CompileWarning)\n",
      "        4    0.000    0.000    0.000    0.000 PyrexTypes.py:1524(InvisibleVoidType)\n",
      "        4    0.000    0.000    0.000    0.000 ccompiler.py:263(set_libraries)\n",
      "        4    0.000    0.000    0.000    0.000 TypeSlots.py:377(SyntheticSlot)\n",
      "        4    0.000    0.000    0.000    0.000 TypeSlots.py:480(MemberTableSlot)\n",
      "       16    0.000    0.000    0.000    0.000 posixpath.py:44(normcase)\n",
      "        4    0.000    0.000    0.000    0.000 {method 'upper' of 'str' objects}\n",
      "        4    0.000    0.000    0.000    0.000 ccompiler.py:237(set_include_dirs)\n",
      "        4    0.000    0.000    0.000    0.000 Errors.py:23(PyrexWarning)\n",
      "        4    0.000    0.000    0.000    0.000 PyrexTypes.py:1805(CPyHashTType)\n",
      "        4    0.000    0.000    0.000    0.000 Shadow.py:338(_FusedType)\n",
      "        4    0.000    0.000    0.000    0.000 Shadow.py:105(_Optimization)\n",
      "        4    0.000    0.000    0.000    0.000 Errors.py:19(PyrexError)\n",
      "        4    0.000    0.000    0.000    0.000 PyrexTypes.py:1720(CAnonEnumType)\n",
      "        4    0.000    0.000    0.000    0.000 Regexps.py:384(Rep1)\n",
      "        4    0.000    0.000    0.000    0.000 ccompiler.py:293(set_runtime_library_dirs)\n",
      "        4    0.000    0.000    0.000    0.000 fancy_getopt.py:298(get_option_order)\n",
      "        4    0.000    0.000    0.000    0.000 TypeSlots.py:344(GCClearReferencesSlot)\n",
      "        4    0.000    0.000    0.000    0.000 Shadow.py:242(ArrayType)\n",
      "        4    0.000    0.000    0.000    0.000 tempfile.py:221(_get_candidate_names)\n",
      "        8    0.000    0.000    0.000    0.000 glob.py:82(<lambda>)\n",
      "        4    0.000    0.000    0.000    0.000 {method 'pop' of 'dict' objects}\n",
      "        4    0.000    0.000    0.000    0.000 TypeSlots.py:416(DocStringSlot)\n",
      "        4    0.000    0.000    0.000    0.000 Errors.py:22(InvalidRegex)\n",
      "        4    0.000    0.000    0.000    0.000 {iter}\n",
      "        4    0.000    0.000    0.000    0.000 Main.py:41(CompilationData)\n",
      "        4    0.000    0.000    0.000    0.000 fancy_getopt.py:476(OptionDummy)\n",
      "        4    0.000    0.000    0.000    0.000 PyrexTypes.py:1813(CPySSizeTType)\n",
      "        4    0.000    0.000    0.000    0.000 PyrexTypes.py:1829(CSizeTType)\n",
      "        4    0.000    0.000    0.000    0.000 Regexps.py:264(_RawNewline)\n",
      "        4    0.000    0.000    0.000    0.000 Errors.py:26(InvalidToken)\n",
      "        4    0.000    0.000    0.000    0.000 log.py:16(__init__)\n",
      "        4    0.000    0.000    0.000    0.000 {method 'disable' of '_lsprof.Profiler' objects}\n",
      "        4    0.000    0.000    0.000    0.000 Errors.py:31(InvalidScanner)\n",
      "        4    0.000    0.000    0.000    0.000 Errors.py:18(PlexValueError)\n",
      "        4    0.000    0.000    0.000    0.000 Errors.py:14(PlexTypeError)\n",
      "        4    0.000    0.000    0.000    0.000 PyrexTypes.py:1821(CSSizeTType)\n",
      "        4    0.000    0.000    0.000    0.000 PyrexTypes.py:2559(CNullPtrType)\n",
      "        4    0.000    0.000    0.000    0.000 contextlib.py:151(__enter__)\n",
      "        4    0.000    0.000    0.000    0.000 Shadow.py:270(UnionType)\n",
      "\n",
      "\n"
     ]
    }
   ],
   "source": [
    "sc.show_profiles()"
   ]
  },
  {
   "cell_type": "code",
   "execution_count": 125,
   "metadata": {
    "collapsed": false
   },
   "outputs": [],
   "source": [
    "import cPickle as pickle\n",
    "class PickleSerializer2(pyspark.serializers.FramedSerializer):\n",
    "\n",
    "    \"\"\"\n",
    "    Serializes objects using Python's pickle serializer:\n",
    "\n",
    "        http://docs.python.org/2/library/pickle.html\n",
    "\n",
    "    This serializer supports nearly any Python object, but may\n",
    "    not be as fast as more specialized serializers.\n",
    "    \"\"\"\n",
    "\n",
    "    def dumps(self, obj):\n",
    "        return pickle.dumps(obj, protocol)\n",
    "\n",
    "    if sys.version >= '3':\n",
    "        def loads(self, obj, encoding=\"bytes\"):\n",
    "            return pickle.loads(obj, encoding=encoding)\n",
    "    else:\n",
    "        def loads(self, obj, encoding=None):\n",
    "            print 'object size', len(obj)\n",
    "            return pickle.loads(obj)\n"
   ]
  },
  {
   "cell_type": "code",
   "execution_count": 161,
   "metadata": {
    "collapsed": true
   },
   "outputs": [],
   "source": [
    "class NumpySerializer(pyspark.serializers.FramedSerializer):\n",
    "    import numpy as np\n",
    "    \n",
    "    def __init__(self, dtype): \n",
    "        self.dtype = dtype\n",
    "        super(NumpySerializer, self).__init__()\n",
    "    \n",
    "    def dumps(self, obj):\n",
    "        print 'SERIALIZING'\n",
    "        return obj.tobytes()\n",
    "    def loads(self, obj):\n",
    "        print 'string length: ', len(obj)\n",
    "        return np.fromstring(obj, dtype=self.dtype)\n",
    "    \n",
    "    def _read_with_length(self, stream):\n",
    "        length = pyspark.serializers.read_int(stream)\n",
    "        print 'stream length: ', length\n",
    "        if length == pyspark.serializers.SpecialLengths.END_OF_DATA_SECTION:\n",
    "            raise EOFError\n",
    "        elif length == pyspark.serializers.SpecialLengths.NULL:\n",
    "            return None\n",
    "        obj = stream.read(length)\n",
    "        if len(obj) < length:\n",
    "            raise EOFError\n",
    "        return self.loads(obj)\n",
    "    "
   ]
  },
  {
   "cell_type": "code",
   "execution_count": 162,
   "metadata": {
    "collapsed": true
   },
   "outputs": [],
   "source": [
    "ns = NumpySerializer(pdt)"
   ]
  },
  {
   "cell_type": "code",
   "execution_count": 163,
   "metadata": {
    "collapsed": false
   },
   "outputs": [],
   "source": [
    "new_arr_rdd = p_np_arr_rdd._reserialize(pyspark.serializers.BatchedSerializer(NumpySerializer(pdt), 1024))"
   ]
  },
  {
   "cell_type": "code",
   "execution_count": 164,
   "metadata": {
    "collapsed": false
   },
   "outputs": [
    {
     "data": {
      "text/plain": [
       "BatchedSerializer(NumpySerializer(), 1024)"
      ]
     },
     "execution_count": 164,
     "metadata": {},
     "output_type": "execute_result"
    }
   ],
   "source": [
    "new_arr_rdd._jrdd_deserializer"
   ]
  },
  {
   "cell_type": "code",
   "execution_count": 165,
   "metadata": {
    "collapsed": false
   },
   "outputs": [],
   "source": [
    "p_np_arr_rdd._jrdd_deserializer = NumpySerializer(pdt)"
   ]
  },
  {
   "cell_type": "code",
   "execution_count": 166,
   "metadata": {
    "collapsed": false
   },
   "outputs": [
    {
     "ename": "Py4JJavaError",
     "evalue": "An error occurred while calling z:org.apache.spark.api.python.PythonRDD.collectAndServe.\n: org.apache.spark.SparkException: Job aborted due to stage failure: Task 1 in stage 55.0 failed 1 times, most recent failure: Lost task 1.0 in stage 55.0 (TID 1137, localhost): org.apache.spark.api.python.PythonException: Traceback (most recent call last):\n  File \"/Users/rok/spark/python/lib/pyspark.zip/pyspark/worker.py\", line 109, in main\n    profiler.profile(process)\n  File \"/Users/rok/spark/python/lib/pyspark.zip/pyspark/profiler.py\", line 160, in profile\n    pr.runcall(func)\n  File \"/Users/rok/miniconda/lib/python2.7/cProfile.py\", line 149, in runcall\n    return func(*args, **kw)\n  File \"/Users/rok/spark/python/lib/pyspark.zip/pyspark/worker.py\", line 106, in process\n    serializer.dump_stream(func(split_index, iterator), outfile)\n  File \"/Users/rok/spark/python/pyspark/rdd.py\", line 2346, in pipeline_func\n    return func(split, prev_func(split, iterator))\n  File \"/Users/rok/spark/python/pyspark/rdd.py\", line 2346, in pipeline_func\n    return func(split, prev_func(split, iterator))\n  File \"/Users/rok/spark/python/pyspark/rdd.py\", line 317, in func\n    return f(iterator)\n  File \"/Users/rok/spark/python/pyspark/rdd.py\", line 1004, in <lambda>\n    return self.mapPartitions(lambda i: [sum(1 for _ in i)]).sum()\n  File \"/Users/rok/spark/python/pyspark/rdd.py\", line 1004, in <genexpr>\n    return self.mapPartitions(lambda i: [sum(1 for _ in i)]).sum()\n  File \"/Users/rok/spark/python/lib/pyspark.zip/pyspark/serializers.py\", line 139, in load_stream\n    yield self._read_with_length(stream)\n  File \"<ipython-input-161-3ca2c98f9f2e>\", line 25, in _read_with_length\n  File \"<ipython-input-161-3ca2c98f9f2e>\", line 13, in loads\nValueError: string size must be a multiple of element size\n\n\tat org.apache.spark.api.python.PythonRunner$$anon$1.read(PythonRDD.scala:166)\n\tat org.apache.spark.api.python.PythonRunner$$anon$1.<init>(PythonRDD.scala:207)\n\tat org.apache.spark.api.python.PythonRunner.compute(PythonRDD.scala:125)\n\tat org.apache.spark.api.python.PythonRDD.compute(PythonRDD.scala:70)\n\tat org.apache.spark.rdd.RDD.computeOrReadCheckpoint(RDD.scala:306)\n\tat org.apache.spark.rdd.RDD.iterator(RDD.scala:270)\n\tat org.apache.spark.scheduler.ResultTask.runTask(ResultTask.scala:66)\n\tat org.apache.spark.scheduler.Task.run(Task.scala:89)\n\tat org.apache.spark.executor.Executor$TaskRunner.run(Executor.scala:214)\n\tat java.util.concurrent.ThreadPoolExecutor.runWorker(ThreadPoolExecutor.java:1142)\n\tat java.util.concurrent.ThreadPoolExecutor$Worker.run(ThreadPoolExecutor.java:617)\n\tat java.lang.Thread.run(Thread.java:745)\n\nDriver stacktrace:\n\tat org.apache.spark.scheduler.DAGScheduler.org$apache$spark$scheduler$DAGScheduler$$failJobAndIndependentStages(DAGScheduler.scala:1431)\n\tat org.apache.spark.scheduler.DAGScheduler$$anonfun$abortStage$1.apply(DAGScheduler.scala:1419)\n\tat org.apache.spark.scheduler.DAGScheduler$$anonfun$abortStage$1.apply(DAGScheduler.scala:1418)\n\tat scala.collection.mutable.ResizableArray$class.foreach(ResizableArray.scala:59)\n\tat scala.collection.mutable.ArrayBuffer.foreach(ArrayBuffer.scala:47)\n\tat org.apache.spark.scheduler.DAGScheduler.abortStage(DAGScheduler.scala:1418)\n\tat org.apache.spark.scheduler.DAGScheduler$$anonfun$handleTaskSetFailed$1.apply(DAGScheduler.scala:799)\n\tat org.apache.spark.scheduler.DAGScheduler$$anonfun$handleTaskSetFailed$1.apply(DAGScheduler.scala:799)\n\tat scala.Option.foreach(Option.scala:236)\n\tat org.apache.spark.scheduler.DAGScheduler.handleTaskSetFailed(DAGScheduler.scala:799)\n\tat org.apache.spark.scheduler.DAGSchedulerEventProcessLoop.doOnReceive(DAGScheduler.scala:1640)\n\tat org.apache.spark.scheduler.DAGSchedulerEventProcessLoop.onReceive(DAGScheduler.scala:1599)\n\tat org.apache.spark.scheduler.DAGSchedulerEventProcessLoop.onReceive(DAGScheduler.scala:1588)\n\tat org.apache.spark.util.EventLoop$$anon$1.run(EventLoop.scala:48)\n\tat org.apache.spark.scheduler.DAGScheduler.runJob(DAGScheduler.scala:620)\n\tat org.apache.spark.SparkContext.runJob(SparkContext.scala:1832)\n\tat org.apache.spark.SparkContext.runJob(SparkContext.scala:1845)\n\tat org.apache.spark.SparkContext.runJob(SparkContext.scala:1858)\n\tat org.apache.spark.SparkContext.runJob(SparkContext.scala:1929)\n\tat org.apache.spark.rdd.RDD$$anonfun$collect$1.apply(RDD.scala:927)\n\tat org.apache.spark.rdd.RDDOperationScope$.withScope(RDDOperationScope.scala:150)\n\tat org.apache.spark.rdd.RDDOperationScope$.withScope(RDDOperationScope.scala:111)\n\tat org.apache.spark.rdd.RDD.withScope(RDD.scala:316)\n\tat org.apache.spark.rdd.RDD.collect(RDD.scala:926)\n\tat org.apache.spark.api.python.PythonRDD$.collectAndServe(PythonRDD.scala:405)\n\tat org.apache.spark.api.python.PythonRDD.collectAndServe(PythonRDD.scala)\n\tat sun.reflect.GeneratedMethodAccessor36.invoke(Unknown Source)\n\tat sun.reflect.DelegatingMethodAccessorImpl.invoke(DelegatingMethodAccessorImpl.java:43)\n\tat java.lang.reflect.Method.invoke(Method.java:498)\n\tat py4j.reflection.MethodInvoker.invoke(MethodInvoker.java:231)\n\tat py4j.reflection.ReflectionEngine.invoke(ReflectionEngine.java:381)\n\tat py4j.Gateway.invoke(Gateway.java:259)\n\tat py4j.commands.AbstractCommand.invokeMethod(AbstractCommand.java:133)\n\tat py4j.commands.CallCommand.execute(CallCommand.java:79)\n\tat py4j.GatewayConnection.run(GatewayConnection.java:209)\n\tat java.lang.Thread.run(Thread.java:745)\nCaused by: org.apache.spark.api.python.PythonException: Traceback (most recent call last):\n  File \"/Users/rok/spark/python/lib/pyspark.zip/pyspark/worker.py\", line 109, in main\n    profiler.profile(process)\n  File \"/Users/rok/spark/python/lib/pyspark.zip/pyspark/profiler.py\", line 160, in profile\n    pr.runcall(func)\n  File \"/Users/rok/miniconda/lib/python2.7/cProfile.py\", line 149, in runcall\n    return func(*args, **kw)\n  File \"/Users/rok/spark/python/lib/pyspark.zip/pyspark/worker.py\", line 106, in process\n    serializer.dump_stream(func(split_index, iterator), outfile)\n  File \"/Users/rok/spark/python/pyspark/rdd.py\", line 2346, in pipeline_func\n    return func(split, prev_func(split, iterator))\n  File \"/Users/rok/spark/python/pyspark/rdd.py\", line 2346, in pipeline_func\n    return func(split, prev_func(split, iterator))\n  File \"/Users/rok/spark/python/pyspark/rdd.py\", line 317, in func\n    return f(iterator)\n  File \"/Users/rok/spark/python/pyspark/rdd.py\", line 1004, in <lambda>\n    return self.mapPartitions(lambda i: [sum(1 for _ in i)]).sum()\n  File \"/Users/rok/spark/python/pyspark/rdd.py\", line 1004, in <genexpr>\n    return self.mapPartitions(lambda i: [sum(1 for _ in i)]).sum()\n  File \"/Users/rok/spark/python/lib/pyspark.zip/pyspark/serializers.py\", line 139, in load_stream\n    yield self._read_with_length(stream)\n  File \"<ipython-input-161-3ca2c98f9f2e>\", line 25, in _read_with_length\n  File \"<ipython-input-161-3ca2c98f9f2e>\", line 13, in loads\nValueError: string size must be a multiple of element size\n\n\tat org.apache.spark.api.python.PythonRunner$$anon$1.read(PythonRDD.scala:166)\n\tat org.apache.spark.api.python.PythonRunner$$anon$1.<init>(PythonRDD.scala:207)\n\tat org.apache.spark.api.python.PythonRunner.compute(PythonRDD.scala:125)\n\tat org.apache.spark.api.python.PythonRDD.compute(PythonRDD.scala:70)\n\tat org.apache.spark.rdd.RDD.computeOrReadCheckpoint(RDD.scala:306)\n\tat org.apache.spark.rdd.RDD.iterator(RDD.scala:270)\n\tat org.apache.spark.scheduler.ResultTask.runTask(ResultTask.scala:66)\n\tat org.apache.spark.scheduler.Task.run(Task.scala:89)\n\tat org.apache.spark.executor.Executor$TaskRunner.run(Executor.scala:214)\n\tat java.util.concurrent.ThreadPoolExecutor.runWorker(ThreadPoolExecutor.java:1142)\n\tat java.util.concurrent.ThreadPoolExecutor$Worker.run(ThreadPoolExecutor.java:617)\n\t... 1 more\n",
     "output_type": "error",
     "traceback": [
      "\u001b[0;31m---------------------------------------------------------------------------\u001b[0m",
      "\u001b[0;31mPy4JJavaError\u001b[0m                             Traceback (most recent call last)",
      "\u001b[0;32m<ipython-input-166-e1d688724046>\u001b[0m in \u001b[0;36m<module>\u001b[0;34m()\u001b[0m\n\u001b[0;32m----> 1\u001b[0;31m \u001b[0mp_np_arr_rdd\u001b[0m\u001b[0;34m.\u001b[0m\u001b[0mcount\u001b[0m\u001b[0;34m(\u001b[0m\u001b[0;34m)\u001b[0m\u001b[0;34m\u001b[0m\u001b[0m\n\u001b[0m",
      "\u001b[0;32m/Users/rok/spark/python/pyspark/rdd.pyc\u001b[0m in \u001b[0;36mcount\u001b[0;34m(self)\u001b[0m\n\u001b[1;32m   1002\u001b[0m         \u001b[0;36m3\u001b[0m\u001b[0;34m\u001b[0m\u001b[0m\n\u001b[1;32m   1003\u001b[0m         \"\"\"\n\u001b[0;32m-> 1004\u001b[0;31m         \u001b[0;32mreturn\u001b[0m \u001b[0mself\u001b[0m\u001b[0;34m.\u001b[0m\u001b[0mmapPartitions\u001b[0m\u001b[0;34m(\u001b[0m\u001b[0;32mlambda\u001b[0m \u001b[0mi\u001b[0m\u001b[0;34m:\u001b[0m \u001b[0;34m[\u001b[0m\u001b[0msum\u001b[0m\u001b[0;34m(\u001b[0m\u001b[0;36m1\u001b[0m \u001b[0;32mfor\u001b[0m \u001b[0m_\u001b[0m \u001b[0;32min\u001b[0m \u001b[0mi\u001b[0m\u001b[0;34m)\u001b[0m\u001b[0;34m]\u001b[0m\u001b[0;34m)\u001b[0m\u001b[0;34m.\u001b[0m\u001b[0msum\u001b[0m\u001b[0;34m(\u001b[0m\u001b[0;34m)\u001b[0m\u001b[0;34m\u001b[0m\u001b[0m\n\u001b[0m\u001b[1;32m   1005\u001b[0m \u001b[0;34m\u001b[0m\u001b[0m\n\u001b[1;32m   1006\u001b[0m     \u001b[0;32mdef\u001b[0m \u001b[0mstats\u001b[0m\u001b[0;34m(\u001b[0m\u001b[0mself\u001b[0m\u001b[0;34m)\u001b[0m\u001b[0;34m:\u001b[0m\u001b[0;34m\u001b[0m\u001b[0m\n",
      "\u001b[0;32m/Users/rok/spark/python/pyspark/rdd.pyc\u001b[0m in \u001b[0;36msum\u001b[0;34m(self)\u001b[0m\n\u001b[1;32m    993\u001b[0m         \u001b[0;36m6.0\u001b[0m\u001b[0;34m\u001b[0m\u001b[0m\n\u001b[1;32m    994\u001b[0m         \"\"\"\n\u001b[0;32m--> 995\u001b[0;31m         \u001b[0;32mreturn\u001b[0m \u001b[0mself\u001b[0m\u001b[0;34m.\u001b[0m\u001b[0mmapPartitions\u001b[0m\u001b[0;34m(\u001b[0m\u001b[0;32mlambda\u001b[0m \u001b[0mx\u001b[0m\u001b[0;34m:\u001b[0m \u001b[0;34m[\u001b[0m\u001b[0msum\u001b[0m\u001b[0;34m(\u001b[0m\u001b[0mx\u001b[0m\u001b[0;34m)\u001b[0m\u001b[0;34m]\u001b[0m\u001b[0;34m)\u001b[0m\u001b[0;34m.\u001b[0m\u001b[0mfold\u001b[0m\u001b[0;34m(\u001b[0m\u001b[0;36m0\u001b[0m\u001b[0;34m,\u001b[0m \u001b[0moperator\u001b[0m\u001b[0;34m.\u001b[0m\u001b[0madd\u001b[0m\u001b[0;34m)\u001b[0m\u001b[0;34m\u001b[0m\u001b[0m\n\u001b[0m\u001b[1;32m    996\u001b[0m \u001b[0;34m\u001b[0m\u001b[0m\n\u001b[1;32m    997\u001b[0m     \u001b[0;32mdef\u001b[0m \u001b[0mcount\u001b[0m\u001b[0;34m(\u001b[0m\u001b[0mself\u001b[0m\u001b[0;34m)\u001b[0m\u001b[0;34m:\u001b[0m\u001b[0;34m\u001b[0m\u001b[0m\n",
      "\u001b[0;32m/Users/rok/spark/python/pyspark/rdd.pyc\u001b[0m in \u001b[0;36mfold\u001b[0;34m(self, zeroValue, op)\u001b[0m\n\u001b[1;32m    867\u001b[0m         \u001b[0;31m# zeroValue provided to each partition is unique from the one provided\u001b[0m\u001b[0;34m\u001b[0m\u001b[0;34m\u001b[0m\u001b[0m\n\u001b[1;32m    868\u001b[0m         \u001b[0;31m# to the final reduce call\u001b[0m\u001b[0;34m\u001b[0m\u001b[0;34m\u001b[0m\u001b[0m\n\u001b[0;32m--> 869\u001b[0;31m         \u001b[0mvals\u001b[0m \u001b[0;34m=\u001b[0m \u001b[0mself\u001b[0m\u001b[0;34m.\u001b[0m\u001b[0mmapPartitions\u001b[0m\u001b[0;34m(\u001b[0m\u001b[0mfunc\u001b[0m\u001b[0;34m)\u001b[0m\u001b[0;34m.\u001b[0m\u001b[0mcollect\u001b[0m\u001b[0;34m(\u001b[0m\u001b[0;34m)\u001b[0m\u001b[0;34m\u001b[0m\u001b[0m\n\u001b[0m\u001b[1;32m    870\u001b[0m         \u001b[0;32mreturn\u001b[0m \u001b[0mreduce\u001b[0m\u001b[0;34m(\u001b[0m\u001b[0mop\u001b[0m\u001b[0;34m,\u001b[0m \u001b[0mvals\u001b[0m\u001b[0;34m,\u001b[0m \u001b[0mzeroValue\u001b[0m\u001b[0;34m)\u001b[0m\u001b[0;34m\u001b[0m\u001b[0m\n\u001b[1;32m    871\u001b[0m \u001b[0;34m\u001b[0m\u001b[0m\n",
      "\u001b[0;32m/Users/rok/spark/python/pyspark/rdd.pyc\u001b[0m in \u001b[0;36mcollect\u001b[0;34m(self)\u001b[0m\n\u001b[1;32m    769\u001b[0m         \"\"\"\n\u001b[1;32m    770\u001b[0m         \u001b[0;32mwith\u001b[0m \u001b[0mSCCallSiteSync\u001b[0m\u001b[0;34m(\u001b[0m\u001b[0mself\u001b[0m\u001b[0;34m.\u001b[0m\u001b[0mcontext\u001b[0m\u001b[0;34m)\u001b[0m \u001b[0;32mas\u001b[0m \u001b[0mcss\u001b[0m\u001b[0;34m:\u001b[0m\u001b[0;34m\u001b[0m\u001b[0m\n\u001b[0;32m--> 771\u001b[0;31m             \u001b[0mport\u001b[0m \u001b[0;34m=\u001b[0m \u001b[0mself\u001b[0m\u001b[0;34m.\u001b[0m\u001b[0mctx\u001b[0m\u001b[0;34m.\u001b[0m\u001b[0m_jvm\u001b[0m\u001b[0;34m.\u001b[0m\u001b[0mPythonRDD\u001b[0m\u001b[0;34m.\u001b[0m\u001b[0mcollectAndServe\u001b[0m\u001b[0;34m(\u001b[0m\u001b[0mself\u001b[0m\u001b[0;34m.\u001b[0m\u001b[0m_jrdd\u001b[0m\u001b[0;34m.\u001b[0m\u001b[0mrdd\u001b[0m\u001b[0;34m(\u001b[0m\u001b[0;34m)\u001b[0m\u001b[0;34m)\u001b[0m\u001b[0;34m\u001b[0m\u001b[0m\n\u001b[0m\u001b[1;32m    772\u001b[0m         \u001b[0;32mreturn\u001b[0m \u001b[0mlist\u001b[0m\u001b[0;34m(\u001b[0m\u001b[0m_load_from_socket\u001b[0m\u001b[0;34m(\u001b[0m\u001b[0mport\u001b[0m\u001b[0;34m,\u001b[0m \u001b[0mself\u001b[0m\u001b[0;34m.\u001b[0m\u001b[0m_jrdd_deserializer\u001b[0m\u001b[0;34m)\u001b[0m\u001b[0;34m)\u001b[0m\u001b[0;34m\u001b[0m\u001b[0m\n\u001b[1;32m    773\u001b[0m \u001b[0;34m\u001b[0m\u001b[0m\n",
      "\u001b[0;32m/Users/rok/spark/python/lib/py4j-0.9-src.zip/py4j/java_gateway.py\u001b[0m in \u001b[0;36m__call__\u001b[0;34m(self, *args)\u001b[0m\n\u001b[1;32m    811\u001b[0m         \u001b[0manswer\u001b[0m \u001b[0;34m=\u001b[0m \u001b[0mself\u001b[0m\u001b[0;34m.\u001b[0m\u001b[0mgateway_client\u001b[0m\u001b[0;34m.\u001b[0m\u001b[0msend_command\u001b[0m\u001b[0;34m(\u001b[0m\u001b[0mcommand\u001b[0m\u001b[0;34m)\u001b[0m\u001b[0;34m\u001b[0m\u001b[0m\n\u001b[1;32m    812\u001b[0m         return_value = get_return_value(\n\u001b[0;32m--> 813\u001b[0;31m             answer, self.gateway_client, self.target_id, self.name)\n\u001b[0m\u001b[1;32m    814\u001b[0m \u001b[0;34m\u001b[0m\u001b[0m\n\u001b[1;32m    815\u001b[0m         \u001b[0;32mfor\u001b[0m \u001b[0mtemp_arg\u001b[0m \u001b[0;32min\u001b[0m \u001b[0mtemp_args\u001b[0m\u001b[0;34m:\u001b[0m\u001b[0;34m\u001b[0m\u001b[0m\n",
      "\u001b[0;32m/Users/rok/spark/python/lib/py4j-0.9-src.zip/py4j/protocol.py\u001b[0m in \u001b[0;36mget_return_value\u001b[0;34m(answer, gateway_client, target_id, name)\u001b[0m\n\u001b[1;32m    306\u001b[0m                 raise Py4JJavaError(\n\u001b[1;32m    307\u001b[0m                     \u001b[0;34m\"An error occurred while calling {0}{1}{2}.\\n\"\u001b[0m\u001b[0;34m.\u001b[0m\u001b[0;34m\u001b[0m\u001b[0m\n\u001b[0;32m--> 308\u001b[0;31m                     format(target_id, \".\", name), value)\n\u001b[0m\u001b[1;32m    309\u001b[0m             \u001b[0;32melse\u001b[0m\u001b[0;34m:\u001b[0m\u001b[0;34m\u001b[0m\u001b[0m\n\u001b[1;32m    310\u001b[0m                 raise Py4JError(\n",
      "\u001b[0;31mPy4JJavaError\u001b[0m: An error occurred while calling z:org.apache.spark.api.python.PythonRDD.collectAndServe.\n: org.apache.spark.SparkException: Job aborted due to stage failure: Task 1 in stage 55.0 failed 1 times, most recent failure: Lost task 1.0 in stage 55.0 (TID 1137, localhost): org.apache.spark.api.python.PythonException: Traceback (most recent call last):\n  File \"/Users/rok/spark/python/lib/pyspark.zip/pyspark/worker.py\", line 109, in main\n    profiler.profile(process)\n  File \"/Users/rok/spark/python/lib/pyspark.zip/pyspark/profiler.py\", line 160, in profile\n    pr.runcall(func)\n  File \"/Users/rok/miniconda/lib/python2.7/cProfile.py\", line 149, in runcall\n    return func(*args, **kw)\n  File \"/Users/rok/spark/python/lib/pyspark.zip/pyspark/worker.py\", line 106, in process\n    serializer.dump_stream(func(split_index, iterator), outfile)\n  File \"/Users/rok/spark/python/pyspark/rdd.py\", line 2346, in pipeline_func\n    return func(split, prev_func(split, iterator))\n  File \"/Users/rok/spark/python/pyspark/rdd.py\", line 2346, in pipeline_func\n    return func(split, prev_func(split, iterator))\n  File \"/Users/rok/spark/python/pyspark/rdd.py\", line 317, in func\n    return f(iterator)\n  File \"/Users/rok/spark/python/pyspark/rdd.py\", line 1004, in <lambda>\n    return self.mapPartitions(lambda i: [sum(1 for _ in i)]).sum()\n  File \"/Users/rok/spark/python/pyspark/rdd.py\", line 1004, in <genexpr>\n    return self.mapPartitions(lambda i: [sum(1 for _ in i)]).sum()\n  File \"/Users/rok/spark/python/lib/pyspark.zip/pyspark/serializers.py\", line 139, in load_stream\n    yield self._read_with_length(stream)\n  File \"<ipython-input-161-3ca2c98f9f2e>\", line 25, in _read_with_length\n  File \"<ipython-input-161-3ca2c98f9f2e>\", line 13, in loads\nValueError: string size must be a multiple of element size\n\n\tat org.apache.spark.api.python.PythonRunner$$anon$1.read(PythonRDD.scala:166)\n\tat org.apache.spark.api.python.PythonRunner$$anon$1.<init>(PythonRDD.scala:207)\n\tat org.apache.spark.api.python.PythonRunner.compute(PythonRDD.scala:125)\n\tat org.apache.spark.api.python.PythonRDD.compute(PythonRDD.scala:70)\n\tat org.apache.spark.rdd.RDD.computeOrReadCheckpoint(RDD.scala:306)\n\tat org.apache.spark.rdd.RDD.iterator(RDD.scala:270)\n\tat org.apache.spark.scheduler.ResultTask.runTask(ResultTask.scala:66)\n\tat org.apache.spark.scheduler.Task.run(Task.scala:89)\n\tat org.apache.spark.executor.Executor$TaskRunner.run(Executor.scala:214)\n\tat java.util.concurrent.ThreadPoolExecutor.runWorker(ThreadPoolExecutor.java:1142)\n\tat java.util.concurrent.ThreadPoolExecutor$Worker.run(ThreadPoolExecutor.java:617)\n\tat java.lang.Thread.run(Thread.java:745)\n\nDriver stacktrace:\n\tat org.apache.spark.scheduler.DAGScheduler.org$apache$spark$scheduler$DAGScheduler$$failJobAndIndependentStages(DAGScheduler.scala:1431)\n\tat org.apache.spark.scheduler.DAGScheduler$$anonfun$abortStage$1.apply(DAGScheduler.scala:1419)\n\tat org.apache.spark.scheduler.DAGScheduler$$anonfun$abortStage$1.apply(DAGScheduler.scala:1418)\n\tat scala.collection.mutable.ResizableArray$class.foreach(ResizableArray.scala:59)\n\tat scala.collection.mutable.ArrayBuffer.foreach(ArrayBuffer.scala:47)\n\tat org.apache.spark.scheduler.DAGScheduler.abortStage(DAGScheduler.scala:1418)\n\tat org.apache.spark.scheduler.DAGScheduler$$anonfun$handleTaskSetFailed$1.apply(DAGScheduler.scala:799)\n\tat org.apache.spark.scheduler.DAGScheduler$$anonfun$handleTaskSetFailed$1.apply(DAGScheduler.scala:799)\n\tat scala.Option.foreach(Option.scala:236)\n\tat org.apache.spark.scheduler.DAGScheduler.handleTaskSetFailed(DAGScheduler.scala:799)\n\tat org.apache.spark.scheduler.DAGSchedulerEventProcessLoop.doOnReceive(DAGScheduler.scala:1640)\n\tat org.apache.spark.scheduler.DAGSchedulerEventProcessLoop.onReceive(DAGScheduler.scala:1599)\n\tat org.apache.spark.scheduler.DAGSchedulerEventProcessLoop.onReceive(DAGScheduler.scala:1588)\n\tat org.apache.spark.util.EventLoop$$anon$1.run(EventLoop.scala:48)\n\tat org.apache.spark.scheduler.DAGScheduler.runJob(DAGScheduler.scala:620)\n\tat org.apache.spark.SparkContext.runJob(SparkContext.scala:1832)\n\tat org.apache.spark.SparkContext.runJob(SparkContext.scala:1845)\n\tat org.apache.spark.SparkContext.runJob(SparkContext.scala:1858)\n\tat org.apache.spark.SparkContext.runJob(SparkContext.scala:1929)\n\tat org.apache.spark.rdd.RDD$$anonfun$collect$1.apply(RDD.scala:927)\n\tat org.apache.spark.rdd.RDDOperationScope$.withScope(RDDOperationScope.scala:150)\n\tat org.apache.spark.rdd.RDDOperationScope$.withScope(RDDOperationScope.scala:111)\n\tat org.apache.spark.rdd.RDD.withScope(RDD.scala:316)\n\tat org.apache.spark.rdd.RDD.collect(RDD.scala:926)\n\tat org.apache.spark.api.python.PythonRDD$.collectAndServe(PythonRDD.scala:405)\n\tat org.apache.spark.api.python.PythonRDD.collectAndServe(PythonRDD.scala)\n\tat sun.reflect.GeneratedMethodAccessor36.invoke(Unknown Source)\n\tat sun.reflect.DelegatingMethodAccessorImpl.invoke(DelegatingMethodAccessorImpl.java:43)\n\tat java.lang.reflect.Method.invoke(Method.java:498)\n\tat py4j.reflection.MethodInvoker.invoke(MethodInvoker.java:231)\n\tat py4j.reflection.ReflectionEngine.invoke(ReflectionEngine.java:381)\n\tat py4j.Gateway.invoke(Gateway.java:259)\n\tat py4j.commands.AbstractCommand.invokeMethod(AbstractCommand.java:133)\n\tat py4j.commands.CallCommand.execute(CallCommand.java:79)\n\tat py4j.GatewayConnection.run(GatewayConnection.java:209)\n\tat java.lang.Thread.run(Thread.java:745)\nCaused by: org.apache.spark.api.python.PythonException: Traceback (most recent call last):\n  File \"/Users/rok/spark/python/lib/pyspark.zip/pyspark/worker.py\", line 109, in main\n    profiler.profile(process)\n  File \"/Users/rok/spark/python/lib/pyspark.zip/pyspark/profiler.py\", line 160, in profile\n    pr.runcall(func)\n  File \"/Users/rok/miniconda/lib/python2.7/cProfile.py\", line 149, in runcall\n    return func(*args, **kw)\n  File \"/Users/rok/spark/python/lib/pyspark.zip/pyspark/worker.py\", line 106, in process\n    serializer.dump_stream(func(split_index, iterator), outfile)\n  File \"/Users/rok/spark/python/pyspark/rdd.py\", line 2346, in pipeline_func\n    return func(split, prev_func(split, iterator))\n  File \"/Users/rok/spark/python/pyspark/rdd.py\", line 2346, in pipeline_func\n    return func(split, prev_func(split, iterator))\n  File \"/Users/rok/spark/python/pyspark/rdd.py\", line 317, in func\n    return f(iterator)\n  File \"/Users/rok/spark/python/pyspark/rdd.py\", line 1004, in <lambda>\n    return self.mapPartitions(lambda i: [sum(1 for _ in i)]).sum()\n  File \"/Users/rok/spark/python/pyspark/rdd.py\", line 1004, in <genexpr>\n    return self.mapPartitions(lambda i: [sum(1 for _ in i)]).sum()\n  File \"/Users/rok/spark/python/lib/pyspark.zip/pyspark/serializers.py\", line 139, in load_stream\n    yield self._read_with_length(stream)\n  File \"<ipython-input-161-3ca2c98f9f2e>\", line 25, in _read_with_length\n  File \"<ipython-input-161-3ca2c98f9f2e>\", line 13, in loads\nValueError: string size must be a multiple of element size\n\n\tat org.apache.spark.api.python.PythonRunner$$anon$1.read(PythonRDD.scala:166)\n\tat org.apache.spark.api.python.PythonRunner$$anon$1.<init>(PythonRDD.scala:207)\n\tat org.apache.spark.api.python.PythonRunner.compute(PythonRDD.scala:125)\n\tat org.apache.spark.api.python.PythonRDD.compute(PythonRDD.scala:70)\n\tat org.apache.spark.rdd.RDD.computeOrReadCheckpoint(RDD.scala:306)\n\tat org.apache.spark.rdd.RDD.iterator(RDD.scala:270)\n\tat org.apache.spark.scheduler.ResultTask.runTask(ResultTask.scala:66)\n\tat org.apache.spark.scheduler.Task.run(Task.scala:89)\n\tat org.apache.spark.executor.Executor$TaskRunner.run(Executor.scala:214)\n\tat java.util.concurrent.ThreadPoolExecutor.runWorker(ThreadPoolExecutor.java:1142)\n\tat java.util.concurrent.ThreadPoolExecutor$Worker.run(ThreadPoolExecutor.java:617)\n\t... 1 more\n"
     ]
    }
   ],
   "source": [
    "p_np_arr_rdd.count()"
   ]
  },
  {
   "cell_type": "code",
   "execution_count": 172,
   "metadata": {
    "collapsed": false
   },
   "outputs": [
    {
     "name": "stdout",
     "output_type": "stream",
     "text": [
      "1 loop, best of 3: 8.03 s per loop\n"
     ]
    }
   ],
   "source": [
    "%timeit pickle.dumps(p_np_arr)"
   ]
  },
  {
   "cell_type": "code",
   "execution_count": 175,
   "metadata": {
    "collapsed": false
   },
   "outputs": [
    {
     "name": "stdout",
     "output_type": "stream",
     "text": [
      "10 loops, best of 3: 83 ms per loop\n"
     ]
    }
   ],
   "source": [
    "%timeit p_np_arr.tostring()"
   ]
  },
  {
   "cell_type": "code",
   "execution_count": 112,
   "metadata": {
    "collapsed": false
   },
   "outputs": [
    {
     "ename": "Py4JJavaError",
     "evalue": "An error occurred while calling z:org.apache.spark.api.python.PythonRDD.collectAndServe.\n: org.apache.spark.SparkException: Job aborted due to stage failure: Task 2 in stage 45.0 failed 1 times, most recent failure: Lost task 2.0 in stage 45.0 (TID 1098, localhost): org.apache.spark.api.python.PythonException: Traceback (most recent call last):\n  File \"/Users/rok/spark/python/lib/pyspark.zip/pyspark/worker.py\", line 109, in main\n    profiler.profile(process)\n  File \"/Users/rok/spark/python/lib/pyspark.zip/pyspark/profiler.py\", line 160, in profile\n    pr.runcall(func)\n  File \"/Users/rok/miniconda/lib/python2.7/cProfile.py\", line 149, in runcall\n    return func(*args, **kw)\n  File \"/Users/rok/spark/python/lib/pyspark.zip/pyspark/worker.py\", line 106, in process\n    serializer.dump_stream(func(split_index, iterator), outfile)\n  File \"/Users/rok/spark/python/pyspark/rdd.py\", line 2346, in pipeline_func\n    return func(split, prev_func(split, iterator))\n  File \"/Users/rok/spark/python/pyspark/rdd.py\", line 2346, in pipeline_func\n    return func(split, prev_func(split, iterator))\n  File \"/Users/rok/spark/python/pyspark/rdd.py\", line 2346, in pipeline_func\n    return func(split, prev_func(split, iterator))\n  File \"/Users/rok/spark/python/pyspark/rdd.py\", line 2346, in pipeline_func\n    return func(split, prev_func(split, iterator))\n  File \"/Users/rok/spark/python/pyspark/rdd.py\", line 317, in func\n    return f(iterator)\n  File \"<ipython-input-46-70e5b75fae3f>\", line 23, in get_particle_bin_partition_numpy\n  File \"/Users/rok/spark/python/lib/pyspark.zip/pyspark/serializers.py\", line 139, in load_stream\n    yield self._read_with_length(stream)\n  File \"/Users/rok/spark/python/lib/pyspark.zip/pyspark/serializers.py\", line 164, in _read_with_length\n    return self.loads(obj)\n  File \"<ipython-input-79-31f5a63a244a>\", line 12, in loads\nValueError: string size must be a multiple of element size\n\n\tat org.apache.spark.api.python.PythonRunner$$anon$1.read(PythonRDD.scala:166)\n\tat org.apache.spark.api.python.PythonRunner$$anon$1.<init>(PythonRDD.scala:207)\n\tat org.apache.spark.api.python.PythonRunner.compute(PythonRDD.scala:125)\n\tat org.apache.spark.api.python.PythonRDD.compute(PythonRDD.scala:70)\n\tat org.apache.spark.rdd.RDD.computeOrReadCheckpoint(RDD.scala:306)\n\tat org.apache.spark.rdd.RDD.iterator(RDD.scala:270)\n\tat org.apache.spark.scheduler.ResultTask.runTask(ResultTask.scala:66)\n\tat org.apache.spark.scheduler.Task.run(Task.scala:89)\n\tat org.apache.spark.executor.Executor$TaskRunner.run(Executor.scala:214)\n\tat java.util.concurrent.ThreadPoolExecutor.runWorker(ThreadPoolExecutor.java:1142)\n\tat java.util.concurrent.ThreadPoolExecutor$Worker.run(ThreadPoolExecutor.java:617)\n\tat java.lang.Thread.run(Thread.java:745)\n\nDriver stacktrace:\n\tat org.apache.spark.scheduler.DAGScheduler.org$apache$spark$scheduler$DAGScheduler$$failJobAndIndependentStages(DAGScheduler.scala:1431)\n\tat org.apache.spark.scheduler.DAGScheduler$$anonfun$abortStage$1.apply(DAGScheduler.scala:1419)\n\tat org.apache.spark.scheduler.DAGScheduler$$anonfun$abortStage$1.apply(DAGScheduler.scala:1418)\n\tat scala.collection.mutable.ResizableArray$class.foreach(ResizableArray.scala:59)\n\tat scala.collection.mutable.ArrayBuffer.foreach(ArrayBuffer.scala:47)\n\tat org.apache.spark.scheduler.DAGScheduler.abortStage(DAGScheduler.scala:1418)\n\tat org.apache.spark.scheduler.DAGScheduler$$anonfun$handleTaskSetFailed$1.apply(DAGScheduler.scala:799)\n\tat org.apache.spark.scheduler.DAGScheduler$$anonfun$handleTaskSetFailed$1.apply(DAGScheduler.scala:799)\n\tat scala.Option.foreach(Option.scala:236)\n\tat org.apache.spark.scheduler.DAGScheduler.handleTaskSetFailed(DAGScheduler.scala:799)\n\tat org.apache.spark.scheduler.DAGSchedulerEventProcessLoop.doOnReceive(DAGScheduler.scala:1640)\n\tat org.apache.spark.scheduler.DAGSchedulerEventProcessLoop.onReceive(DAGScheduler.scala:1599)\n\tat org.apache.spark.scheduler.DAGSchedulerEventProcessLoop.onReceive(DAGScheduler.scala:1588)\n\tat org.apache.spark.util.EventLoop$$anon$1.run(EventLoop.scala:48)\n\tat org.apache.spark.scheduler.DAGScheduler.runJob(DAGScheduler.scala:620)\n\tat org.apache.spark.SparkContext.runJob(SparkContext.scala:1832)\n\tat org.apache.spark.SparkContext.runJob(SparkContext.scala:1845)\n\tat org.apache.spark.SparkContext.runJob(SparkContext.scala:1858)\n\tat org.apache.spark.SparkContext.runJob(SparkContext.scala:1929)\n\tat org.apache.spark.rdd.RDD$$anonfun$collect$1.apply(RDD.scala:927)\n\tat org.apache.spark.rdd.RDDOperationScope$.withScope(RDDOperationScope.scala:150)\n\tat org.apache.spark.rdd.RDDOperationScope$.withScope(RDDOperationScope.scala:111)\n\tat org.apache.spark.rdd.RDD.withScope(RDD.scala:316)\n\tat org.apache.spark.rdd.RDD.collect(RDD.scala:926)\n\tat org.apache.spark.api.python.PythonRDD$.collectAndServe(PythonRDD.scala:405)\n\tat org.apache.spark.api.python.PythonRDD.collectAndServe(PythonRDD.scala)\n\tat sun.reflect.GeneratedMethodAccessor36.invoke(Unknown Source)\n\tat sun.reflect.DelegatingMethodAccessorImpl.invoke(DelegatingMethodAccessorImpl.java:43)\n\tat java.lang.reflect.Method.invoke(Method.java:498)\n\tat py4j.reflection.MethodInvoker.invoke(MethodInvoker.java:231)\n\tat py4j.reflection.ReflectionEngine.invoke(ReflectionEngine.java:381)\n\tat py4j.Gateway.invoke(Gateway.java:259)\n\tat py4j.commands.AbstractCommand.invokeMethod(AbstractCommand.java:133)\n\tat py4j.commands.CallCommand.execute(CallCommand.java:79)\n\tat py4j.GatewayConnection.run(GatewayConnection.java:209)\n\tat java.lang.Thread.run(Thread.java:745)\nCaused by: org.apache.spark.api.python.PythonException: Traceback (most recent call last):\n  File \"/Users/rok/spark/python/lib/pyspark.zip/pyspark/worker.py\", line 109, in main\n    profiler.profile(process)\n  File \"/Users/rok/spark/python/lib/pyspark.zip/pyspark/profiler.py\", line 160, in profile\n    pr.runcall(func)\n  File \"/Users/rok/miniconda/lib/python2.7/cProfile.py\", line 149, in runcall\n    return func(*args, **kw)\n  File \"/Users/rok/spark/python/lib/pyspark.zip/pyspark/worker.py\", line 106, in process\n    serializer.dump_stream(func(split_index, iterator), outfile)\n  File \"/Users/rok/spark/python/pyspark/rdd.py\", line 2346, in pipeline_func\n    return func(split, prev_func(split, iterator))\n  File \"/Users/rok/spark/python/pyspark/rdd.py\", line 2346, in pipeline_func\n    return func(split, prev_func(split, iterator))\n  File \"/Users/rok/spark/python/pyspark/rdd.py\", line 2346, in pipeline_func\n    return func(split, prev_func(split, iterator))\n  File \"/Users/rok/spark/python/pyspark/rdd.py\", line 2346, in pipeline_func\n    return func(split, prev_func(split, iterator))\n  File \"/Users/rok/spark/python/pyspark/rdd.py\", line 317, in func\n    return f(iterator)\n  File \"<ipython-input-46-70e5b75fae3f>\", line 23, in get_particle_bin_partition_numpy\n  File \"/Users/rok/spark/python/lib/pyspark.zip/pyspark/serializers.py\", line 139, in load_stream\n    yield self._read_with_length(stream)\n  File \"/Users/rok/spark/python/lib/pyspark.zip/pyspark/serializers.py\", line 164, in _read_with_length\n    return self.loads(obj)\n  File \"<ipython-input-79-31f5a63a244a>\", line 12, in loads\nValueError: string size must be a multiple of element size\n\n\tat org.apache.spark.api.python.PythonRunner$$anon$1.read(PythonRDD.scala:166)\n\tat org.apache.spark.api.python.PythonRunner$$anon$1.<init>(PythonRDD.scala:207)\n\tat org.apache.spark.api.python.PythonRunner.compute(PythonRDD.scala:125)\n\tat org.apache.spark.api.python.PythonRDD.compute(PythonRDD.scala:70)\n\tat org.apache.spark.rdd.RDD.computeOrReadCheckpoint(RDD.scala:306)\n\tat org.apache.spark.rdd.RDD.iterator(RDD.scala:270)\n\tat org.apache.spark.scheduler.ResultTask.runTask(ResultTask.scala:66)\n\tat org.apache.spark.scheduler.Task.run(Task.scala:89)\n\tat org.apache.spark.executor.Executor$TaskRunner.run(Executor.scala:214)\n\tat java.util.concurrent.ThreadPoolExecutor.runWorker(ThreadPoolExecutor.java:1142)\n\tat java.util.concurrent.ThreadPoolExecutor$Worker.run(ThreadPoolExecutor.java:617)\n\t... 1 more\n",
     "output_type": "error",
     "traceback": [
      "\u001b[0;31m---------------------------------------------------------------------------\u001b[0m",
      "\u001b[0;31mPy4JJavaError\u001b[0m                             Traceback (most recent call last)",
      "\u001b[0;32m<ipython-input-112-9c0ee500791b>\u001b[0m in \u001b[0;36m<module>\u001b[0;34m()\u001b[0m\n\u001b[0;32m----> 1\u001b[0;31m \u001b[0mget_ipython\u001b[0m\u001b[0;34m(\u001b[0m\u001b[0;34m)\u001b[0m\u001b[0;34m.\u001b[0m\u001b[0mmagic\u001b[0m\u001b[0;34m(\u001b[0m\u001b[0;34mu'time new_arr_rdd.mapPartitions(get_particle_bin_partition_numpy).count()'\u001b[0m\u001b[0;34m)\u001b[0m\u001b[0;34m\u001b[0m\u001b[0m\n\u001b[0m",
      "\u001b[0;32m/Users/rok/miniconda/lib/python2.7/site-packages/IPython/core/interactiveshell.pyc\u001b[0m in \u001b[0;36mmagic\u001b[0;34m(self, arg_s)\u001b[0m\n\u001b[1;32m   2161\u001b[0m         \u001b[0mmagic_name\u001b[0m\u001b[0;34m,\u001b[0m \u001b[0m_\u001b[0m\u001b[0;34m,\u001b[0m \u001b[0mmagic_arg_s\u001b[0m \u001b[0;34m=\u001b[0m \u001b[0marg_s\u001b[0m\u001b[0;34m.\u001b[0m\u001b[0mpartition\u001b[0m\u001b[0;34m(\u001b[0m\u001b[0;34m' '\u001b[0m\u001b[0;34m)\u001b[0m\u001b[0;34m\u001b[0m\u001b[0m\n\u001b[1;32m   2162\u001b[0m         \u001b[0mmagic_name\u001b[0m \u001b[0;34m=\u001b[0m \u001b[0mmagic_name\u001b[0m\u001b[0;34m.\u001b[0m\u001b[0mlstrip\u001b[0m\u001b[0;34m(\u001b[0m\u001b[0mprefilter\u001b[0m\u001b[0;34m.\u001b[0m\u001b[0mESC_MAGIC\u001b[0m\u001b[0;34m)\u001b[0m\u001b[0;34m\u001b[0m\u001b[0m\n\u001b[0;32m-> 2163\u001b[0;31m         \u001b[0;32mreturn\u001b[0m \u001b[0mself\u001b[0m\u001b[0;34m.\u001b[0m\u001b[0mrun_line_magic\u001b[0m\u001b[0;34m(\u001b[0m\u001b[0mmagic_name\u001b[0m\u001b[0;34m,\u001b[0m \u001b[0mmagic_arg_s\u001b[0m\u001b[0;34m)\u001b[0m\u001b[0;34m\u001b[0m\u001b[0m\n\u001b[0m\u001b[1;32m   2164\u001b[0m \u001b[0;34m\u001b[0m\u001b[0m\n\u001b[1;32m   2165\u001b[0m     \u001b[0;31m#-------------------------------------------------------------------------\u001b[0m\u001b[0;34m\u001b[0m\u001b[0;34m\u001b[0m\u001b[0m\n",
      "\u001b[0;32m/Users/rok/miniconda/lib/python2.7/site-packages/IPython/core/interactiveshell.pyc\u001b[0m in \u001b[0;36mrun_line_magic\u001b[0;34m(self, magic_name, line)\u001b[0m\n\u001b[1;32m   2082\u001b[0m                 \u001b[0mkwargs\u001b[0m\u001b[0;34m[\u001b[0m\u001b[0;34m'local_ns'\u001b[0m\u001b[0;34m]\u001b[0m \u001b[0;34m=\u001b[0m \u001b[0msys\u001b[0m\u001b[0;34m.\u001b[0m\u001b[0m_getframe\u001b[0m\u001b[0;34m(\u001b[0m\u001b[0mstack_depth\u001b[0m\u001b[0;34m)\u001b[0m\u001b[0;34m.\u001b[0m\u001b[0mf_locals\u001b[0m\u001b[0;34m\u001b[0m\u001b[0m\n\u001b[1;32m   2083\u001b[0m             \u001b[0;32mwith\u001b[0m \u001b[0mself\u001b[0m\u001b[0;34m.\u001b[0m\u001b[0mbuiltin_trap\u001b[0m\u001b[0;34m:\u001b[0m\u001b[0;34m\u001b[0m\u001b[0m\n\u001b[0;32m-> 2084\u001b[0;31m                 \u001b[0mresult\u001b[0m \u001b[0;34m=\u001b[0m \u001b[0mfn\u001b[0m\u001b[0;34m(\u001b[0m\u001b[0;34m*\u001b[0m\u001b[0margs\u001b[0m\u001b[0;34m,\u001b[0m\u001b[0;34m**\u001b[0m\u001b[0mkwargs\u001b[0m\u001b[0;34m)\u001b[0m\u001b[0;34m\u001b[0m\u001b[0m\n\u001b[0m\u001b[1;32m   2085\u001b[0m             \u001b[0;32mreturn\u001b[0m \u001b[0mresult\u001b[0m\u001b[0;34m\u001b[0m\u001b[0m\n\u001b[1;32m   2086\u001b[0m \u001b[0;34m\u001b[0m\u001b[0m\n",
      "\u001b[0;32m<decorator-gen-60>\u001b[0m in \u001b[0;36mtime\u001b[0;34m(self, line, cell, local_ns)\u001b[0m\n",
      "\u001b[0;32m/Users/rok/miniconda/lib/python2.7/site-packages/IPython/core/magic.pyc\u001b[0m in \u001b[0;36m<lambda>\u001b[0;34m(f, *a, **k)\u001b[0m\n\u001b[1;32m    191\u001b[0m     \u001b[0;31m# but it's overkill for just that one bit of state.\u001b[0m\u001b[0;34m\u001b[0m\u001b[0;34m\u001b[0m\u001b[0m\n\u001b[1;32m    192\u001b[0m     \u001b[0;32mdef\u001b[0m \u001b[0mmagic_deco\u001b[0m\u001b[0;34m(\u001b[0m\u001b[0marg\u001b[0m\u001b[0;34m)\u001b[0m\u001b[0;34m:\u001b[0m\u001b[0;34m\u001b[0m\u001b[0m\n\u001b[0;32m--> 193\u001b[0;31m         \u001b[0mcall\u001b[0m \u001b[0;34m=\u001b[0m \u001b[0;32mlambda\u001b[0m \u001b[0mf\u001b[0m\u001b[0;34m,\u001b[0m \u001b[0;34m*\u001b[0m\u001b[0ma\u001b[0m\u001b[0;34m,\u001b[0m \u001b[0;34m**\u001b[0m\u001b[0mk\u001b[0m\u001b[0;34m:\u001b[0m \u001b[0mf\u001b[0m\u001b[0;34m(\u001b[0m\u001b[0;34m*\u001b[0m\u001b[0ma\u001b[0m\u001b[0;34m,\u001b[0m \u001b[0;34m**\u001b[0m\u001b[0mk\u001b[0m\u001b[0;34m)\u001b[0m\u001b[0;34m\u001b[0m\u001b[0m\n\u001b[0m\u001b[1;32m    194\u001b[0m \u001b[0;34m\u001b[0m\u001b[0m\n\u001b[1;32m    195\u001b[0m         \u001b[0;32mif\u001b[0m \u001b[0mcallable\u001b[0m\u001b[0;34m(\u001b[0m\u001b[0marg\u001b[0m\u001b[0;34m)\u001b[0m\u001b[0;34m:\u001b[0m\u001b[0;34m\u001b[0m\u001b[0m\n",
      "\u001b[0;32m/Users/rok/miniconda/lib/python2.7/site-packages/IPython/core/magics/execution.pyc\u001b[0m in \u001b[0;36mtime\u001b[0;34m(self, line, cell, local_ns)\u001b[0m\n\u001b[1;32m   1171\u001b[0m         \u001b[0;32mif\u001b[0m \u001b[0mmode\u001b[0m\u001b[0;34m==\u001b[0m\u001b[0;34m'eval'\u001b[0m\u001b[0;34m:\u001b[0m\u001b[0;34m\u001b[0m\u001b[0m\n\u001b[1;32m   1172\u001b[0m             \u001b[0mst\u001b[0m \u001b[0;34m=\u001b[0m \u001b[0mclock2\u001b[0m\u001b[0;34m(\u001b[0m\u001b[0;34m)\u001b[0m\u001b[0;34m\u001b[0m\u001b[0m\n\u001b[0;32m-> 1173\u001b[0;31m             \u001b[0mout\u001b[0m \u001b[0;34m=\u001b[0m \u001b[0meval\u001b[0m\u001b[0;34m(\u001b[0m\u001b[0mcode\u001b[0m\u001b[0;34m,\u001b[0m \u001b[0mglob\u001b[0m\u001b[0;34m,\u001b[0m \u001b[0mlocal_ns\u001b[0m\u001b[0;34m)\u001b[0m\u001b[0;34m\u001b[0m\u001b[0m\n\u001b[0m\u001b[1;32m   1174\u001b[0m             \u001b[0mend\u001b[0m \u001b[0;34m=\u001b[0m \u001b[0mclock2\u001b[0m\u001b[0;34m(\u001b[0m\u001b[0;34m)\u001b[0m\u001b[0;34m\u001b[0m\u001b[0m\n\u001b[1;32m   1175\u001b[0m         \u001b[0;32melse\u001b[0m\u001b[0;34m:\u001b[0m\u001b[0;34m\u001b[0m\u001b[0m\n",
      "\u001b[0;32m<timed eval>\u001b[0m in \u001b[0;36m<module>\u001b[0;34m()\u001b[0m\n",
      "\u001b[0;32m/Users/rok/spark/python/pyspark/rdd.pyc\u001b[0m in \u001b[0;36mcount\u001b[0;34m(self)\u001b[0m\n\u001b[1;32m   1002\u001b[0m         \u001b[0;36m3\u001b[0m\u001b[0;34m\u001b[0m\u001b[0m\n\u001b[1;32m   1003\u001b[0m         \"\"\"\n\u001b[0;32m-> 1004\u001b[0;31m         \u001b[0;32mreturn\u001b[0m \u001b[0mself\u001b[0m\u001b[0;34m.\u001b[0m\u001b[0mmapPartitions\u001b[0m\u001b[0;34m(\u001b[0m\u001b[0;32mlambda\u001b[0m \u001b[0mi\u001b[0m\u001b[0;34m:\u001b[0m \u001b[0;34m[\u001b[0m\u001b[0msum\u001b[0m\u001b[0;34m(\u001b[0m\u001b[0;36m1\u001b[0m \u001b[0;32mfor\u001b[0m \u001b[0m_\u001b[0m \u001b[0;32min\u001b[0m \u001b[0mi\u001b[0m\u001b[0;34m)\u001b[0m\u001b[0;34m]\u001b[0m\u001b[0;34m)\u001b[0m\u001b[0;34m.\u001b[0m\u001b[0msum\u001b[0m\u001b[0;34m(\u001b[0m\u001b[0;34m)\u001b[0m\u001b[0;34m\u001b[0m\u001b[0m\n\u001b[0m\u001b[1;32m   1005\u001b[0m \u001b[0;34m\u001b[0m\u001b[0m\n\u001b[1;32m   1006\u001b[0m     \u001b[0;32mdef\u001b[0m \u001b[0mstats\u001b[0m\u001b[0;34m(\u001b[0m\u001b[0mself\u001b[0m\u001b[0;34m)\u001b[0m\u001b[0;34m:\u001b[0m\u001b[0;34m\u001b[0m\u001b[0m\n",
      "\u001b[0;32m/Users/rok/spark/python/pyspark/rdd.pyc\u001b[0m in \u001b[0;36msum\u001b[0;34m(self)\u001b[0m\n\u001b[1;32m    993\u001b[0m         \u001b[0;36m6.0\u001b[0m\u001b[0;34m\u001b[0m\u001b[0m\n\u001b[1;32m    994\u001b[0m         \"\"\"\n\u001b[0;32m--> 995\u001b[0;31m         \u001b[0;32mreturn\u001b[0m \u001b[0mself\u001b[0m\u001b[0;34m.\u001b[0m\u001b[0mmapPartitions\u001b[0m\u001b[0;34m(\u001b[0m\u001b[0;32mlambda\u001b[0m \u001b[0mx\u001b[0m\u001b[0;34m:\u001b[0m \u001b[0;34m[\u001b[0m\u001b[0msum\u001b[0m\u001b[0;34m(\u001b[0m\u001b[0mx\u001b[0m\u001b[0;34m)\u001b[0m\u001b[0;34m]\u001b[0m\u001b[0;34m)\u001b[0m\u001b[0;34m.\u001b[0m\u001b[0mfold\u001b[0m\u001b[0;34m(\u001b[0m\u001b[0;36m0\u001b[0m\u001b[0;34m,\u001b[0m \u001b[0moperator\u001b[0m\u001b[0;34m.\u001b[0m\u001b[0madd\u001b[0m\u001b[0;34m)\u001b[0m\u001b[0;34m\u001b[0m\u001b[0m\n\u001b[0m\u001b[1;32m    996\u001b[0m \u001b[0;34m\u001b[0m\u001b[0m\n\u001b[1;32m    997\u001b[0m     \u001b[0;32mdef\u001b[0m \u001b[0mcount\u001b[0m\u001b[0;34m(\u001b[0m\u001b[0mself\u001b[0m\u001b[0;34m)\u001b[0m\u001b[0;34m:\u001b[0m\u001b[0;34m\u001b[0m\u001b[0m\n",
      "\u001b[0;32m/Users/rok/spark/python/pyspark/rdd.pyc\u001b[0m in \u001b[0;36mfold\u001b[0;34m(self, zeroValue, op)\u001b[0m\n\u001b[1;32m    867\u001b[0m         \u001b[0;31m# zeroValue provided to each partition is unique from the one provided\u001b[0m\u001b[0;34m\u001b[0m\u001b[0;34m\u001b[0m\u001b[0m\n\u001b[1;32m    868\u001b[0m         \u001b[0;31m# to the final reduce call\u001b[0m\u001b[0;34m\u001b[0m\u001b[0;34m\u001b[0m\u001b[0m\n\u001b[0;32m--> 869\u001b[0;31m         \u001b[0mvals\u001b[0m \u001b[0;34m=\u001b[0m \u001b[0mself\u001b[0m\u001b[0;34m.\u001b[0m\u001b[0mmapPartitions\u001b[0m\u001b[0;34m(\u001b[0m\u001b[0mfunc\u001b[0m\u001b[0;34m)\u001b[0m\u001b[0;34m.\u001b[0m\u001b[0mcollect\u001b[0m\u001b[0;34m(\u001b[0m\u001b[0;34m)\u001b[0m\u001b[0;34m\u001b[0m\u001b[0m\n\u001b[0m\u001b[1;32m    870\u001b[0m         \u001b[0;32mreturn\u001b[0m \u001b[0mreduce\u001b[0m\u001b[0;34m(\u001b[0m\u001b[0mop\u001b[0m\u001b[0;34m,\u001b[0m \u001b[0mvals\u001b[0m\u001b[0;34m,\u001b[0m \u001b[0mzeroValue\u001b[0m\u001b[0;34m)\u001b[0m\u001b[0;34m\u001b[0m\u001b[0m\n\u001b[1;32m    871\u001b[0m \u001b[0;34m\u001b[0m\u001b[0m\n",
      "\u001b[0;32m/Users/rok/spark/python/pyspark/rdd.pyc\u001b[0m in \u001b[0;36mcollect\u001b[0;34m(self)\u001b[0m\n\u001b[1;32m    769\u001b[0m         \"\"\"\n\u001b[1;32m    770\u001b[0m         \u001b[0;32mwith\u001b[0m \u001b[0mSCCallSiteSync\u001b[0m\u001b[0;34m(\u001b[0m\u001b[0mself\u001b[0m\u001b[0;34m.\u001b[0m\u001b[0mcontext\u001b[0m\u001b[0;34m)\u001b[0m \u001b[0;32mas\u001b[0m \u001b[0mcss\u001b[0m\u001b[0;34m:\u001b[0m\u001b[0;34m\u001b[0m\u001b[0m\n\u001b[0;32m--> 771\u001b[0;31m             \u001b[0mport\u001b[0m \u001b[0;34m=\u001b[0m \u001b[0mself\u001b[0m\u001b[0;34m.\u001b[0m\u001b[0mctx\u001b[0m\u001b[0;34m.\u001b[0m\u001b[0m_jvm\u001b[0m\u001b[0;34m.\u001b[0m\u001b[0mPythonRDD\u001b[0m\u001b[0;34m.\u001b[0m\u001b[0mcollectAndServe\u001b[0m\u001b[0;34m(\u001b[0m\u001b[0mself\u001b[0m\u001b[0;34m.\u001b[0m\u001b[0m_jrdd\u001b[0m\u001b[0;34m.\u001b[0m\u001b[0mrdd\u001b[0m\u001b[0;34m(\u001b[0m\u001b[0;34m)\u001b[0m\u001b[0;34m)\u001b[0m\u001b[0;34m\u001b[0m\u001b[0m\n\u001b[0m\u001b[1;32m    772\u001b[0m         \u001b[0;32mreturn\u001b[0m \u001b[0mlist\u001b[0m\u001b[0;34m(\u001b[0m\u001b[0m_load_from_socket\u001b[0m\u001b[0;34m(\u001b[0m\u001b[0mport\u001b[0m\u001b[0;34m,\u001b[0m \u001b[0mself\u001b[0m\u001b[0;34m.\u001b[0m\u001b[0m_jrdd_deserializer\u001b[0m\u001b[0;34m)\u001b[0m\u001b[0;34m)\u001b[0m\u001b[0;34m\u001b[0m\u001b[0m\n\u001b[1;32m    773\u001b[0m \u001b[0;34m\u001b[0m\u001b[0m\n",
      "\u001b[0;32m/Users/rok/spark/python/lib/py4j-0.9-src.zip/py4j/java_gateway.py\u001b[0m in \u001b[0;36m__call__\u001b[0;34m(self, *args)\u001b[0m\n\u001b[1;32m    811\u001b[0m         \u001b[0manswer\u001b[0m \u001b[0;34m=\u001b[0m \u001b[0mself\u001b[0m\u001b[0;34m.\u001b[0m\u001b[0mgateway_client\u001b[0m\u001b[0;34m.\u001b[0m\u001b[0msend_command\u001b[0m\u001b[0;34m(\u001b[0m\u001b[0mcommand\u001b[0m\u001b[0;34m)\u001b[0m\u001b[0;34m\u001b[0m\u001b[0m\n\u001b[1;32m    812\u001b[0m         return_value = get_return_value(\n\u001b[0;32m--> 813\u001b[0;31m             answer, self.gateway_client, self.target_id, self.name)\n\u001b[0m\u001b[1;32m    814\u001b[0m \u001b[0;34m\u001b[0m\u001b[0m\n\u001b[1;32m    815\u001b[0m         \u001b[0;32mfor\u001b[0m \u001b[0mtemp_arg\u001b[0m \u001b[0;32min\u001b[0m \u001b[0mtemp_args\u001b[0m\u001b[0;34m:\u001b[0m\u001b[0;34m\u001b[0m\u001b[0m\n",
      "\u001b[0;32m/Users/rok/spark/python/lib/py4j-0.9-src.zip/py4j/protocol.py\u001b[0m in \u001b[0;36mget_return_value\u001b[0;34m(answer, gateway_client, target_id, name)\u001b[0m\n\u001b[1;32m    306\u001b[0m                 raise Py4JJavaError(\n\u001b[1;32m    307\u001b[0m                     \u001b[0;34m\"An error occurred while calling {0}{1}{2}.\\n\"\u001b[0m\u001b[0;34m.\u001b[0m\u001b[0;34m\u001b[0m\u001b[0m\n\u001b[0;32m--> 308\u001b[0;31m                     format(target_id, \".\", name), value)\n\u001b[0m\u001b[1;32m    309\u001b[0m             \u001b[0;32melse\u001b[0m\u001b[0;34m:\u001b[0m\u001b[0;34m\u001b[0m\u001b[0m\n\u001b[1;32m    310\u001b[0m                 raise Py4JError(\n",
      "\u001b[0;31mPy4JJavaError\u001b[0m: An error occurred while calling z:org.apache.spark.api.python.PythonRDD.collectAndServe.\n: org.apache.spark.SparkException: Job aborted due to stage failure: Task 2 in stage 45.0 failed 1 times, most recent failure: Lost task 2.0 in stage 45.0 (TID 1098, localhost): org.apache.spark.api.python.PythonException: Traceback (most recent call last):\n  File \"/Users/rok/spark/python/lib/pyspark.zip/pyspark/worker.py\", line 109, in main\n    profiler.profile(process)\n  File \"/Users/rok/spark/python/lib/pyspark.zip/pyspark/profiler.py\", line 160, in profile\n    pr.runcall(func)\n  File \"/Users/rok/miniconda/lib/python2.7/cProfile.py\", line 149, in runcall\n    return func(*args, **kw)\n  File \"/Users/rok/spark/python/lib/pyspark.zip/pyspark/worker.py\", line 106, in process\n    serializer.dump_stream(func(split_index, iterator), outfile)\n  File \"/Users/rok/spark/python/pyspark/rdd.py\", line 2346, in pipeline_func\n    return func(split, prev_func(split, iterator))\n  File \"/Users/rok/spark/python/pyspark/rdd.py\", line 2346, in pipeline_func\n    return func(split, prev_func(split, iterator))\n  File \"/Users/rok/spark/python/pyspark/rdd.py\", line 2346, in pipeline_func\n    return func(split, prev_func(split, iterator))\n  File \"/Users/rok/spark/python/pyspark/rdd.py\", line 2346, in pipeline_func\n    return func(split, prev_func(split, iterator))\n  File \"/Users/rok/spark/python/pyspark/rdd.py\", line 317, in func\n    return f(iterator)\n  File \"<ipython-input-46-70e5b75fae3f>\", line 23, in get_particle_bin_partition_numpy\n  File \"/Users/rok/spark/python/lib/pyspark.zip/pyspark/serializers.py\", line 139, in load_stream\n    yield self._read_with_length(stream)\n  File \"/Users/rok/spark/python/lib/pyspark.zip/pyspark/serializers.py\", line 164, in _read_with_length\n    return self.loads(obj)\n  File \"<ipython-input-79-31f5a63a244a>\", line 12, in loads\nValueError: string size must be a multiple of element size\n\n\tat org.apache.spark.api.python.PythonRunner$$anon$1.read(PythonRDD.scala:166)\n\tat org.apache.spark.api.python.PythonRunner$$anon$1.<init>(PythonRDD.scala:207)\n\tat org.apache.spark.api.python.PythonRunner.compute(PythonRDD.scala:125)\n\tat org.apache.spark.api.python.PythonRDD.compute(PythonRDD.scala:70)\n\tat org.apache.spark.rdd.RDD.computeOrReadCheckpoint(RDD.scala:306)\n\tat org.apache.spark.rdd.RDD.iterator(RDD.scala:270)\n\tat org.apache.spark.scheduler.ResultTask.runTask(ResultTask.scala:66)\n\tat org.apache.spark.scheduler.Task.run(Task.scala:89)\n\tat org.apache.spark.executor.Executor$TaskRunner.run(Executor.scala:214)\n\tat java.util.concurrent.ThreadPoolExecutor.runWorker(ThreadPoolExecutor.java:1142)\n\tat java.util.concurrent.ThreadPoolExecutor$Worker.run(ThreadPoolExecutor.java:617)\n\tat java.lang.Thread.run(Thread.java:745)\n\nDriver stacktrace:\n\tat org.apache.spark.scheduler.DAGScheduler.org$apache$spark$scheduler$DAGScheduler$$failJobAndIndependentStages(DAGScheduler.scala:1431)\n\tat org.apache.spark.scheduler.DAGScheduler$$anonfun$abortStage$1.apply(DAGScheduler.scala:1419)\n\tat org.apache.spark.scheduler.DAGScheduler$$anonfun$abortStage$1.apply(DAGScheduler.scala:1418)\n\tat scala.collection.mutable.ResizableArray$class.foreach(ResizableArray.scala:59)\n\tat scala.collection.mutable.ArrayBuffer.foreach(ArrayBuffer.scala:47)\n\tat org.apache.spark.scheduler.DAGScheduler.abortStage(DAGScheduler.scala:1418)\n\tat org.apache.spark.scheduler.DAGScheduler$$anonfun$handleTaskSetFailed$1.apply(DAGScheduler.scala:799)\n\tat org.apache.spark.scheduler.DAGScheduler$$anonfun$handleTaskSetFailed$1.apply(DAGScheduler.scala:799)\n\tat scala.Option.foreach(Option.scala:236)\n\tat org.apache.spark.scheduler.DAGScheduler.handleTaskSetFailed(DAGScheduler.scala:799)\n\tat org.apache.spark.scheduler.DAGSchedulerEventProcessLoop.doOnReceive(DAGScheduler.scala:1640)\n\tat org.apache.spark.scheduler.DAGSchedulerEventProcessLoop.onReceive(DAGScheduler.scala:1599)\n\tat org.apache.spark.scheduler.DAGSchedulerEventProcessLoop.onReceive(DAGScheduler.scala:1588)\n\tat org.apache.spark.util.EventLoop$$anon$1.run(EventLoop.scala:48)\n\tat org.apache.spark.scheduler.DAGScheduler.runJob(DAGScheduler.scala:620)\n\tat org.apache.spark.SparkContext.runJob(SparkContext.scala:1832)\n\tat org.apache.spark.SparkContext.runJob(SparkContext.scala:1845)\n\tat org.apache.spark.SparkContext.runJob(SparkContext.scala:1858)\n\tat org.apache.spark.SparkContext.runJob(SparkContext.scala:1929)\n\tat org.apache.spark.rdd.RDD$$anonfun$collect$1.apply(RDD.scala:927)\n\tat org.apache.spark.rdd.RDDOperationScope$.withScope(RDDOperationScope.scala:150)\n\tat org.apache.spark.rdd.RDDOperationScope$.withScope(RDDOperationScope.scala:111)\n\tat org.apache.spark.rdd.RDD.withScope(RDD.scala:316)\n\tat org.apache.spark.rdd.RDD.collect(RDD.scala:926)\n\tat org.apache.spark.api.python.PythonRDD$.collectAndServe(PythonRDD.scala:405)\n\tat org.apache.spark.api.python.PythonRDD.collectAndServe(PythonRDD.scala)\n\tat sun.reflect.GeneratedMethodAccessor36.invoke(Unknown Source)\n\tat sun.reflect.DelegatingMethodAccessorImpl.invoke(DelegatingMethodAccessorImpl.java:43)\n\tat java.lang.reflect.Method.invoke(Method.java:498)\n\tat py4j.reflection.MethodInvoker.invoke(MethodInvoker.java:231)\n\tat py4j.reflection.ReflectionEngine.invoke(ReflectionEngine.java:381)\n\tat py4j.Gateway.invoke(Gateway.java:259)\n\tat py4j.commands.AbstractCommand.invokeMethod(AbstractCommand.java:133)\n\tat py4j.commands.CallCommand.execute(CallCommand.java:79)\n\tat py4j.GatewayConnection.run(GatewayConnection.java:209)\n\tat java.lang.Thread.run(Thread.java:745)\nCaused by: org.apache.spark.api.python.PythonException: Traceback (most recent call last):\n  File \"/Users/rok/spark/python/lib/pyspark.zip/pyspark/worker.py\", line 109, in main\n    profiler.profile(process)\n  File \"/Users/rok/spark/python/lib/pyspark.zip/pyspark/profiler.py\", line 160, in profile\n    pr.runcall(func)\n  File \"/Users/rok/miniconda/lib/python2.7/cProfile.py\", line 149, in runcall\n    return func(*args, **kw)\n  File \"/Users/rok/spark/python/lib/pyspark.zip/pyspark/worker.py\", line 106, in process\n    serializer.dump_stream(func(split_index, iterator), outfile)\n  File \"/Users/rok/spark/python/pyspark/rdd.py\", line 2346, in pipeline_func\n    return func(split, prev_func(split, iterator))\n  File \"/Users/rok/spark/python/pyspark/rdd.py\", line 2346, in pipeline_func\n    return func(split, prev_func(split, iterator))\n  File \"/Users/rok/spark/python/pyspark/rdd.py\", line 2346, in pipeline_func\n    return func(split, prev_func(split, iterator))\n  File \"/Users/rok/spark/python/pyspark/rdd.py\", line 2346, in pipeline_func\n    return func(split, prev_func(split, iterator))\n  File \"/Users/rok/spark/python/pyspark/rdd.py\", line 317, in func\n    return f(iterator)\n  File \"<ipython-input-46-70e5b75fae3f>\", line 23, in get_particle_bin_partition_numpy\n  File \"/Users/rok/spark/python/lib/pyspark.zip/pyspark/serializers.py\", line 139, in load_stream\n    yield self._read_with_length(stream)\n  File \"/Users/rok/spark/python/lib/pyspark.zip/pyspark/serializers.py\", line 164, in _read_with_length\n    return self.loads(obj)\n  File \"<ipython-input-79-31f5a63a244a>\", line 12, in loads\nValueError: string size must be a multiple of element size\n\n\tat org.apache.spark.api.python.PythonRunner$$anon$1.read(PythonRDD.scala:166)\n\tat org.apache.spark.api.python.PythonRunner$$anon$1.<init>(PythonRDD.scala:207)\n\tat org.apache.spark.api.python.PythonRunner.compute(PythonRDD.scala:125)\n\tat org.apache.spark.api.python.PythonRDD.compute(PythonRDD.scala:70)\n\tat org.apache.spark.rdd.RDD.computeOrReadCheckpoint(RDD.scala:306)\n\tat org.apache.spark.rdd.RDD.iterator(RDD.scala:270)\n\tat org.apache.spark.scheduler.ResultTask.runTask(ResultTask.scala:66)\n\tat org.apache.spark.scheduler.Task.run(Task.scala:89)\n\tat org.apache.spark.executor.Executor$TaskRunner.run(Executor.scala:214)\n\tat java.util.concurrent.ThreadPoolExecutor.runWorker(ThreadPoolExecutor.java:1142)\n\tat java.util.concurrent.ThreadPoolExecutor$Worker.run(ThreadPoolExecutor.java:617)\n\t... 1 more\n"
     ]
    }
   ],
   "source": [
    "%time new_arr_rdd.mapPartitions(get_particle_bin_partition_numpy).count()"
   ]
  },
  {
   "cell_type": "code",
   "execution_count": 102,
   "metadata": {
    "collapsed": true
   },
   "outputs": [],
   "source": [
    "ps = new_arr_rdd.count()"
   ]
  },
  {
   "cell_type": "code",
   "execution_count": 103,
   "metadata": {
    "collapsed": false
   },
   "outputs": [
    {
     "name": "stdout",
     "output_type": "stream",
     "text": [
      "============================================================\n",
      "Profile of RDD<id=41>\n",
      "============================================================\n",
      "         2008933 function calls (2008925 primitive calls) in 0.530 seconds\n",
      "\n",
      "   Ordered by: internal time, cumulative time\n",
      "\n",
      "   ncalls  tottime  percall  cumtime  percall filename:lineno(function)\n",
      "  1000004    0.332    0.000    0.436    0.000 rdd.py:1004(<genexpr>)\n",
      "        8    0.094    0.012    0.530    0.066 {sum}\n",
      "  1000000    0.077    0.000    0.077    0.000 rdd.py:553(<lambda>)\n",
      "      977    0.015    0.000    0.015    0.000 {cPickle.loads}\n",
      "     1958    0.007    0.000    0.007    0.000 {method 'read' of 'file' objects}\n",
      "      981    0.002    0.000    0.026    0.000 serializers.py:155(_read_with_length)\n",
      "      981    0.001    0.000    0.027    0.000 serializers.py:136(load_stream)\n",
      "      981    0.001    0.000    0.003    0.000 serializers.py:542(read_int)\n",
      "      977    0.001    0.000    0.016    0.000 serializers.py:421(loads)\n",
      "      981    0.000    0.000    0.000    0.000 {_struct.unpack}\n",
      "      985    0.000    0.000    0.000    0.000 {len}\n",
      "        4    0.000    0.000    0.000    0.000 serializers.py:259(dump_stream)\n",
      "     12/4    0.000    0.000    0.530    0.132 rdd.py:2345(pipeline_func)\n",
      "        4    0.000    0.000    0.530    0.132 worker.py:104(process)\n",
      "        4    0.000    0.000    0.000    0.000 serializers.py:217(load_stream)\n",
      "        4    0.000    0.000    0.000    0.000 {cPickle.dumps}\n",
      "        4    0.000    0.000    0.000    0.000 serializers.py:549(write_int)\n",
      "       12    0.000    0.000    0.530    0.044 rdd.py:316(func)\n",
      "        4    0.000    0.000    0.530    0.132 rdd.py:1004(<lambda>)\n",
      "        8    0.000    0.000    0.000    0.000 rdd.py:861(func)\n",
      "        4    0.000    0.000    0.000    0.000 serializers.py:414(dumps)\n",
      "        8    0.000    0.000    0.000    0.000 {method 'write' of 'file' objects}\n",
      "        4    0.000    0.000    0.000    0.000 serializers.py:220(_load_stream_without_unbatching)\n",
      "        4    0.000    0.000    0.000    0.000 {_struct.pack}\n",
      "        4    0.000    0.000    0.000    0.000 rdd.py:995(<lambda>)\n",
      "        4    0.000    0.000    0.000    0.000 rdd.py:288(func)\n",
      "        4    0.000    0.000    0.000    0.000 {iter}\n",
      "        4    0.000    0.000    0.000    0.000 {built-in method from_iterable}\n",
      "        4    0.000    0.000    0.000    0.000 {operator.add}\n",
      "        4    0.000    0.000    0.000    0.000 {method 'disable' of '_lsprof.Profiler' objects}\n",
      "\n",
      "\n"
     ]
    }
   ],
   "source": [
    "sc.show_profiles()"
   ]
  },
  {
   "cell_type": "code",
   "execution_count": 137,
   "metadata": {
    "collapsed": false
   },
   "outputs": [
    {
     "data": {
      "text/plain": [
       "'0b100000000000000000000000000000000'"
      ]
     },
     "execution_count": 137,
     "metadata": {},
     "output_type": "execute_result"
    }
   ],
   "source": [
    "bin(1 << 32)"
   ]
  },
  {
   "cell_type": "code",
   "execution_count": 129,
   "metadata": {
    "collapsed": false
   },
   "outputs": [
    {
     "data": {
      "text/plain": [
       "'0b1'"
      ]
     },
     "execution_count": 129,
     "metadata": {},
     "output_type": "execute_result"
    }
   ],
   "source": [
    "bin(1) "
   ]
  },
  {
   "cell_type": "code",
   "execution_count": 119,
   "metadata": {
    "collapsed": false
   },
   "outputs": [
    {
     "data": {
      "text/plain": [
       "'0b1100101'"
      ]
     },
     "execution_count": 119,
     "metadata": {},
     "output_type": "execute_result"
    }
   ],
   "source": [
    "bin(101)"
   ]
  },
  {
   "cell_type": "code",
   "execution_count": 126,
   "metadata": {
    "collapsed": false
   },
   "outputs": [
    {
     "data": {
      "text/plain": [
       "4294967296"
      ]
     },
     "execution_count": 126,
     "metadata": {},
     "output_type": "execute_result"
    }
   ],
   "source": [
    "2**32"
   ]
  },
  {
   "cell_type": "code",
   "execution_count": 140,
   "metadata": {
    "collapsed": false
   },
   "outputs": [],
   "source": [
    "x = np.binary_repr(1, width=32)"
   ]
  },
  {
   "cell_type": "code",
   "execution_count": 141,
   "metadata": {
    "collapsed": false
   },
   "outputs": [],
   "source": [
    "y = np.binary_repr(1, width=32)"
   ]
  },
  {
   "cell_type": "code",
   "execution_count": 144,
   "metadata": {
    "collapsed": false
   },
   "outputs": [
    {
     "data": {
      "text/plain": [
       "4294967297"
      ]
     },
     "execution_count": 144,
     "metadata": {},
     "output_type": "execute_result"
    }
   ],
   "source": [
    "int(x+y,2)"
   ]
  },
  {
   "cell_type": "code",
   "execution_count": 147,
   "metadata": {
    "collapsed": false
   },
   "outputs": [
    {
     "data": {
      "text/plain": [
       "'0000000000000000000000000000000100000000000000000000000000000001'"
      ]
     },
     "execution_count": 147,
     "metadata": {},
     "output_type": "execute_result"
    }
   ],
   "source": [
    "np.binary_repr(int(x+y,2), width=64)"
   ]
  },
  {
   "cell_type": "code",
   "execution_count": 154,
   "metadata": {
    "collapsed": false
   },
   "outputs": [],
   "source": [
    "# encode a 32-bit partition ID (pid) and 32-bit cluster ID (cid) into one 64-bit integer\n",
    "encode_gid = lambda pid, cid: np.int64(int(np.binary_repr(pid,width=32)+np.binary_repr(cid,width=32),2))"
   ]
  },
  {
   "cell_type": "code",
   "execution_count": null,
   "metadata": {
    "collapsed": true
   },
   "outputs": [],
   "source": []
  }
 ],
 "metadata": {
  "kernelspec": {
   "display_name": "Python 2",
   "language": "python",
   "name": "python2"
  },
  "language_info": {
   "codemirror_mode": {
    "name": "ipython",
    "version": 2
   },
   "file_extension": ".py",
   "mimetype": "text/x-python",
   "name": "python",
   "nbconvert_exporter": "python",
   "pygments_lexer": "ipython2",
   "version": "2.7.11"
  }
 },
 "nbformat": 4,
 "nbformat_minor": 0
}
