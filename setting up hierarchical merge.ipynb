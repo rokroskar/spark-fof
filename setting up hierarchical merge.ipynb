{
 "cells": [
  {
   "cell_type": "markdown",
   "metadata": {},
   "source": [
    "## Make a simple synthetic dataset to test hierarchical merge in FOF algorithm\n",
    "\n",
    "#### the idea is this: \n",
    "\n",
    "* after the local FOF stage, each partition reports the particles it holds in the overlap region\n",
    "* do a reduceByKey or treeAggregate of some sort to collect the groups belonging to the same particles\n",
    "* produce a mapping of $G -> G_1$ and distribute to all hosts in form of broadcast lookup table"
   ]
  },
  {
   "cell_type": "code",
   "execution_count": 1,
   "metadata": {
    "collapsed": false
   },
   "outputs": [
    {
     "name": "stderr",
     "output_type": "stream",
     "text": [
      "/Users/rokstar/miniconda/lib/python2.7/site-packages/matplotlib/__init__.py:486: UserWarning: matplotlibrc text.usetex option can not be used unless TeX-3.1415 or later is installed on your system\n",
      "  'installed on your system') % tex_req)\n",
      "/Users/rokstar/miniconda/lib/python2.7/site-packages/matplotlib/__init__.py:493: UserWarning: matplotlibrc text.usetex can not be used with *Agg backend unless dvipng-1.5 or later is installed on your system\n",
      "  warnings.warn('matplotlibrc text.usetex can not be used with *Agg '\n",
      "/Users/rokstar/miniconda/lib/python2.7/site-packages/matplotlib/__init__.py:508: UserWarning: matplotlibrc text.usetex can not be used unless ghostscript-7.07 or later is installed on your system\n",
      "  'installed on your system') % gs_req)\n"
     ]
    }
   ],
   "source": [
    "import numpy as np\n",
    "import matplotlib.pylab as plt\n",
    "%matplotlib inline\n",
    "\n",
    "import sys\n",
    "sys.setrecursionlimit(sys.getrecursionlimit()*10)\n",
    "\n",
    "import matplotlib.patches as patches"
   ]
  },
  {
   "cell_type": "code",
   "execution_count": 2,
   "metadata": {
    "collapsed": false
   },
   "outputs": [],
   "source": [
    "import spark_fof"
   ]
  },
  {
   "cell_type": "code",
   "execution_count": 3,
   "metadata": {
    "collapsed": true
   },
   "outputs": [],
   "source": [
    "def plot_rectangle(rec, ax=None):\n",
    "    if ax is None: \n",
    "        ax = plt.subplot(aspect='equal')\n",
    "    \n",
    "    if isinstance(rec, (list, tuple)):\n",
    "        for r in rec: \n",
    "            plot_rectangle(r,ax)\n",
    "    \n",
    "    else:\n",
    "        size = (rec.maxes-rec.mins)\n",
    "        ax.add_patch(patches.Rectangle(rec.mins, size[0], size[1], fill=False, zorder=-1))\n",
    "    \n",
    "    plt.xlim(-1.1,1.1); plt.ylim(-1.1,1.1)"
   ]
  },
  {
   "cell_type": "markdown",
   "metadata": {},
   "source": [
    "## Set up data"
   ]
  },
  {
   "cell_type": "code",
   "execution_count": 4,
   "metadata": {
    "collapsed": true
   },
   "outputs": [],
   "source": [
    "import numpy as np\n",
    "\n",
    "import matplotlib.pylab as plt\n",
    "\n",
    "%matplotlib inline\n",
    "\n",
    "import fof"
   ]
  },
  {
   "cell_type": "code",
   "execution_count": 5,
   "metadata": {
    "collapsed": true
   },
   "outputs": [],
   "source": [
    "# create the arrays\n",
    "pdt = np.dtype([('pos','f4', 3), ('iGroup', 'i4'), ('iOrder', 'i4')])\n",
    "nps = 1000000\n",
    "ngs = 5\n",
    "particles = np.zeros(nps, dtype=pdt)\n",
    "done_ps = 0\n",
    "centers = np.random.rand(ngs,3)*1.8 - 0.9\n",
    "for group, center in zip(range(ngs), centers): \n",
    "    group_ps = nps/ngs\n",
    "    if nps - (done_ps + group_ps) < group_ps:\n",
    "        group_ps = nps - done_ps \n",
    "    particles['pos'][done_ps:done_ps+group_ps] = \\\n",
    "        np.random.multivariate_normal(center, [[.005,0,0],[0,.005,0],[0,0,.005]], group_ps)\n",
    "    done_ps += group_ps\n",
    "   \n",
    "particles['iOrder'] = range(nps)"
   ]
  },
  {
   "cell_type": "markdown",
   "metadata": {},
   "source": [
    "## Start Spark"
   ]
  },
  {
   "cell_type": "code",
   "execution_count": 6,
   "metadata": {
    "collapsed": true
   },
   "outputs": [],
   "source": [
    "import findspark\n",
    "findspark.init()"
   ]
  },
  {
   "cell_type": "code",
   "execution_count": 7,
   "metadata": {
    "collapsed": false
   },
   "outputs": [],
   "source": [
    "import pyspark\n",
    "from pyspark import SparkContext, SparkConf"
   ]
  },
  {
   "cell_type": "code",
   "execution_count": 8,
   "metadata": {
    "collapsed": true
   },
   "outputs": [],
   "source": [
    "conf = SparkConf()"
   ]
  },
  {
   "cell_type": "code",
   "execution_count": 9,
   "metadata": {
    "collapsed": true
   },
   "outputs": [],
   "source": [
    "import os"
   ]
  },
  {
   "cell_type": "code",
   "execution_count": 10,
   "metadata": {
    "collapsed": false
   },
   "outputs": [],
   "source": [
    "os.environ['SPARK_DRIVER_MEMORY']= '4G'"
   ]
  },
  {
   "cell_type": "code",
   "execution_count": 11,
   "metadata": {
    "collapsed": false
   },
   "outputs": [
    {
     "data": {
      "text/plain": [
       "<pyspark.conf.SparkConf at 0x117c5a190>"
      ]
     },
     "execution_count": 11,
     "metadata": {},
     "output_type": "execute_result"
    }
   ],
   "source": [
    "conf.set('spark.python.profile', 'true')\n",
    "conf.set('spark.executor.memory', '5G')\n",
    "conf.set('spark.driver.memory', '4G')\n"
   ]
  },
  {
   "cell_type": "code",
   "execution_count": 12,
   "metadata": {
    "collapsed": false
   },
   "outputs": [],
   "source": [
    "sc = SparkContext(master='local[4]', conf=conf, batchSize=0)"
   ]
  },
  {
   "cell_type": "code",
   "execution_count": 13,
   "metadata": {
    "collapsed": false
   },
   "outputs": [],
   "source": [
    "sc.addPyFile('spark_fof.py')"
   ]
  },
  {
   "cell_type": "markdown",
   "metadata": {},
   "source": [
    "## Set up the domains"
   ]
  },
  {
   "cell_type": "code",
   "execution_count": 14,
   "metadata": {
    "collapsed": false
   },
   "outputs": [],
   "source": [
    "N = 4\n",
    "tau = 0.05\n",
    "mins = [-1,-1,-1]\n",
    "maxes= [1,1,1]\n",
    "domain_containers = spark_fof.setup_domain(N,tau,maxes,mins)"
   ]
  },
  {
   "cell_type": "code",
   "execution_count": 15,
   "metadata": {
    "collapsed": false
   },
   "outputs": [
    {
     "data": {
      "text/plain": [
       "[<matplotlib.lines.Line2D at 0x118739850>]"
      ]
     },
     "execution_count": 15,
     "metadata": {},
     "output_type": "execute_result"
    },
    {
     "name": "stderr",
     "output_type": "stream",
     "text": [
      "/Users/rokstar/miniconda/lib/python2.7/site-packages/matplotlib/font_manager.py:1288: UserWarning: findfont: Font family [u'serif'] not found. Falling back to Bitstream Vera Sans\n",
      "  (prop.get_family(), self.defaultFamily[fontext]))\n"
     ]
    },
    {
     "data": {
      "image/png": "[encoded data removed]",
      "text/plain": [
       "<matplotlib.figure.Figure at 0x118144890>"
      ]
     },
     "metadata": {},
     "output_type": "display_data"
    }
   ],
   "source": [
    "f, ax = plt.subplots(subplot_kw={'aspect':'equal'}, figsize=(15,15))\n",
    "#plot_rectangle(domain_containers[0].bufferRectangle, ax=ax)\n",
    "for p in particles[::1000]: \n",
    "    x,y,z = p['pos']\n",
    "    plot_rectangle(domain_containers[spark_fof.get_bin_cython(x, y, z,2**N, -1,-1,-1, 1,1,1)], ax=ax)\n",
    "#    plot_rectangle(domain_containers[get_bin(p.x, p.y, 2**N, mins,maxes)].bufferRectangle, ax=ax)\n",
    "# for r in domain_containers: \n",
    "#     plot_rectangle(r.parent, ax=ax)\n",
    "ax.plot(particles['pos'][:,0], particles['pos'][:,1], '.')"
   ]
  },
  {
   "cell_type": "markdown",
   "metadata": {},
   "source": [
    "### Make the base RDD"
   ]
  },
  {
   "cell_type": "code",
   "execution_count": 16,
   "metadata": {
    "collapsed": false
   },
   "outputs": [],
   "source": [
    "p_rdd = sc.parallelize(particles)"
   ]
  },
  {
   "cell_type": "markdown",
   "metadata": {},
   "source": [
    "### Partition particles into domains and set the partition part of local group ID"
   ]
  },
  {
   "cell_type": "code",
   "execution_count": 18,
   "metadata": {
    "collapsed": false
   },
   "outputs": [],
   "source": [
    "# partitioning duplicates the particles that are located in the boundary regions\n",
    "part_rdd = (p_rdd.mapPartitions(lambda particles: spark_fof.partition_particles(particles, domain_containers, tau))\n",
    "                 .partitionBy(len(domain_containers))\n",
    "                 .values())"
   ]
  },
  {
   "cell_type": "code",
   "execution_count": null,
   "metadata": {
    "collapsed": false
   },
   "outputs": [],
   "source": [
    "part_rdd.count()"
   ]
  },
  {
   "cell_type": "code",
   "execution_count": null,
   "metadata": {
    "collapsed": false
   },
   "outputs": [],
   "source": [
    "sc.show_profiles()"
   ]
  },
  {
   "cell_type": "markdown",
   "metadata": {},
   "source": [
    "### Run the local FOF"
   ]
  },
  {
   "cell_type": "code",
   "execution_count": 19,
   "metadata": {
    "collapsed": true
   },
   "outputs": [],
   "source": [
    "from spark_util import spark_cython"
   ]
  },
  {
   "cell_type": "code",
   "execution_count": 20,
   "metadata": {
    "collapsed": true
   },
   "outputs": [],
   "source": [
    "run_fof = spark_cython('fof', 'run')"
   ]
  },
  {
   "cell_type": "code",
   "execution_count": 21,
   "metadata": {
    "collapsed": true
   },
   "outputs": [],
   "source": [
    "def run_local_fof(index, particle_iter, tau): \n",
    "    part_arr = np.fromiter(particle_iter, pdt)\n",
    "    if len(part_arr)>0:\n",
    "        run_fof(part_arr, tau)\n",
    "    part_arr['iOrder'] = index\n",
    "    return part_arr\n",
    "\n",
    "def set_group_id(partition_index, particle_iter):\n",
    "    part_arr = np.fromiter(particle_iter, pdt)\n",
    "    for i in range(len(part_arr)):\n",
    "        gid = part_arr[i]['iGroup']\n",
    "        part_arr[i]['iGroup'] = spark_fof.encode_gid(partition_index, gid, 16)\n",
    "    return part_arr"
   ]
  },
  {
   "cell_type": "code",
   "execution_count": 49,
   "metadata": {
    "collapsed": false
   },
   "outputs": [
    {
     "data": {
      "text/plain": [
       "[([-0.2017277479171753, -0.5116086006164551, 0.25168800354003906], 0, 2357),\n",
       " ([-0.32397979497909546, -0.5175694823265076, 0.22052833437919617], 0, 2357),\n",
       " ([-0.2017277479171753, -0.5116086006164551, 0.25168800354003906], 0, 2358),\n",
       " ([-0.3118076026439667, -0.5760855078697205, 0.4098624885082245], 0, 2597),\n",
       " ([-0.1536763310432434, -0.5940067172050476, 0.3876684606075287], 0, 2598),\n",
       " ([-0.2433624565601349, -0.4748691916465759, 0.40354129672050476], 0, 2613),\n",
       " ([-0.2017277479171753, -0.5116086006164551, 0.25168800354003906], 0, 2613),\n",
       " ([-0.24403367936611176, -0.48283424973487854, 0.30490750074386597], 0, 2613),\n",
       " ([-0.315173476934433, -0.4985677897930145, 0.41830959916114807], 0, 2613),\n",
       " ([-0.3118076026439667, -0.5760855078697205, 0.4098624885082245], 0, 2613),\n",
       " ([-0.26225635409355164, -0.5550345182418823, 0.3926166892051697], 0, 2613),\n",
       " ([-0.2911744713783264, -0.5060533285140991, 0.34295889735221863], 0, 2613),\n",
       " ([-0.2433624565601349, -0.4748691916465759, 0.40354129672050476], 1, 2614),\n",
       " ([-0.2017277479171753, -0.5116086006164551, 0.25168800354003906], 1, 2614),\n",
       " ([-0.16535356640815735, -0.4741879403591156, 0.3578569293022156], 1, 2614),\n",
       " ([-0.14683689177036285, -0.47389569878578186, 0.3646202087402344], 1, 2614),\n",
       " ([-0.1536763310432434, -0.5940067172050476, 0.3876684606075287], 1, 2614),\n",
       " ([-0.19610905647277832, -0.5269541144371033, 0.37132561206817627], 1, 2614),\n",
       " ([-0.24403367936611176, -0.48283424973487854, 0.30490750074386597], 1, 2614),\n",
       " ([-0.12142599374055862, -0.5353677272796631, 0.39817893505096436], 1, 2614),\n",
       " ([-0.12142599374055862, -0.5353677272796631, 0.39817893505096436], 0, 2615),\n",
       " ([-0.2554721534252167, -0.43863099813461304, 0.398188054561615], 0, 2629),\n",
       " ([-0.24403367936611176, -0.48283424973487854, 0.30490750074386597], 0, 2629),\n",
       " ([-0.315173476934433, -0.4985677897930145, 0.41830959916114807], 0, 2629),\n",
       " ([-0.2797151505947113, -0.4414442479610443, 0.3892839848995209], 0, 2629),\n",
       " ([-0.2433624565601349, -0.4748691916465759, 0.40354129672050476], 0, 2630),\n",
       " ([-0.16535356640815735, -0.4741879403591156, 0.3578569293022156], 0, 2630),\n",
       " ([-0.14683689177036285, -0.47389569878578186, 0.3646202087402344], 0, 2630),\n",
       " ([-0.24403367936611176, -0.48283424973487854, 0.30490750074386597], 0, 2630),\n",
       " ([-0.3118076026439667, -0.5760855078697205, 0.4098624885082245], 0, 2853),\n",
       " ([-0.1536763310432434, -0.5940067172050476, 0.3876684606075287], 0, 2854),\n",
       " ([-0.2433624565601349, -0.4748691916465759, 0.40354129672050476], 0, 2869),\n",
       " ([-0.315173476934433, -0.4985677897930145, 0.41830959916114807], 0, 2869),\n",
       " ([-0.23532411456108093, -0.5566731691360474, 0.4775131642818451], 0, 2869),\n",
       " ([-0.3118076026439667, -0.5760855078697205, 0.4098624885082245], 0, 2869),\n",
       " ([-0.26225635409355164, -0.5550345182418823, 0.3926166892051697], 0, 2869),\n",
       " ([-0.2433624565601349, -0.4748691916465759, 0.40354129672050476], 0, 2870),\n",
       " ([-0.1536763310432434, -0.5940067172050476, 0.3876684606075287], 0, 2870),\n",
       " ([-0.1476297229528427, -0.5464739799499512, 0.42888903617858887], 0, 2870),\n",
       " ([-0.23532411456108093, -0.5566731691360474, 0.4775131642818451], 0, 2870),\n",
       " ([-0.19910447299480438, -0.4614603519439697, 0.4305080473423004], 0, 2870),\n",
       " ([-0.15248627960681915, -0.5528793931007385, 0.4490167796611786], 0, 2870),\n",
       " ([-0.12142599374055862, -0.5353677272796631, 0.39817893505096436], 0, 2870),\n",
       " ([-0.12142599374055862, -0.5353677272796631, 0.39817893505096436], 0, 2871),\n",
       " ([-0.2433624565601349, -0.4748691916465759, 0.40354129672050476], 0, 2885),\n",
       " ([-0.2554721534252167, -0.43863099813461304, 0.398188054561615], 0, 2885),\n",
       " ([-0.315173476934433, -0.4985677897930145, 0.41830959916114807], 0, 2885),\n",
       " ([-0.2797151505947113, -0.4414442479610443, 0.3892839848995209], 0, 2885),\n",
       " ([-0.23691889643669128, -0.35768771171569824, 0.4488959312438965], 0, 2885),\n",
       " ([-0.2433624565601349, -0.4748691916465759, 0.40354129672050476], 0, 2886),\n",
       " ([-0.19910447299480438, -0.4614603519439697, 0.4305080473423004], 0, 2886),\n",
       " ([-0.23691889643669128, -0.35768771171569824, 0.4488959312438965], 0, 2886),\n",
       " ([-0.23691889643669128, -0.35768771171569824, 0.4488959312438965], 0, 2901),\n",
       " ([-0.23691889643669128, -0.35768771171569824, 0.4488959312438965], 0, 2902),\n",
       " ([-0.8956097364425659, 0.9086364507675171, 0.5494952201843262], 0, 3040),\n",
       " ([-0.8956097364425659, 0.9086364507675171, 0.5494952201843262], 0, 3056),\n",
       " ([0.1714291274547577, -0.08665463328361511, 0.5878761410713196], 0, 3176),\n",
       " ([0.1714291274547577, -0.08665463328361511, 0.5878761410713196], 0, 3177),\n",
       " ([0.49116528034210205, -0.10560827702283859, 0.6659635305404663], 0, 3179),\n",
       " ([0.1714291274547577, -0.08665463328361511, 0.5878761410713196], 0, 3192),\n",
       " ([0.1714291274547577, -0.08665463328361511, 0.5878761410713196], 0, 3193),\n",
       " ([0.3300081491470337, 0.04321514070034027, 0.5944393277168274], 0, 3194),\n",
       " ([0.49116528034210205, -0.10560827702283859, 0.6659635305404663], 0, 3195),\n",
       " ([0.3300081491470337, 0.04321514070034027, 0.5944393277168274], 0, 3210),\n",
       " ([0.35048145055770874, 0.08626921474933624, 0.5521504282951355], 0, 3210),\n",
       " ([-0.14781847596168518, 0.45787951350212097, 0.6727161407470703], 0, 3254),\n",
       " ([-0.16751322150230408, 0.4934059679508209, 0.6633874773979187], 0, 3254),\n",
       " ([-0.08778038620948792, 0.5816102027893066, 0.5671234726905823], 0, 3270),\n",
       " ([-0.08778038620948792, 0.5816102027893066, 0.5671234726905823], 0, 3271),\n",
       " ([-0.8520540595054626, 0.862725555896759, 0.630187451839447], 0, 3296),\n",
       " ([-0.8956097364425659, 0.9086364507675171, 0.5494952201843262], 0, 3296),\n",
       " ([-0.8520540595054626, 0.862725555896759, 0.630187451839447], 0, 3297),\n",
       " ([-0.8153871893882751, 0.8559291958808899, 0.6714074015617371], 0, 3297),\n",
       " ([-0.661026120185852, 0.853644609451294, 0.6679498553276062], 0, 3298),\n",
       " ([-0.8956097364425659, 0.9086364507675171, 0.5494952201843262], 0, 3312),\n",
       " ([0.37495115399360657, -0.1116124838590622, 0.7050887942314148], 0, 3434),\n",
       " ([0.41788941621780396, -0.09977591037750244, 0.7101576328277588], 0, 3434),\n",
       " ([0.36697250604629517, -0.08386489003896713, 0.7705958485603333], 0, 3434),\n",
       " ([0.3961467742919922, -0.09655994921922684, 0.7507641911506653], 0, 3434),\n",
       " ([0.41788941621780396, -0.09977591037750244, 0.7101576328277588], 0, 3435),\n",
       " ([0.3961467742919922, -0.09655994921922684, 0.7507641911506653], 0, 3435),\n",
       " ([0.49116528034210205, -0.10560827702283859, 0.6659635305404663], 0, 3435),\n",
       " ([0.2819322347640991, -0.005206197500228882, 0.7089105844497681], 0, 3449),\n",
       " ([0.37495115399360657, -0.1116124838590622, 0.7050887942314148], 0, 3450),\n",
       " ([0.3326222598552704, -0.011026500724256039, 0.7902924418449402], 0, 3450),\n",
       " ([0.32225096225738525, 0.012279304675757885, 0.7541118860244751], 0, 3450),\n",
       " ([0.41788941621780396, -0.09977591037750244, 0.7101576328277588], 0, 3450),\n",
       " ([0.2819322347640991, -0.005206197500228882, 0.7089105844497681], 0, 3450),\n",
       " ([0.36697250604629517, -0.08386489003896713, 0.7705958485603333], 0, 3450),\n",
       " ([0.30947357416152954, -0.03329474851489067, 0.7010804414749146], 0, 3450),\n",
       " ([0.41788941621780396, -0.09977591037750244, 0.7101576328277588], 0, 3451),\n",
       " ([0.3961467742919922, -0.09655994921922684, 0.7507641911506653], 0, 3451),\n",
       " ([0.49116528034210205, -0.10560827702283859, 0.6659635305404663], 0, 3451),\n",
       " ([0.2735230028629303, 0.06642870604991913, 0.752599835395813], 0, 3465),\n",
       " ([0.4110056161880493, 0.06157945841550827, 0.7818164825439453], 0, 3466),\n",
       " ([0.32225096225738525, 0.012279304675757885, 0.7541118860244751], 0, 3466),\n",
       " ([0.2735230028629303, 0.06642870604991913, 0.752599835395813], 0, 3466),\n",
       " ([0.36811479926109314, 0.07790246605873108, 0.7400050163269043], 0, 3466),\n",
       " ([0.4110056161880493, 0.06157945841550827, 0.7818164825439453], 0, 3467),\n",
       " ([0.2579541504383087, 0.19103510677814484, 0.7991165518760681], 0, 3481),\n",
       " ([0.2579541504383087, 0.19103510677814484, 0.7991165518760681], 0, 3482),\n",
       " ([-0.1366061419248581, 0.5259501934051514, 0.7528771162033081], 1, 3510),\n",
       " ([-0.14781847596168518, 0.45787951350212097, 0.6727161407470703], 1, 3510),\n",
       " ([-0.13502557575702667, 0.5242125391960144, 0.789153516292572], 1, 3510),\n",
       " ([-0.1703583151102066, 0.5126485228538513, 0.7274513840675354], 1, 3510),\n",
       " ([-0.13611166179180145, 0.4993528127670288, 0.7923979163169861], 1, 3510),\n",
       " ([-0.07500217109918594, 0.5431902408599854, 0.7185006737709045], 1, 3510),\n",
       " ([-0.12104631960391998, 0.4388789236545563, 0.7519620060920715], 1, 3510),\n",
       " ([-0.16751322150230408, 0.4934059679508209, 0.6633874773979187], 1, 3510),\n",
       " ([-0.06919208914041519, 0.5320426225662231, 0.7182032465934753], 0, 3511),\n",
       " ([0.021664490923285484, 0.5344476699829102, 0.7731147408485413], 0, 3511),\n",
       " ([-0.052308760583400726, 0.48832041025161743, 0.7328238487243652], 0, 3511),\n",
       " ([-0.05714007839560509, 0.4301067292690277, 0.7842075824737549], 0, 3511),\n",
       " ([-0.07500217109918594, 0.5431902408599854, 0.7185006737709045], 0, 3511),\n",
       " ([-0.061376411467790604, 0.4815463125705719, 0.7959358096122742], 0, 3511),\n",
       " ([-0.12104631960391998, 0.4388789236545563, 0.7519620060920715], 0, 3511),\n",
       " ([0.07281234115362167, 0.4283697307109833, 0.7207001447677612], 0, 3512),\n",
       " ([0.021664490923285484, 0.5344476699829102, 0.7731147408485413], 0, 3512),\n",
       " ([-0.1366061419248581, 0.5259501934051514, 0.7528771162033081], 0, 3526),\n",
       " ([-0.08207157254219055, 0.6504972577095032, 0.7403144240379333], 0, 3526),\n",
       " ([-0.13502557575702667, 0.5242125391960144, 0.789153516292572], 0, 3526),\n",
       " ([-0.1703583151102066, 0.5126485228538513, 0.7274513840675354], 0, 3526),\n",
       " ([-0.07500217109918594, 0.5431902408599854, 0.7185006737709045], 0, 3526),\n",
       " ([-0.06919208914041519, 0.5320426225662231, 0.7182032465934753], 0, 3527),\n",
       " ([-0.048226214945316315, 0.6225525140762329, 0.7095819115638733], 0, 3527),\n",
       " ([-0.08207157254219055, 0.6504972577095032, 0.7403144240379333], 0, 3527),\n",
       " ([-0.07500217109918594, 0.5431902408599854, 0.7185006737709045], 0, 3527),\n",
       " ([0.021664490923285484, 0.5344476699829102, 0.7731147408485413], 0, 3528),\n",
       " ([0.3723779618740082, 0.6593966484069824, 0.7598565816879272], 0, 3530),\n",
       " ([0.3840044438838959, 0.6375095248222351, 0.7017395496368408], 0, 3530),\n",
       " ([0.4942726492881775, 0.651145339012146, 0.7152559161186218], 0, 3531),\n",
       " ([0.3840044438838959, 0.6375095248222351, 0.7017395496368408], 0, 3531),\n",
       " ([-0.08207157254219055, 0.6504972577095032, 0.7403144240379333], 0, 3542),\n",
       " ([-0.08207157254219055, 0.6504972577095032, 0.7403144240379333], 0, 3543),\n",
       " ([0.3723779618740082, 0.6593966484069824, 0.7598565816879272], 0, 3546),\n",
       " ([0.4032573103904724, 0.7732084393501282, 0.760138213634491], 0, 3546),\n",
       " ([0.3840044438838959, 0.6375095248222351, 0.7017395496368408], 0, 3546),\n",
       " ([0.4032573103904724, 0.7732084393501282, 0.760138213634491], 0, 3547),\n",
       " ([0.4942726492881775, 0.651145339012146, 0.7152559161186218], 0, 3547),\n",
       " ([0.3840044438838959, 0.6375095248222351, 0.7017395496368408], 0, 3547),\n",
       " ([0.43420514464378357, 0.7284116148948669, 0.7952889204025269], 0, 3547),\n",
       " ([-0.8911716341972351, 0.893588125705719, 0.7521126866340637], 0, 3552),\n",
       " ([-0.9790598750114441, 0.857760488986969, 0.6807553768157959], 0, 3552),\n",
       " ([-0.8374482989311218, 0.8884859085083008, 0.7030080556869507], 0, 3552),\n",
       " ([-0.8520540595054626, 0.862725555896759, 0.630187451839447], 0, 3552),\n",
       " ([-0.9602752327919006, 0.8781090378761292, 0.7747105360031128], 0, 3552),\n",
       " ([-0.7779514193534851, 0.8648053407669067, 0.7166749238967896], 0, 3553),\n",
       " ([-0.7383311986923218, 0.9091367125511169, 0.6975080370903015], 0, 3553),\n",
       " ([-0.8374482989311218, 0.8884859085083008, 0.7030080556869507], 0, 3553),\n",
       " ([-0.8520540595054626, 0.862725555896759, 0.630187451839447], 0, 3553),\n",
       " ([-0.7920681834220886, 0.8928203582763672, 0.7665025591850281], 0, 3553),\n",
       " ([-0.8142032623291016, 0.852562665939331, 0.6960192322731018], 0, 3553),\n",
       " ([-0.8153871893882751, 0.8559291958808899, 0.6714074015617371], 0, 3553),\n",
       " ([-0.7383311986923218, 0.9091367125511169, 0.6975080370903015], 0, 3554),\n",
       " ([-0.661026120185852, 0.853644609451294, 0.6679498553276062], 0, 3554),\n",
       " ([0.4032573103904724, 0.7732084393501282, 0.760138213634491], 0, 3563),\n",
       " ([-0.8911716341972351, 0.893588125705719, 0.7521126866340637], 0, 3568),\n",
       " ([-0.8374482989311218, 0.8884859085083008, 0.7030080556869507], 0, 3568),\n",
       " ([-0.8655073046684265, 0.9655606150627136, 0.7283653616905212], 0, 3568),\n",
       " ([-0.9602752327919006, 0.8781090378761292, 0.7747105360031128], 0, 3568),\n",
       " ([-0.7383311986923218, 0.9091367125511169, 0.6975080370903015], 0, 3569),\n",
       " ([-0.8374482989311218, 0.8884859085083008, 0.7030080556869507], 0, 3569),\n",
       " ([-0.7896814346313477, 0.930746853351593, 0.7670570611953735], 0, 3569),\n",
       " ([-0.8655073046684265, 0.9655606150627136, 0.7283653616905212], 0, 3569),\n",
       " ([-0.7920681834220886, 0.8928203582763672, 0.7665025591850281], 0, 3569),\n",
       " ([-0.7383311986923218, 0.9091367125511169, 0.6975080370903015], 0, 3570),\n",
       " ([0.36697250604629517, -0.08386489003896713, 0.7705958485603333], 0, 3690),\n",
       " ([0.3961467742919922, -0.09655994921922684, 0.7507641911506653], 0, 3690),\n",
       " ([0.3961467742919922, -0.09655994921922684, 0.7507641911506653], 0, 3691),\n",
       " ([0.22705434262752533, -0.040407344698905945, 0.8053190112113953], 0, 3705),\n",
       " ([0.3326222598552704, -0.011026500724256039, 0.7902924418449402], 0, 3706),\n",
       " ([0.32225096225738525, 0.012279304675757885, 0.7541118860244751], 0, 3706),\n",
       " ([0.36697250604629517, -0.08386489003896713, 0.7705958485603333], 0, 3706),\n",
       " ([0.3210587501525879, -0.06357640027999878, 0.8050444722175598], 0, 3706),\n",
       " ([0.3961467742919922, -0.09655994921922684, 0.7507641911506653], 0, 3706),\n",
       " ([0.3672232925891876, 0.039668623358011246, 0.8213897943496704], 0, 3706),\n",
       " ([0.3961467742919922, -0.09655994921922684, 0.7507641911506653], 0, 3707),\n",
       " ([0.452360063791275, 0.011983556672930717, 0.8023899793624878], 0, 3707),\n",
       " ([0.2735230028629303, 0.06642870604991913, 0.752599835395813], 0, 3721),\n",
       " ([0.4110056161880493, 0.06157945841550827, 0.7818164825439453], 0, 3722),\n",
       " ([0.32225096225738525, 0.012279304675757885, 0.7541118860244751], 0, 3722),\n",
       " ([0.2735230028629303, 0.06642870604991913, 0.752599835395813], 0, 3722),\n",
       " ([0.3672232925891876, 0.039668623358011246, 0.8213897943496704], 0, 3722),\n",
       " ([0.4110056161880493, 0.06157945841550827, 0.7818164825439453], 0, 3723),\n",
       " ([0.452360063791275, 0.011983556672930717, 0.8023899793624878], 0, 3723),\n",
       " ([0.2579541504383087, 0.19103510677814484, 0.7991165518760681], 0, 3737),\n",
       " ([0.2579541504383087, 0.19103510677814484, 0.7991165518760681], 0, 3738),\n",
       " ([-0.21457539498806, 0.5432865619659424, 0.817081093788147], 0, 3765),\n",
       " ([-0.21457539498806, 0.5432865619659424, 0.817081093788147], 0, 3766),\n",
       " ([-0.1366061419248581, 0.5259501934051514, 0.7528771162033081], 0, 3766),\n",
       " ([-0.13502557575702667, 0.5242125391960144, 0.789153516292572], 0, 3766),\n",
       " ([-0.13611166179180145, 0.4993528127670288, 0.7923979163169861], 0, 3766),\n",
       " ([-0.12104631960391998, 0.4388789236545563, 0.7519620060920715], 0, 3766),\n",
       " ([0.021664490923285484, 0.5344476699829102, 0.7731147408485413], 0, 3767),\n",
       " ([-0.05714007839560509, 0.4301067292690277, 0.7842075824737549], 0, 3767),\n",
       " ([-0.061376411467790604, 0.4815463125705719, 0.7959358096122742], 0, 3767),\n",
       " ([-0.12104631960391998, 0.4388789236545563, 0.7519620060920715], 0, 3767),\n",
       " ([0.021664490923285484, 0.5344476699829102, 0.7731147408485413], 0, 3768),\n",
       " ([-0.21457539498806, 0.5432865619659424, 0.817081093788147], 0, 3781),\n",
       " ([-0.21457539498806, 0.5432865619659424, 0.817081093788147], 0, 3782),\n",
       " ([-0.1366061419248581, 0.5259501934051514, 0.7528771162033081], 0, 3782),\n",
       " ([-0.1467810571193695, 0.5675615668296814, 0.8021626472473145], 0, 3782),\n",
       " ([-0.13502557575702667, 0.5242125391960144, 0.789153516292572], 0, 3782),\n",
       " ([0.021664490923285484, 0.5344476699829102, 0.7731147408485413], 0, 3783),\n",
       " ([-0.03722390905022621, 0.5603939294815063, 0.8736491203308105], 0, 3783),\n",
       " ([0.021664490923285484, 0.5344476699829102, 0.7731147408485413], 0, 3784),\n",
       " ([0.3723779618740082, 0.6593966484069824, 0.7598565816879272], 0, 3786),\n",
       " ([0.3953470289707184, 0.6241433620452881, 0.8490673899650574], 0, 3786),\n",
       " ([0.3805815279483795, 0.6695173978805542, 0.8232110738754272], 0, 3786),\n",
       " ([0.37217679619789124, 0.6410531997680664, 0.8578859567642212], 0, 3786),\n",
       " ([0.3891913592815399, 0.6691889762878418, 0.8088141679763794], 0, 3786),\n",
       " ([0.3708271086215973, 0.6687707304954529, 0.8935031890869141], 0, 3786),\n",
       " ([0.44448962807655334, 0.5618445873260498, 0.8671399354934692], 0, 3787),\n",
       " ([0.3953470289707184, 0.6241433620452881, 0.8490673899650574], 0, 3787),\n",
       " ([0.4633672833442688, 0.6128683090209961, 0.8977484703063965], 0, 3787),\n",
       " ([0.3805815279483795, 0.6695173978805542, 0.8232110738754272], 0, 3787),\n",
       " ([0.3891913592815399, 0.6691889762878418, 0.8088141679763794], 0, 3787),\n",
       " ([-0.8305867910385132, 0.7626258134841919, 0.8258110284805298], 0, 3792),\n",
       " ([-0.8305867910385132, 0.7626258134841919, 0.8258110284805298], 0, 3793),\n",
       " ([0.3723779618740082, 0.6593966484069824, 0.7598565816879272], 0, 3802),\n",
       " ([0.4032573103904724, 0.7732084393501282, 0.760138213634491], 0, 3802),\n",
       " ([0.3805815279483795, 0.6695173978805542, 0.8232110738754272], 0, 3802),\n",
       " ([0.37217679619789124, 0.6410531997680664, 0.8578859567642212], 0, 3802),\n",
       " ([0.3891913592815399, 0.6691889762878418, 0.8088141679763794], 0, 3802),\n",
       " ([0.3708271086215973, 0.6687707304954529, 0.8935031890869141], 0, 3802),\n",
       " ([0.45435523986816406, 0.7374539375305176, 0.880357027053833], 1, 3803),\n",
       " ([0.4032573103904724, 0.7732084393501282, 0.760138213634491], 1, 3803),\n",
       " ([0.3805815279483795, 0.6695173978805542, 0.8232110738754272], 1, 3803),\n",
       " ([0.4346039593219757, 0.7468904256820679, 0.8940896987915039], 1, 3803),\n",
       " ([0.43420514464378357, 0.7284116148948669, 0.7952889204025269], 1, 3803),\n",
       " ([0.488355815410614, 0.706331193447113, 0.8176378011703491], 1, 3803),\n",
       " ([0.5026151537895203, 0.7530843019485474, 0.8971893787384033], 1, 3803),\n",
       " ([0.3891913592815399, 0.6691889762878418, 0.8088141679763794], 1, 3803),\n",
       " ([0.5651530623435974, 0.7481244206428528, 0.8967315554618835], 0, 3804),\n",
       " ([0.5026151537895203, 0.7530843019485474, 0.8971893787384033], 0, 3804),\n",
       " ([-0.8305867910385132, 0.7626258134841919, 0.8258110284805298], 0, 3808),\n",
       " ([-0.8911716341972351, 0.893588125705719, 0.7521126866340637], 0, 3808),\n",
       " ([-0.9859638810157776, 0.8361222147941589, 0.857932448387146], 0, 3808),\n",
       " ([-0.9602752327919006, 0.8781090378761292, 0.7747105360031128], 0, 3808),\n",
       " ([-0.8305867910385132, 0.7626258134841919, 0.8258110284805298], 0, 3809),\n",
       " ([-0.7920681834220886, 0.8928203582763672, 0.7665025591850281], 0, 3809),\n",
       " ([-0.7780897617340088, 0.8835603594779968, 0.8170542120933533], 0, 3809),\n",
       " ([-0.6596392393112183, 0.9227937459945679, 0.8584137558937073], 0, 3810),\n",
       " ([0.4032573103904724, 0.7732084393501282, 0.760138213634491], 0, 3818),\n",
       " ([0.4032573103904724, 0.7732084393501282, 0.760138213634491], 0, 3819),\n",
       " ([0.538938581943512, 0.8131707310676575, 0.9031423330307007], 0, 3819),\n",
       " ([0.5026151537895203, 0.7530843019485474, 0.8971893787384033], 0, 3820),\n",
       " ([0.538938581943512, 0.8131707310676575, 0.9031423330307007], 0, 3820),\n",
       " ([-0.8911716341972351, 0.893588125705719, 0.7521126866340637], 0, 3824),\n",
       " ([-0.8405421376228333, 0.961290717124939, 0.8299019932746887], 0, 3824),\n",
       " ([-0.9602752327919006, 0.8781090378761292, 0.7747105360031128], 0, 3824),\n",
       " ([-0.7316746711730957, 0.930657148361206, 0.8211190104484558], 0, 3825),\n",
       " ([-0.8405421376228333, 0.961290717124939, 0.8299019932746887], 0, 3825),\n",
       " ([-0.7896814346313477, 0.930746853351593, 0.7670570611953735], 0, 3825),\n",
       " ([-0.7920681834220886, 0.8928203582763672, 0.7665025591850281], 0, 3825),\n",
       " ([-0.7780897617340088, 0.8835603594779968, 0.8170542120933533], 0, 3825),\n",
       " ([-0.6596392393112183, 0.9227937459945679, 0.8584137558937073], 0, 3826),\n",
       " ([-0.7316746711730957, 0.930657148361206, 0.8211190104484558], 0, 3826),\n",
       " ([0.3708271086215973, 0.6687707304954529, 0.8935031890869141], 0, 4042),\n",
       " ([0.4633672833442688, 0.6128683090209961, 0.8977484703063965], 0, 4043),\n",
       " ([0.4849368631839752, 0.647914707660675, 0.9407342672348022], 0, 4043),\n",
       " ([0.4454488158226013, 0.6149697303771973, 0.9631531834602356], 0, 4043),\n",
       " ([0.3708271086215973, 0.6687707304954529, 0.8935031890869141], 0, 4058),\n",
       " ([0.45435523986816406, 0.7374539375305176, 0.880357027053833], 0, 4059),\n",
       " ([0.4849368631839752, 0.647914707660675, 0.9407342672348022], 0, 4059),\n",
       " ([0.4346039593219757, 0.7468904256820679, 0.8940896987915039], 0, 4059),\n",
       " ([0.5026151537895203, 0.7530843019485474, 0.8971893787384033], 0, 4059),\n",
       " ([0.5651530623435974, 0.7481244206428528, 0.8967315554618835], 0, 4060),\n",
       " ([0.5026151537895203, 0.7530843019485474, 0.8971893787384033], 0, 4060),\n",
       " ([0.5026151537895203, 0.7530843019485474, 0.8971893787384033], 0, 4075),\n",
       " ([0.538938581943512, 0.8131707310676575, 0.9031423330307007], 0, 4075),\n",
       " ([0.5026151537895203, 0.7530843019485474, 0.8971893787384033], 0, 4076),\n",
       " ([0.538938581943512, 0.8131707310676575, 0.9031423330307007], 0, 4076)]"
      ]
     },
     "execution_count": 49,
     "metadata": {},
     "output_type": "execute_result"
    }
   ],
   "source": [
    "part_rdd.mapPartitionsWithIndex(run_local_fof).collect()"
   ]
  },
  {
   "cell_type": "code",
   "execution_count": 50,
   "metadata": {
    "collapsed": false
   },
   "outputs": [
    {
     "name": "stdout",
     "output_type": "stream",
     "text": [
      "============================================================\n",
      "Profile of RDD<id=9>\n",
      "============================================================\n",
      "         67624 function calls in 0.595 seconds\n",
      "\n",
      "   Ordered by: internal time, cumulative time\n",
      "\n",
      "   ncalls  tottime  percall  cumtime  percall filename:lineno(function)\n",
      "     4096    0.129    0.000    0.158    0.000 serializers.py:259(dump_stream)\n",
      "     4096    0.088    0.000    0.316    0.000 <ipython-input-21-571b8f0bcf9c>:1(run_local_fof)\n",
      "     4096    0.051    0.000    0.594    0.000 worker.py:104(process)\n",
      "     4096    0.051    0.000    0.191    0.000 {numpy.core.multiarray.fromiter}\n",
      "     4096    0.041    0.000    0.068    0.000 serializers.py:217(load_stream)\n",
      "     4293    0.037    0.000    0.140    0.000 serializers.py:136(load_stream)\n",
      "     4293    0.034    0.000    0.103    0.000 serializers.py:155(_read_with_length)\n",
      "     4293    0.034    0.000    0.059    0.000 serializers.py:542(read_int)\n",
      "      197    0.021    0.000    0.021    0.000 {cPickle.dumps}\n",
      "     4490    0.021    0.000    0.021    0.000 {method 'read' of 'file' objects}\n",
      "     4096    0.016    0.000    0.016    0.000 serializers.py:220(_load_stream_without_unbatching)\n",
      "     4792    0.011    0.000    0.011    0.000 {len}\n",
      "     4096    0.011    0.000    0.011    0.000 {built-in method from_iterable}\n",
      "      197    0.009    0.000    0.009    0.000 {cPickle.loads}\n",
      "      105    0.006    0.000    0.006    0.000 {fof.run}\n",
      "      105    0.005    0.000    0.008    0.000 pyximport.py:347(install)\n",
      "     4096    0.004    0.000    0.004    0.000 {iter}\n",
      "     4293    0.004    0.000    0.004    0.000 {_struct.unpack}\n",
      "      105    0.003    0.000    0.003    0.000 {spark_fof_c.get_bin_cython}\n",
      "      105    0.003    0.000    0.003    0.000 posixpath.py:120(dirname)\n",
      "      105    0.003    0.000    0.026    0.000 spark_util.py:4(wrapped)\n",
      "      197    0.002    0.000    0.003    0.000 serializers.py:549(write_int)\n",
      "      105    0.002    0.000    0.002    0.000 posixpath.py:61(join)\n",
      "      105    0.002    0.000    0.002    0.000 posixpath.py:251(expanduser)\n",
      "      105    0.002    0.000    0.007    0.000 utils.py:21(get_include)\n",
      "     4096    0.001    0.000    0.001    0.000 {method 'disable' of '_lsprof.Profiler' objects}\n",
      "      394    0.001    0.000    0.001    0.000 {method 'write' of 'file' objects}\n",
      "      630    0.001    0.000    0.001    0.000 {isinstance}\n",
      "      197    0.000    0.000    0.021    0.000 serializers.py:414(dumps)\n",
      "      197    0.000    0.000    0.009    0.000 serializers.py:421(loads)\n",
      "      197    0.000    0.000    0.000    0.000 {_struct.pack}\n",
      "      105    0.000    0.000    0.000    0.000 {__import__}\n",
      "      105    0.000    0.000    0.000    0.000 UserDict.py:103(__contains__)\n",
      "      210    0.000    0.000    0.000    0.000 {method 'rstrip' of 'str' objects}\n",
      "      105    0.000    0.000    0.000    0.000 {method 'rfind' of 'str' objects}\n",
      "      210    0.000    0.000    0.000    0.000 {method 'startswith' of 'str' objects}\n",
      "      105    0.000    0.000    0.000    0.000 UserDict.py:35(__getitem__)\n",
      "      105    0.000    0.000    0.000    0.000 {getattr}\n",
      "      105    0.000    0.000    0.000    0.000 {method 'find' of 'str' objects}\n",
      "      105    0.000    0.000    0.000    0.000 {method 'endswith' of 'str' objects}\n",
      "      105    0.000    0.000    0.000    0.000 {method 'copy' of 'dict' objects}\n",
      "\n",
      "\n"
     ]
    }
   ],
   "source": [
    "sc.show_profiles()"
   ]
  },
  {
   "cell_type": "code",
   "execution_count": null,
   "metadata": {
    "collapsed": false
   },
   "outputs": [],
   "source": [
    "fof_rdd = part_rdd.mapPartitions(run_local_fof).mapPartitionsWithIndex(set_group_id)"
   ]
  },
  {
   "cell_type": "code",
   "execution_count": null,
   "metadata": {
    "collapsed": false
   },
   "outputs": [],
   "source": [
    "fof_rdd.take(10)"
   ]
  },
  {
   "cell_type": "markdown",
   "metadata": {},
   "source": [
    "### Group Merging stage"
   ]
  },
  {
   "cell_type": "code",
   "execution_count": null,
   "metadata": {
    "collapsed": false
   },
   "outputs": [],
   "source": [
    "fof_analyzer = spark_fof.FOFAnalyzer(sc, N, tau, fof_rdd)"
   ]
  },
  {
   "cell_type": "code",
   "execution_count": null,
   "metadata": {
    "collapsed": false
   },
   "outputs": [],
   "source": [
    "merged_rdd = fof_analyzer.merge_groups(0)"
   ]
  },
  {
   "cell_type": "code",
   "execution_count": null,
   "metadata": {
    "collapsed": false
   },
   "outputs": [],
   "source": [
    "merged_rdd.collect()"
   ]
  },
  {
   "cell_type": "code",
   "execution_count": null,
   "metadata": {
    "collapsed": false
   },
   "outputs": [],
   "source": [
    "sc.show_profiles()"
   ]
  },
  {
   "cell_type": "code",
   "execution_count": null,
   "metadata": {
    "collapsed": true
   },
   "outputs": [],
   "source": [
    "p_arr = np.array(fof_analyzer.particle_rdd.collect())"
   ]
  },
  {
   "cell_type": "code",
   "execution_count": null,
   "metadata": {
    "collapsed": false
   },
   "outputs": [],
   "source": [
    "groups = np.unique(p_arr['gid'])"
   ]
  },
  {
   "cell_type": "code",
   "execution_count": null,
   "metadata": {
    "collapsed": false
   },
   "outputs": [],
   "source": [
    "for g in groups:\n",
    "    inds = np.where(p_arr['gid'] == g)\n",
    "    if g in m.keys():\n",
    "        p_arr['gid'][inds] = m[g]"
   ]
  },
  {
   "cell_type": "code",
   "execution_count": null,
   "metadata": {
    "collapsed": false
   },
   "outputs": [],
   "source": [
    "p_arr"
   ]
  },
  {
   "cell_type": "code",
   "execution_count": null,
   "metadata": {
    "collapsed": true
   },
   "outputs": [],
   "source": [
    "def remap_gid_partition(particles, gid_map):\n",
    "    p_arr = np.fromiter(particles, spark_fof.pdt)\n",
    "    groups = np.unique(p_arr['gid'])\n",
    "    for g in groups:\n",
    "        inds = np.where(p_arr['gid'] == g)\n",
    "        if g in gid_map.keys():\n",
    "            p_arr['gid'][inds] = gid_map[g]\n",
    "    return p_arr"
   ]
  },
  {
   "cell_type": "code",
   "execution_count": null,
   "metadata": {
    "collapsed": true
   },
   "outputs": [],
   "source": [
    "ps = fof_analyzer.particle_rdd.collect()"
   ]
  },
  {
   "cell_type": "code",
   "execution_count": null,
   "metadata": {
    "collapsed": false
   },
   "outputs": [],
   "source": [
    "fof_analyzer.particle_rdd.collect()"
   ]
  },
  {
   "cell_type": "markdown",
   "metadata": {
    "collapsed": true
   },
   "source": [
    "## try get_bin with cython"
   ]
  },
  {
   "cell_type": "code",
   "execution_count": null,
   "metadata": {
    "collapsed": false
   },
   "outputs": [],
   "source": [
    "import numpy as np\n",
    "# import pyximport\n",
    "# pyximport.install(setup_args={\"include_dirs\":np.get_include()},\n",
    "#                   reload_support=True)"
   ]
  },
  {
   "cell_type": "code",
   "execution_count": null,
   "metadata": {
    "collapsed": false
   },
   "outputs": [],
   "source": [
    "xs = np.random.rand(1000000)\n",
    "ys = np.random.rand(1000000)"
   ]
  },
  {
   "cell_type": "markdown",
   "metadata": {},
   "source": [
    "### Setup cython on workers\n",
    "\n",
    "looks like some helpful info here: https://www.4info.com/Blog/October-2014/Enhancing-Spark-with-IPython-Notebook-and-Cython"
   ]
  },
  {
   "cell_type": "code",
   "execution_count": null,
   "metadata": {
    "collapsed": false
   },
   "outputs": [],
   "source": [
    "sc.addPyFile('spark_fof_c.pyx')\n",
    "sc.addPyFile('spark_util.py')"
   ]
  },
  {
   "cell_type": "code",
   "execution_count": null,
   "metadata": {
    "collapsed": false
   },
   "outputs": [],
   "source": [
    "import pyximport\n",
    "pyximport.install(setup_args={\"include_dirs\":np.get_include()})   "
   ]
  },
  {
   "cell_type": "code",
   "execution_count": null,
   "metadata": {
    "collapsed": true
   },
   "outputs": [],
   "source": [
    "from spark_util import spark_cython"
   ]
  },
  {
   "cell_type": "code",
   "execution_count": null,
   "metadata": {
    "collapsed": false
   },
   "outputs": [],
   "source": [
    "def get_particle_bin(p):\n",
    "    from spark_util import spark_cython\n",
    "    return spark_cython('spark_fof_c', 'get_bin_cython')(p.x,p.y,100,-1,-1,1,1)\n",
    "\n",
    "def get_particle_bin_numpy(p):\n",
    "    from spark_util import spark_cython\n",
    "    return spark_cython('spark_fof_c', 'get_bin_cython')(p['x'],p['y'],100,-1,-1,1,1)\n",
    "\n",
    "def get_particle_bin_partition(particles, n):\n",
    "    xs = np.zeros(n)\n",
    "    ys = np.zeros(n)\n",
    "    bins = np.zeros(n, dtype=np.int32)\n",
    "    \n",
    "    for i, p in enumerate(particles): \n",
    "        xs[i]=p.x\n",
    "        xs[i]=p.y\n",
    "    \n",
    "    spark_cython('spark_fof_c', 'get_particle_bins_cython')(xs,ys,bins)\n",
    "    \n",
    "    for bin in bins: yield bin\n",
    "\n",
    "def get_particle_bin_partition_numpy(particles): \n",
    "    p_arr = np.fromiter(particles, pdt)\n",
    "    bins = np.zeros(len(p_arr), dtype=np.int)\n",
    "    spark_cython('spark_fof_c', 'get_particle_bins_cython')(p_arr['x'], p_arr['y'], bins)\n",
    "    return bins\n",
    "\n",
    "def get_particle_bin_python(p):\n",
    "    return get_bin(p['x'],p['y'],100,[-1,-1],[1,1])"
   ]
  },
  {
   "cell_type": "code",
   "execution_count": null,
   "metadata": {
    "collapsed": false
   },
   "outputs": [],
   "source": [
    "pdt = np.dtype([('x','f8'), ('y','f8')])\n",
    "\n",
    "p_np_arr = np.zeros(10000000,dtype=pdt)\n",
    "\n",
    "for i in range(len(p_np_arr)):\n",
    "    p_np_arr[i] = np.random.rand(2)"
   ]
  },
  {
   "cell_type": "code",
   "execution_count": null,
   "metadata": {
    "collapsed": false
   },
   "outputs": [],
   "source": [
    "#p_arr_rdd = sc.parallelize(p_arr).cache()\n",
    "p_np_arr_rdd = sc.parallelize(p_np_arr).cache()"
   ]
  },
  {
   "cell_type": "code",
   "execution_count": null,
   "metadata": {
    "collapsed": false
   },
   "outputs": [],
   "source": [
    "p_np_arr_rdd.count()"
   ]
  },
  {
   "cell_type": "code",
   "execution_count": null,
   "metadata": {
    "collapsed": false
   },
   "outputs": [],
   "source": [
    "%time p_np_arr_rdd.mapPartitions(get_particle_bin_partition_numpy).count()"
   ]
  },
  {
   "cell_type": "code",
   "execution_count": null,
   "metadata": {
    "collapsed": false,
    "scrolled": true
   },
   "outputs": [],
   "source": [
    "sc.show_profiles()"
   ]
  },
  {
   "cell_type": "code",
   "execution_count": null,
   "metadata": {
    "collapsed": false
   },
   "outputs": [],
   "source": [
    "import cPickle as pickle\n",
    "class PickleSerializer2(pyspark.serializers.FramedSerializer):\n",
    "\n",
    "    \"\"\"\n",
    "    Serializes objects using Python's pickle serializer:\n",
    "\n",
    "        http://docs.python.org/2/library/pickle.html\n",
    "\n",
    "    This serializer supports nearly any Python object, but may\n",
    "    not be as fast as more specialized serializers.\n",
    "    \"\"\"\n",
    "\n",
    "    def dumps(self, obj):\n",
    "        return pickle.dumps(obj, protocol)\n",
    "\n",
    "    if sys.version >= '3':\n",
    "        def loads(self, obj, encoding=\"bytes\"):\n",
    "            return pickle.loads(obj, encoding=encoding)\n",
    "    else:\n",
    "        def loads(self, obj, encoding=None):\n",
    "            print 'object size', len(obj)\n",
    "            return pickle.loads(obj)\n"
   ]
  },
  {
   "cell_type": "code",
   "execution_count": null,
   "metadata": {
    "collapsed": true
   },
   "outputs": [],
   "source": [
    "class NumpySerializer(pyspark.serializers.FramedSerializer):\n",
    "    import numpy as np\n",
    "    \n",
    "    def __init__(self, dtype): \n",
    "        self.dtype = dtype\n",
    "        super(NumpySerializer, self).__init__()\n",
    "    \n",
    "    def dumps(self, obj):\n",
    "        print 'SERIALIZING'\n",
    "        return obj.tobytes()\n",
    "    def loads(self, obj):\n",
    "        print 'string length: ', len(obj)\n",
    "        return np.fromstring(obj, dtype=self.dtype)\n",
    "    \n",
    "    def _read_with_length(self, stream):\n",
    "        length = pyspark.serializers.read_int(stream)\n",
    "        print 'stream length: ', length\n",
    "        if length == pyspark.serializers.SpecialLengths.END_OF_DATA_SECTION:\n",
    "            raise EOFError\n",
    "        elif length == pyspark.serializers.SpecialLengths.NULL:\n",
    "            return None\n",
    "        obj = stream.read(length)\n",
    "        if len(obj) < length:\n",
    "            raise EOFError\n",
    "        return self.loads(obj)\n",
    "    "
   ]
  },
  {
   "cell_type": "code",
   "execution_count": null,
   "metadata": {
    "collapsed": true
   },
   "outputs": [],
   "source": [
    "ns = NumpySerializer(pdt)"
   ]
  },
  {
   "cell_type": "code",
   "execution_count": null,
   "metadata": {
    "collapsed": false
   },
   "outputs": [],
   "source": [
    "new_arr_rdd = p_np_arr_rdd._reserialize(pyspark.serializers.BatchedSerializer(NumpySerializer(pdt), 1024))"
   ]
  },
  {
   "cell_type": "code",
   "execution_count": null,
   "metadata": {
    "collapsed": false
   },
   "outputs": [],
   "source": [
    "new_arr_rdd._jrdd_deserializer"
   ]
  },
  {
   "cell_type": "code",
   "execution_count": null,
   "metadata": {
    "collapsed": false
   },
   "outputs": [],
   "source": [
    "p_np_arr_rdd._jrdd_deserializer = NumpySerializer(pdt)"
   ]
  },
  {
   "cell_type": "code",
   "execution_count": null,
   "metadata": {
    "collapsed": false
   },
   "outputs": [],
   "source": [
    "p_np_arr_rdd.count()"
   ]
  },
  {
   "cell_type": "code",
   "execution_count": null,
   "metadata": {
    "collapsed": false
   },
   "outputs": [],
   "source": [
    "%timeit pickle.dumps(p_np_arr)"
   ]
  },
  {
   "cell_type": "code",
   "execution_count": null,
   "metadata": {
    "collapsed": false
   },
   "outputs": [],
   "source": [
    "%timeit p_np_arr.tostring()"
   ]
  },
  {
   "cell_type": "code",
   "execution_count": null,
   "metadata": {
    "collapsed": false
   },
   "outputs": [],
   "source": [
    "%time new_arr_rdd.mapPartitions(get_particle_bin_partition_numpy).count()"
   ]
  },
  {
   "cell_type": "code",
   "execution_count": null,
   "metadata": {
    "collapsed": true
   },
   "outputs": [],
   "source": [
    "ps = new_arr_rdd.count()"
   ]
  },
  {
   "cell_type": "code",
   "execution_count": null,
   "metadata": {
    "collapsed": false
   },
   "outputs": [],
   "source": [
    "sc.show_profiles()"
   ]
  },
  {
   "cell_type": "code",
   "execution_count": null,
   "metadata": {
    "collapsed": false
   },
   "outputs": [],
   "source": [
    "bin(1 << 32)"
   ]
  },
  {
   "cell_type": "code",
   "execution_count": null,
   "metadata": {
    "collapsed": false
   },
   "outputs": [],
   "source": [
    "bin(1) "
   ]
  },
  {
   "cell_type": "code",
   "execution_count": null,
   "metadata": {
    "collapsed": false
   },
   "outputs": [],
   "source": [
    "bin(101)"
   ]
  },
  {
   "cell_type": "code",
   "execution_count": null,
   "metadata": {
    "collapsed": false
   },
   "outputs": [],
   "source": [
    "2**32"
   ]
  },
  {
   "cell_type": "code",
   "execution_count": null,
   "metadata": {
    "collapsed": false
   },
   "outputs": [],
   "source": [
    "x = np.binary_repr(1, width=32)"
   ]
  },
  {
   "cell_type": "code",
   "execution_count": null,
   "metadata": {
    "collapsed": false
   },
   "outputs": [],
   "source": [
    "y = np.binary_repr(1, width=32)"
   ]
  },
  {
   "cell_type": "code",
   "execution_count": null,
   "metadata": {
    "collapsed": false
   },
   "outputs": [],
   "source": [
    "int(x+y,2)"
   ]
  },
  {
   "cell_type": "code",
   "execution_count": null,
   "metadata": {
    "collapsed": false
   },
   "outputs": [],
   "source": [
    "np.binary_repr(int(x+y,2), width=64)"
   ]
  },
  {
   "cell_type": "code",
   "execution_count": null,
   "metadata": {
    "collapsed": false
   },
   "outputs": [],
   "source": [
    "# encode a 32-bit partition ID (pid) and 32-bit cluster ID (cid) into one 64-bit integer\n",
    "encode_gid = lambda pid, cid: np.int64(int(np.binary_repr(pid,width=32)+np.binary_repr(cid,width=32),2))"
   ]
  },
  {
   "cell_type": "code",
   "execution_count": null,
   "metadata": {
    "collapsed": true
   },
   "outputs": [],
   "source": []
  }
 ],
 "metadata": {
  "kernelspec": {
   "display_name": "Python 2",
   "language": "python",
   "name": "python2"
  },
  "language_info": {
   "codemirror_mode": {
    "name": "ipython",
    "version": 2
   },
   "file_extension": ".py",
   "mimetype": "text/x-python",
   "name": "python",
   "nbconvert_exporter": "python",
   "pygments_lexer": "ipython2",
   "version": "2.7.11"
  }
 },
 "nbformat": 4,
 "nbformat_minor": 0
}
