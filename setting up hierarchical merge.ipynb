{
 "cells": [
  {
   "cell_type": "markdown",
   "metadata": {},
   "source": [
    "## test hierarchical merge in FOF algorithm\n",
    "\n",
    "#### the idea is this: \n",
    "\n",
    "* after the local FOF stage, each partition reports the particles it holds in the overlap region\n",
    "* do a reduceByKey or treeAggregate of some sort to collect the groups belonging to the same particles\n",
    "* produce a mapping of $G -> G_1$ and distribute to all hosts in form of broadcast lookup table"
   ]
  },
  {
   "cell_type": "code",
   "execution_count": 1,
   "metadata": {
    "collapsed": false
   },
   "outputs": [
    {
     "name": "stderr",
     "output_type": "stream",
     "text": [
      "/Users/rok/miniconda/lib/python2.7/site-packages/matplotlib/font_manager.py:273: UserWarning: Matplotlib is building the font cache using fc-list. This may take a moment.\n",
      "  warnings.warn('Matplotlib is building the font cache using fc-list. This may take a moment.')\n"
     ]
    }
   ],
   "source": [
    "import numpy as np\n",
    "import matplotlib.pylab as plt\n",
    "%matplotlib inline\n",
    "\n",
    "import sys\n",
    "sys.setrecursionlimit(sys.getrecursionlimit()*10)\n",
    "import matplotlib.patches as patches\n",
    "\n",
    "plt.style.use('bmh')"
   ]
  },
  {
   "cell_type": "code",
   "execution_count": 2,
   "metadata": {
    "collapsed": false
   },
   "outputs": [],
   "source": [
    "import spark_fof\n",
    "import spark_fof_c\n",
    "from fof import fof\n",
    "%load_ext Cython"
   ]
  },
  {
   "cell_type": "code",
   "execution_count": 3,
   "metadata": {
    "collapsed": true
   },
   "outputs": [],
   "source": [
    "def plot_rectangle(rec, ax=None):\n",
    "    if ax is None: \n",
    "        ax = plt.subplot(aspect='equal')\n",
    "    \n",
    "    if isinstance(rec, (list, tuple)):\n",
    "        for r in rec: \n",
    "            plot_rectangle(r,ax)\n",
    "    \n",
    "    else:\n",
    "        size = (rec.maxes-rec.mins)\n",
    "        ax.add_patch(patches.Rectangle(rec.mins, size[0], size[1], fill=False, zorder=-1))"
   ]
  },
  {
   "cell_type": "markdown",
   "metadata": {},
   "source": [
    "## Set up data"
   ]
  },
  {
   "cell_type": "code",
   "execution_count": 4,
   "metadata": {
    "collapsed": false
   },
   "outputs": [],
   "source": [
    "# create the arrays\n",
    "from spark_fof_c import pdt\n",
    "pdt_tipsy = np.dtype([('mass', 'f4'),('pos', 'f4', 3),('vel', 'f4', 3), ('eps', 'f4'), ('phi', 'f4')])\n",
    "# nps = 1000000\n",
    "# ngs = 1\n",
    "# particles = np.zeros(nps, dtype=pdt)\n",
    "# done_ps = 0\n",
    "# #centers = np.random.rand(ngs,3)*1.7 - 0.85\n",
    "# centers = np.array([0,0,0]).reshape(1,3)\n",
    "# for group, center in zip(range(ngs), centers): \n",
    "#     print group, center\n",
    "#     group_ps = nps/ngs\n",
    "#     if nps - (done_ps + group_ps) < group_ps:\n",
    "#         group_ps = nps - done_ps \n",
    "#     particles['pos'][done_ps:done_ps+group_ps] = \\\n",
    "#         np.random.multivariate_normal(center, [[.5,0,0],[0,.5,0],[0,0,.5]], group_ps)\n",
    "#     done_ps += group_ps\n",
    "   \n",
    "# particles['iOrder'] = range(nps)"
   ]
  },
  {
   "cell_type": "code",
   "execution_count": 5,
   "metadata": {
    "collapsed": false
   },
   "outputs": [],
   "source": [
    "from spark_fof_c import pdt"
   ]
  },
  {
   "cell_type": "markdown",
   "metadata": {},
   "source": [
    "## Start Spark"
   ]
  },
  {
   "cell_type": "code",
   "execution_count": 6,
   "metadata": {
    "collapsed": true
   },
   "outputs": [],
   "source": [
    "import findspark\n",
    "findspark.init()"
   ]
  },
  {
   "cell_type": "code",
   "execution_count": 7,
   "metadata": {
    "collapsed": true
   },
   "outputs": [],
   "source": [
    "import os\n",
    "os.environ['SPARK_CONF_DIR'] = './conf'\n",
    "os.environ['SPARK_DRIVER_MEMORY'] = '4G'"
   ]
  },
  {
   "cell_type": "code",
   "execution_count": 8,
   "metadata": {
    "collapsed": false
   },
   "outputs": [],
   "source": [
    "import pyspark\n",
    "from pyspark import SparkContext, SparkConf\n",
    "import pynbody"
   ]
  },
  {
   "cell_type": "code",
   "execution_count": 9,
   "metadata": {
    "collapsed": false
   },
   "outputs": [
    {
     "data": {
      "text/plain": [
       "<pyspark.conf.SparkConf at 0x117268f10>"
      ]
     },
     "execution_count": 9,
     "metadata": {},
     "output_type": "execute_result"
    }
   ],
   "source": [
    "conf = SparkConf()\n",
    "\n",
    "conf.set('spark.python.profile', 'true')\n",
    "conf.set('spark.executor.memory', '3G')\n",
    "conf.set('spark.driver.memory', '4G')"
   ]
  },
  {
   "cell_type": "code",
   "execution_count": 10,
   "metadata": {
    "collapsed": false
   },
   "outputs": [],
   "source": [
    "sc = SparkContext(master='local[4]', conf=conf)"
   ]
  },
  {
   "cell_type": "code",
   "execution_count": 11,
   "metadata": {
    "collapsed": false
   },
   "outputs": [],
   "source": [
    "sc.addPyFile('spark_fof.py')\n",
    "sc.addPyFile('spark_util.py')\n",
    "sc.addPyFile('spark_fof_c.pyx')\n",
    "sc.addPyFile('spark_fof_c.c')\n",
    "sc.addPyFile('spark_fof_c.so')\n",
    "sc.addPyFile('fof.so')"
   ]
  },
  {
   "cell_type": "markdown",
   "metadata": {},
   "source": [
    "## Set up the domains"
   ]
  },
  {
   "cell_type": "code",
   "execution_count": 12,
   "metadata": {
    "collapsed": false
   },
   "outputs": [],
   "source": [
    "N = 1\n",
    "tau = 7.8125e-4\n",
    "mins = np.array([-.5,-.5,-.5])\n",
    "maxs= np.array([.5,.5,.5])\n",
    "domain_containers = spark_fof.setup_domain(N,tau,maxs,mins)"
   ]
  },
  {
   "cell_type": "code",
   "execution_count": 13,
   "metadata": {
    "collapsed": false
   },
   "outputs": [],
   "source": [
    "# f, ax = plt.subplots(subplot_kw={'aspect':'equal'}, figsize=(15,15))\n",
    "# pynbody.plot.image(s.d, width=1, units = 'Msol Mpc^-2', cmap=plt.cm.Greys, show_cbar=False, subplot=ax)\n",
    "# #plot_rectangle(domain_containers[0].bufferRectangle, ax=ax)\n",
    "# for p in particles[::1000000]: \n",
    "#     plot_rectangle(domain_containers[spark_fof.get_bin_cython(p['pos'],2**N, np.array(mins), np.array(maxs))], ax=ax)\n",
    "#     plot_rectangle(domain_containers[spark_fof.get_bin_cython(p['pos'], 2**N, np.array(mins),np.array(maxs))].bufferRectangle, ax=ax)\n",
    "#     ax.plot(p['pos'][0], p['pos'][1], '.')\n",
    "# plt.draw()\n",
    "# ax.set_xlim(-.5,.5)\n",
    "# ax.set_ylim(-.5,.5)"
   ]
  },
  {
   "cell_type": "markdown",
   "metadata": {},
   "source": [
    "### Make the base RDD"
   ]
  },
  {
   "cell_type": "code",
   "execution_count": 14,
   "metadata": {
    "collapsed": false
   },
   "outputs": [],
   "source": [
    "from pyspark.accumulators import AccumulatorParam\n",
    "\n",
    "class dictAdd(AccumulatorParam):\n",
    "    def zero(self, value):\n",
    "        return {i:0 for i in range(len(value))}\n",
    "    def addInPlace(self, val1, val2): \n",
    "        for k, v in val2.iteritems(): \n",
    "            val1[k] += v\n",
    "        return val1\n",
    "    \n",
    "def read_tipsy_output(filename, chunksize = 2048): \n",
    "    \"\"\"\n",
    "    Read a tipsy file and set the sequential particle IDs\n",
    "    \n",
    "    This scans through the data twice -- first to get partition particle counts\n",
    "    and a second time to actually set the particle IDs.\n",
    "    \"\"\"\n",
    "    \n",
    "    # helper functions\n",
    "    def convert_to_fof_particle(s): \n",
    "        p_arr = np.frombuffer(s, pdt_tipsy)\n",
    "\n",
    "        new_arr = np.zeros(len(p_arr), dtype=pdt)\n",
    "        new_arr['pos'] = p_arr['pos']    \n",
    "        return new_arr\n",
    "\n",
    "    def convert_to_fof_particle_partition(index, iterator): \n",
    "        for s in iterator: \n",
    "            a = convert_to_fof_particle(s)\n",
    "            if count: \n",
    "                npart_acc.add({index: len(a)})\n",
    "            yield a\n",
    "\n",
    "    def set_particle_IDs_partition(index, iterator): \n",
    "        p_counts = partition_counts.value\n",
    "        local_index = 0\n",
    "        start_index = sum([p_counts[i] for i in range(index)])\n",
    "        for arr in iterator:\n",
    "            arr['iOrder'] = range(start_index + local_index, start_index + local_index + len(arr))\n",
    "            local_index += len(arr)\n",
    "            yield arr\n",
    "    \n",
    "    rec_rdd = sc.binaryRecords(filename, pdt_tipsy.itemsize*chunksize)\n",
    "    nPartitions = rec_rdd.getNumPartitions()\n",
    "    # set the partition count accumulator\n",
    "    npart_acc = sc.accumulator({i:0 for i in range(nPartitions)}, dictAdd())\n",
    "    count=True\n",
    "    # read the data and count the particles per partition\n",
    "    rec_rdd = rec_rdd.mapPartitionsWithIndex(convert_to_fof_particle_partition)\n",
    "    rec_rdd.count()\n",
    "    count=False\n",
    "\n",
    "    partition_counts = sc.broadcast(npart_acc.value)\n",
    "\n",
    "    return rec_rdd.mapPartitionsWithIndex(set_particle_IDs_partition)"
   ]
  },
  {
   "cell_type": "code",
   "execution_count": 15,
   "metadata": {
    "collapsed": false
   },
   "outputs": [],
   "source": [
    "p_rdd = (read_tipsy_output('/Users/rok/polybox/euclid256.nat_no_header', chunksize=1024*4)\n",
    "         .map(lambda x: spark_fof_c.ghost_mask(x, domain_containers, tau, mins, maxs)))"
   ]
  },
  {
   "cell_type": "code",
   "execution_count": 35,
   "metadata": {
    "collapsed": false
   },
   "outputs": [
    {
     "name": "stdout",
     "output_type": "stream",
     "text": [
      "number of groups to 1 particle = 7251094\n"
     ]
    },
    {
     "name": "stderr",
     "output_type": "stream",
     "text": [
      "/Users/rok/miniconda/lib/python2.7/site-packages/pynbody/snapshot/tipsy.py:130: RuntimeWarning: No readable param file in the run directory or parent directory: using defaults.\n",
      "  \"No readable param file in the run directory or parent directory: using defaults.\", RuntimeWarning)\n"
     ]
    }
   ],
   "source": [
    "ps = np.concatenate(p_rdd.collect())\n",
    "\n",
    "assert(len(ps) == len(pynbody.load('/Users/rok/polybox/euclid256.nat')))\n",
    "\n",
    "\n",
    "nMinMembers = 1\n",
    "n_groups = fof.run(ps, tau, nMinMembers)\n",
    "print 'number of groups to %d particle = %d'%(nMinMembers, n_groups)"
   ]
  },
  {
   "cell_type": "markdown",
   "metadata": {},
   "source": [
    "### Partition particles into domains and set the partition part of local group ID"
   ]
  },
  {
   "cell_type": "code",
   "execution_count": 17,
   "metadata": {
    "collapsed": true
   },
   "outputs": [],
   "source": [
    "def partition_wrapper(particle_iterator): \n",
    "    for particle_array in particle_iterator: \n",
    "        res = spark_fof_c.new_partitioning_cython(particle_array, domain_containers, tau, mins, maxs)\n",
    "        for r in res: \n",
    "            yield r"
   ]
  },
  {
   "cell_type": "code",
   "execution_count": 18,
   "metadata": {
    "collapsed": false
   },
   "outputs": [],
   "source": [
    "part_rdd = (p_rdd.mapPartitions(partition_wrapper)).partitionBy(len(domain_containers)).values()"
   ]
  },
  {
   "cell_type": "code",
   "execution_count": 19,
   "metadata": {
    "collapsed": false
   },
   "outputs": [],
   "source": [
    "#ps = part_rdd.glom().collect()"
   ]
  },
  {
   "cell_type": "code",
   "execution_count": 20,
   "metadata": {
    "collapsed": true
   },
   "outputs": [],
   "source": [
    "# part_rdd2 = (p_rdd.mapPartitions(lambda particles: spark_fof_c.partition_particles_cython(particles, domain_containers, tau, mins, maxs))\n",
    "#                  .partitionBy(len(domain_containers))\n",
    "#                  .values())"
   ]
  },
  {
   "cell_type": "code",
   "execution_count": 21,
   "metadata": {
    "collapsed": false
   },
   "outputs": [],
   "source": [
    "# part_rdd2.cache().count()"
   ]
  },
  {
   "cell_type": "code",
   "execution_count": 22,
   "metadata": {
    "collapsed": false
   },
   "outputs": [],
   "source": [
    "#part_rdd.map(lambda x: len(x)).reduce(lambda a,b:a+b)"
   ]
  },
  {
   "cell_type": "markdown",
   "metadata": {},
   "source": [
    "### Run the local FOF"
   ]
  },
  {
   "cell_type": "code",
   "execution_count": 23,
   "metadata": {
    "collapsed": true
   },
   "outputs": [],
   "source": [
    "from spark_util import spark_cython"
   ]
  },
  {
   "cell_type": "code",
   "execution_count": 24,
   "metadata": {
    "collapsed": true
   },
   "outputs": [],
   "source": [
    "from fof import fof"
   ]
  },
  {
   "cell_type": "code",
   "execution_count": 25,
   "metadata": {
    "collapsed": false
   },
   "outputs": [],
   "source": [
    "def run_local_fof(partition_index, particle_iter, tau, nMinMembers, batch_size=1024*256): \n",
    "    part_arr = np.hstack(particle_iter)\n",
    "    if len(part_arr)>0:\n",
    "        # run fof\n",
    "        fof.run(part_arr, tau, nMinMembers)\n",
    "        \n",
    "        # set the groupID properly \n",
    "        for i in range(len(part_arr)):\n",
    "            gid = part_arr['iGroup'][i]\n",
    "            part_arr['iGroup'][i] = np.int64(bin((partition_index<<32) | gid), 2)\n",
    "\n",
    "    for arr in np.split(part_arr, range(batch_size,len(part_arr),batch_size)):\n",
    "        yield arr\n",
    "\n",
    "def encode_gid(pid, cid, bits=32):\n",
    "    if bits == 32: \n",
    "        res = np.int64(int(np.binary_repr(pid,width=32)+np.binary_repr(cid,width=32),2))\n",
    "    elif bits == 16:\n",
    "        res = np.int32(int(np.binary_repr(pid,width=16)+np.binary_repr(cid,width=16),2))\n",
    "    else: \n",
    "        raise RuntimeError('Group encoding must use either 16 or 32 bit integers')\n",
    "    return res\n",
    "\n",
    "def set_group_id(partition_index, particle_iter):\n",
    "    part_arr = np.concatenate(particle_iter)\n",
    "    for i in range(len(part_arr)):\n",
    "        gid = part_arr['iGroup'][i]\n",
    "        part_arr['iGroup'][i] = np.int64(bin((partition_index<<32) | gid), 2)\n",
    "    return part_arr"
   ]
  },
  {
   "cell_type": "code",
   "execution_count": 26,
   "metadata": {
    "collapsed": false
   },
   "outputs": [],
   "source": [
    "fof_rdd = part_rdd.mapPartitionsWithIndex(lambda index, particles: run_local_fof(index, particles, tau, 1)).cache()\n",
    "#                  .mapPartitionsWithIndex(set_group_id)"
   ]
  },
  {
   "cell_type": "code",
   "execution_count": 27,
   "metadata": {
    "collapsed": false
   },
   "outputs": [
    {
     "name": "stdout",
     "output_type": "stream",
     "text": [
      "CPU times: user 31.8 ms, sys: 5.18 ms, total: 36.9 ms\n",
      "Wall time: 48.8 s\n"
     ]
    },
    {
     "data": {
      "text/plain": [
       "68"
      ]
     },
     "execution_count": 27,
     "metadata": {},
     "output_type": "execute_result"
    }
   ],
   "source": [
    "%time fof_rdd.count()"
   ]
  },
  {
   "cell_type": "markdown",
   "metadata": {},
   "source": [
    "### Group Merging stage"
   ]
  },
  {
   "cell_type": "code",
   "execution_count": 28,
   "metadata": {
    "collapsed": false
   },
   "outputs": [],
   "source": [
    "fof_analyzer = spark_fof.FOFAnalyzer(sc, N, tau, fof_rdd, [-.5,-.5,-.5], [.5,.5,.5])\n",
    "\n",
    "merged_rdd = fof_analyzer.merge_groups(0)\n",
    "\n",
    "merged = merged_rdd.collect()\n",
    "\n",
    "# merged_arr = np.fromiter(merged, pdt)\n",
    "\n",
    "groups = np.unique(merged['iGroup'])"
   ]
  },
  {
   "cell_type": "code",
   "execution_count": 33,
   "metadata": {
    "collapsed": false
   },
   "outputs": [
    {
     "data": {
      "text/plain": [
       "7251094"
      ]
     },
     "execution_count": 33,
     "metadata": {},
     "output_type": "execute_result"
    }
   ],
   "source": [
    "len(np.unique(merged_arr['iGroup']))"
   ]
  },
  {
   "cell_type": "code",
   "execution_count": 36,
   "metadata": {
    "collapsed": false
   },
   "outputs": [],
   "source": [
    "assert(len(groups) == n_groups)"
   ]
  },
  {
   "cell_type": "code",
   "execution_count": null,
   "metadata": {
    "collapsed": false
   },
   "outputs": [],
   "source": [
    "len(groups)"
   ]
  },
  {
   "cell_type": "code",
   "execution_count": null,
   "metadata": {
    "collapsed": false
   },
   "outputs": [],
   "source": [
    "n_groups"
   ]
  },
  {
   "cell_type": "code",
   "execution_count": null,
   "metadata": {
    "collapsed": true
   },
   "outputs": [],
   "source": []
  }
 ],
 "metadata": {
  "kernelspec": {
   "display_name": "Python 2",
   "language": "python",
   "name": "python2"
  },
  "language_info": {
   "codemirror_mode": {
    "name": "ipython",
    "version": 2
   },
   "file_extension": ".py",
   "mimetype": "text/x-python",
   "name": "python",
   "nbconvert_exporter": "python",
   "pygments_lexer": "ipython2",
   "version": "2.7.11"
  }
 },
 "nbformat": 4,
 "nbformat_minor": 0
}
