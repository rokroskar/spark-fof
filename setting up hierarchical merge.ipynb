{
 "cells": [
  {
   "cell_type": "markdown",
   "metadata": {},
   "source": [
    "## Make a simple synthetic dataset to test hierarchical merge in FOF algorithm\n",
    "\n",
    "#### the idea is this: \n",
    "\n",
    "* after the local FOF stage, each partition reports the particles it holds in the overlap region\n",
    "* do a reduceByKey or treeAggregate of some sort to collect the groups belonging to the same particles\n",
    "* produce a mapping of $G -> G_1$ and distribute to all hosts in form of broadcast lookup table"
   ]
  },
  {
   "cell_type": "code",
   "execution_count": 2,
   "metadata": {
    "collapsed": false
   },
   "outputs": [
    {
     "name": "stderr",
     "output_type": "stream",
     "text": [
      "/Users/rok/miniconda/lib/python2.7/site-packages/matplotlib/font_manager.py:273: UserWarning: Matplotlib is building the font cache using fc-list. This may take a moment.\n",
      "  warnings.warn('Matplotlib is building the font cache using fc-list. This may take a moment.')\n"
     ]
    }
   ],
   "source": [
    "import numpy as np\n",
    "import matplotlib.pylab as plt\n",
    "%matplotlib inline\n",
    "\n",
    "import sys\n",
    "sys.setrecursionlimit(sys.getrecursionlimit()*10)\n",
    "\n",
    "import matplotlib.patches as patches"
   ]
  },
  {
   "cell_type": "code",
   "execution_count": 3,
   "metadata": {
    "collapsed": false
   },
   "outputs": [],
   "source": [
    "import spark_fof\n",
    "reload(spark_fof)\n",
    "from spark_fof import Particle, groupID, get_bin, set_local_group"
   ]
  },
  {
   "cell_type": "code",
   "execution_count": 4,
   "metadata": {
    "collapsed": true
   },
   "outputs": [],
   "source": [
    "def plot_rectangle(rec, ax=None):\n",
    "    if ax is None: \n",
    "        ax = plt.subplot(aspect='equal')\n",
    "    \n",
    "    if isinstance(rec, (list, tuple)):\n",
    "        for r in rec: \n",
    "            plot_rectangle(r,ax)\n",
    "    \n",
    "    else:\n",
    "        size = (rec.maxes-rec.mins)\n",
    "        ax.add_patch(patches.Rectangle(rec.mins, size[0], size[1], fill=False, zorder=-1))\n",
    "    \n",
    "    plt.xlim(-1.1,1.1); plt.ylim(-1.1,1.1)"
   ]
  },
  {
   "cell_type": "markdown",
   "metadata": {},
   "source": [
    "## Set up data"
   ]
  },
  {
   "cell_type": "code",
   "execution_count": 5,
   "metadata": {
    "collapsed": false
   },
   "outputs": [],
   "source": [
    "data = []\n",
    "data.append(Particle(-.35,-.35,0,groupID(1,1)))\n",
    "data.append(Particle(-.27,-.27,1,groupID(1,1)))\n",
    "data.append(Particle(-.23,-.23,2,groupID(1,1)))\n",
    "data.append(Particle(-.19,-.19,3,groupID(1,1)))\n",
    "data.append(Particle(-.01,-.01,4,groupID(1,1)))\n",
    "data.append(Particle(0.01,0.01,5,groupID(1,1)))\n",
    "data.append(Particle(0.23,0.23,6,groupID(1,1)))\n",
    "data.append(Particle(0.29,0.29,7,groupID(1,1)))\n",
    "data.append(Particle(0.49,0.49,8,groupID(1,1)))\n",
    "data.append(Particle(0.51,0.51,9,groupID(1,1)))"
   ]
  },
  {
   "cell_type": "markdown",
   "metadata": {},
   "source": [
    "## Start Spark"
   ]
  },
  {
   "cell_type": "code",
   "execution_count": 6,
   "metadata": {
    "collapsed": true
   },
   "outputs": [],
   "source": [
    "import findspark\n",
    "findspark.init()"
   ]
  },
  {
   "cell_type": "code",
   "execution_count": 7,
   "metadata": {
    "collapsed": true
   },
   "outputs": [],
   "source": [
    "import pyspark\n",
    "from pyspark import SparkContext"
   ]
  },
  {
   "cell_type": "code",
   "execution_count": 8,
   "metadata": {
    "collapsed": false
   },
   "outputs": [],
   "source": [
    "sc = SparkContext(master='local[4]')"
   ]
  },
  {
   "cell_type": "code",
   "execution_count": 9,
   "metadata": {
    "collapsed": false
   },
   "outputs": [],
   "source": [
    "sc.addPyFile('spark_fof.py')"
   ]
  },
  {
   "cell_type": "markdown",
   "metadata": {},
   "source": [
    "## Set up the domains"
   ]
  },
  {
   "cell_type": "code",
   "execution_count": 10,
   "metadata": {
    "collapsed": true
   },
   "outputs": [],
   "source": [
    "N = 3\n",
    "tau = 0.05\n",
    "mins = [-1,-1]\n",
    "maxes= [1,1]\n",
    "domain_containers = spark_fof.setup_domain(N,tau)"
   ]
  },
  {
   "cell_type": "code",
   "execution_count": 11,
   "metadata": {
    "collapsed": false
   },
   "outputs": [
    {
     "data": {
      "image/png": "[encoded data removed]",
      "text/plain": [
       "<matplotlib.figure.Figure at 0x114bbbb10>"
      ]
     },
     "metadata": {},
     "output_type": "display_data"
    }
   ],
   "source": [
    "f, ax = plt.subplots(subplot_kw={'aspect':'equal'}, figsize=(15,15))\n",
    "#plot_rectangle(domain_containers[0].bufferRectangle, ax=ax)\n",
    "for p in data: \n",
    "    plot_rectangle(domain_containers[get_bin(p.x, p.y, 2**N, mins,maxes)], ax=ax)\n",
    "    plot_rectangle(domain_containers[get_bin(p.x, p.y, 2**N, mins,maxes)].bufferRectangle, ax=ax)\n",
    "    ax.plot(p.x, p.y, 'o')\n",
    "for r in domain_containers: \n",
    "    plot_rectangle(r.parent, ax=ax)"
   ]
  },
  {
   "cell_type": "markdown",
   "metadata": {},
   "source": [
    "### Make the base RDD"
   ]
  },
  {
   "cell_type": "code",
   "execution_count": 12,
   "metadata": {
    "collapsed": false
   },
   "outputs": [],
   "source": [
    "p_rdd = sc.parallelize(data)"
   ]
  },
  {
   "cell_type": "code",
   "execution_count": 13,
   "metadata": {
    "collapsed": false
   },
   "outputs": [
    {
     "data": {
      "text/plain": [
       "[x=-0.35 y=-0.35 pid=0 gid=(id=1 cid=1),\n",
       " x=-0.27 y=-0.27 pid=1 gid=(id=1 cid=1),\n",
       " x=-0.23 y=-0.23 pid=2 gid=(id=1 cid=1),\n",
       " x=-0.19 y=-0.19 pid=3 gid=(id=1 cid=1),\n",
       " x=-0.01 y=-0.01 pid=4 gid=(id=1 cid=1),\n",
       " x=0.01 y=0.01 pid=5 gid=(id=1 cid=1),\n",
       " x=0.23 y=0.23 pid=6 gid=(id=1 cid=1),\n",
       " x=0.29 y=0.29 pid=7 gid=(id=1 cid=1),\n",
       " x=0.49 y=0.49 pid=8 gid=(id=1 cid=1),\n",
       " x=0.51 y=0.51 pid=9 gid=(id=1 cid=1)]"
      ]
     },
     "execution_count": 13,
     "metadata": {},
     "output_type": "execute_result"
    }
   ],
   "source": [
    "p_rdd.collect()"
   ]
  },
  {
   "cell_type": "markdown",
   "metadata": {},
   "source": [
    "### Partition particles into domains and set the partition part of local group ID"
   ]
  },
  {
   "cell_type": "code",
   "execution_count": 14,
   "metadata": {
    "collapsed": false
   },
   "outputs": [],
   "source": [
    "# partitioning duplicates the particles that are located in the boundary regions\n",
    "part_rdd = (p_rdd.mapPartitions(lambda particles: spark_fof.partition_particles(particles, domain_containers, tau))\n",
    "                 .partitionBy(len(domain_containers))\n",
    "                 .values()\n",
    "                 .mapPartitionsWithIndex(set_local_group))"
   ]
  },
  {
   "cell_type": "markdown",
   "metadata": {},
   "source": [
    "#### Check the partitioned RDD -- some of the particles will be duplicated"
   ]
  },
  {
   "cell_type": "code",
   "execution_count": 15,
   "metadata": {
    "collapsed": false
   },
   "outputs": [],
   "source": [
    "parts = part_rdd.collect()"
   ]
  },
  {
   "cell_type": "code",
   "execution_count": 16,
   "metadata": {
    "collapsed": false
   },
   "outputs": [
    {
     "name": "stdout",
     "output_type": "stream",
     "text": [
      "0 x=-0.35 y=-0.35 pid=0 gid=(id=1 cid=18)\n",
      "1 x=-0.27 y=-0.27 pid=1 gid=(id=1 cid=18)\n",
      "2 x=-0.23 y=-0.23 pid=2 gid=(id=1 cid=18)\n",
      "3 x=-0.23 y=-0.23 pid=2 gid=(id=1 cid=19)\n",
      "4 x=-0.23 y=-0.23 pid=2 gid=(id=1 cid=26)\n",
      "5 x=-0.23 y=-0.23 pid=2 gid=(id=1 cid=27)\n",
      "6 x=-0.19 y=-0.19 pid=3 gid=(id=1 cid=27)\n",
      "7 x=-0.01 y=-0.01 pid=4 gid=(id=1 cid=27)\n",
      "8 x=0.01 y=0.01 pid=5 gid=(id=1 cid=27)\n",
      "9 x=0.01 y=0.01 pid=5 gid=(id=1 cid=28)\n",
      "10 x=0.01 y=0.01 pid=5 gid=(id=1 cid=35)\n",
      "11 x=0.01 y=0.01 pid=5 gid=(id=1 cid=36)\n",
      "12 x=0.23 y=0.23 pid=6 gid=(id=1 cid=36)\n",
      "13 x=0.29 y=0.29 pid=7 gid=(id=1 cid=36)\n",
      "14 x=0.29 y=0.29 pid=7 gid=(id=1 cid=37)\n",
      "15 x=0.29 y=0.29 pid=7 gid=(id=1 cid=44)\n",
      "16 x=0.29 y=0.29 pid=7 gid=(id=1 cid=45)\n",
      "17 x=0.49 y=0.49 pid=8 gid=(id=1 cid=45)\n",
      "18 x=0.51 y=0.51 pid=9 gid=(id=1 cid=45)\n",
      "19 x=0.51 y=0.51 pid=9 gid=(id=1 cid=46)\n",
      "20 x=0.51 y=0.51 pid=9 gid=(id=1 cid=53)\n",
      "21 x=0.51 y=0.51 pid=9 gid=(id=1 cid=54)\n"
     ]
    }
   ],
   "source": [
    "for i,p in enumerate(parts): \n",
    "    print i, p"
   ]
  },
  {
   "cell_type": "markdown",
   "metadata": {},
   "source": [
    "### Group Merging stage\n",
    "\n",
    "#### Ugly hack to create a 'fake' data set to look like what we would get out of a first FOF pass"
   ]
  },
  {
   "cell_type": "code",
   "execution_count": 17,
   "metadata": {
    "collapsed": true
   },
   "outputs": [],
   "source": [
    "data_partitions = []\n",
    "for p in parts: \n",
    "    data_partitions.append(p.gid.partition)"
   ]
  },
  {
   "cell_type": "code",
   "execution_count": 18,
   "metadata": {
    "collapsed": false
   },
   "outputs": [],
   "source": [
    "fof_rdd = sc.parallelize(zip(data_partitions, parts)).partitionBy(len(domain_containers)).values()"
   ]
  },
  {
   "cell_type": "code",
   "execution_count": 19,
   "metadata": {
    "collapsed": false
   },
   "outputs": [
    {
     "data": {
      "text/plain": [
       "[x=-0.35 y=-0.35 pid=0 gid=(id=1 cid=18),\n",
       " x=-0.27 y=-0.27 pid=1 gid=(id=1 cid=18),\n",
       " x=-0.23 y=-0.23 pid=2 gid=(id=1 cid=18),\n",
       " x=-0.23 y=-0.23 pid=2 gid=(id=1 cid=19),\n",
       " x=-0.23 y=-0.23 pid=2 gid=(id=1 cid=26),\n",
       " x=-0.23 y=-0.23 pid=2 gid=(id=1 cid=27),\n",
       " x=-0.19 y=-0.19 pid=3 gid=(id=1 cid=27),\n",
       " x=-0.01 y=-0.01 pid=4 gid=(id=1 cid=27),\n",
       " x=0.01 y=0.01 pid=5 gid=(id=1 cid=27),\n",
       " x=0.01 y=0.01 pid=5 gid=(id=1 cid=28),\n",
       " x=0.01 y=0.01 pid=5 gid=(id=1 cid=35),\n",
       " x=0.01 y=0.01 pid=5 gid=(id=1 cid=36),\n",
       " x=0.23 y=0.23 pid=6 gid=(id=1 cid=36),\n",
       " x=0.29 y=0.29 pid=7 gid=(id=1 cid=36),\n",
       " x=0.29 y=0.29 pid=7 gid=(id=1 cid=37),\n",
       " x=0.29 y=0.29 pid=7 gid=(id=1 cid=44),\n",
       " x=0.29 y=0.29 pid=7 gid=(id=1 cid=45),\n",
       " x=0.49 y=0.49 pid=8 gid=(id=1 cid=45),\n",
       " x=0.51 y=0.51 pid=9 gid=(id=1 cid=45),\n",
       " x=0.51 y=0.51 pid=9 gid=(id=1 cid=46),\n",
       " x=0.51 y=0.51 pid=9 gid=(id=1 cid=53),\n",
       " x=0.51 y=0.51 pid=9 gid=(id=1 cid=54)]"
      ]
     },
     "execution_count": 19,
     "metadata": {},
     "output_type": "execute_result"
    }
   ],
   "source": [
    "fof_rdd.collect()"
   ]
  },
  {
   "cell_type": "code",
   "execution_count": 20,
   "metadata": {
    "collapsed": true
   },
   "outputs": [],
   "source": [
    "mappings_list = []"
   ]
  },
  {
   "cell_type": "code",
   "execution_count": 21,
   "metadata": {
    "collapsed": true
   },
   "outputs": [],
   "source": [
    "fof_analyzer = spark_fof.FOFAnalyzer(sc, N, tau, fof_rdd)"
   ]
  },
  {
   "cell_type": "code",
   "execution_count": 22,
   "metadata": {
    "collapsed": false
   },
   "outputs": [],
   "source": [
    "merged_rdd = fof_analyzer.merge_groups(0)"
   ]
  },
  {
   "cell_type": "code",
   "execution_count": 23,
   "metadata": {
    "collapsed": false
   },
   "outputs": [
    {
     "data": {
      "text/plain": [
       "[x=-0.35 y=-0.35 pid=0 gid=(id=1 cid=18),\n",
       " x=-0.27 y=-0.27 pid=1 gid=(id=1 cid=18),\n",
       " x=-0.23 y=-0.23 pid=2 gid=(id=1 cid=18),\n",
       " x=-0.23 y=-0.23 pid=2 gid=(id=1 cid=18),\n",
       " x=-0.23 y=-0.23 pid=2 gid=(id=1 cid=18),\n",
       " x=-0.23 y=-0.23 pid=2 gid=(id=1 cid=18),\n",
       " x=-0.19 y=-0.19 pid=3 gid=(id=1 cid=18),\n",
       " x=-0.01 y=-0.01 pid=4 gid=(id=1 cid=18),\n",
       " x=0.01 y=0.01 pid=5 gid=(id=1 cid=18),\n",
       " x=0.01 y=0.01 pid=5 gid=(id=1 cid=18),\n",
       " x=0.01 y=0.01 pid=5 gid=(id=1 cid=18),\n",
       " x=0.01 y=0.01 pid=5 gid=(id=1 cid=18),\n",
       " x=0.23 y=0.23 pid=6 gid=(id=1 cid=18),\n",
       " x=0.29 y=0.29 pid=7 gid=(id=1 cid=18),\n",
       " x=0.29 y=0.29 pid=7 gid=(id=1 cid=18),\n",
       " x=0.29 y=0.29 pid=7 gid=(id=1 cid=18),\n",
       " x=0.29 y=0.29 pid=7 gid=(id=1 cid=18),\n",
       " x=0.49 y=0.49 pid=8 gid=(id=1 cid=18),\n",
       " x=0.51 y=0.51 pid=9 gid=(id=1 cid=18),\n",
       " x=0.51 y=0.51 pid=9 gid=(id=1 cid=18),\n",
       " x=0.51 y=0.51 pid=9 gid=(id=1 cid=18),\n",
       " x=0.51 y=0.51 pid=9 gid=(id=1 cid=18)]"
      ]
     },
     "execution_count": 23,
     "metadata": {},
     "output_type": "execute_result"
    }
   ],
   "source": [
    "merged_rdd.collect()"
   ]
  },
  {
   "cell_type": "code",
   "execution_count": 24,
   "metadata": {
    "collapsed": false
   },
   "outputs": [
    {
     "data": {
      "text/plain": [
       "[x=-0.35 y=-0.35 pid=0 gid=(id=1 cid=18),\n",
       " x=-0.27 y=-0.27 pid=1 gid=(id=1 cid=18),\n",
       " x=-0.23 y=-0.23 pid=2 gid=(id=1 cid=18),\n",
       " x=-0.23 y=-0.23 pid=2 gid=(id=1 cid=19),\n",
       " x=-0.23 y=-0.23 pid=2 gid=(id=1 cid=26),\n",
       " x=-0.23 y=-0.23 pid=2 gid=(id=1 cid=27),\n",
       " x=-0.19 y=-0.19 pid=3 gid=(id=1 cid=27),\n",
       " x=-0.01 y=-0.01 pid=4 gid=(id=1 cid=27),\n",
       " x=0.01 y=0.01 pid=5 gid=(id=1 cid=27),\n",
       " x=0.01 y=0.01 pid=5 gid=(id=1 cid=28),\n",
       " x=0.01 y=0.01 pid=5 gid=(id=1 cid=35),\n",
       " x=0.01 y=0.01 pid=5 gid=(id=1 cid=36),\n",
       " x=0.23 y=0.23 pid=6 gid=(id=1 cid=36),\n",
       " x=0.29 y=0.29 pid=7 gid=(id=1 cid=36),\n",
       " x=0.29 y=0.29 pid=7 gid=(id=1 cid=37),\n",
       " x=0.29 y=0.29 pid=7 gid=(id=1 cid=44),\n",
       " x=0.29 y=0.29 pid=7 gid=(id=1 cid=45),\n",
       " x=0.49 y=0.49 pid=8 gid=(id=1 cid=45),\n",
       " x=0.51 y=0.51 pid=9 gid=(id=1 cid=45),\n",
       " x=0.51 y=0.51 pid=9 gid=(id=1 cid=46),\n",
       " x=0.51 y=0.51 pid=9 gid=(id=1 cid=53),\n",
       " x=0.51 y=0.51 pid=9 gid=(id=1 cid=54)]"
      ]
     },
     "execution_count": 24,
     "metadata": {},
     "output_type": "execute_result"
    }
   ],
   "source": [
    "fof_analyzer.particle_rdd.collect()"
   ]
  },
  {
   "cell_type": "markdown",
   "metadata": {
    "collapsed": true
   },
   "source": [
    "## try get_bin with cython"
   ]
  },
  {
   "cell_type": "code",
   "execution_count": 27,
   "metadata": {
    "collapsed": false
   },
   "outputs": [],
   "source": [
    "import numpy as np\n",
    "# import pyximport\n",
    "# pyximport.install(setup_args={\"include_dirs\":np.get_include()},\n",
    "#                   reload_support=True)"
   ]
  },
  {
   "cell_type": "code",
   "execution_count": 29,
   "metadata": {
    "collapsed": false
   },
   "outputs": [],
   "source": [
    "xs = np.random.rand(1000000)\n",
    "ys = np.random.rand(1000000)"
   ]
  },
  {
   "cell_type": "markdown",
   "metadata": {},
   "source": [
    "### Setup cython on workers\n",
    "\n",
    "looks like some helpful info here: https://www.4info.com/Blog/October-2014/Enhancing-Spark-with-IPython-Notebook-and-Cython"
   ]
  },
  {
   "cell_type": "code",
   "execution_count": 30,
   "metadata": {
    "collapsed": false
   },
   "outputs": [],
   "source": [
    "sc.addPyFile('spark_fof_c.pyx')\n",
    "sc.addPyFile('spark_util.py')"
   ]
  },
  {
   "cell_type": "code",
   "execution_count": 31,
   "metadata": {
    "collapsed": false
   },
   "outputs": [
    {
     "data": {
      "text/plain": [
       "(None, <pyximport.pyximport.PyxImporter at 0x1186a5750>)"
      ]
     },
     "execution_count": 31,
     "metadata": {},
     "output_type": "execute_result"
    }
   ],
   "source": [
    "import pyximport\n",
    "pyximport.install(setup_args={\"include_dirs\":np.get_include()})   "
   ]
  },
  {
   "cell_type": "code",
   "execution_count": 32,
   "metadata": {
    "collapsed": true
   },
   "outputs": [],
   "source": [
    "from spark_util import spark_cython"
   ]
  },
  {
   "cell_type": "code",
   "execution_count": 59,
   "metadata": {
    "collapsed": false
   },
   "outputs": [],
   "source": [
    "def get_particle_bin(p):\n",
    "    from spark_util import spark_cython\n",
    "    return spark_cython('spark_fof_c', 'get_bin_cython')(p.x,p.y,100,-1,-1,1,1)\n",
    "\n",
    "def get_particle_bin_partition(particles, n):\n",
    "    xs = np.zeros(n)\n",
    "    ys = np.zeros(n)\n",
    "    bins = np.zeros(n)\n",
    "    \n",
    "    for i, p in enumerate(particles): \n",
    "        xs[i]=p.x\n",
    "        xs[i]=p.y\n",
    "    \n",
    "    spark_cython('spark_fof_c', 'get_particle_bins_cython')(xs,ys,bins)\n",
    "    \n",
    "    for bin in bins: yield bin\n",
    "\n",
    "def get_particle_bin_python(p):\n",
    "    return get_bin(p.x,p.y,100,[-1,-1],[1,1])"
   ]
  },
  {
   "cell_type": "code",
   "execution_count": 40,
   "metadata": {
    "collapsed": false
   },
   "outputs": [
    {
     "name": "stdout",
     "output_type": "stream",
     "text": [
      "CPU times: user 6.08 ms, sys: 2.34 ms, total: 8.42 ms\n",
      "Wall time: 34.8 ms\n"
     ]
    },
    {
     "data": {
      "text/plain": [
       "[3232, 3636, 3838, 4040, 4949, 5050, 6161, 6464, 7474, 7575]"
      ]
     },
     "execution_count": 40,
     "metadata": {},
     "output_type": "execute_result"
    }
   ],
   "source": [
    "%time p_rdd.map(get_particle_bin).take(10)"
   ]
  },
  {
   "cell_type": "code",
   "execution_count": 41,
   "metadata": {
    "collapsed": false
   },
   "outputs": [
    {
     "name": "stdout",
     "output_type": "stream",
     "text": [
      "CPU times: user 5.7 ms, sys: 2.37 ms, total: 8.08 ms\n",
      "Wall time: 41.3 ms\n"
     ]
    },
    {
     "data": {
      "text/plain": [
       "[3232, 3636, 3838, 4040, 4949, 5050, 6161, 6464, 7474, 7575]"
      ]
     },
     "execution_count": 41,
     "metadata": {},
     "output_type": "execute_result"
    }
   ],
   "source": [
    "%time p_rdd.map(get_particle_bin_python).take(10)"
   ]
  },
  {
   "cell_type": "code",
   "execution_count": 42,
   "metadata": {
    "collapsed": true
   },
   "outputs": [],
   "source": [
    "from spark_fof import Particle, groupID"
   ]
  },
  {
   "cell_type": "code",
   "execution_count": 43,
   "metadata": {
    "collapsed": true
   },
   "outputs": [],
   "source": [
    "p_arr = []\n",
    "\n",
    "for i, (x,y) in enumerate(zip(np.random.rand(1000000), np.random.rand(1000000))):\n",
    "    p_arr.append(Particle(x,y,i,groupID(0,0)))"
   ]
  },
  {
   "cell_type": "code",
   "execution_count": 44,
   "metadata": {
    "collapsed": true
   },
   "outputs": [],
   "source": [
    "p_arr_rdd = sc.parallelize(p_arr).cache()"
   ]
  },
  {
   "cell_type": "code",
   "execution_count": 45,
   "metadata": {
    "collapsed": false
   },
   "outputs": [
    {
     "data": {
      "text/plain": [
       "1000000"
      ]
     },
     "execution_count": 45,
     "metadata": {},
     "output_type": "execute_result"
    }
   ],
   "source": [
    "p_arr_rdd.count()"
   ]
  },
  {
   "cell_type": "code",
   "execution_count": 46,
   "metadata": {
    "collapsed": false
   },
   "outputs": [
    {
     "name": "stdout",
     "output_type": "stream",
     "text": [
      "CPU times: user 4.31 ms, sys: 2.02 ms, total: 6.33 ms\n",
      "Wall time: 2.78 s\n"
     ]
    },
    {
     "data": {
      "text/plain": [
       "1000000"
      ]
     },
     "execution_count": 46,
     "metadata": {},
     "output_type": "execute_result"
    }
   ],
   "source": [
    "%time p_arr_rdd.map(get_particle_bin).count()"
   ]
  },
  {
   "cell_type": "code",
   "execution_count": 47,
   "metadata": {
    "collapsed": false
   },
   "outputs": [
    {
     "name": "stdout",
     "output_type": "stream",
     "text": [
      "CPU times: user 4.08 ms, sys: 1.91 ms, total: 6 ms\n",
      "Wall time: 2.59 s\n"
     ]
    },
    {
     "data": {
      "text/plain": [
       "1000000"
      ]
     },
     "execution_count": 47,
     "metadata": {},
     "output_type": "execute_result"
    }
   ],
   "source": [
    "%time p_arr_rdd.map(get_particle_bin_python).count()"
   ]
  },
  {
   "cell_type": "code",
   "execution_count": 48,
   "metadata": {
    "collapsed": true
   },
   "outputs": [],
   "source": [
    "n = len(p_arr)"
   ]
  },
  {
   "cell_type": "code",
   "execution_count": 49,
   "metadata": {
    "collapsed": false
   },
   "outputs": [
    {
     "data": {
      "text/plain": [
       "[array([ 5098.,  5054.,  5058., ...,  5065.,  5082.,  5084.])]"
      ]
     },
     "execution_count": 49,
     "metadata": {},
     "output_type": "execute_result"
    }
   ],
   "source": [
    "list(get_particle_bin_partition(p_arr,n))"
   ]
  },
  {
   "cell_type": "code",
   "execution_count": 63,
   "metadata": {
    "collapsed": false,
    "scrolled": false
   },
   "outputs": [
    {
     "name": "stdout",
     "output_type": "stream",
     "text": [
      "CPU times: user 3.49 ms, sys: 1.62 ms, total: 5.1 ms\n",
      "Wall time: 1.48 s\n"
     ]
    },
    {
     "data": {
      "text/plain": [
       "[5098.0,\n",
       " 5054.0,\n",
       " 5058.0,\n",
       " 5051.0,\n",
       " 5069.0,\n",
       " 5079.0,\n",
       " 5057.0,\n",
       " 5092.0,\n",
       " 5076.0,\n",
       " 5069.0,\n",
       " 5067.0,\n",
       " 5087.0,\n",
       " 5083.0,\n",
       " 5097.0,\n",
       " 5094.0,\n",
       " 5098.0,\n",
       " 5087.0,\n",
       " 5073.0,\n",
       " 5072.0,\n",
       " 5066.0,\n",
       " 5065.0,\n",
       " 5089.0,\n",
       " 5066.0,\n",
       " 5061.0,\n",
       " 5080.0,\n",
       " 5064.0,\n",
       " 5078.0,\n",
       " 5065.0,\n",
       " 5071.0,\n",
       " 5077.0,\n",
       " 5070.0,\n",
       " 5079.0,\n",
       " 5052.0,\n",
       " 5056.0,\n",
       " 5077.0,\n",
       " 5057.0,\n",
       " 5069.0,\n",
       " 5085.0,\n",
       " 5051.0,\n",
       " 5091.0,\n",
       " 5088.0,\n",
       " 5071.0,\n",
       " 5070.0,\n",
       " 5054.0,\n",
       " 5083.0,\n",
       " 5097.0,\n",
       " 5072.0,\n",
       " 5090.0,\n",
       " 5083.0,\n",
       " 5083.0,\n",
       " 5093.0,\n",
       " 5091.0,\n",
       " 5077.0,\n",
       " 5075.0,\n",
       " 5065.0,\n",
       " 5058.0,\n",
       " 5089.0,\n",
       " 5057.0,\n",
       " 5078.0,\n",
       " 5057.0,\n",
       " 5063.0,\n",
       " 5099.0,\n",
       " 5084.0,\n",
       " 5070.0,\n",
       " 5068.0,\n",
       " 5062.0,\n",
       " 5076.0,\n",
       " 5092.0,\n",
       " 5051.0,\n",
       " 5091.0,\n",
       " 5061.0,\n",
       " 5082.0,\n",
       " 5077.0,\n",
       " 5091.0,\n",
       " 5064.0,\n",
       " 5086.0,\n",
       " 5062.0,\n",
       " 5053.0,\n",
       " 5066.0,\n",
       " 5050.0,\n",
       " 5073.0,\n",
       " 5084.0,\n",
       " 5061.0,\n",
       " 5072.0,\n",
       " 5093.0,\n",
       " 5090.0,\n",
       " 5085.0,\n",
       " 5069.0,\n",
       " 5088.0,\n",
       " 5051.0,\n",
       " 5074.0,\n",
       " 5063.0,\n",
       " 5098.0,\n",
       " 5072.0,\n",
       " 5093.0,\n",
       " 5058.0,\n",
       " 5073.0,\n",
       " 5088.0,\n",
       " 5054.0,\n",
       " 5050.0]"
      ]
     },
     "execution_count": 63,
     "metadata": {},
     "output_type": "execute_result"
    }
   ],
   "source": [
    "%time p_arr_rdd.mapPartitions(lambda particles: get_particle_bin_partition(particles, n)).take(100)"
   ]
  },
  {
   "cell_type": "code",
   "execution_count": null,
   "metadata": {
    "collapsed": true
   },
   "outputs": [],
   "source": []
  }
 ],
 "metadata": {
  "kernelspec": {
   "display_name": "Python 2",
   "language": "python",
   "name": "python2"
  },
  "language_info": {
   "codemirror_mode": {
    "name": "ipython",
    "version": 2
   },
   "file_extension": ".py",
   "mimetype": "text/x-python",
   "name": "python",
   "nbconvert_exporter": "python",
   "pygments_lexer": "ipython2",
   "version": "2.7.11"
  }
 },
 "nbformat": 4,
 "nbformat_minor": 0
}
