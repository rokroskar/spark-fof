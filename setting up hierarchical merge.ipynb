{
 "cells": [
  {
   "cell_type": "markdown",
   "metadata": {},
   "source": [
    "## Make a simple synthetic dataset to test hierarchical merge in FOF algorithm\n",
    "\n",
    "#### the idea is this: \n",
    "\n",
    "* after the local FOF stage, each partition reports the particles it holds in the overlap region\n",
    "* do a reduceByKey or treeAggregate of some sort to collect the groups belonging to the same particles\n",
    "* produce a mapping of $G -> G_1$ and distribute to all hosts in form of broadcast lookup table"
   ]
  },
  {
   "cell_type": "code",
   "execution_count": 1,
   "metadata": {
    "collapsed": false
   },
   "outputs": [
    {
     "name": "stderr",
     "output_type": "stream",
     "text": [
      "/Users/rok/miniconda/lib/python2.7/site-packages/matplotlib/font_manager.py:273: UserWarning: Matplotlib is building the font cache using fc-list. This may take a moment.\n",
      "  warnings.warn('Matplotlib is building the font cache using fc-list. This may take a moment.')\n"
     ]
    }
   ],
   "source": [
    "import numpy as np\n",
    "import matplotlib.pylab as plt\n",
    "%matplotlib inline\n",
    "\n",
    "import sys\n",
    "sys.setrecursionlimit(sys.getrecursionlimit()*10)"
   ]
  },
  {
   "cell_type": "code",
   "execution_count": 2,
   "metadata": {
    "collapsed": true
   },
   "outputs": [],
   "source": [
    "import matplotlib.patches as patches"
   ]
  },
  {
   "cell_type": "code",
   "execution_count": 3,
   "metadata": {
    "collapsed": true
   },
   "outputs": [],
   "source": [
    "from scipy.spatial import Rectangle"
   ]
  },
  {
   "cell_type": "code",
   "execution_count": 126,
   "metadata": {
    "collapsed": false
   },
   "outputs": [],
   "source": [
    "import copy\n",
    "\n",
    "class DomainRectangle(Rectangle):\n",
    "    def __init__(self, mins, maxes, N=None, parent=None,):\n",
    "        self.parent = parent\n",
    "        super(DomainRectangle, self).__init__(mins,maxes)\n",
    "        self.children = []\n",
    "        self.midpoint = self.mins + (self.maxes-self.mins)/2.\n",
    "\n",
    "        if N is None: \n",
    "            self.N = 0\n",
    "        else: \n",
    "            self.N = N\n",
    "        \n",
    "    def __repr__(self):\n",
    "        return \"<DomainRectangle %s>\" % list(zip(self.mins, self.maxes))\n",
    "    \n",
    "    def get_inner_box(self, tau): \n",
    "        \"\"\"Return a new hyper rectangle, shrunk by tau\"\"\"\n",
    "    \n",
    "        new_rect = copy.copy(self)\n",
    "        new_rect.mins = self.mins + tau\n",
    "        new_rect.maxes = self.maxes - tau\n",
    "        \n",
    "        return new_rect\n",
    "    \n",
    "    def split(self, d, split, N): \n",
    "        \"\"\"\n",
    "        Produce two hyperrectangles by splitting.\n",
    "        In general, if you need to compute maximum and minimum\n",
    "        distances to the children, it can be done more efficiently\n",
    "        by updating the maximum and minimum distances to the parent.\n",
    "        Parameters\n",
    "        ----------\n",
    "        d : int\n",
    "            Axis to split hyperrectangle along.\n",
    "        split : float\n",
    "            Position along axis `d` to split at.\n",
    "        \"\"\"\n",
    "        mid = np.copy(self.maxes)\n",
    "        mid[d] = split\n",
    "        less = DomainRectangle(self.mins, mid, N=N, parent=self)\n",
    "        mid = np.copy(self.mins)\n",
    "        mid[d] = split\n",
    "        greater = DomainRectangle(mid, self.maxes, N=N, parent=self)\n",
    "\n",
    "        return less, greater\n",
    "    \n",
    "    def split_domain(self, max_N = 1, N=1): \n",
    "        ndim = len(self.maxes)\n",
    "\n",
    "        # Keep splitting until max level is reached \n",
    "        if N <= max_N: \n",
    "            split_point = self.mins + (self.maxes - self.mins)/2\n",
    "            rs = self.split(0,split_point[0],N)\n",
    "\n",
    "            # split along all dimensions\n",
    "            for axis in range(1,ndim):\n",
    "                rs = [r.split(axis,split_point[axis],N) for r in rs]\n",
    "\n",
    "                if isinstance(rs[0], (tuple, list)):\n",
    "                    rs = [item for sublist in rs for item in sublist]\n",
    "\n",
    "            self.children = rs\n",
    "    \n",
    "            res = flatten([r.split_domain(max_N, N+1) for r in rs])\n",
    "\n",
    "            return res\n",
    "\n",
    "        else: \n",
    "            return self\n"
   ]
  },
  {
   "cell_type": "code",
   "execution_count": 191,
   "metadata": {
    "collapsed": true
   },
   "outputs": [],
   "source": [
    "from math import floor, ceil\n",
    "def get_bin(px, py, nbins, mins, maxs): \n",
    "    minx, miny = mins\n",
    "    maxx, maxy = maxs\n",
    "    \n",
    "    if not all([minx<=px<=maxx, miny<=py<=maxy]):\n",
    "        return -1 \n",
    "    \n",
    "    dx = (maxx - minx)/float(nbins)\n",
    "    dy = (maxy - miny)/float(nbins)\n",
    "  #  dz = (p_maxs['z'] - p_mins['z'])/float(nbins)\n",
    "    xbin = floor((px - minx)/dx)\n",
    "    ybin = floor((py - miny)/dy)\n",
    " #   zbin = floor((p['z'] + 1)/dz)\n",
    "    return int(xbin + ybin*nbins)# + zbin*nbins*nbins)\n",
    "\n",
    "def flatten(S):\n",
    "    if S == []:\n",
    "        return S\n",
    "    if isinstance(S[0], list):\n",
    "        return flatten(S[0]) + flatten(S[1:])\n",
    "    return S[:1] + flatten(S[1:])\n",
    "\n",
    "\n",
    "def plot_rectangle(rec, ax=None):\n",
    "    if ax is None: \n",
    "        ax = plt.subplot(aspect='equal')\n",
    "    \n",
    "    if isinstance(rec, (list, tuple)):\n",
    "        for r in rec: \n",
    "            plot_rectangle(r,ax)\n",
    "    \n",
    "    else:\n",
    "        size = (rec.maxes-rec.mins)\n",
    "        ax.add_patch(patches.Rectangle(rec.mins, size[0], size[1], fill=False))\n",
    "    \n",
    "    plt.xlim(-1.1,1.1); plt.ylim(-1.1,1.1)\n",
    "    \n",
    "def get_rectangle_bin(rec, mins, maxs, nbins):\n",
    "    # take the midpoint of the rectangle\n",
    "    point = rec.mins + (rec.maxes - rec.mins)/2.\n",
    "    return get_bin(point[0], point[1], nbins, mins, maxs)"
   ]
  },
  {
   "cell_type": "code",
   "execution_count": 128,
   "metadata": {
    "collapsed": false
   },
   "outputs": [],
   "source": [
    "# data = np.zeros((20,2))\n",
    "# for i in range(len(data)): \n",
    "#     data[i] = np.random.rand(2)*2 - 1 \n",
    "dt = np.dtype([('x','f8'), ('y', 'f8'), ('pid', 'int'), ('gid', 'f8')])\n",
    "data = np.zeros(6, dtype=dt)\n"
   ]
  },
  {
   "cell_type": "code",
   "execution_count": 328,
   "metadata": {
    "collapsed": false
   },
   "outputs": [],
   "source": [
    "data[0] = (-.85,-.85,0,1.1)\n",
    "data[1] = (-.5,-.5,1,2.1)\n",
    "data[2] = (-.05,-.5,2,3.1)\n",
    "data[3] = (-.05,-.55,3,3.1)\n",
    "data[4] = (.05, -.55,4,1.2)\n",
    "data[5] = (.11,-.55,5,1.2)"
   ]
  },
  {
   "cell_type": "code",
   "execution_count": 329,
   "metadata": {
    "collapsed": false
   },
   "outputs": [],
   "source": [
    "N=1\n",
    "D = DomainRectangle([1,1], [-1,-1])\n",
    "domain_containers = D.split_domain(max_N=N)\n",
    "for r in domain_containers: \n",
    "    r.bin = get_rectangle_bin(r, D.mins, D.maxes, 2**N)\n",
    "\n",
    "domain_containers.sort(key=lambda x: x.bin)"
   ]
  },
  {
   "cell_type": "code",
   "execution_count": 330,
   "metadata": {
    "collapsed": false
   },
   "outputs": [
    {
     "data": {
      "image/png": "[encoded data removed]",
      "text/plain": [
       "<matplotlib.figure.Figure at 0x115f9ea10>"
      ]
     },
     "metadata": {},
     "output_type": "display_data"
    }
   ],
   "source": [
    "f, ax = plt.subplots(subplot_kw={'aspect':'equal'}, figsize=(20,20))\n",
    "for p in data: \n",
    "    plot_rectangle(domain_containers[get_bin(p['x'], p['y'], 2**N, D.mins, D.maxes)], ax=ax)\n",
    "ax.plot(data['x'], data['y'], 'o')\n",
    "plot_rectangle(r_new, ax=ax)"
   ]
  },
  {
   "cell_type": "code",
   "execution_count": 331,
   "metadata": {
    "collapsed": true
   },
   "outputs": [],
   "source": [
    "import findspark\n",
    "findspark.init()"
   ]
  },
  {
   "cell_type": "code",
   "execution_count": 332,
   "metadata": {
    "collapsed": true
   },
   "outputs": [],
   "source": [
    "import pyspark\n",
    "from pyspark import SparkContext"
   ]
  },
  {
   "cell_type": "code",
   "execution_count": 80,
   "metadata": {
    "collapsed": false
   },
   "outputs": [],
   "source": [
    "sc = SparkContext(master='local[4]')"
   ]
  },
  {
   "cell_type": "code",
   "execution_count": 394,
   "metadata": {
    "collapsed": true
   },
   "outputs": [],
   "source": [
    "p_rdd = sc.parallelize(data)"
   ]
  },
  {
   "cell_type": "code",
   "execution_count": 396,
   "metadata": {
    "collapsed": false
   },
   "outputs": [
    {
     "data": {
      "text/plain": [
       "4"
      ]
     },
     "execution_count": 396,
     "metadata": {},
     "output_type": "execute_result"
    }
   ],
   "source": [
    "p_rdd.getNumPartitions()"
   ]
  },
  {
   "cell_type": "code",
   "execution_count": 438,
   "metadata": {
    "collapsed": false
   },
   "outputs": [],
   "source": [
    "# partitioning duplicates the particles that are located in the boundary regions\n",
    "part_rdd = p_rdd.mapPartitions(lambda particles: partition_particles(particles, domain_containers, tau)).partitionBy(4)"
   ]
  },
  {
   "cell_type": "code",
   "execution_count": 439,
   "metadata": {
    "collapsed": false
   },
   "outputs": [
    {
     "data": {
      "text/plain": [
       "[[(0, (-0.85, -0.85, 0, 1.1)),\n",
       "  (0, (-0.5, -0.5, 1, 2.1)),\n",
       "  (0, (-0.05, -0.5, 2, 3.1)),\n",
       "  (0, (-0.05, -0.55, 3, 3.1)),\n",
       "  (0, (0.05, -0.55, 4, 1.2))],\n",
       " [(1, (-0.05, -0.5, 2, 3.1)),\n",
       "  (1, (-0.05, -0.55, 3, 3.1)),\n",
       "  (1, (0.05, -0.55, 4, 1.2)),\n",
       "  (1, (0.11, -0.55, 5, 1.2))],\n",
       " [],\n",
       " []]"
      ]
     },
     "execution_count": 439,
     "metadata": {},
     "output_type": "execute_result"
    }
   ],
   "source": [
    "part_rdd.glom().collect()"
   ]
  },
  {
   "cell_type": "code",
   "execution_count": 432,
   "metadata": {
    "collapsed": false
   },
   "outputs": [],
   "source": [
    "def partition_particles(particles, domain_containers, tau):\n",
    "    \"\"\"Copy particles in buffer areas to the partitions that will need them\"\"\"\n",
    "    \n",
    "    n_levels = domain_containers[0].N\n",
    "    \n",
    "    for p in particles: \n",
    "        my_bin = get_bin(p['x'], p['y'], 2**n_levels, [-1,-1], [1,1])\n",
    "        \n",
    "        my_rect = domain_containers[my_bin]\n",
    "        limits = [list(my_rect.maxes)] + [list(my_rect.mins)]\n",
    "        \n",
    "        # particle coordinates in single array\n",
    "        coords = np.array((p['x'], p['y']))\n",
    "            \n",
    "        # get a matrix with distances from all edges\n",
    "        x = (np.abs([coords - lim for lim in limits]) < tau) * tau\n",
    "        \n",
    "        # if there are nonzero elements, we need to have multiple copies of this particle\n",
    "        if np.any(x):\n",
    "            x[1:] *= -1 # the second row are the minimums, i.e. will shif axes to the right/up\n",
    "            rows, cols = x.nonzero()\n",
    "            \n",
    "            # go through the nonzero rows\n",
    "            for row in rows:\n",
    "                new_bin = get_bin(*(coords + x[row]), nbins=2**n_levels, mins=[-1,-1], maxs=[1,1])\n",
    "                print coords, x, new_bin, p\n",
    "                yield (new_bin, p)\n",
    "        yield (my_bin, p)\n",
    "            \n",
    "    \n",
    "def filter_border_particle(partition, particles, tau, domain_containers, level=0): \n",
    "    \"\"\"Returns true if the particle is in the buffer region specified by tau\"\"\"\n",
    "    my_rect = domain_containers[partition]\n",
    "    \n",
    "    # squeeze the rectangle and check if point is outside\n",
    "    new_rect = my_rect.get_inner_box(tau)\n",
    "    \n",
    "    for p in particles: \n",
    "        if new_rect.min_distance_point((p['x'], p['y'])):\n",
    "            yield p"
   ]
  },
  {
   "cell_type": "code",
   "execution_count": null,
   "metadata": {
    "collapsed": true
   },
   "outputs": [],
   "source": []
  }
 ],
 "metadata": {
  "kernelspec": {
   "display_name": "Python 2",
   "language": "python",
   "name": "python2"
  },
  "language_info": {
   "codemirror_mode": {
    "name": "ipython",
    "version": 2
   },
   "file_extension": ".py",
   "mimetype": "text/x-python",
   "name": "python",
   "nbconvert_exporter": "python",
   "pygments_lexer": "ipython2",
   "version": "2.7.11"
  }
 },
 "nbformat": 4,
 "nbformat_minor": 0
}
