{
 "cells": [
  {
   "cell_type": "markdown",
   "metadata": {},
   "source": [
    "## Make a simple synthetic dataset to test hierarchical merge in FOF algorithm\n",
    "\n",
    "#### the idea is this: \n",
    "\n",
    "* after the local FOF stage, each partition reports the particles it holds in the overlap region\n",
    "* do a reduceByKey or treeAggregate of some sort to collect the groups belonging to the same particles\n",
    "* produce a mapping of $G -> G_1$ and distribute to all hosts in form of broadcast lookup table"
   ]
  },
  {
   "cell_type": "code",
   "execution_count": 1,
   "metadata": {
    "collapsed": false
   },
   "outputs": [
    {
     "name": "stderr",
     "output_type": "stream",
     "text": [
      "/Users/rokstar/miniconda/lib/python2.7/site-packages/matplotlib/__init__.py:486: UserWarning: matplotlibrc text.usetex option can not be used unless TeX-3.1415 or later is installed on your system\n",
      "  'installed on your system') % tex_req)\n",
      "/Users/rokstar/miniconda/lib/python2.7/site-packages/matplotlib/__init__.py:493: UserWarning: matplotlibrc text.usetex can not be used with *Agg backend unless dvipng-1.5 or later is installed on your system\n",
      "  warnings.warn('matplotlibrc text.usetex can not be used with *Agg '\n",
      "/Users/rokstar/miniconda/lib/python2.7/site-packages/matplotlib/__init__.py:508: UserWarning: matplotlibrc text.usetex can not be used unless ghostscript-7.07 or later is installed on your system\n",
      "  'installed on your system') % gs_req)\n"
     ]
    }
   ],
   "source": [
    "import numpy as np\n",
    "import matplotlib.pylab as plt\n",
    "%matplotlib inline\n",
    "\n",
    "import sys\n",
    "sys.setrecursionlimit(sys.getrecursionlimit()*10)\n",
    "\n",
    "import matplotlib.patches as patches"
   ]
  },
  {
   "cell_type": "code",
   "execution_count": 2,
   "metadata": {
    "collapsed": false
   },
   "outputs": [],
   "source": [
    "import spark_fof"
   ]
  },
  {
   "cell_type": "code",
   "execution_count": 3,
   "metadata": {
    "collapsed": true
   },
   "outputs": [],
   "source": [
    "def plot_rectangle(rec, ax=None):\n",
    "    if ax is None: \n",
    "        ax = plt.subplot(aspect='equal')\n",
    "    \n",
    "    if isinstance(rec, (list, tuple)):\n",
    "        for r in rec: \n",
    "            plot_rectangle(r,ax)\n",
    "    \n",
    "    else:\n",
    "        size = (rec.maxes-rec.mins)\n",
    "        ax.add_patch(patches.Rectangle(rec.mins, size[0], size[1], fill=False, zorder=-1))\n",
    "    \n",
    "    plt.xlim(-1.1,1.1); plt.ylim(-1.1,1.1)"
   ]
  },
  {
   "cell_type": "code",
   "execution_count": 4,
   "metadata": {
    "collapsed": true
   },
   "outputs": [],
   "source": [
    "import spark_fof_c"
   ]
  },
  {
   "cell_type": "markdown",
   "metadata": {},
   "source": [
    "## Set up data"
   ]
  },
  {
   "cell_type": "code",
   "execution_count": 5,
   "metadata": {
    "collapsed": true
   },
   "outputs": [],
   "source": [
    "import numpy as np\n",
    "\n",
    "import matplotlib.pylab as plt\n",
    "\n",
    "%matplotlib inline\n",
    "\n",
    "import fof"
   ]
  },
  {
   "cell_type": "code",
   "execution_count": 6,
   "metadata": {
    "collapsed": true
   },
   "outputs": [],
   "source": [
    "# create the arrays\n",
    "pdt = np.dtype([('pos','f4', 3), ('iGroup', 'i4'), ('iOrder', 'i4')])\n",
    "nps = 10000\n",
    "ngs = 5\n",
    "particles = np.zeros(nps, dtype=pdt)\n",
    "done_ps = 0\n",
    "centers = np.random.rand(ngs,3)*1.7 - 0.85\n",
    "for group, center in zip(range(ngs), centers): \n",
    "    group_ps = nps/ngs\n",
    "    if nps - (done_ps + group_ps) < group_ps:\n",
    "        group_ps = nps - done_ps \n",
    "    particles['pos'][done_ps:done_ps+group_ps] = \\\n",
    "        np.random.multivariate_normal(center, [[.001,0,0],[0,.001,0],[0,0,.001]], group_ps)\n",
    "    done_ps += group_ps\n",
    "   \n",
    "particles['iOrder'] = range(nps)"
   ]
  },
  {
   "cell_type": "markdown",
   "metadata": {},
   "source": [
    "## Start Spark"
   ]
  },
  {
   "cell_type": "code",
   "execution_count": 7,
   "metadata": {
    "collapsed": true
   },
   "outputs": [],
   "source": [
    "import findspark\n",
    "findspark.init()"
   ]
  },
  {
   "cell_type": "code",
   "execution_count": 8,
   "metadata": {
    "collapsed": true
   },
   "outputs": [],
   "source": [
    "import os\n",
    "os.environ['SPARK_CONF_DIR'] = './conf'"
   ]
  },
  {
   "cell_type": "code",
   "execution_count": 9,
   "metadata": {
    "collapsed": false
   },
   "outputs": [],
   "source": [
    "import pyspark\n",
    "from pyspark import SparkContext, SparkConf"
   ]
  },
  {
   "cell_type": "code",
   "execution_count": 10,
   "metadata": {
    "collapsed": false
   },
   "outputs": [],
   "source": [
    "conf = SparkConf()"
   ]
  },
  {
   "cell_type": "code",
   "execution_count": 11,
   "metadata": {
    "collapsed": false
   },
   "outputs": [
    {
     "data": {
      "text/plain": [
       "<pyspark.conf.SparkConf at 0x1135083d0>"
      ]
     },
     "execution_count": 11,
     "metadata": {},
     "output_type": "execute_result"
    }
   ],
   "source": [
    "conf.set('spark.python.profile', 'true')\n",
    "conf.set('spark.executor.memory', '5G')\n",
    "conf.set('spark.driver.memory', '4G')\n"
   ]
  },
  {
   "cell_type": "code",
   "execution_count": 12,
   "metadata": {
    "collapsed": false
   },
   "outputs": [],
   "source": [
    "sc = SparkContext(master='local[4]', conf=conf, batchSize=0)"
   ]
  },
  {
   "cell_type": "code",
   "execution_count": 13,
   "metadata": {
    "collapsed": false
   },
   "outputs": [],
   "source": [
    "sc.addPyFile('spark_fof.py')"
   ]
  },
  {
   "cell_type": "markdown",
   "metadata": {},
   "source": [
    "## Set up the domains"
   ]
  },
  {
   "cell_type": "code",
   "execution_count": 40,
   "metadata": {
    "collapsed": false
   },
   "outputs": [],
   "source": [
    "N = 4\n",
    "tau = 0.02\n",
    "mins = np.array([-1,-1,-1], dtype=np.float)\n",
    "maxs= np.array([1,1,1], dtype=np.float)\n",
    "domain_containers = spark_fof.setup_domain(N,tau,maxs,mins)"
   ]
  },
  {
   "cell_type": "code",
   "execution_count": 41,
   "metadata": {
    "collapsed": false
   },
   "outputs": [
    {
     "data": {
      "text/plain": [
       "[<matplotlib.lines.Line2D at 0x1167b2f50>]"
      ]
     },
     "execution_count": 41,
     "metadata": {},
     "output_type": "execute_result"
    },
    {
     "data": {
      "image/png": "[encoded data removed]",
      "text/plain": [
       "<matplotlib.figure.Figure at 0x1146d1b50>"
      ]
     },
     "metadata": {},
     "output_type": "display_data"
    }
   ],
   "source": [
    "f, ax = plt.subplots(subplot_kw={'aspect':'equal'}, figsize=(15,15))\n",
    "#plot_rectangle(domain_containers[0].bufferRectangle, ax=ax)\n",
    "for p in particles[::1000]: \n",
    "    plot_rectangle(domain_containers[spark_fof.get_bin_cython(p['pos'],2**N, np.array(mins), np.array(maxs))], ax=ax)\n",
    "#    plot_rectangle(domain_containers[get_bin(p.x, p.y, 2**N, mins,maxes)].bufferRectangle, ax=ax)\n",
    "# for r in domain_containers: \n",
    "#     plot_rectangle(r.parent, ax=ax)\n",
    "ax.plot(particles['pos'][:,0], particles['pos'][:,1], ',')"
   ]
  },
  {
   "cell_type": "markdown",
   "metadata": {},
   "source": [
    "### Make the base RDD"
   ]
  },
  {
   "cell_type": "code",
   "execution_count": 42,
   "metadata": {
    "collapsed": false
   },
   "outputs": [],
   "source": [
    "p_rdd = sc.parallelize(particles)"
   ]
  },
  {
   "cell_type": "markdown",
   "metadata": {},
   "source": [
    "### Partition particles into domains and set the partition part of local group ID"
   ]
  },
  {
   "cell_type": "code",
   "execution_count": 43,
   "metadata": {
    "collapsed": false
   },
   "outputs": [],
   "source": [
    "# partitioning duplicates the particles that are located in the boundary regions\n",
    "part_rdd = (p_rdd.mapPartitions(lambda particles: spark_fof.partition_particles_cython(particles, domain_containers, tau))\n",
    "                 .partitionBy(len(domain_containers))\n",
    "                 .values())"
   ]
  },
  {
   "cell_type": "markdown",
   "metadata": {},
   "source": [
    "### Run the local FOF"
   ]
  },
  {
   "cell_type": "code",
   "execution_count": 44,
   "metadata": {
    "collapsed": true
   },
   "outputs": [],
   "source": [
    "from spark_util import spark_cython"
   ]
  },
  {
   "cell_type": "code",
   "execution_count": 45,
   "metadata": {
    "collapsed": true
   },
   "outputs": [],
   "source": [
    "run_fof = spark_cython('fof', 'run')"
   ]
  },
  {
   "cell_type": "code",
   "execution_count": 46,
   "metadata": {
    "collapsed": true
   },
   "outputs": [],
   "source": [
    "def run_local_fof(index, particle_iter, tau): \n",
    "    part_arr = np.fromiter(particle_iter, pdt)\n",
    "    if len(part_arr)>0:\n",
    "        run_fof(part_arr, tau)\n",
    "    return part_arr\n",
    "\n",
    "def set_group_id(partition_index, particle_iter):\n",
    "    part_arr = np.fromiter(particle_iter, pdt)\n",
    "    for i in range(len(part_arr)):\n",
    "        gid = part_arr[i]['iGroup']\n",
    "        part_arr[i]['iGroup'] = spark_fof.encode_gid(partition_index, gid, 16)\n",
    "    return part_arr"
   ]
  },
  {
   "cell_type": "code",
   "execution_count": 47,
   "metadata": {
    "collapsed": false
   },
   "outputs": [],
   "source": [
    "fof_rdd = part_rdd.mapPartitionsWithIndex(lambda index, particles: run_local_fof(index, particles, tau))\\\n",
    "                  .mapPartitionsWithIndex(set_group_id).cache()"
   ]
  },
  {
   "cell_type": "markdown",
   "metadata": {},
   "source": [
    "### Group Merging stage"
   ]
  },
  {
   "cell_type": "code",
   "execution_count": 48,
   "metadata": {
    "collapsed": false
   },
   "outputs": [],
   "source": [
    "fof_analyzer = spark_fof.FOFAnalyzer(sc, N, tau, fof_rdd)"
   ]
  },
  {
   "cell_type": "code",
   "execution_count": 49,
   "metadata": {
    "collapsed": false
   },
   "outputs": [],
   "source": [
    "merged_rdd = fof_analyzer.merge_groups(0)"
   ]
  },
  {
   "cell_type": "code",
   "execution_count": 50,
   "metadata": {
    "collapsed": false
   },
   "outputs": [],
   "source": [
    "merged = merged_rdd.collect()"
   ]
  },
  {
   "cell_type": "code",
   "execution_count": 51,
   "metadata": {
    "collapsed": true
   },
   "outputs": [],
   "source": [
    "merged_arr = np.fromiter(merged, pdt)"
   ]
  },
  {
   "cell_type": "code",
   "execution_count": 52,
   "metadata": {
    "collapsed": false
   },
   "outputs": [],
   "source": [
    "groups = np.unique(merged_arr['iGroup'])"
   ]
  },
  {
   "cell_type": "code",
   "execution_count": 53,
   "metadata": {
    "collapsed": false
   },
   "outputs": [
    {
     "data": {
      "text/plain": [
       "array([ 56033280,  56098816,  56098817,  56164352,  56164353,  57081856,\n",
       "        57147392,  57147393,  57147394,  57212928,  57212929,  59572224,\n",
       "        59637760,  60620800,  60686336,  60686337,  60751872,  60751873,\n",
       "        61669376,  61734912,  61734913,  61800448,  71827456,  72810496,\n",
       "        72810497,  72876032,  72876033,  72941568,  72941569,  73859072,\n",
       "        73859073,  73859074,  73924608,  73924609,  73990144,  73990145,\n",
       "        74907648,  74973184,  75038720,  76414976,  76480512,  77398016,\n",
       "        77398017,  77463552,  77463553,  77529088,  77529089,  78446592,\n",
       "        78446593,  78512128,  78512129,  78577664,  78577665,  89587712,\n",
       "        89653248,  89653249,  89653250,  89718784,  90636288,  90701824,\n",
       "        90701825,  90767360,  91750400,  94240768,  94240769,  94306304,\n",
       "        95223808,  95289344,  95289345,  95354880, 181731328, 182714368,\n",
       "       182779904, 182845440, 183828480, 183894016, 198443008, 198508544,\n",
       "       198508545, 198574080, 198574081, 199491584, 199491585, 199557120,\n",
       "       199557121, 199622656, 199622657, 200540160, 200605696, 200605697,\n",
       "       200671232, 200671233, 207224832, 208273408, 208338944, 215285760,\n",
       "       215285761, 215351296, 216268800, 216334336, 216334337, 216399872,\n",
       "       216399873, 217382912, 217448448, 218431488, 219414528, 219480064,\n",
       "       219480065, 219545600, 220463104, 220528640, 220528641, 220528642,\n",
       "       220594176, 220594177, 221577216, 224002048, 224002049, 224067584,\n",
       "       224067585, 224133120, 224985088, 225050624, 225050625, 225116160,\n",
       "       225116161, 225181696, 226033664, 226099200, 226164736, 235208704,\n",
       "       236126208, 236191744, 236191745, 236191746, 236257280, 236257281,\n",
       "       236322816, 236322817, 237240320, 237240321, 237240322, 237305856,\n",
       "       237305857, 237371392, 237371393, 238288896, 238354432, 240779264,\n",
       "       240779265, 240844800, 240844801, 241762304, 241827840, 241827841,\n",
       "       241893376, 241893377, 241958912, 242876416, 242941952, 253034496,\n",
       "       253100032, 254017536, 254083072, 254148608, 258605056, 258670592], dtype=int32)"
      ]
     },
     "execution_count": 53,
     "metadata": {},
     "output_type": "execute_result"
    }
   ],
   "source": [
    "groups"
   ]
  },
  {
   "cell_type": "code",
   "execution_count": 54,
   "metadata": {
    "collapsed": false
   },
   "outputs": [
    {
     "name": "stdout",
     "output_type": "stream",
     "text": [
      "56033280 1\n",
      "56098816 10\n",
      "56098817 24\n",
      "56164352 7\n",
      "56164353 9\n",
      "57081856 2\n",
      "57147392 14\n",
      "57147393 81\n",
      "57147394 8\n",
      "57212928 14\n",
      "57212929 8\n",
      "59572224 1\n",
      "59637760 3\n",
      "60620800 12\n",
      "60686336 21\n",
      "60686337 113\n",
      "60751872 17\n",
      "60751873 8\n",
      "61669376 4\n",
      "61734912 21\n",
      "61734913 50\n",
      "61800448 15\n",
      "71827456 1\n",
      "72810496 17\n",
      "72810497 9\n",
      "72876032 21\n",
      "72876033 384\n",
      "72941568 12\n",
      "72941569 65\n",
      "73859072 14\n",
      "73859073 16\n",
      "73859074 11\n",
      "73924608 7\n",
      "73924609 942\n",
      "73990144 21\n",
      "73990145 144\n",
      "74907648 1\n",
      "74973184 10\n",
      "75038720 3\n",
      "76414976 12\n",
      "76480512 4\n",
      "77398016 24\n",
      "77398017 9\n",
      "77463552 11\n",
      "77463553 841\n",
      "77529088 16\n",
      "77529089 123\n",
      "78446592 12\n",
      "78446593 15\n",
      "78512128 9\n",
      "78512129 492\n",
      "78577664 18\n",
      "78577665 69\n",
      "89587712 2\n",
      "89653248 16\n",
      "89653249 16\n",
      "89653250 15\n",
      "89718784 6\n",
      "90636288 4\n",
      "90701824 18\n",
      "90701825 57\n",
      "90767360 8\n",
      "91750400 2\n",
      "94240768 21\n",
      "94240769 16\n",
      "94306304 5\n",
      "95223808 1\n",
      "95289344 15\n",
      "95289345 18\n",
      "95354880 4\n",
      "181731328 11\n",
      "182714368 2\n",
      "182779904 36\n",
      "182845440 11\n",
      "183828480 2\n",
      "183894016 1\n",
      "198443008 7\n",
      "198508544 17\n",
      "198508545 123\n",
      "198574080 11\n",
      "198574081 20\n",
      "199491584 36\n",
      "199491585 15\n",
      "199557120 1\n",
      "199557121 1073\n",
      "199622656 18\n",
      "199622657 219\n",
      "200540160 2\n",
      "200605696 26\n",
      "200605697 27\n",
      "200671232 9\n",
      "200671233 12\n",
      "207224832 1\n",
      "208273408 3\n",
      "208338944 1\n",
      "215285760 9\n",
      "215285761 9\n",
      "215351296 11\n",
      "216268800 8\n",
      "216334336 7\n",
      "216334337 204\n",
      "216399872 18\n",
      "216399873 42\n",
      "217382912 12\n",
      "217448448 1\n",
      "218431488 1\n",
      "219414528 16\n",
      "219480064 16\n",
      "219480065 113\n",
      "219545600 10\n",
      "220463104 31\n",
      "220528640 10\n",
      "220528641 226\n",
      "220528642 9\n",
      "220594176 6\n",
      "220594177 10\n",
      "221577216 4\n",
      "224002048 18\n",
      "224002049 113\n",
      "224067584 18\n",
      "224067585 101\n",
      "224133120 1\n",
      "224985088 5\n",
      "225050624 17\n",
      "225050625 432\n",
      "225116160 19\n",
      "225116161 380\n",
      "225181696 2\n",
      "226033664 1\n",
      "226099200 13\n",
      "226164736 9\n",
      "235208704 1\n",
      "236126208 1\n",
      "236191744 11\n",
      "236191745 34\n",
      "236191746 10\n",
      "236257280 13\n",
      "236257281 403\n",
      "236322816 25\n",
      "236322817 12\n",
      "237240320 17\n",
      "237240321 110\n",
      "237240322 8\n",
      "237305856 4\n",
      "237305857 794\n",
      "237371392 13\n",
      "237371393 38\n",
      "238288896 2\n",
      "238354432 15\n",
      "240779264 18\n",
      "240779265 81\n",
      "240844800 9\n",
      "240844801 76\n",
      "241762304 3\n",
      "241827840 11\n",
      "241827841 349\n",
      "241893376 20\n",
      "241893377 275\n",
      "241958912 3\n",
      "242876416 6\n",
      "242941952 12\n",
      "253034496 12\n",
      "253100032 1\n",
      "254017536 2\n",
      "254083072 21\n",
      "254148608 1\n",
      "258605056 1\n",
      "258670592 2\n"
     ]
    },
    {
     "data": {
      "image/png": "[encoded data removed]",
      "text/plain": [
       "<matplotlib.figure.Figure at 0x115f79d50>"
      ]
     },
     "metadata": {},
     "output_type": "display_data"
    }
   ],
   "source": [
    "f, axs = plt.subplots(1,2, subplot_kw={'aspect':'equal'}, figsize=(12,12))\n",
    "for group in groups: \n",
    "    inds = np.where(merged_arr['iGroup'] == group)[0]\n",
    "    print group, len(inds)\n",
    "    axs[0].plot(merged_arr['pos'][inds,1], merged_arr['pos'][inds,0], ',')\n",
    "    axs[1].plot(merged_arr['pos'][inds,2], merged_arr['pos'][inds,0], ',')\n",
    "for ax in axs:\n",
    "    ax.set_xlim(-1,1); ax.set_ylim(-1,1)"
   ]
  },
  {
   "cell_type": "code",
   "execution_count": null,
   "metadata": {
    "collapsed": true
   },
   "outputs": [],
   "source": []
  }
 ],
 "metadata": {
  "kernelspec": {
   "display_name": "Python 2",
   "language": "python",
   "name": "python2"
  },
  "language_info": {
   "codemirror_mode": {
    "name": "ipython",
    "version": 2
   },
   "file_extension": ".py",
   "mimetype": "text/x-python",
   "name": "python",
   "nbconvert_exporter": "python",
   "pygments_lexer": "ipython2",
   "version": "2.7.11"
  }
 },
 "nbformat": 4,
 "nbformat_minor": 0
}
