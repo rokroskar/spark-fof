{
 "cells": [
  {
   "cell_type": "markdown",
   "metadata": {},
   "source": [
    "## Make a simple synthetic dataset to test hierarchical merge in FOF algorithm\n",
    "\n",
    "#### the idea is this: \n",
    "\n",
    "* after the local FOF stage, each partition reports the particles it holds in the overlap region\n",
    "* do a reduceByKey or treeAggregate of some sort to collect the groups belonging to the same particles\n",
    "* produce a mapping of $G -> G_1$ and distribute to all hosts in form of broadcast lookup table"
   ]
  },
  {
   "cell_type": "code",
   "execution_count": 1,
   "metadata": {
    "collapsed": true
   },
   "outputs": [],
   "source": [
    "import numpy as np\n",
    "import matplotlib.pylab as plt\n",
    "%matplotlib inline\n",
    "import sys\n",
    "sys.setrecursionlimit(sys.getrecursionlimit()*10)"
   ]
  },
  {
   "cell_type": "code",
   "execution_count": 2,
   "metadata": {
    "collapsed": true
   },
   "outputs": [],
   "source": [
    "import matplotlib.patches as patches"
   ]
  },
  {
   "cell_type": "code",
   "execution_count": 3,
   "metadata": {
    "collapsed": true
   },
   "outputs": [],
   "source": [
    "from scipy.spatial import Rectangle"
   ]
  },
  {
   "cell_type": "code",
   "execution_count": 206,
   "metadata": {
    "collapsed": false
   },
   "outputs": [],
   "source": [
    "class DomainRectangle(Rectangle):\n",
    "    def __init__(self, mins, maxes, N=None, parent=None,):\n",
    "        self.parent = parent\n",
    "        super(DomainRectangle, self).__init__(mins,maxes)\n",
    "        self.children = []\n",
    "        self.midpoint = self.mins + (self.maxes-self.mins)/2.\n",
    "\n",
    "        if N is None: \n",
    "            self.N = 0\n",
    "        else: \n",
    "            self.N = N\n",
    "        \n",
    "    def __repr__(self):\n",
    "        return \"<DomainRectangle %s>\" % list(zip(self.mins, self.maxes))\n",
    "    \n",
    "    def split(self, d, split, N): \n",
    "        \"\"\"\n",
    "        Produce two hyperrectangles by splitting.\n",
    "        In general, if you need to compute maximum and minimum\n",
    "        distances to the children, it can be done more efficiently\n",
    "        by updating the maximum and minimum distances to the parent.\n",
    "        Parameters\n",
    "        ----------\n",
    "        d : int\n",
    "            Axis to split hyperrectangle along.\n",
    "        split : float\n",
    "            Position along axis `d` to split at.\n",
    "        \"\"\"\n",
    "        mid = np.copy(self.maxes)\n",
    "        mid[d] = split\n",
    "        less = DomainRectangle(self.mins, mid, N=N, parent=self)\n",
    "        mid = np.copy(self.mins)\n",
    "        mid[d] = split\n",
    "        greater = DomainRectangle(mid, self.maxes, N=N, parent=self)\n",
    "\n",
    "        return less, greater\n",
    "    \n",
    "    def split_domain(self, max_N = 1, N=1): \n",
    "        ndim = len(self.maxes)\n",
    "\n",
    "        # Keep splitting until max level is reached \n",
    "        if N <= max_N: \n",
    "            split_point = self.mins + (self.maxes - self.mins)/2\n",
    "            rs = self.split(0,split_point[0],N)\n",
    "\n",
    "            # split along all dimensions\n",
    "            for axis in range(1,ndim):\n",
    "                rs = [r.split(axis,split_point[axis],N) for r in rs]\n",
    "\n",
    "                if isinstance(rs[0], (tuple, list)):\n",
    "                    rs = [item for sublist in rs for item in sublist]\n",
    "\n",
    "            self.children = rs\n",
    "    \n",
    "            res = flatten([r.split_domain(max_N, N+1) for r in rs])\n",
    "\n",
    "            return res\n",
    "\n",
    "        else: \n",
    "            return self\n"
   ]
  },
  {
   "cell_type": "code",
   "execution_count": 207,
   "metadata": {
    "collapsed": true
   },
   "outputs": [],
   "source": [
    "from math import floor, ceil\n",
    "def get_bin(p, nbins, mins, maxs): \n",
    "    px, py = p\n",
    "    minx, miny = mins\n",
    "    maxx, maxy = maxs\n",
    "    dx = (maxx - minx)/float(nbins)\n",
    "    dy = (maxy - miny)/float(nbins)\n",
    "  #  dz = (p_maxs['z'] - p_mins['z'])/float(nbins)\n",
    "    xbin = floor((p[0] - minx)/dx)\n",
    "    ybin = floor((p[1] - miny)/dy)\n",
    " #   zbin = floor((p['z'] + 1)/dz)\n",
    "    return int(xbin + ybin*nbins)# + zbin*nbins*nbins)\n",
    "\n",
    "def flatten(S):\n",
    "    if S == []:\n",
    "        return S\n",
    "    if isinstance(S[0], list):\n",
    "        return flatten(S[0]) + flatten(S[1:])\n",
    "    return S[:1] + flatten(S[1:])\n",
    "\n",
    "\n",
    "def plot_rectangle(rec, ax=None):\n",
    "    if ax is None: \n",
    "        ax = plt.subplot(aspect='equal')\n",
    "    \n",
    "    if isinstance(rec, (list, tuple)):\n",
    "        for r in rec: \n",
    "            plot_rectangle(r,ax)\n",
    "    \n",
    "    else:\n",
    "        size = (rec.maxes-rec.mins)\n",
    "        ax.add_patch(patches.Rectangle(rec.mins, size[0], size[1], fill=False))\n",
    "    \n",
    "    plt.xlim(-1.1,1.1); plt.ylim(-1.1,1.1)\n",
    "    \n",
    "def get_rectangle_bin(rec, mins, maxs, nbins):\n",
    "    # take the midpoint of the rectangle\n",
    "    point = rec.mins + (rec.maxes - rec.mins)/2.\n",
    "    return get_bin(point, nbins, mins, maxs)"
   ]
  },
  {
   "cell_type": "code",
   "execution_count": 219,
   "metadata": {
    "collapsed": false
   },
   "outputs": [],
   "source": [
    "data = np.zeros((20,2))\n",
    "for i in range(10): \n",
    "    data[i] = np.random.rand(2)*2 - 1 "
   ]
  },
  {
   "cell_type": "code",
   "execution_count": 227,
   "metadata": {
    "collapsed": false
   },
   "outputs": [],
   "source": [
    "N=3\n",
    "D = DomainRectangle([1,1], [-1,-1])\n",
    "res = D.split_domain(max_N=N)\n",
    "for r in res: \n",
    "    r.bin = get_rectangle_bin(r, D.mins, D.maxes, 2**N)\n",
    "\n",
    "res.sort(key=lambda x: x.bin)"
   ]
  },
  {
   "cell_type": "code",
   "execution_count": 230,
   "metadata": {
    "collapsed": false
   },
   "outputs": [
    {
     "data": {
      "text/plain": [
       "[<matplotlib.lines.Line2D at 0x116e3c990>]"
      ]
     },
     "execution_count": 230,
     "metadata": {},
     "output_type": "execute_result"
    },
    {
     "data": {
      "image/png": "[encoded data removed]",
      "text/plain": [
       "<matplotlib.figure.Figure at 0x116c69c50>"
      ]
     },
     "metadata": {},
     "output_type": "display_data"
    }
   ],
   "source": [
    "ax = plt.subplot(aspect='equal')\n",
    "# plot_rectangle(D.children,ax)\n",
    "# plot_rectangle(D.children[0].children)\n",
    "# plot_rectangle(D.children[0].children[0].children)\n",
    "for point in data: \n",
    "    plot_rectangle(res[get_bin(point, 2**N, D.mins, D.maxes)])\n",
    "ax.plot(data[:,0], data[:,1], '.')"
   ]
  },
  {
   "cell_type": "code",
   "execution_count": null,
   "metadata": {
    "collapsed": false
   },
   "outputs": [],
   "source": []
  },
  {
   "cell_type": "code",
   "execution_count": null,
   "metadata": {
    "collapsed": true
   },
   "outputs": [],
   "source": []
  }
 ],
 "metadata": {
  "kernelspec": {
   "display_name": "Python 2",
   "language": "python",
   "name": "python2"
  },
  "language_info": {
   "codemirror_mode": {
    "name": "ipython",
    "version": 2
   },
   "file_extension": ".py",
   "mimetype": "text/x-python",
   "name": "python",
   "nbconvert_exporter": "python",
   "pygments_lexer": "ipython2",
   "version": "2.7.11"
  }
 },
 "nbformat": 4,
 "nbformat_minor": 0
}
