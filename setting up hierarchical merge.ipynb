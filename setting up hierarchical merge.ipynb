{
 "cells": [
  {
   "cell_type": "markdown",
   "metadata": {},
   "source": [
    "## Make a simple synthetic dataset to test hierarchical merge in FOF algorithm\n",
    "\n",
    "#### the idea is this: \n",
    "\n",
    "* after the local FOF stage, each partition reports the particles it holds in the overlap region\n",
    "* do a reduceByKey or treeAggregate of some sort to collect the groups belonging to the same particles\n",
    "* produce a mapping of $G -> G_1$ and distribute to all hosts in form of broadcast lookup table"
   ]
  },
  {
   "cell_type": "code",
   "execution_count": 1,
   "metadata": {
    "collapsed": false
   },
   "outputs": [
    {
     "name": "stderr",
     "output_type": "stream",
     "text": [
      "/Users/rokstar/miniconda/lib/python2.7/site-packages/matplotlib/__init__.py:486: UserWarning: matplotlibrc text.usetex option can not be used unless TeX-3.1415 or later is installed on your system\n",
      "  'installed on your system') % tex_req)\n",
      "/Users/rokstar/miniconda/lib/python2.7/site-packages/matplotlib/__init__.py:493: UserWarning: matplotlibrc text.usetex can not be used with *Agg backend unless dvipng-1.5 or later is installed on your system\n",
      "  warnings.warn('matplotlibrc text.usetex can not be used with *Agg '\n",
      "/Users/rokstar/miniconda/lib/python2.7/site-packages/matplotlib/__init__.py:508: UserWarning: matplotlibrc text.usetex can not be used unless ghostscript-7.07 or later is installed on your system\n",
      "  'installed on your system') % gs_req)\n"
     ]
    }
   ],
   "source": [
    "import numpy as np\n",
    "import matplotlib.pylab as plt\n",
    "%matplotlib inline\n",
    "\n",
    "import sys\n",
    "sys.setrecursionlimit(sys.getrecursionlimit()*10)\n",
    "import matplotlib.patches as patches\n",
    "\n",
    "plt.style.use('bmh')"
   ]
  },
  {
   "cell_type": "code",
   "execution_count": 2,
   "metadata": {
    "collapsed": true
   },
   "outputs": [],
   "source": [
    "import spark_fof\n",
    "import spark_fof_c\n",
    "import fof"
   ]
  },
  {
   "cell_type": "code",
   "execution_count": 3,
   "metadata": {
    "collapsed": true
   },
   "outputs": [],
   "source": [
    "def plot_rectangle(rec, ax=None):\n",
    "    if ax is None: \n",
    "        ax = plt.subplot(aspect='equal')\n",
    "    \n",
    "    if isinstance(rec, (list, tuple)):\n",
    "        for r in rec: \n",
    "            plot_rectangle(r,ax)\n",
    "    \n",
    "    else:\n",
    "        size = (rec.maxes-rec.mins)\n",
    "        ax.add_patch(patches.Rectangle(rec.mins, size[0], size[1], fill=False, zorder=-1))"
   ]
  },
  {
   "cell_type": "markdown",
   "metadata": {},
   "source": [
    "## Set up data"
   ]
  },
  {
   "cell_type": "code",
   "execution_count": 4,
   "metadata": {
    "collapsed": false
   },
   "outputs": [],
   "source": [
    "# create the arrays\n",
    "pdt = np.dtype([('pos','f4', 3), ('iGroup', 'i4'), ('iOrder', 'i4')])\n",
    "pdt_tipsy = np.dtype({'names': (\"mass\", \"x\", \"y\", \"z\", \"vx\", \"vy\", \"vz\", \"eps\", \"phi\"),\n",
    "                                  'formats': ('f','f','f','f','f','f','f','f','f')})\n",
    "\n",
    "pdt_tipsy = np.dtype([('mass', 'f4'),('pos', 'f4', 3),('vel', 'f4', 3), ('eps', 'f4'), ('phi', 'f4')])\n",
    "# nps = 1000000\n",
    "# ngs = 1\n",
    "# particles = np.zeros(nps, dtype=pdt)\n",
    "# done_ps = 0\n",
    "# #centers = np.random.rand(ngs,3)*1.7 - 0.85\n",
    "# centers = np.array([0,0,0]).reshape(1,3)\n",
    "# for group, center in zip(range(ngs), centers): \n",
    "#     print group, center\n",
    "#     group_ps = nps/ngs\n",
    "#     if nps - (done_ps + group_ps) < group_ps:\n",
    "#         group_ps = nps - done_ps \n",
    "#     particles['pos'][done_ps:done_ps+group_ps] = \\\n",
    "#         np.random.multivariate_normal(center, [[.5,0,0],[0,.5,0],[0,0,.5]], group_ps)\n",
    "#     done_ps += group_ps\n",
    "   \n",
    "# particles['iOrder'] = range(nps)"
   ]
  },
  {
   "cell_type": "markdown",
   "metadata": {},
   "source": [
    "## Start Spark"
   ]
  },
  {
   "cell_type": "code",
   "execution_count": 5,
   "metadata": {
    "collapsed": true
   },
   "outputs": [],
   "source": [
    "import findspark\n",
    "findspark.init()"
   ]
  },
  {
   "cell_type": "code",
   "execution_count": 6,
   "metadata": {
    "collapsed": true
   },
   "outputs": [],
   "source": [
    "import os\n",
    "os.environ['SPARK_CONF_DIR'] = './conf'\n",
    "os.environ['SPARK_DRIVER_MEMORY'] = '4G'"
   ]
  },
  {
   "cell_type": "code",
   "execution_count": 7,
   "metadata": {
    "collapsed": false
   },
   "outputs": [],
   "source": [
    "import pyspark\n",
    "from pyspark import SparkContext, SparkConf\n",
    "import pynbody"
   ]
  },
  {
   "cell_type": "code",
   "execution_count": 8,
   "metadata": {
    "collapsed": false
   },
   "outputs": [],
   "source": [
    "conf = SparkConf()"
   ]
  },
  {
   "cell_type": "code",
   "execution_count": 9,
   "metadata": {
    "collapsed": false
   },
   "outputs": [
    {
     "data": {
      "text/plain": [
       "<pyspark.conf.SparkConf at 0x112ddf190>"
      ]
     },
     "execution_count": 9,
     "metadata": {},
     "output_type": "execute_result"
    }
   ],
   "source": [
    "conf.set('spark.python.profile', 'true')\n",
    "conf.set('spark.executor.memory', '3G')\n",
    "conf.set('spark.driver.memory', '4G')\n"
   ]
  },
  {
   "cell_type": "code",
   "execution_count": 10,
   "metadata": {
    "collapsed": false
   },
   "outputs": [],
   "source": [
    "sc = SparkContext(master='local[*]', conf=conf, batchSize=0)"
   ]
  },
  {
   "cell_type": "code",
   "execution_count": 11,
   "metadata": {
    "collapsed": false
   },
   "outputs": [],
   "source": [
    "sc.addPyFile('spark_fof.py')\n",
    "sc.addPyFile('spark_util.py')\n",
    "sc.addPyFile('spark_fof_c.pyx')\n",
    "sc.addPyFile('spark_fof_c.c')\n",
    "sc.addPyFile('spark_fof_c.so')\n",
    "sc.addPyFile('fof.so')"
   ]
  },
  {
   "cell_type": "markdown",
   "metadata": {},
   "source": [
    "## Set up the domains"
   ]
  },
  {
   "cell_type": "code",
   "execution_count": 12,
   "metadata": {
    "collapsed": false
   },
   "outputs": [],
   "source": [
    "N = 1\n",
    "tau = 7.8125e-4\n",
    "mins = np.array([-.5,-.5,-.5], dtype=np.float)\n",
    "maxs= np.array([.5,.5,.5], dtype=np.float)\n",
    "domain_containers = spark_fof.setup_domain(N,tau,maxs,mins)"
   ]
  },
  {
   "cell_type": "code",
   "execution_count": 13,
   "metadata": {
    "collapsed": false
   },
   "outputs": [
    {
     "data": {
      "text/plain": [
       "[<DomainRectangle [(-0.5, 0.0), (-0.5, 0.0), (-0.5, 0.0)]>,\n",
       " <DomainRectangle [(0.0, 0.5), (-0.5, 0.0), (-0.5, 0.0)]>,\n",
       " <DomainRectangle [(-0.5, 0.0), (0.0, 0.5), (-0.5, 0.0)]>,\n",
       " <DomainRectangle [(0.0, 0.5), (0.0, 0.5), (-0.5, 0.0)]>,\n",
       " <DomainRectangle [(-0.5, 0.0), (-0.5, 0.0), (0.0, 0.5)]>,\n",
       " <DomainRectangle [(0.0, 0.5), (-0.5, 0.0), (0.0, 0.5)]>,\n",
       " <DomainRectangle [(-0.5, 0.0), (0.0, 0.5), (0.0, 0.5)]>,\n",
       " <DomainRectangle [(0.0, 0.5), (0.0, 0.5), (0.0, 0.5)]>]"
      ]
     },
     "execution_count": 13,
     "metadata": {},
     "output_type": "execute_result"
    }
   ],
   "source": [
    "domain_containers"
   ]
  },
  {
   "cell_type": "code",
   "execution_count": 14,
   "metadata": {
    "collapsed": false
   },
   "outputs": [
    {
     "ename": "NameError",
     "evalue": "name 's' is not defined",
     "output_type": "error",
     "traceback": [
      "\u001b[0;31m---------------------------------------------------------------------------\u001b[0m",
      "\u001b[0;31mNameError\u001b[0m                                 Traceback (most recent call last)",
      "\u001b[0;32m<ipython-input-14-2bc26882c20a>\u001b[0m in \u001b[0;36m<module>\u001b[0;34m()\u001b[0m\n\u001b[1;32m      1\u001b[0m \u001b[0mf\u001b[0m\u001b[0;34m,\u001b[0m \u001b[0max\u001b[0m \u001b[0;34m=\u001b[0m \u001b[0mplt\u001b[0m\u001b[0;34m.\u001b[0m\u001b[0msubplots\u001b[0m\u001b[0;34m(\u001b[0m\u001b[0msubplot_kw\u001b[0m\u001b[0;34m=\u001b[0m\u001b[0;34m{\u001b[0m\u001b[0;34m'aspect'\u001b[0m\u001b[0;34m:\u001b[0m\u001b[0;34m'equal'\u001b[0m\u001b[0;34m}\u001b[0m\u001b[0;34m,\u001b[0m \u001b[0mfigsize\u001b[0m\u001b[0;34m=\u001b[0m\u001b[0;34m(\u001b[0m\u001b[0;36m15\u001b[0m\u001b[0;34m,\u001b[0m\u001b[0;36m15\u001b[0m\u001b[0;34m)\u001b[0m\u001b[0;34m)\u001b[0m\u001b[0;34m\u001b[0m\u001b[0m\n\u001b[0;32m----> 2\u001b[0;31m \u001b[0mpynbody\u001b[0m\u001b[0;34m.\u001b[0m\u001b[0mplot\u001b[0m\u001b[0;34m.\u001b[0m\u001b[0mimage\u001b[0m\u001b[0;34m(\u001b[0m\u001b[0ms\u001b[0m\u001b[0;34m.\u001b[0m\u001b[0md\u001b[0m\u001b[0;34m,\u001b[0m \u001b[0mwidth\u001b[0m\u001b[0;34m=\u001b[0m\u001b[0;36m1\u001b[0m\u001b[0;34m,\u001b[0m \u001b[0munits\u001b[0m \u001b[0;34m=\u001b[0m \u001b[0;34m'Msol Mpc^-2'\u001b[0m\u001b[0;34m,\u001b[0m \u001b[0mcmap\u001b[0m\u001b[0;34m=\u001b[0m\u001b[0mplt\u001b[0m\u001b[0;34m.\u001b[0m\u001b[0mcm\u001b[0m\u001b[0;34m.\u001b[0m\u001b[0mGreys\u001b[0m\u001b[0;34m,\u001b[0m \u001b[0mshow_cbar\u001b[0m\u001b[0;34m=\u001b[0m\u001b[0mFalse\u001b[0m\u001b[0;34m,\u001b[0m \u001b[0msubplot\u001b[0m\u001b[0;34m=\u001b[0m\u001b[0max\u001b[0m\u001b[0;34m)\u001b[0m\u001b[0;34m\u001b[0m\u001b[0m\n\u001b[0m\u001b[1;32m      3\u001b[0m \u001b[0;31m#plot_rectangle(domain_containers[0].bufferRectangle, ax=ax)\u001b[0m\u001b[0;34m\u001b[0m\u001b[0;34m\u001b[0m\u001b[0m\n\u001b[1;32m      4\u001b[0m \u001b[0;32mfor\u001b[0m \u001b[0mp\u001b[0m \u001b[0;32min\u001b[0m \u001b[0mparticles\u001b[0m\u001b[0;34m[\u001b[0m\u001b[0;34m:\u001b[0m\u001b[0;34m:\u001b[0m\u001b[0;36m1000000\u001b[0m\u001b[0;34m]\u001b[0m\u001b[0;34m:\u001b[0m\u001b[0;34m\u001b[0m\u001b[0m\n\u001b[1;32m      5\u001b[0m     \u001b[0mplot_rectangle\u001b[0m\u001b[0;34m(\u001b[0m\u001b[0mdomain_containers\u001b[0m\u001b[0;34m[\u001b[0m\u001b[0mspark_fof\u001b[0m\u001b[0;34m.\u001b[0m\u001b[0mget_bin_cython\u001b[0m\u001b[0;34m(\u001b[0m\u001b[0mp\u001b[0m\u001b[0;34m[\u001b[0m\u001b[0;34m'pos'\u001b[0m\u001b[0;34m]\u001b[0m\u001b[0;34m,\u001b[0m\u001b[0;36m2\u001b[0m\u001b[0;34m**\u001b[0m\u001b[0mN\u001b[0m\u001b[0;34m,\u001b[0m \u001b[0mnp\u001b[0m\u001b[0;34m.\u001b[0m\u001b[0marray\u001b[0m\u001b[0;34m(\u001b[0m\u001b[0mmins\u001b[0m\u001b[0;34m)\u001b[0m\u001b[0;34m,\u001b[0m \u001b[0mnp\u001b[0m\u001b[0;34m.\u001b[0m\u001b[0marray\u001b[0m\u001b[0;34m(\u001b[0m\u001b[0mmaxs\u001b[0m\u001b[0;34m)\u001b[0m\u001b[0;34m)\u001b[0m\u001b[0;34m]\u001b[0m\u001b[0;34m,\u001b[0m \u001b[0max\u001b[0m\u001b[0;34m=\u001b[0m\u001b[0max\u001b[0m\u001b[0;34m)\u001b[0m\u001b[0;34m\u001b[0m\u001b[0m\n",
      "\u001b[0;31mNameError\u001b[0m: name 's' is not defined"
     ]
    },
    {
     "name": "stderr",
     "output_type": "stream",
     "text": [
      "/Users/rokstar/miniconda/lib/python2.7/site-packages/matplotlib/font_manager.py:1288: UserWarning: findfont: Font family [u'serif'] not found. Falling back to Bitstream Vera Sans\n",
      "  (prop.get_family(), self.defaultFamily[fontext]))\n"
     ]
    },
    {
     "data": {
      "image/png": "[encoded data removed]",
      "text/plain": [
       "<matplotlib.figure.Figure at 0x112eadf50>"
      ]
     },
     "metadata": {},
     "output_type": "display_data"
    }
   ],
   "source": [
    "f, ax = plt.subplots(subplot_kw={'aspect':'equal'}, figsize=(15,15))\n",
    "pynbody.plot.image(s.d, width=1, units = 'Msol Mpc^-2', cmap=plt.cm.Greys, show_cbar=False, subplot=ax)\n",
    "#plot_rectangle(domain_containers[0].bufferRectangle, ax=ax)\n",
    "for p in particles[::1000000]: \n",
    "    plot_rectangle(domain_containers[spark_fof.get_bin_cython(p['pos'],2**N, np.array(mins), np.array(maxs))], ax=ax)\n",
    "    plot_rectangle(domain_containers[spark_fof.get_bin_cython(p['pos'], 2**N, np.array(mins),np.array(maxs))].bufferRectangle, ax=ax)\n",
    "    ax.plot(p['pos'][0], p['pos'][1], '.')\n",
    "plt.draw()\n",
    "ax.set_xlim(-.5,.5)\n",
    "ax.set_ylim(-.5,.5)"
   ]
  },
  {
   "cell_type": "markdown",
   "metadata": {},
   "source": [
    "### Make the base RDD"
   ]
  },
  {
   "cell_type": "code",
   "execution_count": 15,
   "metadata": {
    "collapsed": true
   },
   "outputs": [],
   "source": [
    "def convert_to_fof_particle(s): \n",
    "    p_arr = np.fromstring(s, pdt_tipsy)\n",
    "    \n",
    "    new_arr = np.zeros(len(p_arr), dtype=pdt)\n",
    "    new_arr['pos'] = p_arr['pos']\n",
    "    \n",
    "    return new_arr"
   ]
  },
  {
   "cell_type": "code",
   "execution_count": 16,
   "metadata": {
    "collapsed": true
   },
   "outputs": [],
   "source": [
    "def set_particle_IDs((p,i)): \n",
    "    p['iOrder'] = i\n",
    "    return p"
   ]
  },
  {
   "cell_type": "code",
   "execution_count": 26,
   "metadata": {
    "collapsed": false
   },
   "outputs": [],
   "source": [
    "p_rdd = sc.binaryRecords('euclid256.nat_no_header', pdt_tipsy.itemsize*2048)\\\n",
    "          .flatMap(convert_to_fof_particle).zipWithIndex().map(set_particle_IDs)"
   ]
  },
  {
   "cell_type": "code",
   "execution_count": 27,
   "metadata": {
    "collapsed": false
   },
   "outputs": [
    {
     "name": "stdout",
     "output_type": "stream",
     "text": [
      "CPU times: user 26.1 ms, sys: 3.79 ms, total: 29.9 ms\n",
      "Wall time: 19.2 s\n"
     ]
    },
    {
     "data": {
      "text/plain": [
       "16777216"
      ]
     },
     "execution_count": 27,
     "metadata": {},
     "output_type": "execute_result"
    }
   ],
   "source": [
    "%time p_rdd.count()"
   ]
  },
  {
   "cell_type": "code",
   "execution_count": 28,
   "metadata": {
    "collapsed": false
   },
   "outputs": [
    {
     "name": "stdout",
     "output_type": "stream",
     "text": [
      "============================================================\n",
      "Profile of RDD<id=12>\n",
      "============================================================\n",
      "         16875952 function calls in 12.427 seconds\n",
      "\n",
      "   Ordered by: internal time, cumulative time\n",
      "\n",
      "   ncalls  tottime  percall  cumtime  percall filename:lineno(function)\n",
      " 16777234    8.065    0.000    9.145    0.000 rdd.py:2080(<genexpr>)\n",
      "       18    3.279    0.182   12.424    0.690 {sum}\n",
      "    16402    0.492    0.000    0.492    0.000 {method 'read' of 'file' objects}\n",
      "     8192    0.315    0.000    0.473    0.000 <ipython-input-15-1d6e4fba05cc>:1(convert_to_fof_particle)\n",
      "     8192    0.088    0.000    0.088    0.000 {numpy.core.multiarray.fromstring}\n",
      "     8192    0.068    0.000    0.068    0.000 {numpy.core.multiarray.zeros}\n",
      "     8210    0.050    0.000    0.585    0.000 serializers.py:155(_read_with_length)\n",
      "     8210    0.028    0.000    0.089    0.000 serializers.py:542(read_int)\n",
      "     8210    0.023    0.000    0.608    0.000 serializers.py:136(load_stream)\n",
      "     8210    0.008    0.000    0.008    0.000 {_struct.unpack}\n",
      "    16420    0.005    0.000    0.005    0.000 {len}\n",
      "     8192    0.004    0.000    0.004    0.000 serializers.py:332(loads)\n",
      "       18    0.001    0.000    0.001    0.000 serializers.py:414(dumps)\n",
      "       18    0.001    0.000    0.002    0.000 serializers.py:259(dump_stream)\n",
      "       18    0.000    0.000   12.427    0.690 worker.py:104(process)\n",
      "       18    0.000    0.000    0.000    0.000 {cPickle.dumps}\n",
      "       18    0.000    0.000    0.000    0.000 rdd.py:303(func)\n",
      "       18    0.000    0.000    0.000    0.000 serializers.py:549(write_int)\n",
      "       36    0.000    0.000    0.000    0.000 {method 'write' of 'file' objects}\n",
      "       18    0.000    0.000   12.424    0.690 rdd.py:2080(<lambda>)\n",
      "       18    0.000    0.000   12.424    0.690 rdd.py:2345(pipeline_func)\n",
      "       18    0.000    0.000   12.424    0.690 rdd.py:316(func)\n",
      "       18    0.000    0.000    0.000    0.000 {_struct.pack}\n",
      "       18    0.000    0.000    0.000    0.000 {built-in method from_iterable}\n",
      "       18    0.000    0.000    0.000    0.000 {iter}\n",
      "       18    0.000    0.000    0.000    0.000 {method 'disable' of '_lsprof.Profiler' objects}\n",
      "\n",
      "\n",
      "============================================================\n",
      "Profile of RDD<id=13>\n",
      "============================================================\n",
      "         50430618 function calls (50430546 primitive calls) in 71.456 seconds\n",
      "\n",
      "   Ordered by: internal time, cumulative time\n",
      "\n",
      "   ncalls  tottime  percall  cumtime  percall filename:lineno(function)\n",
      " 16777216   34.169    0.000   34.169    0.000 <ipython-input-16-ca5787da3fcb>:1(set_particle_IDs)\n",
      " 16777234   19.295    0.000   67.545    0.000 rdd.py:1004(<genexpr>)\n",
      " 16777234   12.974    0.000   14.081    0.000 rdd.py:2084(func)\n",
      "       36    3.909    0.109   71.454    1.985 {sum}\n",
      "    16402    0.465    0.000    0.465    0.000 {method 'read' of 'file' objects}\n",
      "     8192    0.340    0.000    0.504    0.000 <ipython-input-15-1d6e4fba05cc>:1(convert_to_fof_particle)\n",
      "     8192    0.093    0.000    0.093    0.000 {numpy.core.multiarray.fromstring}\n",
      "     8192    0.069    0.000    0.069    0.000 {numpy.core.multiarray.zeros}\n",
      "     8210    0.055    0.000    0.575    0.000 serializers.py:155(_read_with_length)\n",
      "     8210    0.038    0.000    0.074    0.000 serializers.py:542(read_int)\n",
      "     8210    0.028    0.000    0.603    0.000 serializers.py:136(load_stream)\n",
      "     8210    0.009    0.000    0.009    0.000 {_struct.unpack}\n",
      "    16420    0.006    0.000    0.006    0.000 {len}\n",
      "     8192    0.004    0.000    0.004    0.000 serializers.py:332(loads)\n",
      "       18    0.001    0.000    0.001    0.000 serializers.py:259(dump_stream)\n",
      "    90/18    0.000    0.000   71.455    3.970 rdd.py:2345(pipeline_func)\n",
      "       18    0.000    0.000    0.000    0.000 {cPickle.dumps}\n",
      "       18    0.000    0.000   71.456    3.970 worker.py:104(process)\n",
      "       18    0.000    0.000    0.000    0.000 serializers.py:549(write_int)\n",
      "       54    0.000    0.000   71.454    1.323 rdd.py:316(func)\n",
      "       36    0.000    0.000    0.000    0.000 {method 'write' of 'file' objects}\n",
      "       18    0.000    0.000    0.000    0.000 rdd.py:303(func)\n",
      "       36    0.000    0.000    0.000    0.000 rdd.py:861(func)\n",
      "       18    0.000    0.000   71.454    3.970 rdd.py:1004(<lambda>)\n",
      "       18    0.000    0.000    0.000    0.000 serializers.py:414(dumps)\n",
      "       18    0.000    0.000    0.000    0.000 rdd.py:995(<lambda>)\n",
      "       18    0.000    0.000    0.000    0.000 {_struct.pack}\n",
      "       18    0.000    0.000    0.000    0.000 {operator.add}\n",
      "       18    0.000    0.000    0.000    0.000 rdd.py:288(func)\n",
      "       18    0.000    0.000    0.000    0.000 {iter}\n",
      "       18    0.000    0.000    0.000    0.000 {built-in method from_iterable}\n",
      "       18    0.000    0.000    0.000    0.000 {method 'disable' of '_lsprof.Profiler' objects}\n",
      "\n",
      "\n"
     ]
    }
   ],
   "source": [
    "sc.show_profiles()"
   ]
  },
  {
   "cell_type": "code",
   "execution_count": null,
   "metadata": {
    "collapsed": true
   },
   "outputs": [],
   "source": [
    "ps = p_rdd.collect()"
   ]
  },
  {
   "cell_type": "code",
   "execution_count": null,
   "metadata": {
    "collapsed": true
   },
   "outputs": [],
   "source": [
    "particles = np.from"
   ]
  },
  {
   "cell_type": "code",
   "execution_count": 19,
   "metadata": {
    "collapsed": false
   },
   "outputs": [
    {
     "data": {
      "text/plain": [
       "7251094"
      ]
     },
     "execution_count": 19,
     "metadata": {},
     "output_type": "execute_result"
    }
   ],
   "source": [
    "fof.run(np.fromiter(ps,pdt), tau)"
   ]
  },
  {
   "cell_type": "code",
   "execution_count": 33,
   "metadata": {
    "collapsed": false
   },
   "outputs": [
    {
     "name": "stdout",
     "output_type": "stream",
     "text": [
      "CPU times: user 20 ms, sys: 3.37 ms, total: 23.3 ms\n",
      "Wall time: 4.54 s\n"
     ]
    },
    {
     "data": {
      "text/plain": [
       "16777216"
      ]
     },
     "execution_count": 33,
     "metadata": {},
     "output_type": "execute_result"
    }
   ],
   "source": [
    "%time p_rdd.count()"
   ]
  },
  {
   "cell_type": "markdown",
   "metadata": {},
   "source": [
    "### Partition particles into domains and set the partition part of local group ID"
   ]
  },
  {
   "cell_type": "code",
   "execution_count": 21,
   "metadata": {
    "collapsed": false
   },
   "outputs": [
    {
     "data": {
      "text/plain": [
       "16806108"
      ]
     },
     "execution_count": 21,
     "metadata": {},
     "output_type": "execute_result"
    }
   ],
   "source": [
    "p_rdd.mapPartitions(lambda particles: spark_fof.partition_particles_cython(particles, domain_containers, tau, mins, maxs)).count()"
   ]
  },
  {
   "cell_type": "code",
   "execution_count": 22,
   "metadata": {
    "collapsed": false
   },
   "outputs": [
    {
     "name": "stdout",
     "output_type": "stream",
     "text": [
      "============================================================\n",
      "Profile of RDD<id=2>\n",
      "============================================================\n",
      "         16974256 function calls in 12.994 seconds\n",
      "\n",
      "   Ordered by: internal time, cumulative time\n",
      "\n",
      "   ncalls  tottime  percall  cumtime  percall filename:lineno(function)\n",
      " 16777234    8.358    0.000    9.646    0.000 rdd.py:2080(<genexpr>)\n",
      "       18    3.346    0.186   12.992    0.722 {sum}\n",
      "    32786    0.565    0.000    0.565    0.000 {method 'read' of 'file' objects}\n",
      "    16384    0.343    0.000    0.538    0.000 <ipython-input-14-1d6e4fba05cc>:1(convert_to_fof_particle)\n",
      "    16384    0.103    0.000    0.103    0.000 {numpy.core.multiarray.zeros}\n",
      "    16384    0.088    0.000    0.088    0.000 {numpy.core.multiarray.fromstring}\n",
      "    16402    0.079    0.000    0.713    0.000 serializers.py:155(_read_with_length)\n",
      "    16402    0.044    0.000    0.091    0.000 serializers.py:542(read_int)\n",
      "    16402    0.037    0.000    0.750    0.000 serializers.py:136(load_stream)\n",
      "    16402    0.014    0.000    0.014    0.000 {_struct.unpack}\n",
      "    32804    0.009    0.000    0.009    0.000 {len}\n",
      "    16384    0.006    0.000    0.006    0.000 serializers.py:332(loads)\n",
      "       18    0.001    0.000    0.001    0.000 serializers.py:259(dump_stream)\n",
      "       18    0.000    0.000   12.994    0.722 worker.py:104(process)\n",
      "       18    0.000    0.000    0.000    0.000 {cPickle.dumps}\n",
      "       18    0.000    0.000    0.000    0.000 rdd.py:303(func)\n",
      "       18    0.000    0.000    0.000    0.000 serializers.py:549(write_int)\n",
      "       18    0.000    0.000   12.992    0.722 rdd.py:2080(<lambda>)\n",
      "       18    0.000    0.000   12.993    0.722 rdd.py:2345(pipeline_func)\n",
      "       18    0.000    0.000    0.000    0.000 serializers.py:414(dumps)\n",
      "       18    0.000    0.000   12.993    0.722 rdd.py:316(func)\n",
      "       36    0.000    0.000    0.000    0.000 {method 'write' of 'file' objects}\n",
      "       18    0.000    0.000    0.000    0.000 {_struct.pack}\n",
      "       18    0.000    0.000    0.000    0.000 {iter}\n",
      "       18    0.000    0.000    0.000    0.000 {built-in method from_iterable}\n",
      "       18    0.000    0.000    0.000    0.000 {method 'disable' of '_lsprof.Profiler' objects}\n",
      "\n",
      "\n",
      "============================================================\n",
      "Profile of RDD<id=3>\n",
      "============================================================\n",
      "         33818430 function calls (33818412 primitive calls) in 202.593 seconds\n",
      "\n",
      "   Ordered by: internal time, cumulative time\n",
      "\n",
      "   ncalls  tottime  percall  cumtime  percall filename:lineno(function)\n",
      "     8390  138.655    0.017  138.655    0.017 {cPickle.dumps}\n",
      " 16777216   34.610    0.000   34.610    0.000 <ipython-input-15-ca5787da3fcb>:1(set_particle_IDs)\n",
      "       18   13.564    0.754  202.592   11.255 serializers.py:259(dump_stream)\n",
      " 16777234   12.873    0.000   14.491    0.000 rdd.py:2084(func)\n",
      "    16780    1.155    0.000    1.155    0.000 {method 'write' of 'file' objects}\n",
      "    32786    0.510    0.000    0.510    0.000 {method 'read' of 'file' objects}\n",
      "    16384    0.413    0.000    0.669    0.000 <ipython-input-14-1d6e4fba05cc>:1(convert_to_fof_particle)\n",
      "    16402    0.251    0.000    0.867    0.000 serializers.py:155(_read_with_length)\n",
      "    16384    0.148    0.000    0.148    0.000 {numpy.core.multiarray.zeros}\n",
      "    16384    0.103    0.000    0.103    0.000 {numpy.core.multiarray.fromstring}\n",
      "    16402    0.081    0.000    0.948    0.000 serializers.py:136(load_stream)\n",
      "    16402    0.071    0.000    0.138    0.000 serializers.py:542(read_int)\n",
      "     8390    0.040    0.000  138.695    0.017 serializers.py:414(dumps)\n",
      "     8390    0.037    0.000    0.117    0.000 serializers.py:549(write_int)\n",
      "     8390    0.032    0.000    0.032    0.000 {_struct.pack}\n",
      "    16402    0.022    0.000    0.022    0.000 {_struct.unpack}\n",
      "    49548    0.018    0.000    0.018    0.000 {len}\n",
      "    16384    0.007    0.000    0.007    0.000 serializers.py:332(loads)\n",
      "    36/18    0.000    0.000    0.001    0.000 rdd.py:2345(pipeline_func)\n",
      "       18    0.000    0.000  202.593   11.255 worker.py:104(process)\n",
      "       18    0.000    0.000    0.000    0.000 rdd.py:303(func)\n",
      "       18    0.000    0.000    0.000    0.000 rdd.py:288(func)\n",
      "       18    0.000    0.000    0.000    0.000 {method 'disable' of '_lsprof.Profiler' objects}\n",
      "       18    0.000    0.000    0.000    0.000 {iter}\n",
      "       18    0.000    0.000    0.000    0.000 {built-in method from_iterable}\n",
      "\n",
      "\n",
      "============================================================\n",
      "Profile of RDD<id=4>\n",
      "============================================================\n",
      "         118276232 function calls (118276124 primitive calls) in 490.774 seconds\n",
      "\n",
      "   Ordered by: internal time, cumulative time\n",
      "\n",
      "   ncalls  tottime  percall  cumtime  percall filename:lineno(function)\n",
      " 16777216  130.844    0.000  261.289    0.000 spark_fof_c.pyx:53(rect_buffer_zone_cython)\n",
      " 33554432  130.445    0.000  130.445    0.000 spark_fof_c.pyx:104(in_rectangle_cython)\n",
      " 16806126   93.510    0.000  485.925    0.000 rdd.py:1004(<genexpr>)\n",
      " 17234314   69.121    0.000   69.121    0.000 spark_fof_c.pyx:19(get_bin_cython)\n",
      " 16777216   43.044    0.000   43.044    0.000 <ipython-input-15-ca5787da3fcb>:1(set_particle_IDs)\n",
      " 16777234   16.589    0.000   18.417    0.000 rdd.py:2084(func)\n",
      "       36    4.835    0.134  490.760   13.632 {sum}\n",
      "    32786    0.682    0.000    0.682    0.000 {method 'read' of 'file' objects}\n",
      "    16384    0.574    0.000    0.858    0.000 <ipython-input-14-1d6e4fba05cc>:1(convert_to_fof_particle)\n",
      "    76183    0.384    0.000    0.384    0.000 {numpy.core.multiarray.array}\n",
      "    16384    0.165    0.000    0.165    0.000 {numpy.core.multiarray.zeros}\n",
      "    76183    0.161    0.000    0.545    0.000 function_base.py:1253(copy)\n",
      "    16402    0.119    0.000    0.912    0.000 serializers.py:155(_read_with_length)\n",
      "    16384    0.115    0.000    0.115    0.000 {numpy.core.multiarray.fromstring}\n",
      "    16402    0.074    0.000    0.165    0.000 serializers.py:542(read_int)\n",
      "    16402    0.058    0.000    0.970    0.000 serializers.py:136(load_stream)\n",
      "    16402    0.022    0.000    0.022    0.000 {_struct.unpack}\n",
      "    32804    0.011    0.000    0.011    0.000 {len}\n",
      "    16384    0.009    0.000    0.009    0.000 serializers.py:332(loads)\n",
      "   108/18    0.006    0.000  490.772   27.265 rdd.py:2345(pipeline_func)\n",
      "       72    0.005    0.000  490.766    6.816 rdd.py:316(func)\n",
      "       18    0.001    0.000    0.002    0.000 serializers.py:259(dump_stream)\n",
      "    36/18    0.000    0.000  490.774   27.265 worker.py:104(process)\n",
      "       18    0.000    0.000    0.000    0.000 serializers.py:549(write_int)\n",
      "       18    0.000    0.000    0.000    0.000 {cPickle.dumps}\n",
      "       36    0.000    0.000    0.000    0.000 {method 'write' of 'file' objects}\n",
      "       18    0.000    0.000  490.761   27.264 rdd.py:1004(<lambda>)\n",
      "       36    0.000    0.000    0.000    0.000 rdd.py:861(func)\n",
      "       18    0.000    0.000    0.000    0.000 rdd.py:303(func)\n",
      "       18    0.000    0.000    0.000    0.000 serializers.py:414(dumps)\n",
      "       18    0.000    0.000    0.000    0.000 <ipython-input-21-1bd9d02b532c>:1(<lambda>)\n",
      "       18    0.000    0.000    0.000    0.000 {_struct.pack}\n",
      "       18    0.000    0.000    0.000    0.000 rdd.py:995(<lambda>)\n",
      "       18    0.000    0.000    0.000    0.000 {operator.add}\n",
      "       18    0.000    0.000    0.000    0.000 rdd.py:288(func)\n",
      "       18    0.000    0.000    0.000    0.000 {iter}\n",
      "       18    0.000    0.000    0.000    0.000 {spark_fof_c.partition_particles_cython}\n",
      "       18    0.000    0.000    0.000    0.000 {built-in method from_iterable}\n",
      "       18    0.000    0.000    0.000    0.000 {method 'disable' of '_lsprof.Profiler' objects}\n",
      "\n",
      "\n"
     ]
    }
   ],
   "source": [
    "sc.show_profiles()"
   ]
  },
  {
   "cell_type": "code",
   "execution_count": 41,
   "metadata": {
    "collapsed": false
   },
   "outputs": [],
   "source": [
    "# partitioning duplicates the particles that are located in the boundary regions\n",
    "part_rdd = (p_rdd.mapPartitions(lambda particles: spark_fof.partition_particles_cython(particles, domain_containers, tau, mins, maxs))\n",
    "                 .partitionBy(len(domain_containers))\n",
    "                 .values())"
   ]
  },
  {
   "cell_type": "code",
   "execution_count": 42,
   "metadata": {
    "collapsed": false
   },
   "outputs": [
    {
     "name": "stdout",
     "output_type": "stream",
     "text": [
      "CPU times: user 465 ms, sys: 47.7 ms, total: 513 ms\n",
      "Wall time: 4min 1s\n"
     ]
    },
    {
     "data": {
      "text/plain": [
       "17053662"
      ]
     },
     "execution_count": 42,
     "metadata": {},
     "output_type": "execute_result"
    }
   ],
   "source": [
    "%time part_rdd.count()"
   ]
  },
  {
   "cell_type": "code",
   "execution_count": null,
   "metadata": {
    "collapsed": true
   },
   "outputs": [],
   "source": []
  },
  {
   "cell_type": "code",
   "execution_count": 43,
   "metadata": {
    "collapsed": false
   },
   "outputs": [
    {
     "name": "stdout",
     "output_type": "stream",
     "text": [
      "============================================================\n",
      "Profile of RDD<id=34>\n",
      "============================================================\n",
      "         171751637 function calls (171751565 primitive calls) in 802.075 seconds\n",
      "\n",
      "   Ordered by: internal time, cumulative time\n",
      "\n",
      "   ncalls  tottime  percall  cumtime  percall filename:lineno(function)\n",
      "     2656  194.103    0.073  194.103    0.073 {cPickle.dumps}\n",
      "     5330  153.610    0.029  800.167    0.150 rdd.py:1697(add_shuffle_key)\n",
      " 16777216  134.370    0.000  267.832    0.000 spark_fof_c.pyx:53(rect_buffer_zone_cython)\n",
      " 33554432  133.463    0.000  133.463    0.000 spark_fof_c.pyx:104(in_rectangle_cython)\n",
      " 18624424   77.637    0.000   77.637    0.000 spark_fof_c.pyx:19(get_bin_cython)\n",
      " 16777216   37.908    0.000   37.908    0.000 <ipython-input-14-ca5787da3fcb>:1(set_particle_IDs)\n",
      " 17053662   33.047    0.000   47.134    0.000 rdd.py:61(portable_hash)\n",
      " 16777234   14.425    0.000   16.325    0.000 rdd.py:2084(func)\n",
      " 17053666   10.956    0.000   10.956    0.000 {isinstance}\n",
      " 17053662    3.131    0.000    3.131    0.000 {hash}\n",
      " 17053662    3.041    0.000    3.041    0.000 {method 'append' of 'list' objects}\n",
      "    10624    1.555    0.000    1.555    0.000 {method 'write' of 'file' objects}\n",
      "   307868    1.237    0.000    1.237    0.000 {numpy.core.multiarray.array}\n",
      "    32786    0.815    0.000    0.815    0.000 {method 'read' of 'file' objects}\n",
      "   307868    0.560    0.000    1.797    0.000 function_base.py:1253(copy)\n",
      "    16384    0.507    0.000    0.770    0.000 <ipython-input-13-1d6e4fba05cc>:1(convert_to_fof_particle)\n",
      "       18    0.271    0.015  802.073   44.560 serializers.py:132(dump_stream)\n",
      "    16921    0.203    0.000    0.753    0.000 shuffle.py:37(get_used_memory)\n",
      "    16921    0.180    0.000    0.180    0.000 {psutil._psutil_osx.proc_memory_info}\n",
      "    16384    0.144    0.000    0.144    0.000 {numpy.core.multiarray.zeros}\n",
      "    16921    0.138    0.000    0.396    0.000 _psosx.py:266(memory_info)\n",
      "    16402    0.128    0.000    1.064    0.000 serializers.py:155(_read_with_length)\n",
      "    16384    0.113    0.000    0.113    0.000 {numpy.core.multiarray.fromstring}\n",
      "    16402    0.085    0.000    0.181    0.000 serializers.py:542(read_int)\n",
      "    16921    0.070    0.000    0.508    0.000 __init__.py:923(memory_info)\n",
      "    16402    0.066    0.000    1.130    0.000 serializers.py:136(load_stream)\n",
      "    16925    0.042    0.000    0.438    0.000 _psosx.py:195(wrapper)\n",
      "    16921    0.041    0.000    0.078    0.000 <string>:8(__new__)\n",
      "     5312    0.040    0.000    1.635    0.000 serializers.py:143(_write_with_length)\n",
      "    16921    0.036    0.000    0.036    0.000 {built-in method __new__ of type object at 0x100160d60}\n",
      "    16921    0.022    0.000    0.022    0.000 {hasattr}\n",
      "    16402    0.021    0.000    0.021    0.000 {_struct.unpack}\n",
      "     7968    0.021    0.000    0.021    0.000 {_struct.pack}\n",
      "     5312    0.020    0.000    0.060    0.000 serializers.py:549(write_int)\n",
      "    16921    0.020    0.000    0.020    0.000 {posix.getpid}\n",
      "    46090    0.019    0.000    0.019    0.000 {len}\n",
      "     2656    0.010    0.000  194.112    0.073 serializers.py:414(dumps)\n",
      "    16384    0.008    0.000    0.008    0.000 serializers.py:332(loads)\n",
      "     2656    0.007    0.000    0.015    0.000 serializers.py:538(pack_long)\n",
      "     5312    0.002    0.000    0.002    0.000 serializers.py:335(dumps)\n",
      "    36/18    0.002    0.000  802.075   44.560 worker.py:104(process)\n",
      "        4    0.000    0.000    0.001    0.000 __init__.py:336(_init)\n",
      "      272    0.000    0.000    0.000    0.000 {method 'keys' of 'dict' objects}\n",
      "       18    0.000    0.000    0.000    0.000 rdd.py:303(func)\n",
      "    72/18    0.000    0.000    0.001    0.000 rdd.py:2345(pipeline_func)\n",
      "        4    0.000    0.000    0.000    0.000 {psutil._psutil_osx.proc_create_time}\n",
      "        4    0.000    0.000    0.000    0.000 _psosx.py:281(create_time)\n",
      "       18    0.000    0.000    0.000    0.000 rdd.py:316(func)\n",
      "       18    0.000    0.000    0.000    0.000 <ipython-input-41-73a4d402eb4c>:2(<lambda>)\n",
      "        4    0.000    0.000    0.000    0.000 _psosx.py:220(__init__)\n",
      "       18    0.000    0.000    0.000    0.000 {method 'items' of 'dict' objects}\n",
      "        4    0.000    0.000    0.001    0.000 __init__.py:333(__init__)\n",
      "        4    0.000    0.000    0.000    0.000 __init__.py:607(create_time)\n",
      "       18    0.000    0.000    0.000    0.000 {min}\n",
      "       18    0.000    0.000    0.000    0.000 {spark_fof_c.partition_particles_cython}\n",
      "       18    0.000    0.000    0.000    0.000 rdd.py:288(func)\n",
      "       18    0.000    0.000    0.000    0.000 {built-in method from_iterable}\n",
      "       18    0.000    0.000    0.000    0.000 {method 'disable' of '_lsprof.Profiler' objects}\n",
      "        4    0.000    0.000    0.000    0.000 __init__.py:495(pid)\n",
      "\n",
      "\n",
      "============================================================\n",
      "Profile of RDD<id=38>\n",
      "============================================================\n",
      "         34149148 function calls (34148124 primitive calls) in 63.979 seconds\n",
      "\n",
      "   Ordered by: internal time, cumulative time\n",
      "\n",
      "   ncalls  tottime  percall  cumtime  percall filename:lineno(function)\n",
      "     2656   32.561    0.012   32.561    0.012 {cPickle.loads}\n",
      " 17054174   19.986    0.000   60.303    0.000 rdd.py:1004(<genexpr>)\n",
      " 17053662    6.770    0.000    6.770    0.000 rdd.py:1540(<lambda>)\n",
      "     1024    3.613    0.004   63.916    0.062 {sum}\n",
      "     5824    0.783    0.000    0.783    0.000 {method 'read' of 'file' objects}\n",
      "     3168    0.101    0.000   33.546    0.011 serializers.py:136(load_stream)\n",
      "     3168    0.050    0.000   33.445    0.011 serializers.py:155(_read_with_length)\n",
      "     3168    0.024    0.000    0.058    0.000 serializers.py:542(read_int)\n",
      "      512    0.019    0.000    0.037    0.000 serializers.py:259(dump_stream)\n",
      "     2656    0.019    0.000   32.580    0.012 serializers.py:421(loads)\n",
      "      512    0.008    0.000   63.979    0.125 worker.py:104(process)\n",
      "     3168    0.006    0.000    0.006    0.000 {_struct.unpack}\n",
      " 1536/512    0.005    0.000   63.929    0.125 rdd.py:2345(pipeline_func)\n",
      "      512    0.005    0.000    0.005    0.000 {cPickle.dumps}\n",
      "      512    0.004    0.000    0.008    0.000 serializers.py:549(write_int)\n",
      "      512    0.003    0.000    0.005    0.000 serializers.py:217(load_stream)\n",
      "     1024    0.003    0.000    0.003    0.000 {method 'write' of 'file' objects}\n",
      "     1536    0.003    0.000   63.923    0.042 rdd.py:316(func)\n",
      "      512    0.003    0.000   63.918    0.125 rdd.py:1004(<lambda>)\n",
      "     1024    0.002    0.000    0.003    0.000 rdd.py:861(func)\n",
      "      512    0.002    0.000    0.007    0.000 serializers.py:414(dumps)\n",
      "     3680    0.002    0.000    0.002    0.000 {len}\n",
      "      512    0.001    0.000    0.001    0.000 {_struct.pack}\n",
      "      512    0.001    0.000    0.001    0.000 serializers.py:220(_load_stream_without_unbatching)\n",
      "      512    0.001    0.000    0.002    0.000 rdd.py:995(<lambda>)\n",
      "      512    0.001    0.000    0.001    0.000 rdd.py:288(func)\n",
      "      512    0.001    0.000    0.001    0.000 {operator.add}\n",
      "      512    0.000    0.000    0.000    0.000 {built-in method from_iterable}\n",
      "      512    0.000    0.000    0.000    0.000 {iter}\n",
      "      512    0.000    0.000    0.000    0.000 {method 'disable' of '_lsprof.Profiler' objects}\n",
      "\n",
      "\n"
     ]
    }
   ],
   "source": [
    "sc.show_profiles()"
   ]
  },
  {
   "cell_type": "markdown",
   "metadata": {},
   "source": [
    "### Run the local FOF"
   ]
  },
  {
   "cell_type": "code",
   "execution_count": 93,
   "metadata": {
    "collapsed": true
   },
   "outputs": [],
   "source": [
    "from spark_util import spark_cython"
   ]
  },
  {
   "cell_type": "code",
   "execution_count": 94,
   "metadata": {
    "collapsed": true
   },
   "outputs": [],
   "source": [
    "import fof"
   ]
  },
  {
   "cell_type": "code",
   "execution_count": 95,
   "metadata": {
    "collapsed": true
   },
   "outputs": [],
   "source": [
    "def run_local_fof(index, particle_iter, tau): \n",
    "    part_arr = np.fromiter(particle_iter, pdt)\n",
    "    if len(part_arr)>0:\n",
    "        fof.run(part_arr, tau)\n",
    "    return part_arr\n",
    "\n",
    "def encode_gid(pid, cid, bits=32):\n",
    "    if bits == 32: \n",
    "        res = np.int64(int(np.binary_repr(pid,width=32)+np.binary_repr(cid,width=32),2))\n",
    "    elif bits == 16:\n",
    "        res = np.int32(int(np.binary_repr(pid,width=16)+np.binary_repr(cid,width=16),2))\n",
    "    else: \n",
    "        raise RuntimeError('Group encoding must use either 16 or 32 bit integers')\n",
    "    return res\n",
    "\n",
    "def set_group_id(partition_index, particle_iter):\n",
    "    part_arr = np.fromiter(particle_iter, pdt)\n",
    "    for i in range(len(part_arr)):\n",
    "        #p = np.copy(part_arr[i])\n",
    "        gid = part_arr['iGroup'][i]\n",
    "        part_arr['iGroup'][i] = int(bin((partition_index<<16) | gid), 2)\n",
    "    #    res = int(bin((partition_index<<16) | gid),2)\n",
    "     #   part_arr['iGroup'][i] = res\n",
    "    #    print res, partition_index, gid, spark_fof.encode_gid(partition_index, gid, 16)\n",
    "   # print part_arr[:10]\n",
    "    return part_arr"
   ]
  },
  {
   "cell_type": "code",
   "execution_count": 96,
   "metadata": {
    "collapsed": false
   },
   "outputs": [],
   "source": [
    "fof_rdd = part_rdd.mapPartitionsWithIndex(lambda index, particles: run_local_fof(index, particles, tau))\\\n",
    "                  .mapPartitionsWithIndex(set_group_id).cache()"
   ]
  },
  {
   "cell_type": "markdown",
   "metadata": {},
   "source": [
    "### Group Merging stage"
   ]
  },
  {
   "cell_type": "code",
   "execution_count": 97,
   "metadata": {
    "collapsed": false
   },
   "outputs": [],
   "source": [
    "fof_analyzer = spark_fof.FOFAnalyzer(sc, N, tau, fof_rdd, [-.5,-.5,-.5], [.5,.5,.5])"
   ]
  },
  {
   "cell_type": "code",
   "execution_count": 98,
   "metadata": {
    "collapsed": false
   },
   "outputs": [
    {
     "name": "stdout",
     "output_type": "stream",
     "text": [
      "CPU times: user 270 ms, sys: 10 ms, total: 280 ms\n",
      "Wall time: 39.4 s\n"
     ]
    },
    {
     "data": {
      "text/plain": [
       "17053662"
      ]
     },
     "execution_count": 98,
     "metadata": {},
     "output_type": "execute_result"
    }
   ],
   "source": [
    "%time fof_rdd.count()"
   ]
  },
  {
   "cell_type": "code",
   "execution_count": 101,
   "metadata": {
    "collapsed": false
   },
   "outputs": [
    {
     "name": "stdout",
     "output_type": "stream",
     "text": [
      "============================================================\n",
      "Profile of RDD<id=59>\n",
      "============================================================\n",
      "         480156 function calls (480138 primitive calls) in 3.839 seconds\n",
      "\n",
      "   Ordered by: internal time, cumulative time\n",
      "\n",
      "   ncalls  tottime  percall  cumtime  percall filename:lineno(function)\n",
      "    32796    2.423    0.000    2.423    0.000 {method 'read' of 'file' objects}\n",
      "     1704    0.477    0.000    3.688    0.002 rdd.py:1697(add_shuffle_key)\n",
      "   114688    0.223    0.000    0.223    0.000 spark_fof_c.pyx:19(get_bin_cython)\n",
      "      843    0.211    0.000    0.211    0.000 {cPickle.dumps}\n",
      "     3372    0.138    0.000    0.138    0.000 {method 'write' of 'file' objects}\n",
      "    16384    0.061    0.000    0.061    0.000 {numpy.core.multiarray.array}\n",
      "    16402    0.058    0.000    2.526    0.000 serializers.py:155(_read_with_length)\n",
      "    16384    0.047    0.000    0.083    0.000 spark_fof_c.pyx:53(rect_buffer_zone_cython)\n",
      "    33115    0.037    0.000    0.060    0.000 rdd.py:61(portable_hash)\n",
      "    32768    0.035    0.000    0.035    0.000 spark_fof_c.pyx:104(in_rectangle_cython)\n",
      "    16402    0.026    0.000    0.124    0.000 serializers.py:542(read_int)\n",
      "    33125    0.019    0.000    0.019    0.000 {isinstance}\n",
      "    16384    0.016    0.000    0.077    0.000 function_base.py:1253(copy)\n",
      "    16402    0.013    0.000    2.539    0.000 serializers.py:136(load_stream)\n",
      "    16402    0.009    0.000    0.009    0.000 {_struct.unpack}\n",
      "    20204    0.007    0.000    0.007    0.000 {len}\n",
      "    33115    0.006    0.000    0.006    0.000 {method 'append' of 'list' objects}\n",
      "    33115    0.004    0.000    0.004    0.000 {hash}\n",
      "    16384    0.004    0.000    0.004    0.000 serializers.py:332(loads)\n",
      "       18    0.004    0.000    3.838    0.213 serializers.py:132(dump_stream)\n",
      "     1686    0.004    0.000    0.146    0.000 serializers.py:143(_write_with_length)\n",
      "       10    0.003    0.000    0.003    0.000 _pslinux.py:501(boot_time)\n",
      "     2529    0.002    0.000    0.002    0.000 {_struct.pack}\n",
      "     1686    0.002    0.000    0.005    0.000 serializers.py:549(write_int)\n",
      "       38    0.001    0.000    0.001    0.000 {open}\n",
      "       18    0.001    0.000    0.002    0.000 _pslinux.py:1079(memory_info)\n",
      "      843    0.001    0.000    0.212    0.000 serializers.py:414(dumps)\n",
      "       10    0.001    0.000    0.002    0.000 _pslinux.py:953(_parse_stat_file)\n",
      "      843    0.001    0.000    0.002    0.000 serializers.py:538(pack_long)\n",
      "       18    0.001    0.000    0.009    0.001 shuffle.py:37(get_used_memory)\n",
      "       10    0.000    0.000    0.006    0.001 __init__.py:366(_init)\n",
      "    36/18    0.000    0.000    3.838    0.213 worker.py:104(process)\n",
      "       18    0.000    0.000    0.000    0.000 {method 'readline' of 'file' objects}\n",
      "     1686    0.000    0.000    0.000    0.000 serializers.py:335(dumps)\n",
      "       10    0.000    0.000    0.006    0.001 _pslinux.py:1068(create_time)\n",
      "       10    0.000    0.000    0.000    0.000 _pslinux.py:947(__init__)\n",
      "       18    0.000    0.000    0.000    0.000 <ipython-input-81-73a4d402eb4c>:2(<lambda>)\n",
      "       18    0.000    0.000    0.000    0.000 <string>:8(__new__)\n",
      "       28    0.000    0.000    0.008    0.000 _pslinux.py:926(wrapper)\n",
      "       38    0.000    0.000    0.000    0.000 {method 'split' of 'str' objects}\n",
      "       18    0.000    0.000    0.000    0.000 rdd.py:316(func)\n",
      "       38    0.000    0.000    0.002    0.000 _pslinux.py:140(open_binary)\n",
      "       18    0.000    0.000    0.000    0.000 {method 'items' of 'dict' objects}\n",
      "       10    0.000    0.000    0.006    0.001 __init__.py:644(create_time)\n",
      "      280    0.000    0.000    0.000    0.000 {method 'startswith' of 'str' objects}\n",
      "       18    0.000    0.000    0.002    0.000 __init__.py:985(memory_info)\n",
      "       18    0.000    0.000    0.000    0.000 {min}\n",
      "       18    0.000    0.000    0.000    0.000 {spark_fof_c.partition_particles_cython}\n",
      "       10    0.000    0.000    0.006    0.001 __init__.py:363(__init__)\n",
      "       18    0.000    0.000    0.000    0.000 rdd.py:2345(pipeline_func)\n",
      "       20    0.000    0.000    0.000    0.000 _pslinux.py:165(get_procfs_path)\n",
      "       10    0.000    0.000    0.000    0.000 {method 'rfind' of 'str' objects}\n",
      "       18    0.000    0.000    0.000    0.000 {method 'keys' of 'dict' objects}\n",
      "       18    0.000    0.000    0.000    0.000 {hasattr}\n",
      "       18    0.000    0.000    0.000    0.000 {posix.getpid}\n",
      "       18    0.000    0.000    0.000    0.000 {method 'disable' of '_lsprof.Profiler' objects}\n",
      "       10    0.000    0.000    0.000    0.000 __init__.py:528(pid)\n",
      "        2    0.000    0.000    0.000    0.000 {built-in method __new__ of type object at 0x2b23efe45da0}\n",
      "        2    0.000    0.000    0.000    0.000 {built-in method __new__ of type object at 0x2b63502c8da0}\n",
      "        2    0.000    0.000    0.000    0.000 {built-in method __new__ of type object at 0x2aaecd96eda0}\n",
      "        3    0.000    0.000    0.000    0.000 {built-in method __new__ of type object at 0x2b421f555da0}\n",
      "        2    0.000    0.000    0.000    0.000 {built-in method __new__ of type object at 0x2ab8f3d8dda0}\n",
      "       10    0.000    0.000    0.000    0.000 {method 'find' of 'str' objects}\n",
      "        1    0.000    0.000    0.000    0.000 {built-in method __new__ of type object at 0x2ae0a9112da0}\n",
      "       10    0.000    0.000    0.000    0.000 {method 'strip' of 'str' objects}\n",
      "        2    0.000    0.000    0.000    0.000 {built-in method __new__ of type object at 0x2b3f1a46cda0}\n",
      "        2    0.000    0.000    0.000    0.000 {built-in method __new__ of type object at 0x2b0c3297dda0}\n",
      "        1    0.000    0.000    0.000    0.000 {built-in method __new__ of type object at 0x2ac447e14da0}\n",
      "        1    0.000    0.000    0.000    0.000 {built-in method __new__ of type object at 0x2b2fcdb7bda0}\n",
      "\n",
      "\n",
      "============================================================\n",
      "Profile of RDD<id=63>\n",
      "============================================================\n",
      "         94329 function calls (93817 primitive calls) in 0.633 seconds\n",
      "\n",
      "   Ordered by: internal time, cumulative time\n",
      "\n",
      "   ncalls  tottime  percall  cumtime  percall filename:lineno(function)\n",
      "     1076    0.221    0.000    0.221    0.000 {cPickle.dumps}\n",
      "      512    0.218    0.000    0.251    0.000 <ipython-input-84-1bda14acfd91>:16(set_group_id)\n",
      "      843    0.037    0.000    0.037    0.000 {cPickle.loads}\n",
      "     1024    0.031    0.000    0.097    0.000 {numpy.core.multiarray.fromiter}\n",
      "      512    0.022    0.000    0.255    0.000 serializers.py:259(dump_stream)\n",
      "    33115    0.021    0.000    0.021    0.000 {bin}\n",
      "      128    0.020    0.000    0.020    0.000 {fof.run}\n",
      "     1355    0.009    0.000    0.056    0.000 serializers.py:155(_read_with_length)\n",
      " 1024/512    0.005    0.000    0.367    0.001 rdd.py:2345(pipeline_func)\n",
      "     1355    0.005    0.000    0.062    0.000 serializers.py:136(load_stream)\n",
      "      512    0.005    0.000    0.633    0.001 worker.py:104(process)\n",
      "     1355    0.004    0.000    0.007    0.000 serializers.py:542(read_int)\n",
      "    33115    0.004    0.000    0.004    0.000 rdd.py:1540(<lambda>)\n",
      "      512    0.004    0.000    0.005    0.000 serializers.py:217(load_stream)\n",
      "     2152    0.004    0.000    0.004    0.000 {method 'write' of 'file' objects}\n",
      "     2198    0.004    0.000    0.004    0.000 {method 'read' of 'file' objects}\n",
      "     4019    0.003    0.000    0.003    0.000 {len}\n",
      "      512    0.002    0.000    0.109    0.000 <ipython-input-84-1bda14acfd91>:1(run_local_fof)\n",
      "     1076    0.002    0.000    0.006    0.000 serializers.py:549(write_int)\n",
      "     1076    0.002    0.000    0.223    0.000 serializers.py:414(dumps)\n",
      "     1076    0.001    0.000    0.001    0.000 {_struct.pack}\n",
      "      512    0.001    0.000    0.110    0.000 <ipython-input-85-9f797d9761cf>:1(<lambda>)\n",
      "      512    0.001    0.000    0.001    0.000 rdd.py:288(func)\n",
      "      512    0.001    0.000    0.001    0.000 serializers.py:220(_load_stream_without_unbatching)\n",
      "      512    0.001    0.000    0.001    0.000 {range}\n",
      "      843    0.001    0.000    0.038    0.000 serializers.py:421(loads)\n",
      "     1355    0.001    0.000    0.001    0.000 {_struct.unpack}\n",
      "      512    0.001    0.000    0.001    0.000 {built-in method from_iterable}\n",
      "      512    0.000    0.000    0.000    0.000 {iter}\n",
      "      512    0.000    0.000    0.000    0.000 {method 'disable' of '_lsprof.Profiler' objects}\n",
      "\n",
      "\n",
      "============================================================\n",
      "Profile of RDD<id=64>\n",
      "============================================================\n",
      "         59695 function calls (59183 primitive calls) in 0.116 seconds\n",
      "\n",
      "   Ordered by: internal time, cumulative time\n",
      "\n",
      "   ncalls  tottime  percall  cumtime  percall filename:lineno(function)\n",
      "     1076    0.038    0.000    0.038    0.000 {cPickle.loads}\n",
      "      512    0.013    0.000    0.028    0.000 serializers.py:259(dump_stream)\n",
      "    33627    0.008    0.000    0.066    0.000 rdd.py:1004(<genexpr>)\n",
      "     1588    0.006    0.000    0.053    0.000 serializers.py:155(_read_with_length)\n",
      "     1024    0.006    0.000    0.072    0.000 {sum}\n",
      "     1588    0.005    0.000    0.058    0.000 serializers.py:136(load_stream)\n",
      "      512    0.005    0.000    0.005    0.000 {cPickle.dumps}\n",
      "     1588    0.004    0.000    0.007    0.000 serializers.py:542(read_int)\n",
      "      512    0.004    0.000    0.116    0.000 worker.py:104(process)\n",
      "      512    0.004    0.000    0.005    0.000 serializers.py:217(load_stream)\n",
      "     2664    0.003    0.000    0.003    0.000 {method 'read' of 'file' objects}\n",
      "     1024    0.003    0.000    0.003    0.000 {method 'write' of 'file' objects}\n",
      "      512    0.002    0.000    0.006    0.000 serializers.py:549(write_int)\n",
      " 1024/512    0.002    0.000    0.078    0.000 rdd.py:2345(pipeline_func)\n",
      "     1536    0.002    0.000    0.076    0.000 rdd.py:316(func)\n",
      "      512    0.002    0.000    0.002    0.000 {_struct.pack}\n",
      "      512    0.002    0.000    0.073    0.000 rdd.py:1004(<lambda>)\n",
      "      512    0.001    0.000    0.006    0.000 serializers.py:414(dumps)\n",
      "     1024    0.001    0.000    0.002    0.000 rdd.py:861(func)\n",
      "      512    0.001    0.000    0.001    0.000 serializers.py:220(_load_stream_without_unbatching)\n",
      "      512    0.001    0.000    0.001    0.000 {operator.add}\n",
      "     1588    0.001    0.000    0.001    0.000 {_struct.unpack}\n",
      "     1076    0.001    0.000    0.038    0.000 serializers.py:421(loads)\n",
      "      512    0.001    0.000    0.001    0.000 {built-in method from_iterable}\n",
      "     2100    0.000    0.000    0.000    0.000 {len}\n",
      "      512    0.000    0.000    0.001    0.000 rdd.py:995(<lambda>)\n",
      "      512    0.000    0.000    0.000    0.000 {method 'disable' of '_lsprof.Profiler' objects}\n",
      "      512    0.000    0.000    0.000    0.000 {iter}\n",
      "\n",
      "\n",
      "============================================================\n",
      "Profile of RDD<id=65>\n",
      "============================================================\n",
      "         18 function calls in 0.000 seconds\n",
      "\n",
      "   Ordered by: internal time, cumulative time\n",
      "\n",
      "   ncalls  tottime  percall  cumtime  percall filename:lineno(function)\n",
      "        1    0.000    0.000    0.000    0.000 serializers.py:259(dump_stream)\n",
      "        1    0.000    0.000    0.000    0.000 serializers.py:217(load_stream)\n",
      "        1    0.000    0.000    0.000    0.000 serializers.py:136(load_stream)\n",
      "        1    0.000    0.000    0.000    0.000 serializers.py:155(_read_with_length)\n",
      "        1    0.000    0.000    0.000    0.000 worker.py:104(process)\n",
      "        1    0.000    0.000    0.000    0.000 {next}\n",
      "        1    0.000    0.000    0.000    0.000 serializers.py:542(read_int)\n",
      "        1    0.000    0.000    0.000    0.000 rdd.py:2345(pipeline_func)\n",
      "        1    0.000    0.000    0.000    0.000 serializers.py:220(_load_stream_without_unbatching)\n",
      "        1    0.000    0.000    0.000    0.000 {method 'read' of 'file' objects}\n",
      "        1    0.000    0.000    0.000    0.000 rdd.py:288(func)\n",
      "        1    0.000    0.000    0.000    0.000 rdd.py:1289(takeUpToNumLeft)\n",
      "        2    0.000    0.000    0.000    0.000 {iter}\n",
      "        1    0.000    0.000    0.000    0.000 {built-in method from_iterable}\n",
      "        1    0.000    0.000    0.000    0.000 rdd.py:316(func)\n",
      "        1    0.000    0.000    0.000    0.000 {_struct.unpack}\n",
      "        1    0.000    0.000    0.000    0.000 {method 'disable' of '_lsprof.Profiler' objects}\n",
      "\n",
      "\n",
      "============================================================\n",
      "Profile of RDD<id=66>\n",
      "============================================================\n",
      "         801 function calls in 0.002 seconds\n",
      "\n",
      "   Ordered by: internal time, cumulative time\n",
      "\n",
      "   ncalls  tottime  percall  cumtime  percall filename:lineno(function)\n",
      "       14    0.001    0.000    0.001    0.000 {cPickle.dumps}\n",
      "        3    0.000    0.000    0.000    0.000 {cPickle.loads}\n",
      "        4    0.000    0.000    0.002    0.001 serializers.py:259(dump_stream)\n",
      "      202    0.000    0.000    0.000    0.000 {next}\n",
      "      204    0.000    0.000    0.001    0.000 rdd.py:1289(takeUpToNumLeft)\n",
      "       28    0.000    0.000    0.000    0.000 {method 'write' of 'file' objects}\n",
      "        7    0.000    0.000    0.000    0.000 serializers.py:136(load_stream)\n",
      "       14    0.000    0.000    0.000    0.000 serializers.py:549(write_int)\n",
      "      200    0.000    0.000    0.000    0.000 rdd.py:1540(<lambda>)\n",
      "        4    0.000    0.000    0.002    0.001 worker.py:104(process)\n",
      "        5    0.000    0.000    0.000    0.000 serializers.py:155(_read_with_length)\n",
      "        4    0.000    0.000    0.000    0.000 serializers.py:217(load_stream)\n",
      "        5    0.000    0.000    0.000    0.000 serializers.py:542(read_int)\n",
      "       14    0.000    0.000    0.000    0.000 {_struct.pack}\n",
      "       14    0.000    0.000    0.001    0.000 serializers.py:414(dumps)\n",
      "        8    0.000    0.000    0.000    0.000 {method 'read' of 'file' objects}\n",
      "        4    0.000    0.000    0.000    0.000 rdd.py:2345(pipeline_func)\n",
      "        4    0.000    0.000    0.000    0.000 serializers.py:220(_load_stream_without_unbatching)\n",
      "        4    0.000    0.000    0.000    0.000 rdd.py:288(func)\n",
      "        4    0.000    0.000    0.000    0.000 rdd.py:316(func)\n",
      "        4    0.000    0.000    0.000    0.000 {built-in method from_iterable}\n",
      "        8    0.000    0.000    0.000    0.000 {iter}\n",
      "        5    0.000    0.000    0.000    0.000 {_struct.unpack}\n",
      "        3    0.000    0.000    0.000    0.000 serializers.py:421(loads)\n",
      "       31    0.000    0.000    0.000    0.000 {len}\n",
      "        4    0.000    0.000    0.000    0.000 {method 'disable' of '_lsprof.Profiler' objects}\n",
      "\n",
      "\n",
      "============================================================\n",
      "Profile of RDD<id=69>\n",
      "============================================================\n",
      "         16974256 function calls in 6.051 seconds\n",
      "\n",
      "   Ordered by: internal time, cumulative time\n",
      "\n",
      "   ncalls  tottime  percall  cumtime  percall filename:lineno(function)\n",
      " 16777234    2.454    0.000    4.420    0.000 rdd.py:2080(<genexpr>)\n",
      "       18    1.630    0.091    6.049    0.336 {sum}\n",
      "    32786    1.250    0.000    1.250    0.000 {method 'read' of 'file' objects}\n",
      "    16384    0.422    0.000    0.582    0.000 <ipython-input-66-1d6e4fba05cc>:1(convert_to_fof_particle)\n",
      "    16384    0.083    0.000    0.083    0.000 {numpy.core.multiarray.fromstring}\n",
      "    16384    0.074    0.000    0.074    0.000 {numpy.core.multiarray.zeros}\n",
      "    16402    0.061    0.000    1.359    0.000 serializers.py:155(_read_with_length)\n",
      "    16402    0.026    0.000    0.057    0.000 serializers.py:542(read_int)\n",
      "    16402    0.025    0.000    1.383    0.000 serializers.py:136(load_stream)\n",
      "    16402    0.011    0.000    0.011    0.000 {_struct.unpack}\n",
      "    32804    0.010    0.000    0.010    0.000 {len}\n",
      "    16384    0.004    0.000    0.004    0.000 serializers.py:332(loads)\n",
      "       18    0.001    0.000    0.001    0.000 serializers.py:259(dump_stream)\n",
      "       18    0.000    0.000    0.000    0.000 {cPickle.dumps}\n",
      "       18    0.000    0.000    6.051    0.336 worker.py:104(process)\n",
      "       18    0.000    0.000    0.000    0.000 rdd.py:303(func)\n",
      "       36    0.000    0.000    0.000    0.000 {method 'write' of 'file' objects}\n",
      "       18    0.000    0.000    0.000    0.000 serializers.py:549(write_int)\n",
      "       18    0.000    0.000    6.050    0.336 rdd.py:2345(pipeline_func)\n",
      "       18    0.000    0.000    6.049    0.336 rdd.py:2080(<lambda>)\n",
      "       18    0.000    0.000    0.000    0.000 {_struct.pack}\n",
      "       18    0.000    0.000    0.000    0.000 serializers.py:414(dumps)\n",
      "       18    0.000    0.000    6.049    0.336 rdd.py:316(func)\n",
      "       18    0.000    0.000    0.000    0.000 {iter}\n",
      "       18    0.000    0.000    0.000    0.000 {built-in method from_iterable}\n",
      "       18    0.000    0.000    0.000    0.000 {method 'disable' of '_lsprof.Profiler' objects}\n",
      "\n",
      "\n",
      "============================================================\n",
      "Profile of RDD<id=70>\n",
      "============================================================\n",
      "         50528922 function calls (50528850 primitive calls) in 43.255 seconds\n",
      "\n",
      "   Ordered by: internal time, cumulative time\n",
      "\n",
      "   ncalls  tottime  percall  cumtime  percall filename:lineno(function)\n",
      " 16777216   21.927    0.000   21.927    0.000 <ipython-input-72-ca5787da3fcb>:1(set_particle_IDs)\n",
      " 16777234   10.267    0.000   40.439    0.000 rdd.py:1004(<genexpr>)\n",
      " 16777234    5.192    0.000    8.244    0.000 rdd.py:2084(func)\n",
      "       36    2.814    0.078   43.253    1.201 {sum}\n",
      "    32786    1.765    0.000    1.765    0.000 {method 'read' of 'file' objects}\n",
      "    16384    0.572    0.000    0.914    0.000 <ipython-input-66-1d6e4fba05cc>:1(convert_to_fof_particle)\n",
      "    16384    0.189    0.000    0.189    0.000 {numpy.core.multiarray.fromstring}\n",
      "    16402    0.157    0.000    2.056    0.000 serializers.py:155(_read_with_length)\n",
      "    16384    0.147    0.000    0.147    0.000 {numpy.core.multiarray.zeros}\n",
      "    16402    0.083    0.000    2.139    0.000 serializers.py:136(load_stream)\n",
      "    16402    0.075    0.000    0.191    0.000 serializers.py:542(read_int)\n",
      "    16402    0.039    0.000    0.039    0.000 {_struct.unpack}\n",
      "    32804    0.018    0.000    0.018    0.000 {len}\n",
      "    16384    0.006    0.000    0.006    0.000 serializers.py:332(loads)\n",
      "       18    0.001    0.000    0.001    0.000 serializers.py:259(dump_stream)\n",
      "       18    0.000    0.000    0.000    0.000 {cPickle.dumps}\n",
      "    90/18    0.000    0.000   43.253    2.403 rdd.py:2345(pipeline_func)\n",
      "       18    0.000    0.000   43.255    2.403 worker.py:104(process)\n",
      "       36    0.000    0.000    0.000    0.000 {method 'write' of 'file' objects}\n",
      "       18    0.000    0.000    0.000    0.000 rdd.py:303(func)\n",
      "       54    0.000    0.000   43.253    0.801 rdd.py:316(func)\n",
      "       18    0.000    0.000    0.000    0.000 serializers.py:549(write_int)\n",
      "       18    0.000    0.000   43.253    2.403 rdd.py:1004(<lambda>)\n",
      "       36    0.000    0.000    0.000    0.000 rdd.py:861(func)\n",
      "       18    0.000    0.000    0.000    0.000 serializers.py:414(dumps)\n",
      "       18    0.000    0.000    0.000    0.000 {_struct.pack}\n",
      "       18    0.000    0.000    0.000    0.000 {operator.add}\n",
      "       18    0.000    0.000    0.000    0.000 rdd.py:995(<lambda>)\n",
      "       18    0.000    0.000    0.000    0.000 {iter}\n",
      "       18    0.000    0.000    0.000    0.000 rdd.py:288(func)\n",
      "       18    0.000    0.000    0.000    0.000 {built-in method from_iterable}\n",
      "       18    0.000    0.000    0.000    0.000 {method 'disable' of '_lsprof.Profiler' objects}\n",
      "\n",
      "\n",
      "============================================================\n",
      "Profile of RDD<id=71>\n",
      "============================================================\n",
      "         171802464 function calls (171802392 primitive calls) in 359.918 seconds\n",
      "\n",
      "   Ordered by: internal time, cumulative time\n",
      "\n",
      "   ncalls  tottime  percall  cumtime  percall filename:lineno(function)\n",
      "     2656  112.404    0.042  112.404    0.042 {cPickle.dumps}\n",
      "     5330   80.074    0.015  357.726    0.067 rdd.py:1697(add_shuffle_key)\n",
      " 16777216   39.101    0.000   73.603    0.000 spark_fof_c.pyx:53(rect_buffer_zone_cython)\n",
      " 33554432   34.502    0.000   34.502    0.000 spark_fof_c.pyx:104(in_rectangle_cython)\n",
      " 18624424   28.428    0.000   28.428    0.000 spark_fof_c.pyx:19(get_bin_cython)\n",
      " 16777216   22.445    0.000   22.445    0.000 <ipython-input-72-ca5787da3fcb>:1(set_particle_IDs)\n",
      " 17053662   15.102    0.000   25.428    0.000 rdd.py:61(portable_hash)\n",
      " 17053664    8.390    0.000    8.390    0.000 {isinstance}\n",
      " 16777234    5.964    0.000    9.165    0.000 rdd.py:2084(func)\n",
      " 17053662    1.936    0.000    1.936    0.000 {hash}\n",
      "    32788    1.906    0.000    1.906    0.000 {method 'read' of 'file' objects}\n",
      "    10624    1.887    0.000    1.887    0.000 {method 'write' of 'file' objects}\n",
      " 17053662    1.760    0.000    1.760    0.000 {method 'append' of 'list' objects}\n",
      "    16921    1.088    0.000    2.505    0.000 _pslinux.py:1079(memory_info)\n",
      "   307868    1.071    0.000    1.071    0.000 {numpy.core.multiarray.array}\n",
      "    16925    0.798    0.000    0.798    0.000 {open}\n",
      "    16384    0.581    0.000    0.925    0.000 <ipython-input-66-1d6e4fba05cc>:1(convert_to_fof_particle)\n",
      "    16921    0.447    0.000    0.447    0.000 {method 'readline' of 'file' objects}\n",
      "   307868    0.381    0.000    1.453    0.000 function_base.py:1253(copy)\n",
      "    16921    0.242    0.000    2.936    0.000 shuffle.py:37(get_used_memory)\n",
      "       18    0.225    0.012  359.917   19.995 serializers.py:132(dump_stream)\n",
      "    16384    0.187    0.000    0.187    0.000 {numpy.core.multiarray.fromstring}\n",
      "    16384    0.151    0.000    0.151    0.000 {numpy.core.multiarray.zeros}\n",
      "    16402    0.145    0.000    2.187    0.000 serializers.py:155(_read_with_length)\n",
      "    16402    0.088    0.000    2.276    0.000 serializers.py:136(load_stream)\n",
      "    16402    0.078    0.000    0.263    0.000 serializers.py:542(read_int)\n",
      "    16921    0.073    0.000    2.646    0.000 __init__.py:985(memory_info)\n",
      "    16923    0.068    0.000    2.573    0.000 _pslinux.py:926(wrapper)\n",
      "    16925    0.046    0.000    0.046    0.000 {method 'split' of 'str' objects}\n",
      "    16925    0.044    0.000    0.842    0.000 _pslinux.py:140(open_binary)\n",
      "    16402    0.040    0.000    0.040    0.000 {_struct.unpack}\n",
      "     5312    0.040    0.000    1.967    0.000 serializers.py:143(_write_with_length)\n",
      "    16921    0.038    0.000    0.081    0.000 <string>:8(__new__)\n",
      "    16921    0.034    0.000    0.034    0.000 {hasattr}\n",
      "     7968    0.028    0.000    0.028    0.000 {_struct.pack}\n",
      "    46090    0.025    0.000    0.025    0.000 {len}\n",
      "     5312    0.017    0.000    0.071    0.000 serializers.py:549(write_int)\n",
      "    16921    0.013    0.000    0.013    0.000 {posix.getpid}\n",
      "     2656    0.012    0.000  112.415    0.042 serializers.py:414(dumps)\n",
      "     2656    0.007    0.000    0.017    0.000 serializers.py:538(pack_long)\n",
      "    16384    0.006    0.000    0.006    0.000 serializers.py:332(loads)\n",
      "     1880    0.006    0.000    0.006    0.000 {built-in method __new__ of type object at 0x2ab8f3d8dda0}\n",
      "     1882    0.005    0.000    0.005    0.000 {built-in method __new__ of type object at 0x2b23efe45da0}\n",
      "     1878    0.005    0.000    0.005    0.000 {built-in method __new__ of type object at 0x2aaecd96eda0}\n",
      "     1885    0.005    0.000    0.005    0.000 {built-in method __new__ of type object at 0x2b2fcdb7bda0}\n",
      "     1877    0.005    0.000    0.005    0.000 {built-in method __new__ of type object at 0x2b63502c8da0}\n",
      "     1883    0.004    0.000    0.004    0.000 {built-in method __new__ of type object at 0x2b3f1a46cda0}\n",
      "     1875    0.004    0.000    0.004    0.000 {built-in method __new__ of type object at 0x2b0c3297dda0}\n",
      "     1881    0.004    0.000    0.004    0.000 {built-in method __new__ of type object at 0x2b421f555da0}\n",
      "      941    0.003    0.000    0.003    0.000 {built-in method __new__ of type object at 0x2ac447e14da0}\n",
      "      939    0.002    0.000    0.002    0.000 {built-in method __new__ of type object at 0x2ae0a9112da0}\n",
      "     5312    0.001    0.000    0.001    0.000 serializers.py:335(dumps)\n",
      "    36/18    0.001    0.000  359.918   19.995 worker.py:104(process)\n",
      "        2    0.001    0.000    0.001    0.000 _pslinux.py:501(boot_time)\n",
      "      272    0.000    0.000    0.000    0.000 {method 'keys' of 'dict' objects}\n",
      "       18    0.000    0.000    0.000    0.000 rdd.py:303(func)\n",
      "    72/18    0.000    0.000    0.001    0.000 rdd.py:2345(pipeline_func)\n",
      "        2    0.000    0.000    0.000    0.000 _pslinux.py:953(_parse_stat_file)\n",
      "       18    0.000    0.000    0.000    0.000 <ipython-input-91-73a4d402eb4c>:2(<lambda>)\n",
      "       18    0.000    0.000    0.000    0.000 rdd.py:316(func)\n",
      "       18    0.000    0.000    0.000    0.000 {method 'items' of 'dict' objects}\n",
      "        2    0.000    0.000    0.001    0.001 __init__.py:366(_init)\n",
      "       18    0.000    0.000    0.000    0.000 {min}\n",
      "       18    0.000    0.000    0.000    0.000 {spark_fof_c.partition_particles_cython}\n",
      "        2    0.000    0.000    0.001    0.001 _pslinux.py:1068(create_time)\n",
      "        2    0.000    0.000    0.000    0.000 _pslinux.py:947(__init__)\n",
      "       18    0.000    0.000    0.000    0.000 {method 'disable' of '_lsprof.Profiler' objects}\n",
      "       56    0.000    0.000    0.000    0.000 {method 'startswith' of 'str' objects}\n",
      "       18    0.000    0.000    0.000    0.000 rdd.py:288(func)\n",
      "       18    0.000    0.000    0.000    0.000 {built-in method from_iterable}\n",
      "        2    0.000    0.000    0.001    0.001 __init__.py:644(create_time)\n",
      "        2    0.000    0.000    0.001    0.001 __init__.py:363(__init__)\n",
      "        2    0.000    0.000    0.000    0.000 {method 'rfind' of 'str' objects}\n",
      "        4    0.000    0.000    0.000    0.000 _pslinux.py:165(get_procfs_path)\n",
      "        2    0.000    0.000    0.000    0.000 {method 'find' of 'str' objects}\n",
      "        2    0.000    0.000    0.000    0.000 __init__.py:528(pid)\n",
      "        2    0.000    0.000    0.000    0.000 {method 'strip' of 'str' objects}\n",
      "\n",
      "\n",
      "============================================================\n",
      "Profile of RDD<id=75>\n",
      "============================================================\n",
      "         378 function calls in 0.002 seconds\n",
      "\n",
      "   Ordered by: internal time, cumulative time\n",
      "\n",
      "   ncalls  tottime  percall  cumtime  percall filename:lineno(function)\n",
      "        1    0.001    0.001    0.001    0.001 {cPickle.loads}\n",
      "        7    0.001    0.000    0.001    0.000 {cPickle.dumps}\n",
      "        1    0.000    0.000    0.002    0.002 serializers.py:259(dump_stream)\n",
      "      101    0.000    0.000    0.001    0.000 rdd.py:1289(takeUpToNumLeft)\n",
      "      100    0.000    0.000    0.001    0.000 {next}\n",
      "       14    0.000    0.000    0.000    0.000 {method 'write' of 'file' objects}\n",
      "      100    0.000    0.000    0.000    0.000 rdd.py:1540(<lambda>)\n",
      "        7    0.000    0.000    0.000    0.000 serializers.py:549(write_int)\n",
      "        2    0.000    0.000    0.001    0.000 serializers.py:136(load_stream)\n",
      "        2    0.000    0.000    0.000    0.000 {method 'read' of 'file' objects}\n",
      "        7    0.000    0.000    0.001    0.000 serializers.py:414(dumps)\n",
      "        7    0.000    0.000    0.000    0.000 {_struct.pack}\n",
      "        1    0.000    0.000    0.002    0.002 worker.py:104(process)\n",
      "        1    0.000    0.000    0.000    0.000 serializers.py:217(load_stream)\n",
      "        1    0.000    0.000    0.001    0.001 serializers.py:155(_read_with_length)\n",
      "        1    0.000    0.000    0.000    0.000 serializers.py:542(read_int)\n",
      "       15    0.000    0.000    0.000    0.000 {len}\n",
      "        1    0.000    0.000    0.001    0.001 serializers.py:421(loads)\n",
      "        1    0.000    0.000    0.000    0.000 serializers.py:220(_load_stream_without_unbatching)\n",
      "        1    0.000    0.000    0.000    0.000 rdd.py:288(func)\n",
      "        1    0.000    0.000    0.000    0.000 rdd.py:2345(pipeline_func)\n",
      "        1    0.000    0.000    0.000    0.000 rdd.py:316(func)\n",
      "        2    0.000    0.000    0.000    0.000 {iter}\n",
      "        1    0.000    0.000    0.000    0.000 {built-in method from_iterable}\n",
      "        1    0.000    0.000    0.000    0.000 {_struct.unpack}\n",
      "        1    0.000    0.000    0.000    0.000 {method 'disable' of '_lsprof.Profiler' objects}\n",
      "\n",
      "\n",
      "============================================================\n",
      "Profile of RDD<id=76>\n",
      "============================================================\n",
      "         34253076 function calls (34252564 primitive calls) in 243.200 seconds\n",
      "\n",
      "   Ordered by: internal time, cumulative time\n",
      "\n",
      "   ncalls  tottime  percall  cumtime  percall filename:lineno(function)\n",
      "      512   95.551    0.187  108.181    0.211 <ipython-input-95-1bda14acfd91>:16(set_group_id)\n",
      "    13695   79.568    0.006   79.568    0.006 {cPickle.dumps}\n",
      "      512   24.838    0.049   24.838    0.049 {fof.run}\n",
      "     2656   15.608    0.006   15.608    0.006 {cPickle.loads}\n",
      " 17053662   10.350    0.000   10.350    0.000 {bin}\n",
      "     1024    8.725    0.009   27.000    0.026 {numpy.core.multiarray.fromiter}\n",
      "    27390    2.817    0.000    2.817    0.000 {method 'write' of 'file' objects}\n",
      "      512    2.192    0.004   84.773    0.166 serializers.py:259(dump_stream)\n",
      " 17053662    1.963    0.000    1.963    0.000 rdd.py:1540(<lambda>)\n",
      "      512    0.638    0.001    0.638    0.001 {range}\n",
      "     5824    0.610    0.000    0.610    0.000 {method 'read' of 'file' objects}\n",
      "    13695    0.066    0.000    0.217    0.000 serializers.py:549(write_int)\n",
      "    13695    0.057    0.000    0.057    0.000 {_struct.pack}\n",
      "    13695    0.054    0.000   79.621    0.006 serializers.py:414(dumps)\n",
      "     3168    0.032    0.000   16.285    0.005 serializers.py:155(_read_with_length)\n",
      "     3168    0.027    0.000   16.312    0.005 serializers.py:136(load_stream)\n",
      "    31070    0.023    0.000    0.023    0.000 {len}\n",
      "      512    0.017    0.000   50.215    0.098 <ipython-input-95-1bda14acfd91>:1(run_local_fof)\n",
      "     3168    0.016    0.000    0.173    0.000 serializers.py:542(read_int)\n",
      " 1024/512    0.013    0.000  158.412    0.309 rdd.py:2345(pipeline_func)\n",
      "      512    0.010    0.000  243.200    0.475 worker.py:104(process)\n",
      "     2656    0.008    0.000   15.617    0.006 serializers.py:421(loads)\n",
      "     3168    0.007    0.000    0.007    0.000 {_struct.unpack}\n",
      "      512    0.003    0.000    0.005    0.000 serializers.py:217(load_stream)\n",
      "      512    0.002    0.000   50.217    0.098 <ipython-input-96-9f797d9761cf>:1(<lambda>)\n",
      "      512    0.002    0.000    0.002    0.000 {iter}\n",
      "      512    0.001    0.000    0.001    0.000 rdd.py:288(func)\n",
      "      512    0.001    0.000    0.001    0.000 serializers.py:220(_load_stream_without_unbatching)\n",
      "      512    0.001    0.000    0.001    0.000 {built-in method from_iterable}\n",
      "      512    0.000    0.000    0.000    0.000 {method 'disable' of '_lsprof.Profiler' objects}\n",
      "\n",
      "\n",
      "============================================================\n",
      "Profile of RDD<id=77>\n",
      "============================================================\n",
      "         17193813 function calls (17193301 primitive calls) in 13.471 seconds\n",
      "\n",
      "   Ordered by: internal time, cumulative time\n",
      "\n",
      "   ncalls  tottime  percall  cumtime  percall filename:lineno(function)\n",
      "    13695    8.686    0.001    8.686    0.001 {cPickle.loads}\n",
      " 17054174    2.188    0.000   11.799    0.000 rdd.py:1004(<genexpr>)\n",
      "     1024    1.622    0.002   13.421    0.013 {sum}\n",
      "    27902    0.675    0.000    0.675    0.000 {method 'read' of 'file' objects}\n",
      "    14207    0.084    0.000    9.551    0.001 serializers.py:155(_read_with_length)\n",
      "    14207    0.060    0.000    9.611    0.001 serializers.py:136(load_stream)\n",
      "    14207    0.052    0.000    0.125    0.000 serializers.py:542(read_int)\n",
      "    13695    0.024    0.000    8.710    0.001 serializers.py:421(loads)\n",
      "    14207    0.021    0.000    0.021    0.000 {_struct.unpack}\n",
      "      512    0.014    0.000    0.032    0.000 serializers.py:259(dump_stream)\n",
      "    14719    0.008    0.000    0.008    0.000 {len}\n",
      "      512    0.005    0.000    0.005    0.000 {cPickle.dumps}\n",
      "      512    0.004    0.000   13.471    0.026 worker.py:104(process)\n",
      "     1536    0.004    0.000   13.427    0.009 rdd.py:316(func)\n",
      "      512    0.003    0.000    0.005    0.000 serializers.py:217(load_stream)\n",
      "     1024    0.003    0.000    0.003    0.000 {method 'write' of 'file' objects}\n",
      " 1024/512    0.003    0.000   13.430    0.026 rdd.py:2345(pipeline_func)\n",
      "      512    0.003    0.000    0.007    0.000 serializers.py:549(write_int)\n",
      "      512    0.002    0.000   13.422    0.026 rdd.py:1004(<lambda>)\n",
      "      512    0.002    0.000    0.002    0.000 {_struct.pack}\n",
      "     1024    0.002    0.000    0.003    0.000 rdd.py:861(func)\n",
      "      512    0.001    0.000    0.006    0.000 serializers.py:414(dumps)\n",
      "      512    0.001    0.000    0.001    0.000 serializers.py:220(_load_stream_without_unbatching)\n",
      "      512    0.001    0.000    0.001    0.000 {operator.add}\n",
      "      512    0.001    0.000    0.001    0.000 {built-in method from_iterable}\n",
      "      512    0.001    0.000    0.001    0.000 rdd.py:995(<lambda>)\n",
      "      512    0.000    0.000    0.000    0.000 {method 'disable' of '_lsprof.Profiler' objects}\n",
      "      512    0.000    0.000    0.000    0.000 {iter}\n",
      "\n",
      "\n"
     ]
    }
   ],
   "source": [
    "sc.show_profiles()"
   ]
  },
  {
   "cell_type": "code",
   "execution_count": 102,
   "metadata": {
    "collapsed": false
   },
   "outputs": [],
   "source": [
    "merged_rdd = fof_analyzer.merge_groups(0)"
   ]
  },
  {
   "cell_type": "code",
   "execution_count": 103,
   "metadata": {
    "collapsed": false
   },
   "outputs": [],
   "source": [
    "merged = merged_rdd.collect()"
   ]
  },
  {
   "cell_type": "code",
   "execution_count": 104,
   "metadata": {
    "collapsed": true
   },
   "outputs": [],
   "source": [
    "merged_arr = np.fromiter(merged, pdt)"
   ]
  },
  {
   "cell_type": "code",
   "execution_count": 105,
   "metadata": {
    "collapsed": false
   },
   "outputs": [],
   "source": [
    "groups = np.unique(merged_arr['iGroup'])"
   ]
  },
  {
   "cell_type": "code",
   "execution_count": 106,
   "metadata": {
    "collapsed": false,
    "scrolled": true
   },
   "outputs": [
    {
     "data": {
      "text/plain": [
       "101480"
      ]
     },
     "execution_count": 106,
     "metadata": {},
     "output_type": "execute_result"
    }
   ],
   "source": [
    "len(groups)"
   ]
  },
  {
   "cell_type": "code",
   "execution_count": 107,
   "metadata": {
    "collapsed": false
   },
   "outputs": [
    {
     "name": "stdout",
     "output_type": "stream",
     "text": [
      "============================================================\n",
      "Profile of RDD<id=78>\n",
      "============================================================\n",
      "         86054557 function calls in 145.013 seconds\n",
      "\n",
      "   Ordered by: internal time, cumulative time\n",
      "\n",
      "   ncalls  tottime  percall  cumtime  percall filename:lineno(function)\n",
      " 17053662   45.303    0.000   80.391    0.000 spark_fof_c.pyx:53(rect_buffer_zone_cython)\n",
      " 34107324   35.089    0.000   35.089    0.000 spark_fof_c.pyx:104(in_rectangle_cython)\n",
      " 17053662   33.159    0.000  118.694    0.000 spark_fof.py:382(in_buffer_zone)\n",
      "   308380   10.553    0.000  140.032    0.000 spark_fof.py:252(get_buffer_particles)\n",
      "    13695    9.310    0.001    9.310    0.001 {cPickle.loads}\n",
      " 17053662    5.144    0.000   85.535    0.000 {spark_fof_c.rect_buffer_zone_cython}\n",
      "     4819    3.481    0.001    3.481    0.001 {cPickle.dumps}\n",
      "    27902    1.057    0.000    1.057    0.000 {method 'read' of 'file' objects}\n",
      "   307868    0.863    0.000    0.863    0.000 spark_fof.py:265(pid_gid)\n",
      "      512    0.513    0.001  144.989    0.283 serializers.py:259(dump_stream)\n",
      "    14207    0.148    0.000   10.695    0.001 serializers.py:155(_read_with_length)\n",
      "    14207    0.089    0.000   10.783    0.001 serializers.py:136(load_stream)\n",
      "    14207    0.083    0.000    0.304    0.000 serializers.py:542(read_int)\n",
      "    13695    0.045    0.000    9.356    0.001 serializers.py:421(loads)\n",
      "     9638    0.040    0.000    0.040    0.000 {method 'write' of 'file' objects}\n",
      "    14207    0.040    0.000    0.040    0.000 {_struct.unpack}\n",
      "     4819    0.021    0.000    0.065    0.000 serializers.py:549(write_int)\n",
      "     4819    0.018    0.000    0.018    0.000 {_struct.pack}\n",
      "     4819    0.016    0.000    3.497    0.001 serializers.py:414(dumps)\n",
      "    23333    0.016    0.000    0.016    0.000 {len}\n",
      "      512    0.010    0.000    0.012    0.000 serializers.py:217(load_stream)\n",
      "      512    0.008    0.000  145.013    0.283 worker.py:104(process)\n",
      "      512    0.002    0.000    0.004    0.000 rdd.py:2345(pipeline_func)\n",
      "      512    0.002    0.000    0.002    0.000 {range}\n",
      "      512    0.001    0.000    0.001    0.000 serializers.py:220(_load_stream_without_unbatching)\n",
      "      512    0.001    0.000    0.001    0.000 rdd.py:288(func)\n",
      "      512    0.001    0.000    0.001    0.000 spark_fof.py:78(<lambda>)\n",
      "      512    0.001    0.000    0.001    0.000 {built-in method from_iterable}\n",
      "      512    0.000    0.000    0.000    0.000 {iter}\n",
      "      512    0.000    0.000    0.000    0.000 {method 'disable' of '_lsprof.Profiler' objects}\n",
      "\n",
      "\n",
      "============================================================\n",
      "Profile of RDD<id=79>\n",
      "============================================================\n",
      "         84194406 function calls (84193382 primitive calls) in 126.580 seconds\n",
      "\n",
      "   Ordered by: internal time, cumulative time\n",
      "\n",
      "   ncalls  tottime  percall  cumtime  percall filename:lineno(function)\n",
      " 17053662   39.888    0.000   39.888    0.000 spark_fof.py:265(pid_gid)\n",
      "      512   16.352    0.032  103.168    0.202 shuffle.py:229(mergeValues)\n",
      " 17053662   14.584    0.000   28.592    0.000 spark_fof.py:97(<lambda>)\n",
      "   287811   11.923    0.000   11.923    0.000 {cPickle.dumps}\n",
      "    13695    9.327    0.001    9.327    0.001 {cPickle.loads}\n",
      " 17053662    7.634    0.000   14.009    0.000 broadcast.py:92(value)\n",
      "  1151244    5.410    0.000    5.410    0.000 {method 'write' of 'file' objects}\n",
      "       10    3.520    0.352    3.520    0.352 {cPickle.load}\n",
      " 17054863    2.855    0.000    2.855    0.000 {hasattr}\n",
      "   584314    2.018    0.000    5.016    0.000 copy.py:145(deepcopy)\n",
      "    27912    1.967    0.000    1.967    0.000 {method 'read' of 'file' objects}\n",
      "   584314    1.955    0.000    2.089    0.000 copy.py:267(_keep_alive)\n",
      "   576134    1.533    0.000   15.080    0.000 rdd.py:1697(add_shuffle_key)\n",
      "   575622    1.081    0.000    7.421    0.000 serializers.py:143(_write_with_length)\n",
      "      512    0.638    0.001   23.139    0.045 serializers.py:132(dump_stream)\n",
      "   584314    0.572    0.000    0.622    0.000 copy.py:226(_deepcopy_list)\n",
      "   584314    0.525    0.000    5.541    0.000 rdd.py:1800(createZero)\n",
      "   584314    0.523    0.000    0.869    0.000 rdd.py:61(portable_hash)\n",
      "   584314    0.508    0.000    6.436    0.000 rdd.py:1804(<lambda>)\n",
      "   863433    0.472    0.000    0.472    0.000 {_struct.pack}\n",
      "   575622    0.436    0.000    1.570    0.000 serializers.py:549(write_int)\n",
      "   584314    0.388    0.000    0.388    0.000 spark_fof.py:98(<lambda>)\n",
      "   584836    0.282    0.000    0.282    0.000 {isinstance}\n",
      "  2338792    0.261    0.000    0.261    0.000 {id}\n",
      "   287811    0.223    0.000   12.146    0.000 serializers.py:414(dumps)\n",
      "  1168628    0.210    0.000    0.210    0.000 {method 'get' of 'dict' objects}\n",
      "  1287461    0.165    0.000    0.165    0.000 {len}\n",
      "   287811    0.145    0.000    0.346    0.000 serializers.py:538(pack_long)\n",
      "     1024    0.142    0.000    0.142    0.000 {method 'items' of 'dict' objects}\n",
      "    14207    0.134    0.000   11.619    0.001 serializers.py:155(_read_with_length)\n",
      "   584314    0.098    0.000    0.098    0.000 {method 'append' of 'list' objects}\n",
      "    14207    0.092    0.000    0.332    0.000 serializers.py:542(read_int)\n",
      "   575622    0.086    0.000    0.086    0.000 serializers.py:335(dumps)\n",
      "     1201    0.081    0.000    0.193    0.000 _pslinux.py:1079(memory_info)\n",
      "    14207    0.078    0.000   11.697    0.001 serializers.py:136(load_stream)\n",
      "   584314    0.064    0.000    0.064    0.000 {hash}\n",
      "     1231    0.058    0.000    0.058    0.000 {open}\n",
      "    14207    0.047    0.000    0.047    0.000 {_struct.unpack}\n",
      "     1201    0.044    0.000    0.256    0.000 shuffle.py:37(get_used_memory)\n",
      "    13695    0.041    0.000    9.368    0.001 serializers.py:421(loads)\n",
      "     1201    0.037    0.000    0.037    0.000 {method 'readline' of 'file' objects}\n",
      "      512    0.028    0.000  126.580    0.247 worker.py:104(process)\n",
      "      512    0.022    0.000    0.060    0.000 shuffle.py:69(_get_local_dirs)\n",
      "     1024    0.012    0.000  103.401    0.101 rdd.py:316(func)\n",
      "      512    0.009    0.000    0.082    0.000 shuffle.py:196(__init__)\n",
      "     1536    0.009    0.000    0.012    0.000 posixpath.py:61(join)\n",
      "     1201    0.008    0.000    0.011    0.000 <string>:8(__new__)\n",
      "      512    0.007    0.000  103.389    0.202 rdd.py:1774(combineLocally)\n",
      "      512    0.007    0.000    0.008    0.000 random.py:277(shuffle)\n",
      "      512    0.006    0.000    0.010    0.000 random.py:100(seed)\n",
      "     1201    0.005    0.000    0.203    0.000 __init__.py:985(memory_info)\n",
      " 1536/512    0.005    0.000  103.408    0.202 rdd.py:2345(pipeline_func)\n",
      "     1733    0.005    0.000    0.005    0.000 {method 'split' of 'str' objects}\n",
      "     1211    0.005    0.000    0.203    0.000 _pslinux.py:926(wrapper)\n",
      "      512    0.004    0.000    0.131    0.000 shuffle.py:337(items)\n",
      "     1221    0.004    0.000    0.061    0.000 _pslinux.py:140(open_binary)\n",
      "      512    0.004    0.000    0.011    0.000 shuffle.py:134(_compressed_serializer)\n",
      "      512    0.004    0.000    0.005    0.000 serializers.py:217(load_stream)\n",
      "      265    0.003    0.000    0.003    0.000 {method 'keys' of 'dict' objects}\n",
      "       10    0.003    0.000    0.003    0.000 _pslinux.py:501(boot_time)\n",
      "      512    0.003    0.000    0.004    0.000 UserDict.py:91(get)\n",
      "      512    0.003    0.000    0.003    0.000 serializers.py:481(__init__)\n",
      "     1024    0.002    0.000    0.002    0.000 serializers.py:127(__init__)\n",
      "      512    0.002    0.000    0.003    0.000 serializers.py:255(__init__)\n",
      "     4888    0.002    0.000    0.002    0.000 {method 'startswith' of 'str' objects}\n",
      "     3249    0.002    0.000    0.002    0.000 {posix.getpid}\n",
      "     4608    0.001    0.000    0.001    0.000 {method 'endswith' of 'str' objects}\n",
      "      512    0.001    0.000    0.011    0.000 random.py:91(__init__)\n",
      "      512    0.001    0.000    0.001    0.000 serializers.py:220(_load_stream_without_unbatching)\n",
      "      512    0.001    0.000    0.001    0.000 rdd.py:288(func)\n",
      "      512    0.001    0.000    0.001    0.000 {min}\n",
      "       10    0.001    0.000    3.521    0.352 broadcast.py:82(load)\n",
      "      512    0.001    0.000    0.001    0.000 UserDict.py:103(__contains__)\n",
      "     1024    0.001    0.000    0.001    0.000 {method 'random' of '_random.Random' objects}\n",
      "      512    0.001    0.000    0.001    0.000 serializers.py:190(__init__)\n",
      "       10    0.001    0.000    0.002    0.000 _pslinux.py:953(_parse_stat_file)\n",
      "      512    0.001    0.000    0.001    0.000 shuffle.py:118(__init__)\n",
      "      512    0.001    0.000    0.001    0.000 {built-in method from_iterable}\n",
      "      512    0.001    0.000    0.001    0.000 rdd.py:366(func)\n",
      "      512    0.001    0.000    0.001    0.000 UserDict.py:35(__getitem__)\n",
      "       63    0.001    0.000    0.001    0.000 {function seed at 0x2b635767ded8}\n",
      "       62    0.000    0.000    0.000    0.000 {function seed at 0x2ab8fb142ed8}\n",
      "       62    0.000    0.000    0.000    0.000 {function seed at 0x2b2fd4f30ed8}\n",
      "       58    0.000    0.000    0.000    0.000 {function seed at 0x2b0c39d32ed8}\n",
      "       56    0.000    0.000    0.000    0.000 {function seed at 0x2b23f71faed8}\n",
      "       55    0.000    0.000    0.000    0.000 {function seed at 0x2b3f21821ed8}\n",
      "      147    0.000    0.000    0.000    0.000 {built-in method __new__ of type object at 0x2b63502c8da0}\n",
      "       10    0.000    0.000    0.006    0.001 __init__.py:366(_init)\n",
      "      151    0.000    0.000    0.000    0.000 {built-in method __new__ of type object at 0x2b23efe45da0}\n",
      "      142    0.000    0.000    0.000    0.000 {built-in method __new__ of type object at 0x2b2fcdb7bda0}\n",
      "      137    0.000    0.000    0.000    0.000 {built-in method __new__ of type object at 0x2ab8f3d8dda0}\n",
      "       47    0.000    0.000    0.000    0.000 {function seed at 0x2b422690aed8}\n",
      "       45    0.000    0.000    0.000    0.000 {function seed at 0x2aaed4d23ed8}\n",
      "       44    0.000    0.000    0.000    0.000 {function seed at 0x2ae0b04c7ed8}\n",
      "      512    0.000    0.000    0.000    0.000 {iter}\n",
      "      118    0.000    0.000    0.000    0.000 {built-in method __new__ of type object at 0x2b0c3297dda0}\n",
      "      112    0.000    0.000    0.000    0.000 {built-in method __new__ of type object at 0x2aaecd96eda0}\n",
      "      119    0.000    0.000    0.000    0.000 {built-in method __new__ of type object at 0x2b3f1a46cda0}\n",
      "      512    0.000    0.000    0.000    0.000 {method 'disable' of '_lsprof.Profiler' objects}\n",
      "       65    0.000    0.000    0.000    0.000 {built-in method __new__ of type object at 0x2ac447e14da0}\n",
      "      115    0.000    0.000    0.000    0.000 {built-in method __new__ of type object at 0x2b421f555da0}\n",
      "       95    0.000    0.000    0.000    0.000 {built-in method __new__ of type object at 0x2ae0a9112da0}\n",
      "       20    0.000    0.000    0.000    0.000 {function seed at 0x2ac44f1c9ed8}\n",
      "       10    0.000    0.000    0.000    0.000 _pslinux.py:947(__init__)\n",
      "       10    0.000    0.000    0.005    0.001 _pslinux.py:1068(create_time)\n",
      "       10    0.000    0.000    0.000    0.000 {gc.disable}\n",
      "       10    0.000    0.000    0.005    0.001 __init__.py:644(create_time)\n",
      "       20    0.000    0.000    0.000    0.000 _pslinux.py:165(get_procfs_path)\n",
      "       10    0.000    0.000    0.006    0.001 __init__.py:363(__init__)\n",
      "       10    0.000    0.000    0.000    0.000 {method 'rfind' of 'str' objects}\n",
      "       10    0.000    0.000    0.000    0.000 {gc.enable}\n",
      "       10    0.000    0.000    0.000    0.000 {method 'strip' of 'str' objects}\n",
      "       10    0.000    0.000    0.000    0.000 {method 'find' of 'str' objects}\n",
      "       10    0.000    0.000    0.000    0.000 __init__.py:528(pid)\n",
      "\n",
      "\n",
      "============================================================\n",
      "Profile of RDD<id=83>\n",
      "============================================================\n",
      "         4433361 function calls (4432849 primitive calls) in 205.439 seconds\n",
      "\n",
      "   Ordered by: internal time, cumulative time\n",
      "\n",
      "   ncalls  tottime  percall  cumtime  percall filename:lineno(function)\n",
      "   576134  185.570    0.000  185.570    0.000 {method 'read' of 'file' objects}\n",
      "   287811    6.147    0.000    6.147    0.000 {cPickle.loads}\n",
      "     5057    4.856    0.001    4.856    0.001 {cPickle.dumps}\n",
      "      512    2.181    0.004  198.849    0.388 shuffle.py:263(mergeCombiners)\n",
      "   288323    1.341    0.000  194.460    0.001 serializers.py:155(_read_with_length)\n",
      "   276446    0.835    0.000    0.835    0.000 {sorted}\n",
      "   288323    0.738    0.000    2.743    0.000 serializers.py:542(read_int)\n",
      "      512    0.677    0.001    5.950    0.012 serializers.py:259(dump_stream)\n",
      "   288323    0.523    0.000  194.983    0.001 serializers.py:136(load_stream)\n",
      "   287811    0.393    0.000    6.540    0.000 serializers.py:421(loads)\n",
      "   276446    0.350    0.000    1.185    0.000 spark_fof.py:98(<lambda>)\n",
      "      512    0.267    0.001    0.267    0.001 {method 'items' of 'dict' objects}\n",
      "   584314    0.235    0.000    0.235    0.000 shuffle.py:257(_object_size)\n",
      "   307868    0.210    0.000    0.210    0.000 spark_fof.py:100(<lambda>)\n",
      "   288323    0.177    0.000    0.177    0.000 {_struct.unpack}\n",
      "     1024    0.120    0.000    0.234    0.000 _pslinux.py:1079(memory_info)\n",
      "      512    0.111    0.000    0.113    0.000 serializers.py:481(__init__)\n",
      "   298949    0.098    0.000    0.098    0.000 {len}\n",
      "   307868    0.085    0.000    0.085    0.000 rdd.py:1540(<lambda>)\n",
      "      512    0.054    0.000    0.177    0.000 shuffle.py:69(_get_local_dirs)\n",
      "     5057    0.054    0.000    0.054    0.000 {_struct.pack}\n",
      "     1024    0.053    0.000    0.053    0.000 {method 'readline' of 'file' objects}\n",
      "     1536    0.049    0.000    0.054    0.000 posixpath.py:61(join)\n",
      "     1024    0.044    0.000    0.044    0.000 {open}\n",
      "      512    0.035    0.000    0.040    0.000 random.py:100(seed)\n",
      "    10114    0.030    0.000    0.030    0.000 {method 'write' of 'file' objects}\n",
      "      512    0.022    0.000    0.325    0.001 shuffle.py:196(__init__)\n",
      "     5057    0.020    0.000    0.097    0.000 serializers.py:549(write_int)\n",
      "     1024    0.017    0.000    0.264    0.000 shuffle.py:37(get_used_memory)\n",
      "      512    0.017    0.000    0.018    0.000 random.py:277(shuffle)\n",
      "     5057    0.014    0.000    4.870    0.001 serializers.py:414(dumps)\n",
      "      512    0.009    0.000  199.456    0.390 rdd.py:1782(_mergeCombiners)\n",
      "      512    0.008    0.000  199.464    0.390 rdd.py:316(func)\n",
      "     1024    0.008    0.000    0.011    0.000 <string>:8(__new__)\n",
      "      512    0.007    0.000  205.438    0.401 worker.py:104(process)\n",
      "     1024    0.006    0.000    0.240    0.000 _pslinux.py:926(wrapper)\n",
      "      512    0.006    0.000    0.125    0.000 shuffle.py:134(_compressed_serializer)\n",
      "      512    0.006    0.000    0.273    0.001 shuffle.py:337(items)\n",
      "     1536    0.005    0.000    0.005    0.000 {method 'split' of 'str' objects}\n",
      "     1024    0.005    0.000    0.245    0.000 __init__.py:985(memory_info)\n",
      "     1024    0.005    0.000    0.005    0.000 serializers.py:127(__init__)\n",
      "      512    0.005    0.000    0.007    0.000 serializers.py:217(load_stream)\n",
      " 1024/512    0.004    0.000  199.474    0.390 rdd.py:2345(pipeline_func)\n",
      "      512    0.003    0.000    0.006    0.000 UserDict.py:91(get)\n",
      "      512    0.003    0.000    0.003    0.000 rdd.py:303(func)\n",
      "     1024    0.003    0.000    0.047    0.000 _pslinux.py:140(open_binary)\n",
      "      512    0.003    0.000    0.003    0.000 serializers.py:255(__init__)\n",
      "     4608    0.002    0.000    0.002    0.000 {method 'endswith' of 'str' objects}\n",
      "      512    0.002    0.000    0.002    0.000 UserDict.py:103(__contains__)\n",
      "     4608    0.002    0.000    0.002    0.000 {method 'startswith' of 'str' objects}\n",
      "      512    0.002    0.000    0.042    0.000 random.py:91(__init__)\n",
      "     3072    0.002    0.000    0.002    0.000 {posix.getpid}\n",
      "      512    0.002    0.000    0.002    0.000 rdd.py:288(func)\n",
      "      512    0.001    0.000    0.001    0.000 serializers.py:220(_load_stream_without_unbatching)\n",
      "     1024    0.001    0.000    0.001    0.000 {method 'random' of '_random.Random' objects}\n",
      "       58    0.001    0.000    0.001    0.000 {function seed at 0x2b2fd4f30ed8}\n",
      "     1024    0.001    0.000    0.001    0.000 {hasattr}\n",
      "     1024    0.001    0.000    0.001    0.000 {built-in method from_iterable}\n",
      "      512    0.001    0.000    0.001    0.000 shuffle.py:118(__init__)\n",
      "      512    0.001    0.000    0.001    0.000 UserDict.py:35(__getitem__)\n",
      "     1024    0.001    0.000    0.001    0.000 {iter}\n",
      "       60    0.001    0.000    0.001    0.000 {function seed at 0x2ae0b04c7ed8}\n",
      "       51    0.001    0.000    0.001    0.000 {function seed at 0x2ab8fb142ed8}\n",
      "      512    0.000    0.000    0.000    0.000 serializers.py:190(__init__)\n",
      "     1536    0.000    0.000    0.000    0.000 {id}\n",
      "       53    0.000    0.000    0.000    0.000 {function seed at 0x2b23f71faed8}\n",
      "       58    0.000    0.000    0.000    0.000 {function seed at 0x2b635767ded8}\n",
      "       51    0.000    0.000    0.000    0.000 {function seed at 0x2b0c39d32ed8}\n",
      "       49    0.000    0.000    0.000    0.000 {function seed at 0x2ac44f1c9ed8}\n",
      "      120    0.000    0.000    0.000    0.000 {built-in method __new__ of type object at 0x2ae0a9112da0}\n",
      "       46    0.000    0.000    0.000    0.000 {function seed at 0x2aaed4d23ed8}\n",
      "       44    0.000    0.000    0.000    0.000 {function seed at 0x2b422690aed8}\n",
      "      512    0.000    0.000    0.000    0.000 {method 'disable' of '_lsprof.Profiler' objects}\n",
      "       42    0.000    0.000    0.000    0.000 {function seed at 0x2b3f21821ed8}\n",
      "      116    0.000    0.000    0.000    0.000 {built-in method __new__ of type object at 0x2b63502c8da0}\n",
      "      512    0.000    0.000    0.000    0.000 {isinstance}\n",
      "      116    0.000    0.000    0.000    0.000 {built-in method __new__ of type object at 0x2b2fcdb7bda0}\n",
      "       98    0.000    0.000    0.000    0.000 {built-in method __new__ of type object at 0x2ac447e14da0}\n",
      "      106    0.000    0.000    0.000    0.000 {built-in method __new__ of type object at 0x2b23efe45da0}\n",
      "      102    0.000    0.000    0.000    0.000 {built-in method __new__ of type object at 0x2ab8f3d8dda0}\n",
      "      102    0.000    0.000    0.000    0.000 {built-in method __new__ of type object at 0x2b0c3297dda0}\n",
      "       92    0.000    0.000    0.000    0.000 {built-in method __new__ of type object at 0x2aaecd96eda0}\n",
      "       84    0.000    0.000    0.000    0.000 {built-in method __new__ of type object at 0x2b3f1a46cda0}\n",
      "       88    0.000    0.000    0.000    0.000 {built-in method __new__ of type object at 0x2b421f555da0}\n",
      "\n",
      "\n",
      "============================================================\n",
      "Profile of RDD<id=84>\n",
      "============================================================\n",
      "         353924 function calls in 105.816 seconds\n",
      "\n",
      "   Ordered by: internal time, cumulative time\n",
      "\n",
      "   ncalls  tottime  percall  cumtime  percall filename:lineno(function)\n",
      "    13695   79.824    0.006   79.824    0.006 {cPickle.dumps}\n",
      "    13695    8.417    0.001    8.417    0.001 {cPickle.loads}\n",
      "      512    8.298    0.016   21.485    0.042 spark_fof.py:280(remap_gid_partition)\n",
      "    27390    2.177    0.000    2.177    0.000 {method 'write' of 'file' objects}\n",
      "      512    1.969    0.004   84.205    0.164 serializers.py:259(dump_stream)\n",
      "      512    1.773    0.003   11.295    0.022 {numpy.core.multiarray.fromiter}\n",
      "   108771    1.512    0.000    1.512    0.000 {numpy.core.multiarray.where}\n",
      "    27902    0.822    0.000    0.822    0.000 {method 'read' of 'file' objects}\n",
      "      512    0.252    0.000    0.252    0.000 {method 'sort' of 'numpy.ndarray' objects}\n",
      "       10    0.100    0.010    0.100    0.010 {cPickle.load}\n",
      "    14207    0.094    0.000    9.449    0.001 serializers.py:155(_read_with_length)\n",
      "    13695    0.080    0.000    0.248    0.000 serializers.py:549(write_int)\n",
      "    14207    0.072    0.000    9.521    0.001 serializers.py:136(load_stream)\n",
      "    13695    0.067    0.000   79.891    0.006 serializers.py:414(dumps)\n",
      "    13695    0.066    0.000    0.066    0.000 {_struct.pack}\n",
      "      512    0.058    0.000    0.058    0.000 {method 'flatten' of 'numpy.ndarray' objects}\n",
      "    14207    0.058    0.000    0.211    0.000 serializers.py:542(read_int)\n",
      "      512    0.054    0.000    0.381    0.001 arraysetops.py:96(unique)\n",
      "    41085    0.029    0.000    0.029    0.000 {len}\n",
      "    13695    0.029    0.000    8.446    0.001 serializers.py:421(loads)\n",
      "    14207    0.022    0.000    0.022    0.000 {_struct.unpack}\n",
      "      512    0.014    0.000    0.014    0.000 {numpy.core.multiarray.concatenate}\n",
      "      512    0.011    0.000  105.816    0.207 worker.py:104(process)\n",
      "      512    0.004    0.000   21.593    0.042 spark_fof.py:177(<lambda>)\n",
      "      512    0.004    0.000    0.006    0.000 serializers.py:217(load_stream)\n",
      "      512    0.003    0.000    0.004    0.000 numeric.py:484(asanyarray)\n",
      "       10    0.002    0.000    0.102    0.010 broadcast.py:82(load)\n",
      "      512    0.002    0.000   21.595    0.042 rdd.py:316(func)\n",
      "      512    0.001    0.000    0.104    0.000 broadcast.py:92(value)\n",
      "      512    0.001    0.000    0.001    0.000 {iter}\n",
      "      512    0.001    0.000    0.001    0.000 serializers.py:220(_load_stream_without_unbatching)\n",
      "      512    0.001    0.000    0.001    0.000 {numpy.core.multiarray.array}\n",
      "      512    0.001    0.000    0.001    0.000 {built-in method from_iterable}\n",
      "       10    0.001    0.000    0.001    0.000 {open}\n",
      "      512    0.000    0.000    0.000    0.000 {method 'disable' of '_lsprof.Profiler' objects}\n",
      "      512    0.000    0.000    0.000    0.000 {hasattr}\n",
      "       10    0.000    0.000    0.000    0.000 {gc.enable}\n",
      "       10    0.000    0.000    0.000    0.000 {gc.disable}\n",
      "\n",
      "\n"
     ]
    }
   ],
   "source": [
    "sc.show_profiles()"
   ]
  },
  {
   "cell_type": "code",
   "execution_count": null,
   "metadata": {
    "collapsed": false
   },
   "outputs": [],
   "source": [
    "f, axs = plt.subplots(1,2, subplot_kw={'aspect':'equal'}, figsize=(12,12))\n",
    "for group in groups: \n",
    "    inds = np.where(merged_arr['iGroup'] == group)[0]\n",
    "    print group, len(inds)\n",
    "    axs[0].plot(merged_arr['pos'][inds,1], merged_arr['pos'][inds,0], ',')\n",
    "    axs[1].plot(merged_arr['pos'][inds,2], merged_arr['pos'][inds,0], ',')\n",
    "for ax in axs:\n",
    "    ax.set_xlim(-1,1); ax.set_ylim(-1,1)"
   ]
  },
  {
   "cell_type": "code",
   "execution_count": null,
   "metadata": {
    "collapsed": false
   },
   "outputs": [],
   "source": [
    "sc.show_profiles()"
   ]
  },
  {
   "cell_type": "code",
   "execution_count": 20,
   "metadata": {
    "collapsed": false
   },
   "outputs": [
    {
     "ename": "NameError",
     "evalue": "name 'particles' is not defined",
     "output_type": "error",
     "traceback": [
      "\u001b[0;31m---------------------------------------------------------------------------\u001b[0m",
      "\u001b[0;31mNameError\u001b[0m                                 Traceback (most recent call last)",
      "\u001b[0;32m<ipython-input-20-4ebdc17ac1ab>\u001b[0m in \u001b[0;36m<module>\u001b[0;34m()\u001b[0m\n\u001b[0;32m----> 1\u001b[0;31m \u001b[0mget_ipython\u001b[0m\u001b[0;34m(\u001b[0m\u001b[0;34m)\u001b[0m\u001b[0;34m.\u001b[0m\u001b[0mmagic\u001b[0m\u001b[0;34m(\u001b[0m\u001b[0;34mu'time fof.run(particles, tau)'\u001b[0m\u001b[0;34m)\u001b[0m\u001b[0;34m\u001b[0m\u001b[0m\n\u001b[0m",
      "\u001b[0;32m/Users/rokstar/miniconda/lib/python2.7/site-packages/IPython/core/interactiveshell.pyc\u001b[0m in \u001b[0;36mmagic\u001b[0;34m(self, arg_s)\u001b[0m\n\u001b[1;32m   2161\u001b[0m         \u001b[0mmagic_name\u001b[0m\u001b[0;34m,\u001b[0m \u001b[0m_\u001b[0m\u001b[0;34m,\u001b[0m \u001b[0mmagic_arg_s\u001b[0m \u001b[0;34m=\u001b[0m \u001b[0marg_s\u001b[0m\u001b[0;34m.\u001b[0m\u001b[0mpartition\u001b[0m\u001b[0;34m(\u001b[0m\u001b[0;34m' '\u001b[0m\u001b[0;34m)\u001b[0m\u001b[0;34m\u001b[0m\u001b[0m\n\u001b[1;32m   2162\u001b[0m         \u001b[0mmagic_name\u001b[0m \u001b[0;34m=\u001b[0m \u001b[0mmagic_name\u001b[0m\u001b[0;34m.\u001b[0m\u001b[0mlstrip\u001b[0m\u001b[0;34m(\u001b[0m\u001b[0mprefilter\u001b[0m\u001b[0;34m.\u001b[0m\u001b[0mESC_MAGIC\u001b[0m\u001b[0;34m)\u001b[0m\u001b[0;34m\u001b[0m\u001b[0m\n\u001b[0;32m-> 2163\u001b[0;31m         \u001b[0;32mreturn\u001b[0m \u001b[0mself\u001b[0m\u001b[0;34m.\u001b[0m\u001b[0mrun_line_magic\u001b[0m\u001b[0;34m(\u001b[0m\u001b[0mmagic_name\u001b[0m\u001b[0;34m,\u001b[0m \u001b[0mmagic_arg_s\u001b[0m\u001b[0;34m)\u001b[0m\u001b[0;34m\u001b[0m\u001b[0m\n\u001b[0m\u001b[1;32m   2164\u001b[0m \u001b[0;34m\u001b[0m\u001b[0m\n\u001b[1;32m   2165\u001b[0m     \u001b[0;31m#-------------------------------------------------------------------------\u001b[0m\u001b[0;34m\u001b[0m\u001b[0;34m\u001b[0m\u001b[0m\n",
      "\u001b[0;32m/Users/rokstar/miniconda/lib/python2.7/site-packages/IPython/core/interactiveshell.pyc\u001b[0m in \u001b[0;36mrun_line_magic\u001b[0;34m(self, magic_name, line)\u001b[0m\n\u001b[1;32m   2082\u001b[0m                 \u001b[0mkwargs\u001b[0m\u001b[0;34m[\u001b[0m\u001b[0;34m'local_ns'\u001b[0m\u001b[0;34m]\u001b[0m \u001b[0;34m=\u001b[0m \u001b[0msys\u001b[0m\u001b[0;34m.\u001b[0m\u001b[0m_getframe\u001b[0m\u001b[0;34m(\u001b[0m\u001b[0mstack_depth\u001b[0m\u001b[0;34m)\u001b[0m\u001b[0;34m.\u001b[0m\u001b[0mf_locals\u001b[0m\u001b[0;34m\u001b[0m\u001b[0m\n\u001b[1;32m   2083\u001b[0m             \u001b[0;32mwith\u001b[0m \u001b[0mself\u001b[0m\u001b[0;34m.\u001b[0m\u001b[0mbuiltin_trap\u001b[0m\u001b[0;34m:\u001b[0m\u001b[0;34m\u001b[0m\u001b[0m\n\u001b[0;32m-> 2084\u001b[0;31m                 \u001b[0mresult\u001b[0m \u001b[0;34m=\u001b[0m \u001b[0mfn\u001b[0m\u001b[0;34m(\u001b[0m\u001b[0;34m*\u001b[0m\u001b[0margs\u001b[0m\u001b[0;34m,\u001b[0m\u001b[0;34m**\u001b[0m\u001b[0mkwargs\u001b[0m\u001b[0;34m)\u001b[0m\u001b[0;34m\u001b[0m\u001b[0m\n\u001b[0m\u001b[1;32m   2085\u001b[0m             \u001b[0;32mreturn\u001b[0m \u001b[0mresult\u001b[0m\u001b[0;34m\u001b[0m\u001b[0m\n\u001b[1;32m   2086\u001b[0m \u001b[0;34m\u001b[0m\u001b[0m\n",
      "\u001b[0;32m/Users/rokstar/miniconda/lib/python2.7/site-packages/IPython/core/magics/execution.pyc\u001b[0m in \u001b[0;36mtime\u001b[0;34m(self, line, cell, local_ns)\u001b[0m\n",
      "\u001b[0;32m/Users/rokstar/miniconda/lib/python2.7/site-packages/IPython/core/magic.pyc\u001b[0m in \u001b[0;36m<lambda>\u001b[0;34m(f, *a, **k)\u001b[0m\n\u001b[1;32m    191\u001b[0m     \u001b[0;31m# but it's overkill for just that one bit of state.\u001b[0m\u001b[0;34m\u001b[0m\u001b[0;34m\u001b[0m\u001b[0m\n\u001b[1;32m    192\u001b[0m     \u001b[0;32mdef\u001b[0m \u001b[0mmagic_deco\u001b[0m\u001b[0;34m(\u001b[0m\u001b[0marg\u001b[0m\u001b[0;34m)\u001b[0m\u001b[0;34m:\u001b[0m\u001b[0;34m\u001b[0m\u001b[0m\n\u001b[0;32m--> 193\u001b[0;31m         \u001b[0mcall\u001b[0m \u001b[0;34m=\u001b[0m \u001b[0;32mlambda\u001b[0m \u001b[0mf\u001b[0m\u001b[0;34m,\u001b[0m \u001b[0;34m*\u001b[0m\u001b[0ma\u001b[0m\u001b[0;34m,\u001b[0m \u001b[0;34m**\u001b[0m\u001b[0mk\u001b[0m\u001b[0;34m:\u001b[0m \u001b[0mf\u001b[0m\u001b[0;34m(\u001b[0m\u001b[0;34m*\u001b[0m\u001b[0ma\u001b[0m\u001b[0;34m,\u001b[0m \u001b[0;34m**\u001b[0m\u001b[0mk\u001b[0m\u001b[0;34m)\u001b[0m\u001b[0;34m\u001b[0m\u001b[0m\n\u001b[0m\u001b[1;32m    194\u001b[0m \u001b[0;34m\u001b[0m\u001b[0m\n\u001b[1;32m    195\u001b[0m         \u001b[0;32mif\u001b[0m \u001b[0mcallable\u001b[0m\u001b[0;34m(\u001b[0m\u001b[0marg\u001b[0m\u001b[0;34m)\u001b[0m\u001b[0;34m:\u001b[0m\u001b[0;34m\u001b[0m\u001b[0m\n",
      "\u001b[0;32m/Users/rokstar/miniconda/lib/python2.7/site-packages/IPython/core/magics/execution.pyc\u001b[0m in \u001b[0;36mtime\u001b[0;34m(self, line, cell, local_ns)\u001b[0m\n\u001b[1;32m   1171\u001b[0m         \u001b[0;32mif\u001b[0m \u001b[0mmode\u001b[0m\u001b[0;34m==\u001b[0m\u001b[0;34m'eval'\u001b[0m\u001b[0;34m:\u001b[0m\u001b[0;34m\u001b[0m\u001b[0m\n\u001b[1;32m   1172\u001b[0m             \u001b[0mst\u001b[0m \u001b[0;34m=\u001b[0m \u001b[0mclock2\u001b[0m\u001b[0;34m(\u001b[0m\u001b[0;34m)\u001b[0m\u001b[0;34m\u001b[0m\u001b[0m\n\u001b[0;32m-> 1173\u001b[0;31m             \u001b[0mout\u001b[0m \u001b[0;34m=\u001b[0m \u001b[0meval\u001b[0m\u001b[0;34m(\u001b[0m\u001b[0mcode\u001b[0m\u001b[0;34m,\u001b[0m \u001b[0mglob\u001b[0m\u001b[0;34m,\u001b[0m \u001b[0mlocal_ns\u001b[0m\u001b[0;34m)\u001b[0m\u001b[0;34m\u001b[0m\u001b[0m\n\u001b[0m\u001b[1;32m   1174\u001b[0m             \u001b[0mend\u001b[0m \u001b[0;34m=\u001b[0m \u001b[0mclock2\u001b[0m\u001b[0;34m(\u001b[0m\u001b[0;34m)\u001b[0m\u001b[0;34m\u001b[0m\u001b[0m\n\u001b[1;32m   1175\u001b[0m         \u001b[0;32melse\u001b[0m\u001b[0;34m:\u001b[0m\u001b[0;34m\u001b[0m\u001b[0m\n",
      "\u001b[0;32m<timed eval>\u001b[0m in \u001b[0;36m<module>\u001b[0;34m()\u001b[0m\n",
      "\u001b[0;31mNameError\u001b[0m: name 'particles' is not defined"
     ]
    }
   ],
   "source": [
    "%time fof.run(particles, tau)"
   ]
  },
  {
   "cell_type": "code",
   "execution_count": null,
   "metadata": {
    "collapsed": true
   },
   "outputs": [],
   "source": []
  }
 ],
 "metadata": {
  "kernelspec": {
   "display_name": "Python 2",
   "language": "python",
   "name": "python2"
  },
  "language_info": {
   "codemirror_mode": {
    "name": "ipython",
    "version": 2
   },
   "file_extension": ".py",
   "mimetype": "text/x-python",
   "name": "python",
   "nbconvert_exporter": "python",
   "pygments_lexer": "ipython2",
   "version": "2.7.11"
  }
 },
 "nbformat": 4,
 "nbformat_minor": 0
}
