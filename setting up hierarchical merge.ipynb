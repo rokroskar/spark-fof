{
 "cells": [
  {
   "cell_type": "markdown",
   "metadata": {},
   "source": [
    "## test hierarchical merge in FOF algorithm\n",
    "\n",
    "#### the idea is this: \n",
    "\n",
    "* after the local FOF stage, each partition reports the particles it holds in the overlap region\n",
    "* do a reduceByKey or treeAggregate of some sort to collect the groups belonging to the same particles\n",
    "* produce a mapping of $G -> G_1$ and distribute to all hosts in form of broadcast lookup table"
   ]
  },
  {
   "cell_type": "code",
   "execution_count": 1,
   "metadata": {
    "collapsed": false
   },
   "outputs": [
    {
     "name": "stderr",
     "output_type": "stream",
     "text": [
      "/Users/rok/miniconda/lib/python2.7/site-packages/matplotlib/font_manager.py:273: UserWarning: Matplotlib is building the font cache using fc-list. This may take a moment.\n",
      "  warnings.warn('Matplotlib is building the font cache using fc-list. This may take a moment.')\n"
     ]
    }
   ],
   "source": [
    "import numpy as np\n",
    "import matplotlib.pylab as plt\n",
    "%matplotlib inline\n",
    "\n",
    "import sys\n",
    "sys.setrecursionlimit(sys.getrecursionlimit()*10)\n",
    "import matplotlib.patches as patches\n",
    "\n",
    "plt.style.use('bmh')"
   ]
  },
  {
   "cell_type": "code",
   "execution_count": 2,
   "metadata": {
    "collapsed": false
   },
   "outputs": [],
   "source": [
    "import spark_fof\n",
    "import spark_fof_c\n",
    "from fof import fof\n",
    "%load_ext Cython"
   ]
  },
  {
   "cell_type": "code",
   "execution_count": 3,
   "metadata": {
    "collapsed": true
   },
   "outputs": [],
   "source": [
    "def plot_rectangle(rec, ax=None):\n",
    "    if ax is None: \n",
    "        ax = plt.subplot(aspect='equal')\n",
    "    \n",
    "    if isinstance(rec, (list, tuple)):\n",
    "        for r in rec: \n",
    "            plot_rectangle(r,ax)\n",
    "    \n",
    "    else:\n",
    "        size = (rec.maxes-rec.mins)\n",
    "        ax.add_patch(patches.Rectangle(rec.mins, size[0], size[1], fill=False, zorder=-1))"
   ]
  },
  {
   "cell_type": "markdown",
   "metadata": {},
   "source": [
    "## Set up data"
   ]
  },
  {
   "cell_type": "code",
   "execution_count": 89,
   "metadata": {
    "collapsed": false
   },
   "outputs": [],
   "source": [
    "# create the arrays\n",
    "from spark_fof_c import pdt\n",
    "pdt_tipsy = np.dtype([('mass', 'f4'),('pos', 'f4', 3),('vel', 'f4', 3), ('eps', 'f4'), ('phi', 'f4')])\n",
    "# nps = 1000000\n",
    "# ngs = 1\n",
    "# particles = np.zeros(nps, dtype=pdt)\n",
    "# done_ps = 0\n",
    "# #centers = np.random.rand(ngs,3)*1.7 - 0.85\n",
    "# centers = np.array([0,0,0]).reshape(1,3)\n",
    "# for group, center in zip(range(ngs), centers): \n",
    "#     print group, center\n",
    "#     group_ps = nps/ngs\n",
    "#     if nps - (done_ps + group_ps) < group_ps:\n",
    "#         group_ps = nps - done_ps \n",
    "#     particles['pos'][done_ps:done_ps+group_ps] = \\\n",
    "#         np.random.multivariate_normal(center, [[.5,0,0],[0,.5,0],[0,0,.5]], group_ps)\n",
    "#     done_ps += group_ps\n",
    "   \n",
    "# particles['iOrder'] = range(nps)"
   ]
  },
  {
   "cell_type": "code",
   "execution_count": 90,
   "metadata": {
    "collapsed": false
   },
   "outputs": [
    {
     "data": {
      "text/plain": [
       "dtype({'names':['pos','iGroup','iOrder'], 'formats':[('<f4', (3,)),'<i8','<i4'], 'offsets':[0,16,24], 'itemsize':32}, align=True)"
      ]
     },
     "execution_count": 90,
     "metadata": {},
     "output_type": "execute_result"
    }
   ],
   "source": [
    "pdt\n"
   ]
  },
  {
   "cell_type": "code",
   "execution_count": 95,
   "metadata": {
    "collapsed": false
   },
   "outputs": [
    {
     "data": {
      "text/plain": [
       "<function newbyteorder>"
      ]
     },
     "execution_count": 95,
     "metadata": {},
     "output_type": "execute_result"
    }
   ],
   "source": []
  },
  {
   "cell_type": "code",
   "execution_count": 96,
   "metadata": {
    "collapsed": true
   },
   "outputs": [],
   "source": [
    "pdt_noalign = np.dtype([('pos', 'f4', 3), ('iGroup', 'i8'), ('iOrder', 'i4')])"
   ]
  },
  {
   "cell_type": "code",
   "execution_count": 5,
   "metadata": {
    "collapsed": false
   },
   "outputs": [],
   "source": [
    "from spark_fof_c import pdt"
   ]
  },
  {
   "cell_type": "markdown",
   "metadata": {},
   "source": [
    "## Start Spark"
   ]
  },
  {
   "cell_type": "code",
   "execution_count": 6,
   "metadata": {
    "collapsed": true
   },
   "outputs": [],
   "source": [
    "import findspark\n",
    "findspark.init()"
   ]
  },
  {
   "cell_type": "code",
   "execution_count": 7,
   "metadata": {
    "collapsed": true
   },
   "outputs": [],
   "source": [
    "import os\n",
    "os.environ['SPARK_CONF_DIR'] = './conf'\n",
    "os.environ['SPARK_DRIVER_MEMORY'] = '4G'"
   ]
  },
  {
   "cell_type": "code",
   "execution_count": 8,
   "metadata": {
    "collapsed": false
   },
   "outputs": [],
   "source": [
    "import pyspark\n",
    "from pyspark import SparkContext, SparkConf\n",
    "import pynbody"
   ]
  },
  {
   "cell_type": "code",
   "execution_count": 9,
   "metadata": {
    "collapsed": false
   },
   "outputs": [],
   "source": [
    "conf = SparkConf()"
   ]
  },
  {
   "cell_type": "code",
   "execution_count": 10,
   "metadata": {
    "collapsed": false
   },
   "outputs": [
    {
     "data": {
      "text/plain": [
       "<pyspark.conf.SparkConf at 0x116cdf290>"
      ]
     },
     "execution_count": 10,
     "metadata": {},
     "output_type": "execute_result"
    }
   ],
   "source": [
    "conf.set('spark.python.profile', 'true')\n",
    "conf.set('spark.executor.memory', '3G')\n",
    "conf.set('spark.driver.memory', '4G')"
   ]
  },
  {
   "cell_type": "code",
   "execution_count": 11,
   "metadata": {
    "collapsed": false
   },
   "outputs": [],
   "source": [
    "sc = SparkContext(master='local[*]', conf=conf)"
   ]
  },
  {
   "cell_type": "code",
   "execution_count": 12,
   "metadata": {
    "collapsed": false
   },
   "outputs": [],
   "source": [
    "sc.addPyFile('spark_fof.py')\n",
    "sc.addPyFile('spark_util.py')\n",
    "sc.addPyFile('spark_fof_c.pyx')\n",
    "sc.addPyFile('spark_fof_c.c')\n",
    "sc.addPyFile('spark_fof_c.so')\n",
    "sc.addPyFile('fof.so')"
   ]
  },
  {
   "cell_type": "markdown",
   "metadata": {},
   "source": [
    "## Set up the domains"
   ]
  },
  {
   "cell_type": "code",
   "execution_count": 13,
   "metadata": {
    "collapsed": false
   },
   "outputs": [],
   "source": [
    "N = 1\n",
    "tau = 7.8125e-4\n",
    "mins = np.array([-.5,-.5,-.5], dtype=np.float)\n",
    "maxs= np.array([.5,.5,.5], dtype=np.float)\n",
    "domain_containers = spark_fof.setup_domain(N,tau,maxs,mins)"
   ]
  },
  {
   "cell_type": "code",
   "execution_count": 14,
   "metadata": {
    "collapsed": false
   },
   "outputs": [],
   "source": [
    "# f, ax = plt.subplots(subplot_kw={'aspect':'equal'}, figsize=(15,15))\n",
    "# pynbody.plot.image(s.d, width=1, units = 'Msol Mpc^-2', cmap=plt.cm.Greys, show_cbar=False, subplot=ax)\n",
    "# #plot_rectangle(domain_containers[0].bufferRectangle, ax=ax)\n",
    "# for p in particles[::1000000]: \n",
    "#     plot_rectangle(domain_containers[spark_fof.get_bin_cython(p['pos'],2**N, np.array(mins), np.array(maxs))], ax=ax)\n",
    "#     plot_rectangle(domain_containers[spark_fof.get_bin_cython(p['pos'], 2**N, np.array(mins),np.array(maxs))].bufferRectangle, ax=ax)\n",
    "#     ax.plot(p['pos'][0], p['pos'][1], '.')\n",
    "# plt.draw()\n",
    "# ax.set_xlim(-.5,.5)\n",
    "# ax.set_ylim(-.5,.5)"
   ]
  },
  {
   "cell_type": "markdown",
   "metadata": {},
   "source": [
    "### Make the base RDD"
   ]
  },
  {
   "cell_type": "code",
   "execution_count": 29,
   "metadata": {
    "collapsed": false
   },
   "outputs": [],
   "source": [
    "from pyspark.accumulators import AccumulatorParam\n",
    "\n",
    "class dictAdd(AccumulatorParam):\n",
    "    def zero(self, value):\n",
    "        return {i:0 for i in range(len(value))}\n",
    "    def addInPlace(self, val1, val2): \n",
    "        for k, v in val2.iteritems(): \n",
    "            val1[k] += v\n",
    "        return val1\n",
    "    \n",
    "def read_tipsy_output(filename, chunksize = 2048): \n",
    "    \"\"\"\n",
    "    Read a tipsy file and set the sequential particle IDs\n",
    "    \n",
    "    This scans through the data twice -- first to get partition particle counts\n",
    "    and a second time to actually set the particle IDs.\n",
    "    \"\"\"\n",
    "    \n",
    "    # helper functions\n",
    "    def convert_to_fof_particle(s): \n",
    "        p_arr = np.frombuffer(s, pdt_tipsy)\n",
    "\n",
    "        new_arr = np.zeros(len(p_arr), dtype=pdt)\n",
    "        new_arr['pos'] = p_arr['pos']    \n",
    "        return new_arr\n",
    "\n",
    "    def convert_to_fof_particle_partition(index, iterator): \n",
    "        for s in iterator: \n",
    "            a = convert_to_fof_particle(s)\n",
    "            if count: \n",
    "                npart_acc.add({index: len(a)})\n",
    "            yield a\n",
    "\n",
    "    def set_particle_IDs_partition(index, iterator): \n",
    "        p_counts = partition_counts.value\n",
    "        local_index = 0\n",
    "        start_index = sum([p_counts[i] for i in range(index)])\n",
    "        for arr in iterator:\n",
    "            arr['iOrder'] = range(start_index + local_index, start_index + local_index + len(arr))\n",
    "            local_index += len(arr)\n",
    "            yield arr\n",
    "    \n",
    "    rec_rdd = sc.binaryRecords(filename, pdt_tipsy.itemsize*chunksize)\n",
    "    nPartitions = rec_rdd.getNumPartitions()\n",
    "    # set the partition count accumulator\n",
    "    npart_acc = sc.accumulator({i:0 for i in range(nPartitions)}, dictAdd())\n",
    "    count=True\n",
    "    # read the data and count the particles per partition\n",
    "    rec_rdd = rec_rdd.mapPartitionsWithIndex(convert_to_fof_particle_partition)\n",
    "    rec_rdd.count()\n",
    "    count=False\n",
    "\n",
    "    partition_counts = sc.broadcast(npart_acc.value)\n",
    "\n",
    "    return rec_rdd.mapPartitionsWithIndex(set_particle_IDs_partition)"
   ]
  },
  {
   "cell_type": "code",
   "execution_count": 158,
   "metadata": {
    "collapsed": false
   },
   "outputs": [],
   "source": [
    "p_rdd = read_tipsy_output('/Users/rok/polybox/euclid256.nat_no_header', chunksize=1024)"
   ]
  },
  {
   "cell_type": "code",
   "execution_count": 42,
   "metadata": {
    "collapsed": false
   },
   "outputs": [
    {
     "name": "stdout",
     "output_type": "stream",
     "text": [
      "1 loop, best of 3: 504 ms per loop\n"
     ]
    }
   ],
   "source": [
    "%timeit p_rdd.count()"
   ]
  },
  {
   "cell_type": "code",
   "execution_count": 43,
   "metadata": {
    "collapsed": false
   },
   "outputs": [
    {
     "data": {
      "text/plain": [
       "1024"
      ]
     },
     "execution_count": 43,
     "metadata": {},
     "output_type": "execute_result"
    }
   ],
   "source": [
    "len(p_rdd.first())"
   ]
  },
  {
   "cell_type": "code",
   "execution_count": 44,
   "metadata": {
    "collapsed": true
   },
   "outputs": [],
   "source": [
    "ps = np.concatenate(p_rdd.collect())"
   ]
  },
  {
   "cell_type": "code",
   "execution_count": 45,
   "metadata": {
    "collapsed": false
   },
   "outputs": [],
   "source": [
    "assert(len(ps) == len(pynbody.load('/Users/rok/polybox/euclid256.nat')))"
   ]
  },
  {
   "cell_type": "code",
   "execution_count": 46,
   "metadata": {
    "collapsed": false
   },
   "outputs": [
    {
     "name": "stdout",
     "output_type": "stream",
     "text": [
      "number of groups to 1 particle = 7251094\n",
      "CPU times: user 18.2 s, sys: 82.9 ms, total: 18.3 s\n",
      "Wall time: 18.3 s\n"
     ]
    }
   ],
   "source": [
    "%%time \n",
    "nMinMembers = 1\n",
    "n_groups = fof.run(ps, tau, nMinMembers)\n",
    "print 'number of groups to %d particle = %d'%(nMinMembers, n_groups)"
   ]
  },
  {
   "cell_type": "markdown",
   "metadata": {},
   "source": [
    "### Partition particles into domains and set the partition part of local group ID"
   ]
  },
  {
   "cell_type": "code",
   "execution_count": 159,
   "metadata": {
    "collapsed": false
   },
   "outputs": [],
   "source": [
    "# partitioning duplicates the particles that are located in the boundary regions\n",
    "part_rdd = (p_rdd.mapPartitions(lambda particles: spark_fof.partition_particles_cython(particles, domain_containers, tau, mins, maxs))\n",
    "                 .partitionBy(len(domain_containers))\n",
    "                 .values())"
   ]
  },
  {
   "cell_type": "code",
   "execution_count": 160,
   "metadata": {
    "collapsed": false
   },
   "outputs": [
    {
     "data": {
      "text/plain": [
       "16819349"
      ]
     },
     "execution_count": 160,
     "metadata": {},
     "output_type": "execute_result"
    }
   ],
   "source": [
    "part_rdd.count()"
   ]
  },
  {
   "cell_type": "code",
   "execution_count": 161,
   "metadata": {
    "collapsed": false,
    "scrolled": false
   },
   "outputs": [
    {
     "name": "stdout",
     "output_type": "stream",
     "text": [
      "============================================================\n",
      "Profile of RDD<id=66>\n",
      "============================================================\n",
      "         295488 function calls (295452 primitive calls) in 9.055 seconds\n",
      "\n",
      "   Ordered by: internal time, cumulative time\n",
      "\n",
      "   ncalls  tottime  percall  cumtime  percall filename:lineno(function)\n",
      "    32786    7.981    0.000    7.981    0.000 {method 'read' of 'file' objects}\n",
      "    16384    0.384    0.000    0.601    0.000 <ipython-input-29-81e75887d068>:20(convert_to_fof_particle)\n",
      "    16384    0.157    0.000    0.157    0.000 {numpy.core.multiarray.zeros}\n",
      "    16402    0.113    0.000    8.984    0.001 <ipython-input-29-81e75887d068>:27(convert_to_fof_particle_partition)\n",
      "    16402    0.105    0.000    8.155    0.000 serializers.py:155(_read_with_length)\n",
      "    16384    0.057    0.000    0.057    0.000 {numpy.core.multiarray.frombuffer}\n",
      "    16402    0.041    0.000    0.089    0.000 serializers.py:542(read_int)\n",
      "    16384    0.039    0.000    0.047    0.000 <ipython-input-29-81e75887d068>:6(addInPlace)\n",
      "    16384    0.036    0.000    0.082    0.000 accumulators.py:160(add)\n",
      "    16402    0.031    0.000    9.015    0.001 rdd.py:1004(<genexpr>)\n",
      "    16402    0.030    0.000    8.185    0.000 serializers.py:136(load_stream)\n",
      "    16402    0.015    0.000    0.015    0.000 {_struct.unpack}\n",
      "    49188    0.015    0.000    0.015    0.000 {len}\n",
      "       18    0.011    0.001    0.022    0.001 serializers.py:259(dump_stream)\n",
      "       36    0.009    0.000    9.024    0.251 {sum}\n",
      "    16384    0.008    0.000    0.008    0.000 {method 'iteritems' of 'dict' objects}\n",
      "       54    0.007    0.000    9.031    0.167 rdd.py:316(func)\n",
      "    16384    0.006    0.000    0.006    0.000 serializers.py:332(loads)\n",
      "       18    0.003    0.000    0.003    0.000 {cPickle.dumps}\n",
      "       36    0.002    0.000    0.002    0.000 rdd.py:861(func)\n",
      "       36    0.002    0.000    0.002    0.000 {method 'write' of 'file' objects}\n",
      "       18    0.001    0.000    9.055    0.503 worker.py:104(process)\n",
      "       18    0.001    0.000    0.005    0.000 serializers.py:414(dumps)\n",
      "       18    0.001    0.000    0.003    0.000 serializers.py:549(write_int)\n",
      "    54/18    0.001    0.000    9.032    0.502 rdd.py:2345(pipeline_func)\n",
      "       18    0.000    0.000    0.000    0.000 rdd.py:995(<lambda>)\n",
      "       18    0.000    0.000    9.024    0.501 rdd.py:1004(<lambda>)\n",
      "       18    0.000    0.000    0.000    0.000 {_struct.pack}\n",
      "       18    0.000    0.000    0.000    0.000 {operator.add}\n",
      "       18    0.000    0.000    0.000    0.000 {iter}\n",
      "       18    0.000    0.000    0.000    0.000 {method 'disable' of '_lsprof.Profiler' objects}\n",
      "\n",
      "\n",
      "============================================================\n",
      "Profile of RDD<id=67>\n",
      "============================================================\n",
      "         135445050 function calls (135444996 primitive calls) in 473.420 seconds\n",
      "\n",
      "   Ordered by: internal time, cumulative time\n",
      "\n",
      "   ncalls  tottime  percall  cumtime  percall filename:lineno(function)\n",
      "      874  132.586    0.152  132.586    0.152 {cPickle.dumps}\n",
      " 33554432   89.391    0.000   89.391    0.000 spark_fof_c.pyx:120(in_rectangle_cython)\n",
      " 16777216   88.823    0.000  178.214    0.000 spark_fof_c.pyx:58(rect_buffer_zone_cython)\n",
      "     1766   76.058    0.043  471.251    0.267 rdd.py:1697(add_shuffle_key)\n",
      " 17234314   48.710    0.000   48.710    0.000 spark_fof_c.pyx:24(get_bin_cython)\n",
      " 16819349   16.631    0.000   27.296    0.000 rdd.py:61(portable_hash)\n",
      " 16819357    8.461    0.000    8.461    0.000 {isinstance}\n",
      " 16819349    2.203    0.000    2.203    0.000 {hash}\n",
      "    16402    2.081    0.000    5.549    0.000 <ipython-input-29-81e75887d068>:34(set_particle_IDs_partition)\n",
      "     3496    2.080    0.001    2.080    0.001 {method 'write' of 'file' objects}\n",
      " 16819349    1.963    0.000    1.963    0.000 {method 'append' of 'list' objects}\n",
      "    16402    1.609    0.000    1.609    0.000 {range}\n",
      "    32786    0.987    0.000    0.987    0.000 {method 'read' of 'file' objects}\n",
      "    16384    0.335    0.000    0.532    0.000 <ipython-input-29-81e75887d068>:20(convert_to_fof_particle)\n",
      "    76183    0.235    0.000    0.235    0.000 {numpy.core.multiarray.array}\n",
      "    16384    0.145    0.000    0.145    0.000 {numpy.core.multiarray.zeros}\n",
      "    16550    0.144    0.000    0.547    0.000 shuffle.py:37(get_used_memory)\n",
      "    16550    0.124    0.000    0.124    0.000 {psutil._psutil_osx.proc_memory_info}\n",
      "    16550    0.109    0.000    0.293    0.000 _psosx.py:267(memory_info)\n",
      "    16402    0.097    0.000    1.185    0.000 serializers.py:155(_read_with_length)\n",
      "    76183    0.087    0.000    0.321    0.000 function_base.py:1253(copy)\n",
      "       18    0.067    0.004  473.418   26.301 serializers.py:132(dump_stream)\n",
      "    16402    0.064    0.000    1.836    0.000 <ipython-input-29-81e75887d068>:27(convert_to_fof_particle_partition)\n",
      "    16402    0.063    0.000    0.136    0.000 serializers.py:542(read_int)\n",
      "    16402    0.055    0.000    1.240    0.000 serializers.py:136(load_stream)\n",
      "    16550    0.053    0.000    0.376    0.000 __init__.py:936(memory_info)\n",
      "    16384    0.049    0.000    0.049    0.000 {numpy.core.multiarray.frombuffer}\n",
      "    70491    0.031    0.000    0.031    0.000 {len}\n",
      "    16550    0.030    0.000    0.059    0.000 <string>:8(__new__)\n",
      "    16558    0.030    0.000    0.324    0.000 _psosx.py:196(wrapper)\n",
      "    16550    0.029    0.000    0.029    0.000 {built-in method __new__ of type object at 0x100186920}\n",
      "    16402    0.024    0.000    0.024    0.000 {_struct.unpack}\n",
      "    16568    0.018    0.000    0.018    0.000 {hasattr}\n",
      "     1748    0.011    0.000    2.101    0.001 serializers.py:143(_write_with_length)\n",
      "    16550    0.008    0.000    0.008    0.000 {posix.getpid}\n",
      "     2622    0.006    0.000    0.006    0.000 {_struct.pack}\n",
      "    16384    0.006    0.000    0.006    0.000 serializers.py:332(loads)\n",
      "     1748    0.005    0.000    0.017    0.000 serializers.py:549(write_int)\n",
      "        8    0.004    0.000    0.004    0.000 {open}\n",
      "      874    0.003    0.000  132.588    0.152 serializers.py:414(dumps)\n",
      "      874    0.002    0.000    0.004    0.000 serializers.py:538(pack_long)\n",
      "    36/18    0.001    0.000  473.420   26.301 worker.py:104(process)\n",
      "        8    0.001    0.000    0.001    0.000 {cPickle.load}\n",
      "        8    0.001    0.000    0.001    0.000 __init__.py:344(_init)\n",
      "      617    0.001    0.000    0.001    0.000 {method 'keys' of 'dict' objects}\n",
      "     1748    0.000    0.000    0.000    0.000 serializers.py:335(dumps)\n",
      "        8    0.000    0.000    0.000    0.000 {psutil._psutil_osx.proc_create_time}\n",
      "        8    0.000    0.000    0.005    0.001 broadcast.py:82(load)\n",
      "    54/18    0.000    0.000    0.000    0.000 rdd.py:2345(pipeline_func)\n",
      "        8    0.000    0.000    0.000    0.000 _psosx.py:282(create_time)\n",
      "       18    0.000    0.000    0.005    0.000 broadcast.py:92(value)\n",
      "       18    0.000    0.000    0.000    0.000 <ipython-input-159-73a4d402eb4c>:2(<lambda>)\n",
      "       18    0.000    0.000    0.000    0.000 rdd.py:316(func)\n",
      "        8    0.000    0.000    0.000    0.000 __init__.py:619(create_time)\n",
      "       18    0.000    0.000    0.000    0.000 {spark_fof_c.partition_particles_cython}\n",
      "        8    0.000    0.000    0.001    0.000 __init__.py:341(__init__)\n",
      "        8    0.000    0.000    0.000    0.000 _psosx.py:221(__init__)\n",
      "       18    0.000    0.000    0.000    0.000 {sum}\n",
      "       18    0.000    0.000    0.000    0.000 {min}\n",
      "       18    0.000    0.000    0.000    0.000 {method 'items' of 'dict' objects}\n",
      "        8    0.000    0.000    0.000    0.000 __init__.py:503(pid)\n",
      "       18    0.000    0.000    0.000    0.000 {method 'disable' of '_lsprof.Profiler' objects}\n",
      "        8    0.000    0.000    0.000    0.000 {gc.enable}\n",
      "        8    0.000    0.000    0.000    0.000 {gc.disable}\n",
      "\n",
      "\n",
      "============================================================\n",
      "Profile of RDD<id=71>\n",
      "============================================================\n",
      "         33646844 function calls (33646828 primitive calls) in 41.282 seconds\n",
      "\n",
      "   Ordered by: internal time, cumulative time\n",
      "\n",
      "   ncalls  tottime  percall  cumtime  percall filename:lineno(function)\n",
      "      874   21.324    0.024   21.324    0.024 {cPickle.loads}\n",
      " 16819357   12.054    0.000   38.549    0.000 rdd.py:1004(<genexpr>)\n",
      " 16819349    3.594    0.000    3.594    0.000 rdd.py:1540(<lambda>)\n",
      "       16    2.733    0.171   41.281    2.580 {sum}\n",
      "     1756    1.490    0.001    1.490    0.001 {method 'read' of 'file' objects}\n",
      "      882    0.065    0.000   22.900    0.026 serializers.py:136(load_stream)\n",
      "      882    0.009    0.000   22.835    0.026 serializers.py:155(_read_with_length)\n",
      "      882    0.006    0.000    0.184    0.000 serializers.py:542(read_int)\n",
      "      874    0.003    0.000   21.327    0.024 serializers.py:421(loads)\n",
      "      882    0.002    0.000    0.002    0.000 {_struct.unpack}\n",
      "      890    0.001    0.000    0.001    0.000 {len}\n",
      "        8    0.000    0.000    0.000    0.000 serializers.py:259(dump_stream)\n",
      "        8    0.000    0.000    0.000    0.000 serializers.py:217(load_stream)\n",
      "        8    0.000    0.000   41.282    5.160 worker.py:104(process)\n",
      "     24/8    0.000    0.000   41.281    5.160 rdd.py:2345(pipeline_func)\n",
      "        8    0.000    0.000    0.000    0.000 {cPickle.dumps}\n",
      "        8    0.000    0.000    0.000    0.000 serializers.py:549(write_int)\n",
      "       24    0.000    0.000   41.281    1.720 rdd.py:316(func)\n",
      "       16    0.000    0.000    0.000    0.000 {method 'write' of 'file' objects}\n",
      "        8    0.000    0.000   41.281    5.160 rdd.py:1004(<lambda>)\n",
      "       16    0.000    0.000    0.000    0.000 rdd.py:861(func)\n",
      "        8    0.000    0.000    0.000    0.000 serializers.py:414(dumps)\n",
      "        8    0.000    0.000    0.000    0.000 serializers.py:220(_load_stream_without_unbatching)\n",
      "        8    0.000    0.000    0.000    0.000 {_struct.pack}\n",
      "        8    0.000    0.000    0.000    0.000 rdd.py:288(func)\n",
      "        8    0.000    0.000    0.000    0.000 rdd.py:995(<lambda>)\n",
      "        8    0.000    0.000    0.000    0.000 {built-in method from_iterable}\n",
      "        8    0.000    0.000    0.000    0.000 {operator.add}\n",
      "        8    0.000    0.000    0.000    0.000 {iter}\n",
      "        8    0.000    0.000    0.000    0.000 {method 'disable' of '_lsprof.Profiler' objects}\n",
      "\n",
      "\n"
     ]
    }
   ],
   "source": [
    "sc.show_profiles()"
   ]
  },
  {
   "cell_type": "code",
   "execution_count": 127,
   "metadata": {
    "collapsed": false
   },
   "outputs": [],
   "source": [
    "x = p_rdd._jrdd.glom().collect()"
   ]
  },
  {
   "cell_type": "code",
   "execution_count": 134,
   "metadata": {
    "collapsed": false
   },
   "outputs": [],
   "source": [
    "y = part_rdd._jrdd.glom().collect()"
   ]
  },
  {
   "cell_type": "code",
   "execution_count": 186,
   "metadata": {
    "collapsed": false
   },
   "outputs": [
    {
     "data": {
      "text/plain": [
       "988"
      ]
     },
     "execution_count": 186,
     "metadata": {},
     "output_type": "execute_result"
    }
   ],
   "source": [
    "len(y[7])"
   ]
  },
  {
   "cell_type": "code",
   "execution_count": 174,
   "metadata": {
    "collapsed": false
   },
   "outputs": [],
   "source": [
    "from cPickle import loads, dumps"
   ]
  },
  {
   "cell_type": "code",
   "execution_count": 144,
   "metadata": {
    "collapsed": false
   },
   "outputs": [
    {
     "name": "stdout",
     "output_type": "stream",
     "text": [
      "10 loops, best of 3: 97.8 ms per loop\n"
     ]
    }
   ],
   "source": [
    "timeit np.concatenate(loads(x[0][100]))"
   ]
  },
  {
   "cell_type": "code",
   "execution_count": 172,
   "metadata": {
    "collapsed": true
   },
   "outputs": [],
   "source": [
    "b = loads(x[0][100])"
   ]
  },
  {
   "cell_type": "code",
   "execution_count": 175,
   "metadata": {
    "collapsed": false
   },
   "outputs": [
    {
     "name": "stdout",
     "output_type": "stream",
     "text": [
      "100 loops, best of 3: 4.68 ms per loop\n"
     ]
    }
   ],
   "source": [
    "timeit dumps(b)"
   ]
  },
  {
   "cell_type": "code",
   "execution_count": 145,
   "metadata": {
    "collapsed": false
   },
   "outputs": [
    {
     "name": "stdout",
     "output_type": "stream",
     "text": [
      "10 loops, best of 3: 143 ms per loop\n"
     ]
    }
   ],
   "source": [
    "timeit loads(y[0][100])"
   ]
  },
  {
   "cell_type": "code",
   "execution_count": 152,
   "metadata": {
    "collapsed": true
   },
   "outputs": [],
   "source": [
    "a = np.concatenate(loads(x[0][100]))\n",
    "a_str = a.tobytes()"
   ]
  },
  {
   "cell_type": "code",
   "execution_count": 153,
   "metadata": {
    "collapsed": false
   },
   "outputs": [
    {
     "name": "stdout",
     "output_type": "stream",
     "text": [
      "The slowest run took 19.30 times longer than the fastest. This could mean that an intermediate result is being cached.\n",
      "1000000 loops, best of 3: 321 ns per loop\n"
     ]
    }
   ],
   "source": [
    "timeit np.frombuffer(a_str, pdt)"
   ]
  },
  {
   "cell_type": "code",
   "execution_count": 155,
   "metadata": {
    "collapsed": false
   },
   "outputs": [
    {
     "data": {
      "text/plain": [
       "6.4199999999999995e-06"
      ]
     },
     "execution_count": 155,
     "metadata": {},
     "output_type": "execute_result"
    }
   ],
   "source": [
    "321e-9*20"
   ]
  },
  {
   "cell_type": "code",
   "execution_count": 156,
   "metadata": {
    "collapsed": false
   },
   "outputs": [
    {
     "data": {
      "text/plain": [
       "0.1"
      ]
     },
     "execution_count": 156,
     "metadata": {},
     "output_type": "execute_result"
    }
   ],
   "source": [
    "100e-3"
   ]
  },
  {
   "cell_type": "code",
   "execution_count": 154,
   "metadata": {
    "collapsed": false
   },
   "outputs": [
    {
     "data": {
      "text/plain": [
       "array([ ([-0.39915788173675537, -0.26693859696388245, -0.32561394572257996], 0, 203776),\n",
       "       ([-0.4002014100551605, -0.2683628499507904, -0.32715079188346863], 0, 203777),\n",
       "       ([-0.38977810740470886, -0.2641215920448303, -0.3301052153110504], 0, 203778),\n",
       "       ...,\n",
       "       ([-0.39438652992248535, -0.27104148268699646, -0.30935826897621155], 0, 205821),\n",
       "       ([-0.3946029543876648, -0.2695358395576477, -0.309119313955307], 0, 205822),\n",
       "       ([-0.3961787819862366, -0.27145761251449585, -0.30734795331954956], 0, 205823)], \n",
       "      dtype={'names':['pos','iGroup','iOrder'], 'formats':[('<f4', (3,)),'<i8','<i4'], 'offsets':[0,16,24], 'itemsize':32, 'aligned':True})"
      ]
     },
     "execution_count": 154,
     "metadata": {},
     "output_type": "execute_result"
    }
   ],
   "source": [
    "np.frombuffer(a_str,pdt)"
   ]
  },
  {
   "cell_type": "code",
   "execution_count": 138,
   "metadata": {
    "collapsed": false
   },
   "outputs": [
    {
     "data": {
      "text/plain": [
       "1024"
      ]
     },
     "execution_count": 138,
     "metadata": {},
     "output_type": "execute_result"
    }
   ],
   "source": [
    "len(loads(x[0][100])[0])"
   ]
  },
  {
   "cell_type": "code",
   "execution_count": 139,
   "metadata": {
    "collapsed": false
   },
   "outputs": [
    {
     "data": {
      "text/plain": [
       "[array([ ([-0.39915788173675537, -0.26693859696388245, -0.32561394572257996], 0, 203776),\n",
       "        ([-0.4002014100551605, -0.2683628499507904, -0.32715079188346863], 0, 203777),\n",
       "        ([-0.38977810740470886, -0.2641215920448303, -0.3301052153110504], 0, 203778),\n",
       "        ...,\n",
       "        ([-0.3937629461288452, -0.2793988585472107, -0.3096083700656891], 0, 204797),\n",
       "        ([-0.3947446346282959, -0.27967506647109985, -0.3088250756263733], 0, 204798),\n",
       "        ([-0.39515626430511475, -0.27921053767204285, -0.30743318796157837], 0, 204799)], \n",
       "       dtype={'names':['pos','iGroup','iOrder'], 'formats':[('<f4', (3,)),'<i8','<i4'], 'offsets':[0,16,24], 'itemsize':32, 'aligned':True}),\n",
       " array([ ([-0.3962317109107971, -0.27991417050361633, -0.30806562304496765], 0, 204800),\n",
       "        ([-0.39505261182785034, -0.2805139124393463, -0.3073357045650482], 0, 204801),\n",
       "        ([-0.39332547783851624, -0.2796914279460907, -0.309701144695282], 0, 204802),\n",
       "        ...,\n",
       "        ([-0.39438652992248535, -0.27104148268699646, -0.30935826897621155], 0, 205821),\n",
       "        ([-0.3946029543876648, -0.2695358395576477, -0.309119313955307], 0, 205822),\n",
       "        ([-0.3961787819862366, -0.27145761251449585, -0.30734795331954956], 0, 205823)], \n",
       "       dtype={'names':['pos','iGroup','iOrder'], 'formats':[('<f4', (3,)),'<i8','<i4'], 'offsets':[0,16,24], 'itemsize':32, 'aligned':True})]"
      ]
     },
     "execution_count": 139,
     "metadata": {},
     "output_type": "execute_result"
    }
   ],
   "source": [
    "loads(x[0][100])"
   ]
  },
  {
   "cell_type": "code",
   "execution_count": 143,
   "metadata": {
    "collapsed": false
   },
   "outputs": [
    {
     "data": {
      "text/plain": [
       "[([0.011192538775503635, -0.20581234991550446, -0.2265060693025589], 0, 8585643),\n",
       " ([0.01221227366477251, -0.20647509396076202, -0.23139144480228424], 0, 8585644),\n",
       " ([0.004160613287240267, -0.20185111463069916, -0.2340831607580185], 0, 8585645),\n",
       " ([0.016891494393348694, -0.2100699096918106, -0.24276645481586456], 0, 8585646),\n",
       " ([0.023967694491147995, -0.2107529491186142, -0.23905490338802338], 0, 8585647),\n",
       " ([0.013937791809439659, -0.2133299708366394, -0.2401094138622284], 0, 8585648),\n",
       " ([0.018294252455234528, -0.20785769820213318, -0.24001404643058777], 0, 8585649),\n",
       " ([0.01937362551689148, -0.20636248588562012, -0.24167199432849884], 0, 8585650),\n",
       " ([0.022161858156323433, -0.2064046859741211, -0.2427632063627243], 0, 8585651),\n",
       " ([0.01951485313475132, -0.20537813007831573, -0.23483945429325104], 0, 8585652),\n",
       " ([0.01845942623913288, -0.2053600549697876, -0.23991139233112335], 0, 8585653),\n",
       " ([0.02166909910738468, -0.2054964303970337, -0.2383510023355484], 0, 8585654),\n",
       " ([0.015005717054009438, -0.20733579993247986, -0.2392360270023346], 0, 8585655),\n",
       " ([0.015149269253015518, -0.20758724212646484, -0.23956115543842316], 0, 8585656),\n",
       " ([0.01805768348276615, -0.20672300457954407, -0.2398771345615387], 0, 8585657),\n",
       " ([0.018199976533651352, -0.20685063302516937, -0.23972688615322113], 0, 8585658),\n",
       " ([0.018051570281386375, -0.20619316399097443, -0.23951800167560577], 0, 8585659),\n",
       " ([0.020643528550863266, -0.20624478161334991, -0.24008548259735107], 0, 8585660),\n",
       " ([0.018017681315541267, -0.20692339539527893, -0.2396588772535324], 0, 8585661),\n",
       " ([0.020840687677264214, -0.2046486735343933, -0.24102938175201416], 0, 8585662),\n",
       " ([0.020443355664610863, -0.2045411318540573, -0.23933537304401398], 0, 8585663),\n",
       " ([0.018056362867355347, -0.2073885202407837, -0.23978522419929504], 0, 8585664),\n",
       " ([0.02246394008398056, -0.20303678512573242, -0.2341240793466568], 0, 8585665),\n",
       " ([0.017128633335232735, -0.20971743762493134, -0.23209761083126068], 0, 8585666),\n",
       " ([0.021725649014115334, -0.20160530507564545, -0.2326418161392212], 0, 8585667),\n",
       " ([0.014401041902601719, -0.2020142376422882, -0.2308240830898285], 0, 8585668),\n",
       " ([0.016156641766428947, -0.20286597311496735, -0.23030373454093933], 0, 8585669),\n",
       " ([0.008668091148138046, -0.19707585871219635, -0.2408248782157898], 0, 8585670),\n",
       " ([0.013940492644906044, -0.19872349500656128, -0.2395981103181839], 0, 8585671),\n",
       " ([0.015961885452270508, -0.19242194294929504, -0.23370879888534546], 0, 8585672),\n",
       " ([0.020016968250274658, -0.20000243186950684, -0.22888965904712677], 0, 8585673),\n",
       " ([0.022514736279845238, -0.199181467294693, -0.22830846905708313], 0, 8585674),\n",
       " ([0.003935598768293858, -0.20074881613254547, -0.2400854527950287], 0, 8585675),\n",
       " ([0.010935221798717976, -0.20051923394203186, -0.23272567987442017], 0, 8585676),\n",
       " ([0.004964624997228384, -0.19478541612625122, -0.24006709456443787], 0, 8585677),\n",
       " ([0.0033553550019860268, -0.1929636150598526, -0.23625966906547546], 0, 8585678),\n",
       " ([0.008758341893553734, -0.19298966228961945, -0.23499451577663422], 0, 8585679),\n",
       " ([0.0036595335695892572, -0.19169898331165314, -0.24153432250022888], 0, 8585680),\n",
       " ([0.004705334547907114, -0.1954585164785385, -0.23595647513866425], 0, 8585681),\n",
       " ([0.012872590683400631, -0.20254865288734436, -0.2253991663455963], 0, 8585682),\n",
       " ([0.004417132586240768, -0.20759083330631256, -0.22432191669940948], 0, 8585683),\n",
       " ([0.007999633438885212, -0.20735526084899902, -0.22264166176319122], 0, 8585684),\n",
       " ([0.008736569434404373, -0.21068930625915527, -0.22527746856212616], 0, 8585685),\n",
       " ([0.005346904043108225, -0.2076086550951004, -0.21989603340625763], 0, 8585686),\n",
       " ([0.006490490864962339, -0.20975080132484436, -0.2195395529270172], 0, 8585687),\n",
       " ([0.00742214685305953, -0.2131963074207306, -0.21019068360328674], 0, 8585688),\n",
       " ([0.007741465698927641, -0.20865680277347565, -0.21365514397621155], 0, 8585689),\n",
       " ([0.006362456362694502, -0.21032053232192993, -0.21413594484329224], 0, 8585690),\n",
       " ([0.006390605121850967, -0.210026815533638, -0.21442252397537231], 0, 8585691),\n",
       " ([0.006176185328513384, -0.20992448925971985, -0.214304581284523], 0, 8585692),\n",
       " ([0.006333213299512863, -0.21065638959407806, -0.21474841237068176], 0, 8585693),\n",
       " ([0.006524382159113884, -0.21020908653736115, -0.21394376456737518], 0, 8585694),\n",
       " ([0.006029834970831871, -0.21023140847682953, -0.21461239457130432], 0, 8585695),\n",
       " ([0.006463290192186832, -0.21015308797359467, -0.21463020145893097], 0, 8585696),\n",
       " ([0.005678810644894838, -0.20978350937366486, -0.21450673043727875], 0, 8585697),\n",
       " ([0.006323693320155144, -0.2101258933544159, -0.21443521976470947], 0, 8585698),\n",
       " ([0.006146966014057398, -0.2100207805633545, -0.21463631093502045], 0, 8585699),\n",
       " ([0.005394323728978634, -0.21024438738822937, -0.21459679305553436], 0, 8585700),\n",
       " ([0.008264264091849327, -0.21276167035102844, -0.21329180896282196], 0, 8585701),\n",
       " ([0.008074949495494366, -0.21344541013240814, -0.21330226957798004], 0, 8585702),\n",
       " ([0.008099428378045559, -0.21301551163196564, -0.20958976447582245], 0, 8585703),\n",
       " ([0.009131875820457935, -0.21251076459884644, -0.21297940611839294], 0, 8585704),\n",
       " ([0.005339449737221003, -0.20505744218826294, -0.21117959916591644], 0, 8585705),\n",
       " ([0.01057698205113411, -0.20372529327869415, -0.215598464012146], 0, 8585706),\n",
       " ([0.00867922231554985, -0.2053615301847458, -0.21439385414123535], 0, 8585707),\n",
       " ([0.008498627692461014, -0.2048543244600296, -0.21456526219844818], 0, 8585708),\n",
       " ([0.004069847986102104, -0.2059120386838913, -0.20910316705703735], 0, 8585709),\n",
       " ([0.011266995221376419, -0.2050078958272934, -0.2159147709608078], 0, 8585710),\n",
       " ([0.022983890026807785, -0.2014998346567154, -0.21544405817985535], 0, 8585711),\n",
       " ([0.01695106364786625, -0.2072429209947586, -0.21840983629226685], 0, 8585712),\n",
       " ([0.013687677681446075, -0.2023417353630066, -0.2166290432214737], 0, 8585713),\n",
       " ([0.017341701313853264, -0.20512524247169495, -0.20856629312038422], 0, 8585714),\n",
       " ([0.022054988890886307, -0.20778068900108337, -0.2124871462583542], 0, 8585715),\n",
       " ([0.011660936288535595, -0.2011253982782364, -0.2234739065170288], 0, 8585716),\n",
       " ([0.012189924716949463, -0.19923898577690125, -0.21493959426879883], 0, 8585717),\n",
       " ([0.008833943866193295, -0.19276759028434753, -0.22058507800102234], 0, 8585718),\n",
       " ([0.005315669812262058, -0.19735059142112732, -0.22169052064418793], 0, 8585719),\n",
       " ([0.009633056819438934, -0.1913568526506424, -0.21031637489795685], 0, 8585720),\n",
       " ([0.008661036379635334, -0.1977614015340805, -0.2117081880569458], 0, 8585721),\n",
       " ([0.020591609179973602, -0.20138873159885406, -0.2196405827999115], 0, 8585722),\n",
       " ([0.02268136665225029, -0.20010802149772644, -0.21991603076457977], 0, 8585723),\n",
       " ([0.01440691202878952, -0.1934197098016739, -0.22261781990528107], 0, 8585724),\n",
       " ([0.017793787643313408, -0.19911617040634155, -0.21764540672302246], 0, 8585725),\n",
       " ([0.017348600551486015, -0.19946980476379395, -0.21759149432182312], 0, 8585726),\n",
       " ([0.01887674629688263, -0.19280458986759186, -0.21653151512145996], 0, 8585727),\n",
       " ([0.02098245359957218, -0.19870589673519135, -0.2155240774154663], 0, 8585728),\n",
       " ([0.021484196186065674, -0.19041526317596436, -0.2110506147146225], 0, 8585729),\n",
       " ([0.02023819461464882, -0.19971084594726562, -0.2116433084011078], 0, 8585730),\n",
       " ([0.022605283185839653, -0.18953606486320496, -0.20934098958969116], 0, 8585731),\n",
       " ([0.01497617643326521, -0.19038176536560059, -0.20869101583957672], 0, 8585732),\n",
       " ([0.01569809764623642, -0.198407381772995, -0.21121205389499664], 0, 8585733),\n",
       " ([0.01715705916285515, -0.20107214152812958, -0.21151049435138702], 0, 8585734),\n",
       " ([0.023468103259801865, -0.19802597165107727, -0.21008098125457764], 0, 8585735),\n",
       " ([0.01505956519395113, -0.2009519338607788, -0.21060796082019806], 0, 8585736),\n",
       " ([0.020966440439224243, -0.1905883401632309, -0.21376141905784607], 0, 8585737),\n",
       " ([0.02053000219166279, -0.19846348464488983, -0.21492010354995728], 0, 8585738),\n",
       " ([0.015794893726706505, -0.2001904398202896, -0.2089189738035202], 0, 8585739),\n",
       " ([0.02077111415565014, -0.19904708862304688, -0.21152140200138092], 0, 8585740),\n",
       " ([0.020740214735269547, -0.1976584941148758, -0.21080414950847626], 0, 8585741),\n",
       " ([0.030353885143995285, -0.2306331992149353, -0.26019564270973206], 0, 8585742),\n",
       " ([0.043114785104990005, -0.233594611287117, -0.26820167899131775], 0, 8585743),\n",
       " ([0.044845011085271835, -0.2355726808309555, -0.26152166724205017], 0, 8585744),\n",
       " ([0.033341631293296814, -0.236522376537323, -0.2621934711933136], 0, 8585745),\n",
       " ([0.03068437986075878, -0.23138485848903656, -0.2626884877681732], 0, 8585746),\n",
       " ([0.03224171698093414, -0.23354168236255646, -0.2759665548801422], 0, 8585747),\n",
       " ([0.03046543151140213, -0.22959962487220764, -0.2688625752925873], 0, 8585748),\n",
       " ([0.032921940088272095, -0.23557814955711365, -0.2670144736766815], 0, 8585749),\n",
       " ([0.03355659544467926, -0.236557275056839, -0.2611522376537323], 0, 8585750),\n",
       " ([0.045059870928525925, -0.23503319919109344, -0.26052019000053406], 0, 8585751),\n",
       " ([0.03432701528072357, -0.23817726969718933, -0.2612874209880829], 0, 8585752),\n",
       " ([0.04563938081264496, -0.23792387545108795, -0.26562273502349854], 0, 8585753),\n",
       " ([0.04382142052054405, -0.235704243183136, -0.27512428164482117], 0, 8585754),\n",
       " ([0.04464484751224518, -0.21856723725795746, -0.26912325620651245], 0, 8585755),\n",
       " ([0.028497641906142235, -0.2220245599746704, -0.26377347111701965], 0, 8585756),\n",
       " ([0.045724447816610336, -0.21603184938430786, -0.2671678066253662], 0, 8585757),\n",
       " ([0.02705787681043148, -0.21479231119155884, -0.26950645446777344], 0, 8585758),\n",
       " ([0.0394502654671669, -0.22396311163902283, -0.2705804407596588], 0, 8585759),\n",
       " ([0.02797097899019718, -0.2221413254737854, -0.26978281140327454], 0, 8585760),\n",
       " ([0.03802911192178726, -0.21536104381084442, -0.2688007056713104], 0, 8585761),\n",
       " ([0.040507830679416656, -0.22332394123077393, -0.26144272089004517], 0, 8585762),\n",
       " ([0.03394172340631485, -0.2350245863199234, -0.2451048344373703], 0, 8585763),\n",
       " ([0.031084127724170685, -0.2266940027475357, -0.24563145637512207], 0, 8585764),\n",
       " ([0.033191148191690445, -0.2356557846069336, -0.2539950907230377], 0, 8585765),\n",
       " ([0.044991686940193176, -0.23148922622203827, -0.2517414093017578], 0, 8585766),\n",
       " ([0.029501210898160934, -0.22734546661376953, -0.25200778245925903], 0, 8585767),\n",
       " ([0.04612401872873306, -0.22915926575660706, -0.2431195229291916], 0, 8585768),\n",
       " ([0.04606790840625763, -0.21653294563293457, -0.25827470421791077], 0, 8585769),\n",
       " ([0.04599612578749657, -0.21691279113292694, -0.25769171118736267], 0, 8585770),\n",
       " ([0.042968232184648514, -0.22048567235469818, -0.2436930537223816], 0, 8585771),\n",
       " ([0.045686621218919754, -0.21819756925106049, -0.24287497997283936], 0, 8585772),\n",
       " ([0.04500706121325493, -0.21676281094551086, -0.25000327825546265], 0, 8585773),\n",
       " ([0.030413206666707993, -0.21710841357707977, -0.24499912559986115], 0, 8585774),\n",
       " ([0.02807409130036831, -0.2208126187324524, -0.25729936361312866], 0, 8585775),\n",
       " ([0.04134088009595871, -0.2224176973104477, -0.2584684193134308], 0, 8585776),\n",
       " ([0.04140279069542885, -0.22037340700626373, -0.2489573359489441], 0, 8585777),\n",
       " ([0.027857672423124313, -0.2186443954706192, -0.2500607371330261], 0, 8585778),\n",
       " ([0.042440950870513916, -0.21992531418800354, -0.24306409060955048], 0, 8585779),\n",
       " ([0.030882280319929123, -0.21712712943553925, -0.24468155205249786], 0, 8585780),\n",
       " ([0.040533650666475296, -0.2140805572271347, -0.24432656168937683], 0, 8585781),\n",
       " ([0.0502023920416832, -0.22743134200572968, -0.2604849338531494], 0, 8585782),\n",
       " ([0.054596997797489166, -0.23645491898059845, -0.27345922589302063], 0, 8585783),\n",
       " ([0.05491090938448906, -0.23762936890125275, -0.27333155274391174], 0, 8585784),\n",
       " ([0.0534636564552784, -0.2318653017282486, -0.2612617015838623], 0, 8585785),\n",
       " ([0.06530962884426117, -0.23058103024959564, -0.2654403746128082], 0, 8585786),\n",
       " ([0.06251027435064316, -0.2314276546239853, -0.27638477087020874], 0, 8585787),\n",
       " ([0.04635168984532356, -0.22664280235767365, -0.27703094482421875], 0, 8585788),\n",
       " ([0.057116374373435974, -0.2336292713880539, -0.2758631706237793], 0, 8585789),\n",
       " ([0.05386175587773323, -0.2369920313358307, -0.2673923671245575], 0, 8585790),\n",
       " ([0.0523277223110199, -0.23527422547340393, -0.2745468020439148], 0, 8585791),\n",
       " ([0.056277625262737274, -0.23507043719291687, -0.26776206493377686], 0, 8585792),\n",
       " ([0.04974270984530449, -0.22801144421100616, -0.2693224847316742], 0, 8585793),\n",
       " ([0.05344889312982559, -0.2318660467863083, -0.2683756351470947], 0, 8585794),\n",
       " ([0.05828610435128212, -0.23563572764396667, -0.2602520287036896], 0, 8585795),\n",
       " ([0.05334955081343651, -0.23120707273483276, -0.27466243505477905], 0, 8585796),\n",
       " ([0.055694013833999634, -0.23813337087631226, -0.266910582780838], 0, 8585797),\n",
       " ([0.04924343526363373, -0.22312355041503906, -0.26906681060791016], 0, 8585798),\n",
       " ([0.052032310515642166, -0.21651558578014374, -0.2760809063911438], 0, 8585799),\n",
       " ([0.057002484798431396, -0.2230992615222931, -0.27661624550819397], 0, 8585800),\n",
       " ([0.06292500346899033, -0.22216404974460602, -0.2636677622795105], 0, 8585801),\n",
       " ([0.06359206140041351, -0.22356872260570526, -0.273688405752182], 0, 8585802),\n",
       " ([0.05999363586306572, -0.22266492247581482, -0.26368218660354614], 0, 8585803),\n",
       " ([0.05071451514959335, -0.21828556060791016, -0.26542237401008606], 0, 8585804),\n",
       " ([0.054494038224220276, -0.21630820631980896, -0.2637432813644409], 0, 8585805),\n",
       " ([0.05323925241827965, -0.22592447698116302, -0.26778048276901245], 0, 8585806),\n",
       " ([0.058129675686359406, -0.2148357778787613, -0.26340463757514954], 0, 8585807),\n",
       " ([0.057074811309576035, -0.21413354575634003, -0.27313458919525146], 0, 8585808),\n",
       " ([0.05754202976822853, -0.23102904856204987, -0.2478647232055664], 0, 8585809),\n",
       " ([0.05483608692884445, -0.23019695281982422, -0.2542736232280731], 0, 8585810),\n",
       " ([0.05327863246202469, -0.2365412414073944, -0.259124219417572], 0, 8585811),\n",
       " ([0.0554562546312809, -0.23327012360095978, -0.2497854083776474], 0, 8585812),\n",
       " ([0.05976227670907974, -0.22782985866069794, -0.2458808273077011], 0, 8585813),\n",
       " ([0.06112070754170418, -0.2351134717464447, -0.25156623125076294], 0, 8585814),\n",
       " ([0.06578247249126434, -0.22801661491394043, -0.2570701837539673], 0, 8585815),\n",
       " ([0.05757063999772072, -0.23677897453308105, -0.2560015320777893], 0, 8585816),\n",
       " ([0.06696731597185135, -0.22813375294208527, -0.2518462836742401], 0, 8585817),\n",
       " ([0.06069866940379143, -0.23514769971370697, -0.2477150857448578], 0, 8585818),\n",
       " ([0.064415343105793, -0.23523063957691193, -0.244206041097641], 0, 8585819),\n",
       " ([0.052331723272800446, -0.22671158611774445, -0.24884288012981415], 0, 8585820),\n",
       " ([0.05074493959546089, -0.22643251717090607, -0.25707098841667175], 0, 8585821),\n",
       " ([0.0552515909075737, -0.22387851774692535, -0.2584801912307739], 0, 8585822),\n",
       " ([0.05095355212688446, -0.2157755047082901, -0.25605255365371704], 0, 8585823),\n",
       " ([0.05507562682032585, -0.2185857743024826, -0.24931979179382324], 0, 8585824),\n",
       " ([0.051761869341135025, -0.21586959064006805, -0.25603654980659485], 0, 8585825),\n",
       " ([0.056531310081481934, -0.21733218431472778, -0.25252971053123474], 0, 8585826),\n",
       " ([0.05609123036265373, -0.22427065670490265, -0.2531605660915375], 0, 8585827),\n",
       " ([0.049007438123226166, -0.21698693931102753, -0.24448591470718384], 0, 8585828),\n",
       " ([0.0536261722445488, -0.22374998033046722, -0.2494550347328186], 0, 8585829),\n",
       " ([0.05479468032717705, -0.21714214980602264, -0.25660786032676697], 0, 8585830),\n",
       " ([0.0485057532787323, -0.22026404738426208, -0.25840336084365845], 0, 8585831),\n",
       " ([0.04989815875887871, -0.22027254104614258, -0.2559658885002136], 0, 8585832),\n",
       " ([0.06354232877492905, -0.2231295108795166, -0.25530561804771423], 0, 8585833),\n",
       " ([0.06237330660223961, -0.22255459427833557, -0.2533145546913147], 0, 8585834),\n",
       " ([0.06126534938812256, -0.2163829803466797, -0.24948343634605408], 0, 8585835),\n",
       " ([0.05924530699849129, -0.2158394753932953, -0.2572273015975952], 0, 8585836),\n",
       " ([0.0611698180437088, -0.22230875492095947, -0.2559283971786499], 0, 8585837),\n",
       " ([0.058174993842840195, -0.21595406532287598, -0.24704915285110474], 0, 8585838),\n",
       " ([0.06541565805673599, -0.22438296675682068, -0.246124267578125], 0, 8585839),\n",
       " ([0.0674293115735054, -0.2250422239303589, -0.24936839938163757], 0, 8585840),\n",
       " ([0.025963841006159782, -0.20977884531021118, -0.26811447739601135], 0, 8585841),\n",
       " ([0.03418852388858795, -0.20720058679580688, -0.2759035527706146], 0, 8585842),\n",
       " ([0.026543810963630676, -0.20403079688549042, -0.26624900102615356], 0, 8585843),\n",
       " ([0.02839778922498226, -0.21271158754825592, -0.26162466406822205], 0, 8585844),\n",
       " ([0.040833864361047745, -0.20216765999794006, -0.2761927843093872], 0, 8585845),\n",
       " ([0.041080716997385025, -0.2018890380859375, -0.264882892370224], 0, 8585846),\n",
       " ([0.03644722327589989, -0.20258380472660065, -0.2618018388748169], 0, 8585847),\n",
       " ([0.04551120847463608, -0.2029360681772232, -0.2761433720588684], 0, 8585848),\n",
       " ([0.03860652074217796, -0.2021242082118988, -0.262389600276947], 0, 8585849),\n",
       " ([0.042941756546497345, -0.2017473727464676, -0.27688664197921753], 0, 8585850),\n",
       " ([0.038101859390735626, -0.20428097248077393, -0.26199716329574585], 0, 8585851),\n",
       " ([0.04381997138261795, -0.20672543346881866, -0.26439449191093445], 0, 8585852),\n",
       " ([0.03721540421247482, -0.21170830726623535, -0.26649409532546997], 0, 8585853),\n",
       " ([0.0411517396569252, -0.2134009748697281, -0.2672278881072998], 0, 8585854),\n",
       " ([0.04254906624555588, -0.20798936486244202, -0.2631644606590271], 0, 8585855),\n",
       " ([0.04032769426703453, -0.20885927975177765, -0.276056170463562], 0, 8585856),\n",
       " ([0.04569133371114731, -0.20636224746704102, -0.2769092917442322], 0, 8585857),\n",
       " ([0.037652015686035156, -0.2016429901123047, -0.2624831795692444], 0, 8585858),\n",
       " ([0.038501959294080734, -0.2133447229862213, -0.2601572871208191], 0, 8585859),\n",
       " ([0.0298270583152771, -0.18952959775924683, -0.2698027789592743], 0, 8585860),\n",
       " ([0.024562889710068703, -0.19728924334049225, -0.2756681442260742], 0, 8585861),\n",
       " ([0.03335146978497505, -0.19448162615299225, -0.27504825592041016], 0, 8585862),\n",
       " ([0.02535443753004074, -0.19420680403709412, -0.2714177370071411], 0, 8585863),\n",
       " ([0.03265390172600746, -0.19685561954975128, -0.2721048593521118], 0, 8585864),\n",
       " ([0.029659852385520935, -0.1937464326620102, -0.2688714563846588], 0, 8585865),\n",
       " ([0.029918041080236435, -0.18960194289684296, -0.2695353329181671], 0, 8585866),\n",
       " ([0.027454588562250137, -0.19036614894866943, -0.2717423737049103], 0, 8585867),\n",
       " ([0.02987523376941681, -0.19050370156764984, -0.2753472626209259], 0, 8585868),\n",
       " ([0.0319058820605278, -0.19059062004089355, -0.26687702536582947], 0, 8585869),\n",
       " ([0.02454899623990059, -0.19485196471214294, -0.2601816654205322], 0, 8585870),\n",
       " ([0.0321735255420208, -0.19616404175758362, -0.2653164267539978], 0, 8585871),\n",
       " ([0.034899864345788956, -0.1992286890745163, -0.2619832754135132], 0, 8585872),\n",
       " ([0.02673504315316677, -0.19695021212100983, -0.26202744245529175], 0, 8585873),\n",
       " ([0.03448288515210152, -0.19891974329948425, -0.26249682903289795], 0, 8585874),\n",
       " ([0.02955474704504013, -0.19710351526737213, -0.26640453934669495], 0, 8585875),\n",
       " ([0.03457913547754288, -0.19862157106399536, -0.2624810039997101], 0, 8585876),\n",
       " ([0.029280902817845345, -0.1896064579486847, -0.26338499784469604], 0, 8585877),\n",
       " ([0.024957289919257164, -0.19005633890628815, -0.2660316824913025], 0, 8585878),\n",
       " ([0.04539387673139572, -0.19251802563667297, -0.2673349976539612], 0, 8585879),\n",
       " ([0.03881027549505234, -0.1995336413383484, -0.27629750967025757], 0, 8585880),\n",
       " ([0.03762487322092056, -0.19998539984226227, -0.27425259351730347], 0, 8585881),\n",
       " ([0.04047251120209694, -0.19214406609535217, -0.26634958386421204], 0, 8585882),\n",
       " ([0.03649488091468811, -0.19151413440704346, -0.26534023880958557], 0, 8585883),\n",
       " ([0.028862226754426956, -0.20259949564933777, -0.2526743412017822], 0, 8585884),\n",
       " ([0.028745142742991447, -0.20249593257904053, -0.25231999158859253], 0, 8585885),\n",
       " ([0.029973989352583885, -0.20265093445777893, -0.2532944977283478], 0, 8585886),\n",
       " ([0.02999715320765972, -0.2026004195213318, -0.2528979480266571], 0, 8585887),\n",
       " ([0.030923664569854736, -0.20189116895198822, -0.25275102257728577], 0, 8585888),\n",
       " ([0.027655387297272682, -0.2031709849834442, -0.2517978250980377], 0, 8585889),\n",
       " ([0.029117781668901443, -0.20636188983917236, -0.2584027349948883], 0, 8585890),\n",
       " ([0.028989655897021294, -0.2110891342163086, -0.2564549744129181], 0, 8585891),\n",
       " ([0.028291650116443634, -0.20311503112316132, -0.25237971544265747], 0, 8585892),\n",
       " ([0.030008487403392792, -0.2025822103023529, -0.25314730405807495], 0, 8585893),\n",
       " ([0.03070591576397419, -0.20329995453357697, -0.25633662939071655], 0, 8585894),\n",
       " ([0.028800861909985542, -0.20244860649108887, -0.25260797142982483], 0, 8585895),\n",
       " ([0.027910808101296425, -0.20319850742816925, -0.2516508996486664], 0, 8585896),\n",
       " ([0.029970748350024223, -0.21098342537879944, -0.24548578262329102], 0, 8585897),\n",
       " ([0.030092395842075348, -0.21116499602794647, -0.24568039178848267], 0, 8585898),\n",
       " ([0.02576579712331295, -0.2022353857755661, -0.24690552055835724], 0, 8585899),\n",
       " ([0.02677089534699917, -0.20214000344276428, -0.24555791914463043], 0, 8585900),\n",
       " ([0.02844531461596489, -0.20790110528469086, -0.2482941746711731], 0, 8585901),\n",
       " ([0.029659396037459373, -0.21022562682628632, -0.24564115703105927], 0, 8585902),\n",
       " ([0.028779009357094765, -0.21031728386878967, -0.24812863767147064], 0, 8585903),\n",
       " ([0.029163222759962082, -0.2034328579902649, -0.24752743542194366], 0, 8585904),\n",
       " ([0.02817423641681671, -0.2065809965133667, -0.24592465162277222], 0, 8585905),\n",
       " ([0.04508282244205475, -0.2080380916595459, -0.2532384395599365], 0, 8585906),\n",
       " ([0.04331567883491516, -0.20842298865318298, -0.2578280568122864], 0, 8585907),\n",
       " ([0.038774698972702026, -0.2112995982170105, -0.25683513283729553], 0, 8585908),\n",
       " ([0.04611355438828468, -0.2122904658317566, -0.25661763548851013], 0, 8585909),\n",
       " ([0.04026183858513832, -0.20805402100086212, -0.25608253479003906], 0, 8585910),\n",
       " ([0.03635082021355629, -0.20332945883274078, -0.2562473714351654], 0, 8585911),\n",
       " ([0.03659785911440849, -0.2029477059841156, -0.25594910979270935], 0, 8585912),\n",
       " ([0.039290882647037506, -0.20217661559581757, -0.2590532898902893], 0, 8585913),\n",
       " ([0.037410952150821686, -0.20486372709274292, -0.2561790943145752], 0, 8585914),\n",
       " ([0.036532968282699585, -0.20296451449394226, -0.25579532980918884], 0, 8585915),\n",
       " ([0.036322180181741714, -0.2026200294494629, -0.2563484311103821], 0, 8585916),\n",
       " ([0.036514174193143845, -0.20329847931861877, -0.25585249066352844], 0, 8585917),\n",
       " ([0.03992513567209244, -0.2071271389722824, -0.2563396990299225], 0, 8585918),\n",
       " ([0.03645991161465645, -0.2028173953294754, -0.25570040941238403], 0, 8585919),\n",
       " ([0.036574676632881165, -0.20326852798461914, -0.2553897202014923], 0, 8585920),\n",
       " ([0.0365276038646698, -0.20348533987998962, -0.2557890713214874], 0, 8585921),\n",
       " ([0.037353113293647766, -0.20343858003616333, -0.2554236650466919], 0, 8585922),\n",
       " ([0.036402296274900436, -0.20289398729801178, -0.25541070103645325], 0, 8585923),\n",
       " ([0.0394895076751709, -0.2071414589881897, -0.25275635719299316], 0, 8585924),\n",
       " ([0.036454107612371445, -0.203391432762146, -0.2555599808692932], 0, 8585925),\n",
       " ([0.03600158914923668, -0.2029763013124466, -0.25493305921554565], 0, 8585926),\n",
       " ([0.03613508120179176, -0.20431265234947205, -0.25446704030036926], 0, 8585927),\n",
       " ([0.040819376707077026, -0.20468072593212128, -0.25328537821769714], 0, 8585928),\n",
       " ([0.04113714396953583, -0.20715048909187317, -0.2558373808860779], 0, 8585929),\n",
       " ([0.04176711291074753, -0.2074861377477646, -0.2542200982570648], 0, 8585930),\n",
       " ([0.04164813458919525, -0.20753605663776398, -0.25615131855010986], 0, 8585931),\n",
       " ([0.03890511766076088, -0.20963428914546967, -0.24302391707897186], 0, 8585932),\n",
       " ([0.03913218528032303, -0.2128249555826187, -0.2450232207775116], 0, 8585933),\n",
       " ([0.03572605177760124, -0.2056572437286377, -0.25116604566574097], 0, 8585934),\n",
       " ([0.03875451534986496, -0.21143318712711334, -0.24461141228675842], 0, 8585935),\n",
       " ([0.03848358243703842, -0.21212486922740936, -0.24507860839366913], 0, 8585936),\n",
       " ([0.037883415818214417, -0.21128825843334198, -0.24837076663970947], 0, 8585937),\n",
       " ([0.03706430643796921, -0.20761461555957794, -0.2502748966217041], 0, 8585938),\n",
       " ([0.03837781399488449, -0.211810901761055, -0.24528402090072632], 0, 8585939),\n",
       " ([0.03585601598024368, -0.20581747591495514, -0.2514767050743103], 0, 8585940),\n",
       " ([0.03840488940477371, -0.21226276457309723, -0.24540592730045319], 0, 8585941),\n",
       " ([0.03586829826235771, -0.20821870863437653, -0.24435243010520935], 0, 8585942),\n",
       " ([0.045816242694854736, -0.20196697115898132, -0.24694328010082245], 0, 8585943),\n",
       " ([0.03303493186831474, -0.20028287172317505, -0.25424155592918396], 0, 8585944),\n",
       " ([0.029194865375757217, -0.2006557583808899, -0.25197795033454895], 0, 8585945),\n",
       " ([0.03425448387861252, -0.20012101531028748, -0.25754842162132263], 0, 8585946),\n",
       " ([0.03428046777844429, -0.20111437141895294, -0.25450560450553894], 0, 8585947),\n",
       " ([0.029836425557732582, -0.19939036667346954, -0.2536109387874603], 0, 8585948),\n",
       " ([0.03126167505979538, -0.19791071116924286, -0.2538468539714813], 0, 8585949),\n",
       " ([0.03288367763161659, -0.19974565505981445, -0.25827881693840027], 0, 8585950),\n",
       " ([0.031804826110601425, -0.19957026839256287, -0.2542114555835724], 0, 8585951),\n",
       " ([0.03352503851056099, -0.1959131509065628, -0.2575920522212982], 0, 8585952),\n",
       " ([0.02911391668021679, -0.19610299170017242, -0.25523683428764343], 0, 8585953),\n",
       " ([0.0334949716925621, -0.1956583559513092, -0.2577369213104248], 0, 8585954),\n",
       " ([0.03492492064833641, -0.18930524587631226, -0.2546054422855377], 0, 8585955),\n",
       " ([0.03383975103497505, -0.1895405799150467, -0.2537212669849396], 0, 8585956),\n",
       " ([0.030367648229002953, -0.19179630279541016, -0.255176305770874], 0, 8585957),\n",
       " ([0.033578213304281235, -0.19392462074756622, -0.254580020904541], 0, 8585958),\n",
       " ([0.026924477890133858, -0.19030722975730896, -0.26007187366485596], 0, 8585959),\n",
       " ([0.03411984071135521, -0.19333167374134064, -0.2547726333141327], 0, 8585960),\n",
       " ([0.035067588090896606, -0.1893516480922699, -0.2546084225177765], 0, 8585961),\n",
       " ([0.034391745924949646, -0.19099655747413635, -0.25556644797325134], 0, 8585962),\n",
       " ([0.03392595425248146, -0.1941787153482437, -0.25432395935058594], 0, 8585963),\n",
       " ([0.03404400497674942, -0.19383491575717926, -0.2544628381729126], 0, 8585964),\n",
       " ([0.033920496702194214, -0.1941612958908081, -0.25444111227989197], 0, 8585965),\n",
       " ([0.02964734472334385, -0.1910400241613388, -0.2567119002342224], 0, 8585966),\n",
       " ([0.03405380621552467, -0.1922372579574585, -0.25450557470321655], 0, 8585967),\n",
       " ([0.034599918872117996, -0.19109857082366943, -0.2553052604198456], 0, 8585968),\n",
       " ([0.033305421471595764, -0.19333939254283905, -0.25417953729629517], 0, 8585969),\n",
       " ([0.02935708872973919, -0.19651882350444794, -0.24700601398944855], 0, 8585970),\n",
       " ([0.02866453118622303, -0.1989189088344574, -0.24592457711696625], 0, 8585971),\n",
       " ([0.03094531036913395, -0.20035801827907562, -0.24846069514751434], 0, 8585972),\n",
       " ([0.03541436418890953, -0.18987174332141876, -0.25531673431396484], 0, 8585973),\n",
       " ([0.03575754910707474, -0.18959194421768188, -0.255625456571579], 0, 8585974),\n",
       " ([0.03561235964298248, -0.19196286797523499, -0.2550617456436157], 0, 8585975),\n",
       " ([0.04092417284846306, -0.2013687640428543, -0.25199806690216064], 0, 8585976),\n",
       " ([0.03546586632728577, -0.19842424988746643, -0.25491636991500854], 0, 8585977),\n",
       " ([0.03582879155874252, -0.2013293355703354, -0.25198209285736084], 0, 8585978),\n",
       " ([0.03560500964522362, -0.19132140278816223, -0.2552635371685028], 0, 8585979),\n",
       " ([0.03607938066124916, -0.19111883640289307, -0.2552404999732971], 0, 8585980),\n",
       " ([0.038233257830142975, -0.19230087101459503, -0.25849077105522156], 0, 8585981),\n",
       " ([0.04615641012787819, -0.19325393438339233, -0.25977757573127747], 0, 8585982),\n",
       " ([0.035768553614616394, -0.20030471682548523, -0.25730210542678833], 0, 8585983),\n",
       " ([0.03572168946266174, -0.2003612369298935, -0.25703558325767517], 0, 8585984),\n",
       " ([0.03667968139052391, -0.19917091727256775, -0.2441989630460739], 0, 8585985),\n",
       " ([0.04436569660902023, -0.19722850620746613, -0.2453274428844452], 0, 8585986),\n",
       " ([0.04403666406869888, -0.1933305561542511, -0.2451927810907364], 0, 8585987),\n",
       " ([0.04003337770700455, -0.19464586675167084, -0.249609112739563], 0, 8585988),\n",
       " ([0.036747317761182785, -0.19298101961612701, -0.2514796853065491], 0, 8585989),\n",
       " ([0.036095134913921356, -0.19107685983181, -0.24533598124980927], 0, 8585990),\n",
       " ([0.03567821532487869, -0.19095176458358765, -0.24544645845890045], 0, 8585991),\n",
       " ([0.03616070747375488, -0.19103583693504333, -0.2454492598772049], 0, 8585992),\n",
       " ([0.03642985224723816, -0.19943222403526306, -0.2441578209400177], 0, 8585993),\n",
       " ([0.0649123340845108, -0.2033311128616333, -0.2640326917171478], 0, 8585994),\n",
       " ([0.04730994254350662, -0.20363079011440277, -0.26621294021606445], 0, 8585995),\n",
       " ([0.053247228264808655, -0.20347173511981964, -0.27385199069976807], 0, 8585996),\n",
       " ([0.050223059952259064, -0.21107836067676544, -0.2645076513290405], 0, 8585997),\n",
       " ([0.0649837777018547, -0.20329879224300385, -0.2701976001262665], 0, 8585998),\n",
       " ([0.06650303304195404, -0.20303204655647278, -0.27000707387924194], 0, 8585999),\n",
       " ([0.06594152003526688, -0.20785962045192719, -0.2709636092185974], 0, 8586000),\n",
       " ([0.04706192761659622, -0.20888517796993256, -0.27626070380210876], 0, 8586001),\n",
       " ([0.05529307574033737, -0.20551471412181854, -0.26513805985450745], 0, 8586002),\n",
       " ([0.047979507595300674, -0.2117970585823059, -0.26393261551856995], 0, 8586003),\n",
       " ([0.06502564251422882, -0.19802320003509521, -0.2696724832057953], 0, 8586004),\n",
       " ([0.05654196813702583, -0.1929938942193985, -0.2652897834777832], 0, 8586005),\n",
       " ([0.05972558259963989, -0.19561028480529785, -0.26451048254966736], 0, 8586006),\n",
       " ([0.060356952250003815, -0.1956869512796402, -0.26447543501853943], 0, 8586007),\n",
       " ([0.059647273272275925, -0.19496409595012665, -0.27172335982322693], 0, 8586008),\n",
       " ([0.054845698177814484, -0.19254986941814423, -0.26619699597358704], 0, 8586009),\n",
       " ([0.06373888999223709, -0.20057164132595062, -0.2762373089790344], 0, 8586010),\n",
       " ([0.06407877802848816, -0.2005782127380371, -0.2761499583721161], 0, 8586011),\n",
       " ([0.05907069519162178, -0.19545681774616241, -0.271785706281662], 0, 8586012),\n",
       " ([0.06416995078325272, -0.19838319718837738, -0.27703139185905457], 0, 8586013),\n",
       " ([0.06686528772115707, -0.19939745962619781, -0.26390349864959717], 0, 8586014),\n",
       " ([0.05163796618580818, -0.1915745586156845, -0.27554818987846375], 0, 8586015),\n",
       " ([0.05631120502948761, -0.19194059073925018, -0.27089038491249084], 0, 8586016),\n",
       " ([0.05133410915732384, -0.20489196479320526, -0.24361512064933777], 0, 8586017),\n",
       " ([0.049403343349695206, -0.2048652172088623, -0.2497439980506897], 0, 8586018),\n",
       " ([0.051685646176338196, -0.2111775428056717, -0.24920286238193512], 0, 8586019),\n",
       " ([0.04790205508470535, -0.21321271359920502, -0.2562188506126404], 0, 8586020),\n",
       " ([0.046337250620126724, -0.21250051259994507, -0.2564282715320587], 0, 8586021),\n",
       " ([0.05374161899089813, -0.21110163629055023, -0.24526521563529968], 0, 8586022),\n",
       " ([0.05166039615869522, -0.21203051507472992, -0.2513148784637451], 0, 8586023),\n",
       " ([0.05430491641163826, -0.21073444187641144, -0.24532364308834076], 0, 8586024),\n",
       " ([0.04821256548166275, -0.20672675967216492, -0.24828460812568665], 0, 8586025),\n",
       " ([0.04875098541378975, -0.21330085396766663, -0.25574758648872375], 0, 8586026),\n",
       " ([0.048261575400829315, -0.20522446930408478, -0.2588315010070801], 0, 8586027),\n",
       " ([0.05100319907069206, -0.2126917541027069, -0.2574600577354431], 0, 8586028),\n",
       " ([0.047082509845495224, -0.21284730732440948, -0.25242966413497925], 0, 8586029),\n",
       " ([0.04665401950478554, -0.20914411544799805, -0.2479705661535263], 0, 8586030),\n",
       " ([0.05862044915556908, -0.20584525167942047, -0.24858468770980835], 0, 8586031),\n",
       " ([0.06566677242517471, -0.20324170589447021, -0.2476685792207718], 0, 8586032),\n",
       " ([0.06708688288927078, -0.20236879587173462, -0.2477790117263794], 0, 8586033),\n",
       " ([0.06813815981149673, -0.20551593601703644, -0.24806445837020874], 0, 8586034),\n",
       " ([0.06767432391643524, -0.2070523500442505, -0.24346645176410675], 0, 8586035),\n",
       " ([0.06562847644090652, -0.20330989360809326, -0.24708129465579987], 0, 8586036),\n",
       " ([0.06731975823640823, -0.20749324560165405, -0.24332484602928162], 0, 8586037),\n",
       " ([0.06456487625837326, -0.20276658236980438, -0.25824692845344543], 0, 8586038),\n",
       " ([0.06732773035764694, -0.20878444612026215, -0.25744250416755676], 0, 8586039),\n",
       " ([0.06655935943126678, -0.2030152529478073, -0.24792762100696564], 0, 8586040),\n",
       " ([0.06622372567653656, -0.20830273628234863, -0.24811804294586182], 0, 8586041),\n",
       " ([0.05737233906984329, -0.20676997303962708, -0.25734686851501465], 0, 8586042),\n",
       " ([0.05590439960360527, -0.19594451785087585, -0.24788765609264374], 0, 8586043),\n",
       " ([0.056010060012340546, -0.19477735459804535, -0.2587019205093384], 0, 8586044),\n",
       " ([0.048859983682632446, -0.1984022855758667, -0.24337075650691986], 0, 8586045),\n",
       " ([0.057137709110975266, -0.19528697431087494, -0.24472002685070038], 0, 8586046),\n",
       " ([0.047220971435308456, -0.1970590204000473, -0.24311688542366028], 0, 8586047),\n",
       " ([0.047321610152721405, -0.19210655987262726, -0.24715189635753632], 0, 8586048),\n",
       " ([0.05350194871425629, -0.1897105872631073, -0.24682222306728363], 0, 8586049),\n",
       " ([0.05259798467159271, -0.18959461152553558, -0.24607594311237335], 0, 8586050),\n",
       " ([0.05969397723674774, -0.1964632272720337, -0.25876808166503906], 0, 8586051),\n",
       " ([0.062195926904678345, -0.20037390291690826, -0.2483064830303192], 0, 8586052),\n",
       " ([0.05980997532606125, -0.19644233584403992, -0.24722208082675934], 0, 8586053),\n",
       " ([0.0680573582649231, -0.20069767534732819, -0.25708386301994324], 0, 8586054),\n",
       " ([0.05965973436832428, -0.19591718912124634, -0.24665993452072144], 0, 8586055),\n",
       " ([0.06265852600336075, -0.19505085051059723, -0.2500365376472473], 0, 8586056),\n",
       " ([0.06040254235267639, -0.19514207541942596, -0.24639229476451874], 0, 8586057),\n",
       " ([0.06070858985185623, -0.19550162553787231, -0.24648073315620422], 0, 8586058),\n",
       " ([0.0660485029220581, -0.19494938850402832, -0.24551942944526672], 0, 8586059),\n",
       " ([0.059712667018175125, -0.19595865905284882, -0.24733060598373413], 0, 8586060),\n",
       " ([0.06194238364696503, -0.19840280711650848, -0.25871503353118896], 0, 8586061),\n",
       " ([0.060002297163009644, -0.19612908363342285, -0.25871187448501587], 0, 8586062),\n",
       " ([0.05971614643931389, -0.19632470607757568, -0.24712616205215454], 0, 8586063),\n",
       " ([0.06356377899646759, -0.19175925850868225, -0.2594764530658722], 0, 8586064),\n",
       " ([0.03951980918645859, -0.23409423232078552, -0.2276901751756668], 0, 8586065),\n",
       " ([0.032998133450746536, -0.22801725566387177, -0.24222740530967712], 0, 8586066),\n",
       " ([0.035216908901929855, -0.23053355515003204, -0.23494267463684082], 0, 8586067),\n",
       " ([0.03663778677582741, -0.23716019093990326, -0.23916587233543396], 0, 8586068),\n",
       " ([0.04293075203895569, -0.215677410364151, -0.22912421822547913], 0, 8586069),\n",
       " ([0.03198142349720001, -0.21970590949058533, -0.23802924156188965], 0, 8586070),\n",
       " ([0.028360571712255478, -0.21439391374588013, -0.23044465482234955], 0, 8586071),\n",
       " ([0.03728177770972252, -0.22265665233135223, -0.22794073820114136], 0, 8586072),\n",
       " ([0.04185207933187485, -0.2185622602701187, -0.23051883280277252], 0, 8586073),\n",
       " ([0.0380970761179924, -0.2247854620218277, -0.2272852063179016], 0, 8586074),\n",
       " ([0.026190903037786484, -0.2190573513507843, -0.23222565650939941], 0, 8586075),\n",
       " ([0.045563433319330215, -0.21810884773731232, -0.2427562177181244], 0, 8586076),\n",
       " ([0.03417060524225235, -0.21492071449756622, -0.23280537128448486], 0, 8586077),\n",
       " ([0.03982330858707428, -0.21464376151561737, -0.23881636559963226], 0, 8586078),\n",
       " ([0.04417066648602486, -0.22254560887813568, -0.22836704552173615], 0, 8586079),\n",
       " ([0.02650505118072033, -0.2220298945903778, -0.22708778083324432], 0, 8586080),\n",
       " ([0.0359409861266613, -0.21836784482002258, -0.23097611963748932], 0, 8586081),\n",
       " ([0.04560021683573723, -0.22475281357765198, -0.23579053580760956], 0, 8586082),\n",
       " ([0.03561427444219589, -0.22280964255332947, -0.23055879771709442], 0, 8586083),\n",
       " ([0.02536165527999401, -0.2290886640548706, -0.22319932281970978], 0, 8586084),\n",
       " ([0.039501383900642395, -0.22977758944034576, -0.22276809811592102], 0, 8586085),\n",
       " ([0.0360090509057045, -0.2280978113412857, -0.20853392779827118], 0, 8586086),\n",
       " ([0.03790384903550148, -0.22624771296977997, -0.21558119356632233], 0, 8586087),\n",
       " ([0.04611099138855934, -0.23052731156349182, -0.21119850873947144], 0, 8586088),\n",
       " ([0.02664313279092312, -0.23656214773654938, -0.219408318400383], 0, 8586089),\n",
       " ([0.025650762021541595, -0.2321118861436844, -0.21380329132080078], 0, 8586090),\n",
       " ([0.039584606885910034, -0.2330639511346817, -0.21448597311973572], 0, 8586091),\n",
       " ([0.043883245438337326, -0.2231556922197342, -0.21302808821201324], 0, 8586092),\n",
       " ([0.035861529409885406, -0.21859152615070343, -0.21823078393936157], 0, 8586093),\n",
       " ([0.03281925991177559, -0.2160181850194931, -0.21404024958610535], 0, 8586094),\n",
       " ([0.034428466111421585, -0.22197821736335754, -0.21149739623069763], 0, 8586095),\n",
       " ([0.02491985447704792, -0.21820387244224548, -0.21638168394565582], 0, 8586096),\n",
       " ([0.043289344757795334, -0.21783553063869476, -0.21474571526050568], 0, 8586097),\n",
       " ([0.024695277214050293, -0.22401583194732666, -0.21489788591861725], 0, 8586098),\n",
       " ([0.04429919645190239, -0.21986335515975952, -0.21909449994564056], 0, 8586099),\n",
       " ([0.04338080435991287, -0.21462208032608032, -0.22331386804580688], 0, 8586100),\n",
       " ([0.05504164472222328, -0.22782249748706818, -0.23985527455806732], 0, 8586101),\n",
       " ([0.0568818598985672, -0.23216722905635834, -0.2416556030511856], 0, 8586102),\n",
       " ([0.05186318978667259, -0.23580867052078247, -0.23161974549293518], 0, 8586103),\n",
       " ([0.049514077603816986, -0.22955012321472168, -0.2260432094335556], 0, 8586104),\n",
       " ([0.05613738298416138, -0.22752097249031067, -0.2271748036146164], 0, 8586105),\n",
       " ([0.04823845252394676, -0.23126672208309174, -0.23980584740638733], 0, 8586106),\n",
       " ([0.052895527333021164, -0.2269599288702011, -0.24224306643009186], 0, 8586107),\n",
       " ([0.05663200467824936, -0.22678817808628082, -0.23896750807762146], 0, 8586108),\n",
       " ([0.04755285009741783, -0.22695398330688477, -0.22565430402755737], 0, 8586109),\n",
       " ([0.06461983919143677, -0.23180432617664337, -0.2391655594110489], 0, 8586110),\n",
       " ([0.06476227939128876, -0.23646870255470276, -0.23093818128108978], 0, 8586111),\n",
       " ([0.06104687601327896, -0.22891703248023987, -0.23270057141780853], 0, 8586112),\n",
       " ([0.05921383574604988, -0.23213309049606323, -0.232669398188591], 0, 8586113),\n",
       " ([0.06234179809689522, -0.23826655745506287, -0.22917096316814423], 0, 8586114),\n",
       " ([0.059180401265621185, -0.23475058376789093, -0.2363671213388443], 0, 8586115),\n",
       " ([0.060468368232250214, -0.23249462246894836, -0.24021728336811066], 0, 8586116),\n",
       " ([0.065374955534935, -0.23598764836788177, -0.23339109122753143], 0, 8586117),\n",
       " ([0.06255639344453812, -0.23426195979118347, -0.24014180898666382], 0, 8586118),\n",
       " ([0.06293442100286484, -0.2340308278799057, -0.23592503368854523], 0, 8586119),\n",
       " ([0.05558905377984047, -0.21586215496063232, -0.22959579527378082], 0, 8586120),\n",
       " ([0.04985567182302475, -0.21425800025463104, -0.2294078916311264], 0, 8586121),\n",
       " ([0.05348272621631622, -0.21601124107837677, -0.2258089780807495], 0, 8586122),\n",
       " ([0.05523177608847618, -0.22591054439544678, -0.24102556705474854], 0, 8586123),\n",
       " ([0.05650383234024048, -0.21694527566432953, -0.22959394752979279], 0, 8586124),\n",
       " ([0.05603404715657234, -0.21935006976127625, -0.2327560931444168], 0, 8586125),\n",
       " ([0.05220629274845123, -0.2199718952178955, -0.2394799292087555], 0, 8586126),\n",
       " ([0.05148245394229889, -0.2223980873823166, -0.23635946214199066], 0, 8586127),\n",
       " ([0.051244139671325684, -0.21521872282028198, -0.23013700544834137], 0, 8586128),\n",
       " ([0.05357718840241432, -0.21993999183177948, -0.2269720733165741], 0, 8586129),\n",
       " ([0.05872302129864693, -0.22211167216300964, -0.24238768219947815], 0, 8586130),\n",
       " ([0.06388694792985916, -0.2147056609392166, -0.24202904105186462], 0, 8586131),\n",
       " ([0.06104584410786629, -0.2158091813325882, -0.24131004512310028], 0, 8586132),\n",
       " ([0.06339915096759796, -0.22540788352489471, -0.2348397821187973], 0, 8586133),\n",
       " ([0.06418011337518692, -0.22012518346309662, -0.22912359237670898], 0, 8586134),\n",
       " ([0.06555205583572388, -0.22130705416202545, -0.22973203659057617], 0, 8586135),\n",
       " ([0.05925413966178894, -0.2207074910402298, -0.22812096774578094], 0, 8586136),\n",
       " ([0.05934585630893707, -0.22108301520347595, -0.22784508764743805], 0, 8586137),\n",
       " ([0.06401411443948746, -0.22025099396705627, -0.22838683426380157], 0, 8586138),\n",
       " ([0.06035248190164566, -0.22486838698387146, -0.2264067679643631], 0, 8586139),\n",
       " ([0.06544095277786255, -0.2210468202829361, -0.22953251004219055], 0, 8586140),\n",
       " ([0.06421149522066116, -0.22014248371124268, -0.22907334566116333], 0, 8586141),\n",
       " ([0.06174333393573761, -0.21666182577610016, -0.22882863879203796], 0, 8586142),\n",
       " ([0.06416875123977661, -0.21384572982788086, -0.2305939793586731], 0, 8586143),\n",
       " ([0.06487952172756195, -0.21856215596199036, -0.22952991724014282], 0, 8586144),\n",
       " ([0.06423136591911316, -0.21429237723350525, -0.23056857287883759], 0, 8586145),\n",
       " ([0.061660055071115494, -0.21415193378925323, -0.23245471715927124], 0, 8586146),\n",
       " ([0.06803592294454575, -0.21708270907402039, -0.23271071910858154], 0, 8586147),\n",
       " ([0.06298860162496567, -0.21462060511112213, -0.23089580237865448], 0, 8586148),\n",
       " ([0.05939299613237381, -0.21921448409557343, -0.22659932076931], 0, 8586149),\n",
       " ([0.06109672412276268, -0.2164064198732376, -0.23083877563476562], 0, 8586150),\n",
       " ([0.06011117622256279, -0.2165808528661728, -0.23048828542232513], 0, 8586151),\n",
       " ([0.06006784364581108, -0.21631693840026855, -0.23039604723453522], 0, 8586152),\n",
       " ([0.06503377109766006, -0.2182062864303589, -0.2339387983083725], 0, 8586153),\n",
       " ([0.06045432388782501, -0.21563582122325897, -0.2303723841905594], 0, 8586154),\n",
       " ([0.0475480817258358, -0.22972461581230164, -0.2159850001335144], 0, 8586155),\n",
       " ([0.051326435059309006, -0.2315373718738556, -0.2248534858226776], 0, 8586156),\n",
       " ([0.05176670849323273, -0.23600627481937408, -0.21588252484798431], 0, 8586157),\n",
       " ([0.04931430518627167, -0.2371460646390915, -0.20880208909511566], 0, 8586158),\n",
       " ([0.052984170615673065, -0.23413501679897308, -0.22293108701705933], 0, 8586159),\n",
       " ([0.06624877452850342, -0.231636181473732, -0.21132275462150574], 0, 8586160),\n",
       " ([0.06591859459877014, -0.23416736721992493, -0.2117059975862503], 0, 8586161),\n",
       " ([0.06122022494673729, -0.2378125786781311, -0.21144908666610718], 0, 8586162),\n",
       " ([0.05960938706994057, -0.22750799357891083, -0.2090524584054947], 0, 8586163),\n",
       " ([0.06244176626205444, -0.23514628410339355, -0.22344905138015747], 0, 8586164),\n",
       " ([0.06000904366374016, -0.23282967507839203, -0.22451293468475342], 0, 8586165),\n",
       " ([0.06413210928440094, -0.23664604127407074, -0.22305183112621307], 0, 8586166),\n",
       " ([0.061641138046979904, -0.23509106040000916, -0.22433479130268097], 0, 8586167),\n",
       " ([0.06576155871152878, -0.2319709062576294, -0.212776780128479], 0, 8586168),\n",
       " ([0.06290090829133987, -0.23099325597286224, -0.2190369814634323], 0, 8586169),\n",
       " ([0.06362897902727127, -0.23258668184280396, -0.22485141456127167], 0, 8586170),\n",
       " ([0.0618198923766613, -0.23692435026168823, -0.21809910237789154], 0, 8586171),\n",
       " ([0.06436263769865036, -0.2378997504711151, -0.2225053310394287], 0, 8586172),\n",
       " ([0.046962134540081024, -0.21455687284469604, -0.21732358634471893], 0, 8586173),\n",
       " ([0.054473210126161575, -0.21412725746631622, -0.21395371854305267], 0, 8586174),\n",
       " ([0.05383497476577759, -0.22228041291236877, -0.20923423767089844], 0, 8586175),\n",
       " ([0.04760846868157387, -0.21775715053081512, -0.21077580749988556], 0, 8586176),\n",
       " ([0.05644531920552254, -0.2194865345954895, -0.2239500731229782], 0, 8586177),\n",
       " ([0.049624279141426086, -0.21620242297649384, -0.2234850525856018], 0, 8586178),\n",
       " ([0.04944261536002159, -0.21936067938804626, -0.215043842792511], 0, 8586179),\n",
       " ([0.0529245063662529, -0.21807874739170074, -0.2174583375453949], 0, 8586180),\n",
       " ([0.053334806114435196, -0.22337067127227783, -0.22028972208499908], 0, 8586181),\n",
       " ([0.05298289284110069, -0.22588634490966797, -0.21297872066497803], 0, 8586182),\n",
       " ([0.057772550731897354, -0.22444632649421692, -0.214277446269989], 0, 8586183),\n",
       " ([0.061108268797397614, -0.2178390473127365, -0.21713687479496002], 0, 8586184),\n",
       " ([0.05976271629333496, -0.21921910345554352, -0.21517856419086456], 0, 8586185),\n",
       " ([0.059554968029260635, -0.22255219519138336, -0.21709378063678741], 0, 8586186),\n",
       " ([0.06016433238983154, -0.21728916466236115, -0.21983702480793], 0, 8586187),\n",
       " ([0.06190288066864014, -0.21937628090381622, -0.2104576975107193], 0, 8586188),\n",
       " ([0.06450612097978592, -0.2256031334400177, -0.22321972250938416], 0, 8586189),\n",
       " ([0.06327108293771744, -0.21704883873462677, -0.22365418076515198], 0, 8586190),\n",
       " ([0.028201308101415634, -0.2054576277732849, -0.23775136470794678], 0, 8586191),\n",
       " ([0.024852219969034195, -0.20283548533916473, -0.23882576823234558], 0, 8586192),\n",
       " ([0.029317377135157585, -0.21066080033779144, -0.23532186448574066], 0, 8586193),\n",
       " ([0.03161636367440224, -0.2064337432384491, -0.2386978715658188], 0, 8586194),\n",
       " ([0.025161240249872208, -0.20249103009700775, -0.23911727964878082], 0, 8586195),\n",
       " ([0.025435728952288628, -0.20267660915851593, -0.23943880200386047], 0, 8586196),\n",
       " ([0.029454167932271957, -0.2036418318748474, -0.2356846183538437], 0, 8586197),\n",
       " ([0.03005223162472248, -0.20891046524047852, -0.2341773360967636], 0, 8586198),\n",
       " ([0.03154875710606575, -0.20851773023605347, -0.23946915566921234], 0, 8586199),\n",
       " ([0.027429096400737762, -0.2057391107082367, -0.23751869797706604], 0, 8586200),\n",
       " ([0.02765534445643425, -0.20530416071414948, -0.23726685345172882], 0, 8586201),\n",
       " ([0.024641238152980804, -0.2029222548007965, -0.23952454328536987], 0, 8586202),\n",
       " ([0.030956793576478958, -0.21271401643753052, -0.24030108749866486], 0, 8586203),\n",
       " ([0.025232551619410515, -0.2028731107711792, -0.23909024894237518], 0, 8586204),\n",
       " ([0.03231678158044815, -0.20588257908821106, -0.23855477571487427], 0, 8586205),\n",
       " ([0.028144923970103264, -0.2054128795862198, -0.23781582713127136], 0, 8586206),\n",
       " ([0.044569700956344604, -0.21252615749835968, -0.23618845641613007], 0, 8586207),\n",
       " ([0.03707215189933777, -0.20923513174057007, -0.2374052107334137], 0, 8586208),\n",
       " ([0.035668402910232544, -0.20764586329460144, -0.23555436730384827], 0, 8586209),\n",
       " ([0.036043617874383926, -0.20664066076278687, -0.23552246391773224], 0, 8586210),\n",
       " ([0.03633780777454376, -0.2066563218832016, -0.23605100810527802], 0, 8586211),\n",
       " ([0.03634815290570259, -0.2060665786266327, -0.2350495159626007], 0, 8586212),\n",
       " ([0.036949705332517624, -0.20653434097766876, -0.23566877841949463], 0, 8586213),\n",
       " ([0.036380134522914886, -0.20647761225700378, -0.23484627902507782], 0, 8586214),\n",
       " ([0.03595883399248123, -0.20674088597297668, -0.2354939877986908], 0, 8586215),\n",
       " ([0.03604619950056076, -0.206574484705925, -0.2355162501335144], 0, 8586216),\n",
       " ([0.035663243383169174, -0.2064572423696518, -0.23528768122196198], 0, 8586217),\n",
       " ([0.03564852848649025, -0.20496122539043427, -0.23566226661205292], 0, 8586218),\n",
       " ([0.036688290536403656, -0.20754891633987427, -0.23427143692970276], 0, 8586219),\n",
       " ([0.03605275601148605, -0.20620259642601013, -0.2367660403251648], 0, 8586220),\n",
       " ([0.0360238179564476, -0.20639054477214813, -0.23529615998268127], 0, 8586221),\n",
       " ([0.03622857481241226, -0.2064446061849594, -0.23516526818275452], 0, 8586222),\n",
       " ([0.035630226135253906, -0.20654325187206268, -0.2356247901916504], 0, 8586223),\n",
       " ([0.03767187148332596, -0.20225706696510315, -0.23646259307861328], 0, 8586224),\n",
       " ([0.04209413379430771, -0.20439723134040833, -0.23546254634857178], 0, 8586225),\n",
       " ([0.04623207449913025, -0.20256806910037994, -0.2351178377866745], 0, 8586226),\n",
       " ([0.042058080434799194, -0.20433805882930756, -0.2352754920721054], 0, 8586227),\n",
       " ([0.0461929626762867, -0.2025223821401596, -0.23508208990097046], 0, 8586228),\n",
       " ([0.04263700544834137, -0.20245689153671265, -0.22860640287399292], 0, 8586229),\n",
       " ([0.03878384828567505, -0.21054911613464355, -0.23378074169158936], 0, 8586230),\n",
       " ([0.042756348848342896, -0.2079748511314392, -0.23408319056034088], 0, 8586231),\n",
       " ([0.040903620421886444, -0.2083236575126648, -0.22640174627304077], 0, 8586232),\n",
       " ([0.04010375961661339, -0.2102290689945221, -0.2324819713830948], 0, 8586233),\n",
       " ([0.035593025386333466, -0.213250532746315, -0.23227785527706146], 0, 8586234),\n",
       " ([0.04539227485656738, -0.20791290700435638, -0.2328108847141266], 0, 8586235),\n",
       " ([0.035193536430597305, -0.19619880616664886, -0.23805870115756989], 0, 8586236),\n",
       " ([0.03433385118842125, -0.19567014276981354, -0.23799680173397064], 0, 8586237),\n",
       " ([0.03438284248113632, -0.195881187915802, -0.2378220111131668], 0, 8586238),\n",
       " ([0.028808491304516792, -0.20101220905780792, -0.23667502403259277], 0, 8586239),\n",
       " ([0.033411212265491486, -0.19066734611988068, -0.23686404526233673], 0, 8586240),\n",
       " ([0.030009904876351357, -0.19823268055915833, -0.24048921465873718], 0, 8586241),\n",
       " ([0.026171229779720306, -0.19806401431560516, -0.23843169212341309], 0, 8586242),\n",
       " ([0.029660245403647423, -0.20060743391513824, -0.2361488938331604], 0, 8586243),\n",
       " ([0.034602999687194824, -0.1978839933872223, -0.23872321844100952], 0, 8586244),\n",
       " ([0.030276598408818245, -0.19860130548477173, -0.24031168222427368], 0, 8586245),\n",
       " ([0.034276168793439865, -0.1960850954055786, -0.23755168914794922], 0, 8586246),\n",
       " ([0.03442314639687538, -0.19589723646640778, -0.23786765336990356], 0, 8586247),\n",
       " ([0.0323227234184742, -0.19597837328910828, -0.23497222363948822], 0, 8586248),\n",
       " ([0.03433723747730255, -0.19582872092723846, -0.23810718953609467], 0, 8586249),\n",
       " ([0.03452691435813904, -0.1963064968585968, -0.23791706562042236], 0, 8586250),\n",
       " ([0.0344068743288517, -0.1958869844675064, -0.23783090710639954], 0, 8586251),\n",
       " ([0.029236599802970886, -0.19354116916656494, -0.23088069260120392], 0, 8586252),\n",
       " ([0.03015638329088688, -0.19699683785438538, -0.2300310581922531], 0, 8586253),\n",
       " ([0.031527675688266754, -0.1977396011352539, -0.2261589616537094], 0, 8586254),\n",
       " ([0.0256215687841177, -0.19957910478115082, -0.2324451506137848], 0, 8586255),\n",
       " ([0.031065596267580986, -0.19143979251384735, -0.22603517770767212], 0, 8586256),\n",
       " ([0.031496621668338776, -0.19749553501605988, -0.22603383660316467], 0, 8586257),\n",
       " ([0.032088663429021835, -0.19679325819015503, -0.23132586479187012], 0, 8586258),\n",
       " ([0.035040922462940216, -0.19672507047653198, -0.22815534472465515], 0, 8586259),\n",
       " ([0.025258362293243408, -0.19920554757118225, -0.23169833421707153], 0, 8586260),\n",
       " ([0.02693445049226284, -0.1917383372783661, -0.23363883793354034], 0, 8586261),\n",
       " ([0.03212336450815201, -0.19617043435573578, -0.23148426413536072], 0, 8586262),\n",
       " ([0.030136458575725555, -0.19666451215744019, -0.2301943451166153], 0, 8586263),\n",
       " ([0.033002886921167374, -0.19896924495697021, -0.2266198694705963], 0, 8586264),\n",
       " ([0.031365130096673965, -0.19110427796840668, -0.22569504380226135], 0, 8586265),\n",
       " ([0.024532819166779518, -0.19366519153118134, -0.22787009179592133], 0, 8586266),\n",
       " ([0.040895335376262665, -0.1954515427350998, -0.2378576695919037], 0, 8586267),\n",
       " ([0.03850943595170975, -0.19537489116191864, -0.23716171085834503], 0, 8586268),\n",
       " ([0.037927091121673584, -0.1965230107307434, -0.23668913543224335], 0, 8586269),\n",
       " ([0.04051440209150314, -0.1954236775636673, -0.23670153319835663], 0, 8586270),\n",
       " ([0.040417030453681946, -0.195418119430542, -0.23650626838207245], 0, 8586271),\n",
       " ([0.03640797734260559, -0.19660255312919617, -0.23684822022914886], 0, 8586272),\n",
       " ([0.03836249187588692, -0.19934450089931488, -0.24151042103767395], 0, 8586273),\n",
       " ([0.044793616980314255, -0.1977568417787552, -0.23730483651161194], 0, 8586274),\n",
       " ([0.040496379137039185, -0.2013266235589981, -0.23546810448169708], 0, 8586275),\n",
       " ([0.038476865738630295, -0.19686035811901093, -0.23689518868923187], 0, 8586276),\n",
       " ([0.03811725601553917, -0.1968659907579422, -0.2367883026599884], 0, 8586277),\n",
       " ([0.04011734575033188, -0.19441178441047668, -0.24123245477676392], 0, 8586278),\n",
       " ([0.040381595492362976, -0.18978770077228546, -0.2399929016828537], 0, 8586279),\n",
       " ([0.03903435915708542, -0.19328679144382477, -0.2385994791984558], 0, 8586280),\n",
       " ([0.039866529405117035, -0.1900644153356552, -0.24009035527706146], 0, 8586281),\n",
       " ([0.03767678141593933, -0.19425822794437408, -0.23835381865501404], 0, 8586282),\n",
       " ([0.04036220908164978, -0.1934511512517929, -0.2382613867521286], 0, 8586283),\n",
       " ([0.039256755262613297, -0.19337373971939087, -0.23757892847061157], 0, 8586284),\n",
       " ([0.03973677381873131, -0.1934574395418167, -0.23764826357364655], 0, 8586285),\n",
       " ([0.04039202257990837, -0.19315466284751892, -0.23815976083278656], 0, 8586286),\n",
       " ([0.04017361253499985, -0.19284887611865997, -0.2382078468799591], 0, 8586287),\n",
       " ([0.03990814834833145, -0.19314806163311005, -0.23830851912498474], 0, 8586288),\n",
       " ([0.04034176841378212, -0.1933211386203766, -0.23832368850708008], 0, 8586289),\n",
       " ([0.039583414793014526, -0.19476951658725739, -0.23704206943511963], 0, 8586290),\n",
       " ([0.0398462675511837, -0.19472503662109375, -0.23607684671878815], 0, 8586291),\n",
       " ([0.040552012622356415, -0.19432076811790466, -0.2374442219734192], 0, 8586292),\n",
       " ([0.03924807906150818, -0.19357238709926605, -0.23831015825271606], 0, 8586293),\n",
       " ([0.039960406720638275, -0.19369615614414215, -0.2384597659111023], 0, 8586294),\n",
       " ([0.03986022621393204, -0.1930214762687683, -0.23855306208133698], 0, 8586295),\n",
       " ([0.038733065128326416, -0.19418810307979584, -0.23498676717281342], 0, 8586296),\n",
       " ([0.038944464176893234, -0.19526353478431702, -0.23728236556053162], 0, 8586297),\n",
       " ([0.038995806127786636, -0.19518207013607025, -0.23698335886001587], 0, 8586298),\n",
       " ([0.04430021718144417, -0.19401322305202484, -0.24286147952079773], 0, 8586299),\n",
       " ([0.042775414884090424, -0.19233138859272003, -0.23883944749832153], 0, 8586300),\n",
       " ([0.040781110525131226, -0.18930745124816895, -0.24091003835201263], 0, 8586301),\n",
       " ([0.04083455726504326, -0.18929989635944366, -0.24129359424114227], 0, 8586302),\n",
       " ([0.041082561016082764, -0.18926766514778137, -0.24110127985477448], 0, 8586303),\n",
       " ([0.04212377592921257, -0.19033029675483704, -0.24072597920894623], 0, 8586304),\n",
       " ([0.0407785139977932, -0.18984606862068176, -0.24160940945148468], 0, 8586305),\n",
       " ([0.04129854217171669, -0.18946130573749542, -0.24148361384868622], 0, 8586306),\n",
       " ([0.04125240445137024, -0.18923820555210114, -0.24099905788898468], 0, 8586307),\n",
       " ([0.04106786102056503, -0.1893422156572342, -0.24091695249080658], 0, 8586308),\n",
       " ([0.04113929346203804, -0.19021861255168915, -0.24048572778701782], 0, 8586309),\n",
       " ([0.04100349172949791, -0.18932755291461945, -0.2404690831899643], 0, 8586310),\n",
       " ([0.042015593498945236, -0.1893460750579834, -0.24033106863498688], 0, 8586311),\n",
       " ([0.041305746883153915, -0.18952904641628265, -0.24027271568775177], 0, 8586312),\n",
       " ([0.04222254082560539, -0.18949542939662933, -0.23956398665905], 0, 8586313),\n",
       " ([0.04123394936323166, -0.18932490050792694, -0.24050918221473694], 0, 8586314),\n",
       " ([0.04189419001340866, -0.1895081102848053, -0.2401030957698822], 0, 8586315),\n",
       " ([0.041345469653606415, -0.18957655131816864, -0.24037079513072968], 0, 8586316),\n",
       " ([0.043111402541399, -0.18930086493492126, -0.24039767682552338], 0, 8586317),\n",
       " ([0.041395049542188644, -0.1899338662624359, -0.23893903195858002], 0, 8586318),\n",
       " ([0.041236914694309235, -0.18969674408435822, -0.23962979018688202], 0, 8586319),\n",
       " ([0.04133090004324913, -0.19197705388069153, -0.23950210213661194], 0, 8586320),\n",
       " ([0.04148987680673599, -0.18977411091327667, -0.24026751518249512], 0, 8586321),\n",
       " ([0.0421382412314415, -0.1897626519203186, -0.24047550559043884], 0, 8586322),\n",
       " ([0.04146704077720642, -0.1894822120666504, -0.24025489389896393], 0, 8586323),\n",
       " ([0.04176078736782074, -0.1934194713830948, -0.23844988644123077], 0, 8586324),\n",
       " ([0.04089879244565964, -0.19517162442207336, -0.23698320984840393], 0, 8586325),\n",
       " ([0.03544997796416283, -0.1964017003774643, -0.23050017654895782], 0, 8586326),\n",
       " ([0.044318053871393204, -0.19812777638435364, -0.22975040972232819], 0, 8586327),\n",
       " ([0.04014056175947189, -0.19422268867492676, -0.23035269975662231], 0, 8586328),\n",
       " ([0.03564668446779251, -0.1958722025156021, -0.23050251603126526], 0, 8586329),\n",
       " ([0.0416259802877903, -0.19450321793556213, -0.23300299048423767], 0, 8586330),\n",
       " ([0.038202568888664246, -0.19909308850765228, -0.22953729331493378], 0, 8586331),\n",
       " ([0.03555995225906372, -0.19542960822582245, -0.23066100478172302], 0, 8586332),\n",
       " ([0.03566167503595352, -0.19591528177261353, -0.23064033687114716], 0, 8586333),\n",
       " ([0.04021348059177399, -0.19734059274196625, -0.2272479087114334], 0, 8586334),\n",
       " ([0.03599384427070618, -0.1918157935142517, -0.23389658331871033], 0, 8586335),\n",
       " ([0.040965184569358826, -0.19011861085891724, -0.22990234196186066], 0, 8586336),\n",
       " ([0.03571372851729393, -0.19155502319335938, -0.23208953440189362], 0, 8586337),\n",
       " ([0.038204941898584366, -0.1907089799642563, -0.2294318526983261], 0, 8586338),\n",
       " ([0.0312790721654892, -0.20186936855316162, -0.21837246417999268], 0, 8586339),\n",
       " ([0.02726825326681137, -0.20531536638736725, -0.2227230668067932], 0, 8586340),\n",
       " ([0.032954905182123184, -0.20570719242095947, -0.2254120409488678], 0, 8586341),\n",
       " ([0.03030683472752571, -0.2096753567457199, -0.21033300459384918], 0, 8586342),\n",
       " ([0.03424713388085365, -0.20355550944805145, -0.21103060245513916], 0, 8586343),\n",
       " ([0.03261607512831688, -0.20245026051998138, -0.21279625594615936], 0, 8586344),\n",
       " ([0.03447896987199783, -0.21283774077892303, -0.22230753302574158], 0, 8586345),\n",
       " ([0.031830016523599625, -0.20754435658454895, -0.21570031344890594], 0, 8586346),\n",
       " ([0.02625451423227787, -0.21290633082389832, -0.21925538778305054], 0, 8586347),\n",
       " ([0.030366597697138786, -0.20455242693424225, -0.2129211723804474], 0, 8586348),\n",
       " ([0.042538125067949295, -0.20328155159950256, -0.21513326466083527], 0, 8586349),\n",
       " ([0.036337271332740784, -0.20489992201328278, -0.21324864029884338], 0, 8586350),\n",
       " ([0.03694216534495354, -0.20349028706550598, -0.21935473382472992], 0, 8586351),\n",
       " ([0.04392620548605919, -0.2072213739156723, -0.21294374763965607], 0, 8586352),\n",
       " ([0.04012984409928322, -0.21053560078144073, -0.21635036170482635], 0, 8586353),\n",
       " ([0.04242641478776932, -0.20300859212875366, -0.21221326291561127], 0, 8586354),\n",
       " ([0.044018328189849854, -0.20570887625217438, -0.22000396251678467], 0, 8586355),\n",
       " ([0.03966164216399193, -0.21282534301280975, -0.21183626353740692], 0, 8586356),\n",
       " ([0.04273531213402748, -0.2069554179906845, -0.20918628573417664], 0, 8586357),\n",
       " ([0.027132336050271988, -0.19753308594226837, -0.22328294813632965], 0, 8586358),\n",
       " ([0.024620242416858673, -0.19846218824386597, -0.21919715404510498], 0, 8586359),\n",
       " ([0.028445206582546234, -0.19604283571243286, -0.22490599751472473], 0, 8586360),\n",
       " ([0.027370210736989975, -0.19990435242652893, -0.2233855277299881], 0, 8586361),\n",
       " ([0.026183877140283585, -0.19289954006671906, -0.2210599035024643], 0, 8586362),\n",
       " ([0.02909826673567295, -0.19726647436618805, -0.22526854276657104], 0, 8586363),\n",
       " ([0.034978460520505905, -0.1970743089914322, -0.22563660144805908], 0, 8586364),\n",
       " ([0.027206869795918465, -0.19720958173274994, -0.22296178340911865], 0, 8586365),\n",
       " ([0.03411126136779785, -0.1976478546857834, -0.21913012862205505], 0, 8586366),\n",
       " ([0.028893858194351196, -0.19684429466724396, -0.225050687789917], 0, 8586367),\n",
       " ([0.026182495057582855, -0.19133812189102173, -0.22073638439178467], 0, 8586368),\n",
       " ([0.02779286727309227, -0.19806313514709473, -0.2224496752023697], 0, 8586369),\n",
       " ([0.027103092521429062, -0.1973646879196167, -0.2235003560781479], 0, 8586370),\n",
       " ([0.031188253313302994, -0.196992427110672, -0.22417080402374268], 0, 8586371),\n",
       " ([0.03319959342479706, -0.2009248286485672, -0.21490289270877838], 0, 8586372),\n",
       " ([0.026656361296772957, -0.20047470927238464, -0.21023264527320862], 0, 8586373),\n",
       " ([0.03316158428788185, -0.20117440819740295, -0.21515347063541412], 0, 8586374),\n",
       " ([0.02957865409553051, -0.19957521557807922, -0.21416492760181427], 0, 8586375),\n",
       " ([0.02717638947069645, -0.2007075846195221, -0.2099905163049698], 0, 8586376),\n",
       " ([0.02945072390139103, -0.19988642632961273, -0.2141541838645935], 0, 8586377),\n",
       " ([0.027202235534787178, -0.19834041595458984, -0.214613676071167], 0, 8586378),\n",
       " ([0.02570994943380356, -0.18980556726455688, -0.2147502452135086], 0, 8586379),\n",
       " ([0.0318305641412735, -0.19832192361354828, -0.21269693970680237], 0, 8586380),\n",
       " ([0.04230466112494469, -0.19582119584083557, -0.21981652081012726], 0, 8586381),\n",
       " ([0.035942208021879196, -0.1893327832221985, -0.22027456760406494], 0, 8586382),\n",
       " ([0.04438491538167, -0.19614408910274506, -0.21308307349681854], 0, 8586383),\n",
       " ([0.04163883253931999, -0.19954481720924377, -0.2237776666879654], 0, 8586384),\n",
       " ([0.04218864068388939, -0.2008594125509262, -0.21760402619838715], 0, 8586385),\n",
       " ([0.0548662431538105, -0.2018207162618637, -0.24107614159584045], 0, 8586386),\n",
       " ([0.05542590469121933, -0.2015145719051361, -0.23804603517055511], 0, 8586387),\n",
       " ([0.05193569138646126, -0.20632898807525635, -0.23451794683933258], 0, 8586388),\n",
       " ([0.04780595377087593, -0.2020714432001114, -0.24069905281066895], 0, 8586389),\n",
       " ([0.049528125673532486, -0.2102920114994049, -0.239470437169075], 0, 8586390),\n",
       " ([0.05620517581701279, -0.20843026041984558, -0.24056191742420197], 0, 8586391),\n",
       " ([0.050827499479055405, -0.20341016352176666, -0.23632000386714935], 0, 8586392),\n",
       " ([0.05612273886799812, -0.20599700510501862, -0.23581188917160034], 0, 8586393),\n",
       " ([0.053713228553533554, -0.20612484216690063, -0.24002352356910706], 0, 8586394),\n",
       " ([0.04794187843799591, -0.20291632413864136, -0.23463937640190125], 0, 8586395),\n",
       " ([0.05395248532295227, -0.21047542989253998, -0.23298831284046173], 0, 8586396),\n",
       " ([0.05639923736453056, -0.2089177966117859, -0.22840766608715057], 0, 8586397),\n",
       " ([0.046733248978853226, -0.2111179679632187, -0.23269610106945038], 0, 8586398),\n",
       " ([0.05593596771359444, -0.2123403549194336, -0.22744132578372955], 0, 8586399),\n",
       " ([0.05478181689977646, -0.20990857481956482, -0.23300518095493317], 0, 8586400),\n",
       " ([0.05712989345192909, -0.21249592304229736, -0.2317265421152115], 0, 8586401),\n",
       " ([0.04694729670882225, -0.21135371923446655, -0.2327764332294464], 0, 8586402),\n",
       " ([0.05275455117225647, -0.21163776516914368, -0.23174621164798737], 0, 8586403),\n",
       " ([0.04729977995157242, -0.2108287364244461, -0.23227517306804657], 0, 8586404),\n",
       " ([0.05172605812549591, -0.2110583484172821, -0.2312975376844406], 0, 8586405),\n",
       " ([0.052266187965869904, -0.21194547414779663, -0.23187121748924255], 0, 8586406),\n",
       " ([0.052510060369968414, -0.21204639971256256, -0.23181870579719543], 0, 8586407),\n",
       " ([0.05381960794329643, -0.21029317378997803, -0.23273351788520813], 0, 8586408),\n",
       " ([0.0486515574157238, -0.20688362419605255, -0.23425181210041046], 0, 8586409),\n",
       " ([0.04855447635054588, -0.206626296043396, -0.23411507904529572], 0, 8586410),\n",
       " ([0.048805586993694305, -0.2076328545808792, -0.2270628660917282], 0, 8586411),\n",
       " ([0.05099663510918617, -0.20260131359100342, -0.22642205655574799], 0, 8586412),\n",
       " ([0.056874725967645645, -0.2040543407201767, -0.22579026222229004], 0, 8586413),\n",
       " ([0.06755044311285019, -0.2128928303718567, -0.2361728549003601], 0, 8586414),\n",
       " ([0.0635627880692482, -0.20947033166885376, -0.2359306663274765], 0, 8586415),\n",
       " ([0.06319668889045715, -0.2082459181547165, -0.2389710545539856], 0, 8586416),\n",
       " ([0.0594685897231102, -0.2102471888065338, -0.23775410652160645], 0, 8586417),\n",
       " ([0.06492944061756134, -0.2082670032978058, -0.2352401167154312], 0, 8586418),\n",
       " ([0.0664747953414917, -0.210760697722435, -0.23846840858459473], 0, 8586419),\n",
       " ([0.06707630306482315, -0.21269606053829193, -0.23593690991401672], 0, 8586420),\n",
       " ([0.06535863131284714, -0.21222783625125885, -0.23526836931705475], 0, 8586421),\n",
       " ([0.06614771485328674, -0.2106458842754364, -0.23893752694129944], 0, 8586422),\n",
       " ([0.058000724762678146, -0.21268953382968903, -0.2370077222585678], 0, 8586423),\n",
       " ([0.06408988684415817, -0.20477578043937683, -0.2364814430475235], 0, 8586424),\n",
       " ([0.058988817036151886, -0.2023891657590866, -0.23810335993766785], 0, 8586425),\n",
       " ([0.062184445559978485, -0.2064933478832245, -0.23795270919799805], 0, 8586426),\n",
       " ([0.06024833768606186, -0.20710842311382294, -0.23560336232185364], 0, 8586427),\n",
       " ([0.06076357886195183, -0.20574846863746643, -0.23690703511238098], 0, 8586428),\n",
       " ([0.06283099204301834, -0.20430444180965424, -0.23524856567382812], 0, 8586429),\n",
       " ([0.06453823298215866, -0.20521488785743713, -0.23509572446346283], 0, 8586430),\n",
       " ([0.0680994912981987, -0.20528991520404816, -0.23578499257564545], 0, 8586431),\n",
       " ([0.06037928909063339, -0.20530393719673157, -0.2399992197751999], 0, 8586432),\n",
       " ([0.06327959895133972, -0.20759868621826172, -0.237728551030159], 0, 8586433),\n",
       " ([0.06575999408960342, -0.2020455002784729, -0.23541906476020813], 0, 8586434),\n",
       " ([0.06479553878307343, -0.20636998116970062, -0.23614256083965302], 0, 8586435),\n",
       " ([0.06805419921875, -0.20515309274196625, -0.23504942655563354], 0, 8586436),\n",
       " ([0.06219327077269554, -0.20694921910762787, -0.237700417637825], 0, 8586437),\n",
       " ([0.061418287456035614, -0.2015058696269989, -0.23712368309497833], 0, 8586438),\n",
       " ([0.061036936938762665, -0.20231010019779205, -0.2420739084482193], 0, 8586439),\n",
       " ([0.06316759437322617, -0.2059640884399414, -0.2294425368309021], 0, 8586440),\n",
       " ([0.06139885634183884, -0.2133704274892807, -0.23223644495010376], 0, 8586441),\n",
       " ([0.06489085406064987, -0.2095550298690796, -0.23127903044223785], 0, 8586442),\n",
       " ([0.060167182236909866, -0.20585793256759644, -0.23050732910633087], 0, 8586443),\n",
       " ([0.06287752836942673, -0.20501406490802765, -0.22699704766273499], 0, 8586444),\n",
       " ([0.06575478613376617, -0.20970280468463898, -0.2270519882440567], 0, 8586445),\n",
       " ([0.06144815683364868, -0.2030366063117981, -0.22951310873031616], 0, 8586446),\n",
       " ([0.06012347340583801, -0.20585860311985016, -0.23119130730628967], 0, 8586447),\n",
       " ([0.06530195474624634, -0.2103249728679657, -0.23065567016601562], 0, 8586448),\n",
       " ([0.057910334318876266, -0.20946358144283295, -0.23102796077728271], 0, 8586449),\n",
       " ([0.0551254041492939, -0.19672267138957977, -0.24125267565250397], 0, 8586450),\n",
       " ([0.055339790880680084, -0.1970110386610031, -0.24069859087467194], 0, 8586451),\n",
       " ([0.05606108531355858, -0.19871053099632263, -0.24052292108535767], 0, 8586452),\n",
       " ([0.05606457218527794, -0.1987142711877823, -0.24038179218769073], 0, 8586453),\n",
       " ([0.05408279970288277, -0.20147040486335754, -0.24070023000240326], 0, 8586454),\n",
       " ([0.0509151965379715, -0.20108920335769653, -0.24243466556072235], 0, 8586455),\n",
       " ([0.054242588579654694, -0.19608961045742035, -0.2407011091709137], 0, 8586456),\n",
       " ([0.053412292152643204, -0.19133010506629944, -0.24120672047138214], 0, 8586457),\n",
       " ([0.05281776934862137, -0.19159376621246338, -0.24231494963169098], 0, 8586458),\n",
       " ([0.053646765649318695, -0.1910790503025055, -0.242415189743042], 0, 8586459),\n",
       " ([0.05449242144823074, -0.1948722004890442, -0.23483911156654358], 0, 8586460),\n",
       " ([0.04683913290500641, -0.19030015170574188, -0.23777835071086884], 0, 8586461),\n",
       " ([0.054783064872026443, -0.19284771382808685, -0.24169285595417023], 0, 8586462),\n",
       " ([0.05457470193505287, -0.19397036731243134, -0.24152177572250366], 0, 8586463),\n",
       " ([0.05498943850398064, -0.19250144064426422, -0.24110640585422516], 0, 8586464),\n",
       " ([0.05662341043353081, -0.1942579746246338, -0.23972584307193756], 0, 8586465),\n",
       " ([0.05457146465778351, -0.19299179315567017, -0.24127891659736633], 0, 8586466),\n",
       " ([0.04802099987864494, -0.19245877861976624, -0.24176688492298126], 0, 8586467),\n",
       " ([0.04722127690911293, -0.19711776077747345, -0.22622181475162506], 0, 8586468),\n",
       " ([0.05501757562160492, -0.19765672087669373, -0.2291988581418991], 0, 8586469),\n",
       " ([0.050799958407878876, -0.20053771138191223, -0.22748897969722748], 0, 8586470),\n",
       " ([0.05598153546452522, -0.18961703777313232, -0.23141148686408997], 0, 8586471),\n",
       " ([0.04752173647284508, -0.1971212923526764, -0.22605405747890472], 0, 8586472),\n",
       " ([0.04835372418165207, -0.1951116919517517, -0.2289103865623474], 0, 8586473),\n",
       " ([0.05231710150837898, -0.1997731477022171, -0.23252996802330017], 0, 8586474),\n",
       " ([0.04665287211537361, -0.19525165855884552, -0.22857438027858734], 0, 8586475),\n",
       " ([0.046976976096630096, -0.1973341554403305, -0.22610649466514587], 0, 8586476),\n",
       " ([0.05460444837808609, -0.19680093228816986, -0.2263060212135315], 0, 8586477),\n",
       " ([0.04720234498381615, -0.19695553183555603, -0.2261657416820526], 0, 8586478),\n",
       " ([0.04796493053436279, -0.19804136455059052, -0.22595541179180145], 0, 8586479),\n",
       " ([0.04733825474977493, -0.19713854789733887, -0.22620399296283722], 0, 8586480),\n",
       " ([0.059925105422735214, -0.19144324958324432, -0.2394154667854309], 0, 8586481),\n",
       " ([0.062331490218639374, -0.19961000978946686, -0.23551303148269653], 0, 8586482),\n",
       " ([0.06140792369842529, -0.20149627327919006, -0.23731489479541779], 0, 8586483),\n",
       " ([0.057869743555784225, -0.19690358638763428, -0.2423498034477234], 0, 8586484),\n",
       " ([0.05984300374984741, -0.20074127614498138, -0.23804010450839996], 0, 8586485),\n",
       " ([0.05751661956310272, -0.1980438232421875, -0.23918013274669647], 0, 8586486),\n",
       " ([0.0671575739979744, -0.19495339691638947, -0.23934440314769745], 0, 8586487),\n",
       " ([0.05809932202100754, -0.19348002970218658, -0.23665812611579895], 0, 8586488),\n",
       " ([0.062417030334472656, -0.1965099573135376, -0.24074597656726837], 0, 8586489),\n",
       " ([0.06333291530609131, -0.19304518401622772, -0.23803558945655823], 0, 8586490),\n",
       " ([0.06067586690187454, -0.19979983568191528, -0.23761840164661407], 0, 8586491),\n",
       " ([0.05924171954393387, -0.1972874104976654, -0.24009568989276886], 0, 8586492),\n",
       " ([0.061463601887226105, -0.20110340416431427, -0.23705549538135529], 0, 8586493),\n",
       " ([0.0619172677397728, -0.20133499801158905, -0.23763073980808258], 0, 8586494),\n",
       " ([0.05909838154911995, -0.1939607709646225, -0.22664371132850647], 0, 8586495),\n",
       " ([0.0605996772646904, -0.20051094889640808, -0.23397307097911835], 0, 8586496),\n",
       " ([0.06437409669160843, -0.1973181962966919, -0.2262459546327591], 0, 8586497),\n",
       " ([0.0631030797958374, -0.1968597173690796, -0.22901181876659393], 0, 8586498),\n",
       " ([0.06568469852209091, -0.19015972316265106, -0.23108194768428802], 0, 8586499),\n",
       " ([0.060656480491161346, -0.20113231241703033, -0.22645215690135956], 0, 8586500),\n",
       " ([0.05944157391786575, -0.19374991953372955, -0.22952896356582642], 0, 8586501),\n",
       " ([0.06545263528823853, -0.19200867414474487, -0.2336527407169342], 0, 8586502),\n",
       " ([0.04889673739671707, -0.21018682420253754, -0.21249696612358093], 0, 8586503),\n",
       " ([0.04803263396024704, -0.2024521678686142, -0.21681934595108032], 0, 8586504),\n",
       " ([0.048013899475336075, -0.20348027348518372, -0.21505437791347504], 0, 8586505),\n",
       " ([0.04887056350708008, -0.20867636799812317, -0.219766303896904], 0, 8586506),\n",
       " ([0.051783062517642975, -0.21232470870018005, -0.20976568758487701], 0, 8586507),\n",
       " ([0.056764550507068634, -0.20525230467319489, -0.2107333093881607], 0, 8586508),\n",
       " ([0.046567969024181366, -0.20166191458702087, -0.2216678261756897], 0, 8586509),\n",
       " ([0.055325064808130264, -0.2124839872121811, -0.21966730058193207], 0, 8586510),\n",
       " ([0.05332498624920845, -0.21058602631092072, -0.21770323812961578], 0, 8586511),\n",
       " ([0.05635608360171318, -0.20573510229587555, -0.21811166405677795], 0, 8586512),\n",
       " ([0.05272514373064041, -0.2078872174024582, -0.22123533487319946], 0, 8586513),\n",
       " ([0.047195613384246826, -0.21215739846229553, -0.22559264302253723], 0, 8586514),\n",
       " ([0.04689304903149605, -0.20273375511169434, -0.20914675295352936], 0, 8586515),\n",
       " ([0.05207042396068573, -0.2049413025379181, -0.2218373417854309], 0, 8586516),\n",
       " ([0.047859612852334976, -0.20246580243110657, -0.21689628064632416], 0, 8586517),\n",
       " ([0.049624428153038025, -0.20570792257785797, -0.21546122431755066], 0, 8586518),\n",
       " ([0.06504663079977036, -0.20636412501335144, -0.21681180596351624], 0, 8586519),\n",
       " ([0.06637351959943771, -0.21088601648807526, -0.21743334829807281], 0, 8586520),\n",
       " ([0.06613783538341522, -0.20644690096378326, -0.21057702600955963], 0, 8586521),\n",
       " ([0.06628486514091492, -0.21087408065795898, -0.21076364815235138], 0, 8586522),\n",
       " ([0.05536242201924324, -0.19062243402004242, -0.21810171008110046], 0, 8586523),\n",
       " ([0.05439748242497444, -0.19531302154064178, -0.21821507811546326], 0, 8586524),\n",
       " ([0.05642417073249817, -0.1913628727197647, -0.22509917616844177], 0, 8586525),\n",
       " ([0.048403069376945496, -0.20043054223060608, -0.2247559279203415], 0, 8586526),\n",
       " ([0.048211220651865005, -0.19679240882396698, -0.21156899631023407], 0, 8586527),\n",
       " ([0.04821699857711792, -0.19715599715709686, -0.21175365149974823], 0, 8586528),\n",
       " ([0.04825884476304054, -0.19693297147750854, -0.21154892444610596], 0, 8586529),\n",
       " ([0.04813685268163681, -0.20136801898479462, -0.21590586006641388], 0, 8586530),\n",
       " ([0.04776350036263466, -0.20120589435100555, -0.20938441157341003], 0, 8586531),\n",
       " ([0.04779500514268875, -0.20143947005271912, -0.20958136022090912], 0, 8586532),\n",
       " ([0.04763822630047798, -0.20146280527114868, -0.2096349596977234], 0, 8586533),\n",
       " ([0.04773227497935295, -0.19641338288784027, -0.2111699879169464], 0, 8586534),\n",
       " ([0.04750939458608627, -0.19617599248886108, -0.2107781320810318], 0, 8586535),\n",
       " ([0.0476682148873806, -0.1964077651500702, -0.21125294268131256], 0, 8586536),\n",
       " ([0.04736608639359474, -0.19287003576755524, -0.21331152319908142], 0, 8586537),\n",
       " ([0.05391160026192665, -0.19471518695354462, -0.20945334434509277], 0, 8586538),\n",
       " ([0.0540863536298275, -0.18956239521503448, -0.20847828686237335], 0, 8586539),\n",
       " ([0.05161886662244797, -0.19113659858703613, -0.2088470160961151], 0, 8586540),\n",
       " ([0.05431012809276581, -0.18973064422607422, -0.2096785604953766], 0, 8586541),\n",
       " ([0.047889914363622665, -0.1929871290922165, -0.21347326040267944], 0, 8586542),\n",
       " ([0.04737960174679756, -0.19106309115886688, -0.21595415472984314], 0, 8586543),\n",
       " ([0.047175634652376175, -0.19105106592178345, -0.2159873992204666], 0, 8586544),\n",
       " ([0.04772679880261421, -0.192806676030159, -0.2136911004781723], 0, 8586545),\n",
       " ([0.048019565641880035, -0.19335182011127472, -0.21179893612861633], 0, 8586546),\n",
       " ([0.053284794092178345, -0.19471199810504913, -0.20895865559577942], 0, 8586547),\n",
       " ([0.04754107818007469, -0.19443421065807343, -0.2150244116783142], 0, 8586548),\n",
       " ([0.04722074046730995, -0.19457195699214935, -0.2157045602798462], 0, 8586549),\n",
       " ([0.04731851443648338, -0.1943933218717575, -0.21500739455223083], 0, 8586550),\n",
       " ([0.0495346337556839, -0.19007229804992676, -0.2126627415418625], 0, 8586551),\n",
       " ([0.06253999471664429, -0.19430425763130188, -0.20885372161865234], 0, 8586552),\n",
       " ([0.05927081033587456, -0.1993444710969925, -0.20957374572753906], 0, 8586553),\n",
       " ([0.059231579303741455, -0.1993115097284317, -0.20925062894821167], 0, 8586554),\n",
       " ([0.06762321293354034, -0.1922098696231842, -0.21225473284721375], 0, 8586555),\n",
       " ([0.05901138857007027, -0.1936643272638321, -0.21735288202762604], 0, 8586556),\n",
       " ([0.06085621193051338, -0.19295118749141693, -0.2085147649049759], 0, 8586557),\n",
       " ([0.059728819876909256, -0.19952236115932465, -0.21828797459602356], 0, 8586558),\n",
       " ([0.06241361051797867, -0.19513961672782898, -0.20862437784671783], 0, 8586559),\n",
       " ([0.06608296185731888, -0.19828741252422333, -0.2162429690361023], 0, 8586560),\n",
       " ([0.0018459258135408163, -0.184358611702919, -0.2753600478172302], 0, 8586626),\n",
       " ([0.0006177741452120245, -0.16924196481704712, -0.2734926640987396], 0, 8587643),\n",
       " ([0.001975559862330556, -0.18067242205142975, -0.25631898641586304], 0, 8587736),\n",
       " ([0.0010830205865204334, -0.17807427048683167, -0.24633881449699402], 0, 8587737),\n",
       " ([0.0009983716299757361, -0.1730731725692749, -0.2556316554546356], 0, 8587847),\n",
       " ([0.00016603815311100334, -0.16498659551143646, -0.24393995106220245], 0, 8587856),\n",
       " ([0.024188751354813576, -0.1769612729549408, -0.2605229616165161], 0, 8587857),\n",
       " ([0.019848879426717758, -0.17713485658168793, -0.2731668949127197], 0, 8587858),\n",
       " ([0.012218696065247059, -0.1775767207145691, -0.26993492245674133], 0, 8587859),\n",
       " ([0.007249040529131889, -0.1860387623310089, -0.2753182351589203], 0, 8587860),\n",
       " ([0.006055830977857113, -0.18711860477924347, -0.27652111649513245], 0, 8587861),\n",
       " ([0.014768175780773163, -0.18203137814998627, -0.26706522703170776], 0, 8587862),\n",
       " ([0.018007008358836174, -0.1827927678823471, -0.2766631841659546], 0, 8587863),\n",
       " ([0.006422379054129124, -0.18336206674575806, -0.26932573318481445], 0, 8587864),\n",
       " ([0.019705694168806076, -0.18089793622493744, -0.26715633273124695], 0, 8587865),\n",
       " ([0.018307719379663467, -0.1818850040435791, -0.2731367349624634], 0, 8587866),\n",
       " ([0.00966766569763422, -0.18520045280456543, -0.2624618411064148], 0, 8587867),\n",
       " ([0.011661842465400696, -0.1831534206867218, -0.2705453932285309], 0, 8587868),\n",
       " ([0.02260078303515911, -0.17966389656066895, -0.2640303075313568], 0, 8587869),\n",
       " ([0.009359610266983509, -0.1773679107427597, -0.27439552545547485], 0, 8587870),\n",
       " ([0.011428645811975002, -0.1736183911561966, -0.26386189460754395], 0, 8587871),\n",
       " ([0.008695846423506737, -0.16771212220191956, -0.275657594203949], 0, 8587872),\n",
       " ([0.01124758180230856, -0.17026878893375397, -0.2634010910987854], 0, 8587873),\n",
       " ([0.012139738537371159, -0.16810660064220428, -0.2689805328845978], 0, 8587874),\n",
       " ([0.004798000678420067, -0.16555599868297577, -0.268049955368042], 0, 8587875),\n",
       " ([0.00528968358412385, -0.16817423701286316, -0.2685668468475342], 0, 8587876),\n",
       " ([0.008782634511590004, -0.17663784325122833, -0.2769898474216461], 0, 8587877),\n",
       " ([0.009747136384248734, -0.16965003311634064, -0.26408886909484863], 0, 8587878),\n",
       " ([0.006171452347189188, -0.1744062900543213, -0.26877787709236145], 0, 8587879),\n",
       " ([0.021175934001803398, -0.1670999974012375, -0.27453020215034485], 0, 8587880),\n",
       " ([0.01977444440126419, -0.1757841855287552, -0.27697956562042236], 0, 8587881),\n",
       " ([0.02368638664484024, -0.17165501415729523, -0.2612711191177368], 0, 8587882),\n",
       " ([0.021584495902061462, -0.17643357813358307, -0.2656721770763397], 0, 8587883),\n",
       " ([0.01937844604253769, -0.17278000712394714, -0.2628602385520935], 0, 8587884),\n",
       " ([0.01399535033851862, -0.17564170062541962, -0.2606651782989502], 0, 8587885),\n",
       " ([0.0167278703302145, -0.1674576848745346, -0.2613738477230072], 0, 8587886),\n",
       " ([0.021110286936163902, -0.16593055427074432, -0.26556187868118286], 0, 8587887),\n",
       " ([0.021260840818285942, -0.1655997782945633, -0.26544511318206787], 0, 8587888),\n",
       " ([0.023726249113678932, -0.1685021072626114, -0.2641199231147766], 0, 8587889),\n",
       " ([0.024115120992064476, -0.17054340243339539, -0.2625102400779724], 0, 8587890),\n",
       " ([0.024278677999973297, -0.16981706023216248, -0.26197734475135803], 0, 8587891),\n",
       " ([0.024008257314562798, -0.16847649216651917, -0.26375800371170044], 0, 8587892),\n",
       " ([0.024149317294359207, -0.17037339508533478, -0.2623854875564575], 0, 8587893),\n",
       " ([0.023785345256328583, -0.1700124740600586, -0.26222437620162964], 0, 8587894),\n",
       " ([0.024138107895851135, -0.17042286694049835, -0.26275956630706787], 0, 8587895),\n",
       " ([0.024077214300632477, -0.1704224795103073, -0.26204127073287964], 0, 8587896),\n",
       " ([0.023957695811986923, -0.1703699827194214, -0.26173800230026245], 0, 8587897),\n",
       " ([0.024137362837791443, -0.16923198103904724, -0.2634277045726776], 0, 8587898),\n",
       " ([0.023558320477604866, -0.16932006180286407, -0.2626904547214508], 0, 8587899),\n",
       " ([0.02338593453168869, -0.1687711626291275, -0.2634298801422119], 0, 8587900),\n",
       " ([0.019821343943476677, -0.16956926882266998, -0.26236751675605774], 0, 8587901),\n",
       " ([0.02414248324930668, -0.1688244789838791, -0.263700932264328], 0, 8587902),\n",
       " ([0.024193525314331055, -0.17040510475635529, -0.2622796297073364], 0, 8587903),\n",
       " ([0.02150128223001957, -0.165288507938385, -0.26422175765037537], 0, 8587904),\n",
       " ([0.023864055052399635, -0.1677175760269165, -0.26231488585472107], 0, 8587905),\n",
       " ([0.015803085640072823, -0.17818738520145416, -0.24724765121936798], 0, 8587906),\n",
       " ([0.018527045845985413, -0.1854909509420395, -0.2559947669506073], 0, 8587907),\n",
       " ([0.012751420959830284, -0.18130379915237427, -0.2548674941062927], 0, 8587908),\n",
       " ([0.023674659430980682, -0.1855769157409668, -0.2557482123374939], 0, 8587909),\n",
       " ([0.014974449761211872, -0.18857572972774506, -0.243414968252182], 0, 8587910),\n",
       " ([0.003924441523849964, -0.1866634339094162, -0.24880224466323853], 0, 8587911),\n",
       " ([0.015516059473156929, -0.18281172215938568, -0.2529643177986145], 0, 8587912),\n",
       " ([0.010766644030809402, -0.1786271631717682, -0.2466399073600769], 0, 8587913),\n",
       " ([0.010664739646017551, -0.18620789051055908, -0.2502882182598114], 0, 8587914),\n",
       " ([0.018058018758893013, -0.18165422976016998, -0.25990235805511475], 0, 8587915),\n",
       " ([0.01981765776872635, -0.17754420638084412, -0.25875142216682434], 0, 8587916),\n",
       " ([0.015124326571822166, -0.16622968018054962, -0.24919497966766357], 0, 8587917),\n",
       " ([0.009542405605316162, -0.16950197517871857, -0.24883940815925598], 0, 8587918),\n",
       " ([0.015149894170463085, -0.16646689176559448, -0.25882408022880554], 0, 8587919),\n",
       " ([0.01201858464628458, -0.17185835540294647, -0.2594931721687317], 0, 8587920),\n",
       " ([0.01738877035677433, -0.17569740116596222, -0.25689697265625], 0, 8587921),\n",
       " ([0.02417568862438202, -0.17033705115318298, -0.2590407431125641], 0, 8587922),\n",
       " ([0.016866477206349373, -0.1691145896911621, -0.2595122754573822], 0, 8587923),\n",
       " ([0.015706270933151245, -0.17048236727714539, -0.24804586172103882], 0, 8587924),\n",
       " ([0.011434324085712433, -0.1749710589647293, -0.25581637024879456], 0, 8587925),\n",
       " ([0.006553626619279385, -0.16630059480667114, -0.2598221004009247], 0, 8587926),\n",
       " ([0.0022098757326602936, -0.15286698937416077, -0.27670708298683167], 0, 8587990),\n",
       " ([0.0013453324791043997, -0.1530163586139679, -0.26932448148727417], 0, 8587991),\n",
       " ([0.001953953178599477, -0.15297353267669678, -0.271959513425827], 0, 8587992),\n",
       " ([0.0020179105922579765, -0.16343124210834503, -0.26044243574142456], 0, 8588019),\n",
       " ([0.0021797139197587967, -0.1645105481147766, -0.2633591294288635], 0, 8588020),\n",
       " ([0.002069310750812292, -0.16315650939941406, -0.2606479227542877], 0, 8588022),\n",
       " ...]"
      ]
     },
     "execution_count": 143,
     "metadata": {},
     "output_type": "execute_result"
    }
   ],
   "source": [
    "loads(y[1][100])"
   ]
  },
  {
   "cell_type": "code",
   "execution_count": 131,
   "metadata": {
    "collapsed": false
   },
   "outputs": [
    {
     "name": "stdout",
     "output_type": "stream",
     "text": [
      "1\n",
      "2\n",
      "2\n",
      "2\n",
      "2\n",
      "2\n",
      "2\n",
      "2\n",
      "2\n",
      "2\n",
      "2\n",
      "2\n",
      "2\n",
      "2\n",
      "2\n",
      "2\n",
      "2\n",
      "2\n",
      "2\n",
      "2\n",
      "2\n",
      "2\n",
      "2\n",
      "2\n",
      "2\n",
      "2\n",
      "2\n",
      "2\n",
      "2\n",
      "2\n",
      "2\n",
      "2\n",
      "2\n",
      "2\n",
      "2\n",
      "2\n",
      "2\n",
      "2\n",
      "2\n",
      "2\n",
      "2\n",
      "2\n",
      "2\n",
      "2\n",
      "2\n",
      "2\n",
      "2\n",
      "2\n",
      "2\n",
      "2\n",
      "2\n",
      "2\n",
      "2\n",
      "2\n",
      "2\n",
      "2\n",
      "2\n",
      "2\n",
      "2\n",
      "2\n",
      "2\n",
      "2\n",
      "2\n",
      "2\n",
      "2\n",
      "2\n",
      "2\n",
      "2\n",
      "2\n",
      "2\n",
      "2\n",
      "2\n",
      "2\n",
      "2\n",
      "2\n",
      "2\n",
      "2\n",
      "2\n",
      "2\n",
      "2\n",
      "2\n",
      "2\n",
      "2\n",
      "2\n",
      "2\n",
      "2\n",
      "2\n",
      "2\n",
      "2\n",
      "2\n",
      "2\n",
      "2\n",
      "2\n",
      "2\n",
      "2\n",
      "2\n",
      "2\n",
      "2\n",
      "2\n",
      "2\n",
      "2\n",
      "2\n",
      "2\n",
      "2\n",
      "2\n",
      "2\n",
      "2\n",
      "2\n",
      "2\n",
      "2\n",
      "2\n",
      "2\n",
      "2\n",
      "2\n",
      "2\n",
      "2\n",
      "2\n",
      "2\n",
      "2\n",
      "2\n",
      "2\n",
      "2\n",
      "2\n",
      "2\n",
      "2\n",
      "2\n",
      "2\n",
      "2\n",
      "2\n",
      "2\n",
      "2\n",
      "2\n",
      "2\n",
      "2\n",
      "2\n",
      "2\n",
      "2\n",
      "2\n",
      "2\n",
      "2\n",
      "2\n",
      "2\n",
      "2\n",
      "2\n",
      "2\n",
      "2\n",
      "2\n",
      "2\n",
      "2\n",
      "2\n",
      "2\n",
      "2\n",
      "2\n",
      "2\n",
      "2\n",
      "2\n",
      "2\n",
      "2\n",
      "2\n",
      "2\n",
      "2\n",
      "2\n",
      "2\n",
      "2\n",
      "2\n",
      "2\n",
      "2\n",
      "2\n",
      "2\n",
      "2\n",
      "2\n",
      "2\n",
      "2\n",
      "2\n",
      "2\n",
      "2\n",
      "2\n",
      "2\n",
      "2\n",
      "2\n",
      "2\n",
      "2\n",
      "2\n",
      "2\n",
      "2\n",
      "2\n",
      "2\n",
      "2\n",
      "2\n",
      "2\n",
      "2\n",
      "2\n",
      "2\n",
      "2\n",
      "2\n",
      "2\n",
      "2\n",
      "2\n",
      "2\n",
      "2\n",
      "2\n",
      "2\n",
      "2\n",
      "2\n",
      "2\n",
      "2\n",
      "2\n",
      "2\n",
      "2\n",
      "2\n",
      "2\n",
      "2\n",
      "2\n",
      "2\n",
      "2\n",
      "2\n",
      "2\n",
      "2\n",
      "2\n",
      "2\n",
      "2\n",
      "2\n",
      "2\n",
      "2\n",
      "2\n",
      "2\n",
      "2\n",
      "2\n",
      "2\n",
      "2\n",
      "2\n",
      "2\n",
      "2\n",
      "2\n",
      "2\n",
      "2\n",
      "2\n",
      "2\n",
      "2\n",
      "2\n",
      "2\n",
      "2\n",
      "2\n",
      "2\n",
      "2\n",
      "2\n",
      "2\n",
      "2\n",
      "2\n",
      "2\n",
      "2\n",
      "2\n",
      "2\n",
      "2\n",
      "2\n",
      "2\n",
      "2\n",
      "2\n",
      "2\n",
      "2\n",
      "2\n",
      "2\n",
      "2\n",
      "2\n",
      "2\n",
      "2\n",
      "2\n",
      "2\n",
      "2\n",
      "2\n",
      "2\n",
      "2\n",
      "2\n",
      "2\n",
      "2\n",
      "2\n",
      "2\n",
      "2\n",
      "2\n",
      "2\n",
      "2\n",
      "2\n",
      "2\n",
      "2\n",
      "2\n",
      "2\n",
      "2\n",
      "2\n",
      "2\n",
      "2\n",
      "2\n",
      "2\n",
      "2\n",
      "2\n",
      "2\n",
      "2\n",
      "2\n",
      "2\n",
      "2\n",
      "2\n",
      "2\n",
      "2\n",
      "2\n",
      "2\n",
      "2\n",
      "2\n",
      "2\n",
      "2\n",
      "2\n",
      "2\n",
      "2\n",
      "2\n",
      "2\n",
      "2\n",
      "2\n",
      "2\n",
      "2\n",
      "2\n",
      "2\n",
      "2\n",
      "2\n",
      "2\n",
      "2\n",
      "2\n",
      "2\n",
      "2\n",
      "2\n",
      "2\n",
      "2\n",
      "2\n",
      "2\n",
      "2\n",
      "2\n",
      "2\n",
      "2\n",
      "2\n",
      "2\n",
      "2\n",
      "2\n",
      "2\n",
      "2\n",
      "2\n",
      "2\n",
      "2\n",
      "2\n",
      "2\n"
     ]
    },
    {
     "ename": "KeyboardInterrupt",
     "evalue": "",
     "output_type": "error",
     "traceback": [
      "\u001b[0;31m---------------------------------------------------------------------------\u001b[0m",
      "\u001b[0;31mKeyboardInterrupt\u001b[0m                         Traceback (most recent call last)",
      "\u001b[0;32m<ipython-input-131-6979bf9e0423>\u001b[0m in \u001b[0;36m<module>\u001b[0;34m()\u001b[0m\n\u001b[0;32m----> 1\u001b[0;31m \u001b[0;32mfor\u001b[0m \u001b[0mi\u001b[0m \u001b[0;32min\u001b[0m \u001b[0mx\u001b[0m\u001b[0;34m[\u001b[0m\u001b[0;36m1\u001b[0m\u001b[0;34m]\u001b[0m\u001b[0;34m:\u001b[0m\u001b[0;34m\u001b[0m\u001b[0m\n\u001b[0m\u001b[1;32m      2\u001b[0m     \u001b[0;32mprint\u001b[0m \u001b[0mlen\u001b[0m\u001b[0;34m(\u001b[0m\u001b[0mloads\u001b[0m\u001b[0;34m(\u001b[0m\u001b[0mi\u001b[0m\u001b[0;34m)\u001b[0m\u001b[0;34m)\u001b[0m\u001b[0;34m\u001b[0m\u001b[0m\n",
      "\u001b[0;32m/Users/rok/spark/python/lib/py4j-0.9-src.zip/py4j/java_collections.py\u001b[0m in \u001b[0;36mnext\u001b[0;34m(self)\u001b[0m\n\u001b[1;32m     50\u001b[0m                 self._target_id, self._gateway_client)\n\u001b[1;32m     51\u001b[0m         \u001b[0;32mtry\u001b[0m\u001b[0;34m:\u001b[0m\u001b[0;34m\u001b[0m\u001b[0m\n\u001b[0;32m---> 52\u001b[0;31m             \u001b[0;32mreturn\u001b[0m \u001b[0mself\u001b[0m\u001b[0;34m.\u001b[0m\u001b[0m_methods\u001b[0m\u001b[0;34m[\u001b[0m\u001b[0mself\u001b[0m\u001b[0;34m.\u001b[0m\u001b[0m_next_name\u001b[0m\u001b[0;34m]\u001b[0m\u001b[0;34m(\u001b[0m\u001b[0;34m)\u001b[0m\u001b[0;34m\u001b[0m\u001b[0m\n\u001b[0m\u001b[1;32m     53\u001b[0m         \u001b[0;32mexcept\u001b[0m \u001b[0mPy4JError\u001b[0m\u001b[0;34m:\u001b[0m\u001b[0;34m\u001b[0m\u001b[0m\n\u001b[1;32m     54\u001b[0m             \u001b[0;32mraise\u001b[0m \u001b[0mStopIteration\u001b[0m\u001b[0;34m(\u001b[0m\u001b[0;34m)\u001b[0m\u001b[0;34m\u001b[0m\u001b[0m\n",
      "\u001b[0;32m/Users/rok/spark/python/lib/py4j-0.9-src.zip/py4j/java_gateway.py\u001b[0m in \u001b[0;36m__call__\u001b[0;34m(self, *args)\u001b[0m\n\u001b[1;32m    809\u001b[0m             \u001b[0mproto\u001b[0m\u001b[0;34m.\u001b[0m\u001b[0mEND_COMMAND_PART\u001b[0m\u001b[0;34m\u001b[0m\u001b[0m\n\u001b[1;32m    810\u001b[0m \u001b[0;34m\u001b[0m\u001b[0m\n\u001b[0;32m--> 811\u001b[0;31m         \u001b[0manswer\u001b[0m \u001b[0;34m=\u001b[0m \u001b[0mself\u001b[0m\u001b[0;34m.\u001b[0m\u001b[0mgateway_client\u001b[0m\u001b[0;34m.\u001b[0m\u001b[0msend_command\u001b[0m\u001b[0;34m(\u001b[0m\u001b[0mcommand\u001b[0m\u001b[0;34m)\u001b[0m\u001b[0;34m\u001b[0m\u001b[0m\n\u001b[0m\u001b[1;32m    812\u001b[0m         return_value = get_return_value(\n\u001b[1;32m    813\u001b[0m             answer, self.gateway_client, self.target_id, self.name)\n",
      "\u001b[0;32m/Users/rok/spark/python/lib/py4j-0.9-src.zip/py4j/java_gateway.py\u001b[0m in \u001b[0;36msend_command\u001b[0;34m(self, command, retry)\u001b[0m\n\u001b[1;32m    624\u001b[0m         \u001b[0mconnection\u001b[0m \u001b[0;34m=\u001b[0m \u001b[0mself\u001b[0m\u001b[0;34m.\u001b[0m\u001b[0m_get_connection\u001b[0m\u001b[0;34m(\u001b[0m\u001b[0;34m)\u001b[0m\u001b[0;34m\u001b[0m\u001b[0m\n\u001b[1;32m    625\u001b[0m         \u001b[0;32mtry\u001b[0m\u001b[0;34m:\u001b[0m\u001b[0;34m\u001b[0m\u001b[0m\n\u001b[0;32m--> 626\u001b[0;31m             \u001b[0mresponse\u001b[0m \u001b[0;34m=\u001b[0m \u001b[0mconnection\u001b[0m\u001b[0;34m.\u001b[0m\u001b[0msend_command\u001b[0m\u001b[0;34m(\u001b[0m\u001b[0mcommand\u001b[0m\u001b[0;34m)\u001b[0m\u001b[0;34m\u001b[0m\u001b[0m\n\u001b[0m\u001b[1;32m    627\u001b[0m             \u001b[0mself\u001b[0m\u001b[0;34m.\u001b[0m\u001b[0m_give_back_connection\u001b[0m\u001b[0;34m(\u001b[0m\u001b[0mconnection\u001b[0m\u001b[0;34m)\u001b[0m\u001b[0;34m\u001b[0m\u001b[0m\n\u001b[1;32m    628\u001b[0m         \u001b[0;32mexcept\u001b[0m \u001b[0mPy4JNetworkError\u001b[0m\u001b[0;34m:\u001b[0m\u001b[0;34m\u001b[0m\u001b[0m\n",
      "\u001b[0;32m/Users/rok/spark/python/lib/py4j-0.9-src.zip/py4j/java_gateway.py\u001b[0m in \u001b[0;36msend_command\u001b[0;34m(self, command)\u001b[0m\n\u001b[1;32m    738\u001b[0m         \u001b[0;32mtry\u001b[0m\u001b[0;34m:\u001b[0m\u001b[0;34m\u001b[0m\u001b[0m\n\u001b[1;32m    739\u001b[0m             \u001b[0mself\u001b[0m\u001b[0;34m.\u001b[0m\u001b[0msocket\u001b[0m\u001b[0;34m.\u001b[0m\u001b[0msendall\u001b[0m\u001b[0;34m(\u001b[0m\u001b[0mcommand\u001b[0m\u001b[0;34m.\u001b[0m\u001b[0mencode\u001b[0m\u001b[0;34m(\u001b[0m\u001b[0;34m\"utf-8\"\u001b[0m\u001b[0;34m)\u001b[0m\u001b[0;34m)\u001b[0m\u001b[0;34m\u001b[0m\u001b[0m\n\u001b[0;32m--> 740\u001b[0;31m             \u001b[0manswer\u001b[0m \u001b[0;34m=\u001b[0m \u001b[0msmart_decode\u001b[0m\u001b[0;34m(\u001b[0m\u001b[0mself\u001b[0m\u001b[0;34m.\u001b[0m\u001b[0mstream\u001b[0m\u001b[0;34m.\u001b[0m\u001b[0mreadline\u001b[0m\u001b[0;34m(\u001b[0m\u001b[0;34m)\u001b[0m\u001b[0;34m[\u001b[0m\u001b[0;34m:\u001b[0m\u001b[0;34m-\u001b[0m\u001b[0;36m1\u001b[0m\u001b[0;34m]\u001b[0m\u001b[0;34m)\u001b[0m\u001b[0;34m\u001b[0m\u001b[0m\n\u001b[0m\u001b[1;32m    741\u001b[0m             \u001b[0mlogger\u001b[0m\u001b[0;34m.\u001b[0m\u001b[0mdebug\u001b[0m\u001b[0;34m(\u001b[0m\u001b[0;34m\"Answer received: {0}\"\u001b[0m\u001b[0;34m.\u001b[0m\u001b[0mformat\u001b[0m\u001b[0;34m(\u001b[0m\u001b[0manswer\u001b[0m\u001b[0;34m)\u001b[0m\u001b[0;34m)\u001b[0m\u001b[0;34m\u001b[0m\u001b[0m\n\u001b[1;32m    742\u001b[0m             \u001b[0;31m# Happens when a the other end is dead. There might be an empty\u001b[0m\u001b[0;34m\u001b[0m\u001b[0;34m\u001b[0m\u001b[0m\n",
      "\u001b[0;32m/Users/rok/miniconda/lib/python2.7/socket.pyc\u001b[0m in \u001b[0;36mreadline\u001b[0;34m(self, size)\u001b[0m\n\u001b[1;32m    432\u001b[0m                     \u001b[0;32mtry\u001b[0m\u001b[0;34m:\u001b[0m\u001b[0;34m\u001b[0m\u001b[0m\n\u001b[1;32m    433\u001b[0m                         \u001b[0;32mwhile\u001b[0m \u001b[0mdata\u001b[0m \u001b[0;34m!=\u001b[0m \u001b[0;34m\"\\n\"\u001b[0m\u001b[0;34m:\u001b[0m\u001b[0;34m\u001b[0m\u001b[0m\n\u001b[0;32m--> 434\u001b[0;31m                             \u001b[0mdata\u001b[0m \u001b[0;34m=\u001b[0m \u001b[0mrecv\u001b[0m\u001b[0;34m(\u001b[0m\u001b[0;36m1\u001b[0m\u001b[0;34m)\u001b[0m\u001b[0;34m\u001b[0m\u001b[0m\n\u001b[0m\u001b[1;32m    435\u001b[0m                             \u001b[0;32mif\u001b[0m \u001b[0;32mnot\u001b[0m \u001b[0mdata\u001b[0m\u001b[0;34m:\u001b[0m\u001b[0;34m\u001b[0m\u001b[0m\n\u001b[1;32m    436\u001b[0m                                 \u001b[0;32mbreak\u001b[0m\u001b[0;34m\u001b[0m\u001b[0m\n",
      "\u001b[0;31mKeyboardInterrupt\u001b[0m: "
     ]
    }
   ],
   "source": [
    "for i in x[1]:\n",
    "    print len(loads(i))"
   ]
  },
  {
   "cell_type": "code",
   "execution_count": 114,
   "metadata": {
    "collapsed": false
   },
   "outputs": [
    {
     "data": {
      "text/plain": [
       "953"
      ]
     },
     "execution_count": 114,
     "metadata": {},
     "output_type": "execute_result"
    }
   ],
   "source": [
    "len(x[0])"
   ]
  },
  {
   "cell_type": "code",
   "execution_count": 50,
   "metadata": {
    "collapsed": false
   },
   "outputs": [
    {
     "name": "stdout",
     "output_type": "stream",
     "text": [
      "============================================================\n",
      "Profile of RDD<id=52>\n",
      "============================================================\n",
      "         33646844 function calls (33646828 primitive calls) in 46.926 seconds\n",
      "\n",
      "   Ordered by: internal time, cumulative time\n",
      "\n",
      "   ncalls  tottime  percall  cumtime  percall filename:lineno(function)\n",
      "      874   24.412    0.028   24.412    0.028 {cPickle.loads}\n",
      " 16819357   13.843    0.000   43.895    0.000 rdd.py:1004(<genexpr>)\n",
      " 16819349    4.105    0.000    4.105    0.000 rdd.py:1540(<lambda>)\n",
      "       16    3.031    0.189   46.926    2.933 {sum}\n",
      "     1756    1.383    0.001    1.383    0.001 {method 'read' of 'file' objects}\n",
      "      882    0.116    0.000   25.948    0.029 serializers.py:136(load_stream)\n",
      "      882    0.014    0.000   25.831    0.029 serializers.py:155(_read_with_length)\n",
      "      874    0.014    0.000   24.425    0.028 serializers.py:421(loads)\n",
      "      882    0.005    0.000    0.509    0.001 serializers.py:542(read_int)\n",
      "      882    0.003    0.000    0.003    0.000 {_struct.unpack}\n",
      "      890    0.001    0.000    0.001    0.000 {len}\n",
      "        8    0.000    0.000    0.000    0.000 serializers.py:259(dump_stream)\n",
      "        8    0.000    0.000    0.000    0.000 serializers.py:217(load_stream)\n",
      "        8    0.000    0.000    0.000    0.000 rdd.py:288(func)\n",
      "     24/8    0.000    0.000   46.926    5.866 rdd.py:2345(pipeline_func)\n",
      "        8    0.000    0.000   46.926    5.866 worker.py:104(process)\n",
      "        8    0.000    0.000    0.000    0.000 {cPickle.dumps}\n",
      "        8    0.000    0.000    0.000    0.000 serializers.py:549(write_int)\n",
      "       16    0.000    0.000    0.000    0.000 {method 'write' of 'file' objects}\n",
      "        8    0.000    0.000   46.926    5.866 rdd.py:1004(<lambda>)\n",
      "       24    0.000    0.000   46.926    1.955 rdd.py:316(func)\n",
      "       16    0.000    0.000    0.000    0.000 rdd.py:861(func)\n",
      "        8    0.000    0.000    0.000    0.000 serializers.py:414(dumps)\n",
      "        8    0.000    0.000    0.000    0.000 serializers.py:220(_load_stream_without_unbatching)\n",
      "        8    0.000    0.000    0.000    0.000 {_struct.pack}\n",
      "        8    0.000    0.000    0.000    0.000 rdd.py:995(<lambda>)\n",
      "        8    0.000    0.000    0.000    0.000 {built-in method from_iterable}\n",
      "        8    0.000    0.000    0.000    0.000 {operator.add}\n",
      "        8    0.000    0.000    0.000    0.000 {iter}\n",
      "        8    0.000    0.000    0.000    0.000 {method 'disable' of '_lsprof.Profiler' objects}\n",
      "\n",
      "\n"
     ]
    }
   ],
   "source": [
    "sc.show_profiles()"
   ]
  },
  {
   "cell_type": "markdown",
   "metadata": {},
   "source": [
    "### Run the local FOF"
   ]
  },
  {
   "cell_type": "code",
   "execution_count": 24,
   "metadata": {
    "collapsed": true
   },
   "outputs": [],
   "source": [
    "from spark_util import spark_cython"
   ]
  },
  {
   "cell_type": "code",
   "execution_count": 25,
   "metadata": {
    "collapsed": true
   },
   "outputs": [],
   "source": [
    "from fof import fof"
   ]
  },
  {
   "cell_type": "code",
   "execution_count": 26,
   "metadata": {
    "collapsed": true
   },
   "outputs": [],
   "source": [
    "def run_local_fof(index, particle_iter, tau, nMinMembers): \n",
    "    part_arr = np.fromiter(particle_iter, pdt)\n",
    "    if len(part_arr)>0:\n",
    "        fof.run(part_arr, tau, nMinMembers)\n",
    "    return part_arr\n",
    "\n",
    "def encode_gid(pid, cid, bits=32):\n",
    "    if bits == 32: \n",
    "        res = np.int64(int(np.binary_repr(pid,width=32)+np.binary_repr(cid,width=32),2))\n",
    "    elif bits == 16:\n",
    "        res = np.int32(int(np.binary_repr(pid,width=16)+np.binary_repr(cid,width=16),2))\n",
    "    else: \n",
    "        raise RuntimeError('Group encoding must use either 16 or 32 bit integers')\n",
    "    return res\n",
    "\n",
    "def set_group_id(partition_index, particle_iter):\n",
    "    part_arr = np.fromiter(particle_iter, pdt)\n",
    "    for i in range(len(part_arr)):\n",
    "        gid = part_arr['iGroup'][i]\n",
    "        part_arr['iGroup'][i] = np.int64(bin((partition_index<<32) | gid), 2)\n",
    "    return part_arr"
   ]
  },
  {
   "cell_type": "code",
   "execution_count": 27,
   "metadata": {
    "collapsed": false
   },
   "outputs": [],
   "source": [
    "fof_rdd = part_rdd.mapPartitionsWithIndex(lambda index, particles: run_local_fof(index, particles, tau, 1))\\\n",
    "                  .mapPartitionsWithIndex(set_group_id).cache()"
   ]
  },
  {
   "cell_type": "markdown",
   "metadata": {},
   "source": [
    "### Group Merging stage"
   ]
  },
  {
   "cell_type": "code",
   "execution_count": 28,
   "metadata": {
    "collapsed": false
   },
   "outputs": [],
   "source": [
    "fof_analyzer = spark_fof.FOFAnalyzer(sc, N, tau, fof_rdd, [-.5,-.5,-.5], [.5,.5,.5])\n",
    "\n",
    "merged_rdd = fof_analyzer.merge_groups(0)\n",
    "\n",
    "merged = merged_rdd.collect()\n",
    "\n",
    "merged_arr = np.fromiter(merged, pdt)\n",
    "\n",
    "groups = np.unique(merged_arr['iGroup'])"
   ]
  },
  {
   "cell_type": "code",
   "execution_count": 29,
   "metadata": {
    "collapsed": false
   },
   "outputs": [],
   "source": [
    "assert(len(groups) == n_groups)"
   ]
  },
  {
   "cell_type": "code",
   "execution_count": 30,
   "metadata": {
    "collapsed": false
   },
   "outputs": [
    {
     "data": {
      "text/plain": [
       "7251094"
      ]
     },
     "execution_count": 30,
     "metadata": {},
     "output_type": "execute_result"
    }
   ],
   "source": [
    "len(groups)"
   ]
  },
  {
   "cell_type": "code",
   "execution_count": 31,
   "metadata": {
    "collapsed": false
   },
   "outputs": [
    {
     "data": {
      "text/plain": [
       "7251094"
      ]
     },
     "execution_count": 31,
     "metadata": {},
     "output_type": "execute_result"
    }
   ],
   "source": [
    "n_groups"
   ]
  },
  {
   "cell_type": "code",
   "execution_count": null,
   "metadata": {
    "collapsed": true
   },
   "outputs": [],
   "source": []
  }
 ],
 "metadata": {
  "kernelspec": {
   "display_name": "Python 2",
   "language": "python",
   "name": "python2"
  },
  "language_info": {
   "codemirror_mode": {
    "name": "ipython",
    "version": 2
   },
   "file_extension": ".py",
   "mimetype": "text/x-python",
   "name": "python",
   "nbconvert_exporter": "python",
   "pygments_lexer": "ipython2",
   "version": "2.7.11"
  }
 },
 "nbformat": 4,
 "nbformat_minor": 0
}
