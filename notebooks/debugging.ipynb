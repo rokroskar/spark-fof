{
 "cells": [
  {
   "cell_type": "code",
   "execution_count": 1,
   "metadata": {
    "collapsed": true
   },
   "outputs": [],
   "source": [
    "import numpy as np"
   ]
  },
  {
   "cell_type": "code",
   "execution_count": 2,
   "metadata": {
    "collapsed": true
   },
   "outputs": [],
   "source": [
    "import matplotlib.pylab as plt\n",
    "%matplotlib inline"
   ]
  },
  {
   "cell_type": "code",
   "execution_count": 3,
   "metadata": {
    "collapsed": true
   },
   "outputs": [],
   "source": [
    "import matplotlib.patches as patches\n",
    "def plot_rectangle(rec, ax=None):\n",
    "    if ax is None: \n",
    "        ax = plt.subplot(aspect='equal')\n",
    "    \n",
    "    if isinstance(rec, (list, tuple)):\n",
    "        for r in rec: \n",
    "            plot_rectangle(r,ax)\n",
    "    \n",
    "    else:\n",
    "        size = (rec.maxes-rec.mins)\n",
    "        ax.add_patch(patches.Rectangle(rec.mins, size[0], size[1], fill=False, zorder=-1))\n",
    "    \n",
    "    "
   ]
  },
  {
   "cell_type": "code",
   "execution_count": 4,
   "metadata": {
    "collapsed": false
   },
   "outputs": [],
   "source": [
    "#diff = np.float32(0.033068776)\n",
    "diff = np.float32(0.03306878)\n",
    "global_min = -31*diff\n",
    "global_max = 31*diff\n",
    "\n",
    "dom_maxs = np.array([global_max]*3, dtype=np.float64)\n",
    "dom_mins = np.array([global_min]*3, dtype=np.float64)\n",
    "tau = 0.2/12600 # 0.2 times mean interparticle separation\n",
    "#buffer_tau = diff*5./150.\n",
    "Ngrid = 62"
   ]
  },
  {
   "cell_type": "code",
   "execution_count": 5,
   "metadata": {
    "collapsed": true
   },
   "outputs": [],
   "source": [
    "import sparkhpc"
   ]
  },
  {
   "cell_type": "code",
   "execution_count": 6,
   "metadata": {
    "collapsed": true
   },
   "outputs": [],
   "source": [
    "ncores = 8\n",
    "minblock = 30\n",
    "maxblock = 32"
   ]
  },
  {
   "cell_type": "code",
   "execution_count": 7,
   "metadata": {
    "collapsed": true
   },
   "outputs": [],
   "source": [
    "import os\n",
    "os.environ['SPARK_HOME'] = '/cluster/home/roskarr/spark'\n",
    "os.environ['SPARK_DRIVER_MEMORY'] = '16G'"
   ]
  },
  {
   "cell_type": "code",
   "execution_count": 8,
   "metadata": {
    "collapsed": false
   },
   "outputs": [],
   "source": [
    "import findspark\n",
    "findspark.init()"
   ]
  },
  {
   "cell_type": "code",
   "execution_count": 9,
   "metadata": {
    "collapsed": true
   },
   "outputs": [],
   "source": [
    "import sparkhpc"
   ]
  },
  {
   "cell_type": "code",
   "execution_count": 38,
   "metadata": {
    "collapsed": false
   },
   "outputs": [],
   "source": [
    "sj = sparkhpc.sparkjob.LSFSparkJob(ncores=ncores,memory=16000,walltime='02:00', template='../run_scripts/job.template')"
   ]
  },
  {
   "cell_type": "code",
   "execution_count": 39,
   "metadata": {
    "collapsed": false
   },
   "outputs": [
    {
     "name": "stderr",
     "output_type": "stream",
     "text": [
      "INFO:sparkhpc:Submitted cluster 0\n"
     ]
    }
   ],
   "source": [
    "sj.submit()"
   ]
  },
  {
   "cell_type": "code",
   "execution_count": 11,
   "metadata": {
    "collapsed": false
   },
   "outputs": [],
   "source": [
    "#sj = sparkhpc.sparkjob.LSFSparkJob(clusterid=0)"
   ]
  },
  {
   "cell_type": "code",
   "execution_count": 12,
   "metadata": {
    "collapsed": false
   },
   "outputs": [
    {
     "name": "stderr",
     "output_type": "stream",
     "text": [
      "INFO:sparkhpc:Submitted cluster 1\n"
     ]
    }
   ],
   "source": [
    "sj.wait_to_start()"
   ]
  },
  {
   "cell_type": "code",
   "execution_count": 15,
   "metadata": {
    "collapsed": false
   },
   "outputs": [],
   "source": [
    "sc = sparkhpc.start_spark(master=sj.master_url, spark_conf='../conf', \n",
    "                          profiling=False, executor_memory='6000M', graphframes_package='graphframes:graphframes:0.3.0-spark2.0-s_2.11')"
   ]
  },
  {
   "cell_type": "code",
   "execution_count": 16,
   "metadata": {
    "collapsed": true
   },
   "outputs": [],
   "source": [
    "sc.setCheckpointDir('file:///cluster/home/roskarr/work/euclid')"
   ]
  },
  {
   "cell_type": "code",
   "execution_count": 21,
   "metadata": {
    "collapsed": false
   },
   "outputs": [
    {
     "name": "stdout",
     "output_type": "stream",
     "text": [
      "spark_fof: Number of input files:  8\n",
      "spark_fof: Total number of particles:  587910375\n"
     ]
    }
   ],
   "source": [
    "import spark_fof\n",
    "path = '/cluster/home/roskarr/projects/euclid/2Tlc-final/'\n",
    "\n",
    "nMinMembers = 8\n",
    "nBins = 62\n",
    "fof_analyzer = spark_fof.spark_fof.LCFOFAnalyzer(sc, path, nMinMembers, nBins, tau, dom_mins, dom_maxs, blockids=range(32,34), buffer_tau=tau*2)"
   ]
  },
  {
   "cell_type": "code",
   "execution_count": null,
   "metadata": {
    "collapsed": false
   },
   "outputs": [],
   "source": [
    "# fof_analyzer.partitioned_rdd.flatMap(lambda p: p[np.where(p['iOrder'] == 458000793)]).collect()"
   ]
  },
  {
   "cell_type": "code",
   "execution_count": 22,
   "metadata": {
    "collapsed": false
   },
   "outputs": [
    {
     "data": {
      "text/plain": [
       "PythonRDD[22] at RDD at PythonRDD.scala:48"
      ]
     },
     "execution_count": 22,
     "metadata": {},
     "output_type": "execute_result"
    }
   ],
   "source": [
    "fof_analyzer.fof_rdd.cache()"
   ]
  },
  {
   "cell_type": "code",
   "execution_count": 23,
   "metadata": {
    "collapsed": false
   },
   "outputs": [
    {
     "name": "stdout",
     "output_type": "stream",
     "text": [
      "spark_fof <timing>: domain group mapping build took 381.830840 seconds\n",
      "total groups:  3075818\n",
      "spark_fof: Final group map build took 2.538857 seconds\n"
     ]
    },
    {
     "data": {
      "text/plain": [
       "PythonRDD[305] at RDD at PythonRDD.scala:48"
      ]
     },
     "execution_count": 23,
     "metadata": {},
     "output_type": "execute_result"
    }
   ],
   "source": [
    "fof_analyzer.final_fof_rdd.cache()"
   ]
  },
  {
   "cell_type": "code",
   "execution_count": 24,
   "metadata": {
    "collapsed": false
   },
   "outputs": [
    {
     "data": {
      "text/plain": [
       "3075818"
      ]
     },
     "execution_count": 24,
     "metadata": {},
     "output_type": "execute_result"
    }
   ],
   "source": [
    "len(fof_analyzer.groups)"
   ]
  },
  {
   "cell_type": "code",
   "execution_count": 25,
   "metadata": {
    "collapsed": false
   },
   "outputs": [
    {
     "name": "stdout",
     "output_type": "stream",
     "text": [
      "CPU times: user 29 ms, sys: 16 s, total: 16 s\n",
      "Wall time: 1min 54s\n"
     ]
    }
   ],
   "source": [
    "%time p1 = np.load('../tests/testdata/fof_32_34_min8.npy')\n",
    "\n",
    "#from glob import glob\n",
    "\n",
    "\n",
    "# gids, count = np.unique(p1['iGroup'], return_counts=True)\n",
    "\n",
    "# count.argsort()[::-1]\n",
    "\n",
    "# g1 = p1[np.where(p1['iGroup'] == 721691)[0]]\n",
    "\n",
    "# plt.plot(g1['pos'][:,0],g1['pos'][:,2], '.', alpha=.01)"
   ]
  },
  {
   "cell_type": "code",
   "execution_count": 26,
   "metadata": {
    "collapsed": false
   },
   "outputs": [
    {
     "data": {
      "text/plain": [
       "587910375"
      ]
     },
     "execution_count": 26,
     "metadata": {},
     "output_type": "execute_result"
    }
   ],
   "source": [
    "len(p1)"
   ]
  },
  {
   "cell_type": "code",
   "execution_count": 27,
   "metadata": {
    "collapsed": true
   },
   "outputs": [],
   "source": [
    "group_counts = np.bincount(p1['iGroup'])"
   ]
  },
  {
   "cell_type": "code",
   "execution_count": 28,
   "metadata": {
    "collapsed": false
   },
   "outputs": [
    {
     "data": {
      "text/plain": [
       "3075818"
      ]
     },
     "execution_count": 28,
     "metadata": {},
     "output_type": "execute_result"
    }
   ],
   "source": [
    "len(group_counts)-1"
   ]
  },
  {
   "cell_type": "code",
   "execution_count": 29,
   "metadata": {
    "collapsed": false
   },
   "outputs": [],
   "source": [
    "group_count_counts = np.bincount(group_counts[1:])"
   ]
  },
  {
   "cell_type": "code",
   "execution_count": 30,
   "metadata": {
    "collapsed": false
   },
   "outputs": [],
   "source": [
    "group_count_arr = np.array([y for x,y in fof_analyzer.total_group_counts])\n",
    "group_count_counts2 = np.bincount(group_count_arr)"
   ]
  },
  {
   "cell_type": "code",
   "execution_count": 31,
   "metadata": {
    "collapsed": false
   },
   "outputs": [
    {
     "data": {
      "text/plain": [
       "True"
      ]
     },
     "execution_count": 31,
     "metadata": {},
     "output_type": "execute_result"
    }
   ],
   "source": [
    "np.all(group_count_counts==group_count_counts2)"
   ]
  },
  {
   "cell_type": "code",
   "execution_count": 34,
   "metadata": {
    "collapsed": false
   },
   "outputs": [
    {
     "data": {
      "text/plain": [
       "587910375"
      ]
     },
     "execution_count": 34,
     "metadata": {},
     "output_type": "execute_result"
    }
   ],
   "source": [
    "group_counts.sum()"
   ]
  },
  {
   "cell_type": "code",
   "execution_count": 35,
   "metadata": {
    "collapsed": true
   },
   "outputs": [],
   "source": [
    "np.save('../tests/testdata/fof_32_34_min8_groups.npy', group_counts)"
   ]
  },
  {
   "cell_type": "code",
   "execution_count": 32,
   "metadata": {
    "collapsed": false
   },
   "outputs": [
    {
     "name": "stderr",
     "output_type": "stream",
     "text": [
      "INFO:sparkhpc:Job <38435036> is being terminated\n",
      "\n"
     ]
    }
   ],
   "source": [
    "sj.stop()"
   ]
  },
  {
   "cell_type": "code",
   "execution_count": null,
   "metadata": {
    "collapsed": true
   },
   "outputs": [],
   "source": []
  },
  {
   "cell_type": "code",
   "execution_count": 33,
   "metadata": {
    "collapsed": false
   },
   "outputs": [
    {
     "data": {
      "text/plain": [
       "([-0.03315236419439316, -0.008246643468737602, -0.05857064202427864], 0, 221965232, <read-write buffer ptr 0x354c6f64, size 4 at 0x2aea2f79de70>, 1104259)"
      ]
     },
     "execution_count": 33,
     "metadata": {},
     "output_type": "execute_result"
    }
   ],
   "source": [
    "p1[np.where(p1['iGroup']==1104259)][0]"
   ]
  },
  {
   "cell_type": "code",
   "execution_count": 34,
   "metadata": {
    "collapsed": true
   },
   "outputs": [],
   "source": [
    "groupid_sp = fof_analyzer.final_fof_rdd.flatMap(lambda p: p[np.where(p['iOrder'] == 221965232)]).first()['iGroup']"
   ]
  },
  {
   "cell_type": "code",
   "execution_count": 40,
   "metadata": {
    "collapsed": false,
    "scrolled": true
   },
   "outputs": [
    {
     "name": "stdout",
     "output_type": "stream",
     "text": [
      "253628 308264 1749 1749\n",
      "276298 327034 1749 1749\n",
      "471383 456281 1749 1749\n",
      "512850 657986 1749 1749\n",
      "686298 672009 1749 1749\n",
      "975985 847589 1749 1749\n",
      "1085992 1019064 1749 1749\n",
      "1104259 3077799 1749 1745\n",
      "1437204 1316057 1749 1749\n",
      "1491285 1458867 1749 1749\n",
      "1761844 1581202 1749 1749\n",
      "1895107 1834496 1749 1749\n",
      "2171417 2050556 1749 1749\n",
      "2242639 2148452 1749 1749\n",
      "2966142 2998731 1749 1749\n",
      "3032623 2871039 1749 1749\n"
     ]
    }
   ],
   "source": [
    "for groupid in np.where(group_counts==1749)[0]:\n",
    "    g = p1[np.where(p1['iGroup']==groupid)]\n",
    "    groupid_sp = fof_analyzer.final_fof_rdd.flatMap(lambda p: p[np.where(p['iOrder'] == g[0]['iOrder'])[0]]).collect()[0]['iGroup']\n",
    "    g_sp = np.array(fof_analyzer.final_fof_rdd.flatMap(lambda p: p[np.where(p['iGroup'] == groupid_sp)[0]]).collect())\n",
    "    print groupid, groupid_sp, len(g), len(g_sp)\n",
    "#     missing = np.where(~np.in1d(g['iOrder'],g_sp['iOrder']))[0]\n",
    "#     if len(missing) == 0: \n",
    "#         missing = np.where(~np.in1d(g_sp['iOrder'],g['iOrder']))[0]\n",
    "#     if len(missing) != 0: \n",
    "#         print 'found error in g_sp = ', g_sp"
   ]
  },
  {
   "cell_type": "code",
   "execution_count": 35,
   "metadata": {
    "collapsed": false
   },
   "outputs": [],
   "source": [
    "g = np.array(fof_analyzer.final_fof_rdd.flatMap(lambda p: p[np.where(p['iGroup'] == groupid_sp)[0]]).collect())"
   ]
  },
  {
   "cell_type": "code",
   "execution_count": 30,
   "metadata": {
    "collapsed": true
   },
   "outputs": [],
   "source": [
    "g1 = p1[np.where(p1['iGroup'] == 1104259)]"
   ]
  },
  {
   "cell_type": "code",
   "execution_count": 31,
   "metadata": {
    "collapsed": false
   },
   "outputs": [
    {
     "data": {
      "text/plain": [
       "array([221965232, 221965236, 221965237, ..., 458006612, 458006613,\n",
       "       458006614], dtype=int32)"
      ]
     },
     "execution_count": 31,
     "metadata": {},
     "output_type": "execute_result"
    }
   ],
   "source": [
    "g1['iOrder']"
   ]
  },
  {
   "cell_type": "code",
   "execution_count": 36,
   "metadata": {
    "collapsed": false
   },
   "outputs": [
    {
     "data": {
      "text/plain": [
       "array([221965232, 221965236, 221965237, ..., 458006612, 458006613,\n",
       "       458006614])"
      ]
     },
     "execution_count": 36,
     "metadata": {},
     "output_type": "execute_result"
    }
   ],
   "source": [
    "g['iOrder']"
   ]
  },
  {
   "cell_type": "code",
   "execution_count": 37,
   "metadata": {
    "collapsed": true
   },
   "outputs": [],
   "source": [
    "missing = g1[np.where(~np.in1d(g1['iOrder'],g['iOrder']))[0]]"
   ]
  },
  {
   "cell_type": "code",
   "execution_count": 38,
   "metadata": {
    "collapsed": true
   },
   "outputs": [],
   "source": [
    "missing_rect = [spark_fof.spark_fof_c.get_bin_wrapper(missing[i]['pos'], 62, fof_analyzer.dom_mins, fof_analyzer.dom_maxs) for i in range(len(missing))]"
   ]
  },
  {
   "cell_type": "code",
   "execution_count": 39,
   "metadata": {
    "collapsed": false
   },
   "outputs": [
    {
     "data": {
      "text/plain": [
       "array([ ([-0.03307649865746498, -0.008163860067725182, -0.05856410413980484], 0, 221966013, <read-write buffer ptr 0x1b61bf84, size 4 at 0x2aea2f79d5b0>, 1104259),\n",
       "       ([-0.03306760638952255, -0.008158876560628414, -0.05856703594326973], 0, 458000791, <read-write buffer ptr 0x1b61bfa4, size 4 at 0x2aea2f79d5b0>, 1104259),\n",
       "       ([-0.03305890038609505, -0.00816462840884924, -0.05855857580900192], 0, 458000792, <read-write buffer ptr 0x1b61bfc4, size 4 at 0x2aea2f79d5b0>, 1104259),\n",
       "       ([-0.03306877985596657, -0.008160539902746677, -0.05855977535247803], 0, 458000793, <read-write buffer ptr 0x1b61bfe4, size 4 at 0x2aea2f79d9f0>, 1104259)], \n",
       "      dtype=[('pos', '<f4', (3,)), ('is_ghost', '<i4'), ('iOrder', '<i4'), ('f3', 'V4'), ('iGroup', '<i8')])"
      ]
     },
     "execution_count": 39,
     "metadata": {},
     "output_type": "execute_result"
    }
   ],
   "source": [
    "missing"
   ]
  },
  {
   "cell_type": "code",
   "execution_count": 40,
   "metadata": {
    "collapsed": false
   },
   "outputs": [
    {
     "data": {
      "text/plain": [
       "[113365, 113366, 113366, 113365]"
      ]
     },
     "execution_count": 40,
     "metadata": {},
     "output_type": "execute_result"
    }
   ],
   "source": [
    "missing_rect"
   ]
  },
  {
   "cell_type": "code",
   "execution_count": 119,
   "metadata": {
    "collapsed": false
   },
   "outputs": [
    {
     "data": {
      "image/png": "[encoded data removed]",
      "text/plain": [
       "<matplotlib.figure.Figure at 0x2aea71067a50>"
      ]
     },
     "metadata": {},
     "output_type": "display_data"
    }
   ],
   "source": [
    "f,ax = plt.subplots()\n",
    "\n",
    "x=0\n",
    "y=1\n",
    "\n",
    "ax.plot(g1['pos'][:,x],g1['pos'][:,y],'.')\n",
    "ax.plot(missing['pos'][:,x],missing['pos'][:,y],'r.')\n",
    "ax.plot(link_p['pos'][0,x], link_p['pos'][0,y], '.')\n",
    "plot_rectangle(fof_analyzer.domain_containers[missing_rect[0]],ax)\n",
    "plot_rectangle(fof_analyzer.domain_containers[missing_rect[1]].bufferRectangle,ax)\n",
    "plot_rectangle(fof_analyzer.domain_containers[113366].bufferRectangle,ax)\n",
    "#plt.xlim(-0.0331,-0.0329)\n",
    "# plt.ylim(-0.0331,-0.03305)"
   ]
  },
  {
   "cell_type": "code",
   "execution_count": 39,
   "metadata": {
    "collapsed": true
   },
   "outputs": [],
   "source": [
    "batch_size = 1024*10240\n",
    "def filter_partition(pid, iterator):\n",
    "    if pid == 6: \n",
    "        arr = np.concatenate(list(iterator))\n",
    "        np.save('/cluster/home/roskarr/Projects/spark-fof/debug_data/part_6',arr)\n",
    "        yield 1\n",
    "    yield 0"
   ]
  },
  {
   "cell_type": "code",
   "execution_count": 222,
   "metadata": {
    "collapsed": false
   },
   "outputs": [
    {
     "data": {
      "text/plain": [
       "[0, 0, 0, 0, 0, 0, 1, 0, 0]"
      ]
     },
     "execution_count": 222,
     "metadata": {},
     "output_type": "execute_result"
    }
   ],
   "source": [
    "fof_analyzer.partitioned_rdd.mapPartitionsWithIndex(filter_partition).collect()"
   ]
  },
  {
   "cell_type": "code",
   "execution_count": 44,
   "metadata": {
    "collapsed": true
   },
   "outputs": [],
   "source": [
    "part_2 = np.load('../debug_data/part_2.npy')"
   ]
  },
  {
   "cell_type": "code",
   "execution_count": 45,
   "metadata": {
    "collapsed": true
   },
   "outputs": [],
   "source": [
    "missing2 = g1[np.where(~np.in1d(g1['iOrder'],part_2['iOrder']))[0]]"
   ]
  },
  {
   "cell_type": "code",
   "execution_count": 46,
   "metadata": {
    "collapsed": false
   },
   "outputs": [
    {
     "data": {
      "text/plain": [
       "array([ ([-0.03306877985596657, -0.008160539902746677, -0.05855977535247803], 0, 458000793, <read-write buffer ptr 0x198249a4, size 4 at 0x2aea710c02b0>, 1104259)], \n",
       "      dtype=[('pos', '<f4', (3,)), ('is_ghost', '<i4'), ('iOrder', '<i4'), ('f3', 'V4'), ('iGroup', '<i8')])"
      ]
     },
     "execution_count": 46,
     "metadata": {},
     "output_type": "execute_result"
    }
   ],
   "source": [
    "missing2"
   ]
  },
  {
   "cell_type": "code",
   "execution_count": 63,
   "metadata": {
    "collapsed": false
   },
   "outputs": [],
   "source": [
    "import scipy\n",
    "d = scipy.spatial.distance.squareform(scipy.spatial.distance.pdist(g1['pos']))/tau"
   ]
  },
  {
   "cell_type": "code",
   "execution_count": 64,
   "metadata": {
    "collapsed": true
   },
   "outputs": [],
   "source": [
    "miss_ind = np.where(g1['iOrder'] ==458000793 )[0]"
   ]
  },
  {
   "cell_type": "code",
   "execution_count": 89,
   "metadata": {
    "collapsed": true
   },
   "outputs": [],
   "source": [
    "dmiss = d[miss_ind].squeeze()"
   ]
  },
  {
   "cell_type": "code",
   "execution_count": 94,
   "metadata": {
    "collapsed": false
   },
   "outputs": [],
   "source": [
    "nearest = dmiss.argsort()[1:8]"
   ]
  },
  {
   "cell_type": "code",
   "execution_count": 97,
   "metadata": {
    "collapsed": false
   },
   "outputs": [
    {
     "data": {
      "text/plain": [
       "[(0.47505471199144561, 458000791),\n",
       " (0.59548095818721658, 221966013),\n",
       " (0.67782470190692079, 458000792),\n",
       " (0.79282656789454942, 221966018),\n",
       " (1.3471609485191982, 221966015),\n",
       " (1.5102245295454979, 221966012),\n",
       " (1.5488629469838175, 221969933)]"
      ]
     },
     "execution_count": 97,
     "metadata": {},
     "output_type": "execute_result"
    }
   ],
   "source": [
    "zip(dmiss[nearest],g1[nearest]['iOrder'])"
   ]
  },
  {
   "cell_type": "markdown",
   "metadata": {},
   "source": [
    "below is the list of missing particles -- in the distributed FOF, these four are the only ones that appear on each others' lists -- whereis 221966018? It should be at least grouped with 458000793."
   ]
  },
  {
   "cell_type": "code",
   "execution_count": 96,
   "metadata": {
    "collapsed": false
   },
   "outputs": [
    {
     "data": {
      "text/plain": [
       "array([ ([-0.03307649865746498, -0.008163860067725182, -0.05856410413980484], 0, 221966013, <read-write buffer ptr 0x1b61bf84, size 4 at 0x2aea7746aa70>, 1104259),\n",
       "       ([-0.03306760638952255, -0.008158876560628414, -0.05856703594326973], 0, 458000791, <read-write buffer ptr 0x1b61bfa4, size 4 at 0x2aea7746aa70>, 1104259),\n",
       "       ([-0.03305890038609505, -0.00816462840884924, -0.05855857580900192], 0, 458000792, <read-write buffer ptr 0x1b61bfc4, size 4 at 0x2aea7746aa70>, 1104259),\n",
       "       ([-0.03306877985596657, -0.008160539902746677, -0.05855977535247803], 0, 458000793, <read-write buffer ptr 0x1b61bfe4, size 4 at 0x2aea7746ab30>, 1104259)], \n",
       "      dtype=[('pos', '<f4', (3,)), ('is_ghost', '<i4'), ('iOrder', '<i4'), ('f3', 'V4'), ('iGroup', '<i8')])"
      ]
     },
     "execution_count": 96,
     "metadata": {},
     "output_type": "execute_result"
    }
   ],
   "source": [
    "missing"
   ]
  },
  {
   "cell_type": "code",
   "execution_count": 107,
   "metadata": {
    "collapsed": false
   },
   "outputs": [],
   "source": [
    "link_p = np.array(fof_analyzer.final_fof_rdd.flatMap(lambda p: p[np.where(p['iOrder']==221966018)[0]]).collect())"
   ]
  },
  {
   "cell_type": "code",
   "execution_count": 108,
   "metadata": {
    "collapsed": false
   },
   "outputs": [
    {
     "data": {
      "text/plain": [
       "array([ ([-0.03307422623038292, -0.008154651150107384, -0.05855007842183113], 0, 221966018, 3078210)], \n",
       "      dtype={'names':['pos','is_ghost','iOrder','iGroup'], 'formats':[('<f4', (3,)),'<i4','<i8','<i8'], 'offsets':[0,12,16,24], 'itemsize':32, 'aligned':True})"
      ]
     },
     "execution_count": 108,
     "metadata": {},
     "output_type": "execute_result"
    }
   ],
   "source": [
    "link_p"
   ]
  },
  {
   "cell_type": "code",
   "execution_count": 113,
   "metadata": {
    "collapsed": false
   },
   "outputs": [
    {
     "data": {
      "text/plain": [
       "113365"
      ]
     },
     "execution_count": 113,
     "metadata": {},
     "output_type": "execute_result"
    }
   ],
   "source": [
    "spark_fof.spark_fof_c.get_bin_wrapper(link_p['pos'][0], 62, fof_analyzer.dom_mins, fof_analyzer.dom_maxs)"
   ]
  },
  {
   "cell_type": "code",
   "execution_count": 114,
   "metadata": {
    "collapsed": false
   },
   "outputs": [
    {
     "data": {
      "text/plain": [
       "{113303: 0,\n",
       " 113304: 4,\n",
       " 113365: 2,\n",
       " 113366: 6,\n",
       " 117147: 1,\n",
       " 117148: 5,\n",
       " 117209: 3,\n",
       " 117210: 7}"
      ]
     },
     "execution_count": 114,
     "metadata": {},
     "output_type": "execute_result"
    }
   ],
   "source": [
    "fof_analyzer.global_to_local_map"
   ]
  },
  {
   "cell_type": "code",
   "execution_count": 122,
   "metadata": {
    "collapsed": false
   },
   "outputs": [
    {
     "data": {
      "text/plain": [
       "(array([68496724]),)"
      ]
     },
     "execution_count": 122,
     "metadata": {},
     "output_type": "execute_result"
    }
   ],
   "source": [
    "np.where(part_2['iOrder'] == 221966018)"
   ]
  },
  {
   "cell_type": "code",
   "execution_count": 124,
   "metadata": {
    "collapsed": false
   },
   "outputs": [
    {
     "data": {
      "text/plain": [
       "([-0.03306877985596657, -0.008160539902746677, -0.05855977535247803], 0, 458000793, <read-write buffer ptr 0x1b61bfe4, size 4 at 0x2aea5f625ab0>, 1104259)"
      ]
     },
     "execution_count": 124,
     "metadata": {},
     "output_type": "execute_result"
    }
   ],
   "source": [
    "missing[3]"
   ]
  },
  {
   "cell_type": "code",
   "execution_count": 125,
   "metadata": {
    "collapsed": false
   },
   "outputs": [
    {
     "data": {
      "text/plain": [
       "-0.03306878"
      ]
     },
     "execution_count": 125,
     "metadata": {},
     "output_type": "execute_result"
    }
   ],
   "source": [
    "missing[3]['pos'][0]"
   ]
  },
  {
   "cell_type": "code",
   "execution_count": 126,
   "metadata": {
    "collapsed": false
   },
   "outputs": [
    {
     "data": {
      "text/plain": [
       "array([-0.03306878,  0.        , -0.03306878])"
      ]
     },
     "execution_count": 126,
     "metadata": {},
     "output_type": "execute_result"
    }
   ],
   "source": [
    "fof_analyzer.domain_containers[113365].maxes"
   ]
  },
  {
   "cell_type": "code",
   "execution_count": 127,
   "metadata": {
    "collapsed": false
   },
   "outputs": [
    {
     "data": {
      "text/plain": [
       "array([-0.03306878, -0.03306878, -0.06613755])"
      ]
     },
     "execution_count": 127,
     "metadata": {},
     "output_type": "execute_result"
    }
   ],
   "source": [
    "fof_analyzer.domain_containers[113366].mins"
   ]
  },
  {
   "cell_type": "code",
   "execution_count": 136,
   "metadata": {
    "collapsed": false
   },
   "outputs": [],
   "source": [
    "def filter_partition(i,it): \n",
    "    if i == 1: \n",
    "        for x in it: \n",
    "            yield x"
   ]
  },
  {
   "cell_type": "code",
   "execution_count": 137,
   "metadata": {
    "collapsed": false
   },
   "outputs": [
    {
     "data": {
      "text/plain": [
       "array([ ([-0.0658622533082962, -0.06613367795944214, -0.03302016481757164], 1, 78680370, 1),\n",
       "       ([-0.06585754454135895, -0.06598768383264542, -0.03282991424202919], 1, 78680371, 1),\n",
       "       ([-0.06611359119415283, -0.06601326912641525, -0.032792527228593826], 1, 78680372, 1),\n",
       "       ...,\n",
       "       ([-0.06546000391244888, -0.06489897519350052, -0.0037605660036206245], 0, 78782767, 1),\n",
       "       ([-0.06548574566841125, -0.06494861096143723, -0.0037271305918693542], 0, 78782768, 1),\n",
       "       ([-0.06538194417953491, -0.06481509655714035, -0.003577240277081728], 0, 78782769, 1)], \n",
       "      dtype={'names':['pos','is_ghost','iOrder','iGroup'], 'formats':[('<f4', (3,)),'<i4','<i8','<i8'], 'offsets':[0,12,16,24], 'itemsize':32, 'aligned':True})"
      ]
     },
     "execution_count": 137,
     "metadata": {},
     "output_type": "execute_result"
    }
   ],
   "source": [
    "fof_analyzer.particle_rdd.mapPartitionsWithIndex(filter_partition).first()"
   ]
  },
  {
   "cell_type": "code",
   "execution_count": 141,
   "metadata": {
    "collapsed": false
   },
   "outputs": [
    {
     "data": {
      "text/plain": [
       "True"
      ]
     },
     "execution_count": 141,
     "metadata": {},
     "output_type": "execute_result"
    }
   ],
   "source": [
    "fof_analyzer.domain_containers[113365].mins[0] <= missing[3]['pos'][0] < fof_analyzer.domain_containers[113365].maxes[0]"
   ]
  },
  {
   "cell_type": "code",
   "execution_count": 142,
   "metadata": {
    "collapsed": false
   },
   "outputs": [
    {
     "data": {
      "text/plain": [
       "{(30, 30, 30): 0,\n",
       " (30, 30, 31): 1,\n",
       " (30, 31, 30): 2,\n",
       " (30, 31, 31): 3,\n",
       " (31, 30, 30): 4,\n",
       " (31, 30, 31): 5,\n",
       " (31, 31, 30): 6,\n",
       " (31, 31, 31): 7}"
      ]
     },
     "execution_count": 142,
     "metadata": {},
     "output_type": "execute_result"
    }
   ],
   "source": [
    "fof_analyzer.ids_map"
   ]
  },
  {
   "cell_type": "code",
   "execution_count": 134,
   "metadata": {
    "collapsed": false
   },
   "outputs": [
    {
     "data": {
      "text/plain": [
       "-0.03306877613067627"
      ]
     },
     "execution_count": 134,
     "metadata": {},
     "output_type": "execute_result"
    }
   ],
   "source": [
    "fof_analyzer.domain_containers[113365].maxes[0]"
   ]
  },
  {
   "cell_type": "code",
   "execution_count": 65,
   "metadata": {
    "collapsed": true
   },
   "outputs": [],
   "source": [
    "part_6 = np.load('../debug_data/part_6.npy')"
   ]
  },
  {
   "cell_type": "code",
   "execution_count": 68,
   "metadata": {
    "collapsed": false
   },
   "outputs": [
    {
     "data": {
      "text/plain": [
       "0.034171037"
      ]
     },
     "execution_count": 68,
     "metadata": {},
     "output_type": "execute_result"
    }
   ],
   "source": [
    "part_6['pos'][:,2].max() - part_6['pos'][:,2].min()"
   ]
  },
  {
   "cell_type": "code",
   "execution_count": 61,
   "metadata": {
    "collapsed": false
   },
   "outputs": [
    {
     "data": {
      "text/plain": [
       "(array([2217887]),)"
      ]
     },
     "execution_count": 61,
     "metadata": {},
     "output_type": "execute_result"
    }
   ],
   "source": [
    "np.where(part_6['iOrder'] == 458000793)"
   ]
  },
  {
   "cell_type": "code",
   "execution_count": 69,
   "metadata": {
    "collapsed": false
   },
   "outputs": [
    {
     "data": {
      "text/plain": [
       "array([ ([-0.03306877985596657, -0.008160539902746677, -0.05855977535247803], 0, 458000793, 5913175)], \n",
       "      dtype=[('pos', '<f4', (3,)), ('is_ghost', '<i4'), ('iOrder', '<i8'), ('iGroup', '<i8')])"
      ]
     },
     "execution_count": 69,
     "metadata": {},
     "output_type": "execute_result"
    }
   ],
   "source": [
    "part_6[np.where(part_6['iOrder'] == 458000793)]"
   ]
  },
  {
   "cell_type": "code",
   "execution_count": 65,
   "metadata": {
    "collapsed": false
   },
   "outputs": [
    {
     "data": {
      "text/plain": [
       "113365"
      ]
     },
     "execution_count": 65,
     "metadata": {},
     "output_type": "execute_result"
    }
   ],
   "source": [
    "spark_fof.spark_fof_c.get_bin_wrapper(part_6[2217887]['pos'] - np.array([0, 0,0], dtype=np.float32), 62, fof_analyzer.dom_mins, fof_analyzer.dom_maxs)"
   ]
  },
  {
   "cell_type": "code",
   "execution_count": 66,
   "metadata": {
    "collapsed": false
   },
   "outputs": [
    {
     "data": {
      "text/plain": [
       "<DomainRectangle [(-0.03306877613067627, 0.0), (-0.03306877613067627, 0.0), (-0.066137552261352539, -0.03306877613067627)]>"
      ]
     },
     "execution_count": 66,
     "metadata": {},
     "output_type": "execute_result"
    }
   ],
   "source": [
    "fof_analyzer.domain_containers[113366]"
   ]
  },
  {
   "cell_type": "code",
   "execution_count": 67,
   "metadata": {
    "collapsed": false
   },
   "outputs": [
    {
     "data": {
      "text/plain": [
       "30221958"
      ]
     },
     "execution_count": 67,
     "metadata": {},
     "output_type": "execute_result"
    }
   ],
   "source": [
    "spark_fof.fof.run(part_6, tau, 1)"
   ]
  },
  {
   "cell_type": "code",
   "execution_count": 68,
   "metadata": {
    "collapsed": false
   },
   "outputs": [
    {
     "data": {
      "text/plain": [
       "([-0.03294648602604866, -0.0036082144360989332, -0.03941119462251663], 1, 458445475, 21531255)"
      ]
     },
     "execution_count": 68,
     "metadata": {},
     "output_type": "execute_result"
    }
   ],
   "source": [
    "part_6[2217887]"
   ]
  },
  {
   "cell_type": "code",
   "execution_count": 71,
   "metadata": {
    "collapsed": false
   },
   "outputs": [
    {
     "data": {
      "text/plain": [
       "array([ ([-0.03306760638952255, -0.008158876560628414, -0.05856703594326973], 1, 458000791, 5913175),\n",
       "       ([-0.03305890038609505, -0.00816462840884924, -0.05855857580900192], 1, 458000792, 5913175),\n",
       "       ([-0.03306877985596657, -0.008160539902746677, -0.05855977535247803], 0, 458000793, 5913175)], \n",
       "      dtype=[('pos', '<f4', (3,)), ('is_ghost', '<i4'), ('iOrder', '<i8'), ('iGroup', '<i8')])"
      ]
     },
     "execution_count": 71,
     "metadata": {},
     "output_type": "execute_result"
    }
   ],
   "source": [
    "part_6[np.where(part_6['iGroup'] == 5913175)]"
   ]
  },
  {
   "cell_type": "markdown",
   "metadata": {},
   "source": [
    "### Figure out which particles from 31,30,31 are supposed to be in 'big group'"
   ]
  },
  {
   "cell_type": "code",
   "execution_count": 27,
   "metadata": {
    "collapsed": true
   },
   "outputs": [],
   "source": [
    "big_group = np.concatenate(fof_analyzer.fof_rdd.map(lambda p: p[np.where((p['iGroup'] == 4318953668))[0]]).collect())"
   ]
  },
  {
   "cell_type": "code",
   "execution_count": 28,
   "metadata": {
    "collapsed": false
   },
   "outputs": [
    {
     "data": {
      "text/plain": [
       "<DomainRectangle [(-0.03306877613067627, 0.0), (-0.066137552261352539, -0.03306877613067627), (-0.03306877613067627, 0.0)]>"
      ]
     },
     "execution_count": 28,
     "metadata": {},
     "output_type": "execute_result"
    }
   ],
   "source": [
    "fof_analyzer.domain_containers[map_file_to_domain((31,30,31))]"
   ]
  },
  {
   "cell_type": "code",
   "execution_count": 31,
   "metadata": {
    "collapsed": false
   },
   "outputs": [
    {
     "data": {
      "text/plain": [
       "-0.033068791"
      ]
     },
     "execution_count": 31,
     "metadata": {},
     "output_type": "execute_result"
    }
   ],
   "source": [
    "big_group['pos'][:,0].max()"
   ]
  },
  {
   "cell_type": "code",
   "execution_count": 32,
   "metadata": {
    "collapsed": false
   },
   "outputs": [
    {
     "data": {
      "text/plain": [
       "0.0011022925376892091"
      ]
     },
     "execution_count": 32,
     "metadata": {},
     "output_type": "execute_result"
    }
   ],
   "source": [
    "fof_analyzer.buffer_tau"
   ]
  },
  {
   "cell_type": "code",
   "execution_count": 33,
   "metadata": {
    "collapsed": true
   },
   "outputs": [],
   "source": [
    "g1_temp = np.zeros(len(g1), dtype=spark_fof.spark_fof_c.pdt)"
   ]
  },
  {
   "cell_type": "code",
   "execution_count": 34,
   "metadata": {
    "collapsed": false
   },
   "outputs": [],
   "source": [
    "g1_temp['pos'] = g1['pos']\n",
    "g1_temp['iOrder'] = g1['iOrder']\n",
    "g1_temp['iGroup'] = g1['iGroup']"
   ]
  },
  {
   "cell_type": "code",
   "execution_count": 35,
   "metadata": {
    "collapsed": false
   },
   "outputs": [],
   "source": [
    "spark_fof.spark_fof_c.ghost_mask(g1_temp, tau, Ngrid, \n",
    "                                 fof_analyzer.container_mins, fof_analyzer.container_maxs, \n",
    "                                 fof_analyzer.buff_mins, fof_analyzer.buff_maxs,\n",
    "                                 fof_analyzer.dom_mins, fof_analyzer.dom_maxs)"
   ]
  },
  {
   "cell_type": "code",
   "execution_count": 36,
   "metadata": {
    "collapsed": false
   },
   "outputs": [],
   "source": [
    "g1_ghosts = g1_temp[np.where(g1_temp['is_ghost'])[0]]"
   ]
  },
  {
   "cell_type": "code",
   "execution_count": 42,
   "metadata": {
    "collapsed": true
   },
   "outputs": [],
   "source": [
    "g1_conj = g1[(np.where(\n",
    "                                    (g1['pos'][:,0] > -0.03306878) &\n",
    "                                    (g1['pos'][:,0] < -0.0325) &\n",
    "                                    (g1['pos'][:,1] > -0.047) &\n",
    "                                    (g1['pos'][:,1] < -0.0454) &\n",
    "                                    (g1['pos'][:,2] > -0.003) &\n",
    "                                    (g1['pos'][:,2] < 0))[0])]"
   ]
  },
  {
   "cell_type": "code",
   "execution_count": 43,
   "metadata": {
    "collapsed": false
   },
   "outputs": [
    {
     "data": {
      "text/plain": [
       "array([380603902, 380603904, 380603908, ..., 381094370, 381094371,\n",
       "       381094372], dtype=int32)"
      ]
     },
     "execution_count": 43,
     "metadata": {},
     "output_type": "execute_result"
    }
   ],
   "source": [
    "g1_conj['iOrder'][:-20]"
   ]
  },
  {
   "cell_type": "code",
   "execution_count": 37,
   "metadata": {
    "collapsed": false
   },
   "outputs": [
    {
     "data": {
      "text/plain": [
       "[([-0.03250090777873993, -0.046229396015405655, -4.9006888730218634e-05], 0, 381094372, 21495396425)]"
      ]
     },
     "execution_count": 37,
     "metadata": {},
     "output_type": "execute_result"
    }
   ],
   "source": [
    "fof_analyzer.fof_rdd.flatMap(lambda p: p[np.where(p['iOrder']==381094372)]).collect()"
   ]
  },
  {
   "cell_type": "code",
   "execution_count": 111,
   "metadata": {
    "collapsed": false
   },
   "outputs": [],
   "source": [
    "big_group_conj = fof_analyzer.fof_rdd.flatMap(lambda p: p[np.where(p['iGroup']==12900170818)]).collect()"
   ]
  },
  {
   "cell_type": "code",
   "execution_count": 112,
   "metadata": {
    "collapsed": false
   },
   "outputs": [],
   "source": [
    "big_group_conj = np.array(big_group_conj)"
   ]
  },
  {
   "cell_type": "code",
   "execution_count": 44,
   "metadata": {
    "collapsed": false
   },
   "outputs": [
    {
     "data": {
      "text/plain": [
       "[<matplotlib.lines.Line2D at 0x2aecfc0bfd10>]"
      ]
     },
     "execution_count": 44,
     "metadata": {},
     "output_type": "execute_result"
    },
    {
     "data": {
      "image/png": "[encoded data removed]",
      "text/plain": [
       "<matplotlib.figure.Figure at 0x2aecf36d1f50>"
      ]
     },
     "metadata": {},
     "output_type": "display_data"
    }
   ],
   "source": [
    "plt.plot(big_group['pos'][:,0], big_group['pos'][:,1], '.', alpha=.1)\n",
    "plt.plot(g1_conj['pos'][:,0], g1_conj['pos'][:,1], '.', alpha=.1)\n",
    "plt.plot(g1_ghosts['pos'][:,0], g1_ghosts['pos'][:,1], '.', alpha=.1)\n",
    "# plt.plot([-0.03306878,-0.03306878], [-.047,-.0454])\n",
    "# plt.xlim(-0.0332,-0.033)"
   ]
  },
  {
   "cell_type": "code",
   "execution_count": 45,
   "metadata": {
    "collapsed": false
   },
   "outputs": [
    {
     "data": {
      "text/plain": [
       "[<matplotlib.lines.Line2D at 0x2aecfc1ba850>]"
      ]
     },
     "execution_count": 45,
     "metadata": {},
     "output_type": "execute_result"
    },
    {
     "data": {
      "image/png": "[encoded data removed]",
      "text/plain": [
       "<matplotlib.figure.Figure at 0x2aecf365fdd0>"
      ]
     },
     "metadata": {},
     "output_type": "display_data"
    }
   ],
   "source": [
    "plt.plot(big_group['pos'][:,0], big_group['pos'][:,2], '.', alpha=.1)\n",
    "plt.plot(g1_conj['pos'][:,0], g1_conj['pos'][:,2], '.', alpha=.1)\n",
    "plt.plot(g1_ghosts['pos'][:,0], g1_ghosts['pos'][:,2], '.', alpha=0.1)\n",
    "# plt.plot([-0.03306878,-0.03306878], [-.047,-.0454])\n",
    "# plt.xlim(-0.0332,-0.033)"
   ]
  },
  {
   "cell_type": "code",
   "execution_count": 46,
   "metadata": {
    "collapsed": false
   },
   "outputs": [
    {
     "data": {
      "text/plain": [
       "[<matplotlib.lines.Line2D at 0x2aecfc279550>]"
      ]
     },
     "execution_count": 46,
     "metadata": {},
     "output_type": "execute_result"
    },
    {
     "data": {
      "image/png": "[encoded data removed]",
      "text/plain": [
       "<matplotlib.figure.Figure at 0x2aecfc141ad0>"
      ]
     },
     "metadata": {},
     "output_type": "display_data"
    }
   ],
   "source": [
    "plt.plot(big_group['pos'][:,2], big_group['pos'][:,1], '.', alpha=.1)\n",
    "plt.plot(g1_conj['pos'][:,2], g1_conj['pos'][:,1], '.', alpha=.1)\n",
    "plt.plot(g1_ghosts['pos'][:,2], g1_ghosts['pos'][:,1], '.', alpha=0.1)\n",
    "# plt.plot([-0.03306878,-0.03306878], [-.047,-.0454])\n",
    "# plt.xlim(-0.0332,-0.033)"
   ]
  },
  {
   "cell_type": "code",
   "execution_count": 47,
   "metadata": {
    "collapsed": false
   },
   "outputs": [
    {
     "name": "stdout",
     "output_type": "stream",
     "text": [
      "CPU times: user 42 ms, sys: 6 ms, total: 48 ms\n",
      "Wall time: 47.8 ms\n"
     ]
    },
    {
     "data": {
      "text/plain": [
       "44480"
      ]
     },
     "execution_count": 47,
     "metadata": {},
     "output_type": "execute_result"
    }
   ],
   "source": [
    "%time len(np.where(np.in1d(g1['iOrder'], g1_ghosts['iOrder']))[0])"
   ]
  },
  {
   "cell_type": "code",
   "execution_count": 48,
   "metadata": {
    "collapsed": true
   },
   "outputs": [],
   "source": [
    "def filter_partition(partition_index, iterator): \n",
    "    for arr in iterator: \n",
    "        yield (partition_index, arr[np.where(np.in1d(arr['iOrder'], g1_ghosts['iOrder']))])"
   ]
  },
  {
   "cell_type": "code",
   "execution_count": 49,
   "metadata": {
    "collapsed": true
   },
   "outputs": [],
   "source": [
    "ghosts2 = fof_analyzer.fof_rdd.mapPartitionsWithIndex(filter_partition).collect()"
   ]
  },
  {
   "cell_type": "code",
   "execution_count": 50,
   "metadata": {
    "collapsed": false
   },
   "outputs": [],
   "source": [
    "ghosts2 = [(i,j) for i,j in ghosts2 if len(j)>0]"
   ]
  },
  {
   "cell_type": "code",
   "execution_count": 51,
   "metadata": {
    "collapsed": false
   },
   "outputs": [
    {
     "data": {
      "text/plain": [
       "[(3,\n",
       "  array([ ([-0.03304780274629593, -0.046373866498470306, -0.0023223136086016893], 2, 380603902, 12892767316),\n",
       "         ([-0.033042553812265396, -0.046378765255212784, -0.0023234838154166937], 2, 380603904, 12892767316),\n",
       "         ([-0.03306576609611511, -0.046372078359127045, -0.0023417100310325623], 2, 380603908, 12892767316),\n",
       "         ...,\n",
       "         ([-0.032913316041231155, -0.04621169716119766, -0.00028125380049459636], 2, 381084772, 12892767135),\n",
       "         ([-0.03291759267449379, -0.0462479442358017, -0.0002497878740541637], 2, 381084780, 12892767135),\n",
       "         ([-0.0329991839826107, -0.04619506746530533, -0.00031390044023282826], 2, 381093683, 12892767135)], \n",
       "        dtype={'names':['pos','is_ghost','iOrder','iGroup'], 'formats':[('<f4', (3,)),'<i4','<i8','<i8'], 'offsets':[0,12,16,24], 'itemsize':32, 'aligned':True})),\n",
       " (5,\n",
       "  array([ ([-0.03304780274629593, -0.046373866498470306, -0.0023223136086016893], 1, 380603902, 21495397267),\n",
       "         ([-0.033042553812265396, -0.046378765255212784, -0.0023234838154166937], 1, 380603904, 21495397267),\n",
       "         ([-0.03306576609611511, -0.046372078359127045, -0.0023417100310325623], 1, 380603908, 21495397267),\n",
       "         ...,\n",
       "         ([-0.032913316041231155, -0.04621169716119766, -0.00028125380049459636], 1, 381084772, 21495396425),\n",
       "         ([-0.03291759267449379, -0.0462479442358017, -0.0002497878740541637], 1, 381084780, 21495396425),\n",
       "         ([-0.0329991839826107, -0.04619506746530533, -0.00031390044023282826], 1, 381093683, 21495396425)], \n",
       "        dtype={'names':['pos','is_ghost','iOrder','iGroup'], 'formats':[('<f4', (3,)),'<i4','<i8','<i8'], 'offsets':[0,12,16,24], 'itemsize':32, 'aligned':True}))]"
      ]
     },
     "execution_count": 51,
     "metadata": {},
     "output_type": "execute_result"
    }
   ],
   "source": [
    "ghosts2"
   ]
  },
  {
   "cell_type": "code",
   "execution_count": 65,
   "metadata": {
    "collapsed": false
   },
   "outputs": [
    {
     "data": {
      "text/plain": [
       "117147"
      ]
     },
     "execution_count": 65,
     "metadata": {},
     "output_type": "execute_result"
    }
   ],
   "source": [
    "pos = np.array([-0.03304780274629593-buffer_tau, -0.046373866498470306, -0.0023223136086016893], dtype=np.float32)\n",
    "\n",
    "spark_fof.spark_fof_c.get_bin_wrapper(pos, 62, fof_analyzer.dom_mins, fof_analyzer.dom_maxs)"
   ]
  },
  {
   "cell_type": "code",
   "execution_count": 70,
   "metadata": {
    "collapsed": false
   },
   "outputs": [],
   "source": [
    "g2_copy = ghosts2[1][1].copy()"
   ]
  },
  {
   "cell_type": "code",
   "execution_count": 71,
   "metadata": {
    "collapsed": true
   },
   "outputs": [],
   "source": [
    "res = spark_fof.spark_fof_c.partition_ghosts(g2_copy, 62, buffer_tau, False, fof_analyzer.dom_mins, fof_analyzer.dom_maxs)"
   ]
  },
  {
   "cell_type": "code",
   "execution_count": 72,
   "metadata": {
    "collapsed": false
   },
   "outputs": [
    {
     "data": {
      "text/plain": [
       "[(117147,\n",
       "  array([ ([-0.032958984375, -0.046205148100852966, -0.002642377046868205], 2, 380994948, 117147),\n",
       "         ([-0.03296184539794922, -0.046236440539360046, -0.00040352376527152956], 2, 381050132, 117147),\n",
       "         ([-0.03296184539794922, -0.045742493122816086, -0.0023554344661533833], 2, 381005367, 117147),\n",
       "         ...,\n",
       "         ([-0.032958026975393295, -0.046079669147729874, -0.002379882847890258], 2, 380999266, 117147),\n",
       "         ([-0.032958026975393295, -0.045945703983306885, -0.002591261873021722], 2, 381000885, 117147),\n",
       "         ([-0.0329589806497097, -0.046243272721767426, -0.0004218681715428829], 2, 381050116, 117147)], \n",
       "        dtype=[('pos', '<f4', (3,)), ('is_ghost', '<i4'), ('iOrder', '<i8'), ('iGroup', '<i8')]))]"
      ]
     },
     "execution_count": 72,
     "metadata": {},
     "output_type": "execute_result"
    }
   ],
   "source": [
    "res"
   ]
  },
  {
   "cell_type": "code",
   "execution_count": 52,
   "metadata": {
    "collapsed": false
   },
   "outputs": [
    {
     "data": {
      "text/plain": [
       "{113303: 0,\n",
       " 113304: 4,\n",
       " 113365: 2,\n",
       " 113366: 6,\n",
       " 117147: 1,\n",
       " 117148: 5,\n",
       " 117209: 3,\n",
       " 117210: 7}"
      ]
     },
     "execution_count": 52,
     "metadata": {},
     "output_type": "execute_result"
    }
   ],
   "source": [
    "fof_analyzer.global_to_local_map"
   ]
  },
  {
   "cell_type": "code",
   "execution_count": 100,
   "metadata": {
    "collapsed": false
   },
   "outputs": [],
   "source": [
    "ghosts_rdd = (fof_analyzer._partition_rdd(fof_analyzer.particle_rdd, spark_fof.spark_fof_c.partition_ghosts)\n",
    "                          .filter(lambda (k,v): k in gl_to_loc)\n",
    "                          .map(lambda (k,v): (gl_to_loc[k],v))\n",
    "                          .partitionBy(8))\n",
    "#                          .map(lambda (k,v): remap_partition(v), preservesPartitioning=True))"
   ]
  },
  {
   "cell_type": "code",
   "execution_count": 102,
   "metadata": {
    "collapsed": false
   },
   "outputs": [
    {
     "data": {
      "text/plain": [
       "(1,\n",
       " array([ ([-0.03297233581542969, -0.046368759125471115, -0.0002343545638723299], 2, 380662174, 117147),\n",
       "        ([-0.03297710418701172, -0.04632404446601868, -0.00039219940663315356], 2, 380656196, 117147),\n",
       "        ([-0.032990455627441406, -0.04635351151227951, -0.0019101909128949046], 2, 380637535, 117147),\n",
       "        ...,\n",
       "        ([-0.0329437218606472, -0.046461641788482666, -0.0002736372116487473], 2, 380660387, 117147),\n",
       "        ([-0.032945629209280014, -0.04630206525325775, -0.00038568503805436194], 2, 380657121, 117147),\n",
       "        ([-0.03295135125517845, -0.04632473737001419, -0.0003207860281690955], 2, 380672791, 117147)], \n",
       "       dtype=[('pos', '<f4', (3,)), ('is_ghost', '<i4'), ('iOrder', '<i8'), ('iGroup', '<i8')]))"
      ]
     },
     "execution_count": 102,
     "metadata": {},
     "output_type": "execute_result"
    }
   ],
   "source": [
    "ghosts_rdd.values().mapPartitionsWithIndex(filter_partition).filter(lambda (k,v): len(v)>0).first()"
   ]
  },
  {
   "cell_type": "code",
   "execution_count": 104,
   "metadata": {
    "collapsed": false
   },
   "outputs": [
    {
     "data": {
      "text/plain": [
       "array([ ([-0.03296089172363281, -0.03279634565114975, -0.040982604026794434], 2, 456261736, 113304),\n",
       "       ([-0.03247356414794922, -0.032977331429719925, -0.04245378077030182], 2, 456258729, 113304),\n",
       "       ([-0.03296184539794922, -0.03281840309500694, -0.04093220829963684], 2, 456262109, 113304),\n",
       "       ...,\n",
       "       ([-0.03294658288359642, -0.0324300080537796, -0.05982505902647972], 2, 456239794, 113304),\n",
       "       ([-0.03294849023222923, -0.03215708211064339, -0.04066157713532448], 2, 456264267, 113304),\n",
       "       ([-0.03246116265654564, -0.03221967816352844, -0.0661061629652977], 2, 456228189, 113304)], \n",
       "      dtype=[('pos', '<f4', (3,)), ('is_ghost', '<i4'), ('iOrder', '<i8'), ('iGroup', '<i8')])"
      ]
     },
     "execution_count": 104,
     "metadata": {},
     "output_type": "execute_result"
    }
   ],
   "source": [
    "fof_analyzer.partitioned_rdd.first()"
   ]
  },
  {
   "cell_type": "code",
   "execution_count": 115,
   "metadata": {
    "collapsed": false
   },
   "outputs": [
    {
     "data": {
      "text/plain": [
       "<function pyspark.rdd.portable_hash>"
      ]
     },
     "execution_count": 115,
     "metadata": {},
     "output_type": "execute_result"
    }
   ],
   "source": [
    "ghosts_rdd.partitioner.partitionFunc"
   ]
  },
  {
   "cell_type": "code",
   "execution_count": 112,
   "metadata": {
    "collapsed": false
   },
   "outputs": [
    {
     "data": {
      "text/plain": [
       "MapPartitionsRDD[48] at mapPartitions at PythonRDD.scala:422"
      ]
     },
     "execution_count": 112,
     "metadata": {},
     "output_type": "execute_result"
    }
   ],
   "source": [
    "ghosts_rdd"
   ]
  },
  {
   "cell_type": "code",
   "execution_count": 114,
   "metadata": {
    "collapsed": false
   },
   "outputs": [
    {
     "data": {
      "text/plain": [
       "<function pyspark.rdd.portable_hash>"
      ]
     },
     "execution_count": 114,
     "metadata": {},
     "output_type": "execute_result"
    }
   ],
   "source": [
    "fof_analyzer.particle_rdd.partitioner.partitionFunc"
   ]
  },
  {
   "cell_type": "code",
   "execution_count": 76,
   "metadata": {
    "collapsed": true
   },
   "outputs": [],
   "source": [
    "gl_to_loc=fof_analyzer.global_to_local_map"
   ]
  },
  {
   "cell_type": "code",
   "execution_count": 88,
   "metadata": {
    "collapsed": false
   },
   "outputs": [],
   "source": [
    "x = ghosts_rdd.filter(lambda (k,v): k == 117147).first()[1]"
   ]
  },
  {
   "cell_type": "code",
   "execution_count": 85,
   "metadata": {
    "collapsed": true
   },
   "outputs": [],
   "source": [
    "spark_fof.spark_fof_c.remap_gid_partition_cython(x, gl_to_loc)"
   ]
  },
  {
   "cell_type": "code",
   "execution_count": 87,
   "metadata": {
    "collapsed": true
   },
   "outputs": [],
   "source": [
    "def remap_partition(particles):\n",
    "    \"\"\"Helper function to remap groups\"\"\"\n",
    "    spark_fof.spark_fof_c.remap_gid_partition_cython(particles, gl_to_loc)\n",
    "    return particles"
   ]
  },
  {
   "cell_type": "code",
   "execution_count": 89,
   "metadata": {
    "collapsed": false
   },
   "outputs": [
    {
     "data": {
      "text/plain": [
       "array([ ([-0.06592941284179688, -0.033013392239809036, -0.019414184615015984], 2, 222645602, 1),\n",
       "       ([-0.06497001647949219, -0.033042021095752716, -0.024396952241659164], 2, 222634122, 1),\n",
       "       ([-0.06546592712402344, -0.03295039013028145, -0.0191720649600029], 2, 222646032, 1),\n",
       "       ...,\n",
       "       ([-0.06485556811094284, -0.03306339681148529, -0.011115534231066704], 2, 222656967, 1),\n",
       "       ([-0.06487273424863815, -0.03305643051862717, -0.011130041442811489], 2, 222656935, 1),\n",
       "       ([-0.06540297716856003, -0.03302094712853432, -0.030512182042002678], 2, 222611965, 1)], \n",
       "      dtype=[('pos', '<f4', (3,)), ('is_ghost', '<i4'), ('iOrder', '<i8'), ('iGroup', '<i8')])"
      ]
     },
     "execution_count": 89,
     "metadata": {},
     "output_type": "execute_result"
    }
   ],
   "source": [
    "remap_partition(x)"
   ]
  },
  {
   "cell_type": "code",
   "execution_count": 96,
   "metadata": {
    "collapsed": false
   },
   "outputs": [
    {
     "data": {
      "text/plain": [
       "(3,\n",
       " array([ ([-0.03297233581542969, -0.046368759125471115, -0.0002343545638723299], 2, 380662174, 117147),\n",
       "        ([-0.03297710418701172, -0.04632404446601868, -0.00039219940663315356], 2, 380656196, 117147),\n",
       "        ([-0.032990455627441406, -0.04635351151227951, -0.0019101909128949046], 2, 380637535, 117147),\n",
       "        ...,\n",
       "        ([-0.0329437218606472, -0.046461641788482666, -0.0002736372116487473], 2, 380660387, 117147),\n",
       "        ([-0.032945629209280014, -0.04630206525325775, -0.00038568503805436194], 2, 380657121, 117147),\n",
       "        ([-0.03295135125517845, -0.04632473737001419, -0.0003207860281690955], 2, 380672791, 117147)], \n",
       "       dtype=[('pos', '<f4', (3,)), ('is_ghost', '<i4'), ('iOrder', '<i8'), ('iGroup', '<i8')]))"
      ]
     },
     "execution_count": 96,
     "metadata": {},
     "output_type": "execute_result"
    }
   ],
   "source": [
    "fof_analyzer.partitioned_rdd.mapPartitionsWithIndex(filter_partition).filter(lambda (k,v): len(v)>0).first()"
   ]
  },
  {
   "cell_type": "code",
   "execution_count": 91,
   "metadata": {
    "collapsed": false
   },
   "outputs": [
    {
     "data": {
      "text/plain": [
       "([-0.03296089172363281, -0.03279634565114975, -0.040982604026794434], 2, 456261736, 113304)"
      ]
     },
     "execution_count": 91,
     "metadata": {},
     "output_type": "execute_result"
    }
   ],
   "source": [
    "fof_analyzer.partitioned_rdd.flatMap(lambda p: p[np.where(p['iGroup']>10)[0]]).first()"
   ]
  },
  {
   "cell_type": "code",
   "execution_count": 80,
   "metadata": {
    "collapsed": false
   },
   "outputs": [
    {
     "data": {
      "text/plain": [
       "[([-0.032958984375, -0.046205148100852966, -0.002642377046868205], 2, 380994948, 117147)]"
      ]
     },
     "execution_count": 80,
     "metadata": {},
     "output_type": "execute_result"
    }
   ],
   "source": [
    "(ghosts_rdd.filter(lambda (k,v): k == 117147)\n",
    "           .map(lambda (k,v): (gl_to_loc[k],v))\n",
    "           .values()\n",
    "           .flatMap(lambda p: p[np.where(p['iOrder'] == 380994948)])).collect()"
   ]
  },
  {
   "cell_type": "code",
   "execution_count": 83,
   "metadata": {
    "collapsed": false
   },
   "outputs": [
    {
     "data": {
      "text/plain": [
       "[([-0.032958984375, -0.046205148100852966, -0.002642377046868205], 2, 380994948, 117147),\n",
       " ([-0.032958984375, -0.046205148100852966, -0.002642377046868205], 1, 380994948, 5)]"
      ]
     },
     "execution_count": 83,
     "metadata": {},
     "output_type": "execute_result"
    }
   ],
   "source": [
    "fof_analyzer._partitioned_rdd.flatMap(lambda p: p[np.where(p['iOrder'] == 380994948)]).collect()"
   ]
  },
  {
   "cell_type": "code",
   "execution_count": 112,
   "metadata": {
    "collapsed": false
   },
   "outputs": [
    {
     "data": {
      "text/plain": [
       "<DomainRectangle [(-0.066137552261352539, -0.03306877613067627), (-0.03306877613067627, 0.0), (-0.03306877613067627, 0.0)]>"
      ]
     },
     "execution_count": 112,
     "metadata": {},
     "output_type": "execute_result"
    }
   ],
   "source": [
    "fof_analyzer.domain_containers[117209]"
   ]
  },
  {
   "cell_type": "code",
   "execution_count": 119,
   "metadata": {
    "collapsed": false
   },
   "outputs": [
    {
     "data": {
      "text/plain": [
       "117147"
      ]
     },
     "execution_count": 119,
     "metadata": {},
     "output_type": "execute_result"
    }
   ],
   "source": [
    "spark_fof.spark_fof_c.get_bin_wrapper(np.array([-0.03306576609611511-tau*10, -0.046372078359127045-tau*10, -0.0023417100310325623-tau*10], dtype=np.float32), 62, fof_analyzer.dom_mins, fof_analyzer.dom_maxs)"
   ]
  },
  {
   "cell_type": "code",
   "execution_count": 84,
   "metadata": {
    "collapsed": true
   },
   "outputs": [],
   "source": [
    "ghosts = fof_analyzer.fof_rdd.flatMap(lambda p: p[np.where(np.in1d(p['iOrder'], g1_ghosts['iOrder']))]).collect()"
   ]
  },
  {
   "cell_type": "code",
   "execution_count": 88,
   "metadata": {
    "collapsed": false
   },
   "outputs": [],
   "source": [
    "ghosts = np.array(ghosts)"
   ]
  },
  {
   "cell_type": "code",
   "execution_count": 53,
   "metadata": {
    "collapsed": false
   },
   "outputs": [
    {
     "data": {
      "text/plain": [
       "[<matplotlib.lines.Line2D at 0x2aecfc34a510>]"
      ]
     },
     "execution_count": 53,
     "metadata": {},
     "output_type": "execute_result"
    },
    {
     "data": {
      "image/png": "[encoded data removed]",
      "text/plain": [
       "<matplotlib.figure.Figure at 0x2aecf36b54d0>"
      ]
     },
     "metadata": {},
     "output_type": "display_data"
    }
   ],
   "source": [
    "plt.plot(big_group['pos'][:,0], big_group['pos'][:,2], '.', alpha=.1)\n",
    "plt.plot(g1_conj['pos'][:,0], g1_conj['pos'][:,2], '.', alpha=.1)\n",
    "plt.plot(ghosts2[0][1]['pos'][:,0], ghosts2[0][1]['pos'][:,2], '.', alpha=0.1)\n",
    "plt.plot([-0.03306878,-0.03306878], [-.003,0])\n",
    "plt.plot([-0.03306878+tau*10,-0.03306878+tau*10], [-.003,0])\n",
    "# plt.xlim(-0.0332,-0.033)"
   ]
  },
  {
   "cell_type": "code",
   "execution_count": 95,
   "metadata": {
    "collapsed": false
   },
   "outputs": [
    {
     "data": {
      "text/plain": [
       "0.00015873015873015873"
      ]
     },
     "execution_count": 95,
     "metadata": {},
     "output_type": "execute_result"
    }
   ],
   "source": [
    "tau*10"
   ]
  },
  {
   "cell_type": "code",
   "execution_count": 67,
   "metadata": {
    "collapsed": false
   },
   "outputs": [
    {
     "data": {
      "text/plain": [
       "[(117147,\n",
       "  array([ ([-0.03306696563959122, -0.046371471136808395, -0.0023140565026551485], 2, 380636276, 117147),\n",
       "         ([-0.03306327387690544, -0.0463615320622921, -0.002314580837264657], 2, 380636284, 117147),\n",
       "         ([-0.033061377704143524, -0.04636291041970253, -0.002334720455110073], 2, 380603921, 117147),\n",
       "         ([-0.03306146711111069, -0.04635850712656975, -0.0023400457575917244], 2, 380603929, 117147),\n",
       "         ([-0.03305801376700401, -0.046335168182849884, -0.0023021292872726917], 2, 380636278, 117147),\n",
       "         ([-0.03306576609611511, -0.046372078359127045, -0.0023417100310325623], 2, 380603908, 117147)], \n",
       "        dtype={'names':['pos','is_ghost','iOrder','iGroup'], 'formats':[('<f4', (3,)),'<i4','<i4','<i8'], 'offsets':[0,12,16,24], 'itemsize':32}))]"
      ]
     },
     "execution_count": 67,
     "metadata": {},
     "output_type": "execute_result"
    }
   ],
   "source": [
    "spark_fof.spark_fof_c.partition_ghosts(g1_ghosts, 62, tau, 0, dom_mins, dom_maxs)"
   ]
  },
  {
   "cell_type": "code",
   "execution_count": 69,
   "metadata": {
    "collapsed": false
   },
   "outputs": [
    {
     "data": {
      "text/plain": [
       "[[],\n",
       " [],\n",
       " [],\n",
       " [([-0.03306696563959122, -0.046371471136808395, -0.0023140565026551485], 2, 380636276, 12900173241)],\n",
       " [],\n",
       " [([-0.03306696563959122, -0.046371471136808395, -0.0023140565026551485], 1, 380636276, 21487057823)],\n",
       " [],\n",
       " []]"
      ]
     },
     "execution_count": 69,
     "metadata": {},
     "output_type": "execute_result"
    }
   ],
   "source": [
    "fof_analyzer.fof_rdd.flatMap(lambda p: p[np.where(p['iOrder'] == 380636276)]).glom().collect()"
   ]
  },
  {
   "cell_type": "code",
   "execution_count": 72,
   "metadata": {
    "collapsed": false
   },
   "outputs": [
    {
     "data": {
      "text/plain": [
       "117148"
      ]
     },
     "execution_count": 72,
     "metadata": {},
     "output_type": "execute_result"
    }
   ],
   "source": [
    "spark_fof.spark_fof.get_bin(np.array([-0.03306696563959122, -0.046371471136808395, -0.0023140565026551485], dtype=np.float32), 62, dom_mins, dom_maxs)"
   ]
  },
  {
   "cell_type": "code",
   "execution_count": 99,
   "metadata": {
    "collapsed": false
   },
   "outputs": [
    {
     "data": {
      "text/plain": [
       "array([721691])"
      ]
     },
     "execution_count": 99,
     "metadata": {},
     "output_type": "execute_result"
    }
   ],
   "source": [
    "p1[np.where(p1['iOrder'] == 380636276)]['iGroup']"
   ]
  },
  {
   "cell_type": "code",
   "execution_count": 88,
   "metadata": {
    "collapsed": false
   },
   "outputs": [
    {
     "name": "stderr",
     "output_type": "stream",
     "text": [
      "INFO:sparkhpc:Job <37866119> is being terminated\n",
      "\n"
     ]
    }
   ],
   "source": [
    "sj.stop()"
   ]
  },
  {
   "cell_type": "code",
   "execution_count": null,
   "metadata": {
    "collapsed": true
   },
   "outputs": [],
   "source": []
  }
 ],
 "metadata": {
  "kernelspec": {
   "display_name": "Python 2",
   "language": "python",
   "name": "python2"
  },
  "language_info": {
   "codemirror_mode": {
    "name": "ipython",
    "version": 2
   },
   "file_extension": ".py",
   "mimetype": "text/x-python",
   "name": "python",
   "nbconvert_exporter": "python",
   "pygments_lexer": "ipython2",
   "version": "2.7.12"
  }
 },
 "nbformat": 4,
 "nbformat_minor": 1
}
