{
 "cells": [
  {
   "cell_type": "markdown",
   "metadata": {},
   "source": [
    "## Make a simple synthetic dataset to test hierarchical merge in FOF algorithm\n",
    "\n",
    "#### the idea is this: \n",
    "\n",
    "* after the local FOF stage, each partition reports the particles it holds in the overlap region\n",
    "* do a reduceByKey or treeAggregate of some sort to collect the groups belonging to the same particles\n",
    "* produce a mapping of $G -> G_1$ and distribute to all hosts in form of broadcast lookup table"
   ]
  },
  {
   "cell_type": "code",
   "execution_count": 1,
   "metadata": {
    "collapsed": false
   },
   "outputs": [],
   "source": [
    "import numpy as np\n",
    "import matplotlib.pylab as plt\n",
    "%matplotlib inline\n",
    "\n",
    "import sys\n",
    "sys.setrecursionlimit(sys.getrecursionlimit()*10)\n",
    "import matplotlib.patches as patches\n",
    "\n",
    "plt.style.use('bmh')"
   ]
  },
  {
   "cell_type": "code",
   "execution_count": 2,
   "metadata": {
    "collapsed": true
   },
   "outputs": [],
   "source": [
    "import findspark\n",
    "findspark.init()"
   ]
  },
  {
   "cell_type": "code",
   "execution_count": 3,
   "metadata": {
    "collapsed": true
   },
   "outputs": [],
   "source": [
    "def plot_rectangle(rec, ax=None):\n",
    "    if ax is None: \n",
    "        ax = plt.subplot(aspect='equal')\n",
    "    \n",
    "    if isinstance(rec, (list, tuple)):\n",
    "        for r in rec: \n",
    "            plot_rectangle(r,ax)\n",
    "    \n",
    "    else:\n",
    "        size = (rec.maxes-rec.mins)\n",
    "        ax.add_patch(patches.Rectangle(rec.mins, size[0], size[1], fill=False, zorder=-1))\n",
    "    plt.draw()\n",
    "    plt.show()"
   ]
  },
  {
   "cell_type": "markdown",
   "metadata": {},
   "source": [
    "## Start Spark"
   ]
  },
  {
   "cell_type": "code",
   "execution_count": 4,
   "metadata": {
    "collapsed": true
   },
   "outputs": [],
   "source": [
    "import findspark\n",
    "findspark.init()"
   ]
  },
  {
   "cell_type": "code",
   "execution_count": 5,
   "metadata": {
    "collapsed": true
   },
   "outputs": [],
   "source": [
    "import os\n",
    "os.environ['SPARK_CONF_DIR'] = './conf'\n",
    "os.environ['SPARK_DRIVER_MEMORY'] = '8G'"
   ]
  },
  {
   "cell_type": "code",
   "execution_count": 6,
   "metadata": {
    "collapsed": false
   },
   "outputs": [],
   "source": [
    "import pyspark\n",
    "from pyspark import SparkContext, SparkConf\n",
    "import pynbody"
   ]
  },
  {
   "cell_type": "code",
   "execution_count": 7,
   "metadata": {
    "collapsed": false
   },
   "outputs": [],
   "source": [
    "conf = SparkConf()"
   ]
  },
  {
   "cell_type": "code",
   "execution_count": 8,
   "metadata": {
    "collapsed": false
   },
   "outputs": [
    {
     "data": {
      "text/plain": [
       "<pyspark.conf.SparkConf at 0x2abe90363f50>"
      ]
     },
     "execution_count": 8,
     "metadata": {},
     "output_type": "execute_result"
    }
   ],
   "source": [
    "conf.set('spark.python.profile', 'true')\n",
    "conf.set('spark.executor.memory', '8G')\n",
    "conf.set('spark.driver.memory', '8G')\n",
    "conf.set('spark.driver.maxResultSize', '5G')"
   ]
  },
  {
   "cell_type": "code",
   "execution_count": 9,
   "metadata": {
    "collapsed": true
   },
   "outputs": [],
   "source": [
    "import subprocess, re"
   ]
  },
  {
   "cell_type": "code",
   "execution_count": 12,
   "metadata": {
    "collapsed": false
   },
   "outputs": [
    {
     "data": {
      "text/html": [
       "<p>master running at spark://e1220.hpc-lca.ethz.ch:7077</p>\n",
       "     <p>Web UI available <a target='_blank' href='http://10.205.9.28:8080'>here</a>\n",
       "     "
      ],
      "text/plain": [
       "<IPython.core.display.HTML object>"
      ]
     },
     "execution_count": 12,
     "metadata": {},
     "output_type": "execute_result"
    }
   ],
   "source": [
    "from IPython.display import HTML\n",
    "\n",
    "out = subprocess.check_output([\"bjobs\",\"-o\",\"job_name jobid\"])\n",
    "jobid = re.findall('spark-fof (\\d+)', out)[0]\n",
    "\n",
    "job_peek = subprocess.check_output([\"bpeek\", str(jobid)])\n",
    "\n",
    "master_url, master_webui = re.findall('(spark://\\S+:\\d{4}|http://\\S+:\\d{4})', job_peek)\n",
    "\n",
    "HTML(\"\"\"<p>master running at %s</p>\n",
    "     <p>Web UI available <a target='_blank' href='%s\\'>here</a>\n",
    "     \"\"\"%(master_url,master_webui))"
   ]
  },
  {
   "cell_type": "code",
   "execution_count": 13,
   "metadata": {
    "collapsed": false
   },
   "outputs": [],
   "source": [
    "sc = SparkContext(master=master_url, conf=conf)"
   ]
  },
  {
   "cell_type": "code",
   "execution_count": 14,
   "metadata": {
    "collapsed": false
   },
   "outputs": [],
   "source": [
    "import spark_fof"
   ]
  },
  {
   "cell_type": "markdown",
   "metadata": {},
   "source": [
    "### Make the base RDD"
   ]
  },
  {
   "cell_type": "code",
   "execution_count": 15,
   "metadata": {
    "collapsed": true
   },
   "outputs": [],
   "source": [
    "def convert_to_fof_particle(s): \n",
    "    p_arr = np.frombuffer(s, pdt_tipsy)\n",
    "    \n",
    "    new_arr = np.zeros(len(p_arr), dtype=pdt)\n",
    "    new_arr['pos'] = p_arr['pos']\n",
    "    \n",
    "    return new_arr"
   ]
  },
  {
   "cell_type": "code",
   "execution_count": 16,
   "metadata": {
    "collapsed": true
   },
   "outputs": [],
   "source": [
    "def get_minmax(index, i): \n",
    "    mins = []\n",
    "    maxs = []\n",
    "    for arr in i: \n",
    "        mins.append(arr['pos'].min(axis=0))\n",
    "        maxs.append(arr['pos'].max(axis=0))\n",
    "    \n",
    "    yield (index, (np.concatenate(mins).reshape(len(mins),3).min(axis=0), np.concatenate(maxs).reshape(len(mins),3).max(axis=0)))"
   ]
  },
  {
   "cell_type": "code",
   "execution_count": 17,
   "metadata": {
    "collapsed": true
   },
   "outputs": [],
   "source": [
    "from pyspark.accumulators import AccumulatorParam\n",
    "\n",
    "class dictAdd(AccumulatorParam):\n",
    "    def zero(self, value):\n",
    "        return {i:0 for i in range(len(value))}\n",
    "    def addInPlace(self, val1, val2): \n",
    "        for k, v in val2.iteritems(): \n",
    "            val1[k] += v\n",
    "        return val1"
   ]
  },
  {
   "cell_type": "code",
   "execution_count": 18,
   "metadata": {
    "collapsed": true
   },
   "outputs": [],
   "source": [
    "from spark_fof.spark_fof_c import pdt"
   ]
  },
  {
   "cell_type": "code",
   "execution_count": 19,
   "metadata": {
    "collapsed": false
   },
   "outputs": [],
   "source": [
    "# function to map from file block numbers to domain bin\n",
    "N = 62\n",
    "map_file_to_domain = lambda (x,y,z): (x-1) + (y-1)*N + (z-1)*N*N\n",
    "\n",
    "pdt_lc = np.dtype([('pos', 'f4', 3),('vel', 'f4', 3)])\n",
    "\n",
    "import re\n",
    "import time\n",
    "\n",
    "get_block_ids = re.compile('blk\\.(\\d+)\\.(\\d+)\\.(\\d+)i')\n",
    "\n",
    "def make_lc_rdd(sc, path):\n",
    "    from glob import glob\n",
    "\n",
    "    def set_particle_IDs_partition(index, iterator): \n",
    "        p_counts = partition_counts.value\n",
    "        local_index = 0\n",
    "        start_index = sum([p_counts[i] for i in range(index)])\n",
    "        for arr in iterator:\n",
    "            arr['iOrder'] = range(start_index + local_index, start_index + local_index + len(arr))\n",
    "            local_index += len(arr)\n",
    "            yield arr\n",
    "    \n",
    "    def read_file(index, i, chunksize=102400): \n",
    "        for filename in i:\n",
    "            timein = time.time()\n",
    "            with open(filename,'rb') as f: \n",
    "                header = f.read(62500)\n",
    "                while True:\n",
    "                    chunk = f.read(chunksize*24)\n",
    "                    if len(chunk): \n",
    "                        p_arr = np.frombuffer(chunk, pdt_lc)\n",
    "                        new_arr = np.zeros(len(p_arr), dtype=pdt)\n",
    "                        new_arr['pos'] = p_arr['pos']\n",
    "                        npart_acc.add({index: len(p_arr)})\n",
    "                        yield new_arr\n",
    "                    else: \n",
    "                        print 'reading %s took %d seconds in partition %d'%(filename, time.time()-timein, index)\n",
    "                        break\n",
    "                    \n",
    "    files = glob('/cluster/home/roskarr/scratch/euclid/2Tlc-final/*/*')\n",
    "\n",
    "    ids = map(lambda x: tuple(map(int, get_block_ids.findall(x)[0])), files)\n",
    "    ids_map = {x:i for i,x in enumerate(ids)}\n",
    "    ids_map_b = sc.broadcast(ids_map)\n",
    "    nfiles = len(files)\n",
    "\n",
    "    print 'Number of input files: ', nfiles\n",
    "    \n",
    "    # set the partition count accumulator\n",
    "    npart_acc = sc.accumulator({i:0 for i in range(nfiles)}, dictAdd())\n",
    "    \n",
    "    rec_rdd = (sc.parallelize(zip(ids,files), numSlices=27).partitionBy(nfiles, lambda x: ids_map_b.value[x])\n",
    "                 .values()\n",
    "                 .mapPartitionsWithIndex(read_file))\n",
    "    \n",
    "    rec_rdd.count()\n",
    "    partition_counts = sc.broadcast(npart_acc.value)\n",
    "    \n",
    "    return partition_counts, ids_map, rec_rdd.mapPartitionsWithIndex(set_particle_IDs_partition)"
   ]
  },
  {
   "cell_type": "code",
   "execution_count": 20,
   "metadata": {
    "collapsed": false
   },
   "outputs": [
    {
     "name": "stdout",
     "output_type": "stream",
     "text": [
      "Number of input files:  27\n",
      "CPU times: user 30 ms, sys: 10 ms, total: 40 ms\n",
      "Wall time: 1min 55s\n"
     ]
    }
   ],
   "source": [
    "%%time \n",
    "p_counts, ids_map, p_rdd = make_lc_rdd(sc, '2Tlc-final/')\n",
    "#p_rdd.cache()\n",
    "#p_rdd.count()"
   ]
  },
  {
   "cell_type": "code",
   "execution_count": 21,
   "metadata": {
    "collapsed": false
   },
   "outputs": [
    {
     "name": "stdout",
     "output_type": "stream",
     "text": [
      "CPU times: user 20 ms, sys: 0 ns, total: 20 ms\n",
      "Wall time: 29.1 s\n"
     ]
    }
   ],
   "source": [
    "%time limits = p_rdd.mapPartitionsWithIndex(get_minmax).collect()"
   ]
  },
  {
   "cell_type": "code",
   "execution_count": 22,
   "metadata": {
    "collapsed": false
   },
   "outputs": [
    {
     "data": {
      "text/plain": [
       "(0.033068776, -1.0251320600509644, 1.0251320600509644)"
      ]
     },
     "execution_count": 22,
     "metadata": {},
     "output_type": "execute_result"
    }
   ],
   "source": [
    "diff = (limits[0][1][1] - limits[0][1][0])[0]\n",
    "global_min = -31*diff\n",
    "global_max = 31*diff\n",
    "\n",
    "diff, global_min, global_max"
   ]
  },
  {
   "cell_type": "code",
   "execution_count": 23,
   "metadata": {
    "collapsed": true
   },
   "outputs": [],
   "source": [
    "dom_maxs = np.array([global_max]*3, dtype=np.float64)\n",
    "dom_mins = np.array([global_min]*3, dtype=np.float64)"
   ]
  },
  {
   "cell_type": "code",
   "execution_count": 24,
   "metadata": {
    "collapsed": false
   },
   "outputs": [
    {
     "data": {
      "text/plain": [
       "<module 'spark_fof.spark_fof' from '/cluster/project/sis/ri/roskarr/spark-fof/spark_fof/spark_fof.pyc'>"
      ]
     },
     "execution_count": 24,
     "metadata": {},
     "output_type": "execute_result"
    }
   ],
   "source": [
    "reload(spark_fof.spark_fof)"
   ]
  },
  {
   "cell_type": "code",
   "execution_count": 25,
   "metadata": {
    "collapsed": false
   },
   "outputs": [],
   "source": [
    "#tau = diff*5./125.\n",
    "tau = 0.2/12600\n",
    "domain_containers = spark_fof.spark_fof.setup_domain(62, tau, dom_mins, dom_maxs)"
   ]
  },
  {
   "cell_type": "code",
   "execution_count": 26,
   "metadata": {
    "collapsed": false
   },
   "outputs": [],
   "source": [
    "global_to_cutout_map = {}\n",
    "for k,v in ids_map.iteritems(): \n",
    "    global_to_cutout_map[map_file_to_domain(k)] = v"
   ]
  },
  {
   "cell_type": "code",
   "execution_count": 27,
   "metadata": {
    "collapsed": false
   },
   "outputs": [
    {
     "data": {
      "text/plain": [
       "array([-0.06613756, -0.06613756, -0.06613756], dtype=float32)"
      ]
     },
     "execution_count": 27,
     "metadata": {},
     "output_type": "execute_result"
    }
   ],
   "source": [
    "limits[0][1][0]"
   ]
  },
  {
   "cell_type": "markdown",
   "metadata": {},
   "source": [
    "### Run FOF and Merge groups"
   ]
  },
  {
   "cell_type": "code",
   "execution_count": 28,
   "metadata": {
    "collapsed": true
   },
   "outputs": [],
   "source": [
    "n_containers = len(domain_containers)"
   ]
  },
  {
   "cell_type": "code",
   "execution_count": 29,
   "metadata": {
    "collapsed": true
   },
   "outputs": [],
   "source": [
    "mins = np.zeros((n_containers, 3))\n",
    "maxs = np.zeros((n_containers, 3))\n",
    "mins_buff = np.zeros((n_containers, 3))\n",
    "maxs_buff = np.zeros((n_containers, 3))"
   ]
  },
  {
   "cell_type": "code",
   "execution_count": 30,
   "metadata": {
    "collapsed": false
   },
   "outputs": [],
   "source": [
    "for i in range(n_containers):\n",
    "    r = domain_containers[i]\n",
    "    mins[i] = r.mins\n",
    "    maxs[i] = r.maxes\n",
    "    mins_buff[i] = r.bufferRectangle.mins\n",
    "    maxs_buff[i] = r.bufferRectangle.maxes"
   ]
  },
  {
   "cell_type": "code",
   "execution_count": 31,
   "metadata": {
    "collapsed": false
   },
   "outputs": [
    {
     "name": "stdout",
     "output_type": "stream",
     "text": [
      "wtf\n"
     ]
    }
   ],
   "source": [
    "fof_analyzer = spark_fof.spark_fof.FOFAnalyzer(sc, p_rdd, 64, 62, tau, dom_mins, dom_maxs, Npartitions=27)"
   ]
  },
  {
   "cell_type": "code",
   "execution_count": 32,
   "metadata": {
    "collapsed": true
   },
   "outputs": [],
   "source": [
    "### THIS MUST BE FIXED IN THE MAIN CODE\n",
    "fof_analyzer.global_to_local_map = global_to_cutout_map"
   ]
  },
  {
   "cell_type": "code",
   "execution_count": 34,
   "metadata": {
    "collapsed": false
   },
   "outputs": [
    {
     "data": {
      "text/plain": [
       "PythonRDD[17] at RDD at PythonRDD.scala:48"
      ]
     },
     "execution_count": 34,
     "metadata": {},
     "output_type": "execute_result"
    }
   ],
   "source": [
    "fof_analyzer.merged_rdd.cache()"
   ]
  },
  {
   "cell_type": "code",
   "execution_count": 35,
   "metadata": {
    "collapsed": true
   },
   "outputs": [],
   "source": [
    "group_merge_map = fof_analyzer.group_merge_map\n",
    "gr_map_inv = {v:k for (k,v) in group_merge_map.iteritems()}\n",
    "group_merge_map_b = sc.broadcast(group_merge_map)\n",
    "gr_map_inv_b = sc.broadcast(gr_map_inv)"
   ]
  },
  {
   "cell_type": "code",
   "execution_count": 51,
   "metadata": {
    "collapsed": true
   },
   "outputs": [],
   "source": [
    "from itertools import izip\n",
    "def count_groups_partition(particle_arrays, gr_map_inv_b, nMinMembers): \n",
    "    p_arr = np.concatenate(list(particle_arrays))\n",
    "    gs, counts = np.unique(p_arr['iGroup'], return_counts=True)\n",
    "    gr_map_inv = gr_map_inv_b.value\n",
    "    return ((g,cnt) for g,cnt in izip(gs,counts) if (g in gr_map_inv) or (cnt >= nMinMembers))"
   ]
  },
  {
   "cell_type": "code",
   "execution_count": 37,
   "metadata": {
    "collapsed": false
   },
   "outputs": [
    {
     "data": {
      "text/plain": [
       "880530"
      ]
     },
     "execution_count": 37,
     "metadata": {},
     "output_type": "execute_result"
    }
   ],
   "source": [
    "len(group_merge_map)"
   ]
  },
  {
   "cell_type": "code",
   "execution_count": 38,
   "metadata": {
    "collapsed": true
   },
   "outputs": [],
   "source": [
    "nMinMembers = fof_analyzer.nMinMembers"
   ]
  },
  {
   "cell_type": "code",
   "execution_count": 62,
   "metadata": {
    "collapsed": true
   },
   "outputs": [],
   "source": [
    "group_counts = fof_analyzer.merged_rdd.mapPartitions(lambda p_arrs: count_groups_partition(p_arrs, gr_map_inv_b, nMinMembers)).cache()"
   ]
  },
  {
   "cell_type": "code",
   "execution_count": 64,
   "metadata": {
    "collapsed": false
   },
   "outputs": [],
   "source": [
    "merge_group_counts = group_counts.filter(lambda (g,cnt): g in gr_map_inv_b.value).reduceByKey(lambda a,b: a+b).filter(lambda (g,cnt): cnt>=nMinMembers).cache()"
   ]
  },
  {
   "cell_type": "code",
   "execution_count": 65,
   "metadata": {
    "collapsed": false
   },
   "outputs": [
    {
     "data": {
      "text/plain": [
       "9450"
      ]
     },
     "execution_count": 65,
     "metadata": {},
     "output_type": "execute_result"
    }
   ],
   "source": [
    "merge_group_counts.count()"
   ]
  },
  {
   "cell_type": "code",
   "execution_count": 66,
   "metadata": {
    "collapsed": false
   },
   "outputs": [
    {
     "data": {
      "text/plain": [
       "[(21490434162, 100),\n",
       " (60155101899, 169),\n",
       " (94511694672, 65),\n",
       " (64449021438, 135),\n",
       " (85916780082, 88),\n",
       " (30089807667, 240),\n",
       " (17207920584, 156),\n",
       " (85924514367, 373),\n",
       " (55860923052, 145),\n",
       " (73029520134, 164)]"
      ]
     },
     "execution_count": 66,
     "metadata": {},
     "output_type": "execute_result"
    }
   ],
   "source": [
    "merge_group_counts.take(10)"
   ]
  },
  {
   "cell_type": "code",
   "execution_count": 67,
   "metadata": {
    "collapsed": false
   },
   "outputs": [],
   "source": [
    "total_group_counts = group_counts + merge_group_counts"
   ]
  },
  {
   "cell_type": "code",
   "execution_count": 71,
   "metadata": {
    "collapsed": false
   },
   "outputs": [
    {
     "data": {
      "text/plain": [
       "[(77311066599, 865855),\n",
       " (85910801447, 865609),\n",
       " (4322239800, 698213),\n",
       " (47270917788, 653715),\n",
       " (4322239800, 595231),\n",
       " (10095789, 571398),\n",
       " (90223847363, 497635),\n",
       " (60133312412, 497502),\n",
       " (21485504954, 496181),\n",
       " (25781078975, 456429),\n",
       " (90223847363, 452018),\n",
       " (47270917788, 441531),\n",
       " (25797478932, 423419),\n",
       " (12884930629, 419587),\n",
       " (85908348645, 410652),\n",
       " (42975334250, 403781),\n",
       " (42975334250, 403377),\n",
       " (21479254542, 401019),\n",
       " (47250438119, 397850),\n",
       " (4324372234, 393099),\n",
       " (51560716916, 391677),\n",
       " (90221638460, 382890),\n",
       " (98801218074, 378490),\n",
       " (60142548292, 373651),\n",
       " (81617926698, 367391),\n",
       " (21481847521, 364710),\n",
       " (21479311567, 363305),\n",
       " (90222120073, 361688),\n",
       " (60149860007, 357280),\n",
       " (42965245322, 355301),\n",
       " (60149860007, 354047),\n",
       " (60146653219, 346119),\n",
       " (17207378830, 345465),\n",
       " (94515230820, 340983),\n",
       " (51555419047, 334509),\n",
       " (90221638460, 329533),\n",
       " (47244965812, 317144),\n",
       " (77330184973, 314216),\n",
       " (77330184973, 314203),\n",
       " (47247315769, 304443),\n",
       " (51555848133, 302304),\n",
       " (17194896711, 301114),\n",
       " (38659863685, 297873),\n",
       " (81624644430, 285881),\n",
       " (34363760394, 285036),\n",
       " (34377719477, 283794),\n",
       " (38675942759, 283381),\n",
       " (68724566376, 279727),\n",
       " (90201744077, 279665),\n",
       " (4315730809, 274928),\n",
       " (111692055426, 272001),\n",
       " (60130005104, 271371),\n",
       " (34390570044, 267419),\n",
       " (38659689686, 264825),\n",
       " (103085889843, 264738),\n",
       " (77311122527, 262729),\n",
       " (21492772594, 261888),\n",
       " (34376203296, 257609),\n",
       " (107396708932, 256639),\n",
       " (68748849747, 246090),\n",
       " (107393339843, 245071),\n",
       " (60143543524, 244676),\n",
       " (34362096042, 243319),\n",
       " (34389194461, 240548),\n",
       " (17205949078, 239151),\n",
       " (42950411350, 237016),\n",
       " (38680812951, 235159),\n",
       " (4315437668, 234573),\n",
       " (81625024236, 233477),\n",
       " (90211770881, 233030),\n",
       " (60156874408, 231988),\n",
       " (12888488376, 231170),\n",
       " (1457834, 230866),\n",
       " (98784908709, 229638),\n",
       " (77321578483, 228969),\n",
       " (73038871990, 227964),\n",
       " (81619468990, 227851),\n",
       " (4325666658, 227608),\n",
       " (107393348003, 227459),\n",
       " (77335817337, 226781),\n",
       " (94516925681, 226488),\n",
       " (73023268372, 225339),\n",
       " (34374923719, 225131),\n",
       " (111670390316, 222174),\n",
       " (8609497323, 221936),\n",
       " (34370418446, 221233),\n",
       " (42965120614, 220732),\n",
       " (19649479, 219654),\n",
       " (47268052135, 217886),\n",
       " (25774205210, 217206),\n",
       " (111683663015, 213648),\n",
       " (14975624, 212901),\n",
       " (30081581603, 212616),\n",
       " (73029176316, 212221),\n",
       " (47270917788, 212175),\n",
       " (38681778614, 208983),\n",
       " (38681732652, 208667),\n",
       " (38661165609, 208543),\n",
       " (68726714033, 208398),\n",
       " (94516925681, 207932)]"
      ]
     },
     "execution_count": 71,
     "metadata": {},
     "output_type": "execute_result"
    }
   ],
   "source": [
    "total_group_counts.sortBy(lambda (k,v): -v).take(100)"
   ]
  },
  {
   "cell_type": "code",
   "execution_count": null,
   "metadata": {
    "collapsed": true
   },
   "outputs": [],
   "source": []
  },
  {
   "cell_type": "markdown",
   "metadata": {
    "collapsed": true
   },
   "source": [
    "## Used for testing"
   ]
  },
  {
   "cell_type": "code",
   "execution_count": null,
   "metadata": {
    "collapsed": false
   },
   "outputs": [],
   "source": [
    "def read_tipsy_output(filename, chunksize = 2048): \n",
    "    \"\"\"\n",
    "    Read a tipsy file and set the sequential particle IDs\n",
    "    \n",
    "    This scans through the data twice -- first to get partition particle counts\n",
    "    and a second time to actually set the particle IDs.\n",
    "    \"\"\"\n",
    "    \n",
    "    # helper functions\n",
    "    def convert_to_fof_particle_partition(index, iterator): \n",
    "        for s in iterator: \n",
    "            a = convert_to_fof_particle(s)\n",
    "            if count: \n",
    "                npart_acc.add({index: len(a)})\n",
    "            yield a\n",
    "\n",
    "    def set_particle_IDs_partition(index, iterator): \n",
    "        p_counts = partition_counts.value\n",
    "        local_index = 0\n",
    "        start_index = sum([p_counts[i] for i in range(index)])\n",
    "        for arr in iterator:\n",
    "            arr['iOrder'] = range(start_index + local_index, start_index + local_index + len(arr))\n",
    "            local_index += len(arr)\n",
    "            yield arr\n",
    "    \n",
    "    rec_rdd = sc.binaryRecords(filename, pdt_tipsy.itemsize*chunksize)\n",
    "    nPartitions = rec_rdd.getNumPartitions()\n",
    "    # set the partition count accumulator\n",
    "    npart_acc = sc.accumulator({i:0 for i in range(nPartitions)}, dictAdd())\n",
    "    count=True\n",
    "    # read the data and count the particles per partition\n",
    "    rec_rdd = rec_rdd.mapPartitionsWithIndex(convert_to_fof_particle_partition)\n",
    "    rec_rdd.count()\n",
    "    count=False\n",
    "\n",
    "    partition_counts = sc.broadcast(npart_acc.value)\n",
    "\n",
    "    return rec_rdd.mapPartitionsWithIndex(set_particle_IDs_partition)"
   ]
  },
  {
   "cell_type": "code",
   "execution_count": null,
   "metadata": {
    "collapsed": false
   },
   "outputs": [],
   "source": [
    "#p_rdd = read_tipsy_output('/Users/rok/polybox/euclid256.nat_no_header')"
   ]
  },
  {
   "cell_type": "code",
   "execution_count": null,
   "metadata": {
    "collapsed": false
   },
   "outputs": [],
   "source": [
    "#p_rdd.cache().count()"
   ]
  },
  {
   "cell_type": "code",
   "execution_count": null,
   "metadata": {
    "collapsed": false
   },
   "outputs": [],
   "source": [
    "# %%time \n",
    "# nMinMembers = 1\n",
    "# n_groups = fof.run(ps, tau, nMinMembers)\n",
    "# print 'number of groups to %d particle = %d'%(nMinMembers, n_groups)"
   ]
  }
 ],
 "metadata": {
  "kernelspec": {
   "display_name": "Python 2",
   "language": "python",
   "name": "python2"
  },
  "language_info": {
   "codemirror_mode": {
    "name": "ipython",
    "version": 2
   },
   "file_extension": ".py",
   "mimetype": "text/x-python",
   "name": "python",
   "nbconvert_exporter": "python",
   "pygments_lexer": "ipython2",
   "version": "2.7.12"
  }
 },
 "nbformat": 4,
 "nbformat_minor": 0
}
