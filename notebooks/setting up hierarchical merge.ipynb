{
 "cells": [
  {
   "cell_type": "markdown",
   "metadata": {},
   "source": [
    "## Make a simple synthetic dataset to test hierarchical merge in FOF algorithm\n",
    "\n",
    "#### the idea is this: \n",
    "\n",
    "* after the local FOF stage, each partition reports the particles it holds in the overlap region\n",
    "* do a reduceByKey or treeAggregate of some sort to collect the groups belonging to the same particles\n",
    "* produce a mapping of $G -> G_1$ and distribute to all hosts in form of broadcast lookup table"
   ]
  },
  {
   "cell_type": "code",
   "execution_count": 1,
   "metadata": {
    "collapsed": false
   },
   "outputs": [],
   "source": [
    "import numpy as np\n",
    "import matplotlib.pylab as plt\n",
    "%matplotlib inline\n",
    "\n",
    "import sys\n",
    "sys.setrecursionlimit(sys.getrecursionlimit()*10)\n",
    "import matplotlib.patches as patches\n",
    "\n",
    "plt.style.use('fivethirtyeight')"
   ]
  },
  {
   "cell_type": "code",
   "execution_count": 2,
   "metadata": {
    "collapsed": false
   },
   "outputs": [],
   "source": [
    "import os\n",
    "os.environ['SPARK_HOME'] = os.path.join(os.path.expanduser('~'), 'spark')\n",
    "import findspark\n",
    "findspark.init()"
   ]
  },
  {
   "cell_type": "code",
   "execution_count": 3,
   "metadata": {
    "collapsed": true
   },
   "outputs": [],
   "source": [
    "def plot_rectangle(rec, ax=None):\n",
    "    if ax is None: \n",
    "        ax = plt.subplot(aspect='equal')\n",
    "    \n",
    "    if isinstance(rec, (list, tuple)):\n",
    "        for r in rec: \n",
    "            plot_rectangle(r,ax)\n",
    "    \n",
    "    else:\n",
    "        size = (rec.maxes-rec.mins)\n",
    "        ax.add_patch(patches.Rectangle(rec.mins, size[0], size[1], fill=False, zorder=-1))\n",
    "    plt.draw()\n",
    "    plt.show()"
   ]
  },
  {
   "cell_type": "markdown",
   "metadata": {},
   "source": [
    "## Start Spark"
   ]
  },
  {
   "cell_type": "code",
   "execution_count": 4,
   "metadata": {
    "collapsed": true
   },
   "outputs": [],
   "source": [
    "import os\n",
    "os.environ['SPARK_CONF_DIR'] = './conf'\n",
    "os.environ['SPARK_DRIVER_MEMORY'] = '8G'"
   ]
  },
  {
   "cell_type": "code",
   "execution_count": 5,
   "metadata": {
    "collapsed": false
   },
   "outputs": [],
   "source": [
    "import pyspark\n",
    "from pyspark import SparkContext, SparkConf\n",
    "import pynbody\n",
    "import sparkhpc"
   ]
  },
  {
   "cell_type": "code",
   "execution_count": 34,
   "metadata": {
    "collapsed": false
   },
   "outputs": [
    {
     "name": "stdout",
     "output_type": "stream",
     "text": [
      "Overwriting job.template\n"
     ]
    }
   ],
   "source": [
    "%%writefile job.template\n",
    "#!/bin/sh\n",
    "#BSUB -J {jobname}\n",
    "#BSUB -W {walltime} # runtime to request\n",
    "#BSUB -o {jobname}-%J.log # output extra o means overwrite\n",
    "#BSUB -n {ncores} # requesting ncores cores\n",
    "#BSUB -R \"rusage[mem={memory}]\" # take any available core with mem MB of memory\n",
    "\n",
    "# setup the spark paths\n",
    "export SPARK_HOME={spark_home}\n",
    "export SPARK_LOCAL_DIRS=$__LSF_JOB_TMPDIR__\n",
    "export LOCAL_DIRS=$SPARK_LOCAL_DIRS\n",
    "export SPARK_WORKER_DIR=$__LSF_JOB_TMPDIR__/work\n",
    "#export SPARK_CONF_DIR=/cluster/home/roskarr/Projects/spark-fof/conf\n",
    "\n",
    "sparkcluster launch --memory {memory}M"
   ]
  },
  {
   "cell_type": "code",
   "execution_count": 6,
   "metadata": {
    "collapsed": false
   },
   "outputs": [
    {
     "name": "stderr",
     "output_type": "stream",
     "text": [
      "INFO:sparkhpc:Submitted cluster 0\n"
     ]
    }
   ],
   "source": [
    "#sj = sparkhpc.sparkjob.LSFSparkJob(ncores=27, memory=5500, walltime='4:00', template='./job.template')\n",
    "sj = sparkhpc.sparkjob.LSFSparkJob(ncores=27,memory=8500,walltime='6:00')\n",
    "sj.wait_to_start()"
   ]
  },
  {
   "cell_type": "code",
   "execution_count": 7,
   "metadata": {
    "collapsed": false
   },
   "outputs": [],
   "source": [
    "conf = SparkConf()"
   ]
  },
  {
   "cell_type": "code",
   "execution_count": 8,
   "metadata": {
    "collapsed": false
   },
   "outputs": [
    {
     "data": {
      "text/plain": [
       "<pyspark.conf.SparkConf at 0x2af0b63da950>"
      ]
     },
     "execution_count": 8,
     "metadata": {},
     "output_type": "execute_result"
    }
   ],
   "source": [
    "conf.set('spark.python.profile', 'true')\n",
    "conf.set('spark.executor.memory', '4G')\n",
    "conf.set('spark.driver.memory', '8G')\n",
    "conf.set('spark.driver.maxResultSize', '5G')"
   ]
  },
  {
   "cell_type": "code",
   "execution_count": 9,
   "metadata": {
    "collapsed": false
   },
   "outputs": [],
   "source": [
    "sc = SparkContext(master=sj.master_url, conf=conf)"
   ]
  },
  {
   "cell_type": "markdown",
   "metadata": {},
   "source": [
    "### Make the base RDD"
   ]
  },
  {
   "cell_type": "code",
   "execution_count": 10,
   "metadata": {
    "collapsed": true
   },
   "outputs": [],
   "source": [
    "def get_minmax(index, i): \n",
    "    mins = []\n",
    "    maxs = []\n",
    "    for arr in i: \n",
    "        mins.append(arr['pos'].min(axis=0))\n",
    "        maxs.append(arr['pos'].max(axis=0))\n",
    "    \n",
    "    yield (index, (np.concatenate(mins).reshape(len(mins),3).min(axis=0), np.concatenate(maxs).reshape(len(mins),3).max(axis=0)))"
   ]
  },
  {
   "cell_type": "code",
   "execution_count": 11,
   "metadata": {
    "collapsed": true
   },
   "outputs": [],
   "source": [
    "from pyspark.accumulators import AccumulatorParam\n",
    "\n",
    "class dictAdd(AccumulatorParam):\n",
    "    def zero(self, value):\n",
    "        return {i:0 for i in range(len(value))}\n",
    "    def addInPlace(self, val1, val2): \n",
    "        for k, v in val2.iteritems(): \n",
    "            val1[k] += v\n",
    "        return val1"
   ]
  },
  {
   "cell_type": "code",
   "execution_count": 12,
   "metadata": {
    "collapsed": false
   },
   "outputs": [],
   "source": [
    "# function to map from file block numbers to domain bin\n",
    "N = 62\n",
    "map_file_to_domain = lambda (x,y,z): (x-1) + (y-1)*N + (z-1)*N*N\n",
    "\n",
    "pdt_lc = np.dtype([('pos', 'f4', 3),('vel', 'f4', 3)])\n",
    "\n",
    "from spark_fof.spark_fof_c import pdt\n",
    "\n",
    "import re\n",
    "import time\n",
    "\n",
    "get_block_ids = re.compile('blk\\.(\\d+)\\.(\\d+)\\.(\\d+)i')\n",
    "\n",
    "def make_lc_rdd(sc, path):\n",
    "    from glob import glob\n",
    "\n",
    "    def set_particle_IDs_partition(index, iterator): \n",
    "        p_counts = partition_counts.value\n",
    "        local_index = 0\n",
    "        start_index = sum([p_counts[i] for i in range(index)])\n",
    "        for arr in iterator:\n",
    "            arr['iOrder'] = range(start_index + local_index, start_index + local_index + len(arr))\n",
    "            arr['iGroup'] = index\n",
    "            local_index += len(arr)\n",
    "            yield arr\n",
    "    \n",
    "    def read_file(index, i, chunksize=102400): \n",
    "        for part,filename in i:\n",
    "            timein = time.time()\n",
    "            with open(filename,'rb') as f: \n",
    "                header = f.read(62500)\n",
    "                while True:\n",
    "                    chunk = f.read(chunksize*24)\n",
    "                    if len(chunk): \n",
    "                        p_arr = np.frombuffer(chunk, pdt_lc)\n",
    "                        new_arr = np.zeros(len(p_arr), dtype=pdt)\n",
    "                        new_arr['pos'] = p_arr['pos']\n",
    "                        npart_acc.add({index: len(p_arr)})\n",
    "                        yield new_arr\n",
    "                    else: \n",
    "                        print 'reading %s took %d seconds in partition %d'%(filename, time.time()-timein, index)\n",
    "                        break\n",
    "                    \n",
    "    files = glob(os.path.join(path, '*/*'))\n",
    "\n",
    "    ids = map(lambda x: tuple(map(int, get_block_ids.findall(x)[0])), files)\n",
    "    ids_map = {x:i for i,x in enumerate(ids)}\n",
    "    ids_map_b = sc.broadcast(ids_map)\n",
    "    ids_map_inv = {v:k for k,v in ids_map.iteritems()}\n",
    "    nfiles = len(files)\n",
    "    \n",
    "    print 'Number of input files: ', nfiles\n",
    "    \n",
    "    # set the partition count accumulator\n",
    "    npart_acc = sc.accumulator({i:0 for i in range(nfiles)}, dictAdd())\n",
    "    \n",
    "    rec_rdd = (sc.parallelize(zip(ids,files), numSlices=sc.defaultParallelism)\n",
    "                 .map(lambda (id,filename): (ids_map_b.value[id],filename))\n",
    "                 .partitionBy(sc.defaultParallelism)\n",
    "                 .mapPartitionsWithIndex(read_file, preservesPartitioning=True))\n",
    "  \n",
    "    rec_rdd.count()\n",
    "    partition_counts = sc.broadcast(npart_acc.value)\n",
    "    \n",
    "    return ids_map, rec_rdd.mapPartitionsWithIndex(set_particle_IDs_partition, \n",
    "                                                                     preservesPartitioning=True)"
   ]
  },
  {
   "cell_type": "code",
   "execution_count": 57,
   "metadata": {
    "collapsed": false
   },
   "outputs": [
    {
     "name": "stdout",
     "output_type": "stream",
     "text": [
      "Number of input files:  27\n",
      "CPU times: user 41 ms, sys: 10 ms, total: 51 ms\n",
      "Wall time: 1min 37s\n"
     ]
    }
   ],
   "source": [
    "%%time \n",
    "ids_map, p_rdd = make_lc_rdd(sc, '/cluster/home/roskarr/scratch/euclid/2Tlc-final')\n",
    "p_rdd.cache()\n"
   ]
  },
  {
   "cell_type": "code",
   "execution_count": 58,
   "metadata": {
    "collapsed": true
   },
   "outputs": [],
   "source": [
    "import os\n",
    "os.environ['http_proxy']=\"\""
   ]
  },
  {
   "cell_type": "code",
   "execution_count": 59,
   "metadata": {
    "collapsed": false
   },
   "outputs": [],
   "source": [
    "base_url = 'http://localhost:4040/api/v1'\n",
    "import requests\n",
    "import pandas as pd\n",
    "def get_app():\n",
    "    response = requests.get(base_url+'/applications')\n",
    "    return response.json()[0]['id']\n",
    "def get_stages():\n",
    "    response = requests.get(base_url+'/applications/'+get_app()+'/stages')\n",
    "    stages = response.json()\n",
    "    return [(stage['stageId'], stage['name']) for stage in stages]\n",
    "def get_tasks(stageid):\n",
    "    if isinstance(stageid,int): \n",
    "        response = requests.get(base_url+'/applications/'+get_app()+'/stages/'+str(stageid))\n",
    "        j = response.json()\n",
    "        res = [(i,t['host'],t['executorId'],t['taskMetrics']['executorRunTime']) for i,t in j[0]['tasks'].iteritems()]\n",
    "        columns = ['task_id', 'host_ip', 'executor_id', 'task_time']\n",
    "        res = pd.DataFrame(res,columns=columns)\n",
    "    elif isinstance(stageid,list):\n",
    "        columns = ['task_id', 'host_ip', 'executor_id', 'task_time', 'stageid']\n",
    "        res = pd.DataFrame(columns=columns)\n",
    "        for s in stageid: \n",
    "            df = get_tasks(s)\n",
    "            df['stageid'] = s\n",
    "            res = res.append(df)\n",
    "    return res"
   ]
  },
  {
   "cell_type": "code",
   "execution_count": 60,
   "metadata": {
    "collapsed": true
   },
   "outputs": [],
   "source": [
    "import seaborn as sns\n",
    "def plot_task_dist(stageid): \n",
    "    tasks = get_tasks(stageid)\n",
    "    t = np.array([t[2] for t in tasks])\n",
    "    sns.distplot(t/1000., kde=False, bins=20, axlabel='Task runtime (s)')"
   ]
  },
  {
   "cell_type": "code",
   "execution_count": 61,
   "metadata": {
    "collapsed": true
   },
   "outputs": [],
   "source": [
    "import altair\n",
    "from altair import Chart, X, Y, Color, Column, Scale, expr, Axis, Formula, Legend, LegendConfig, Bin, Row"
   ]
  },
  {
   "cell_type": "code",
   "execution_count": 67,
   "metadata": {
    "collapsed": true
   },
   "outputs": [],
   "source": [
    "def plot_tasks(stageid,xfield='host_ip',yfield='mean'):\n",
    "    tdf = get_tasks(stageid)\n",
    "    return Chart(tdf).mark_bar().encode(\n",
    "    x=X(field=xfield),\n",
    "    y=Y(aggregate=yfield, field='task_time'),\n",
    "    row=Row(field='stageid'),\n",
    "    color=Color(field='host_ip')\n",
    "    )    "
   ]
  },
  {
   "cell_type": "code",
   "execution_count": 68,
   "metadata": {
    "collapsed": false
   },
   "outputs": [
    {
     "name": "stderr",
     "output_type": "stream",
     "text": [
      "INFO:requests.packages.urllib3.connectionpool:Starting new HTTP connection (1): localhost\n",
      "INFO:requests.packages.urllib3.connectionpool:Starting new HTTP connection (1): localhost\n",
      "INFO:requests.packages.urllib3.connectionpool:Starting new HTTP connection (1): localhost\n",
      "INFO:requests.packages.urllib3.connectionpool:Starting new HTTP connection (1): localhost\n",
      "INFO:requests.packages.urllib3.connectionpool:Starting new HTTP connection (1): localhost\n",
      "INFO:requests.packages.urllib3.connectionpool:Starting new HTTP connection (1): localhost\n"
     ]
    },
    {
     "data": {
      "text/html": [
       "<div class=\"vega-embed\" id=\"b5f1a6be-02f4-43a1-93a9-22d31432e583\"></div>\n",
       "\n",
       "<style>\n",
       ".vega-embed svg, .vega-embed canvas {\n",
       "  border: 1px dotted gray;\n",
       "}\n",
       "\n",
       ".vega-embed .vega-actions a {\n",
       "  margin-right: 6px;\n",
       "}\n",
       "</style>\n"
      ]
     },
     "metadata": {
      "jupyter-vega": "#b5f1a6be-02f4-43a1-93a9-22d31432e583"
     },
     "output_type": "display_data"
    },
    {
     "data": {
      "application/javascript": [
       "var spec = {\"data\": {\"values\": [{\"stageid\": 3.0, \"executor_id\": \"12\", \"task_time\": 15847.0, \"host_ip\": \"10.205.3.29\", \"task_id\": \"37\"}, {\"stageid\": 3.0, \"executor_id\": \"3\", \"task_time\": 110982.0, \"host_ip\": \"10.205.8.12\", \"task_id\": \"50\"}, {\"stageid\": 3.0, \"executor_id\": \"23\", \"task_time\": 7787.0, \"host_ip\": \"10.205.7.15\", \"task_id\": \"53\"}, {\"stageid\": 3.0, \"executor_id\": \"2\", \"task_time\": 64997.0, \"host_ip\": \"10.205.8.44\", \"task_id\": \"52\"}, {\"stageid\": 3.0, \"executor_id\": \"17\", \"task_time\": 20175.0, \"host_ip\": \"10.205.9.5\", \"task_id\": \"48\"}, {\"stageid\": 3.0, \"executor_id\": \"8\", \"task_time\": 7524.0, \"host_ip\": \"10.205.3.35\", \"task_id\": \"49\"}, {\"stageid\": 3.0, \"executor_id\": \"21\", \"task_time\": 19715.0, \"host_ip\": \"10.205.9.9\", \"task_id\": \"46\"}, {\"stageid\": 3.0, \"executor_id\": \"10\", \"task_time\": 21370.0, \"host_ip\": \"10.205.9.11\", \"task_id\": \"47\"}, {\"stageid\": 3.0, \"executor_id\": \"19\", \"task_time\": 83195.0, \"host_ip\": \"10.205.3.44\", \"task_id\": \"44\"}, {\"stageid\": 3.0, \"executor_id\": \"15\", \"task_time\": 77696.0, \"host_ip\": \"10.205.4.26\", \"task_id\": \"45\"}, {\"stageid\": 3.0, \"executor_id\": \"5\", \"task_time\": 93890.0, \"host_ip\": \"10.205.9.10\", \"task_id\": \"42\"}, {\"stageid\": 3.0, \"executor_id\": \"4\", \"task_time\": 105950.0, \"host_ip\": \"10.205.9.10\", \"task_id\": \"43\"}, {\"stageid\": 3.0, \"executor_id\": \"18\", \"task_time\": 15468.0, \"host_ip\": \"10.205.7.25\", \"task_id\": \"40\"}, {\"stageid\": 3.0, \"executor_id\": \"26\", \"task_time\": 89991.0, \"host_ip\": \"10.205.4.34\", \"task_id\": \"41\"}, {\"stageid\": 3.0, \"executor_id\": \"14\", \"task_time\": 15059.0, \"host_ip\": \"10.205.4.45\", \"task_id\": \"39\"}, {\"stageid\": 3.0, \"executor_id\": \"25\", \"task_time\": 99491.0, \"host_ip\": \"10.205.8.12\", \"task_id\": \"38\"}, {\"stageid\": 3.0, \"executor_id\": \"1\", \"task_time\": 2621.0, \"host_ip\": \"10.205.7.61\", \"task_id\": \"33\"}, {\"stageid\": 3.0, \"executor_id\": \"6\", \"task_time\": 87772.0, \"host_ip\": \"10.205.9.14\", \"task_id\": \"32\"}, {\"stageid\": 3.0, \"executor_id\": \"0\", \"task_time\": 87003.0, \"host_ip\": \"10.205.4.2\", \"task_id\": \"31\"}, {\"stageid\": 3.0, \"executor_id\": \"22\", \"task_time\": 64496.0, \"host_ip\": \"10.205.3.34\", \"task_id\": \"56\"}, {\"stageid\": 3.0, \"executor_id\": \"11\", \"task_time\": 13589.0, \"host_ip\": \"10.205.3.29\", \"task_id\": \"51\"}, {\"stageid\": 3.0, \"executor_id\": \"20\", \"task_time\": 75483.0, \"host_ip\": \"10.205.7.4\", \"task_id\": \"36\"}, {\"stageid\": 3.0, \"executor_id\": \"16\", \"task_time\": 74801.0, \"host_ip\": \"10.205.4.18\", \"task_id\": \"35\"}, {\"stageid\": 3.0, \"executor_id\": \"7\", \"task_time\": 81863.0, \"host_ip\": \"10.205.4.30\", \"task_id\": \"34\"}, {\"stageid\": 3.0, \"executor_id\": \"13\", \"task_time\": 17902.0, \"host_ip\": \"10.205.7.31\", \"task_id\": \"55\"}, {\"stageid\": 3.0, \"executor_id\": \"24\", \"task_time\": 85849.0, \"host_ip\": \"10.205.3.20\", \"task_id\": \"54\"}, {\"stageid\": 3.0, \"executor_id\": \"9\", \"task_time\": 12374.0, \"host_ip\": \"10.205.7.3\", \"task_id\": \"57\"}, {\"stageid\": 5.0, \"executor_id\": \"20\", \"task_time\": 118340.0, \"host_ip\": \"10.205.7.4\", \"task_id\": \"91\"}, {\"stageid\": 5.0, \"executor_id\": \"5\", \"task_time\": 143259.0, \"host_ip\": \"10.205.9.10\", \"task_id\": \"88\"}, {\"stageid\": 5.0, \"executor_id\": \"23\", \"task_time\": 11207.0, \"host_ip\": \"10.205.7.15\", \"task_id\": \"89\"}, {\"stageid\": 5.0, \"executor_id\": \"10\", \"task_time\": 9668.0, \"host_ip\": \"10.205.9.11\", \"task_id\": \"111\"}, {\"stageid\": 5.0, \"executor_id\": \"15\", \"task_time\": 111939.0, \"host_ip\": \"10.205.4.26\", \"task_id\": \"110\"}, {\"stageid\": 5.0, \"executor_id\": \"0\", \"task_time\": 125724.0, \"host_ip\": \"10.205.4.2\", \"task_id\": \"90\"}, {\"stageid\": 5.0, \"executor_id\": \"6\", \"task_time\": 135350.0, \"host_ip\": \"10.205.9.14\", \"task_id\": \"86\"}, {\"stageid\": 5.0, \"executor_id\": \"17\", \"task_time\": 14093.0, \"host_ip\": \"10.205.9.5\", \"task_id\": \"93\"}, {\"stageid\": 5.0, \"executor_id\": \"18\", \"task_time\": 16027.0, \"host_ip\": \"10.205.7.25\", \"task_id\": \"85\"}, {\"stageid\": 5.0, \"executor_id\": \"11\", \"task_time\": 16641.0, \"host_ip\": \"10.205.3.29\", \"task_id\": \"92\"}, {\"stageid\": 5.0, \"executor_id\": \"4\", \"task_time\": 144528.0, \"host_ip\": \"10.205.9.10\", \"task_id\": \"106\"}, {\"stageid\": 5.0, \"executor_id\": \"13\", \"task_time\": 15046.0, \"host_ip\": \"10.205.7.31\", \"task_id\": \"87\"}, {\"stageid\": 5.0, \"executor_id\": \"22\", \"task_time\": 101592.0, \"host_ip\": \"10.205.3.34\", \"task_id\": \"97\"}, {\"stageid\": 5.0, \"executor_id\": \"24\", \"task_time\": 100013.0, \"host_ip\": \"10.205.3.20\", \"task_id\": \"105\"}, {\"stageid\": 5.0, \"executor_id\": \"26\", \"task_time\": 97505.0, \"host_ip\": \"10.205.4.34\", \"task_id\": \"99\"}, {\"stageid\": 5.0, \"executor_id\": \"25\", \"task_time\": 105238.0, \"host_ip\": \"10.205.8.12\", \"task_id\": \"98\"}, {\"stageid\": 5.0, \"executor_id\": \"2\", \"task_time\": 2479.0, \"host_ip\": \"10.205.8.44\", \"task_id\": \"108\"}, {\"stageid\": 5.0, \"executor_id\": \"9\", \"task_time\": 12317.0, \"host_ip\": \"10.205.7.3\", \"task_id\": \"109\"}, {\"stageid\": 5.0, \"executor_id\": \"1\", \"task_time\": 12139.0, \"host_ip\": \"10.205.7.61\", \"task_id\": \"102\"}, {\"stageid\": 5.0, \"executor_id\": \"7\", \"task_time\": 142086.0, \"host_ip\": \"10.205.4.30\", \"task_id\": \"103\"}, {\"stageid\": 5.0, \"executor_id\": \"3\", \"task_time\": 99240.0, \"host_ip\": \"10.205.8.12\", \"task_id\": \"100\"}, {\"stageid\": 5.0, \"executor_id\": \"16\", \"task_time\": 122776.0, \"host_ip\": \"10.205.4.18\", \"task_id\": \"101\"}, {\"stageid\": 5.0, \"executor_id\": \"12\", \"task_time\": 15842.0, \"host_ip\": \"10.205.3.29\", \"task_id\": \"95\"}, {\"stageid\": 5.0, \"executor_id\": \"14\", \"task_time\": 12041.0, \"host_ip\": \"10.205.4.45\", \"task_id\": \"94\"}, {\"stageid\": 5.0, \"executor_id\": \"21\", \"task_time\": 15277.0, \"host_ip\": \"10.205.9.9\", \"task_id\": \"104\"}, {\"stageid\": 5.0, \"executor_id\": \"8\", \"task_time\": 15230.0, \"host_ip\": \"10.205.3.35\", \"task_id\": \"96\"}, {\"stageid\": 5.0, \"executor_id\": \"19\", \"task_time\": 118547.0, \"host_ip\": \"10.205.3.44\", \"task_id\": \"107\"}, {\"stageid\": 7.0, \"executor_id\": \"12\", \"task_time\": 11919.0, \"host_ip\": \"10.205.3.29\", \"task_id\": \"151\"}, {\"stageid\": 7.0, \"executor_id\": \"21\", \"task_time\": 3394.0, \"host_ip\": \"10.205.9.9\", \"task_id\": \"150\"}, {\"stageid\": 7.0, \"executor_id\": \"14\", \"task_time\": 13874.0, \"host_ip\": \"10.205.4.45\", \"task_id\": \"153\"}, {\"stageid\": 7.0, \"executor_id\": \"8\", \"task_time\": 13243.0, \"host_ip\": \"10.205.3.35\", \"task_id\": \"152\"}, {\"stageid\": 7.0, \"executor_id\": \"22\", \"task_time\": 92394.0, \"host_ip\": \"10.205.3.34\", \"task_id\": \"155\"}, {\"stageid\": 7.0, \"executor_id\": \"2\", \"task_time\": 89225.0, \"host_ip\": \"10.205.8.44\", \"task_id\": \"154\"}, {\"stageid\": 7.0, \"executor_id\": \"11\", \"task_time\": 17715.0, \"host_ip\": \"10.205.3.29\", \"task_id\": \"157\"}, {\"stageid\": 7.0, \"executor_id\": \"16\", \"task_time\": 97226.0, \"host_ip\": \"10.205.4.18\", \"task_id\": \"156\"}, {\"stageid\": 7.0, \"executor_id\": \"6\", \"task_time\": 82797.0, \"host_ip\": \"10.205.9.14\", \"task_id\": \"159\"}, {\"stageid\": 7.0, \"executor_id\": \"13\", \"task_time\": 10190.0, \"host_ip\": \"10.205.7.31\", \"task_id\": \"158\"}, {\"stageid\": 7.0, \"executor_id\": \"19\", \"task_time\": 88315.0, \"host_ip\": \"10.205.3.44\", \"task_id\": \"139\"}, {\"stageid\": 7.0, \"executor_id\": \"18\", \"task_time\": 15503.0, \"host_ip\": \"10.205.7.25\", \"task_id\": \"146\"}, {\"stageid\": 7.0, \"executor_id\": \"24\", \"task_time\": 91023.0, \"host_ip\": \"10.205.3.20\", \"task_id\": \"147\"}, {\"stageid\": 7.0, \"executor_id\": \"10\", \"task_time\": 8711.0, \"host_ip\": \"10.205.9.11\", \"task_id\": \"144\"}, {\"stageid\": 7.0, \"executor_id\": \"9\", \"task_time\": 9533.0, \"host_ip\": \"10.205.7.3\", \"task_id\": \"145\"}, {\"stageid\": 7.0, \"executor_id\": \"20\", \"task_time\": 84570.0, \"host_ip\": \"10.205.7.4\", \"task_id\": \"142\"}, {\"stageid\": 7.0, \"executor_id\": \"7\", \"task_time\": 95809.0, \"host_ip\": \"10.205.4.30\", \"task_id\": \"143\"}, {\"stageid\": 7.0, \"executor_id\": \"25\", \"task_time\": 2757.0, \"host_ip\": \"10.205.8.12\", \"task_id\": \"140\"}, {\"stageid\": 7.0, \"executor_id\": \"26\", \"task_time\": 86634.0, \"host_ip\": \"10.205.4.34\", \"task_id\": \"141\"}, {\"stageid\": 7.0, \"executor_id\": \"0\", \"task_time\": 89978.0, \"host_ip\": \"10.205.4.2\", \"task_id\": \"148\"}, {\"stageid\": 7.0, \"executor_id\": \"5\", \"task_time\": 84293.0, \"host_ip\": \"10.205.9.10\", \"task_id\": \"149\"}, {\"stageid\": 7.0, \"executor_id\": \"1\", \"task_time\": 2743.0, \"host_ip\": \"10.205.7.61\", \"task_id\": \"164\"}, {\"stageid\": 7.0, \"executor_id\": \"3\", \"task_time\": 55475.0, \"host_ip\": \"10.205.8.12\", \"task_id\": \"165\"}, {\"stageid\": 7.0, \"executor_id\": \"17\", \"task_time\": 13232.0, \"host_ip\": \"10.205.9.5\", \"task_id\": \"160\"}, {\"stageid\": 7.0, \"executor_id\": \"15\", \"task_time\": 90530.0, \"host_ip\": \"10.205.4.26\", \"task_id\": \"161\"}, {\"stageid\": 7.0, \"executor_id\": \"23\", \"task_time\": 9764.0, \"host_ip\": \"10.205.7.15\", \"task_id\": \"162\"}, {\"stageid\": 7.0, \"executor_id\": \"4\", \"task_time\": 67428.0, \"host_ip\": \"10.205.9.10\", \"task_id\": \"163\"}]}, \"encoding\": {\"y\": {\"aggregate\": \"mean\", \"field\": \"task_time\", \"type\": \"quantitative\"}, \"color\": {\"field\": \"host_ip\", \"type\": \"nominal\"}, \"x\": {\"field\": \"host_ip\", \"type\": \"nominal\"}, \"row\": {\"field\": \"stageid\", \"type\": \"quantitative\"}}, \"config\": {\"cell\": {\"width\": 500, \"height\": 350}}, \"mark\": \"bar\"};\n",
       "var selector = \"#b5f1a6be-02f4-43a1-93a9-22d31432e583\";\n",
       "var type = \"vega-lite\";\n",
       "\n",
       "var output_area = this;\n",
       "require(['nbextensions/jupyter-vega/index'], function(vega) {\n",
       "  vega.render(selector, spec, type, output_area);\n",
       "}, function (err) {\n",
       "  if (err.requireType !== 'scripterror') {\n",
       "    throw(err);\n",
       "  }\n",
       "});\n"
      ]
     },
     "metadata": {
      "jupyter-vega": "#b5f1a6be-02f4-43a1-93a9-22d31432e583"
     },
     "output_type": "display_data"
    }
   ],
   "source": [
    "x = plot_tasks([3,5,7]);\n",
    "x"
   ]
  },
  {
   "cell_type": "code",
   "execution_count": 69,
   "metadata": {
    "collapsed": false
   },
   "outputs": [
    {
     "data": {
      "text/html": [
       "<div class=\"vega-embed\" id=\"7b404a85-353a-4067-83fd-311479bdb76c\"></div>\n",
       "\n",
       "<style>\n",
       ".vega-embed svg, .vega-embed canvas {\n",
       "  border: 1px dotted gray;\n",
       "}\n",
       "\n",
       ".vega-embed .vega-actions a {\n",
       "  margin-right: 6px;\n",
       "}\n",
       "</style>\n"
      ]
     },
     "metadata": {
      "jupyter-vega": "#7b404a85-353a-4067-83fd-311479bdb76c"
     },
     "output_type": "display_data"
    },
    {
     "data": {
      "application/javascript": [
       "var spec = {\"data\": {\"values\": [{\"stageid\": 3.0, \"executor_id\": \"12\", \"task_time\": 15847.0, \"host_ip\": \"10.205.3.29\", \"task_id\": \"37\"}, {\"stageid\": 3.0, \"executor_id\": \"3\", \"task_time\": 110982.0, \"host_ip\": \"10.205.8.12\", \"task_id\": \"50\"}, {\"stageid\": 3.0, \"executor_id\": \"23\", \"task_time\": 7787.0, \"host_ip\": \"10.205.7.15\", \"task_id\": \"53\"}, {\"stageid\": 3.0, \"executor_id\": \"2\", \"task_time\": 64997.0, \"host_ip\": \"10.205.8.44\", \"task_id\": \"52\"}, {\"stageid\": 3.0, \"executor_id\": \"17\", \"task_time\": 20175.0, \"host_ip\": \"10.205.9.5\", \"task_id\": \"48\"}, {\"stageid\": 3.0, \"executor_id\": \"8\", \"task_time\": 7524.0, \"host_ip\": \"10.205.3.35\", \"task_id\": \"49\"}, {\"stageid\": 3.0, \"executor_id\": \"21\", \"task_time\": 19715.0, \"host_ip\": \"10.205.9.9\", \"task_id\": \"46\"}, {\"stageid\": 3.0, \"executor_id\": \"10\", \"task_time\": 21370.0, \"host_ip\": \"10.205.9.11\", \"task_id\": \"47\"}, {\"stageid\": 3.0, \"executor_id\": \"19\", \"task_time\": 83195.0, \"host_ip\": \"10.205.3.44\", \"task_id\": \"44\"}, {\"stageid\": 3.0, \"executor_id\": \"15\", \"task_time\": 77696.0, \"host_ip\": \"10.205.4.26\", \"task_id\": \"45\"}, {\"stageid\": 3.0, \"executor_id\": \"5\", \"task_time\": 93890.0, \"host_ip\": \"10.205.9.10\", \"task_id\": \"42\"}, {\"stageid\": 3.0, \"executor_id\": \"4\", \"task_time\": 105950.0, \"host_ip\": \"10.205.9.10\", \"task_id\": \"43\"}, {\"stageid\": 3.0, \"executor_id\": \"18\", \"task_time\": 15468.0, \"host_ip\": \"10.205.7.25\", \"task_id\": \"40\"}, {\"stageid\": 3.0, \"executor_id\": \"26\", \"task_time\": 89991.0, \"host_ip\": \"10.205.4.34\", \"task_id\": \"41\"}, {\"stageid\": 3.0, \"executor_id\": \"14\", \"task_time\": 15059.0, \"host_ip\": \"10.205.4.45\", \"task_id\": \"39\"}, {\"stageid\": 3.0, \"executor_id\": \"25\", \"task_time\": 99491.0, \"host_ip\": \"10.205.8.12\", \"task_id\": \"38\"}, {\"stageid\": 3.0, \"executor_id\": \"1\", \"task_time\": 2621.0, \"host_ip\": \"10.205.7.61\", \"task_id\": \"33\"}, {\"stageid\": 3.0, \"executor_id\": \"6\", \"task_time\": 87772.0, \"host_ip\": \"10.205.9.14\", \"task_id\": \"32\"}, {\"stageid\": 3.0, \"executor_id\": \"0\", \"task_time\": 87003.0, \"host_ip\": \"10.205.4.2\", \"task_id\": \"31\"}, {\"stageid\": 3.0, \"executor_id\": \"22\", \"task_time\": 64496.0, \"host_ip\": \"10.205.3.34\", \"task_id\": \"56\"}, {\"stageid\": 3.0, \"executor_id\": \"11\", \"task_time\": 13589.0, \"host_ip\": \"10.205.3.29\", \"task_id\": \"51\"}, {\"stageid\": 3.0, \"executor_id\": \"20\", \"task_time\": 75483.0, \"host_ip\": \"10.205.7.4\", \"task_id\": \"36\"}, {\"stageid\": 3.0, \"executor_id\": \"16\", \"task_time\": 74801.0, \"host_ip\": \"10.205.4.18\", \"task_id\": \"35\"}, {\"stageid\": 3.0, \"executor_id\": \"7\", \"task_time\": 81863.0, \"host_ip\": \"10.205.4.30\", \"task_id\": \"34\"}, {\"stageid\": 3.0, \"executor_id\": \"13\", \"task_time\": 17902.0, \"host_ip\": \"10.205.7.31\", \"task_id\": \"55\"}, {\"stageid\": 3.0, \"executor_id\": \"24\", \"task_time\": 85849.0, \"host_ip\": \"10.205.3.20\", \"task_id\": \"54\"}, {\"stageid\": 3.0, \"executor_id\": \"9\", \"task_time\": 12374.0, \"host_ip\": \"10.205.7.3\", \"task_id\": \"57\"}, {\"stageid\": 5.0, \"executor_id\": \"20\", \"task_time\": 118340.0, \"host_ip\": \"10.205.7.4\", \"task_id\": \"91\"}, {\"stageid\": 5.0, \"executor_id\": \"5\", \"task_time\": 143259.0, \"host_ip\": \"10.205.9.10\", \"task_id\": \"88\"}, {\"stageid\": 5.0, \"executor_id\": \"23\", \"task_time\": 11207.0, \"host_ip\": \"10.205.7.15\", \"task_id\": \"89\"}, {\"stageid\": 5.0, \"executor_id\": \"10\", \"task_time\": 9668.0, \"host_ip\": \"10.205.9.11\", \"task_id\": \"111\"}, {\"stageid\": 5.0, \"executor_id\": \"15\", \"task_time\": 111939.0, \"host_ip\": \"10.205.4.26\", \"task_id\": \"110\"}, {\"stageid\": 5.0, \"executor_id\": \"0\", \"task_time\": 125724.0, \"host_ip\": \"10.205.4.2\", \"task_id\": \"90\"}, {\"stageid\": 5.0, \"executor_id\": \"6\", \"task_time\": 135350.0, \"host_ip\": \"10.205.9.14\", \"task_id\": \"86\"}, {\"stageid\": 5.0, \"executor_id\": \"17\", \"task_time\": 14093.0, \"host_ip\": \"10.205.9.5\", \"task_id\": \"93\"}, {\"stageid\": 5.0, \"executor_id\": \"18\", \"task_time\": 16027.0, \"host_ip\": \"10.205.7.25\", \"task_id\": \"85\"}, {\"stageid\": 5.0, \"executor_id\": \"11\", \"task_time\": 16641.0, \"host_ip\": \"10.205.3.29\", \"task_id\": \"92\"}, {\"stageid\": 5.0, \"executor_id\": \"4\", \"task_time\": 144528.0, \"host_ip\": \"10.205.9.10\", \"task_id\": \"106\"}, {\"stageid\": 5.0, \"executor_id\": \"13\", \"task_time\": 15046.0, \"host_ip\": \"10.205.7.31\", \"task_id\": \"87\"}, {\"stageid\": 5.0, \"executor_id\": \"22\", \"task_time\": 101592.0, \"host_ip\": \"10.205.3.34\", \"task_id\": \"97\"}, {\"stageid\": 5.0, \"executor_id\": \"24\", \"task_time\": 100013.0, \"host_ip\": \"10.205.3.20\", \"task_id\": \"105\"}, {\"stageid\": 5.0, \"executor_id\": \"26\", \"task_time\": 97505.0, \"host_ip\": \"10.205.4.34\", \"task_id\": \"99\"}, {\"stageid\": 5.0, \"executor_id\": \"25\", \"task_time\": 105238.0, \"host_ip\": \"10.205.8.12\", \"task_id\": \"98\"}, {\"stageid\": 5.0, \"executor_id\": \"2\", \"task_time\": 2479.0, \"host_ip\": \"10.205.8.44\", \"task_id\": \"108\"}, {\"stageid\": 5.0, \"executor_id\": \"9\", \"task_time\": 12317.0, \"host_ip\": \"10.205.7.3\", \"task_id\": \"109\"}, {\"stageid\": 5.0, \"executor_id\": \"1\", \"task_time\": 12139.0, \"host_ip\": \"10.205.7.61\", \"task_id\": \"102\"}, {\"stageid\": 5.0, \"executor_id\": \"7\", \"task_time\": 142086.0, \"host_ip\": \"10.205.4.30\", \"task_id\": \"103\"}, {\"stageid\": 5.0, \"executor_id\": \"3\", \"task_time\": 99240.0, \"host_ip\": \"10.205.8.12\", \"task_id\": \"100\"}, {\"stageid\": 5.0, \"executor_id\": \"16\", \"task_time\": 122776.0, \"host_ip\": \"10.205.4.18\", \"task_id\": \"101\"}, {\"stageid\": 5.0, \"executor_id\": \"12\", \"task_time\": 15842.0, \"host_ip\": \"10.205.3.29\", \"task_id\": \"95\"}, {\"stageid\": 5.0, \"executor_id\": \"14\", \"task_time\": 12041.0, \"host_ip\": \"10.205.4.45\", \"task_id\": \"94\"}, {\"stageid\": 5.0, \"executor_id\": \"21\", \"task_time\": 15277.0, \"host_ip\": \"10.205.9.9\", \"task_id\": \"104\"}, {\"stageid\": 5.0, \"executor_id\": \"8\", \"task_time\": 15230.0, \"host_ip\": \"10.205.3.35\", \"task_id\": \"96\"}, {\"stageid\": 5.0, \"executor_id\": \"19\", \"task_time\": 118547.0, \"host_ip\": \"10.205.3.44\", \"task_id\": \"107\"}, {\"stageid\": 7.0, \"executor_id\": \"12\", \"task_time\": 11919.0, \"host_ip\": \"10.205.3.29\", \"task_id\": \"151\"}, {\"stageid\": 7.0, \"executor_id\": \"21\", \"task_time\": 3394.0, \"host_ip\": \"10.205.9.9\", \"task_id\": \"150\"}, {\"stageid\": 7.0, \"executor_id\": \"14\", \"task_time\": 13874.0, \"host_ip\": \"10.205.4.45\", \"task_id\": \"153\"}, {\"stageid\": 7.0, \"executor_id\": \"8\", \"task_time\": 13243.0, \"host_ip\": \"10.205.3.35\", \"task_id\": \"152\"}, {\"stageid\": 7.0, \"executor_id\": \"22\", \"task_time\": 92394.0, \"host_ip\": \"10.205.3.34\", \"task_id\": \"155\"}, {\"stageid\": 7.0, \"executor_id\": \"2\", \"task_time\": 89225.0, \"host_ip\": \"10.205.8.44\", \"task_id\": \"154\"}, {\"stageid\": 7.0, \"executor_id\": \"11\", \"task_time\": 17715.0, \"host_ip\": \"10.205.3.29\", \"task_id\": \"157\"}, {\"stageid\": 7.0, \"executor_id\": \"16\", \"task_time\": 97226.0, \"host_ip\": \"10.205.4.18\", \"task_id\": \"156\"}, {\"stageid\": 7.0, \"executor_id\": \"6\", \"task_time\": 82797.0, \"host_ip\": \"10.205.9.14\", \"task_id\": \"159\"}, {\"stageid\": 7.0, \"executor_id\": \"13\", \"task_time\": 10190.0, \"host_ip\": \"10.205.7.31\", \"task_id\": \"158\"}, {\"stageid\": 7.0, \"executor_id\": \"19\", \"task_time\": 88315.0, \"host_ip\": \"10.205.3.44\", \"task_id\": \"139\"}, {\"stageid\": 7.0, \"executor_id\": \"18\", \"task_time\": 15503.0, \"host_ip\": \"10.205.7.25\", \"task_id\": \"146\"}, {\"stageid\": 7.0, \"executor_id\": \"24\", \"task_time\": 91023.0, \"host_ip\": \"10.205.3.20\", \"task_id\": \"147\"}, {\"stageid\": 7.0, \"executor_id\": \"10\", \"task_time\": 8711.0, \"host_ip\": \"10.205.9.11\", \"task_id\": \"144\"}, {\"stageid\": 7.0, \"executor_id\": \"9\", \"task_time\": 9533.0, \"host_ip\": \"10.205.7.3\", \"task_id\": \"145\"}, {\"stageid\": 7.0, \"executor_id\": \"20\", \"task_time\": 84570.0, \"host_ip\": \"10.205.7.4\", \"task_id\": \"142\"}, {\"stageid\": 7.0, \"executor_id\": \"7\", \"task_time\": 95809.0, \"host_ip\": \"10.205.4.30\", \"task_id\": \"143\"}, {\"stageid\": 7.0, \"executor_id\": \"25\", \"task_time\": 2757.0, \"host_ip\": \"10.205.8.12\", \"task_id\": \"140\"}, {\"stageid\": 7.0, \"executor_id\": \"26\", \"task_time\": 86634.0, \"host_ip\": \"10.205.4.34\", \"task_id\": \"141\"}, {\"stageid\": 7.0, \"executor_id\": \"0\", \"task_time\": 89978.0, \"host_ip\": \"10.205.4.2\", \"task_id\": \"148\"}, {\"stageid\": 7.0, \"executor_id\": \"5\", \"task_time\": 84293.0, \"host_ip\": \"10.205.9.10\", \"task_id\": \"149\"}, {\"stageid\": 7.0, \"executor_id\": \"1\", \"task_time\": 2743.0, \"host_ip\": \"10.205.7.61\", \"task_id\": \"164\"}, {\"stageid\": 7.0, \"executor_id\": \"3\", \"task_time\": 55475.0, \"host_ip\": \"10.205.8.12\", \"task_id\": \"165\"}, {\"stageid\": 7.0, \"executor_id\": \"17\", \"task_time\": 13232.0, \"host_ip\": \"10.205.9.5\", \"task_id\": \"160\"}, {\"stageid\": 7.0, \"executor_id\": \"15\", \"task_time\": 90530.0, \"host_ip\": \"10.205.4.26\", \"task_id\": \"161\"}, {\"stageid\": 7.0, \"executor_id\": \"23\", \"task_time\": 9764.0, \"host_ip\": \"10.205.7.15\", \"task_id\": \"162\"}, {\"stageid\": 7.0, \"executor_id\": \"4\", \"task_time\": 67428.0, \"host_ip\": \"10.205.9.10\", \"task_id\": \"163\"}]}, \"encoding\": {\"y\": {\"aggregate\": \"mean\", \"field\": \"task_time\", \"type\": \"quantitative\"}, \"color\": {\"field\": \"host_ip\", \"type\": \"nominal\"}, \"x\": {\"field\": \"host_ip\", \"type\": \"nominal\"}, \"row\": {\"field\": \"stageid\", \"type\": \"quantitative\"}}, \"config\": {\"cell\": {\"width\": 500, \"height\": 350}}, \"mark\": \"bar\"};\n",
       "var selector = \"#7b404a85-353a-4067-83fd-311479bdb76c\";\n",
       "var type = \"vega-lite\";\n",
       "\n",
       "var output_area = this;\n",
       "require(['nbextensions/jupyter-vega/index'], function(vega) {\n",
       "  vega.render(selector, spec, type, output_area);\n",
       "}, function (err) {\n",
       "  if (err.requireType !== 'scripterror') {\n",
       "    throw(err);\n",
       "  }\n",
       "});\n"
      ]
     },
     "metadata": {
      "jupyter-vega": "#7b404a85-353a-4067-83fd-311479bdb76c"
     },
     "output_type": "display_data"
    },
    {
     "data": {
      "image/png": "[encoded data removed]"
     },
     "metadata": {
      "jupyter-vega": "#7b404a85-353a-4067-83fd-311479bdb76c"
     },
     "output_type": "display_data"
    }
   ],
   "source": [
    "x"
   ]
  },
  {
   "cell_type": "code",
   "execution_count": 61,
   "metadata": {
    "collapsed": false
   },
   "outputs": [
    {
     "name": "stdout",
     "output_type": "stream",
     "text": [
      "CPU times: user 23 ms, sys: 4 ms, total: 27 ms\n",
      "Wall time: 55.8 s\n"
     ]
    }
   ],
   "source": [
    "%time limits = p_rdd.mapPartitionsWithIndex(get_minmax).collect()"
   ]
  },
  {
   "cell_type": "code",
   "execution_count": 64,
   "metadata": {
    "collapsed": false
   },
   "outputs": [
    {
     "data": {
      "image/png": "[encoded data removed]",
      "text/plain": [
       "<matplotlib.figure.Figure at 0x2b15bf36e650>"
      ]
     },
     "metadata": {},
     "output_type": "display_data"
    }
   ],
   "source": [
    "ax = plt.subplot(aspect='equal')\n",
    "for i in range(len(limits)):\n",
    "    x = 0\n",
    "    y = 2\n",
    "    mins = limits[i][1][0]\n",
    "    maxs = limits[i][1][1]\n",
    "    size = maxs-mins\n",
    "    ax.add_patch(patches.Rectangle((mins[x],mins[y]),size[0], size[1], fill=False))\n",
    "    ax.text(mins[x],mins[y], str(i))\n",
    "ax.set_xlim(-0.1,.1)\n",
    "ax.set_ylim(-.1,.1)\n",
    "plt.draw()\n",
    "plt.show()"
   ]
  },
  {
   "cell_type": "markdown",
   "metadata": {},
   "source": [
    "### Preliminaries, setting the domain size and global grid mapping"
   ]
  },
  {
   "cell_type": "code",
   "execution_count": 65,
   "metadata": {
    "collapsed": true
   },
   "outputs": [],
   "source": [
    "#diff = (limits[0][1][1] - limits[0][1][0])[0]"
   ]
  },
  {
   "cell_type": "markdown",
   "metadata": {},
   "source": [
    "### Run FOF and Merge groups"
   ]
  },
  {
   "cell_type": "code",
   "execution_count": 19,
   "metadata": {
    "collapsed": true
   },
   "outputs": [],
   "source": [
    "import spark_fof"
   ]
  },
  {
   "cell_type": "code",
   "execution_count": 20,
   "metadata": {
    "collapsed": false
   },
   "outputs": [],
   "source": [
    "#diff = (limits[0][1][1] - limits[0][1][0])[0]\n",
    "diff = np.float32(0.033068776)\n",
    "global_min = -31*diff\n",
    "global_max = 31*diff\n",
    "\n",
    "dom_maxs = np.array([global_max]*3, dtype=np.float64)\n",
    "dom_mins = np.array([global_min]*3, dtype=np.float64)\n",
    "\n",
    "#tau = diff*5./125.\n",
    "tau = 0.2/12600\n",
    "buffer_tau = diff*5./150."
   ]
  },
  {
   "cell_type": "code",
   "execution_count": 38,
   "metadata": {
    "collapsed": false
   },
   "outputs": [
    {
     "data": {
      "text/plain": [
       "<module 'spark_fof.spark_fof_c' from '/cluster/project/sis/ri/roskarr/spark-fof/spark_fof/spark_fof_c.so'>"
      ]
     },
     "execution_count": 38,
     "metadata": {},
     "output_type": "execute_result"
    }
   ],
   "source": [
    "reload(spark_fof.spark_fof)\n",
    "reload(spark_fof)\n",
    "reload(spark_fof.spark_fof_c)\n",
    "\n",
    "# fof_analyzer = spark_fof.spark_fof.FOFAnalyzer(sc, p_rdd, 64, 62, tau, dom_mins, dom_maxs, Npartitions=27, buffer_tau=tau*2)\n",
    "# global_to_cutout_map = {}\n",
    "# for k,v in ids_map.iteritems(): \n",
    "#     global_to_cutout_map[map_file_to_domain(k)] = v"
   ]
  },
  {
   "cell_type": "code",
   "execution_count": null,
   "metadata": {
    "collapsed": false
   },
   "outputs": [
    {
     "name": "stdout",
     "output_type": "stream",
     "text": [
      "Number of input files:  27\n"
     ]
    }
   ],
   "source": [
    "path = '/cluster/home/roskarr/work/2Tlc-final/'\n",
    "fof_analyzer2 = spark_fof.spark_fof.LCFOFAnalyzer(sc, path, 64, 62, tau, dom_mins, dom_maxs, blockids=[30,31,32],Npartitions=27, buffer_tau=tau*2)"
   ]
  },
  {
   "cell_type": "code",
   "execution_count": 59,
   "metadata": {
    "collapsed": true
   },
   "outputs": [],
   "source": [
    "### THIS MUST BE FIXED IN THE MAIN CODE\n",
    "fof_analyzer.global_to_local_map = global_to_cutout_map"
   ]
  },
  {
   "cell_type": "code",
   "execution_count": 60,
   "metadata": {
    "collapsed": true
   },
   "outputs": [],
   "source": [
    "def ghost_counts(index, iterator): \n",
    "    nghosts = 0\n",
    "    nghosts_copy = 0\n",
    "    nother = 0\n",
    "    for arr in iterator: \n",
    "        nghosts += len(np.where(arr['is_ghost']==1)[0])\n",
    "        nghosts_copy += len(np.where(arr['is_ghost']==2)[0])\n",
    "        nother += len(np.where(arr['is_ghost']==0)[0])\n",
    "    yield index,nother,nghosts,nghosts_copy"
   ]
  },
  {
   "cell_type": "code",
   "execution_count": 37,
   "metadata": {
    "collapsed": false
   },
   "outputs": [
    {
     "data": {
      "text/plain": [
       "[(0, 75258991, 181981, 64763),\n",
       " (1, 74374559, 230569, 35),\n",
       " (2, 68408703, 185563, 17),\n",
       " (3, 66225895, 206117, 19),\n",
       " (4, 75029145, 213954, 14),\n",
       " (5, 73326694, 216637, 8)]"
      ]
     },
     "execution_count": 37,
     "metadata": {},
     "output_type": "execute_result"
    }
   ],
   "source": [
    "tot_rdd.mapPartitionsWithIndex(ghost_counts).collect()"
   ]
  },
  {
   "cell_type": "code",
   "execution_count": 61,
   "metadata": {
    "collapsed": false
   },
   "outputs": [
    {
     "ename": "Py4JJavaError",
     "evalue": "An error occurred while calling z:org.apache.spark.api.python.PythonRDD.collectAndServe.\n: org.apache.spark.SparkException: Job 2 cancelled because Stage 6 was cancelled\n\tat org.apache.spark.scheduler.DAGScheduler.org$apache$spark$scheduler$DAGScheduler$$failJobAndIndependentStages(DAGScheduler.scala:1454)\n\tat org.apache.spark.scheduler.DAGScheduler.handleJobCancellation(DAGScheduler.scala:1393)\n\tat org.apache.spark.scheduler.DAGScheduler$$anonfun$handleStageCancellation$1.apply$mcVI$sp(DAGScheduler.scala:1381)\n\tat org.apache.spark.scheduler.DAGScheduler$$anonfun$handleStageCancellation$1.apply(DAGScheduler.scala:1380)\n\tat org.apache.spark.scheduler.DAGScheduler$$anonfun$handleStageCancellation$1.apply(DAGScheduler.scala:1380)\n\tat scala.collection.IndexedSeqOptimized$class.foreach(IndexedSeqOptimized.scala:33)\n\tat scala.collection.mutable.ArrayOps$ofInt.foreach(ArrayOps.scala:234)\n\tat org.apache.spark.scheduler.DAGScheduler.handleStageCancellation(DAGScheduler.scala:1380)\n\tat org.apache.spark.scheduler.DAGSchedulerEventProcessLoop.doOnReceive(DAGScheduler.scala:1636)\n\tat org.apache.spark.scheduler.DAGSchedulerEventProcessLoop.onReceive(DAGScheduler.scala:1622)\n\tat org.apache.spark.scheduler.DAGSchedulerEventProcessLoop.onReceive(DAGScheduler.scala:1611)\n\tat org.apache.spark.util.EventLoop$$anon$1.run(EventLoop.scala:48)\n\tat org.apache.spark.scheduler.DAGScheduler.runJob(DAGScheduler.scala:632)\n\tat org.apache.spark.SparkContext.runJob(SparkContext.scala:1890)\n\tat org.apache.spark.SparkContext.runJob(SparkContext.scala:1903)\n\tat org.apache.spark.SparkContext.runJob(SparkContext.scala:1916)\n\tat org.apache.spark.SparkContext.runJob(SparkContext.scala:1930)\n\tat org.apache.spark.rdd.RDD$$anonfun$collect$1.apply(RDD.scala:912)\n\tat org.apache.spark.rdd.RDDOperationScope$.withScope(RDDOperationScope.scala:151)\n\tat org.apache.spark.rdd.RDDOperationScope$.withScope(RDDOperationScope.scala:112)\n\tat org.apache.spark.rdd.RDD.withScope(RDD.scala:358)\n\tat org.apache.spark.rdd.RDD.collect(RDD.scala:911)\n\tat org.apache.spark.api.python.PythonRDD$.collectAndServe(PythonRDD.scala:453)\n\tat org.apache.spark.api.python.PythonRDD.collectAndServe(PythonRDD.scala)\n\tat sun.reflect.NativeMethodAccessorImpl.invoke0(Native Method)\n\tat sun.reflect.NativeMethodAccessorImpl.invoke(NativeMethodAccessorImpl.java:62)\n\tat sun.reflect.DelegatingMethodAccessorImpl.invoke(DelegatingMethodAccessorImpl.java:43)\n\tat java.lang.reflect.Method.invoke(Method.java:483)\n\tat py4j.reflection.MethodInvoker.invoke(MethodInvoker.java:237)\n\tat py4j.reflection.ReflectionEngine.invoke(ReflectionEngine.java:357)\n\tat py4j.Gateway.invoke(Gateway.java:280)\n\tat py4j.commands.AbstractCommand.invokeMethod(AbstractCommand.java:132)\n\tat py4j.commands.CallCommand.execute(CallCommand.java:79)\n\tat py4j.GatewayConnection.run(GatewayConnection.java:214)\n\tat java.lang.Thread.run(Thread.java:745)\n",
     "output_type": "error",
     "traceback": [
      "\u001b[0;31m\u001b[0m",
      "\u001b[0;31mPy4JJavaError\u001b[0mTraceback (most recent call last)",
      "\u001b[0;32m<ipython-input-61-9dd364815f82>\u001b[0m in \u001b[0;36m<module>\u001b[0;34m()\u001b[0m\n\u001b[0;32m----> 1\u001b[0;31m \u001b[0mfof_analyzer2\u001b[0m\u001b[0;34m.\u001b[0m\u001b[0mpartitioned_rdd\u001b[0m\u001b[0;34m.\u001b[0m\u001b[0mmapPartitionsWithIndex\u001b[0m\u001b[0;34m(\u001b[0m\u001b[0mghost_counts\u001b[0m\u001b[0;34m)\u001b[0m\u001b[0;34m.\u001b[0m\u001b[0mcollect\u001b[0m\u001b[0;34m(\u001b[0m\u001b[0;34m)\u001b[0m\u001b[0;34m\u001b[0m\u001b[0m\n\u001b[0m",
      "\u001b[0;32m/cluster/home/roskarr/spark/python/pyspark/rdd.pyc\u001b[0m in \u001b[0;36mcollect\u001b[0;34m(self)\u001b[0m\n\u001b[1;32m    774\u001b[0m         \"\"\"\n\u001b[1;32m    775\u001b[0m         \u001b[0;32mwith\u001b[0m \u001b[0mSCCallSiteSync\u001b[0m\u001b[0;34m(\u001b[0m\u001b[0mself\u001b[0m\u001b[0;34m.\u001b[0m\u001b[0mcontext\u001b[0m\u001b[0;34m)\u001b[0m \u001b[0;32mas\u001b[0m \u001b[0mcss\u001b[0m\u001b[0;34m:\u001b[0m\u001b[0;34m\u001b[0m\u001b[0m\n\u001b[0;32m--> 776\u001b[0;31m             \u001b[0mport\u001b[0m \u001b[0;34m=\u001b[0m \u001b[0mself\u001b[0m\u001b[0;34m.\u001b[0m\u001b[0mctx\u001b[0m\u001b[0;34m.\u001b[0m\u001b[0m_jvm\u001b[0m\u001b[0;34m.\u001b[0m\u001b[0mPythonRDD\u001b[0m\u001b[0;34m.\u001b[0m\u001b[0mcollectAndServe\u001b[0m\u001b[0;34m(\u001b[0m\u001b[0mself\u001b[0m\u001b[0;34m.\u001b[0m\u001b[0m_jrdd\u001b[0m\u001b[0;34m.\u001b[0m\u001b[0mrdd\u001b[0m\u001b[0;34m(\u001b[0m\u001b[0;34m)\u001b[0m\u001b[0;34m)\u001b[0m\u001b[0;34m\u001b[0m\u001b[0m\n\u001b[0m\u001b[1;32m    777\u001b[0m         \u001b[0;32mreturn\u001b[0m \u001b[0mlist\u001b[0m\u001b[0;34m(\u001b[0m\u001b[0m_load_from_socket\u001b[0m\u001b[0;34m(\u001b[0m\u001b[0mport\u001b[0m\u001b[0;34m,\u001b[0m \u001b[0mself\u001b[0m\u001b[0;34m.\u001b[0m\u001b[0m_jrdd_deserializer\u001b[0m\u001b[0;34m)\u001b[0m\u001b[0;34m)\u001b[0m\u001b[0;34m\u001b[0m\u001b[0m\n\u001b[1;32m    778\u001b[0m \u001b[0;34m\u001b[0m\u001b[0m\n",
      "\u001b[0;32m/cluster/home/roskarr/spark/python/lib/py4j-0.10.3-src.zip/py4j/java_gateway.py\u001b[0m in \u001b[0;36m__call__\u001b[0;34m(self, *args)\u001b[0m\n\u001b[1;32m   1131\u001b[0m         \u001b[0manswer\u001b[0m \u001b[0;34m=\u001b[0m \u001b[0mself\u001b[0m\u001b[0;34m.\u001b[0m\u001b[0mgateway_client\u001b[0m\u001b[0;34m.\u001b[0m\u001b[0msend_command\u001b[0m\u001b[0;34m(\u001b[0m\u001b[0mcommand\u001b[0m\u001b[0;34m)\u001b[0m\u001b[0;34m\u001b[0m\u001b[0m\n\u001b[1;32m   1132\u001b[0m         return_value = get_return_value(\n\u001b[0;32m-> 1133\u001b[0;31m             answer, self.gateway_client, self.target_id, self.name)\n\u001b[0m\u001b[1;32m   1134\u001b[0m \u001b[0;34m\u001b[0m\u001b[0m\n\u001b[1;32m   1135\u001b[0m         \u001b[0;32mfor\u001b[0m \u001b[0mtemp_arg\u001b[0m \u001b[0;32min\u001b[0m \u001b[0mtemp_args\u001b[0m\u001b[0;34m:\u001b[0m\u001b[0;34m\u001b[0m\u001b[0m\n",
      "\u001b[0;32m/cluster/home/roskarr/spark/python/lib/py4j-0.10.3-src.zip/py4j/protocol.py\u001b[0m in \u001b[0;36mget_return_value\u001b[0;34m(answer, gateway_client, target_id, name)\u001b[0m\n\u001b[1;32m    317\u001b[0m                 raise Py4JJavaError(\n\u001b[1;32m    318\u001b[0m                     \u001b[0;34m\"An error occurred while calling {0}{1}{2}.\\n\"\u001b[0m\u001b[0;34m.\u001b[0m\u001b[0;34m\u001b[0m\u001b[0m\n\u001b[0;32m--> 319\u001b[0;31m                     format(target_id, \".\", name), value)\n\u001b[0m\u001b[1;32m    320\u001b[0m             \u001b[0;32melse\u001b[0m\u001b[0;34m:\u001b[0m\u001b[0;34m\u001b[0m\u001b[0m\n\u001b[1;32m    321\u001b[0m                 raise Py4JError(\n",
      "\u001b[0;31mPy4JJavaError\u001b[0m: An error occurred while calling z:org.apache.spark.api.python.PythonRDD.collectAndServe.\n: org.apache.spark.SparkException: Job 2 cancelled because Stage 6 was cancelled\n\tat org.apache.spark.scheduler.DAGScheduler.org$apache$spark$scheduler$DAGScheduler$$failJobAndIndependentStages(DAGScheduler.scala:1454)\n\tat org.apache.spark.scheduler.DAGScheduler.handleJobCancellation(DAGScheduler.scala:1393)\n\tat org.apache.spark.scheduler.DAGScheduler$$anonfun$handleStageCancellation$1.apply$mcVI$sp(DAGScheduler.scala:1381)\n\tat org.apache.spark.scheduler.DAGScheduler$$anonfun$handleStageCancellation$1.apply(DAGScheduler.scala:1380)\n\tat org.apache.spark.scheduler.DAGScheduler$$anonfun$handleStageCancellation$1.apply(DAGScheduler.scala:1380)\n\tat scala.collection.IndexedSeqOptimized$class.foreach(IndexedSeqOptimized.scala:33)\n\tat scala.collection.mutable.ArrayOps$ofInt.foreach(ArrayOps.scala:234)\n\tat org.apache.spark.scheduler.DAGScheduler.handleStageCancellation(DAGScheduler.scala:1380)\n\tat org.apache.spark.scheduler.DAGSchedulerEventProcessLoop.doOnReceive(DAGScheduler.scala:1636)\n\tat org.apache.spark.scheduler.DAGSchedulerEventProcessLoop.onReceive(DAGScheduler.scala:1622)\n\tat org.apache.spark.scheduler.DAGSchedulerEventProcessLoop.onReceive(DAGScheduler.scala:1611)\n\tat org.apache.spark.util.EventLoop$$anon$1.run(EventLoop.scala:48)\n\tat org.apache.spark.scheduler.DAGScheduler.runJob(DAGScheduler.scala:632)\n\tat org.apache.spark.SparkContext.runJob(SparkContext.scala:1890)\n\tat org.apache.spark.SparkContext.runJob(SparkContext.scala:1903)\n\tat org.apache.spark.SparkContext.runJob(SparkContext.scala:1916)\n\tat org.apache.spark.SparkContext.runJob(SparkContext.scala:1930)\n\tat org.apache.spark.rdd.RDD$$anonfun$collect$1.apply(RDD.scala:912)\n\tat org.apache.spark.rdd.RDDOperationScope$.withScope(RDDOperationScope.scala:151)\n\tat org.apache.spark.rdd.RDDOperationScope$.withScope(RDDOperationScope.scala:112)\n\tat org.apache.spark.rdd.RDD.withScope(RDD.scala:358)\n\tat org.apache.spark.rdd.RDD.collect(RDD.scala:911)\n\tat org.apache.spark.api.python.PythonRDD$.collectAndServe(PythonRDD.scala:453)\n\tat org.apache.spark.api.python.PythonRDD.collectAndServe(PythonRDD.scala)\n\tat sun.reflect.NativeMethodAccessorImpl.invoke0(Native Method)\n\tat sun.reflect.NativeMethodAccessorImpl.invoke(NativeMethodAccessorImpl.java:62)\n\tat sun.reflect.DelegatingMethodAccessorImpl.invoke(DelegatingMethodAccessorImpl.java:43)\n\tat java.lang.reflect.Method.invoke(Method.java:483)\n\tat py4j.reflection.MethodInvoker.invoke(MethodInvoker.java:237)\n\tat py4j.reflection.ReflectionEngine.invoke(ReflectionEngine.java:357)\n\tat py4j.Gateway.invoke(Gateway.java:280)\n\tat py4j.commands.AbstractCommand.invokeMethod(AbstractCommand.java:132)\n\tat py4j.commands.CallCommand.execute(CallCommand.java:79)\n\tat py4j.GatewayConnection.run(GatewayConnection.java:214)\n\tat java.lang.Thread.run(Thread.java:745)\n"
     ]
    }
   ],
   "source": [
    "fof_analyzer2.partitioned_rdd.mapPartitionsWithIndex(ghost_counts).collect()"
   ]
  },
  {
   "cell_type": "code",
   "execution_count": null,
   "metadata": {
    "collapsed": false
   },
   "outputs": [],
   "source": [
    "len(fof_analyzer2.groups)"
   ]
  },
  {
   "cell_type": "code",
   "execution_count": null,
   "metadata": {
    "collapsed": false
   },
   "outputs": [],
   "source": [
    "fof_analyzer.partitioned_rdd.mapPartitionsWithIndex(ghost_counts).collect()"
   ]
  },
  {
   "cell_type": "code",
   "execution_count": null,
   "metadata": {
    "collapsed": false
   },
   "outputs": [],
   "source": [
    "len(fof_analyzer.groups)"
   ]
  },
  {
   "cell_type": "code",
   "execution_count": 26,
   "metadata": {
    "collapsed": false
   },
   "outputs": [
    {
     "ename": "Py4JJavaError",
     "evalue": "An error occurred while calling z:org.apache.spark.api.python.PythonRDD.collectAndServe.\n: org.apache.spark.SparkException: Job 1 cancelled because Stage 3 was cancelled\n\tat org.apache.spark.scheduler.DAGScheduler.org$apache$spark$scheduler$DAGScheduler$$failJobAndIndependentStages(DAGScheduler.scala:1454)\n\tat org.apache.spark.scheduler.DAGScheduler.handleJobCancellation(DAGScheduler.scala:1393)\n\tat org.apache.spark.scheduler.DAGScheduler$$anonfun$handleStageCancellation$1.apply$mcVI$sp(DAGScheduler.scala:1381)\n\tat org.apache.spark.scheduler.DAGScheduler$$anonfun$handleStageCancellation$1.apply(DAGScheduler.scala:1380)\n\tat org.apache.spark.scheduler.DAGScheduler$$anonfun$handleStageCancellation$1.apply(DAGScheduler.scala:1380)\n\tat scala.collection.IndexedSeqOptimized$class.foreach(IndexedSeqOptimized.scala:33)\n\tat scala.collection.mutable.ArrayOps$ofInt.foreach(ArrayOps.scala:234)\n\tat org.apache.spark.scheduler.DAGScheduler.handleStageCancellation(DAGScheduler.scala:1380)\n\tat org.apache.spark.scheduler.DAGSchedulerEventProcessLoop.doOnReceive(DAGScheduler.scala:1636)\n\tat org.apache.spark.scheduler.DAGSchedulerEventProcessLoop.onReceive(DAGScheduler.scala:1622)\n\tat org.apache.spark.scheduler.DAGSchedulerEventProcessLoop.onReceive(DAGScheduler.scala:1611)\n\tat org.apache.spark.util.EventLoop$$anon$1.run(EventLoop.scala:48)\n\tat org.apache.spark.scheduler.DAGScheduler.runJob(DAGScheduler.scala:632)\n\tat org.apache.spark.SparkContext.runJob(SparkContext.scala:1890)\n\tat org.apache.spark.SparkContext.runJob(SparkContext.scala:1903)\n\tat org.apache.spark.SparkContext.runJob(SparkContext.scala:1916)\n\tat org.apache.spark.SparkContext.runJob(SparkContext.scala:1930)\n\tat org.apache.spark.rdd.RDD$$anonfun$collect$1.apply(RDD.scala:912)\n\tat org.apache.spark.rdd.RDDOperationScope$.withScope(RDDOperationScope.scala:151)\n\tat org.apache.spark.rdd.RDDOperationScope$.withScope(RDDOperationScope.scala:112)\n\tat org.apache.spark.rdd.RDD.withScope(RDD.scala:358)\n\tat org.apache.spark.rdd.RDD.collect(RDD.scala:911)\n\tat org.apache.spark.api.python.PythonRDD$.collectAndServe(PythonRDD.scala:453)\n\tat org.apache.spark.api.python.PythonRDD.collectAndServe(PythonRDD.scala)\n\tat sun.reflect.NativeMethodAccessorImpl.invoke0(Native Method)\n\tat sun.reflect.NativeMethodAccessorImpl.invoke(NativeMethodAccessorImpl.java:62)\n\tat sun.reflect.DelegatingMethodAccessorImpl.invoke(DelegatingMethodAccessorImpl.java:43)\n\tat java.lang.reflect.Method.invoke(Method.java:483)\n\tat py4j.reflection.MethodInvoker.invoke(MethodInvoker.java:237)\n\tat py4j.reflection.ReflectionEngine.invoke(ReflectionEngine.java:357)\n\tat py4j.Gateway.invoke(Gateway.java:280)\n\tat py4j.commands.AbstractCommand.invokeMethod(AbstractCommand.java:132)\n\tat py4j.commands.CallCommand.execute(CallCommand.java:79)\n\tat py4j.GatewayConnection.run(GatewayConnection.java:214)\n\tat java.lang.Thread.run(Thread.java:745)\n",
     "output_type": "error",
     "traceback": [
      "\u001b[0;31m---------------------------------------------------------------------------\u001b[0m",
      "\u001b[0;31mPy4JJavaError\u001b[0m                             Traceback (most recent call last)",
      "\u001b[0;32m<ipython-input-26-cbe74f18f97a>\u001b[0m in \u001b[0;36m<module>\u001b[0;34m()\u001b[0m\n\u001b[0;32m----> 1\u001b[0;31m \u001b[0mget_ipython\u001b[0m\u001b[0;34m(\u001b[0m\u001b[0;34m)\u001b[0m\u001b[0;34m.\u001b[0m\u001b[0mrun_cell_magic\u001b[0m\u001b[0;34m(\u001b[0m\u001b[0;34mu'time'\u001b[0m\u001b[0;34m,\u001b[0m \u001b[0;34mu''\u001b[0m\u001b[0;34m,\u001b[0m \u001b[0;34mu'fof_rdd = fof_analyzer.fof_rdd\\nfof_rdd.count()'\u001b[0m\u001b[0;34m)\u001b[0m\u001b[0;34m\u001b[0m\u001b[0m\n\u001b[0m",
      "\u001b[0;32m/cluster/home/roskarr/miniconda2/lib/python2.7/site-packages/IPython/core/interactiveshell.pyc\u001b[0m in \u001b[0;36mrun_cell_magic\u001b[0;34m(self, magic_name, line, cell)\u001b[0m\n\u001b[1;32m   2113\u001b[0m             \u001b[0mmagic_arg_s\u001b[0m \u001b[0;34m=\u001b[0m \u001b[0mself\u001b[0m\u001b[0;34m.\u001b[0m\u001b[0mvar_expand\u001b[0m\u001b[0;34m(\u001b[0m\u001b[0mline\u001b[0m\u001b[0;34m,\u001b[0m \u001b[0mstack_depth\u001b[0m\u001b[0;34m)\u001b[0m\u001b[0;34m\u001b[0m\u001b[0m\n\u001b[1;32m   2114\u001b[0m             \u001b[0;32mwith\u001b[0m \u001b[0mself\u001b[0m\u001b[0;34m.\u001b[0m\u001b[0mbuiltin_trap\u001b[0m\u001b[0;34m:\u001b[0m\u001b[0;34m\u001b[0m\u001b[0m\n\u001b[0;32m-> 2115\u001b[0;31m                 \u001b[0mresult\u001b[0m \u001b[0;34m=\u001b[0m \u001b[0mfn\u001b[0m\u001b[0;34m(\u001b[0m\u001b[0mmagic_arg_s\u001b[0m\u001b[0;34m,\u001b[0m \u001b[0mcell\u001b[0m\u001b[0;34m)\u001b[0m\u001b[0;34m\u001b[0m\u001b[0m\n\u001b[0m\u001b[1;32m   2116\u001b[0m             \u001b[0;32mreturn\u001b[0m \u001b[0mresult\u001b[0m\u001b[0;34m\u001b[0m\u001b[0m\n\u001b[1;32m   2117\u001b[0m \u001b[0;34m\u001b[0m\u001b[0m\n",
      "\u001b[0;32m<decorator-gen-59>\u001b[0m in \u001b[0;36mtime\u001b[0;34m(self, line, cell, local_ns)\u001b[0m\n",
      "\u001b[0;32m/cluster/home/roskarr/miniconda2/lib/python2.7/site-packages/IPython/core/magic.pyc\u001b[0m in \u001b[0;36m<lambda>\u001b[0;34m(f, *a, **k)\u001b[0m\n\u001b[1;32m    186\u001b[0m     \u001b[0;31m# but it's overkill for just that one bit of state.\u001b[0m\u001b[0;34m\u001b[0m\u001b[0;34m\u001b[0m\u001b[0m\n\u001b[1;32m    187\u001b[0m     \u001b[0;32mdef\u001b[0m \u001b[0mmagic_deco\u001b[0m\u001b[0;34m(\u001b[0m\u001b[0marg\u001b[0m\u001b[0;34m)\u001b[0m\u001b[0;34m:\u001b[0m\u001b[0;34m\u001b[0m\u001b[0m\n\u001b[0;32m--> 188\u001b[0;31m         \u001b[0mcall\u001b[0m \u001b[0;34m=\u001b[0m \u001b[0;32mlambda\u001b[0m \u001b[0mf\u001b[0m\u001b[0;34m,\u001b[0m \u001b[0;34m*\u001b[0m\u001b[0ma\u001b[0m\u001b[0;34m,\u001b[0m \u001b[0;34m**\u001b[0m\u001b[0mk\u001b[0m\u001b[0;34m:\u001b[0m \u001b[0mf\u001b[0m\u001b[0;34m(\u001b[0m\u001b[0;34m*\u001b[0m\u001b[0ma\u001b[0m\u001b[0;34m,\u001b[0m \u001b[0;34m**\u001b[0m\u001b[0mk\u001b[0m\u001b[0;34m)\u001b[0m\u001b[0;34m\u001b[0m\u001b[0m\n\u001b[0m\u001b[1;32m    189\u001b[0m \u001b[0;34m\u001b[0m\u001b[0m\n\u001b[1;32m    190\u001b[0m         \u001b[0;32mif\u001b[0m \u001b[0mcallable\u001b[0m\u001b[0;34m(\u001b[0m\u001b[0marg\u001b[0m\u001b[0;34m)\u001b[0m\u001b[0;34m:\u001b[0m\u001b[0;34m\u001b[0m\u001b[0m\n",
      "\u001b[0;32m/cluster/home/roskarr/miniconda2/lib/python2.7/site-packages/IPython/core/magics/execution.pyc\u001b[0m in \u001b[0;36mtime\u001b[0;34m(self, line, cell, local_ns)\u001b[0m\n\u001b[1;32m   1178\u001b[0m         \u001b[0;32melse\u001b[0m\u001b[0;34m:\u001b[0m\u001b[0;34m\u001b[0m\u001b[0m\n\u001b[1;32m   1179\u001b[0m             \u001b[0mst\u001b[0m \u001b[0;34m=\u001b[0m \u001b[0mclock2\u001b[0m\u001b[0;34m(\u001b[0m\u001b[0;34m)\u001b[0m\u001b[0;34m\u001b[0m\u001b[0m\n\u001b[0;32m-> 1180\u001b[0;31m             \u001b[0;32mexec\u001b[0m\u001b[0;34m(\u001b[0m\u001b[0mcode\u001b[0m\u001b[0;34m,\u001b[0m \u001b[0mglob\u001b[0m\u001b[0;34m,\u001b[0m \u001b[0mlocal_ns\u001b[0m\u001b[0;34m)\u001b[0m\u001b[0;34m\u001b[0m\u001b[0m\n\u001b[0m\u001b[1;32m   1181\u001b[0m             \u001b[0mend\u001b[0m \u001b[0;34m=\u001b[0m \u001b[0mclock2\u001b[0m\u001b[0;34m(\u001b[0m\u001b[0;34m)\u001b[0m\u001b[0;34m\u001b[0m\u001b[0m\n\u001b[1;32m   1182\u001b[0m             \u001b[0mout\u001b[0m \u001b[0;34m=\u001b[0m \u001b[0mNone\u001b[0m\u001b[0;34m\u001b[0m\u001b[0m\n",
      "\u001b[0;32m<timed exec>\u001b[0m in \u001b[0;36m<module>\u001b[0;34m()\u001b[0m\n",
      "\u001b[0;32m/cluster/home/roskarr/spark/python/pyspark/rdd.pyc\u001b[0m in \u001b[0;36mcount\u001b[0;34m(self)\u001b[0m\n\u001b[1;32m   1006\u001b[0m         \u001b[0;36m3\u001b[0m\u001b[0;34m\u001b[0m\u001b[0m\n\u001b[1;32m   1007\u001b[0m         \"\"\"\n\u001b[0;32m-> 1008\u001b[0;31m         \u001b[0;32mreturn\u001b[0m \u001b[0mself\u001b[0m\u001b[0;34m.\u001b[0m\u001b[0mmapPartitions\u001b[0m\u001b[0;34m(\u001b[0m\u001b[0;32mlambda\u001b[0m \u001b[0mi\u001b[0m\u001b[0;34m:\u001b[0m \u001b[0;34m[\u001b[0m\u001b[0msum\u001b[0m\u001b[0;34m(\u001b[0m\u001b[0;36m1\u001b[0m \u001b[0;32mfor\u001b[0m \u001b[0m_\u001b[0m \u001b[0;32min\u001b[0m \u001b[0mi\u001b[0m\u001b[0;34m)\u001b[0m\u001b[0;34m]\u001b[0m\u001b[0;34m)\u001b[0m\u001b[0;34m.\u001b[0m\u001b[0msum\u001b[0m\u001b[0;34m(\u001b[0m\u001b[0;34m)\u001b[0m\u001b[0;34m\u001b[0m\u001b[0m\n\u001b[0m\u001b[1;32m   1009\u001b[0m \u001b[0;34m\u001b[0m\u001b[0m\n\u001b[1;32m   1010\u001b[0m     \u001b[0;32mdef\u001b[0m \u001b[0mstats\u001b[0m\u001b[0;34m(\u001b[0m\u001b[0mself\u001b[0m\u001b[0;34m)\u001b[0m\u001b[0;34m:\u001b[0m\u001b[0;34m\u001b[0m\u001b[0m\n",
      "\u001b[0;32m/cluster/home/roskarr/spark/python/pyspark/rdd.pyc\u001b[0m in \u001b[0;36msum\u001b[0;34m(self)\u001b[0m\n\u001b[1;32m    997\u001b[0m         \u001b[0;36m6.0\u001b[0m\u001b[0;34m\u001b[0m\u001b[0m\n\u001b[1;32m    998\u001b[0m         \"\"\"\n\u001b[0;32m--> 999\u001b[0;31m         \u001b[0;32mreturn\u001b[0m \u001b[0mself\u001b[0m\u001b[0;34m.\u001b[0m\u001b[0mmapPartitions\u001b[0m\u001b[0;34m(\u001b[0m\u001b[0;32mlambda\u001b[0m \u001b[0mx\u001b[0m\u001b[0;34m:\u001b[0m \u001b[0;34m[\u001b[0m\u001b[0msum\u001b[0m\u001b[0;34m(\u001b[0m\u001b[0mx\u001b[0m\u001b[0;34m)\u001b[0m\u001b[0;34m]\u001b[0m\u001b[0;34m)\u001b[0m\u001b[0;34m.\u001b[0m\u001b[0mfold\u001b[0m\u001b[0;34m(\u001b[0m\u001b[0;36m0\u001b[0m\u001b[0;34m,\u001b[0m \u001b[0moperator\u001b[0m\u001b[0;34m.\u001b[0m\u001b[0madd\u001b[0m\u001b[0;34m)\u001b[0m\u001b[0;34m\u001b[0m\u001b[0m\n\u001b[0m\u001b[1;32m   1000\u001b[0m \u001b[0;34m\u001b[0m\u001b[0m\n\u001b[1;32m   1001\u001b[0m     \u001b[0;32mdef\u001b[0m \u001b[0mcount\u001b[0m\u001b[0;34m(\u001b[0m\u001b[0mself\u001b[0m\u001b[0;34m)\u001b[0m\u001b[0;34m:\u001b[0m\u001b[0;34m\u001b[0m\u001b[0m\n",
      "\u001b[0;32m/cluster/home/roskarr/spark/python/pyspark/rdd.pyc\u001b[0m in \u001b[0;36mfold\u001b[0;34m(self, zeroValue, op)\u001b[0m\n\u001b[1;32m    871\u001b[0m         \u001b[0;31m# zeroValue provided to each partition is unique from the one provided\u001b[0m\u001b[0;34m\u001b[0m\u001b[0;34m\u001b[0m\u001b[0m\n\u001b[1;32m    872\u001b[0m         \u001b[0;31m# to the final reduce call\u001b[0m\u001b[0;34m\u001b[0m\u001b[0;34m\u001b[0m\u001b[0m\n\u001b[0;32m--> 873\u001b[0;31m         \u001b[0mvals\u001b[0m \u001b[0;34m=\u001b[0m \u001b[0mself\u001b[0m\u001b[0;34m.\u001b[0m\u001b[0mmapPartitions\u001b[0m\u001b[0;34m(\u001b[0m\u001b[0mfunc\u001b[0m\u001b[0;34m)\u001b[0m\u001b[0;34m.\u001b[0m\u001b[0mcollect\u001b[0m\u001b[0;34m(\u001b[0m\u001b[0;34m)\u001b[0m\u001b[0;34m\u001b[0m\u001b[0m\n\u001b[0m\u001b[1;32m    874\u001b[0m         \u001b[0;32mreturn\u001b[0m \u001b[0mreduce\u001b[0m\u001b[0;34m(\u001b[0m\u001b[0mop\u001b[0m\u001b[0;34m,\u001b[0m \u001b[0mvals\u001b[0m\u001b[0;34m,\u001b[0m \u001b[0mzeroValue\u001b[0m\u001b[0;34m)\u001b[0m\u001b[0;34m\u001b[0m\u001b[0m\n\u001b[1;32m    875\u001b[0m \u001b[0;34m\u001b[0m\u001b[0m\n",
      "\u001b[0;32m/cluster/home/roskarr/spark/python/pyspark/rdd.pyc\u001b[0m in \u001b[0;36mcollect\u001b[0;34m(self)\u001b[0m\n\u001b[1;32m    774\u001b[0m         \"\"\"\n\u001b[1;32m    775\u001b[0m         \u001b[0;32mwith\u001b[0m \u001b[0mSCCallSiteSync\u001b[0m\u001b[0;34m(\u001b[0m\u001b[0mself\u001b[0m\u001b[0;34m.\u001b[0m\u001b[0mcontext\u001b[0m\u001b[0;34m)\u001b[0m \u001b[0;32mas\u001b[0m \u001b[0mcss\u001b[0m\u001b[0;34m:\u001b[0m\u001b[0;34m\u001b[0m\u001b[0m\n\u001b[0;32m--> 776\u001b[0;31m             \u001b[0mport\u001b[0m \u001b[0;34m=\u001b[0m \u001b[0mself\u001b[0m\u001b[0;34m.\u001b[0m\u001b[0mctx\u001b[0m\u001b[0;34m.\u001b[0m\u001b[0m_jvm\u001b[0m\u001b[0;34m.\u001b[0m\u001b[0mPythonRDD\u001b[0m\u001b[0;34m.\u001b[0m\u001b[0mcollectAndServe\u001b[0m\u001b[0;34m(\u001b[0m\u001b[0mself\u001b[0m\u001b[0;34m.\u001b[0m\u001b[0m_jrdd\u001b[0m\u001b[0;34m.\u001b[0m\u001b[0mrdd\u001b[0m\u001b[0;34m(\u001b[0m\u001b[0;34m)\u001b[0m\u001b[0;34m)\u001b[0m\u001b[0;34m\u001b[0m\u001b[0m\n\u001b[0m\u001b[1;32m    777\u001b[0m         \u001b[0;32mreturn\u001b[0m \u001b[0mlist\u001b[0m\u001b[0;34m(\u001b[0m\u001b[0m_load_from_socket\u001b[0m\u001b[0;34m(\u001b[0m\u001b[0mport\u001b[0m\u001b[0;34m,\u001b[0m \u001b[0mself\u001b[0m\u001b[0;34m.\u001b[0m\u001b[0m_jrdd_deserializer\u001b[0m\u001b[0;34m)\u001b[0m\u001b[0;34m)\u001b[0m\u001b[0;34m\u001b[0m\u001b[0m\n\u001b[1;32m    778\u001b[0m \u001b[0;34m\u001b[0m\u001b[0m\n",
      "\u001b[0;32m/cluster/home/roskarr/spark/python/lib/py4j-0.10.3-src.zip/py4j/java_gateway.py\u001b[0m in \u001b[0;36m__call__\u001b[0;34m(self, *args)\u001b[0m\n\u001b[1;32m   1131\u001b[0m         \u001b[0manswer\u001b[0m \u001b[0;34m=\u001b[0m \u001b[0mself\u001b[0m\u001b[0;34m.\u001b[0m\u001b[0mgateway_client\u001b[0m\u001b[0;34m.\u001b[0m\u001b[0msend_command\u001b[0m\u001b[0;34m(\u001b[0m\u001b[0mcommand\u001b[0m\u001b[0;34m)\u001b[0m\u001b[0;34m\u001b[0m\u001b[0m\n\u001b[1;32m   1132\u001b[0m         return_value = get_return_value(\n\u001b[0;32m-> 1133\u001b[0;31m             answer, self.gateway_client, self.target_id, self.name)\n\u001b[0m\u001b[1;32m   1134\u001b[0m \u001b[0;34m\u001b[0m\u001b[0m\n\u001b[1;32m   1135\u001b[0m         \u001b[0;32mfor\u001b[0m \u001b[0mtemp_arg\u001b[0m \u001b[0;32min\u001b[0m \u001b[0mtemp_args\u001b[0m\u001b[0;34m:\u001b[0m\u001b[0;34m\u001b[0m\u001b[0m\n",
      "\u001b[0;32m/cluster/home/roskarr/spark/python/lib/py4j-0.10.3-src.zip/py4j/protocol.py\u001b[0m in \u001b[0;36mget_return_value\u001b[0;34m(answer, gateway_client, target_id, name)\u001b[0m\n\u001b[1;32m    317\u001b[0m                 raise Py4JJavaError(\n\u001b[1;32m    318\u001b[0m                     \u001b[0;34m\"An error occurred while calling {0}{1}{2}.\\n\"\u001b[0m\u001b[0;34m.\u001b[0m\u001b[0;34m\u001b[0m\u001b[0m\n\u001b[0;32m--> 319\u001b[0;31m                     format(target_id, \".\", name), value)\n\u001b[0m\u001b[1;32m    320\u001b[0m             \u001b[0;32melse\u001b[0m\u001b[0;34m:\u001b[0m\u001b[0;34m\u001b[0m\u001b[0m\n\u001b[1;32m    321\u001b[0m                 raise Py4JError(\n",
      "\u001b[0;31mPy4JJavaError\u001b[0m: An error occurred while calling z:org.apache.spark.api.python.PythonRDD.collectAndServe.\n: org.apache.spark.SparkException: Job 1 cancelled because Stage 3 was cancelled\n\tat org.apache.spark.scheduler.DAGScheduler.org$apache$spark$scheduler$DAGScheduler$$failJobAndIndependentStages(DAGScheduler.scala:1454)\n\tat org.apache.spark.scheduler.DAGScheduler.handleJobCancellation(DAGScheduler.scala:1393)\n\tat org.apache.spark.scheduler.DAGScheduler$$anonfun$handleStageCancellation$1.apply$mcVI$sp(DAGScheduler.scala:1381)\n\tat org.apache.spark.scheduler.DAGScheduler$$anonfun$handleStageCancellation$1.apply(DAGScheduler.scala:1380)\n\tat org.apache.spark.scheduler.DAGScheduler$$anonfun$handleStageCancellation$1.apply(DAGScheduler.scala:1380)\n\tat scala.collection.IndexedSeqOptimized$class.foreach(IndexedSeqOptimized.scala:33)\n\tat scala.collection.mutable.ArrayOps$ofInt.foreach(ArrayOps.scala:234)\n\tat org.apache.spark.scheduler.DAGScheduler.handleStageCancellation(DAGScheduler.scala:1380)\n\tat org.apache.spark.scheduler.DAGSchedulerEventProcessLoop.doOnReceive(DAGScheduler.scala:1636)\n\tat org.apache.spark.scheduler.DAGSchedulerEventProcessLoop.onReceive(DAGScheduler.scala:1622)\n\tat org.apache.spark.scheduler.DAGSchedulerEventProcessLoop.onReceive(DAGScheduler.scala:1611)\n\tat org.apache.spark.util.EventLoop$$anon$1.run(EventLoop.scala:48)\n\tat org.apache.spark.scheduler.DAGScheduler.runJob(DAGScheduler.scala:632)\n\tat org.apache.spark.SparkContext.runJob(SparkContext.scala:1890)\n\tat org.apache.spark.SparkContext.runJob(SparkContext.scala:1903)\n\tat org.apache.spark.SparkContext.runJob(SparkContext.scala:1916)\n\tat org.apache.spark.SparkContext.runJob(SparkContext.scala:1930)\n\tat org.apache.spark.rdd.RDD$$anonfun$collect$1.apply(RDD.scala:912)\n\tat org.apache.spark.rdd.RDDOperationScope$.withScope(RDDOperationScope.scala:151)\n\tat org.apache.spark.rdd.RDDOperationScope$.withScope(RDDOperationScope.scala:112)\n\tat org.apache.spark.rdd.RDD.withScope(RDD.scala:358)\n\tat org.apache.spark.rdd.RDD.collect(RDD.scala:911)\n\tat org.apache.spark.api.python.PythonRDD$.collectAndServe(PythonRDD.scala:453)\n\tat org.apache.spark.api.python.PythonRDD.collectAndServe(PythonRDD.scala)\n\tat sun.reflect.NativeMethodAccessorImpl.invoke0(Native Method)\n\tat sun.reflect.NativeMethodAccessorImpl.invoke(NativeMethodAccessorImpl.java:62)\n\tat sun.reflect.DelegatingMethodAccessorImpl.invoke(DelegatingMethodAccessorImpl.java:43)\n\tat java.lang.reflect.Method.invoke(Method.java:483)\n\tat py4j.reflection.MethodInvoker.invoke(MethodInvoker.java:237)\n\tat py4j.reflection.ReflectionEngine.invoke(ReflectionEngine.java:357)\n\tat py4j.Gateway.invoke(Gateway.java:280)\n\tat py4j.commands.AbstractCommand.invokeMethod(AbstractCommand.java:132)\n\tat py4j.commands.CallCommand.execute(CallCommand.java:79)\n\tat py4j.GatewayConnection.run(GatewayConnection.java:214)\n\tat java.lang.Thread.run(Thread.java:745)\n"
     ]
    }
   ],
   "source": [
    "%%time \n",
    "fof_rdd = fof_analyzer.fof_rdd\n",
    "fof_rdd.count()"
   ]
  },
  {
   "cell_type": "code",
   "execution_count": 43,
   "metadata": {
    "collapsed": false
   },
   "outputs": [],
   "source": [
    "groups_map = fof_analyzer.get_gid_map()"
   ]
  },
  {
   "cell_type": "code",
   "execution_count": 57,
   "metadata": {
    "collapsed": false
   },
   "outputs": [
    {
     "data": {
      "text/plain": [
       "[(187712519, [22718341, 8597718772]),\n",
       " (336935039, [17192391212]),\n",
       " (5495519, [315726]),\n",
       " (360380159, [21474866371]),\n",
       " (221241719, [12893702890]),\n",
       " (219726599, [12886923737]),\n",
       " (218772119, [12889181503]),\n",
       " (76771439, [4298880967]),\n",
       " (178360319, [8606405082]),\n",
       " (234608399, [12886113526]),\n",
       " (276204959, [12903994905]),\n",
       " (332527559, [17198841333]),\n",
       " (337395479, [17198860126]),\n",
       " (219281999, [12891009899]),\n",
       " (333656879, [17184026571]),\n",
       " (268032719, [12903967469]),\n",
       " (361362719, [21477354994]),\n",
       " (94208879, [4297439901]),\n",
       " (181211039, [8606049294]),\n",
       " (87392039, [4295556202]),\n",
       " (226168199, [12892418252]),\n",
       " (404335919, [21490747658]),\n",
       " (135331799, [30753670, 4308152254]),\n",
       " (137023799, [16172328, 4305427348]),\n",
       " (540239, [9958967]),\n",
       " (286368479, [17182024327]),\n",
       " (346165919, [17200787403]),\n",
       " (386967359, [21476011626]),\n",
       " (248648999, [12894256160]),\n",
       " (287115119, [17202984350]),\n",
       " (22929359, [1588311]),\n",
       " (132319559, [4318929975]),\n",
       " (286514759, [17202891580]),\n",
       " (378145919, [21480439674]),\n",
       " (36007559, [4121078]),\n",
       " (65134799, [21467188]),\n",
       " (383914319, [21485127919]),\n",
       " (78939479, [4300581434]),\n",
       " (261025679, [12906843455]),\n",
       " (360586079, [21476994725]),\n",
       " (146764559, [4319006826]),\n",
       " (396825959, [21476556312]),\n",
       " (77562959, [4314776160]),\n",
       " (221209319, [12897194481]),\n",
       " (271921799, [12907264631]),\n",
       " (75851999, [4295095102]),\n",
       " (151355759, [8596393953]),\n",
       " (339481319, [17201688145]),\n",
       " (240979319, [12887808755]),\n",
       " (326726279, [17184749020]),\n",
       " (77721719, [4299872813]),\n",
       " (1388279, [2929260]),\n",
       " (92231039, [4296873804]),\n",
       " (19205999, [17221539]),\n",
       " (418596839, [21492216590]),\n",
       " (362449799, [21488235270]),\n",
       " (390935159, [21483371752]),\n",
       " (418534799, [21491712264]),\n",
       " (220632839, [12893372167]),\n",
       " (270119, [8015273]),\n",
       " (182344079, [8597352871]),\n",
       " (418617239, [21492216590]),\n",
       " (47882279, [12532045]),\n",
       " (365939279, [21474882017]),\n",
       " (286068719, [17181926228]),\n",
       " (182120159, [27692212, 8601604048]),\n",
       " (219134879, [12885307338]),\n",
       " (75799679, [4310157815]),\n",
       " (76883879, [24634617, 4298961201]),\n",
       " (53323079, [5157117]),\n",
       " (339394199, [17183726278]),\n",
       " (411476399, [21492067375]),\n",
       " (174898679, [8606403349]),\n",
       " (273426359, [12900575283]),\n",
       " (343889039, [17200543771]),\n",
       " (418553759, [21492105160]),\n",
       " (371336879, [21482500308]),\n",
       " (408592319, [21495820746]),\n",
       " (218873639, [12885422492]),\n",
       " (100138439, [12686025, 4297042798]),\n",
       " (286713119, [17187972060]),\n",
       " (105310199, [4297196799]),\n",
       " (418553999, [21492095870]),\n",
       " (96719, [8815929]),\n",
       " (107860439, [4312542915]),\n",
       " (239481479, [12894439434]),\n",
       " (35376719, [17926816]),\n",
       " (218764919, [12889181079]),\n",
       " (75663839, [4295098539]),\n",
       " (150557159, [8593936416]),\n",
       " (215942159, [8602363512]),\n",
       " (114692519, [4318526854]),\n",
       " (138086039, [4308012996]),\n",
       " (76770479, [4298880967]),\n",
       " (247392239, [12889705425]),\n",
       " (278589239, [12907714440]),\n",
       " (350893559, [17185579906]),\n",
       " (77306879, [4298990496]),\n",
       " (87239, [8038047]),\n",
       " (396825599, [21476556312])]"
      ]
     },
     "execution_count": 57,
     "metadata": {},
     "output_type": "execute_result"
    }
   ],
   "source": [
    "groups_map[-100:]"
   ]
  },
  {
   "cell_type": "code",
   "execution_count": 58,
   "metadata": {
    "collapsed": false
   },
   "outputs": [
    {
     "data": {
      "text/plain": [
       "[(0,\n",
       "  array([ ([-0.046928294003009796, -0.033064354211091995, -0.024187374860048294], 2, 187712519, 22718341)], \n",
       "        dtype={'names':['pos','is_ghost','iOrder','iGroup'], 'formats':[('<f4', (3,)),'<i4','<i4','<i8'], 'offsets':[0,12,16,24], 'itemsize':32, 'aligned':True})),\n",
       " (2,\n",
       "  array([ ([-0.046928294003009796, -0.033064354211091995, -0.024187374860048294], 1, 187712519, 8597718772)], \n",
       "        dtype={'names':['pos','is_ghost','iOrder','iGroup'], 'formats':[('<f4', (3,)),'<i4','<i4','<i8'], 'offsets':[0,12,16,24], 'itemsize':32, 'aligned':True}))]"
      ]
     },
     "execution_count": 58,
     "metadata": {},
     "output_type": "execute_result"
    }
   ],
   "source": [
    "get_particle(fof_rdd,187712519)"
   ]
  },
  {
   "cell_type": "code",
   "execution_count": 64,
   "metadata": {
    "collapsed": false
   },
   "outputs": [],
   "source": [
    "ghost_copy_rdd = fof_rdd.flatMap(lambda p: p[np.where(p['is_ghost']==2)[0]]).map(spark_fof.spark_fof.pid_gid)\n",
    "ghost_orig_rdd = fof_rdd.flatMap(lambda p: p[np.where(p['is_ghost']==1)[0]]).map(spark_fof.spark_fof.pid_gid)"
   ]
  },
  {
   "cell_type": "code",
   "execution_count": 65,
   "metadata": {
    "collapsed": false
   },
   "outputs": [
    {
     "data": {
      "text/plain": [
       "(75440972, 9049620)"
      ]
     },
     "execution_count": 65,
     "metadata": {},
     "output_type": "execute_result"
    }
   ],
   "source": [
    "ghost_copy_rdd.first()"
   ]
  },
  {
   "cell_type": "code",
   "execution_count": 66,
   "metadata": {
    "collapsed": false
   },
   "outputs": [
    {
     "data": {
      "text/plain": [
       "(0, 12)"
      ]
     },
     "execution_count": 66,
     "metadata": {},
     "output_type": "execute_result"
    }
   ],
   "source": [
    "ghost_orig_rdd.first()"
   ]
  },
  {
   "cell_type": "code",
   "execution_count": 77,
   "metadata": {
    "collapsed": true
   },
   "outputs": [],
   "source": [
    "join_rdd = ghost_copy_rdd.join(ghost_orig_rdd).mapValues(lambda x: sorted(x)).flatMap(lambda gs: [(g, gs[0]) for g in gs[1:]]).cache()"
   ]
  },
  {
   "cell_type": "code",
   "execution_count": 82,
   "metadata": {
    "collapsed": false
   },
   "outputs": [],
   "source": [
    "groups_map = (ghost_copy_rdd.join(ghost_orig_rdd)\n",
    "                            .map(lambda (k,v): sorted(v))\n",
    "                            .flatMap(lambda gs: [(g, gs[0]) for g in gs[1:]])).collect()"
   ]
  },
  {
   "cell_type": "code",
   "execution_count": 84,
   "metadata": {
    "collapsed": true
   },
   "outputs": [],
   "source": [
    "src, dst = zip(*groups_map)"
   ]
  },
  {
   "cell_type": "code",
   "execution_count": 85,
   "metadata": {
    "collapsed": true
   },
   "outputs": [],
   "source": [
    "import networkx as nx"
   ]
  },
  {
   "cell_type": "code",
   "execution_count": 87,
   "metadata": {
    "collapsed": true
   },
   "outputs": [],
   "source": [
    "g = nx.Graph()\n",
    "g.add_nodes_from(src + dst)\n",
    "for e in groups_map:\n",
    "    g.add_edge(*e)\n",
    "mappings = {}\n",
    "for sg in nx.connected.connected_component_subgraphs(g):\n",
    "    if len(sg) > 1:\n",
    "        # generate mapping to lowest-common-group\n",
    "        base_node = min(sg.nodes())\n",
    "        new_mapping = {\n",
    "            node: base_node for node in sg.nodes() if node != base_node}\n",
    "        mappings.update(new_mapping)"
   ]
  },
  {
   "cell_type": "code",
   "execution_count": 93,
   "metadata": {
    "collapsed": false
   },
   "outputs": [
    {
     "ename": "KeyboardInterrupt",
     "evalue": "",
     "output_type": "error",
     "traceback": [
      "\u001b[0;31m---------------------------------------------------------------------------\u001b[0m",
      "\u001b[0;31mKeyboardInterrupt\u001b[0m                         Traceback (most recent call last)",
      "\u001b[0;32m<ipython-input-93-91a6bad80824>\u001b[0m in \u001b[0;36m<module>\u001b[0;34m()\u001b[0m\n\u001b[0;32m----> 1\u001b[0;31m \u001b[0mlevel_map\u001b[0m \u001b[0;34m=\u001b[0m \u001b[0mfof_analyzer\u001b[0m\u001b[0;34m.\u001b[0m\u001b[0mget_level_map\u001b[0m\u001b[0;34m(\u001b[0m\u001b[0;34m)\u001b[0m\u001b[0;34m\u001b[0m\u001b[0m\n\u001b[0m",
      "\u001b[0;32m/cluster/project/sis/ri/roskarr/spark-fof/spark_fof/spark_fof.py\u001b[0m in \u001b[0;36mget_level_map\u001b[0;34m(self, level)\u001b[0m\n\u001b[1;32m    287\u001b[0m         \u001b[0;31m# get the initial group mapping across sub-domains just based on\u001b[0m\u001b[0;34m\u001b[0m\u001b[0;34m\u001b[0m\u001b[0m\n\u001b[1;32m    288\u001b[0m         \u001b[0;31m# particle IDs\u001b[0m\u001b[0;34m\u001b[0m\u001b[0;34m\u001b[0m\u001b[0m\n\u001b[0;32m--> 289\u001b[0;31m         \u001b[0mgroups_map\u001b[0m \u001b[0;34m=\u001b[0m \u001b[0mself\u001b[0m\u001b[0;34m.\u001b[0m\u001b[0mget_gid_map\u001b[0m\u001b[0;34m(\u001b[0m\u001b[0mlevel\u001b[0m\u001b[0;34m)\u001b[0m\u001b[0;34m\u001b[0m\u001b[0m\n\u001b[0m\u001b[1;32m    290\u001b[0m \u001b[0;34m\u001b[0m\u001b[0m\n\u001b[1;32m    291\u001b[0m         \u001b[0mmappings\u001b[0m \u001b[0;34m=\u001b[0m \u001b[0;34m{\u001b[0m\u001b[0;34m}\u001b[0m\u001b[0;34m\u001b[0m\u001b[0m\n",
      "\u001b[0;32m/cluster/project/sis/ri/roskarr/spark-fof/spark_fof/spark_fof.py\u001b[0m in \u001b[0;36mget_gid_map\u001b[0;34m(self, level)\u001b[0m\n\u001b[1;32m    262\u001b[0m         \u001b[0mghost_orig_rdd\u001b[0m \u001b[0;34m=\u001b[0m \u001b[0mfof_rdd\u001b[0m\u001b[0;34m.\u001b[0m\u001b[0mflatMap\u001b[0m\u001b[0;34m(\u001b[0m\u001b[0;32mlambda\u001b[0m \u001b[0mp\u001b[0m\u001b[0;34m:\u001b[0m \u001b[0mp\u001b[0m\u001b[0;34m[\u001b[0m\u001b[0mnp\u001b[0m\u001b[0;34m.\u001b[0m\u001b[0mwhere\u001b[0m\u001b[0;34m(\u001b[0m\u001b[0mp\u001b[0m\u001b[0;34m[\u001b[0m\u001b[0;34m'is_ghost'\u001b[0m\u001b[0;34m]\u001b[0m\u001b[0;34m==\u001b[0m\u001b[0;36m1\u001b[0m\u001b[0;34m)\u001b[0m\u001b[0;34m[\u001b[0m\u001b[0;36m0\u001b[0m\u001b[0;34m]\u001b[0m\u001b[0;34m]\u001b[0m\u001b[0;34m)\u001b[0m\u001b[0;34m.\u001b[0m\u001b[0mmap\u001b[0m\u001b[0;34m(\u001b[0m\u001b[0mpid_gid\u001b[0m\u001b[0;34m)\u001b[0m\u001b[0;34m\u001b[0m\u001b[0m\n\u001b[1;32m    263\u001b[0m \u001b[0;34m\u001b[0m\u001b[0m\n\u001b[0;32m--> 264\u001b[0;31m         \u001b[0mgroups_map\u001b[0m \u001b[0;34m=\u001b[0m \u001b[0mghost_copy_rdd\u001b[0m\u001b[0;34m.\u001b[0m\u001b[0mjoin\u001b[0m\u001b[0;34m(\u001b[0m\u001b[0mghost_orig_rdd\u001b[0m\u001b[0;34m)\u001b[0m\u001b[0;34m.\u001b[0m\u001b[0mmap\u001b[0m\u001b[0;34m(\u001b[0m\u001b[0;32mlambda\u001b[0m \u001b[0mk\u001b[0m\u001b[0;34m,\u001b[0m\u001b[0mv\u001b[0m\u001b[0;34m:\u001b[0m \u001b[0msorted\u001b[0m\u001b[0;34m(\u001b[0m\u001b[0mv\u001b[0m\u001b[0;34m)\u001b[0m\u001b[0;34m)\u001b[0m\u001b[0;34m.\u001b[0m\u001b[0mcollect\u001b[0m\u001b[0;34m(\u001b[0m\u001b[0;34m)\u001b[0m\u001b[0;34m\u001b[0m\u001b[0m\n\u001b[0m\u001b[1;32m    265\u001b[0m \u001b[0;34m\u001b[0m\u001b[0m\n\u001b[1;32m    266\u001b[0m         \u001b[0;32mreturn\u001b[0m \u001b[0mgroups_map\u001b[0m\u001b[0;34m\u001b[0m\u001b[0m\n",
      "\u001b[0;32m/cluster/home/roskarr/spark/python/pyspark/rdd.pyc\u001b[0m in \u001b[0;36mcollect\u001b[0;34m(self)\u001b[0m\n\u001b[1;32m    774\u001b[0m         \"\"\"\n\u001b[1;32m    775\u001b[0m         \u001b[0;32mwith\u001b[0m \u001b[0mSCCallSiteSync\u001b[0m\u001b[0;34m(\u001b[0m\u001b[0mself\u001b[0m\u001b[0;34m.\u001b[0m\u001b[0mcontext\u001b[0m\u001b[0;34m)\u001b[0m \u001b[0;32mas\u001b[0m \u001b[0mcss\u001b[0m\u001b[0;34m:\u001b[0m\u001b[0;34m\u001b[0m\u001b[0m\n\u001b[0;32m--> 776\u001b[0;31m             \u001b[0mport\u001b[0m \u001b[0;34m=\u001b[0m \u001b[0mself\u001b[0m\u001b[0;34m.\u001b[0m\u001b[0mctx\u001b[0m\u001b[0;34m.\u001b[0m\u001b[0m_jvm\u001b[0m\u001b[0;34m.\u001b[0m\u001b[0mPythonRDD\u001b[0m\u001b[0;34m.\u001b[0m\u001b[0mcollectAndServe\u001b[0m\u001b[0;34m(\u001b[0m\u001b[0mself\u001b[0m\u001b[0;34m.\u001b[0m\u001b[0m_jrdd\u001b[0m\u001b[0;34m.\u001b[0m\u001b[0mrdd\u001b[0m\u001b[0;34m(\u001b[0m\u001b[0;34m)\u001b[0m\u001b[0;34m)\u001b[0m\u001b[0;34m\u001b[0m\u001b[0m\n\u001b[0m\u001b[1;32m    777\u001b[0m         \u001b[0;32mreturn\u001b[0m \u001b[0mlist\u001b[0m\u001b[0;34m(\u001b[0m\u001b[0m_load_from_socket\u001b[0m\u001b[0;34m(\u001b[0m\u001b[0mport\u001b[0m\u001b[0;34m,\u001b[0m \u001b[0mself\u001b[0m\u001b[0;34m.\u001b[0m\u001b[0m_jrdd_deserializer\u001b[0m\u001b[0;34m)\u001b[0m\u001b[0;34m)\u001b[0m\u001b[0;34m\u001b[0m\u001b[0m\n\u001b[1;32m    778\u001b[0m \u001b[0;34m\u001b[0m\u001b[0m\n",
      "\u001b[0;32m/cluster/home/roskarr/spark/python/lib/py4j-0.10.3-src.zip/py4j/java_gateway.py\u001b[0m in \u001b[0;36m__call__\u001b[0;34m(self, *args)\u001b[0m\n\u001b[1;32m   1129\u001b[0m             \u001b[0mproto\u001b[0m\u001b[0;34m.\u001b[0m\u001b[0mEND_COMMAND_PART\u001b[0m\u001b[0;34m\u001b[0m\u001b[0m\n\u001b[1;32m   1130\u001b[0m \u001b[0;34m\u001b[0m\u001b[0m\n\u001b[0;32m-> 1131\u001b[0;31m         \u001b[0manswer\u001b[0m \u001b[0;34m=\u001b[0m \u001b[0mself\u001b[0m\u001b[0;34m.\u001b[0m\u001b[0mgateway_client\u001b[0m\u001b[0;34m.\u001b[0m\u001b[0msend_command\u001b[0m\u001b[0;34m(\u001b[0m\u001b[0mcommand\u001b[0m\u001b[0;34m)\u001b[0m\u001b[0;34m\u001b[0m\u001b[0m\n\u001b[0m\u001b[1;32m   1132\u001b[0m         return_value = get_return_value(\n\u001b[1;32m   1133\u001b[0m             answer, self.gateway_client, self.target_id, self.name)\n",
      "\u001b[0;32m/cluster/home/roskarr/spark/python/lib/py4j-0.10.3-src.zip/py4j/java_gateway.py\u001b[0m in \u001b[0;36msend_command\u001b[0;34m(self, command, retry, binary)\u001b[0m\n\u001b[1;32m    881\u001b[0m         \u001b[0mconnection\u001b[0m \u001b[0;34m=\u001b[0m \u001b[0mself\u001b[0m\u001b[0;34m.\u001b[0m\u001b[0m_get_connection\u001b[0m\u001b[0;34m(\u001b[0m\u001b[0;34m)\u001b[0m\u001b[0;34m\u001b[0m\u001b[0m\n\u001b[1;32m    882\u001b[0m         \u001b[0;32mtry\u001b[0m\u001b[0;34m:\u001b[0m\u001b[0;34m\u001b[0m\u001b[0m\n\u001b[0;32m--> 883\u001b[0;31m             \u001b[0mresponse\u001b[0m \u001b[0;34m=\u001b[0m \u001b[0mconnection\u001b[0m\u001b[0;34m.\u001b[0m\u001b[0msend_command\u001b[0m\u001b[0;34m(\u001b[0m\u001b[0mcommand\u001b[0m\u001b[0;34m)\u001b[0m\u001b[0;34m\u001b[0m\u001b[0m\n\u001b[0m\u001b[1;32m    884\u001b[0m             \u001b[0;32mif\u001b[0m \u001b[0mbinary\u001b[0m\u001b[0;34m:\u001b[0m\u001b[0;34m\u001b[0m\u001b[0m\n\u001b[1;32m    885\u001b[0m                 \u001b[0;32mreturn\u001b[0m \u001b[0mresponse\u001b[0m\u001b[0;34m,\u001b[0m \u001b[0mself\u001b[0m\u001b[0;34m.\u001b[0m\u001b[0m_create_connection_guard\u001b[0m\u001b[0;34m(\u001b[0m\u001b[0mconnection\u001b[0m\u001b[0;34m)\u001b[0m\u001b[0;34m\u001b[0m\u001b[0m\n",
      "\u001b[0;32m/cluster/home/roskarr/spark/python/lib/py4j-0.10.3-src.zip/py4j/java_gateway.py\u001b[0m in \u001b[0;36msend_command\u001b[0;34m(self, command)\u001b[0m\n\u001b[1;32m   1026\u001b[0m \u001b[0;34m\u001b[0m\u001b[0m\n\u001b[1;32m   1027\u001b[0m         \u001b[0;32mtry\u001b[0m\u001b[0;34m:\u001b[0m\u001b[0;34m\u001b[0m\u001b[0m\n\u001b[0;32m-> 1028\u001b[0;31m             \u001b[0manswer\u001b[0m \u001b[0;34m=\u001b[0m \u001b[0msmart_decode\u001b[0m\u001b[0;34m(\u001b[0m\u001b[0mself\u001b[0m\u001b[0;34m.\u001b[0m\u001b[0mstream\u001b[0m\u001b[0;34m.\u001b[0m\u001b[0mreadline\u001b[0m\u001b[0;34m(\u001b[0m\u001b[0;34m)\u001b[0m\u001b[0;34m[\u001b[0m\u001b[0;34m:\u001b[0m\u001b[0;34m-\u001b[0m\u001b[0;36m1\u001b[0m\u001b[0;34m]\u001b[0m\u001b[0;34m)\u001b[0m\u001b[0;34m\u001b[0m\u001b[0m\n\u001b[0m\u001b[1;32m   1029\u001b[0m             \u001b[0mlogger\u001b[0m\u001b[0;34m.\u001b[0m\u001b[0mdebug\u001b[0m\u001b[0;34m(\u001b[0m\u001b[0;34m\"Answer received: {0}\"\u001b[0m\u001b[0;34m.\u001b[0m\u001b[0mformat\u001b[0m\u001b[0;34m(\u001b[0m\u001b[0manswer\u001b[0m\u001b[0;34m)\u001b[0m\u001b[0;34m)\u001b[0m\u001b[0;34m\u001b[0m\u001b[0m\n\u001b[1;32m   1030\u001b[0m             \u001b[0;32mif\u001b[0m \u001b[0manswer\u001b[0m\u001b[0;34m.\u001b[0m\u001b[0mstartswith\u001b[0m\u001b[0;34m(\u001b[0m\u001b[0mproto\u001b[0m\u001b[0;34m.\u001b[0m\u001b[0mRETURN_MESSAGE\u001b[0m\u001b[0;34m)\u001b[0m\u001b[0;34m:\u001b[0m\u001b[0;34m\u001b[0m\u001b[0m\n",
      "\u001b[0;32m/cluster/home/roskarr/miniconda2/lib/python2.7/socket.pyc\u001b[0m in \u001b[0;36mreadline\u001b[0;34m(self, size)\u001b[0m\n\u001b[1;32m    449\u001b[0m             \u001b[0;32mwhile\u001b[0m \u001b[0mTrue\u001b[0m\u001b[0;34m:\u001b[0m\u001b[0;34m\u001b[0m\u001b[0m\n\u001b[1;32m    450\u001b[0m                 \u001b[0;32mtry\u001b[0m\u001b[0;34m:\u001b[0m\u001b[0;34m\u001b[0m\u001b[0m\n\u001b[0;32m--> 451\u001b[0;31m                     \u001b[0mdata\u001b[0m \u001b[0;34m=\u001b[0m \u001b[0mself\u001b[0m\u001b[0;34m.\u001b[0m\u001b[0m_sock\u001b[0m\u001b[0;34m.\u001b[0m\u001b[0mrecv\u001b[0m\u001b[0;34m(\u001b[0m\u001b[0mself\u001b[0m\u001b[0;34m.\u001b[0m\u001b[0m_rbufsize\u001b[0m\u001b[0;34m)\u001b[0m\u001b[0;34m\u001b[0m\u001b[0m\n\u001b[0m\u001b[1;32m    452\u001b[0m                 \u001b[0;32mexcept\u001b[0m \u001b[0merror\u001b[0m\u001b[0;34m,\u001b[0m \u001b[0me\u001b[0m\u001b[0;34m:\u001b[0m\u001b[0;34m\u001b[0m\u001b[0m\n\u001b[1;32m    453\u001b[0m                     \u001b[0;32mif\u001b[0m \u001b[0me\u001b[0m\u001b[0;34m.\u001b[0m\u001b[0margs\u001b[0m\u001b[0;34m[\u001b[0m\u001b[0;36m0\u001b[0m\u001b[0;34m]\u001b[0m \u001b[0;34m==\u001b[0m \u001b[0mEINTR\u001b[0m\u001b[0;34m:\u001b[0m\u001b[0;34m\u001b[0m\u001b[0m\n",
      "\u001b[0;31mKeyboardInterrupt\u001b[0m: "
     ]
    }
   ],
   "source": [
    "level_map = fof_analyzer.get_level_map()"
   ]
  },
  {
   "cell_type": "code",
   "execution_count": 90,
   "metadata": {
    "collapsed": false
   },
   "outputs": [
    {
     "data": {
      "text/plain": [
       "{4298113024: 12765555,\n",
       " 8601600000: 27698902,\n",
       " 8594391042: 25786838,\n",
       " 4302962691: 12980133,\n",
       " 4302962692: 12980131,\n",
       " 4298244102: 14066780,\n",
       " 4298244103: 14066782,\n",
       " 8601600008: 27698628,\n",
       " 4307419145: 30018905,\n",
       " 8601600012: 27698634,\n",
       " 4298244098: 14066752,\n",
       " 8601600014: 27698797,\n",
       " 4298244111: 14066874,\n",
       " 8601600019: 27698670,\n",
       " 8601600020: 27698669,\n",
       " 8601600021: 27698811,\n",
       " 8592490519: 19887373,\n",
       " 8589934617: 17004161,\n",
       " 8601600026: 27698852,\n",
       " 8601600027: 27698851,\n",
       " 8601600028: 27698845,\n",
       " 8592490525: 19887376,\n",
       " 8589934625: 17004377,\n",
       " 4294967331: 9049628,\n",
       " 4294967332: 9049620,\n",
       " 4302962694: 12980136,\n",
       " 8601600038: 27665628,\n",
       " 8601600039: 27665628,\n",
       " 4300013608: 25784073,\n",
       " 8601600041: 27698998,\n",
       " 8601600042: 27698949,\n",
       " 4300013611: 25784075,\n",
       " 4300013612: 25784183,\n",
       " 8589934637: 17004300,\n",
       " 8589934639: 17004381,\n",
       " 8590273203: 18878890,\n",
       " 8601600052: 27698717,\n",
       " 8589934647: 17004221,\n",
       " 8601600056: 27698795,\n",
       " 8592490553: 19912114,\n",
       " 8601600060: 27698818,\n",
       " 8589934654: 17004250,\n",
       " 8601600063: 27698815,\n",
       " 8601600065: 27698813,\n",
       " 4308150966: 30019444,\n",
       " 8590786630: 19907662,\n",
       " 8592490570: 19912126,\n",
       " 8601600077: 27698827,\n",
       " 4300013648: 25748124,\n",
       " 4299098317: 11366861,\n",
       " 4300013651: 25748123,\n",
       " 8601600084: 27698832,\n",
       " 8601600087: 27698836,\n",
       " 8601337947: 29654645,\n",
       " 8601600094: 27698837,\n",
       " 8601600096: 27699024,\n",
       " 8601337957: 29658634,\n",
       " 4298244198: 14065766,\n",
       " 8601960465: 30263711,\n",
       " 4300013672: 25748287,\n",
       " 8597995625: 22988507,\n",
       " 8597995626: 22988512,\n",
       " 4300013675: 25748314,\n",
       " 8597995628: 22988516,\n",
       " 8592044841: 18900310,\n",
       " 8601337966: 29658646,\n",
       " 8601337967: 29634735,\n",
       " 8601337969: 29658633,\n",
       " 4298244212: 14066137,\n",
       " 4300013689: 25748078,\n",
       " 4300013690: 25748076,\n",
       " 4302969648: 12971039,\n",
       " 4300013698: 25748146,\n",
       " 4300013699: 25748145,\n",
       " 4300013700: 25748149,\n",
       " 4300013701: 25748150,\n",
       " 8592108225: 18994815,\n",
       " 8601272456: 27259861,\n",
       " 4298244233: 14065987,\n",
       " 4308074637: 30610590,\n",
       " 4300013710: 25748472,\n",
       " 8601337999: 29654664,\n",
       " 4300013713: 25748147,\n",
       " 4300013714: 25748380,\n",
       " 8598148624: 21743230,\n",
       " 4298244247: 14065902,\n",
       " 4300013720: 25748487,\n",
       " 8590021999: 17307126,\n",
       " 4300013724: 25748488,\n",
       " 8602244464: 29693379,\n",
       " 4305027099: 14110225,\n",
       " 8601075876: 23145970,\n",
       " 4307102850: 28354939,\n",
       " 8602244466: 29695063,\n",
       " 4298113199: 12781235,\n",
       " 8597995696: 22989350,\n",
       " 8595439793: 27608811,\n",
       " 8601075890: 23146146,\n",
       " 8597995699: 22989346,\n",
       " 8592490678: 19912101,\n",
       " 8592621753: 19992149,\n",
       " 4307419322: 30020246,\n",
       " 4294967483: 9049575,\n",
       " 8590459069: 17307307,\n",
       " 4302129480: 27524812,\n",
       " 8601338051: 29634760,\n",
       " 8595439812: 27607977,\n",
       " 4298113221: 12781313,\n",
       " 8590459078: 17307308,\n",
       " 4298244295: 14067777,\n",
       " 4298244296: 14067776,\n",
       " 4296212681: 11331400,\n",
       " 4298244299: 14067778,\n",
       " 4298244301: 14067786,\n",
       " 8590459087: 17307323,\n",
       " 8590459088: 17317376,\n",
       " 8590459089: 17317373,\n",
       " 8590459091: 17317369,\n",
       " 4298113237: 12781286,\n",
       " 8602244473: 29695111,\n",
       " 4300013604: 25784062,\n",
       " 4296933594: 9765246,\n",
       " 4298113246: 12781325,\n",
       " 4298113247: 12781323,\n",
       " 8592114657: 18998306,\n",
       " 8590459105: 17317426,\n",
       " 8589934818: 17004183,\n",
       " 4296933605: 9769679,\n",
       " 8590459110: 17317427,\n",
       " 8589934823: 17004982,\n",
       " 8594223840: 25394380,\n",
       " 8589934827: 17004980,\n",
       " 4295338288: 9636275,\n",
       " 8601272560: 27260891,\n",
       " 8589934833: 17005002,\n",
       " 8601075956: 23150770,\n",
       " 4298244343: 14068337,\n",
       " 4298244346: 14068344,\n",
       " 4304885119: 14097222,\n",
       " 8601075964: 23150801,\n",
       " 4298113279: 12782008,\n",
       " 19916051: 19916047,\n",
       " 4298113283: 12782013,\n",
       " 8589934855: 17004983,\n",
       " 4300330370: 25984175,\n",
       " 8589934862: 17004986,\n",
       " 8601075984: 23150769,\n",
       " 8602725080: 30811339,\n",
       " 8592490771: 19887401,\n",
       " 8592490772: 19912219,\n",
       " 8592490773: 19912223,\n",
       " 4301062423: 26797051,\n",
       " 8601600047: 27698964,\n",
       " 8602102490: 30317405,\n",
       " 8592490782: 19912264,\n",
       " 8601338143: 29658727,\n",
       " 4294967584: 9049583,\n",
       " 4298244387: 14068354,\n",
       " 8594870874: 27109761,\n",
       " 4307342726: 29906380,\n",
       " 4302121692: 27377198,\n",
       " 8594707847: 19286390,\n",
       " 4308130699: 30682689,\n",
       " 4294967597: 9049980,\n",
       " 4299117960: 11827299,\n",
       " 4296933687: 9769648,\n",
       " 4307626719: 28600834,\n",
       " 8598672372: 23845894,\n",
       " 8590000456: 17058254,\n",
       " 8602767946: 30787266,\n",
       " 8590000458: 17059012,\n",
       " 8592556363: 20097258,\n",
       " 4294967630: 9050098,\n",
       " 4300144975: 24860273,\n",
       " 4298244440: 14068361,\n",
       " 4298244441: 14068362,\n",
       " 4298244444: 14067782,\n",
       " 8593865443: 25334082,\n",
       " 8592556383: 20097289,\n",
       " 8594391395: 25787039,\n",
       " 8594391396: 25787038,\n",
       " 8594391397: 25787036,\n",
       " 4300145000: 24860589,\n",
       " 8595439987: 27609178,\n",
       " 4304644841: 12957424,\n",
       " 4298244473: 14068370,\n",
       " 8592490876: 19887411,\n",
       " 4296933762: 9765379,\n",
       " 8601337921: 29634736,\n",
       " 8594347415: 25849418,\n",
       " 8590459277: 17317440,\n",
       " 4296933778: 9766180,\n",
       " 4296933779: 9766183,\n",
       " 8592490901: 19912408,\n",
       " 4300013974: 25748087,\n",
       " 8592556440: 20097803,\n",
       " 8592556447: 20097705,\n",
       " 4296933792: 9766191,\n",
       " 4300013985: 25784190,\n",
       " 4297158299: 12708570,\n",
       " 8595440041: 27609427,\n",
       " 8595440042: 27609374,\n",
       " 8595440043: 27609447,\n",
       " 8595440045: 27609425,\n",
       " 8595440046: 27609446,\n",
       " 4307670429: 29033153,\n",
       " 4300014000: 25784193,\n",
       " 26018225: 26018224,\n",
       " 4305016222: 16126524,\n",
       " 4300014009: 25784195,\n",
       " 8595440058: 27609443,\n",
       " 8595440060: 27609441,\n",
       " 8592490941: 19912263,\n",
       " 4306785696: 28304752,\n",
       " 4298113475: 12781335,\n",
       " 8589935046: 17004329,\n",
       " 8589935049: 17004332,\n",
       " 8597999303: 22988664,\n",
       " 8601610999: 27708303,\n",
       " 4306785698: 28304793,\n",
       " 8590000590: 17060525,\n",
       " 4300013645: 25747967,\n",
       " 8602452433: 29698049,\n",
       " 4300014034: 25784192,\n",
       " 4307670435: 29034308,\n",
       " 4296933848: 9772424,\n",
       " 4300945780: 24989067,\n",
       " 4300014048: 25748379,\n",
       " 8589935073: 17004355,\n",
       " 8601076194: 23022478,\n",
       " 8594391523: 25787040,\n",
       " 8589935079: 17004354,\n",
       " 8592556523: 20097719,\n",
       " 4300014062: 25748482,\n",
       " 8592556527: 20097721,\n",
       " 8589935088: 17004362,\n",
       " 4295885297: 9189494,\n",
       " 4305256953: 15351601,\n",
       " 8592556538: 20097802,\n",
       " 8602211755: 29692372,\n",
       " 8594391569: 25983778,\n",
       " 8601272853: 27260199,\n",
       " 8592556576: 20097815,\n",
       " 8592556578: 20097841,\n",
       " 4300013659: 25748188,\n",
       " 4308075044: 30676405,\n",
       " 8601272875: 27269088,\n",
       " 8598672380: 23850849,\n",
       " 8602740113: 30755419,\n",
       " 4308075057: 30676639,\n",
       " 8602059316: 24034158,\n",
       " 4306785716: 28307251,\n",
       " 4300997178: 13815684,\n",
       " 8592491068: 19912950,\n",
       " 4295895818: 11019426,\n",
       " 8592491070: 19912954,\n",
       " 4306785717: 28307238,\n",
       " 8595440193: 27613557,\n",
       " 8595440194: 27613524,\n",
       " 4297042699: 12684646,\n",
       " 8592491076: 19912946,\n",
       " 4307670454: 29034149,\n",
       " 8595440199: 27613555,\n",
       " 8598672381: 23850866,\n",
       " 4296016460: 11090756,\n",
       " 4305298135: 16269412,\n",
       " 8595440208: 27613559,\n",
       " 4303316643: 14921931,\n",
       " 8595440218: 27614199,\n",
       " 4297042703: 12684648,\n",
       " 4300013669: 25748368,\n",
       " 4300966294: 26556285,\n",
       " 4308075108: 30676736,\n",
       " 4300013670: 25748374,\n",
       " 4297042705: 12684673,\n",
       " 4300997227: 13811459,\n",
       " 8602059373: 24038084,\n",
       " 14112189: 14112186,\n",
       " 8592491120: 19913040,\n",
       " 8590004445: 17077230,\n",
       " 4300997235: 13811876,\n",
       " 4298974340: 24639609,\n",
       " 8592491126: 19913039,\n",
       " 4295000169: 9096782,\n",
       " 4301062776: 26797166,\n",
       " 4301062781: 26797165,\n",
       " 4298113662: 12782017,\n",
       " 8601090327: 29324300,\n",
       " 4296824256: 9651749,\n",
       " 4308151062: 30643525,\n",
       " 4301062794: 26797060,\n",
       " 8597318423: 20872435,\n",
       " 4298113679: 12789044,\n",
       " 4307375555: 29943900,\n",
       " 8602725145: 30811359,\n",
       " 4302121754: 27493591,\n",
       " 8589935262: 17004465,\n",
       " 8601666210: 29865888,\n",
       " 8597996195: 22976351,\n",
       " 4299249094: 24959757,\n",
       " 4301062822: 26797101,\n",
       " 4308009639: 29935331,\n",
       " 8602725148: 30811383,\n",
       " 8602211783: 29692387,\n",
       " 8592491180: 19907250,\n",
       " 4308009646: 29935358,\n",
       " 4296016559: 11524003,\n",
       " 4308009648: 29935357,\n",
       " 8601273012: 27269288,\n",
       " 8601273013: 27260320,\n",
       " 8589935302: 17005119,\n",
       " 8602214531: 29690603,\n",
       " 4308009680: 29935332,\n",
       " 4308009681: 29935324,\n",
       " 4308009683: 29935332,\n",
       " 8597603028: 21130570,\n",
       " 4308009685: 29935586,\n",
       " 4308009686: 29935332,\n",
       " 4308009687: 29935602,\n",
       " 4308009690: 29935937,\n",
       " 4308009691: 29936029,\n",
       " 16122590: 16122558,\n",
       " 8592108325: 18995458,\n",
       " 8592490043: 19887354,\n",
       " 8602059492: 24034289,\n",
       " 8598651622: 23813873,\n",
       " 8602059496: 24034293,\n",
       " 4308151079: 30748895,\n",
       " 4304885202: 14100703,\n",
       " 4308009710: 29935346,\n",
       " 8597996274: 22976346,\n",
       " 8598651636: 23813884,\n",
       " 8597603062: 21130598,\n",
       " 8597603063: 21131146,\n",
       " 8602764055: 30787002,\n",
       " 4298910508: 11301045,\n",
       " 4308009738: 29935364,\n",
       " 4304885207: 14100704,\n",
       " 4308009740: 29935604,\n",
       " 4308009741: 29935608,\n",
       " 4308009742: 29935606,\n",
       " 4308009744: 29936008,\n",
       " 4308009745: 29935994,\n",
       " 23790357: 23790115,\n",
       " 8597603094: 21131071,\n",
       " 8590459672: 17316613,\n",
       " 8597603098: 21131138,\n",
       " 8601666333: 29865905,\n",
       " 8602059550: 24038181,\n",
       " 8597603104: 21131141,\n",
       " 8590459681: 17316669,\n",
       " 8597996322: 22976654,\n",
       " 4308009763: 29935377,\n",
       " 4308009764: 29935379,\n",
       " 8590459685: 17316666,\n",
       " 8595440422: 27609430,\n",
       " 8602059560: 24034291,\n",
       " 8598651689: 23813981,\n",
       " 8590459692: 17316668,\n",
       " 4307375581: 29942616,\n",
       " 4296213299: 11781930,\n",
       " 4294968116: 9049715,\n",
       " 4302129501: 27525055,\n",
       " 4308172938: 30652511,\n",
       " 4308009790: 29935391,\n",
       " 4300985997: 26778181,\n",
       " 4302116408: 27376272,\n",
       " 8598903709: 24063265,\n",
       " 8590459724: 17316678,\n",
       " 8594347490: 25849771,\n",
       " 8590459726: 17316894,\n",
       " 8590459728: 17316896,\n",
       " 4296824291: 9651962,\n",
       " 8592047048: 18903391,\n",
       " 4308172942: 30652576,\n",
       " 8597603162: 21131152,\n",
       " 8595425187: 27607402,\n",
       " 8590459744: 17316773,\n",
       " 4295885669: 9189507,\n",
       " 8595440486: 27615095,\n",
       " 8601272465: 27259866,\n",
       " 4296016745: 11529348,\n",
       " 8589935466: 17013416,\n",
       " 8589935467: 17013413,\n",
       " 8597603180: 21131156,\n",
       " 8595374957: 27566902,\n",
       " 8597603183: 21131254,\n",
       " 29754226: 29750758,\n",
       " 8598651763: 23814266,\n",
       " 8598651765: 23811554,\n",
       " 4296223551: 11332395,\n",
       " 8595440508: 27614910,\n",
       " 4300997502: 13811668,\n",
       " 8594894899: 27240740,\n",
       " 4301849474: 27486806,\n",
       " 4296016771: 11529368,\n",
       " 8595351451: 27573814,\n",
       " 8597603208: 21131262,\n",
       " 8597603210: 21131278,\n",
       " 4300013719: 25748486,\n",
       " 8590525324: 17978284,\n",
       " 4304798606: 16119317,\n",
       " 8590459792: 17317958,\n",
       " 4300997521: 13812630,\n",
       " 8598651795: 23813915,\n",
       " 8590525332: 17341644,\n",
       " 8598651798: 23813912,\n",
       " 8592491416: 19987454,\n",
       " 4307288988: 29808456,\n",
       " 8598651805: 23814460,\n",
       " 8598651806: 23813913,\n",
       " 4296016803: 11529499,\n",
       " 8597603238: 21131325,\n",
       " 8597603239: 21131311,\n",
       " 8597603240: 21131323,\n",
       " 8590459824: 17316907,\n",
       " 8590459826: 17318340,\n",
       " 4304798643: 16119324,\n",
       " 4301063093: 26771414,\n",
       " 8590459831: 17318332,\n",
       " 4297042762: 12686006,\n",
       " 4295338017: 9154857,\n",
       " 8602059714: 24038102,\n",
       " 4304671463: 13974664,\n",
       " 8594850760: 20276762,\n",
       " 4302963658: 12978925,\n",
       " 29754317: 29750758,\n",
       " 4297042765: 12686003,\n",
       " 8594368977: 25863657,\n",
       " 29754324: 29750758,\n",
       " 4297042766: 12686000,\n",
       " 4301849559: 27486962,\n",
       " 29754329: 29750758,\n",
       " 4304667612: 13935977,\n",
       " 4302818558: 12882069,\n",
       " 4300145633: 24860866,\n",
       " 4308075490: 30676483,\n",
       " 4300145635: 24860865,\n",
       " 4307289067: 29808905,\n",
       " 4307380025: 29967914,\n",
       " 8592491505: 19908818,\n",
       " 4300145650: 24860848,\n",
       " 8594850805: 20277570,\n",
       " 8592491510: 19908821,\n",
       " 4297880647: 11595757,\n",
       " 8590525438: 17341676,\n",
       " 8594850815: 20282156,\n",
       " 8598148608: 21743173,\n",
       " 4307647461: 28605901,\n",
       " 8592491527: 19913842,\n",
       " 4294968330: 9051693,\n",
       " 4303465303: 15176294,\n",
       " 4308075532: 30677489,\n",
       " 4305016322: 16126700,\n",
       " 8594368979: 25863955,\n",
       " 4305169240: 16159419,\n",
       " 4304798741: 16119280,\n",
       " 4304798742: 16119403,\n",
       " 4307289111: 29808964,\n",
       " 4300145690: 24860882,\n",
       " 4304896175: 14111570,\n",
       " 8594850844: 20282171,\n",
       " 8594850845: 20282172,\n",
       " 4308075550: 30677502,\n",
       " 4301849632: 27486813,\n",
       " 4299252361: 24987791,\n",
       " 4308075555: 30677503,\n",
       " 4300997672: 14075485,\n",
       " 4297042780: 12686012,\n",
       " 4296213546: 11783819,\n",
       " 8594347527: 25849210,\n",
       " 8592490674: 19912115,\n",
       " 8590207837: 17176922,\n",
       " 8592557104: 20098511,\n",
       " 8592557110: 20098513,\n",
       " 8594347529: 25851077,\n",
       " 4302908255: 12947921,\n",
       " 8590525508: 17342378,\n",
       " 8595375178: 27593670,\n",
       " 4301003464: 14077354,\n",
       " 4303530850: 15046598,\n",
       " 8594347533: 25849210,\n",
       " 8597897400: 20247146,\n",
       " 4296213588: 11784091,\n",
       " 4298181802: 11602451,\n",
       " 4301849688: 27487162,\n",
       " 4303530852: 15047038,\n",
       " 4303291483: 14853567,\n",
       " 4301849692: 27487189,\n",
       " 8590525536: 17341678,\n",
       " 4308075617: 30676536,\n",
       " 4308183502: 30759512,\n",
       " 4303530854: 15046596,\n",
       " 4305016337: 16126702,\n",
       " 8590525545: 17341677,\n",
       " 4305016338: 16126703,\n",
       " 4304667758: 13938563,\n",
       " 8595375215: 27594033,\n",
       " 8590525561: 17978642,\n",
       " 8590525563: 17978638,\n",
       " 8592491644: 19913638,\n",
       " 8601666685: 29865903,\n",
       " 8592491646: 19913641,\n",
       " 8592491647: 19913643,\n",
       " 4308075648: 30676510,\n",
       " 4308172992: 30756240,\n",
       " 4308075652: 30676512,\n",
       " 8595375238: 27593941,\n",
       " 4305289409: 16163899,\n",
       " 4308010120: 29937818,\n",
       " 8602342935: 30354431,\n",
       " 4305289410: 16163895,\n",
       " 8592557198: 20098503,\n",
       " 4308010136: 30614750,\n",
       " 8595375257: 27594056,\n",
       " 4301063322: 26771747,\n",
       " 4308010140: 30614749,\n",
       " 8590460063: 17317480,\n",
       " 8590460065: 17316915,\n",
       " 8594850980: 20282179,\n",
       " 8590460072: 17316919,\n",
       " 8598148636: 21743246,\n",
       " 8592557227: 20099095,\n",
       " 4302089074: 27609442,\n",
       " 8590460079: 17316931,\n",
       " 8598652082: 23814946,\n",
       " 8598652087: 23814952,\n",
       " 8592114710: 18999279,\n",
       " 4296934590: 9769874,\n",
       " 8598652097: 23815041,\n",
       " 8598652098: 23815045,\n",
       " 8590460099: 17317638,\n",
       " 8594223143: 25394727,\n",
       " 8598652108: 23815035,\n",
       " 4303291598: 14853684,\n",
       " 4301063376: 26797294,\n",
       " 4301063377: 26799180,\n",
       " 8594851026: 20282196,\n",
       " 8590525651: 17342384,\n",
       " 4301849812: 27486994,\n",
       " 4308173006: 30751821,\n",
       " 4304667862: 13937775,\n",
       " 8592492242: 19914338,\n",
       " 4300145883: 24861292,\n",
       " 8602322140: 30261811,\n",
       " 8590460125: 17317640,\n",
       " 8590460126: 17317705,\n",
       " 8590460128: 17317631,\n",
       " 4296212688: 11331399,\n",
       " 4304667875: 13937773,\n",
       " 8602322148: 29546092,\n",
       " 4300145893: 24861311,\n",
       " 8602692010: 30771117,\n",
       " 8590460136: 17318366,\n",
       " 8597996778: 22977544,\n",
       " 8590460139: 17318380,\n",
       " 8592557293: 20099041,\n",
       " 8590460142: 17318413,\n",
       " 8592557295: 20099042,\n",
       " 4301062355: 26766883,\n",
       " 8601076982: 23025757,\n",
       " 4303291642: 14853683,\n",
       " 4297196796: 12770116,\n",
       " 4302963969: 12978969,\n",
       " 4302168797: 27708791,\n",
       " 8590460167: 17318772,\n",
       " 4297196810: 12770531,\n",
       " 8590460171: 17318789,\n",
       " 8590460174: 17317631,\n",
       " 4307131747: 28600325,\n",
       " 8590460176: 17318774,\n",
       " 4301063444: 26797372,\n",
       " 8590525717: 17978763,\n",
       " 4297196822: 12770621,\n",
       " 8590460184: 17318788,\n",
       " 8592491801: 19914208,\n",
       " 8592491802: 19914207,\n",
       " 8592491803: 19913938,\n",
       " 8590460188: 17318793,\n",
       " 8595375393: 27567576,\n",
       " 4296934694: 9770351,\n",
       " 8598652200: 23815414,\n",
       " 8592491817: 19915044,\n",
       " 4296934698: 9769900,\n",
       " 8592491820: 19914798,\n",
       " 4296934701: 9769890,\n",
       " 4296934703: 9770356,\n",
       " 8595375408: 27645105,\n",
       " 4302964019: 12979524,\n",
       " 8601077044: 23025868,\n",
       " 4294967518: 9049649,\n",
       " 4304667959: 13938010,\n",
       " 8592557370: 20099104,\n",
       " 4304667963: 13938799,\n",
       " 4302964032: 12979616,\n",
       " 4297196868: 12770767,\n",
       " 4297196869: 12770776,\n",
       " 4308173025: 30756266,\n",
       " 8592491849: 19915076,\n",
       " 4307289418: 29808965,\n",
       " 4302964048: 12979472,\n",
       " 4302964049: 12979872,\n",
       " 4302964050: 12979874,\n",
       " 4307289427: 29809321,\n",
       " 8601666902: 29865915,\n",
       " 8595375447: 27645125,\n",
       " 8595375449: 27645123,\n",
       " 4304667995: 13938908,\n",
       " 8595375452: 27645133,\n",
       " 8594851167: 20277608,\n",
       " 8592491874: 19914186,\n",
       " 4302964067: 12980146,\n",
       " 4296934756: 9772449,\n",
       " 8594851176: 20277607,\n",
       " 8601666921: 29865977,\n",
       " 4297042621: 12683476,\n",
       " 4307289459: 29808726,\n",
       " 8594851188: 20282583,\n",
       " 4296934773: 9769877,\n",
       " 4296934778: 9772508,\n",
       " 4296934780: 9772583,\n",
       " 8601666941: 29865987,\n",
       " 4295895957: 11019609,\n",
       " 4296934785: 9772594,\n",
       " 4296934786: 9772587,\n",
       " 8592557445: 20099159,\n",
       " 4302964102: 12979634,\n",
       " 8602342978: 30354505,\n",
       " 8594851214: 20282644,\n",
       " 8601533352: 29640503,\n",
       " 8594851220: 20282593,\n",
       " 4307289497: 29873215,\n",
       " 8601601442: 27665829,\n",
       " 8601077155: 23026012,\n",
       " 4296934821: 9772511,\n",
       " 4297196966: 12770673,\n",
       " 4304668071: 13937976,\n",
       " 4297196968: 12770584,\n",
       " 4297196969: 12770852,\n",
       " 8601601450: 27679498,\n",
       " 8601601457: 27674829,\n",
       " 8592491954: 19914189,\n",
       " 4307289523: 29808752,\n",
       " 8601601460: 27679508,\n",
       " 4302952009: 14877543,\n",
       " 8601601465: 27665830,\n",
       " 8601601466: 27679538,\n",
       " 8601601469: 27665628,\n",
       " 8601601470: 27679540,\n",
       " 4297196992: 12770790,\n",
       " 8601601475: 27665628,\n",
       " 8590001605: 17020889,\n",
       " 4304668102: 13973880,\n",
       " 4304668103: 13973878,\n",
       " 4301063624: 26797117,\n",
       " 8590001610: 17021209,\n",
       " 4298114507: 12781868,\n",
       " 8598334370: 22061833,\n",
       " 4304668110: 13974482,\n",
       " 4297197007: 12770783,\n",
       " 4304668114: 13974478,\n",
       " 8601601492: 27665628,\n",
       " 8590001622: 17021210,\n",
       " 8590001623: 17019866,\n",
       " 4296934872: 9773371,\n",
       " 4296934874: 9773374,\n",
       " 8601601499: 27679569,\n",
       " 8601601500: 27679570,\n",
       " 4300998109: 13815752,\n",
       " 8590001631: 17020277,\n",
       " 4296934881: 9770360,\n",
       " 4301063650: 26797368,\n",
       " 4304668131: 13938012,\n",
       " 4304668132: 13938009,\n",
       " 4298114533: 11594605,\n",
       " 8590001639: 17020291,\n",
       " 8590001640: 17021220,\n",
       " 4301063657: 26797369,\n",
       " 4301063658: 26797371,\n",
       " 8590001643: 17021223,\n",
       " 8601055440: 23001428,\n",
       " 8590001645: 17021216,\n",
       " 8601601518: 27679573,\n",
       " 8601601519: 27679574,\n",
       " 8601601520: 27679611,\n",
       " 8601601521: 27679614,\n",
       " 8601601522: 27665628,\n",
       " 8590001651: 17021232,\n",
       " 8602076182: 30314824,\n",
       " 8590001654: 17020890,\n",
       " 8590001656: 17020664,\n",
       " 8590001658: 17021229,\n",
       " 4304799227: 16119487,\n",
       " 8590001660: 17020892,\n",
       " 4301063677: 26797397,\n",
       " 8601601534: 27679517,\n",
       " 8601601535: 27679518,\n",
       " 8590001664: 17020665,\n",
       " 8590001665: 17020893,\n",
       " 4304799234: 16119590,\n",
       " 8590001667: 17020897,\n",
       " 4304668164: 13938036,\n",
       " 4304668165: 13974477,\n",
       " 4304668166: 13938034,\n",
       " 4297197125: 12775557,\n",
       " 8590001673: 17020666,\n",
       " 8601055441: 23001442,\n",
       " 8590001678: 17021244,\n",
       " 4301063695: 26799228,\n",
       " 4304799248: 16120639,\n",
       " 8594851345: 20282812,\n",
       " 4296934930: 9773409,\n",
       " 4298114579: 12781928,\n",
       " 4298114580: 12781926,\n",
       " 8592492054: 19915789,\n",
       " 8592492056: 19915842,\n",
       " 4301063707: 26797401,\n",
       " 8598148698: 21743323,\n",
       " 8592492062: 19915841,\n",
       " 4295131397: 9220642,\n",
       " 8601601568: 27679676,\n",
       " 8601601569: 27679606,\n",
       " 8590460450: 17317710,\n",
       " 8594851363: 20282710,\n",
       " 8590460453: 17317706,\n",
       " 8590460454: 17317707,\n",
       " 8590568369: 18180866,\n",
       " 8590460456: 17317712,\n",
       " 4295886377: 9192597,\n",
       " 8598814983: 23804977,\n",
       " 8601601580: 27679678,\n",
       " 8594851373: 20282855,\n",
       " 8601601583: 27679859,\n",
       " 8594851376: 20282853,\n",
       " 8598814984: 23805054,\n",
       " 8601601586: 27679677,\n",
       " 8592492083: 19915950,\n",
       " 8592492089: 19914280,\n",
       " 8592492090: 19915946,\n",
       " 8594851387: 20282851,\n",
       " 8590460477: 17317631,\n",
       " 4297197118: 12770368,\n",
       " 8592492096: 19915968,\n",
       " 8601601601: 27679721,\n",
       " 4297197122: 12775561,\n",
       " 8601601603: 27679724,\n",
       " 8601601604: 27679692,\n",
       " 8601601605: 27679609,\n",
       " 8598148705: 21743284,\n",
       " 28606732: 28606706,\n",
       " 4308151223: 30020689,\n",
       " 8590460492: 17317631,\n",
       " 8601667150: 29869577,\n",
       " 4295000333: 9095934,\n",
       " 8601667152: 29869582,\n",
       " 8601601618: 27679694,\n",
       " 8601601619: 27679880,\n",
       " 8601601620: 27679697,\n",
       " 8601601621: 27679727,\n",
       " 8601601622: 27679882,\n",
       " 8601601623: 27679883,\n",
       " 8590460514: 17318781,\n",
       " 8590460515: 17317631,\n",
       " 8590460516: 17318786,\n",
       " 8590460517: 17318787,\n",
       " 8601601638: 27679619,\n",
       " 8601601639: 27679733,\n",
       " 8601601641: 27679622,\n",
       " 8601601642: 27665628,\n",
       " 8592184935: 19254277,\n",
       " 8601601645: 27665628,\n",
       " 8590001775: 17021252,\n",
       " 8590460529: 17318799,\n",
       " 4295886450: 11006424,\n",
       " 8590460532: 17318790,\n",
       " 4308151230: 30020711,\n",
       " 4308010614: 30614810,\n",
       " 8590001783: 17021268,\n",
       " 4304799352: 16120656,\n",
       " 8590001785: 17020683,\n",
       " 8601601660: 27665628,\n",
       " 8602670698: 30733498,\n",
       " 8601601662: 27679760,\n",
       " 8601601663: 27679726,\n",
       " 8601601664: 27679729,\n",
       " 8601601668: 27679731,\n",
       " 8601601669: 27679918,\n",
       " 8601601670: 27679919,\n",
       " 8595375753: 27645361,\n",
       " 8592490775: 19912255,\n",
       " 4297197196: 12775575,\n",
       " 8590001805: 17020930,\n",
       " 8590001809: 17021284,\n",
       " 8602342979: 30354491,\n",
       " 8602322579: 30265371,\n",
       " 8602322581: 30265375,\n",
       " 4304799383: 16120671,\n",
       " 8590001816: 17021272,\n",
       " 8601601689: 27666645,\n",
       " 8601601691: 27666644,\n",
       " 8590001820: 17020916,\n",
       " 4302969603: 12970975,\n",
       " 8602322594: 30265420,\n",
       " 8592490779: 19912261,\n",
       " 8601601700: 27679892,\n",
       " 4297197222: 12775780,\n",
       " 4297197223: 12775773,\n",
       " 4308010666: 30607846,\n",
       " 8601601709: 27679923,\n",
       " 8601601710: 27679929,\n",
       " 8601601711: 27679885,\n",
       " 8601274033: 27262663,\n",
       " 4308045638: 30643407,\n",
       " 8601667253: 29869590,\n",
       " 8601667254: 29869591,\n",
       " 8601667255: 29869595,\n",
       " 8598017652: 23118528,\n",
       " 4294967583: 9049973,\n",
       " 8592490784: 19912266,\n",
       " 8601054155: 22978695,\n",
       " 8601601737: 27680009,\n",
       " 30607050: 28602004,\n",
       " 8594216567: 25268907,\n",
       " 8601601744: 27680010,\n",
       " 8601601746: 27680012,\n",
       " 4307289814: 29809017,\n",
       " 8601601754: 27680026,\n",
       " 8598133738: 21795093,\n",
       " 8601601757: 27680031,\n",
       " 4307289822: 29808941,\n",
       " 4305497040: 16190286,\n",
       " 4297197283: 12770998,\n",
       " 4297197284: 12770974,\n",
       " 4297197285: 12770970,\n",
       " 8601601766: 27680033,\n",
       " 8601601768: 27680067,\n",
       " 8601601770: 27680035,\n",
       " 8601601771: 27680034,\n",
       " 4297197292: 12771015,\n",
       " 29755117: 29755082,\n",
       " 8601601774: 27680071,\n",
       " 8601601775: 27680033,\n",
       " 8590001905: 17021224,\n",
       " 8602451530: 29980067,\n",
       " 8601601782: 27680068,\n",
       " 8601601785: 27680082,\n",
       " 4307289850: 29823250,\n",
       " 4307289851: 29823252,\n",
       " 8601601788: 27680083,\n",
       " 4303530965: 15047271,\n",
       " 4297197312: 12770799,\n",
       " 8601601793: 27680081,\n",
       " 8601601795: 27680114,\n",
       " 8598128388: 20948594,\n",
       " 4303530966: 15047269,\n",
       " 4297197319: 12771180,\n",
       " 8601601803: 27680086,\n",
       " 8594216578: 25271356,\n",
       " 8601601810: 27680115,\n",
       " 4296922755: 9792271,\n",
       " 8601601812: 27680113,\n",
       " 8601601813: 27680122,\n",
       " 8601601815: 27680131,\n",
       " 8601601816: 27680141,\n",
       " 4300985988: 26564046,\n",
       " 8601601819: 27680112,\n",
       " 8598128412: 20948602,\n",
       " 8601601823: 27680121,\n",
       " 8590001952: 17021263,\n",
       " 8590001957: 17021301,\n",
       " 8590001958: 17021303,\n",
       " 8590001959: 17021291,\n",
       " 8601274153: 27261015,\n",
       " 4300920455: 13808245,\n",
       " 8601274156: 27262664,\n",
       " 8590001965: 17021321,\n",
       " 4297197361: 12770977,\n",
       " 8601601848: 27680147,\n",
       " 4297197369: 12775678,\n",
       " 8601601850: 27665628,\n",
       " 8590568415: 18180534,\n",
       " 8601601854: 27665628,\n",
       " 8601601855: 27679545,\n",
       " 8601077568: 23025933,\n",
       " 4296017731: 11524230,\n",
       " 8601601862: 27665628,\n",
       " 4300998472: 14076411,\n",
       " 8601601868: 27665628,\n",
       " 4297197389: 12775915,\n",
       " 4301051533: 26752604,\n",
       " 8601601875: 27665628,\n",
       " 8601601876: 27698912,\n",
       " 8601601877: 27679528,\n",
       " 8601077590: 23025888,\n",
       " 8601274199: 27261031,\n",
       " 8595221476: 25868413,\n",
       " 4298114907: 12781916,\n",
       " 8592492380: 19914357,\n",
       " 8601601886: 27665628,\n",
       " 8601601887: 27665628,\n",
       " 8598902416: 24062276,\n",
       " 8590002022: 17048522,\n",
       " 4300998505: 13816026,\n",
       " 8601077612: 29319654,\n",
       " 4298114926: 12782087,\n",
       " 8601601904: 27698932,\n",
       " 4300998514: 13824689,\n",
       " 8601601908: 27698930,\n",
       " 4307088047: 29822419,\n",
       " 8601667446: 29869677,\n",
       " 20261865: 20259485,\n",
       " 8601601912: 27698913,\n",
       " 8601601913: 27679551,\n",
       " 8601667450: 29869676,\n",
       " 8601601915: 27698936,\n",
       " 8601077628: 23025948,\n",
       " 8601077629: 23025932,\n",
       " 8601601919: 27698972,\n",
       " 8601077632: 23025950,\n",
       " 8601601922: 27698965,\n",
       " 8601077635: 23025930,\n",
       " 8601077637: 29319563,\n",
       " 8601601926: 27698963,\n",
       " 8592492428: 19987455,\n",
       " 8592492429: 19987456,\n",
       " 8601077648: 29319686,\n",
       " 8601339793: 29389560,\n",
       " 4298114962: 12781921,\n",
       " 8601601939: 27699044,\n",
       " 8601601940: 27699050,\n",
       " 8601077653: 23026083,\n",
       " 4298114966: 12781915,\n",
       " 4300998552: 14075685,\n",
       " 8590002074: 17066137,\n",
       " 4300998555: 14075699,\n",
       " 4300998556: 14075702,\n",
       " 8601601950: 27665628,\n",
       " 8594851745: 20282776,\n",
       " 8601077667: 23026080,\n",
       " 8601077668: 23026077,\n",
       " 8601077673: 23026082,\n",
       " 8601601962: 27679633,\n",
       " 8601339819: 29389544,\n",
       " 4298114989: 12782095,\n",
       " 8601077679: 23026124,\n",
       " 8601601968: 27665628,\n",
       " 8601601969: 27665628,\n",
       " 8601601970: 27679638,\n",
       " 8602322867: 30282268,\n",
       " 8602322868: 30282269,\n",
       " 8601601973: 27665628,\n",
       " 8601601975: 27679643,\n",
       " 8601077688: 29354695,\n",
       " 8601601977: 27679642,\n",
       " 4300998586: 14076564,\n",
       " 4300144971: 24859982,\n",
       " 8601274308: 27262716,\n",
       " 4296017864: 11530175,\n",
       " 8601601993: 27700590,\n",
       " 8601601994: 27700583,\n",
       " 4300998604: 14076593,\n",
       " 8601601997: 27700599,\n",
       " 8601601999: 27700554,\n",
       " 8601602002: 27700554,\n",
       " 8592492499: 19916047,\n",
       " 8601602005: 27700666,\n",
       " 8601602006: 27700654,\n",
       " 4296017879: 11530163,\n",
       " 8601602008: 27700656,\n",
       " 4298115035: 12782024,\n",
       " 8601602013: 27700657,\n",
       " 8601602015: 27700660,\n",
       " 4308010976: 30614668,\n",
       " 8601602017: 27700669,\n",
       " 8601602018: 27700670,\n",
       " 4295231459: 9106087,\n",
       " 8601602020: 27700675,\n",
       " 8602322917: 30282275,\n",
       " 8601602023: 27700661,\n",
       " 8601602024: 27700671,\n",
       " 4295231465: 9136299,\n",
       " 8601602026: 27700674,\n",
       " 4295231467: 9136333,\n",
       " 8601602029: 27665628,\n",
       " 8601602030: 27679756,\n",
       " 8601667574: 29865953,\n",
       " 8601602040: 27679755,\n",
       " 8601602041: 27679623,\n",
       " 8590002170: 17048907,\n",
       " 4295231483: 9106088,\n",
       " 8601667580: 29865957,\n",
       " 8601602046: 27679794,\n",
       " 8601602047: 27665628,\n",
       " 8601602048: 27679790,\n",
       " 8601602049: 27679792,\n",
       " 8601667586: 29865944,\n",
       " 8601667587: 29865967,\n",
       " 8601274372: 27272141,\n",
       " 8602060806: 24090972,\n",
       " 8601667594: 29869670,\n",
       " ...}"
      ]
     },
     "execution_count": 90,
     "metadata": {},
     "output_type": "execute_result"
    }
   ],
   "source": [
    "mappings"
   ]
  },
  {
   "cell_type": "code",
   "execution_count": null,
   "metadata": {
    "collapsed": true
   },
   "outputs": [],
   "source": [
    "from spark_fof.spark_fof import get_bin\n",
    "\n",
    "domain_containers = fof_analyzer.domain_containers\n",
    "\n",
    "mins = fof_analyzer.mins\n",
    "maxs = fof_analyzer.maxs\n",
    "nbins = fof_analyzer.nBins\n",
    "\n",
    "global_to_local_map = fof_analyzer.global_to_local_map\n",
    "gl_to_loc_map_b = sc.broadcast(global_to_local_map)\n",
    "\n",
    "def set_bin(pos): \n",
    "    pos = np.array(pos, dtype=np.float32)\n",
    "    gl_to_loc_map = gl_to_loc_map_b.value\n",
    "    \n",
    "    mybin = get_bin(np.array(pos, dtype=np.float32),nbins,mins,maxs)\n",
    "    \n",
    "    \n",
    "set_bin = lambda pos: gl_to_loc_map_b.value[get_bin(np.array(pos, dtype=np.float32),nbins,mins,maxs)]\n",
    "\n",
    "def get_bin2(particles):\n",
    "    for p in particles:\n",
    "        b = get_bin(p['pos'],nbins,mins,maxs)\n",
    "        if b in gl_to_loc_map_b.value:\n",
    "            yield (gl_to_loc_map_b.value[b], p)\n",
    "    "
   ]
  },
  {
   "cell_type": "code",
   "execution_count": null,
   "metadata": {
    "collapsed": false
   },
   "outputs": [],
   "source": [
    "groups_map = (fof_rdd.flatMap(lambda p: p[np.where(p['is_ghost'])[0]])\n",
    "                     .mapPartitions(get_bin2)\n",
    "                     .partitionBy(6)).cache()\n",
    "#                       .map(lambda (partition_id, (particle_id,group_id)): (particle_id,group_id), \n",
    "#                            preservesPartitioning=True))\n",
    "#                      .aggregateByKey([], lambda l, g: l + [g], lambda a, b: sorted(a + b), \n",
    "#                                      partitionFunc=set_bin))\n",
    "#                      .values()\n",
    "#                      .flatMap(lambda gs: [(g, gs[0]) for g in gs[1:]])).collect()"
   ]
  },
  {
   "cell_type": "code",
   "execution_count": null,
   "metadata": {
    "collapsed": false
   },
   "outputs": [],
   "source": [
    "groups_map.first()"
   ]
  },
  {
   "cell_type": "code",
   "execution_count": 27,
   "metadata": {
    "collapsed": false
   },
   "outputs": [],
   "source": [
    "x = fof_rdd.flatMap(lambda p: p[np.where(p['is_ghost']>0)[0]]).map(lambda p: (get_bin(p['pos'],nbins,mins,maxs), p))"
   ]
  },
  {
   "cell_type": "code",
   "execution_count": 39,
   "metadata": {
    "collapsed": false
   },
   "outputs": [
    {
     "data": {
      "text/plain": [
       "[(78680421, 1),\n",
       " (78680422, 1),\n",
       " (78680429, 1),\n",
       " (78680434, 1),\n",
       " (78680538, 1),\n",
       " (78680710, 1),\n",
       " (78680712, 1),\n",
       " (78787492, 1),\n",
       " (78787559, 1),\n",
       " (78787861, 1),\n",
       " (78787961, 1),\n",
       " (78787964, 1),\n",
       " (78787968, 1),\n",
       " (78788236, 1),\n",
       " (78788237, 1),\n",
       " (78788238, 1),\n",
       " (78788240, 1),\n",
       " (78788244, 1),\n",
       " (78788595, 1),\n",
       " (78788596, 1)]"
      ]
     },
     "execution_count": 39,
     "metadata": {},
     "output_type": "execute_result"
    }
   ],
   "source": [
    "fof_rdd.flatMap(lambda p: p[np.where(p['is_ghost']==2)[0]])\\\n",
    "       .mapPartitions(get_bin2).take(20)"
   ]
  },
  {
   "cell_type": "code",
   "execution_count": 28,
   "metadata": {
    "collapsed": false
   },
   "outputs": [],
   "source": [
    "bad = x.filter(lambda (binid,p): binid not in gl_to_loc_map_b.value).collect()"
   ]
  },
  {
   "cell_type": "code",
   "execution_count": 34,
   "metadata": {
    "collapsed": false
   },
   "outputs": [
    {
     "data": {
      "text/plain": [
       "[([-0.06573289632797241, -0.06575457006692886, -0.06612294912338257], 1, 0, 12),\n",
       " ([-0.06573054194450378, -0.06575792282819748, -0.06612083315849304], 1, 1, 12),\n",
       " ([-0.0657329186797142, -0.06576550006866455, -0.06612081825733185], 1, 2, 12),\n",
       " ([-0.06572426110506058, -0.06575217097997665, -0.0661124736070633], 1, 3, 12),\n",
       " ([-0.06572258472442627, -0.06576202064752579, -0.06610748916864395], 1, 4, 12),\n",
       " ([-0.06572159379720688, -0.06575781106948853, -0.06611243635416031], 1, 5, 12),\n",
       " ([-0.06577809154987335, -0.06563536077737808, -0.06611169129610062], 1, 6, 22),\n",
       " ([-0.06577938795089722, -0.06562937796115875, -0.06611119955778122], 1, 7, 22),\n",
       " ([-0.0657726302742958, -0.06563825905323029, -0.06612486392259598], 1, 8, 22),\n",
       " ([-0.0657418817281723, -0.06561712920665741, -0.0660964697599411], 1, 9, 22),\n",
       " ([-0.06573700904846191, -0.0656098797917366, -0.06609456986188889], 1, 10, 22),\n",
       " ([-0.06577926874160767, -0.06562548875808716, -0.06606430560350418], 1, 11, 22),\n",
       " ([-0.06577067077159882, -0.06562656164169312, -0.06607580184936523], 1, 12, 22),\n",
       " ([-0.06577623635530472, -0.0656353309750557, -0.06605629622936249], 1, 13, 22),\n",
       " ([-0.06580622494220734, -0.06562133878469467, -0.0660814493894577], 1, 14, 22),\n",
       " ([-0.0657927542924881, -0.0656202957034111, -0.06606059521436691], 1, 15, 22),\n",
       " ([-0.06577076762914658, -0.06562246382236481, -0.06605318933725357], 1, 16, 22),\n",
       " ([-0.06579626351594925, -0.06563334167003632, -0.06606107205152512], 1, 17, 22),\n",
       " ([-0.06596595793962479, -0.06536920368671417, -0.06595992296934128], 1, 18, 265),\n",
       " ([-0.06597138941287994, -0.06538237631320953, -0.06595470756292343], 1, 19, 265)]"
      ]
     },
     "execution_count": 34,
     "metadata": {},
     "output_type": "execute_result"
    }
   ],
   "source": [
    "fof_rdd.flatMap(lambda x: x[np.where(x['is_ghost']==2)[0]]).take(20)"
   ]
  },
  {
   "cell_type": "code",
   "execution_count": 44,
   "metadata": {
    "collapsed": false
   },
   "outputs": [
    {
     "data": {
      "text/plain": [
       "[([-0.0655440017580986, -0.06568702310323715, -0.06613755971193314], 2, 4721, 0)]"
      ]
     },
     "execution_count": 44,
     "metadata": {},
     "output_type": "execute_result"
    }
   ],
   "source": [
    "fof_analyzer.partitioned_rdd.flatMap(lambda p: p[np.where(p['iOrder']==4721)]).take(2)"
   ]
  },
  {
   "cell_type": "code",
   "execution_count": 39,
   "metadata": {
    "collapsed": false
   },
   "outputs": [
    {
     "data": {
      "text/plain": [
       "[([-0.06543324887752533, -0.06370767951011658, -0.033066850155591965], 2, 78788236, 10066285),\n",
       " ([-0.06543324887752533, -0.06370767951011658, -0.033066850155591965], 1, 78788236, 4294980728)]"
      ]
     },
     "execution_count": 39,
     "metadata": {},
     "output_type": "execute_result"
    }
   ],
   "source": [
    "fof_rdd.flatMap(lambda x: x[np.where(x['iOrder']==78788236)]).take(2)"
   ]
  },
  {
   "cell_type": "code",
   "execution_count": 45,
   "metadata": {
    "collapsed": false
   },
   "outputs": [
    {
     "data": {
      "text/plain": [
       "{(30, 30, 30): 0,\n",
       " (30, 30, 31): 1,\n",
       " (30, 30, 32): 2,\n",
       " (30, 31, 30): 3,\n",
       " (30, 31, 31): 4,\n",
       " (30, 31, 32): 5,\n",
       " (30, 32, 30): 6,\n",
       " (30, 32, 31): 7,\n",
       " (30, 32, 32): 8,\n",
       " (31, 30, 30): 9,\n",
       " (31, 30, 31): 10,\n",
       " (31, 30, 32): 11,\n",
       " (31, 31, 30): 12,\n",
       " (31, 31, 31): 13,\n",
       " (31, 31, 32): 14,\n",
       " (31, 32, 30): 15,\n",
       " (31, 32, 31): 16,\n",
       " (31, 32, 32): 17,\n",
       " (32, 30, 30): 18,\n",
       " (32, 30, 31): 19,\n",
       " (32, 30, 32): 20,\n",
       " (32, 31, 30): 21,\n",
       " (32, 31, 31): 22,\n",
       " (32, 31, 32): 23,\n",
       " (32, 32, 30): 24,\n",
       " (32, 32, 31): 25,\n",
       " (32, 32, 32): 26}"
      ]
     },
     "execution_count": 45,
     "metadata": {},
     "output_type": "execute_result"
    }
   ],
   "source": [
    "ids_map"
   ]
  },
  {
   "cell_type": "code",
   "execution_count": 30,
   "metadata": {
    "collapsed": false
   },
   "outputs": [
    {
     "data": {
      "text/plain": [
       "{113303: 0,\n",
       " 113304: 9,\n",
       " 113305: 18,\n",
       " 113365: 3,\n",
       " 113366: 12,\n",
       " 113367: 21,\n",
       " 113427: 6,\n",
       " 113428: 15,\n",
       " 113429: 24,\n",
       " 117147: 1,\n",
       " 117148: 10,\n",
       " 117149: 19,\n",
       " 117209: 4,\n",
       " 117210: 13,\n",
       " 117211: 22,\n",
       " 117271: 7,\n",
       " 117272: 16,\n",
       " 117273: 25,\n",
       " 120991: 2,\n",
       " 120992: 11,\n",
       " 120993: 20,\n",
       " 121053: 5,\n",
       " 121054: 14,\n",
       " 121055: 23,\n",
       " 121115: 8,\n",
       " 121116: 17,\n",
       " 121117: 26}"
      ]
     },
     "execution_count": 30,
     "metadata": {},
     "output_type": "execute_result"
    }
   ],
   "source": [
    "global_to_local_map"
   ]
  },
  {
   "cell_type": "code",
   "execution_count": 29,
   "metadata": {
    "collapsed": false
   },
   "outputs": [
    {
     "ename": "Py4JJavaError",
     "evalue": "An error occurred while calling z:org.apache.spark.api.python.PythonRDD.runJob.\n: org.apache.spark.SparkException: Job aborted due to stage failure: Task 0 in stage 11.0 failed 4 times, most recent failure: Lost task 0.3 in stage 11.0 (TID 232, 10.205.8.59): org.apache.spark.api.python.PythonException: Traceback (most recent call last):\n  File \"/cluster/home/roskarr/spark/python/lib/pyspark.zip/pyspark/worker.py\", line 170, in main\n    profiler.profile(process)\n  File \"/cluster/home/roskarr/spark/python/lib/pyspark.zip/pyspark/profiler.py\", line 160, in profile\n    pr.runcall(func)\n  File \"/cluster/home/roskarr/miniconda2/lib/python2.7/cProfile.py\", line 149, in runcall\n    return func(*args, **kw)\n  File \"/cluster/home/roskarr/spark/python/lib/pyspark.zip/pyspark/worker.py\", line 167, in process\n    serializer.dump_stream(func(split_index, iterator), outfile)\n  File \"/cluster/home/roskarr/spark/python/lib/pyspark.zip/pyspark/serializers.py\", line 133, in dump_stream\n    for obj in iterator:\n  File \"/cluster/home/roskarr/spark/python/pyspark/rdd.py\", line 1719, in add_shuffle_key\n    buckets[partitionFunc(k) % numPartitions].append((k, v))\n  File \"<ipython-input-28-bbeec40f7b7f>\", line 12, in <lambda>\nKeyError: 109459\n\n\tat org.apache.spark.api.python.PythonRunner$$anon$1.read(PythonRDD.scala:193)\n\tat org.apache.spark.api.python.PythonRunner$$anon$1.next(PythonRDD.scala:156)\n\tat org.apache.spark.api.python.PythonRunner$$anon$1.next(PythonRDD.scala:152)\n\tat org.apache.spark.InterruptibleIterator.next(InterruptibleIterator.scala:43)\n\tat scala.collection.Iterator$GroupedIterator.takeDestructively(Iterator.scala:1076)\n\tat scala.collection.Iterator$GroupedIterator.go(Iterator.scala:1091)\n\tat scala.collection.Iterator$GroupedIterator.fill(Iterator.scala:1129)\n\tat scala.collection.Iterator$GroupedIterator.hasNext(Iterator.scala:1132)\n\tat scala.collection.Iterator$$anon$11.hasNext(Iterator.scala:408)\n\tat org.apache.spark.shuffle.sort.BypassMergeSortShuffleWriter.write(BypassMergeSortShuffleWriter.java:147)\n\tat org.apache.spark.scheduler.ShuffleMapTask.runTask(ShuffleMapTask.scala:79)\n\tat org.apache.spark.scheduler.ShuffleMapTask.runTask(ShuffleMapTask.scala:47)\n\tat org.apache.spark.scheduler.Task.run(Task.scala:86)\n\tat org.apache.spark.executor.Executor$TaskRunner.run(Executor.scala:274)\n\tat java.util.concurrent.ThreadPoolExecutor.runWorker(ThreadPoolExecutor.java:1142)\n\tat java.util.concurrent.ThreadPoolExecutor$Worker.run(ThreadPoolExecutor.java:617)\n\tat java.lang.Thread.run(Thread.java:745)\n\nDriver stacktrace:\n\tat org.apache.spark.scheduler.DAGScheduler.org$apache$spark$scheduler$DAGScheduler$$failJobAndIndependentStages(DAGScheduler.scala:1454)\n\tat org.apache.spark.scheduler.DAGScheduler$$anonfun$abortStage$1.apply(DAGScheduler.scala:1442)\n\tat org.apache.spark.scheduler.DAGScheduler$$anonfun$abortStage$1.apply(DAGScheduler.scala:1441)\n\tat scala.collection.mutable.ResizableArray$class.foreach(ResizableArray.scala:59)\n\tat scala.collection.mutable.ArrayBuffer.foreach(ArrayBuffer.scala:48)\n\tat org.apache.spark.scheduler.DAGScheduler.abortStage(DAGScheduler.scala:1441)\n\tat org.apache.spark.scheduler.DAGScheduler$$anonfun$handleTaskSetFailed$1.apply(DAGScheduler.scala:811)\n\tat org.apache.spark.scheduler.DAGScheduler$$anonfun$handleTaskSetFailed$1.apply(DAGScheduler.scala:811)\n\tat scala.Option.foreach(Option.scala:257)\n\tat org.apache.spark.scheduler.DAGScheduler.handleTaskSetFailed(DAGScheduler.scala:811)\n\tat org.apache.spark.scheduler.DAGSchedulerEventProcessLoop.doOnReceive(DAGScheduler.scala:1667)\n\tat org.apache.spark.scheduler.DAGSchedulerEventProcessLoop.onReceive(DAGScheduler.scala:1622)\n\tat org.apache.spark.scheduler.DAGSchedulerEventProcessLoop.onReceive(DAGScheduler.scala:1611)\n\tat org.apache.spark.util.EventLoop$$anon$1.run(EventLoop.scala:48)\n\tat org.apache.spark.scheduler.DAGScheduler.runJob(DAGScheduler.scala:632)\n\tat org.apache.spark.SparkContext.runJob(SparkContext.scala:1890)\n\tat org.apache.spark.SparkContext.runJob(SparkContext.scala:1903)\n\tat org.apache.spark.SparkContext.runJob(SparkContext.scala:1916)\n\tat org.apache.spark.api.python.PythonRDD$.runJob(PythonRDD.scala:441)\n\tat org.apache.spark.api.python.PythonRDD.runJob(PythonRDD.scala)\n\tat sun.reflect.NativeMethodAccessorImpl.invoke0(Native Method)\n\tat sun.reflect.NativeMethodAccessorImpl.invoke(NativeMethodAccessorImpl.java:62)\n\tat sun.reflect.DelegatingMethodAccessorImpl.invoke(DelegatingMethodAccessorImpl.java:43)\n\tat java.lang.reflect.Method.invoke(Method.java:483)\n\tat py4j.reflection.MethodInvoker.invoke(MethodInvoker.java:237)\n\tat py4j.reflection.ReflectionEngine.invoke(ReflectionEngine.java:357)\n\tat py4j.Gateway.invoke(Gateway.java:280)\n\tat py4j.commands.AbstractCommand.invokeMethod(AbstractCommand.java:132)\n\tat py4j.commands.CallCommand.execute(CallCommand.java:79)\n\tat py4j.GatewayConnection.run(GatewayConnection.java:214)\n\tat java.lang.Thread.run(Thread.java:745)\nCaused by: org.apache.spark.api.python.PythonException: Traceback (most recent call last):\n  File \"/cluster/home/roskarr/spark/python/lib/pyspark.zip/pyspark/worker.py\", line 170, in main\n    profiler.profile(process)\n  File \"/cluster/home/roskarr/spark/python/lib/pyspark.zip/pyspark/profiler.py\", line 160, in profile\n    pr.runcall(func)\n  File \"/cluster/home/roskarr/miniconda2/lib/python2.7/cProfile.py\", line 149, in runcall\n    return func(*args, **kw)\n  File \"/cluster/home/roskarr/spark/python/lib/pyspark.zip/pyspark/worker.py\", line 167, in process\n    serializer.dump_stream(func(split_index, iterator), outfile)\n  File \"/cluster/home/roskarr/spark/python/lib/pyspark.zip/pyspark/serializers.py\", line 133, in dump_stream\n    for obj in iterator:\n  File \"/cluster/home/roskarr/spark/python/pyspark/rdd.py\", line 1719, in add_shuffle_key\n    buckets[partitionFunc(k) % numPartitions].append((k, v))\n  File \"<ipython-input-28-bbeec40f7b7f>\", line 12, in <lambda>\nKeyError: 109459\n\n\tat org.apache.spark.api.python.PythonRunner$$anon$1.read(PythonRDD.scala:193)\n\tat org.apache.spark.api.python.PythonRunner$$anon$1.next(PythonRDD.scala:156)\n\tat org.apache.spark.api.python.PythonRunner$$anon$1.next(PythonRDD.scala:152)\n\tat org.apache.spark.InterruptibleIterator.next(InterruptibleIterator.scala:43)\n\tat scala.collection.Iterator$GroupedIterator.takeDestructively(Iterator.scala:1076)\n\tat scala.collection.Iterator$GroupedIterator.go(Iterator.scala:1091)\n\tat scala.collection.Iterator$GroupedIterator.fill(Iterator.scala:1129)\n\tat scala.collection.Iterator$GroupedIterator.hasNext(Iterator.scala:1132)\n\tat scala.collection.Iterator$$anon$11.hasNext(Iterator.scala:408)\n\tat org.apache.spark.shuffle.sort.BypassMergeSortShuffleWriter.write(BypassMergeSortShuffleWriter.java:147)\n\tat org.apache.spark.scheduler.ShuffleMapTask.runTask(ShuffleMapTask.scala:79)\n\tat org.apache.spark.scheduler.ShuffleMapTask.runTask(ShuffleMapTask.scala:47)\n\tat org.apache.spark.scheduler.Task.run(Task.scala:86)\n\tat org.apache.spark.executor.Executor$TaskRunner.run(Executor.scala:274)\n\tat java.util.concurrent.ThreadPoolExecutor.runWorker(ThreadPoolExecutor.java:1142)\n\tat java.util.concurrent.ThreadPoolExecutor$Worker.run(ThreadPoolExecutor.java:617)\n\t... 1 more\n",
     "output_type": "error",
     "traceback": [
      "\u001b[1;31m---------------------------------------------------------------------------\u001b[0m",
      "\u001b[1;31mPy4JJavaError\u001b[0m                             Traceback (most recent call last)",
      "\u001b[1;32m<ipython-input-29-61fa8843ea54>\u001b[0m in \u001b[0;36m<module>\u001b[1;34m()\u001b[0m\n\u001b[1;32m----> 1\u001b[1;33m \u001b[0mgroups_map\u001b[0m\u001b[1;33m.\u001b[0m\u001b[0mtake\u001b[0m\u001b[1;33m(\u001b[0m\u001b[1;36m20\u001b[0m\u001b[1;33m)\u001b[0m\u001b[1;33m\u001b[0m\u001b[0m\n\u001b[0m",
      "\u001b[1;32m/cluster/home/roskarr/spark/python/pyspark/rdd.pyc\u001b[0m in \u001b[0;36mtake\u001b[1;34m(self, num)\u001b[0m\n\u001b[0;32m   1308\u001b[0m \u001b[1;33m\u001b[0m\u001b[0m\n\u001b[0;32m   1309\u001b[0m             \u001b[0mp\u001b[0m \u001b[1;33m=\u001b[0m \u001b[0mrange\u001b[0m\u001b[1;33m(\u001b[0m\u001b[0mpartsScanned\u001b[0m\u001b[1;33m,\u001b[0m \u001b[0mmin\u001b[0m\u001b[1;33m(\u001b[0m\u001b[0mpartsScanned\u001b[0m \u001b[1;33m+\u001b[0m \u001b[0mnumPartsToTry\u001b[0m\u001b[1;33m,\u001b[0m \u001b[0mtotalParts\u001b[0m\u001b[1;33m)\u001b[0m\u001b[1;33m)\u001b[0m\u001b[1;33m\u001b[0m\u001b[0m\n\u001b[1;32m-> 1310\u001b[1;33m             \u001b[0mres\u001b[0m \u001b[1;33m=\u001b[0m \u001b[0mself\u001b[0m\u001b[1;33m.\u001b[0m\u001b[0mcontext\u001b[0m\u001b[1;33m.\u001b[0m\u001b[0mrunJob\u001b[0m\u001b[1;33m(\u001b[0m\u001b[0mself\u001b[0m\u001b[1;33m,\u001b[0m \u001b[0mtakeUpToNumLeft\u001b[0m\u001b[1;33m,\u001b[0m \u001b[0mp\u001b[0m\u001b[1;33m)\u001b[0m\u001b[1;33m\u001b[0m\u001b[0m\n\u001b[0m\u001b[0;32m   1311\u001b[0m \u001b[1;33m\u001b[0m\u001b[0m\n\u001b[0;32m   1312\u001b[0m             \u001b[0mitems\u001b[0m \u001b[1;33m+=\u001b[0m \u001b[0mres\u001b[0m\u001b[1;33m\u001b[0m\u001b[0m\n",
      "\u001b[1;32m/cluster/home/roskarr/spark/python/pyspark/context.pyc\u001b[0m in \u001b[0;36mrunJob\u001b[1;34m(self, rdd, partitionFunc, partitions, allowLocal)\u001b[0m\n\u001b[0;32m    931\u001b[0m         \u001b[1;31m# SparkContext#runJob.\u001b[0m\u001b[1;33m\u001b[0m\u001b[1;33m\u001b[0m\u001b[0m\n\u001b[0;32m    932\u001b[0m         \u001b[0mmappedRDD\u001b[0m \u001b[1;33m=\u001b[0m \u001b[0mrdd\u001b[0m\u001b[1;33m.\u001b[0m\u001b[0mmapPartitions\u001b[0m\u001b[1;33m(\u001b[0m\u001b[0mpartitionFunc\u001b[0m\u001b[1;33m)\u001b[0m\u001b[1;33m\u001b[0m\u001b[0m\n\u001b[1;32m--> 933\u001b[1;33m         \u001b[0mport\u001b[0m \u001b[1;33m=\u001b[0m \u001b[0mself\u001b[0m\u001b[1;33m.\u001b[0m\u001b[0m_jvm\u001b[0m\u001b[1;33m.\u001b[0m\u001b[0mPythonRDD\u001b[0m\u001b[1;33m.\u001b[0m\u001b[0mrunJob\u001b[0m\u001b[1;33m(\u001b[0m\u001b[0mself\u001b[0m\u001b[1;33m.\u001b[0m\u001b[0m_jsc\u001b[0m\u001b[1;33m.\u001b[0m\u001b[0msc\u001b[0m\u001b[1;33m(\u001b[0m\u001b[1;33m)\u001b[0m\u001b[1;33m,\u001b[0m \u001b[0mmappedRDD\u001b[0m\u001b[1;33m.\u001b[0m\u001b[0m_jrdd\u001b[0m\u001b[1;33m,\u001b[0m \u001b[0mpartitions\u001b[0m\u001b[1;33m)\u001b[0m\u001b[1;33m\u001b[0m\u001b[0m\n\u001b[0m\u001b[0;32m    934\u001b[0m         \u001b[1;32mreturn\u001b[0m \u001b[0mlist\u001b[0m\u001b[1;33m(\u001b[0m\u001b[0m_load_from_socket\u001b[0m\u001b[1;33m(\u001b[0m\u001b[0mport\u001b[0m\u001b[1;33m,\u001b[0m \u001b[0mmappedRDD\u001b[0m\u001b[1;33m.\u001b[0m\u001b[0m_jrdd_deserializer\u001b[0m\u001b[1;33m)\u001b[0m\u001b[1;33m)\u001b[0m\u001b[1;33m\u001b[0m\u001b[0m\n\u001b[0;32m    935\u001b[0m \u001b[1;33m\u001b[0m\u001b[0m\n",
      "\u001b[1;32m/cluster/home/roskarr/spark/python/lib/py4j-0.10.3-src.zip/py4j/java_gateway.py\u001b[0m in \u001b[0;36m__call__\u001b[1;34m(self, *args)\u001b[0m\n\u001b[0;32m   1131\u001b[0m         \u001b[0manswer\u001b[0m \u001b[1;33m=\u001b[0m \u001b[0mself\u001b[0m\u001b[1;33m.\u001b[0m\u001b[0mgateway_client\u001b[0m\u001b[1;33m.\u001b[0m\u001b[0msend_command\u001b[0m\u001b[1;33m(\u001b[0m\u001b[0mcommand\u001b[0m\u001b[1;33m)\u001b[0m\u001b[1;33m\u001b[0m\u001b[0m\n\u001b[0;32m   1132\u001b[0m         return_value = get_return_value(\n\u001b[1;32m-> 1133\u001b[1;33m             answer, self.gateway_client, self.target_id, self.name)\n\u001b[0m\u001b[0;32m   1134\u001b[0m \u001b[1;33m\u001b[0m\u001b[0m\n\u001b[0;32m   1135\u001b[0m         \u001b[1;32mfor\u001b[0m \u001b[0mtemp_arg\u001b[0m \u001b[1;32min\u001b[0m \u001b[0mtemp_args\u001b[0m\u001b[1;33m:\u001b[0m\u001b[1;33m\u001b[0m\u001b[0m\n",
      "\u001b[1;32m/cluster/home/roskarr/spark/python/lib/py4j-0.10.3-src.zip/py4j/protocol.py\u001b[0m in \u001b[0;36mget_return_value\u001b[1;34m(answer, gateway_client, target_id, name)\u001b[0m\n\u001b[0;32m    317\u001b[0m                 raise Py4JJavaError(\n\u001b[0;32m    318\u001b[0m                     \u001b[1;34m\"An error occurred while calling {0}{1}{2}.\\n\"\u001b[0m\u001b[1;33m.\u001b[0m\u001b[1;33m\u001b[0m\u001b[0m\n\u001b[1;32m--> 319\u001b[1;33m                     format(target_id, \".\", name), value)\n\u001b[0m\u001b[0;32m    320\u001b[0m             \u001b[1;32melse\u001b[0m\u001b[1;33m:\u001b[0m\u001b[1;33m\u001b[0m\u001b[0m\n\u001b[0;32m    321\u001b[0m                 raise Py4JError(\n",
      "\u001b[1;31mPy4JJavaError\u001b[0m: An error occurred while calling z:org.apache.spark.api.python.PythonRDD.runJob.\n: org.apache.spark.SparkException: Job aborted due to stage failure: Task 0 in stage 11.0 failed 4 times, most recent failure: Lost task 0.3 in stage 11.0 (TID 232, 10.205.8.59): org.apache.spark.api.python.PythonException: Traceback (most recent call last):\n  File \"/cluster/home/roskarr/spark/python/lib/pyspark.zip/pyspark/worker.py\", line 170, in main\n    profiler.profile(process)\n  File \"/cluster/home/roskarr/spark/python/lib/pyspark.zip/pyspark/profiler.py\", line 160, in profile\n    pr.runcall(func)\n  File \"/cluster/home/roskarr/miniconda2/lib/python2.7/cProfile.py\", line 149, in runcall\n    return func(*args, **kw)\n  File \"/cluster/home/roskarr/spark/python/lib/pyspark.zip/pyspark/worker.py\", line 167, in process\n    serializer.dump_stream(func(split_index, iterator), outfile)\n  File \"/cluster/home/roskarr/spark/python/lib/pyspark.zip/pyspark/serializers.py\", line 133, in dump_stream\n    for obj in iterator:\n  File \"/cluster/home/roskarr/spark/python/pyspark/rdd.py\", line 1719, in add_shuffle_key\n    buckets[partitionFunc(k) % numPartitions].append((k, v))\n  File \"<ipython-input-28-bbeec40f7b7f>\", line 12, in <lambda>\nKeyError: 109459\n\n\tat org.apache.spark.api.python.PythonRunner$$anon$1.read(PythonRDD.scala:193)\n\tat org.apache.spark.api.python.PythonRunner$$anon$1.next(PythonRDD.scala:156)\n\tat org.apache.spark.api.python.PythonRunner$$anon$1.next(PythonRDD.scala:152)\n\tat org.apache.spark.InterruptibleIterator.next(InterruptibleIterator.scala:43)\n\tat scala.collection.Iterator$GroupedIterator.takeDestructively(Iterator.scala:1076)\n\tat scala.collection.Iterator$GroupedIterator.go(Iterator.scala:1091)\n\tat scala.collection.Iterator$GroupedIterator.fill(Iterator.scala:1129)\n\tat scala.collection.Iterator$GroupedIterator.hasNext(Iterator.scala:1132)\n\tat scala.collection.Iterator$$anon$11.hasNext(Iterator.scala:408)\n\tat org.apache.spark.shuffle.sort.BypassMergeSortShuffleWriter.write(BypassMergeSortShuffleWriter.java:147)\n\tat org.apache.spark.scheduler.ShuffleMapTask.runTask(ShuffleMapTask.scala:79)\n\tat org.apache.spark.scheduler.ShuffleMapTask.runTask(ShuffleMapTask.scala:47)\n\tat org.apache.spark.scheduler.Task.run(Task.scala:86)\n\tat org.apache.spark.executor.Executor$TaskRunner.run(Executor.scala:274)\n\tat java.util.concurrent.ThreadPoolExecutor.runWorker(ThreadPoolExecutor.java:1142)\n\tat java.util.concurrent.ThreadPoolExecutor$Worker.run(ThreadPoolExecutor.java:617)\n\tat java.lang.Thread.run(Thread.java:745)\n\nDriver stacktrace:\n\tat org.apache.spark.scheduler.DAGScheduler.org$apache$spark$scheduler$DAGScheduler$$failJobAndIndependentStages(DAGScheduler.scala:1454)\n\tat org.apache.spark.scheduler.DAGScheduler$$anonfun$abortStage$1.apply(DAGScheduler.scala:1442)\n\tat org.apache.spark.scheduler.DAGScheduler$$anonfun$abortStage$1.apply(DAGScheduler.scala:1441)\n\tat scala.collection.mutable.ResizableArray$class.foreach(ResizableArray.scala:59)\n\tat scala.collection.mutable.ArrayBuffer.foreach(ArrayBuffer.scala:48)\n\tat org.apache.spark.scheduler.DAGScheduler.abortStage(DAGScheduler.scala:1441)\n\tat org.apache.spark.scheduler.DAGScheduler$$anonfun$handleTaskSetFailed$1.apply(DAGScheduler.scala:811)\n\tat org.apache.spark.scheduler.DAGScheduler$$anonfun$handleTaskSetFailed$1.apply(DAGScheduler.scala:811)\n\tat scala.Option.foreach(Option.scala:257)\n\tat org.apache.spark.scheduler.DAGScheduler.handleTaskSetFailed(DAGScheduler.scala:811)\n\tat org.apache.spark.scheduler.DAGSchedulerEventProcessLoop.doOnReceive(DAGScheduler.scala:1667)\n\tat org.apache.spark.scheduler.DAGSchedulerEventProcessLoop.onReceive(DAGScheduler.scala:1622)\n\tat org.apache.spark.scheduler.DAGSchedulerEventProcessLoop.onReceive(DAGScheduler.scala:1611)\n\tat org.apache.spark.util.EventLoop$$anon$1.run(EventLoop.scala:48)\n\tat org.apache.spark.scheduler.DAGScheduler.runJob(DAGScheduler.scala:632)\n\tat org.apache.spark.SparkContext.runJob(SparkContext.scala:1890)\n\tat org.apache.spark.SparkContext.runJob(SparkContext.scala:1903)\n\tat org.apache.spark.SparkContext.runJob(SparkContext.scala:1916)\n\tat org.apache.spark.api.python.PythonRDD$.runJob(PythonRDD.scala:441)\n\tat org.apache.spark.api.python.PythonRDD.runJob(PythonRDD.scala)\n\tat sun.reflect.NativeMethodAccessorImpl.invoke0(Native Method)\n\tat sun.reflect.NativeMethodAccessorImpl.invoke(NativeMethodAccessorImpl.java:62)\n\tat sun.reflect.DelegatingMethodAccessorImpl.invoke(DelegatingMethodAccessorImpl.java:43)\n\tat java.lang.reflect.Method.invoke(Method.java:483)\n\tat py4j.reflection.MethodInvoker.invoke(MethodInvoker.java:237)\n\tat py4j.reflection.ReflectionEngine.invoke(ReflectionEngine.java:357)\n\tat py4j.Gateway.invoke(Gateway.java:280)\n\tat py4j.commands.AbstractCommand.invokeMethod(AbstractCommand.java:132)\n\tat py4j.commands.CallCommand.execute(CallCommand.java:79)\n\tat py4j.GatewayConnection.run(GatewayConnection.java:214)\n\tat java.lang.Thread.run(Thread.java:745)\nCaused by: org.apache.spark.api.python.PythonException: Traceback (most recent call last):\n  File \"/cluster/home/roskarr/spark/python/lib/pyspark.zip/pyspark/worker.py\", line 170, in main\n    profiler.profile(process)\n  File \"/cluster/home/roskarr/spark/python/lib/pyspark.zip/pyspark/profiler.py\", line 160, in profile\n    pr.runcall(func)\n  File \"/cluster/home/roskarr/miniconda2/lib/python2.7/cProfile.py\", line 149, in runcall\n    return func(*args, **kw)\n  File \"/cluster/home/roskarr/spark/python/lib/pyspark.zip/pyspark/worker.py\", line 167, in process\n    serializer.dump_stream(func(split_index, iterator), outfile)\n  File \"/cluster/home/roskarr/spark/python/lib/pyspark.zip/pyspark/serializers.py\", line 133, in dump_stream\n    for obj in iterator:\n  File \"/cluster/home/roskarr/spark/python/pyspark/rdd.py\", line 1719, in add_shuffle_key\n    buckets[partitionFunc(k) % numPartitions].append((k, v))\n  File \"<ipython-input-28-bbeec40f7b7f>\", line 12, in <lambda>\nKeyError: 109459\n\n\tat org.apache.spark.api.python.PythonRunner$$anon$1.read(PythonRDD.scala:193)\n\tat org.apache.spark.api.python.PythonRunner$$anon$1.next(PythonRDD.scala:156)\n\tat org.apache.spark.api.python.PythonRunner$$anon$1.next(PythonRDD.scala:152)\n\tat org.apache.spark.InterruptibleIterator.next(InterruptibleIterator.scala:43)\n\tat scala.collection.Iterator$GroupedIterator.takeDestructively(Iterator.scala:1076)\n\tat scala.collection.Iterator$GroupedIterator.go(Iterator.scala:1091)\n\tat scala.collection.Iterator$GroupedIterator.fill(Iterator.scala:1129)\n\tat scala.collection.Iterator$GroupedIterator.hasNext(Iterator.scala:1132)\n\tat scala.collection.Iterator$$anon$11.hasNext(Iterator.scala:408)\n\tat org.apache.spark.shuffle.sort.BypassMergeSortShuffleWriter.write(BypassMergeSortShuffleWriter.java:147)\n\tat org.apache.spark.scheduler.ShuffleMapTask.runTask(ShuffleMapTask.scala:79)\n\tat org.apache.spark.scheduler.ShuffleMapTask.runTask(ShuffleMapTask.scala:47)\n\tat org.apache.spark.scheduler.Task.run(Task.scala:86)\n\tat org.apache.spark.executor.Executor$TaskRunner.run(Executor.scala:274)\n\tat java.util.concurrent.ThreadPoolExecutor.runWorker(ThreadPoolExecutor.java:1142)\n\tat java.util.concurrent.ThreadPoolExecutor$Worker.run(ThreadPoolExecutor.java:617)\n\t... 1 more\n"
     ]
    }
   ],
   "source": [
    "groups_map.take(20)"
   ]
  },
  {
   "cell_type": "code",
   "execution_count": 101,
   "metadata": {
    "collapsed": true
   },
   "outputs": [],
   "source": [
    "def pid_gid(p):\n",
    "    \"\"\"Map the particle to its pid and gid\"\"\"\n",
    "    return (p['iOrder'], p['iGroup'])\n"
   ]
  },
  {
   "cell_type": "code",
   "execution_count": null,
   "metadata": {
    "collapsed": false
   },
   "outputs": [],
   "source": [
    "(fof_analyzer.fof_rdd.flatMap(lambda p: p[np.where(p['is_ghost'])[0]])\n",
    "                             .map(lambda p: (p['pos'], p))\n",
    "                             .mapValues(pid_gid)).count()"
   ]
  },
  {
   "cell_type": "code",
   "execution_count": 268,
   "metadata": {
    "collapsed": false
   },
   "outputs": [
    {
     "ename": "Py4JJavaError",
     "evalue": "An error occurred while calling z:org.apache.spark.api.python.PythonRDD.collectAndServe.\n: org.apache.spark.SparkException: Job aborted due to stage failure: Task 3 in stage 96.0 failed 4 times, most recent failure: Lost task 3.3 in stage 96.0 (TID 342, 10.205.7.45): org.apache.spark.api.python.PythonException: Traceback (most recent call last):\n  File \"/cluster/home/roskarr/spark/python/lib/pyspark.zip/pyspark/worker.py\", line 170, in main\n    profiler.profile(process)\n  File \"/cluster/home/roskarr/spark/python/lib/pyspark.zip/pyspark/profiler.py\", line 160, in profile\n    pr.runcall(func)\n  File \"/cluster/home/roskarr/miniconda2/lib/python2.7/cProfile.py\", line 149, in runcall\n    return func(*args, **kw)\n  File \"/cluster/home/roskarr/spark/python/lib/pyspark.zip/pyspark/worker.py\", line 167, in process\n    serializer.dump_stream(func(split_index, iterator), outfile)\n  File \"/cluster/home/roskarr/spark/python/pyspark/rdd.py\", line 2371, in pipeline_func\n    return func(split, prev_func(split, iterator))\n  File \"/cluster/home/roskarr/spark/python/pyspark/rdd.py\", line 2371, in pipeline_func\n    return func(split, prev_func(split, iterator))\n  File \"/cluster/home/roskarr/spark/python/pyspark/rdd.py\", line 317, in func\n    return f(iterator)\n  File \"/cluster/home/roskarr/spark/python/pyspark/rdd.py\", line 1792, in combineLocally\n    merger.mergeValues(iterator)\n  File \"/cluster/home/roskarr/spark/python/lib/pyspark.zip/pyspark/shuffle.py\", line 238, in mergeValues\n    d[k] = comb(d[k], v) if k in d else creator(v)\nTypeError: unhashable type: 'numpy.ndarray'\n\n\tat org.apache.spark.api.python.PythonRunner$$anon$1.read(PythonRDD.scala:193)\n\tat org.apache.spark.api.python.PythonRunner$$anon$1.<init>(PythonRDD.scala:234)\n\tat org.apache.spark.api.python.PythonRunner.compute(PythonRDD.scala:152)\n\tat org.apache.spark.api.python.PythonRDD.compute(PythonRDD.scala:63)\n\tat org.apache.spark.rdd.RDD.computeOrReadCheckpoint(RDD.scala:319)\n\tat org.apache.spark.rdd.RDD.iterator(RDD.scala:283)\n\tat org.apache.spark.api.python.PairwiseRDD.compute(PythonRDD.scala:390)\n\tat org.apache.spark.rdd.RDD.computeOrReadCheckpoint(RDD.scala:319)\n\tat org.apache.spark.rdd.RDD.iterator(RDD.scala:283)\n\tat org.apache.spark.scheduler.ShuffleMapTask.runTask(ShuffleMapTask.scala:79)\n\tat org.apache.spark.scheduler.ShuffleMapTask.runTask(ShuffleMapTask.scala:47)\n\tat org.apache.spark.scheduler.Task.run(Task.scala:86)\n\tat org.apache.spark.executor.Executor$TaskRunner.run(Executor.scala:274)\n\tat java.util.concurrent.ThreadPoolExecutor.runWorker(ThreadPoolExecutor.java:1142)\n\tat java.util.concurrent.ThreadPoolExecutor$Worker.run(ThreadPoolExecutor.java:617)\n\tat java.lang.Thread.run(Thread.java:745)\n\nDriver stacktrace:\n\tat org.apache.spark.scheduler.DAGScheduler.org$apache$spark$scheduler$DAGScheduler$$failJobAndIndependentStages(DAGScheduler.scala:1454)\n\tat org.apache.spark.scheduler.DAGScheduler$$anonfun$abortStage$1.apply(DAGScheduler.scala:1442)\n\tat org.apache.spark.scheduler.DAGScheduler$$anonfun$abortStage$1.apply(DAGScheduler.scala:1441)\n\tat scala.collection.mutable.ResizableArray$class.foreach(ResizableArray.scala:59)\n\tat scala.collection.mutable.ArrayBuffer.foreach(ArrayBuffer.scala:48)\n\tat org.apache.spark.scheduler.DAGScheduler.abortStage(DAGScheduler.scala:1441)\n\tat org.apache.spark.scheduler.DAGScheduler$$anonfun$handleTaskSetFailed$1.apply(DAGScheduler.scala:811)\n\tat org.apache.spark.scheduler.DAGScheduler$$anonfun$handleTaskSetFailed$1.apply(DAGScheduler.scala:811)\n\tat scala.Option.foreach(Option.scala:257)\n\tat org.apache.spark.scheduler.DAGScheduler.handleTaskSetFailed(DAGScheduler.scala:811)\n\tat org.apache.spark.scheduler.DAGSchedulerEventProcessLoop.doOnReceive(DAGScheduler.scala:1667)\n\tat org.apache.spark.scheduler.DAGSchedulerEventProcessLoop.onReceive(DAGScheduler.scala:1622)\n\tat org.apache.spark.scheduler.DAGSchedulerEventProcessLoop.onReceive(DAGScheduler.scala:1611)\n\tat org.apache.spark.util.EventLoop$$anon$1.run(EventLoop.scala:48)\n\tat org.apache.spark.scheduler.DAGScheduler.runJob(DAGScheduler.scala:632)\n\tat org.apache.spark.SparkContext.runJob(SparkContext.scala:1890)\n\tat org.apache.spark.SparkContext.runJob(SparkContext.scala:1903)\n\tat org.apache.spark.SparkContext.runJob(SparkContext.scala:1916)\n\tat org.apache.spark.SparkContext.runJob(SparkContext.scala:1930)\n\tat org.apache.spark.rdd.RDD$$anonfun$collect$1.apply(RDD.scala:912)\n\tat org.apache.spark.rdd.RDDOperationScope$.withScope(RDDOperationScope.scala:151)\n\tat org.apache.spark.rdd.RDDOperationScope$.withScope(RDDOperationScope.scala:112)\n\tat org.apache.spark.rdd.RDD.withScope(RDD.scala:358)\n\tat org.apache.spark.rdd.RDD.collect(RDD.scala:911)\n\tat org.apache.spark.api.python.PythonRDD$.collectAndServe(PythonRDD.scala:453)\n\tat org.apache.spark.api.python.PythonRDD.collectAndServe(PythonRDD.scala)\n\tat sun.reflect.GeneratedMethodAccessor39.invoke(Unknown Source)\n\tat sun.reflect.DelegatingMethodAccessorImpl.invoke(DelegatingMethodAccessorImpl.java:43)\n\tat java.lang.reflect.Method.invoke(Method.java:483)\n\tat py4j.reflection.MethodInvoker.invoke(MethodInvoker.java:237)\n\tat py4j.reflection.ReflectionEngine.invoke(ReflectionEngine.java:357)\n\tat py4j.Gateway.invoke(Gateway.java:280)\n\tat py4j.commands.AbstractCommand.invokeMethod(AbstractCommand.java:132)\n\tat py4j.commands.CallCommand.execute(CallCommand.java:79)\n\tat py4j.GatewayConnection.run(GatewayConnection.java:214)\n\tat java.lang.Thread.run(Thread.java:745)\nCaused by: org.apache.spark.api.python.PythonException: Traceback (most recent call last):\n  File \"/cluster/home/roskarr/spark/python/lib/pyspark.zip/pyspark/worker.py\", line 170, in main\n    profiler.profile(process)\n  File \"/cluster/home/roskarr/spark/python/lib/pyspark.zip/pyspark/profiler.py\", line 160, in profile\n    pr.runcall(func)\n  File \"/cluster/home/roskarr/miniconda2/lib/python2.7/cProfile.py\", line 149, in runcall\n    return func(*args, **kw)\n  File \"/cluster/home/roskarr/spark/python/lib/pyspark.zip/pyspark/worker.py\", line 167, in process\n    serializer.dump_stream(func(split_index, iterator), outfile)\n  File \"/cluster/home/roskarr/spark/python/pyspark/rdd.py\", line 2371, in pipeline_func\n    return func(split, prev_func(split, iterator))\n  File \"/cluster/home/roskarr/spark/python/pyspark/rdd.py\", line 2371, in pipeline_func\n    return func(split, prev_func(split, iterator))\n  File \"/cluster/home/roskarr/spark/python/pyspark/rdd.py\", line 317, in func\n    return f(iterator)\n  File \"/cluster/home/roskarr/spark/python/pyspark/rdd.py\", line 1792, in combineLocally\n    merger.mergeValues(iterator)\n  File \"/cluster/home/roskarr/spark/python/lib/pyspark.zip/pyspark/shuffle.py\", line 238, in mergeValues\n    d[k] = comb(d[k], v) if k in d else creator(v)\nTypeError: unhashable type: 'numpy.ndarray'\n\n\tat org.apache.spark.api.python.PythonRunner$$anon$1.read(PythonRDD.scala:193)\n\tat org.apache.spark.api.python.PythonRunner$$anon$1.<init>(PythonRDD.scala:234)\n\tat org.apache.spark.api.python.PythonRunner.compute(PythonRDD.scala:152)\n\tat org.apache.spark.api.python.PythonRDD.compute(PythonRDD.scala:63)\n\tat org.apache.spark.rdd.RDD.computeOrReadCheckpoint(RDD.scala:319)\n\tat org.apache.spark.rdd.RDD.iterator(RDD.scala:283)\n\tat org.apache.spark.api.python.PairwiseRDD.compute(PythonRDD.scala:390)\n\tat org.apache.spark.rdd.RDD.computeOrReadCheckpoint(RDD.scala:319)\n\tat org.apache.spark.rdd.RDD.iterator(RDD.scala:283)\n\tat org.apache.spark.scheduler.ShuffleMapTask.runTask(ShuffleMapTask.scala:79)\n\tat org.apache.spark.scheduler.ShuffleMapTask.runTask(ShuffleMapTask.scala:47)\n\tat org.apache.spark.scheduler.Task.run(Task.scala:86)\n\tat org.apache.spark.executor.Executor$TaskRunner.run(Executor.scala:274)\n\tat java.util.concurrent.ThreadPoolExecutor.runWorker(ThreadPoolExecutor.java:1142)\n\tat java.util.concurrent.ThreadPoolExecutor$Worker.run(ThreadPoolExecutor.java:617)\n\t... 1 more\n",
     "output_type": "error",
     "traceback": [
      "\u001b[0;31m---------------------------------------------------------------------------\u001b[0m",
      "\u001b[0;31mPy4JJavaError\u001b[0m                             Traceback (most recent call last)",
      "\u001b[0;32m<ipython-input-268-41f41bd02387>\u001b[0m in \u001b[0;36m<module>\u001b[0;34m()\u001b[0m\n\u001b[0;32m----> 1\u001b[0;31m \u001b[0mmerged_rdd\u001b[0m \u001b[0;34m=\u001b[0m \u001b[0mfof_analyzer\u001b[0m\u001b[0;34m.\u001b[0m\u001b[0mmerged_rdd\u001b[0m\u001b[0;34m.\u001b[0m\u001b[0mcache\u001b[0m\u001b[0;34m(\u001b[0m\u001b[0;34m)\u001b[0m\u001b[0;34m\u001b[0m\u001b[0m\n\u001b[0m\u001b[1;32m      2\u001b[0m \u001b[0mmerged_rdd\u001b[0m\u001b[0;34m.\u001b[0m\u001b[0mcount\u001b[0m\u001b[0;34m(\u001b[0m\u001b[0;34m)\u001b[0m\u001b[0;34m\u001b[0m\u001b[0m\n",
      "\u001b[0;32m/cluster/project/sis/ri/roskarr/spark-fof/spark_fof/spark_fof.pyc\u001b[0m in \u001b[0;36mmerged_rdd\u001b[0;34m(self)\u001b[0m\n\u001b[1;32m     81\u001b[0m     \u001b[0;32mdef\u001b[0m \u001b[0mmerged_rdd\u001b[0m\u001b[0;34m(\u001b[0m\u001b[0mself\u001b[0m\u001b[0;34m)\u001b[0m\u001b[0;34m:\u001b[0m\u001b[0;34m\u001b[0m\u001b[0m\n\u001b[1;32m     82\u001b[0m         \u001b[0;32mif\u001b[0m \u001b[0mself\u001b[0m\u001b[0;34m.\u001b[0m\u001b[0m_merged_rdd\u001b[0m \u001b[0;32mis\u001b[0m \u001b[0mNone\u001b[0m\u001b[0;34m:\u001b[0m\u001b[0;34m\u001b[0m\u001b[0m\n\u001b[0;32m---> 83\u001b[0;31m             \u001b[0mself\u001b[0m\u001b[0;34m.\u001b[0m\u001b[0m_merged_rdd\u001b[0m \u001b[0;34m=\u001b[0m \u001b[0mself\u001b[0m\u001b[0;34m.\u001b[0m\u001b[0mmerge_groups\u001b[0m\u001b[0;34m(\u001b[0m\u001b[0;34m)\u001b[0m\u001b[0;34m\u001b[0m\u001b[0m\n\u001b[0m\u001b[1;32m     84\u001b[0m         \u001b[0;32mreturn\u001b[0m \u001b[0mself\u001b[0m\u001b[0;34m.\u001b[0m\u001b[0m_merged_rdd\u001b[0m\u001b[0;34m\u001b[0m\u001b[0m\n\u001b[1;32m     85\u001b[0m \u001b[0;34m\u001b[0m\u001b[0m\n",
      "\u001b[0;32m/cluster/project/sis/ri/roskarr/spark-fof/spark_fof/spark_fof.pyc\u001b[0m in \u001b[0;36mmerge_groups\u001b[0;34m(self, level)\u001b[0m\n\u001b[1;32m    312\u001b[0m \u001b[0;34m\u001b[0m\u001b[0m\n\u001b[1;32m    313\u001b[0m         \u001b[0;32mfor\u001b[0m \u001b[0ml\u001b[0m \u001b[0;32min\u001b[0m \u001b[0mrange\u001b[0m\u001b[0;34m(\u001b[0m\u001b[0mlevel\u001b[0m\u001b[0;34m,\u001b[0m \u001b[0;34m-\u001b[0m\u001b[0;36m1\u001b[0m\u001b[0;34m,\u001b[0m \u001b[0;34m-\u001b[0m\u001b[0;36m1\u001b[0m\u001b[0;34m)\u001b[0m\u001b[0;34m:\u001b[0m\u001b[0;34m\u001b[0m\u001b[0m\n\u001b[0;32m--> 314\u001b[0;31m             \u001b[0mm\u001b[0m \u001b[0;34m=\u001b[0m \u001b[0mself\u001b[0m\u001b[0;34m.\u001b[0m\u001b[0mget_level_map\u001b[0m\u001b[0;34m(\u001b[0m\u001b[0ml\u001b[0m\u001b[0;34m)\u001b[0m\u001b[0;34m\u001b[0m\u001b[0m\n\u001b[0m\u001b[1;32m    315\u001b[0m             \u001b[0mm_b\u001b[0m \u001b[0;34m=\u001b[0m \u001b[0mself\u001b[0m\u001b[0;34m.\u001b[0m\u001b[0msc\u001b[0m\u001b[0;34m.\u001b[0m\u001b[0mbroadcast\u001b[0m\u001b[0;34m(\u001b[0m\u001b[0mm\u001b[0m\u001b[0;34m)\u001b[0m\u001b[0;34m\u001b[0m\u001b[0m\n\u001b[1;32m    316\u001b[0m             \u001b[0mmerged_rdd\u001b[0m \u001b[0;34m=\u001b[0m \u001b[0mfof_rdd\u001b[0m\u001b[0;34m.\u001b[0m\u001b[0mmapPartitions\u001b[0m\u001b[0;34m(\u001b[0m\u001b[0;32mlambda\u001b[0m \u001b[0mparticles\u001b[0m\u001b[0;34m:\u001b[0m \u001b[0mremap_partition\u001b[0m\u001b[0;34m(\u001b[0m\u001b[0mparticles\u001b[0m\u001b[0;34m,\u001b[0m \u001b[0mm_b\u001b[0m\u001b[0;34m.\u001b[0m\u001b[0mvalue\u001b[0m\u001b[0;34m)\u001b[0m\u001b[0;34m)\u001b[0m\u001b[0;34m\u001b[0m\u001b[0m\n",
      "\u001b[0;32m/cluster/project/sis/ri/roskarr/spark-fof/spark_fof/spark_fof.pyc\u001b[0m in \u001b[0;36mget_level_map\u001b[0;34m(self, level)\u001b[0m\n\u001b[1;32m    259\u001b[0m         \u001b[0;31m# get the initial group mapping across sub-domains just based on\u001b[0m\u001b[0;34m\u001b[0m\u001b[0;34m\u001b[0m\u001b[0m\n\u001b[1;32m    260\u001b[0m         \u001b[0;31m# particle IDs\u001b[0m\u001b[0;34m\u001b[0m\u001b[0;34m\u001b[0m\u001b[0m\n\u001b[0;32m--> 261\u001b[0;31m         \u001b[0mgroups_map\u001b[0m \u001b[0;34m=\u001b[0m \u001b[0mself\u001b[0m\u001b[0;34m.\u001b[0m\u001b[0mget_gid_map\u001b[0m\u001b[0;34m(\u001b[0m\u001b[0mlevel\u001b[0m\u001b[0;34m)\u001b[0m\u001b[0;34m\u001b[0m\u001b[0m\n\u001b[0m\u001b[1;32m    262\u001b[0m \u001b[0;34m\u001b[0m\u001b[0m\n\u001b[1;32m    263\u001b[0m         \u001b[0mmappings\u001b[0m \u001b[0;34m=\u001b[0m \u001b[0;34m{\u001b[0m\u001b[0;34m}\u001b[0m\u001b[0;34m\u001b[0m\u001b[0m\n",
      "\u001b[0;32m/cluster/project/sis/ri/roskarr/spark-fof/spark_fof/spark_fof.pyc\u001b[0m in \u001b[0;36mget_gid_map\u001b[0;34m(self, level)\u001b[0m\n\u001b[1;32m    234\u001b[0m                                              partitionFunc=set_bin)\n\u001b[1;32m    235\u001b[0m                              \u001b[0;34m.\u001b[0m\u001b[0mvalues\u001b[0m\u001b[0;34m(\u001b[0m\u001b[0;34m)\u001b[0m\u001b[0;34m\u001b[0m\u001b[0m\n\u001b[0;32m--> 236\u001b[0;31m                              .flatMap(lambda gs: [(g, gs[0]) for g in gs[1:]])).collect()\n\u001b[0m\u001b[1;32m    237\u001b[0m \u001b[0;34m\u001b[0m\u001b[0m\n\u001b[1;32m    238\u001b[0m         \u001b[0;32mreturn\u001b[0m \u001b[0mgroups_map\u001b[0m\u001b[0;34m\u001b[0m\u001b[0m\n",
      "\u001b[0;32m/cluster/home/roskarr/spark/python/pyspark/rdd.pyc\u001b[0m in \u001b[0;36mcollect\u001b[0;34m(self)\u001b[0m\n\u001b[1;32m    774\u001b[0m         \"\"\"\n\u001b[1;32m    775\u001b[0m         \u001b[0;32mwith\u001b[0m \u001b[0mSCCallSiteSync\u001b[0m\u001b[0;34m(\u001b[0m\u001b[0mself\u001b[0m\u001b[0;34m.\u001b[0m\u001b[0mcontext\u001b[0m\u001b[0;34m)\u001b[0m \u001b[0;32mas\u001b[0m \u001b[0mcss\u001b[0m\u001b[0;34m:\u001b[0m\u001b[0;34m\u001b[0m\u001b[0m\n\u001b[0;32m--> 776\u001b[0;31m             \u001b[0mport\u001b[0m \u001b[0;34m=\u001b[0m \u001b[0mself\u001b[0m\u001b[0;34m.\u001b[0m\u001b[0mctx\u001b[0m\u001b[0;34m.\u001b[0m\u001b[0m_jvm\u001b[0m\u001b[0;34m.\u001b[0m\u001b[0mPythonRDD\u001b[0m\u001b[0;34m.\u001b[0m\u001b[0mcollectAndServe\u001b[0m\u001b[0;34m(\u001b[0m\u001b[0mself\u001b[0m\u001b[0;34m.\u001b[0m\u001b[0m_jrdd\u001b[0m\u001b[0;34m.\u001b[0m\u001b[0mrdd\u001b[0m\u001b[0;34m(\u001b[0m\u001b[0;34m)\u001b[0m\u001b[0;34m)\u001b[0m\u001b[0;34m\u001b[0m\u001b[0m\n\u001b[0m\u001b[1;32m    777\u001b[0m         \u001b[0;32mreturn\u001b[0m \u001b[0mlist\u001b[0m\u001b[0;34m(\u001b[0m\u001b[0m_load_from_socket\u001b[0m\u001b[0;34m(\u001b[0m\u001b[0mport\u001b[0m\u001b[0;34m,\u001b[0m \u001b[0mself\u001b[0m\u001b[0;34m.\u001b[0m\u001b[0m_jrdd_deserializer\u001b[0m\u001b[0;34m)\u001b[0m\u001b[0;34m)\u001b[0m\u001b[0;34m\u001b[0m\u001b[0m\n\u001b[1;32m    778\u001b[0m \u001b[0;34m\u001b[0m\u001b[0m\n",
      "\u001b[0;32m/cluster/home/roskarr/spark/python/lib/py4j-0.10.3-src.zip/py4j/java_gateway.py\u001b[0m in \u001b[0;36m__call__\u001b[0;34m(self, *args)\u001b[0m\n\u001b[1;32m   1131\u001b[0m         \u001b[0manswer\u001b[0m \u001b[0;34m=\u001b[0m \u001b[0mself\u001b[0m\u001b[0;34m.\u001b[0m\u001b[0mgateway_client\u001b[0m\u001b[0;34m.\u001b[0m\u001b[0msend_command\u001b[0m\u001b[0;34m(\u001b[0m\u001b[0mcommand\u001b[0m\u001b[0;34m)\u001b[0m\u001b[0;34m\u001b[0m\u001b[0m\n\u001b[1;32m   1132\u001b[0m         return_value = get_return_value(\n\u001b[0;32m-> 1133\u001b[0;31m             answer, self.gateway_client, self.target_id, self.name)\n\u001b[0m\u001b[1;32m   1134\u001b[0m \u001b[0;34m\u001b[0m\u001b[0m\n\u001b[1;32m   1135\u001b[0m         \u001b[0;32mfor\u001b[0m \u001b[0mtemp_arg\u001b[0m \u001b[0;32min\u001b[0m \u001b[0mtemp_args\u001b[0m\u001b[0;34m:\u001b[0m\u001b[0;34m\u001b[0m\u001b[0m\n",
      "\u001b[0;32m/cluster/home/roskarr/spark/python/lib/py4j-0.10.3-src.zip/py4j/protocol.py\u001b[0m in \u001b[0;36mget_return_value\u001b[0;34m(answer, gateway_client, target_id, name)\u001b[0m\n\u001b[1;32m    317\u001b[0m                 raise Py4JJavaError(\n\u001b[1;32m    318\u001b[0m                     \u001b[0;34m\"An error occurred while calling {0}{1}{2}.\\n\"\u001b[0m\u001b[0;34m.\u001b[0m\u001b[0;34m\u001b[0m\u001b[0m\n\u001b[0;32m--> 319\u001b[0;31m                     format(target_id, \".\", name), value)\n\u001b[0m\u001b[1;32m    320\u001b[0m             \u001b[0;32melse\u001b[0m\u001b[0;34m:\u001b[0m\u001b[0;34m\u001b[0m\u001b[0m\n\u001b[1;32m    321\u001b[0m                 raise Py4JError(\n",
      "\u001b[0;31mPy4JJavaError\u001b[0m: An error occurred while calling z:org.apache.spark.api.python.PythonRDD.collectAndServe.\n: org.apache.spark.SparkException: Job aborted due to stage failure: Task 3 in stage 96.0 failed 4 times, most recent failure: Lost task 3.3 in stage 96.0 (TID 342, 10.205.7.45): org.apache.spark.api.python.PythonException: Traceback (most recent call last):\n  File \"/cluster/home/roskarr/spark/python/lib/pyspark.zip/pyspark/worker.py\", line 170, in main\n    profiler.profile(process)\n  File \"/cluster/home/roskarr/spark/python/lib/pyspark.zip/pyspark/profiler.py\", line 160, in profile\n    pr.runcall(func)\n  File \"/cluster/home/roskarr/miniconda2/lib/python2.7/cProfile.py\", line 149, in runcall\n    return func(*args, **kw)\n  File \"/cluster/home/roskarr/spark/python/lib/pyspark.zip/pyspark/worker.py\", line 167, in process\n    serializer.dump_stream(func(split_index, iterator), outfile)\n  File \"/cluster/home/roskarr/spark/python/pyspark/rdd.py\", line 2371, in pipeline_func\n    return func(split, prev_func(split, iterator))\n  File \"/cluster/home/roskarr/spark/python/pyspark/rdd.py\", line 2371, in pipeline_func\n    return func(split, prev_func(split, iterator))\n  File \"/cluster/home/roskarr/spark/python/pyspark/rdd.py\", line 317, in func\n    return f(iterator)\n  File \"/cluster/home/roskarr/spark/python/pyspark/rdd.py\", line 1792, in combineLocally\n    merger.mergeValues(iterator)\n  File \"/cluster/home/roskarr/spark/python/lib/pyspark.zip/pyspark/shuffle.py\", line 238, in mergeValues\n    d[k] = comb(d[k], v) if k in d else creator(v)\nTypeError: unhashable type: 'numpy.ndarray'\n\n\tat org.apache.spark.api.python.PythonRunner$$anon$1.read(PythonRDD.scala:193)\n\tat org.apache.spark.api.python.PythonRunner$$anon$1.<init>(PythonRDD.scala:234)\n\tat org.apache.spark.api.python.PythonRunner.compute(PythonRDD.scala:152)\n\tat org.apache.spark.api.python.PythonRDD.compute(PythonRDD.scala:63)\n\tat org.apache.spark.rdd.RDD.computeOrReadCheckpoint(RDD.scala:319)\n\tat org.apache.spark.rdd.RDD.iterator(RDD.scala:283)\n\tat org.apache.spark.api.python.PairwiseRDD.compute(PythonRDD.scala:390)\n\tat org.apache.spark.rdd.RDD.computeOrReadCheckpoint(RDD.scala:319)\n\tat org.apache.spark.rdd.RDD.iterator(RDD.scala:283)\n\tat org.apache.spark.scheduler.ShuffleMapTask.runTask(ShuffleMapTask.scala:79)\n\tat org.apache.spark.scheduler.ShuffleMapTask.runTask(ShuffleMapTask.scala:47)\n\tat org.apache.spark.scheduler.Task.run(Task.scala:86)\n\tat org.apache.spark.executor.Executor$TaskRunner.run(Executor.scala:274)\n\tat java.util.concurrent.ThreadPoolExecutor.runWorker(ThreadPoolExecutor.java:1142)\n\tat java.util.concurrent.ThreadPoolExecutor$Worker.run(ThreadPoolExecutor.java:617)\n\tat java.lang.Thread.run(Thread.java:745)\n\nDriver stacktrace:\n\tat org.apache.spark.scheduler.DAGScheduler.org$apache$spark$scheduler$DAGScheduler$$failJobAndIndependentStages(DAGScheduler.scala:1454)\n\tat org.apache.spark.scheduler.DAGScheduler$$anonfun$abortStage$1.apply(DAGScheduler.scala:1442)\n\tat org.apache.spark.scheduler.DAGScheduler$$anonfun$abortStage$1.apply(DAGScheduler.scala:1441)\n\tat scala.collection.mutable.ResizableArray$class.foreach(ResizableArray.scala:59)\n\tat scala.collection.mutable.ArrayBuffer.foreach(ArrayBuffer.scala:48)\n\tat org.apache.spark.scheduler.DAGScheduler.abortStage(DAGScheduler.scala:1441)\n\tat org.apache.spark.scheduler.DAGScheduler$$anonfun$handleTaskSetFailed$1.apply(DAGScheduler.scala:811)\n\tat org.apache.spark.scheduler.DAGScheduler$$anonfun$handleTaskSetFailed$1.apply(DAGScheduler.scala:811)\n\tat scala.Option.foreach(Option.scala:257)\n\tat org.apache.spark.scheduler.DAGScheduler.handleTaskSetFailed(DAGScheduler.scala:811)\n\tat org.apache.spark.scheduler.DAGSchedulerEventProcessLoop.doOnReceive(DAGScheduler.scala:1667)\n\tat org.apache.spark.scheduler.DAGSchedulerEventProcessLoop.onReceive(DAGScheduler.scala:1622)\n\tat org.apache.spark.scheduler.DAGSchedulerEventProcessLoop.onReceive(DAGScheduler.scala:1611)\n\tat org.apache.spark.util.EventLoop$$anon$1.run(EventLoop.scala:48)\n\tat org.apache.spark.scheduler.DAGScheduler.runJob(DAGScheduler.scala:632)\n\tat org.apache.spark.SparkContext.runJob(SparkContext.scala:1890)\n\tat org.apache.spark.SparkContext.runJob(SparkContext.scala:1903)\n\tat org.apache.spark.SparkContext.runJob(SparkContext.scala:1916)\n\tat org.apache.spark.SparkContext.runJob(SparkContext.scala:1930)\n\tat org.apache.spark.rdd.RDD$$anonfun$collect$1.apply(RDD.scala:912)\n\tat org.apache.spark.rdd.RDDOperationScope$.withScope(RDDOperationScope.scala:151)\n\tat org.apache.spark.rdd.RDDOperationScope$.withScope(RDDOperationScope.scala:112)\n\tat org.apache.spark.rdd.RDD.withScope(RDD.scala:358)\n\tat org.apache.spark.rdd.RDD.collect(RDD.scala:911)\n\tat org.apache.spark.api.python.PythonRDD$.collectAndServe(PythonRDD.scala:453)\n\tat org.apache.spark.api.python.PythonRDD.collectAndServe(PythonRDD.scala)\n\tat sun.reflect.GeneratedMethodAccessor39.invoke(Unknown Source)\n\tat sun.reflect.DelegatingMethodAccessorImpl.invoke(DelegatingMethodAccessorImpl.java:43)\n\tat java.lang.reflect.Method.invoke(Method.java:483)\n\tat py4j.reflection.MethodInvoker.invoke(MethodInvoker.java:237)\n\tat py4j.reflection.ReflectionEngine.invoke(ReflectionEngine.java:357)\n\tat py4j.Gateway.invoke(Gateway.java:280)\n\tat py4j.commands.AbstractCommand.invokeMethod(AbstractCommand.java:132)\n\tat py4j.commands.CallCommand.execute(CallCommand.java:79)\n\tat py4j.GatewayConnection.run(GatewayConnection.java:214)\n\tat java.lang.Thread.run(Thread.java:745)\nCaused by: org.apache.spark.api.python.PythonException: Traceback (most recent call last):\n  File \"/cluster/home/roskarr/spark/python/lib/pyspark.zip/pyspark/worker.py\", line 170, in main\n    profiler.profile(process)\n  File \"/cluster/home/roskarr/spark/python/lib/pyspark.zip/pyspark/profiler.py\", line 160, in profile\n    pr.runcall(func)\n  File \"/cluster/home/roskarr/miniconda2/lib/python2.7/cProfile.py\", line 149, in runcall\n    return func(*args, **kw)\n  File \"/cluster/home/roskarr/spark/python/lib/pyspark.zip/pyspark/worker.py\", line 167, in process\n    serializer.dump_stream(func(split_index, iterator), outfile)\n  File \"/cluster/home/roskarr/spark/python/pyspark/rdd.py\", line 2371, in pipeline_func\n    return func(split, prev_func(split, iterator))\n  File \"/cluster/home/roskarr/spark/python/pyspark/rdd.py\", line 2371, in pipeline_func\n    return func(split, prev_func(split, iterator))\n  File \"/cluster/home/roskarr/spark/python/pyspark/rdd.py\", line 317, in func\n    return f(iterator)\n  File \"/cluster/home/roskarr/spark/python/pyspark/rdd.py\", line 1792, in combineLocally\n    merger.mergeValues(iterator)\n  File \"/cluster/home/roskarr/spark/python/lib/pyspark.zip/pyspark/shuffle.py\", line 238, in mergeValues\n    d[k] = comb(d[k], v) if k in d else creator(v)\nTypeError: unhashable type: 'numpy.ndarray'\n\n\tat org.apache.spark.api.python.PythonRunner$$anon$1.read(PythonRDD.scala:193)\n\tat org.apache.spark.api.python.PythonRunner$$anon$1.<init>(PythonRDD.scala:234)\n\tat org.apache.spark.api.python.PythonRunner.compute(PythonRDD.scala:152)\n\tat org.apache.spark.api.python.PythonRDD.compute(PythonRDD.scala:63)\n\tat org.apache.spark.rdd.RDD.computeOrReadCheckpoint(RDD.scala:319)\n\tat org.apache.spark.rdd.RDD.iterator(RDD.scala:283)\n\tat org.apache.spark.api.python.PairwiseRDD.compute(PythonRDD.scala:390)\n\tat org.apache.spark.rdd.RDD.computeOrReadCheckpoint(RDD.scala:319)\n\tat org.apache.spark.rdd.RDD.iterator(RDD.scala:283)\n\tat org.apache.spark.scheduler.ShuffleMapTask.runTask(ShuffleMapTask.scala:79)\n\tat org.apache.spark.scheduler.ShuffleMapTask.runTask(ShuffleMapTask.scala:47)\n\tat org.apache.spark.scheduler.Task.run(Task.scala:86)\n\tat org.apache.spark.executor.Executor$TaskRunner.run(Executor.scala:274)\n\tat java.util.concurrent.ThreadPoolExecutor.runWorker(ThreadPoolExecutor.java:1142)\n\tat java.util.concurrent.ThreadPoolExecutor$Worker.run(ThreadPoolExecutor.java:617)\n\t... 1 more\n"
     ]
    }
   ],
   "source": [
    "merged_rdd = fof_analyzer.merged_rdd.cache()\n",
    "merged_rdd.count()"
   ]
  },
  {
   "cell_type": "code",
   "execution_count": 83,
   "metadata": {
    "collapsed": false
   },
   "outputs": [
    {
     "ename": "Py4JJavaError",
     "evalue": "An error occurred while calling z:org.apache.spark.api.python.PythonRDD.collectAndServe.\n: org.apache.spark.SparkException: Job aborted due to stage failure: Task 5 in stage 26.0 failed 4 times, most recent failure: Lost task 5.3 in stage 26.0 (TID 598, 10.205.4.45): org.apache.spark.api.python.PythonException: Traceback (most recent call last):\n  File \"/cluster/home/roskarr/spark/python/lib/pyspark.zip/pyspark/worker.py\", line 170, in main\n    profiler.profile(process)\n  File \"/cluster/home/roskarr/spark/python/lib/pyspark.zip/pyspark/profiler.py\", line 160, in profile\n    pr.runcall(func)\n  File \"/cluster/home/roskarr/miniconda2/lib/python2.7/cProfile.py\", line 149, in runcall\n    return func(*args, **kw)\n  File \"/cluster/home/roskarr/spark/python/lib/pyspark.zip/pyspark/worker.py\", line 167, in process\n    serializer.dump_stream(func(split_index, iterator), outfile)\n  File \"/cluster/home/roskarr/spark/python/lib/pyspark.zip/pyspark/serializers.py\", line 263, in dump_stream\n    vs = list(itertools.islice(iterator, batch))\nTypeError: <lambda>() takes exactly 2 arguments (1 given)\n\n\tat org.apache.spark.api.python.PythonRunner$$anon$1.read(PythonRDD.scala:193)\n\tat org.apache.spark.api.python.PythonRunner$$anon$1.<init>(PythonRDD.scala:234)\n\tat org.apache.spark.api.python.PythonRunner.compute(PythonRDD.scala:152)\n\tat org.apache.spark.api.python.PythonRDD.compute(PythonRDD.scala:63)\n\tat org.apache.spark.rdd.RDD.computeOrReadCheckpoint(RDD.scala:319)\n\tat org.apache.spark.rdd.RDD.iterator(RDD.scala:283)\n\tat org.apache.spark.scheduler.ResultTask.runTask(ResultTask.scala:70)\n\tat org.apache.spark.scheduler.Task.run(Task.scala:86)\n\tat org.apache.spark.executor.Executor$TaskRunner.run(Executor.scala:274)\n\tat java.util.concurrent.ThreadPoolExecutor.runWorker(ThreadPoolExecutor.java:1142)\n\tat java.util.concurrent.ThreadPoolExecutor$Worker.run(ThreadPoolExecutor.java:617)\n\tat java.lang.Thread.run(Thread.java:745)\n\nDriver stacktrace:\n\tat org.apache.spark.scheduler.DAGScheduler.org$apache$spark$scheduler$DAGScheduler$$failJobAndIndependentStages(DAGScheduler.scala:1454)\n\tat org.apache.spark.scheduler.DAGScheduler$$anonfun$abortStage$1.apply(DAGScheduler.scala:1442)\n\tat org.apache.spark.scheduler.DAGScheduler$$anonfun$abortStage$1.apply(DAGScheduler.scala:1441)\n\tat scala.collection.mutable.ResizableArray$class.foreach(ResizableArray.scala:59)\n\tat scala.collection.mutable.ArrayBuffer.foreach(ArrayBuffer.scala:48)\n\tat org.apache.spark.scheduler.DAGScheduler.abortStage(DAGScheduler.scala:1441)\n\tat org.apache.spark.scheduler.DAGScheduler$$anonfun$handleTaskSetFailed$1.apply(DAGScheduler.scala:811)\n\tat org.apache.spark.scheduler.DAGScheduler$$anonfun$handleTaskSetFailed$1.apply(DAGScheduler.scala:811)\n\tat scala.Option.foreach(Option.scala:257)\n\tat org.apache.spark.scheduler.DAGScheduler.handleTaskSetFailed(DAGScheduler.scala:811)\n\tat org.apache.spark.scheduler.DAGSchedulerEventProcessLoop.doOnReceive(DAGScheduler.scala:1667)\n\tat org.apache.spark.scheduler.DAGSchedulerEventProcessLoop.onReceive(DAGScheduler.scala:1622)\n\tat org.apache.spark.scheduler.DAGSchedulerEventProcessLoop.onReceive(DAGScheduler.scala:1611)\n\tat org.apache.spark.util.EventLoop$$anon$1.run(EventLoop.scala:48)\n\tat org.apache.spark.scheduler.DAGScheduler.runJob(DAGScheduler.scala:632)\n\tat org.apache.spark.SparkContext.runJob(SparkContext.scala:1890)\n\tat org.apache.spark.SparkContext.runJob(SparkContext.scala:1903)\n\tat org.apache.spark.SparkContext.runJob(SparkContext.scala:1916)\n\tat org.apache.spark.SparkContext.runJob(SparkContext.scala:1930)\n\tat org.apache.spark.rdd.RDD$$anonfun$collect$1.apply(RDD.scala:912)\n\tat org.apache.spark.rdd.RDDOperationScope$.withScope(RDDOperationScope.scala:151)\n\tat org.apache.spark.rdd.RDDOperationScope$.withScope(RDDOperationScope.scala:112)\n\tat org.apache.spark.rdd.RDD.withScope(RDD.scala:358)\n\tat org.apache.spark.rdd.RDD.collect(RDD.scala:911)\n\tat org.apache.spark.api.python.PythonRDD$.collectAndServe(PythonRDD.scala:453)\n\tat org.apache.spark.api.python.PythonRDD.collectAndServe(PythonRDD.scala)\n\tat sun.reflect.NativeMethodAccessorImpl.invoke0(Native Method)\n\tat sun.reflect.NativeMethodAccessorImpl.invoke(NativeMethodAccessorImpl.java:62)\n\tat sun.reflect.DelegatingMethodAccessorImpl.invoke(DelegatingMethodAccessorImpl.java:43)\n\tat java.lang.reflect.Method.invoke(Method.java:483)\n\tat py4j.reflection.MethodInvoker.invoke(MethodInvoker.java:237)\n\tat py4j.reflection.ReflectionEngine.invoke(ReflectionEngine.java:357)\n\tat py4j.Gateway.invoke(Gateway.java:280)\n\tat py4j.commands.AbstractCommand.invokeMethod(AbstractCommand.java:132)\n\tat py4j.commands.CallCommand.execute(CallCommand.java:79)\n\tat py4j.GatewayConnection.run(GatewayConnection.java:214)\n\tat java.lang.Thread.run(Thread.java:745)\nCaused by: org.apache.spark.api.python.PythonException: Traceback (most recent call last):\n  File \"/cluster/home/roskarr/spark/python/lib/pyspark.zip/pyspark/worker.py\", line 170, in main\n    profiler.profile(process)\n  File \"/cluster/home/roskarr/spark/python/lib/pyspark.zip/pyspark/profiler.py\", line 160, in profile\n    pr.runcall(func)\n  File \"/cluster/home/roskarr/miniconda2/lib/python2.7/cProfile.py\", line 149, in runcall\n    return func(*args, **kw)\n  File \"/cluster/home/roskarr/spark/python/lib/pyspark.zip/pyspark/worker.py\", line 167, in process\n    serializer.dump_stream(func(split_index, iterator), outfile)\n  File \"/cluster/home/roskarr/spark/python/lib/pyspark.zip/pyspark/serializers.py\", line 263, in dump_stream\n    vs = list(itertools.islice(iterator, batch))\nTypeError: <lambda>() takes exactly 2 arguments (1 given)\n\n\tat org.apache.spark.api.python.PythonRunner$$anon$1.read(PythonRDD.scala:193)\n\tat org.apache.spark.api.python.PythonRunner$$anon$1.<init>(PythonRDD.scala:234)\n\tat org.apache.spark.api.python.PythonRunner.compute(PythonRDD.scala:152)\n\tat org.apache.spark.api.python.PythonRDD.compute(PythonRDD.scala:63)\n\tat org.apache.spark.rdd.RDD.computeOrReadCheckpoint(RDD.scala:319)\n\tat org.apache.spark.rdd.RDD.iterator(RDD.scala:283)\n\tat org.apache.spark.scheduler.ResultTask.runTask(ResultTask.scala:70)\n\tat org.apache.spark.scheduler.Task.run(Task.scala:86)\n\tat org.apache.spark.executor.Executor$TaskRunner.run(Executor.scala:274)\n\tat java.util.concurrent.ThreadPoolExecutor.runWorker(ThreadPoolExecutor.java:1142)\n\tat java.util.concurrent.ThreadPoolExecutor$Worker.run(ThreadPoolExecutor.java:617)\n\t... 1 more\n",
     "output_type": "error",
     "traceback": [
      "\u001b[0;31m---------------------------------------------------------------------------\u001b[0m",
      "\u001b[0;31mPy4JJavaError\u001b[0m                             Traceback (most recent call last)",
      "\u001b[0;32m<ipython-input-83-e55b00e880f8>\u001b[0m in \u001b[0;36m<module>\u001b[0;34m()\u001b[0m\n\u001b[0;32m----> 1\u001b[0;31m \u001b[0mmerge_rdd\u001b[0m \u001b[0;34m=\u001b[0m \u001b[0mfof_analyzer\u001b[0m\u001b[0;34m.\u001b[0m\u001b[0mmerged_rdd\u001b[0m\u001b[0;34m(\u001b[0m\u001b[0;34m)\u001b[0m\u001b[0;34m\u001b[0m\u001b[0m\n\u001b[0m",
      "\u001b[0;32m/cluster/project/sis/ri/roskarr/spark-fof/spark_fof/spark_fof.pyc\u001b[0m in \u001b[0;36mmerged_rdd\u001b[0;34m(self)\u001b[0m\n\u001b[1;32m     99\u001b[0m     \u001b[0;32mdef\u001b[0m \u001b[0mmerged_rdd\u001b[0m\u001b[0;34m(\u001b[0m\u001b[0mself\u001b[0m\u001b[0;34m)\u001b[0m\u001b[0;34m:\u001b[0m\u001b[0;34m\u001b[0m\u001b[0m\n\u001b[1;32m    100\u001b[0m         \u001b[0;32mif\u001b[0m \u001b[0mself\u001b[0m\u001b[0;34m.\u001b[0m\u001b[0m_merged_rdd\u001b[0m \u001b[0;32mis\u001b[0m \u001b[0mNone\u001b[0m\u001b[0;34m:\u001b[0m\u001b[0;34m\u001b[0m\u001b[0m\n\u001b[0;32m--> 101\u001b[0;31m             \u001b[0mself\u001b[0m\u001b[0;34m.\u001b[0m\u001b[0m_merged_rdd\u001b[0m \u001b[0;34m=\u001b[0m \u001b[0mself\u001b[0m\u001b[0;34m.\u001b[0m\u001b[0mmerge_groups\u001b[0m\u001b[0;34m(\u001b[0m\u001b[0;34m)\u001b[0m\u001b[0;34m\u001b[0m\u001b[0m\n\u001b[0m\u001b[1;32m    102\u001b[0m         \u001b[0;32mreturn\u001b[0m \u001b[0mself\u001b[0m\u001b[0;34m.\u001b[0m\u001b[0m_merged_rdd\u001b[0m\u001b[0;34m\u001b[0m\u001b[0m\n\u001b[1;32m    103\u001b[0m \u001b[0;34m\u001b[0m\u001b[0m\n",
      "\u001b[0;32m/cluster/project/sis/ri/roskarr/spark-fof/spark_fof/spark_fof.pyc\u001b[0m in \u001b[0;36mmerge_groups\u001b[0;34m(self, level)\u001b[0m\n\u001b[1;32m    338\u001b[0m \u001b[0;34m\u001b[0m\u001b[0m\n\u001b[1;32m    339\u001b[0m         \u001b[0;32mfor\u001b[0m \u001b[0ml\u001b[0m \u001b[0;32min\u001b[0m \u001b[0mrange\u001b[0m\u001b[0;34m(\u001b[0m\u001b[0mlevel\u001b[0m\u001b[0;34m,\u001b[0m \u001b[0;34m-\u001b[0m\u001b[0;36m1\u001b[0m\u001b[0;34m,\u001b[0m \u001b[0;34m-\u001b[0m\u001b[0;36m1\u001b[0m\u001b[0;34m)\u001b[0m\u001b[0;34m:\u001b[0m\u001b[0;34m\u001b[0m\u001b[0m\n\u001b[0;32m--> 340\u001b[0;31m             \u001b[0mm\u001b[0m \u001b[0;34m=\u001b[0m \u001b[0mself\u001b[0m\u001b[0;34m.\u001b[0m\u001b[0mget_level_map\u001b[0m\u001b[0;34m(\u001b[0m\u001b[0ml\u001b[0m\u001b[0;34m)\u001b[0m\u001b[0;34m\u001b[0m\u001b[0m\n\u001b[0m\u001b[1;32m    341\u001b[0m             \u001b[0mm_b\u001b[0m \u001b[0;34m=\u001b[0m \u001b[0mself\u001b[0m\u001b[0;34m.\u001b[0m\u001b[0msc\u001b[0m\u001b[0;34m.\u001b[0m\u001b[0mbroadcast\u001b[0m\u001b[0;34m(\u001b[0m\u001b[0mm\u001b[0m\u001b[0;34m)\u001b[0m\u001b[0;34m\u001b[0m\u001b[0m\n\u001b[1;32m    342\u001b[0m             \u001b[0mmerged_rdd\u001b[0m \u001b[0;34m=\u001b[0m \u001b[0mfof_rdd\u001b[0m\u001b[0;34m.\u001b[0m\u001b[0mmapPartitions\u001b[0m\u001b[0;34m(\u001b[0m\u001b[0;32mlambda\u001b[0m \u001b[0mparticles\u001b[0m\u001b[0;34m:\u001b[0m \u001b[0mremap_partition\u001b[0m\u001b[0;34m(\u001b[0m\u001b[0mparticles\u001b[0m\u001b[0;34m,\u001b[0m \u001b[0mm_b\u001b[0m\u001b[0;34m.\u001b[0m\u001b[0mvalue\u001b[0m\u001b[0;34m)\u001b[0m\u001b[0;34m)\u001b[0m\u001b[0;34m\u001b[0m\u001b[0m\n",
      "\u001b[0;32m/cluster/project/sis/ri/roskarr/spark-fof/spark_fof/spark_fof.pyc\u001b[0m in \u001b[0;36mget_level_map\u001b[0;34m(self, level)\u001b[0m\n\u001b[1;32m    285\u001b[0m         \u001b[0;31m# get the initial group mapping across sub-domains just based on\u001b[0m\u001b[0;34m\u001b[0m\u001b[0;34m\u001b[0m\u001b[0m\n\u001b[1;32m    286\u001b[0m         \u001b[0;31m# particle IDs\u001b[0m\u001b[0;34m\u001b[0m\u001b[0;34m\u001b[0m\u001b[0m\n\u001b[0;32m--> 287\u001b[0;31m         \u001b[0mgroups_map\u001b[0m \u001b[0;34m=\u001b[0m \u001b[0mself\u001b[0m\u001b[0;34m.\u001b[0m\u001b[0mget_gid_map\u001b[0m\u001b[0;34m(\u001b[0m\u001b[0mlevel\u001b[0m\u001b[0;34m)\u001b[0m\u001b[0;34m\u001b[0m\u001b[0m\n\u001b[0m\u001b[1;32m    288\u001b[0m \u001b[0;34m\u001b[0m\u001b[0m\n\u001b[1;32m    289\u001b[0m         \u001b[0mmappings\u001b[0m \u001b[0;34m=\u001b[0m \u001b[0;34m{\u001b[0m\u001b[0;34m}\u001b[0m\u001b[0;34m\u001b[0m\u001b[0m\n",
      "\u001b[0;32m/cluster/project/sis/ri/roskarr/spark-fof/spark_fof/spark_fof.pyc\u001b[0m in \u001b[0;36mget_gid_map\u001b[0;34m(self, level)\u001b[0m\n\u001b[1;32m    260\u001b[0m         \u001b[0mghost_orig_rdd\u001b[0m \u001b[0;34m=\u001b[0m \u001b[0mfof_rdd\u001b[0m\u001b[0;34m.\u001b[0m\u001b[0mflatMap\u001b[0m\u001b[0;34m(\u001b[0m\u001b[0;32mlambda\u001b[0m \u001b[0mp\u001b[0m\u001b[0;34m:\u001b[0m \u001b[0mp\u001b[0m\u001b[0;34m[\u001b[0m\u001b[0mnp\u001b[0m\u001b[0;34m.\u001b[0m\u001b[0mwhere\u001b[0m\u001b[0;34m(\u001b[0m\u001b[0mp\u001b[0m\u001b[0;34m[\u001b[0m\u001b[0;34m'is_ghost'\u001b[0m\u001b[0;34m]\u001b[0m\u001b[0;34m==\u001b[0m\u001b[0;36m1\u001b[0m\u001b[0;34m)\u001b[0m\u001b[0;34m[\u001b[0m\u001b[0;36m0\u001b[0m\u001b[0;34m]\u001b[0m\u001b[0;34m]\u001b[0m\u001b[0;34m)\u001b[0m\u001b[0;34m.\u001b[0m\u001b[0mmap\u001b[0m\u001b[0;34m(\u001b[0m\u001b[0mpid_gid\u001b[0m\u001b[0;34m)\u001b[0m\u001b[0;34m\u001b[0m\u001b[0m\n\u001b[1;32m    261\u001b[0m \u001b[0;34m\u001b[0m\u001b[0m\n\u001b[0;32m--> 262\u001b[0;31m         \u001b[0mgroups_map\u001b[0m \u001b[0;34m=\u001b[0m \u001b[0mghost_copy_rdd\u001b[0m\u001b[0;34m.\u001b[0m\u001b[0mjoin\u001b[0m\u001b[0;34m(\u001b[0m\u001b[0mghost_orig_rdd\u001b[0m\u001b[0;34m)\u001b[0m\u001b[0;34m.\u001b[0m\u001b[0mmap\u001b[0m\u001b[0;34m(\u001b[0m\u001b[0;32mlambda\u001b[0m \u001b[0mk\u001b[0m\u001b[0;34m,\u001b[0m\u001b[0mv\u001b[0m\u001b[0;34m:\u001b[0m \u001b[0msorted\u001b[0m\u001b[0;34m(\u001b[0m\u001b[0mv\u001b[0m\u001b[0;34m)\u001b[0m\u001b[0;34m)\u001b[0m\u001b[0;34m.\u001b[0m\u001b[0mcollect\u001b[0m\u001b[0;34m(\u001b[0m\u001b[0;34m)\u001b[0m\u001b[0;34m\u001b[0m\u001b[0m\n\u001b[0m\u001b[1;32m    263\u001b[0m \u001b[0;34m\u001b[0m\u001b[0m\n\u001b[1;32m    264\u001b[0m         \u001b[0;32mreturn\u001b[0m \u001b[0mgroups_map\u001b[0m\u001b[0;34m\u001b[0m\u001b[0m\n",
      "\u001b[0;32m/cluster/home/roskarr/spark/python/pyspark/rdd.pyc\u001b[0m in \u001b[0;36mcollect\u001b[0;34m(self)\u001b[0m\n\u001b[1;32m    774\u001b[0m         \"\"\"\n\u001b[1;32m    775\u001b[0m         \u001b[0;32mwith\u001b[0m \u001b[0mSCCallSiteSync\u001b[0m\u001b[0;34m(\u001b[0m\u001b[0mself\u001b[0m\u001b[0;34m.\u001b[0m\u001b[0mcontext\u001b[0m\u001b[0;34m)\u001b[0m \u001b[0;32mas\u001b[0m \u001b[0mcss\u001b[0m\u001b[0;34m:\u001b[0m\u001b[0;34m\u001b[0m\u001b[0m\n\u001b[0;32m--> 776\u001b[0;31m             \u001b[0mport\u001b[0m \u001b[0;34m=\u001b[0m \u001b[0mself\u001b[0m\u001b[0;34m.\u001b[0m\u001b[0mctx\u001b[0m\u001b[0;34m.\u001b[0m\u001b[0m_jvm\u001b[0m\u001b[0;34m.\u001b[0m\u001b[0mPythonRDD\u001b[0m\u001b[0;34m.\u001b[0m\u001b[0mcollectAndServe\u001b[0m\u001b[0;34m(\u001b[0m\u001b[0mself\u001b[0m\u001b[0;34m.\u001b[0m\u001b[0m_jrdd\u001b[0m\u001b[0;34m.\u001b[0m\u001b[0mrdd\u001b[0m\u001b[0;34m(\u001b[0m\u001b[0;34m)\u001b[0m\u001b[0;34m)\u001b[0m\u001b[0;34m\u001b[0m\u001b[0m\n\u001b[0m\u001b[1;32m    777\u001b[0m         \u001b[0;32mreturn\u001b[0m \u001b[0mlist\u001b[0m\u001b[0;34m(\u001b[0m\u001b[0m_load_from_socket\u001b[0m\u001b[0;34m(\u001b[0m\u001b[0mport\u001b[0m\u001b[0;34m,\u001b[0m \u001b[0mself\u001b[0m\u001b[0;34m.\u001b[0m\u001b[0m_jrdd_deserializer\u001b[0m\u001b[0;34m)\u001b[0m\u001b[0;34m)\u001b[0m\u001b[0;34m\u001b[0m\u001b[0m\n\u001b[1;32m    778\u001b[0m \u001b[0;34m\u001b[0m\u001b[0m\n",
      "\u001b[0;32m/cluster/home/roskarr/spark/python/lib/py4j-0.10.3-src.zip/py4j/java_gateway.py\u001b[0m in \u001b[0;36m__call__\u001b[0;34m(self, *args)\u001b[0m\n\u001b[1;32m   1131\u001b[0m         \u001b[0manswer\u001b[0m \u001b[0;34m=\u001b[0m \u001b[0mself\u001b[0m\u001b[0;34m.\u001b[0m\u001b[0mgateway_client\u001b[0m\u001b[0;34m.\u001b[0m\u001b[0msend_command\u001b[0m\u001b[0;34m(\u001b[0m\u001b[0mcommand\u001b[0m\u001b[0;34m)\u001b[0m\u001b[0;34m\u001b[0m\u001b[0m\n\u001b[1;32m   1132\u001b[0m         return_value = get_return_value(\n\u001b[0;32m-> 1133\u001b[0;31m             answer, self.gateway_client, self.target_id, self.name)\n\u001b[0m\u001b[1;32m   1134\u001b[0m \u001b[0;34m\u001b[0m\u001b[0m\n\u001b[1;32m   1135\u001b[0m         \u001b[0;32mfor\u001b[0m \u001b[0mtemp_arg\u001b[0m \u001b[0;32min\u001b[0m \u001b[0mtemp_args\u001b[0m\u001b[0;34m:\u001b[0m\u001b[0;34m\u001b[0m\u001b[0m\n",
      "\u001b[0;32m/cluster/home/roskarr/spark/python/lib/py4j-0.10.3-src.zip/py4j/protocol.py\u001b[0m in \u001b[0;36mget_return_value\u001b[0;34m(answer, gateway_client, target_id, name)\u001b[0m\n\u001b[1;32m    317\u001b[0m                 raise Py4JJavaError(\n\u001b[1;32m    318\u001b[0m                     \u001b[0;34m\"An error occurred while calling {0}{1}{2}.\\n\"\u001b[0m\u001b[0;34m.\u001b[0m\u001b[0;34m\u001b[0m\u001b[0m\n\u001b[0;32m--> 319\u001b[0;31m                     format(target_id, \".\", name), value)\n\u001b[0m\u001b[1;32m    320\u001b[0m             \u001b[0;32melse\u001b[0m\u001b[0;34m:\u001b[0m\u001b[0;34m\u001b[0m\u001b[0m\n\u001b[1;32m    321\u001b[0m                 raise Py4JError(\n",
      "\u001b[0;31mPy4JJavaError\u001b[0m: An error occurred while calling z:org.apache.spark.api.python.PythonRDD.collectAndServe.\n: org.apache.spark.SparkException: Job aborted due to stage failure: Task 5 in stage 26.0 failed 4 times, most recent failure: Lost task 5.3 in stage 26.0 (TID 598, 10.205.4.45): org.apache.spark.api.python.PythonException: Traceback (most recent call last):\n  File \"/cluster/home/roskarr/spark/python/lib/pyspark.zip/pyspark/worker.py\", line 170, in main\n    profiler.profile(process)\n  File \"/cluster/home/roskarr/spark/python/lib/pyspark.zip/pyspark/profiler.py\", line 160, in profile\n    pr.runcall(func)\n  File \"/cluster/home/roskarr/miniconda2/lib/python2.7/cProfile.py\", line 149, in runcall\n    return func(*args, **kw)\n  File \"/cluster/home/roskarr/spark/python/lib/pyspark.zip/pyspark/worker.py\", line 167, in process\n    serializer.dump_stream(func(split_index, iterator), outfile)\n  File \"/cluster/home/roskarr/spark/python/lib/pyspark.zip/pyspark/serializers.py\", line 263, in dump_stream\n    vs = list(itertools.islice(iterator, batch))\nTypeError: <lambda>() takes exactly 2 arguments (1 given)\n\n\tat org.apache.spark.api.python.PythonRunner$$anon$1.read(PythonRDD.scala:193)\n\tat org.apache.spark.api.python.PythonRunner$$anon$1.<init>(PythonRDD.scala:234)\n\tat org.apache.spark.api.python.PythonRunner.compute(PythonRDD.scala:152)\n\tat org.apache.spark.api.python.PythonRDD.compute(PythonRDD.scala:63)\n\tat org.apache.spark.rdd.RDD.computeOrReadCheckpoint(RDD.scala:319)\n\tat org.apache.spark.rdd.RDD.iterator(RDD.scala:283)\n\tat org.apache.spark.scheduler.ResultTask.runTask(ResultTask.scala:70)\n\tat org.apache.spark.scheduler.Task.run(Task.scala:86)\n\tat org.apache.spark.executor.Executor$TaskRunner.run(Executor.scala:274)\n\tat java.util.concurrent.ThreadPoolExecutor.runWorker(ThreadPoolExecutor.java:1142)\n\tat java.util.concurrent.ThreadPoolExecutor$Worker.run(ThreadPoolExecutor.java:617)\n\tat java.lang.Thread.run(Thread.java:745)\n\nDriver stacktrace:\n\tat org.apache.spark.scheduler.DAGScheduler.org$apache$spark$scheduler$DAGScheduler$$failJobAndIndependentStages(DAGScheduler.scala:1454)\n\tat org.apache.spark.scheduler.DAGScheduler$$anonfun$abortStage$1.apply(DAGScheduler.scala:1442)\n\tat org.apache.spark.scheduler.DAGScheduler$$anonfun$abortStage$1.apply(DAGScheduler.scala:1441)\n\tat scala.collection.mutable.ResizableArray$class.foreach(ResizableArray.scala:59)\n\tat scala.collection.mutable.ArrayBuffer.foreach(ArrayBuffer.scala:48)\n\tat org.apache.spark.scheduler.DAGScheduler.abortStage(DAGScheduler.scala:1441)\n\tat org.apache.spark.scheduler.DAGScheduler$$anonfun$handleTaskSetFailed$1.apply(DAGScheduler.scala:811)\n\tat org.apache.spark.scheduler.DAGScheduler$$anonfun$handleTaskSetFailed$1.apply(DAGScheduler.scala:811)\n\tat scala.Option.foreach(Option.scala:257)\n\tat org.apache.spark.scheduler.DAGScheduler.handleTaskSetFailed(DAGScheduler.scala:811)\n\tat org.apache.spark.scheduler.DAGSchedulerEventProcessLoop.doOnReceive(DAGScheduler.scala:1667)\n\tat org.apache.spark.scheduler.DAGSchedulerEventProcessLoop.onReceive(DAGScheduler.scala:1622)\n\tat org.apache.spark.scheduler.DAGSchedulerEventProcessLoop.onReceive(DAGScheduler.scala:1611)\n\tat org.apache.spark.util.EventLoop$$anon$1.run(EventLoop.scala:48)\n\tat org.apache.spark.scheduler.DAGScheduler.runJob(DAGScheduler.scala:632)\n\tat org.apache.spark.SparkContext.runJob(SparkContext.scala:1890)\n\tat org.apache.spark.SparkContext.runJob(SparkContext.scala:1903)\n\tat org.apache.spark.SparkContext.runJob(SparkContext.scala:1916)\n\tat org.apache.spark.SparkContext.runJob(SparkContext.scala:1930)\n\tat org.apache.spark.rdd.RDD$$anonfun$collect$1.apply(RDD.scala:912)\n\tat org.apache.spark.rdd.RDDOperationScope$.withScope(RDDOperationScope.scala:151)\n\tat org.apache.spark.rdd.RDDOperationScope$.withScope(RDDOperationScope.scala:112)\n\tat org.apache.spark.rdd.RDD.withScope(RDD.scala:358)\n\tat org.apache.spark.rdd.RDD.collect(RDD.scala:911)\n\tat org.apache.spark.api.python.PythonRDD$.collectAndServe(PythonRDD.scala:453)\n\tat org.apache.spark.api.python.PythonRDD.collectAndServe(PythonRDD.scala)\n\tat sun.reflect.NativeMethodAccessorImpl.invoke0(Native Method)\n\tat sun.reflect.NativeMethodAccessorImpl.invoke(NativeMethodAccessorImpl.java:62)\n\tat sun.reflect.DelegatingMethodAccessorImpl.invoke(DelegatingMethodAccessorImpl.java:43)\n\tat java.lang.reflect.Method.invoke(Method.java:483)\n\tat py4j.reflection.MethodInvoker.invoke(MethodInvoker.java:237)\n\tat py4j.reflection.ReflectionEngine.invoke(ReflectionEngine.java:357)\n\tat py4j.Gateway.invoke(Gateway.java:280)\n\tat py4j.commands.AbstractCommand.invokeMethod(AbstractCommand.java:132)\n\tat py4j.commands.CallCommand.execute(CallCommand.java:79)\n\tat py4j.GatewayConnection.run(GatewayConnection.java:214)\n\tat java.lang.Thread.run(Thread.java:745)\nCaused by: org.apache.spark.api.python.PythonException: Traceback (most recent call last):\n  File \"/cluster/home/roskarr/spark/python/lib/pyspark.zip/pyspark/worker.py\", line 170, in main\n    profiler.profile(process)\n  File \"/cluster/home/roskarr/spark/python/lib/pyspark.zip/pyspark/profiler.py\", line 160, in profile\n    pr.runcall(func)\n  File \"/cluster/home/roskarr/miniconda2/lib/python2.7/cProfile.py\", line 149, in runcall\n    return func(*args, **kw)\n  File \"/cluster/home/roskarr/spark/python/lib/pyspark.zip/pyspark/worker.py\", line 167, in process\n    serializer.dump_stream(func(split_index, iterator), outfile)\n  File \"/cluster/home/roskarr/spark/python/lib/pyspark.zip/pyspark/serializers.py\", line 263, in dump_stream\n    vs = list(itertools.islice(iterator, batch))\nTypeError: <lambda>() takes exactly 2 arguments (1 given)\n\n\tat org.apache.spark.api.python.PythonRunner$$anon$1.read(PythonRDD.scala:193)\n\tat org.apache.spark.api.python.PythonRunner$$anon$1.<init>(PythonRDD.scala:234)\n\tat org.apache.spark.api.python.PythonRunner.compute(PythonRDD.scala:152)\n\tat org.apache.spark.api.python.PythonRDD.compute(PythonRDD.scala:63)\n\tat org.apache.spark.rdd.RDD.computeOrReadCheckpoint(RDD.scala:319)\n\tat org.apache.spark.rdd.RDD.iterator(RDD.scala:283)\n\tat org.apache.spark.scheduler.ResultTask.runTask(ResultTask.scala:70)\n\tat org.apache.spark.scheduler.Task.run(Task.scala:86)\n\tat org.apache.spark.executor.Executor$TaskRunner.run(Executor.scala:274)\n\tat java.util.concurrent.ThreadPoolExecutor.runWorker(ThreadPoolExecutor.java:1142)\n\tat java.util.concurrent.ThreadPoolExecutor$Worker.run(ThreadPoolExecutor.java:617)\n\t... 1 more\n"
     ]
    }
   ],
   "source": [
    "merge_rdd = fof_analyzer.merged_rdd()"
   ]
  },
  {
   "cell_type": "code",
   "execution_count": 80,
   "metadata": {
    "collapsed": false
   },
   "outputs": [
    {
     "ename": "Py4JJavaError",
     "evalue": "An error occurred while calling z:org.apache.spark.api.python.PythonRDD.collectAndServe.\n: org.apache.spark.SparkException: Job aborted due to stage failure: Task 3 in stage 16.0 failed 4 times, most recent failure: Lost task 3.3 in stage 16.0 (TID 383, 10.205.8.31): org.apache.spark.api.python.PythonException: Traceback (most recent call last):\n  File \"/cluster/home/roskarr/spark/python/lib/pyspark.zip/pyspark/worker.py\", line 170, in main\n    profiler.profile(process)\n  File \"/cluster/home/roskarr/spark/python/lib/pyspark.zip/pyspark/profiler.py\", line 160, in profile\n    pr.runcall(func)\n  File \"/cluster/home/roskarr/miniconda2/lib/python2.7/cProfile.py\", line 149, in runcall\n    return func(*args, **kw)\n  File \"/cluster/home/roskarr/spark/python/lib/pyspark.zip/pyspark/worker.py\", line 167, in process\n    serializer.dump_stream(func(split_index, iterator), outfile)\n  File \"/cluster/home/roskarr/spark/python/lib/pyspark.zip/pyspark/serializers.py\", line 263, in dump_stream\n    vs = list(itertools.islice(iterator, batch))\nTypeError: <lambda>() takes exactly 2 arguments (1 given)\n\n\tat org.apache.spark.api.python.PythonRunner$$anon$1.read(PythonRDD.scala:193)\n\tat org.apache.spark.api.python.PythonRunner$$anon$1.<init>(PythonRDD.scala:234)\n\tat org.apache.spark.api.python.PythonRunner.compute(PythonRDD.scala:152)\n\tat org.apache.spark.api.python.PythonRDD.compute(PythonRDD.scala:63)\n\tat org.apache.spark.rdd.RDD.computeOrReadCheckpoint(RDD.scala:319)\n\tat org.apache.spark.rdd.RDD.iterator(RDD.scala:283)\n\tat org.apache.spark.scheduler.ResultTask.runTask(ResultTask.scala:70)\n\tat org.apache.spark.scheduler.Task.run(Task.scala:86)\n\tat org.apache.spark.executor.Executor$TaskRunner.run(Executor.scala:274)\n\tat java.util.concurrent.ThreadPoolExecutor.runWorker(ThreadPoolExecutor.java:1142)\n\tat java.util.concurrent.ThreadPoolExecutor$Worker.run(ThreadPoolExecutor.java:617)\n\tat java.lang.Thread.run(Thread.java:745)\n\nDriver stacktrace:\n\tat org.apache.spark.scheduler.DAGScheduler.org$apache$spark$scheduler$DAGScheduler$$failJobAndIndependentStages(DAGScheduler.scala:1454)\n\tat org.apache.spark.scheduler.DAGScheduler$$anonfun$abortStage$1.apply(DAGScheduler.scala:1442)\n\tat org.apache.spark.scheduler.DAGScheduler$$anonfun$abortStage$1.apply(DAGScheduler.scala:1441)\n\tat scala.collection.mutable.ResizableArray$class.foreach(ResizableArray.scala:59)\n\tat scala.collection.mutable.ArrayBuffer.foreach(ArrayBuffer.scala:48)\n\tat org.apache.spark.scheduler.DAGScheduler.abortStage(DAGScheduler.scala:1441)\n\tat org.apache.spark.scheduler.DAGScheduler$$anonfun$handleTaskSetFailed$1.apply(DAGScheduler.scala:811)\n\tat org.apache.spark.scheduler.DAGScheduler$$anonfun$handleTaskSetFailed$1.apply(DAGScheduler.scala:811)\n\tat scala.Option.foreach(Option.scala:257)\n\tat org.apache.spark.scheduler.DAGScheduler.handleTaskSetFailed(DAGScheduler.scala:811)\n\tat org.apache.spark.scheduler.DAGSchedulerEventProcessLoop.doOnReceive(DAGScheduler.scala:1667)\n\tat org.apache.spark.scheduler.DAGSchedulerEventProcessLoop.onReceive(DAGScheduler.scala:1622)\n\tat org.apache.spark.scheduler.DAGSchedulerEventProcessLoop.onReceive(DAGScheduler.scala:1611)\n\tat org.apache.spark.util.EventLoop$$anon$1.run(EventLoop.scala:48)\n\tat org.apache.spark.scheduler.DAGScheduler.runJob(DAGScheduler.scala:632)\n\tat org.apache.spark.SparkContext.runJob(SparkContext.scala:1890)\n\tat org.apache.spark.SparkContext.runJob(SparkContext.scala:1903)\n\tat org.apache.spark.SparkContext.runJob(SparkContext.scala:1916)\n\tat org.apache.spark.SparkContext.runJob(SparkContext.scala:1930)\n\tat org.apache.spark.rdd.RDD$$anonfun$collect$1.apply(RDD.scala:912)\n\tat org.apache.spark.rdd.RDDOperationScope$.withScope(RDDOperationScope.scala:151)\n\tat org.apache.spark.rdd.RDDOperationScope$.withScope(RDDOperationScope.scala:112)\n\tat org.apache.spark.rdd.RDD.withScope(RDD.scala:358)\n\tat org.apache.spark.rdd.RDD.collect(RDD.scala:911)\n\tat org.apache.spark.api.python.PythonRDD$.collectAndServe(PythonRDD.scala:453)\n\tat org.apache.spark.api.python.PythonRDD.collectAndServe(PythonRDD.scala)\n\tat sun.reflect.NativeMethodAccessorImpl.invoke0(Native Method)\n\tat sun.reflect.NativeMethodAccessorImpl.invoke(NativeMethodAccessorImpl.java:62)\n\tat sun.reflect.DelegatingMethodAccessorImpl.invoke(DelegatingMethodAccessorImpl.java:43)\n\tat java.lang.reflect.Method.invoke(Method.java:483)\n\tat py4j.reflection.MethodInvoker.invoke(MethodInvoker.java:237)\n\tat py4j.reflection.ReflectionEngine.invoke(ReflectionEngine.java:357)\n\tat py4j.Gateway.invoke(Gateway.java:280)\n\tat py4j.commands.AbstractCommand.invokeMethod(AbstractCommand.java:132)\n\tat py4j.commands.CallCommand.execute(CallCommand.java:79)\n\tat py4j.GatewayConnection.run(GatewayConnection.java:214)\n\tat java.lang.Thread.run(Thread.java:745)\nCaused by: org.apache.spark.api.python.PythonException: Traceback (most recent call last):\n  File \"/cluster/home/roskarr/spark/python/lib/pyspark.zip/pyspark/worker.py\", line 170, in main\n    profiler.profile(process)\n  File \"/cluster/home/roskarr/spark/python/lib/pyspark.zip/pyspark/profiler.py\", line 160, in profile\n    pr.runcall(func)\n  File \"/cluster/home/roskarr/miniconda2/lib/python2.7/cProfile.py\", line 149, in runcall\n    return func(*args, **kw)\n  File \"/cluster/home/roskarr/spark/python/lib/pyspark.zip/pyspark/worker.py\", line 167, in process\n    serializer.dump_stream(func(split_index, iterator), outfile)\n  File \"/cluster/home/roskarr/spark/python/lib/pyspark.zip/pyspark/serializers.py\", line 263, in dump_stream\n    vs = list(itertools.islice(iterator, batch))\nTypeError: <lambda>() takes exactly 2 arguments (1 given)\n\n\tat org.apache.spark.api.python.PythonRunner$$anon$1.read(PythonRDD.scala:193)\n\tat org.apache.spark.api.python.PythonRunner$$anon$1.<init>(PythonRDD.scala:234)\n\tat org.apache.spark.api.python.PythonRunner.compute(PythonRDD.scala:152)\n\tat org.apache.spark.api.python.PythonRDD.compute(PythonRDD.scala:63)\n\tat org.apache.spark.rdd.RDD.computeOrReadCheckpoint(RDD.scala:319)\n\tat org.apache.spark.rdd.RDD.iterator(RDD.scala:283)\n\tat org.apache.spark.scheduler.ResultTask.runTask(ResultTask.scala:70)\n\tat org.apache.spark.scheduler.Task.run(Task.scala:86)\n\tat org.apache.spark.executor.Executor$TaskRunner.run(Executor.scala:274)\n\tat java.util.concurrent.ThreadPoolExecutor.runWorker(ThreadPoolExecutor.java:1142)\n\tat java.util.concurrent.ThreadPoolExecutor$Worker.run(ThreadPoolExecutor.java:617)\n\t... 1 more\n",
     "output_type": "error",
     "traceback": [
      "\u001b[0;31m---------------------------------------------------------------------------\u001b[0m",
      "\u001b[0;31mPy4JJavaError\u001b[0m                             Traceback (most recent call last)",
      "\u001b[0;32m<ipython-input-80-03827ac79b04>\u001b[0m in \u001b[0;36m<module>\u001b[0;34m()\u001b[0m\n\u001b[0;32m----> 1\u001b[0;31m \u001b[0mget_ipython\u001b[0m\u001b[0;34m(\u001b[0m\u001b[0;34m)\u001b[0m\u001b[0;34m.\u001b[0m\u001b[0mrun_cell_magic\u001b[0m\u001b[0;34m(\u001b[0m\u001b[0;34mu'time'\u001b[0m\u001b[0;34m,\u001b[0m \u001b[0;34mu''\u001b[0m\u001b[0;34m,\u001b[0m \u001b[0;34mu'final_fof_rdd = fof_analyzer.final_fof_rdd.cache()\\n#groups = fof_analyzer.groups'\u001b[0m\u001b[0;34m)\u001b[0m\u001b[0;34m\u001b[0m\u001b[0m\n\u001b[0m",
      "\u001b[0;32m/cluster/home/roskarr/miniconda2/lib/python2.7/site-packages/IPython/core/interactiveshell.pyc\u001b[0m in \u001b[0;36mrun_cell_magic\u001b[0;34m(self, magic_name, line, cell)\u001b[0m\n\u001b[1;32m   2113\u001b[0m             \u001b[0mmagic_arg_s\u001b[0m \u001b[0;34m=\u001b[0m \u001b[0mself\u001b[0m\u001b[0;34m.\u001b[0m\u001b[0mvar_expand\u001b[0m\u001b[0;34m(\u001b[0m\u001b[0mline\u001b[0m\u001b[0;34m,\u001b[0m \u001b[0mstack_depth\u001b[0m\u001b[0;34m)\u001b[0m\u001b[0;34m\u001b[0m\u001b[0m\n\u001b[1;32m   2114\u001b[0m             \u001b[0;32mwith\u001b[0m \u001b[0mself\u001b[0m\u001b[0;34m.\u001b[0m\u001b[0mbuiltin_trap\u001b[0m\u001b[0;34m:\u001b[0m\u001b[0;34m\u001b[0m\u001b[0m\n\u001b[0;32m-> 2115\u001b[0;31m                 \u001b[0mresult\u001b[0m \u001b[0;34m=\u001b[0m \u001b[0mfn\u001b[0m\u001b[0;34m(\u001b[0m\u001b[0mmagic_arg_s\u001b[0m\u001b[0;34m,\u001b[0m \u001b[0mcell\u001b[0m\u001b[0;34m)\u001b[0m\u001b[0;34m\u001b[0m\u001b[0m\n\u001b[0m\u001b[1;32m   2116\u001b[0m             \u001b[0;32mreturn\u001b[0m \u001b[0mresult\u001b[0m\u001b[0;34m\u001b[0m\u001b[0m\n\u001b[1;32m   2117\u001b[0m \u001b[0;34m\u001b[0m\u001b[0m\n",
      "\u001b[0;32m<decorator-gen-59>\u001b[0m in \u001b[0;36mtime\u001b[0;34m(self, line, cell, local_ns)\u001b[0m\n",
      "\u001b[0;32m/cluster/home/roskarr/miniconda2/lib/python2.7/site-packages/IPython/core/magic.pyc\u001b[0m in \u001b[0;36m<lambda>\u001b[0;34m(f, *a, **k)\u001b[0m\n\u001b[1;32m    186\u001b[0m     \u001b[0;31m# but it's overkill for just that one bit of state.\u001b[0m\u001b[0;34m\u001b[0m\u001b[0;34m\u001b[0m\u001b[0m\n\u001b[1;32m    187\u001b[0m     \u001b[0;32mdef\u001b[0m \u001b[0mmagic_deco\u001b[0m\u001b[0;34m(\u001b[0m\u001b[0marg\u001b[0m\u001b[0;34m)\u001b[0m\u001b[0;34m:\u001b[0m\u001b[0;34m\u001b[0m\u001b[0m\n\u001b[0;32m--> 188\u001b[0;31m         \u001b[0mcall\u001b[0m \u001b[0;34m=\u001b[0m \u001b[0;32mlambda\u001b[0m \u001b[0mf\u001b[0m\u001b[0;34m,\u001b[0m \u001b[0;34m*\u001b[0m\u001b[0ma\u001b[0m\u001b[0;34m,\u001b[0m \u001b[0;34m**\u001b[0m\u001b[0mk\u001b[0m\u001b[0;34m:\u001b[0m \u001b[0mf\u001b[0m\u001b[0;34m(\u001b[0m\u001b[0;34m*\u001b[0m\u001b[0ma\u001b[0m\u001b[0;34m,\u001b[0m \u001b[0;34m**\u001b[0m\u001b[0mk\u001b[0m\u001b[0;34m)\u001b[0m\u001b[0;34m\u001b[0m\u001b[0m\n\u001b[0m\u001b[1;32m    189\u001b[0m \u001b[0;34m\u001b[0m\u001b[0m\n\u001b[1;32m    190\u001b[0m         \u001b[0;32mif\u001b[0m \u001b[0mcallable\u001b[0m\u001b[0;34m(\u001b[0m\u001b[0marg\u001b[0m\u001b[0;34m)\u001b[0m\u001b[0;34m:\u001b[0m\u001b[0;34m\u001b[0m\u001b[0m\n",
      "\u001b[0;32m/cluster/home/roskarr/miniconda2/lib/python2.7/site-packages/IPython/core/magics/execution.pyc\u001b[0m in \u001b[0;36mtime\u001b[0;34m(self, line, cell, local_ns)\u001b[0m\n\u001b[1;32m   1178\u001b[0m         \u001b[0;32melse\u001b[0m\u001b[0;34m:\u001b[0m\u001b[0;34m\u001b[0m\u001b[0m\n\u001b[1;32m   1179\u001b[0m             \u001b[0mst\u001b[0m \u001b[0;34m=\u001b[0m \u001b[0mclock2\u001b[0m\u001b[0;34m(\u001b[0m\u001b[0;34m)\u001b[0m\u001b[0;34m\u001b[0m\u001b[0m\n\u001b[0;32m-> 1180\u001b[0;31m             \u001b[0;32mexec\u001b[0m\u001b[0;34m(\u001b[0m\u001b[0mcode\u001b[0m\u001b[0;34m,\u001b[0m \u001b[0mglob\u001b[0m\u001b[0;34m,\u001b[0m \u001b[0mlocal_ns\u001b[0m\u001b[0;34m)\u001b[0m\u001b[0;34m\u001b[0m\u001b[0m\n\u001b[0m\u001b[1;32m   1181\u001b[0m             \u001b[0mend\u001b[0m \u001b[0;34m=\u001b[0m \u001b[0mclock2\u001b[0m\u001b[0;34m(\u001b[0m\u001b[0;34m)\u001b[0m\u001b[0;34m\u001b[0m\u001b[0m\n\u001b[1;32m   1182\u001b[0m             \u001b[0mout\u001b[0m \u001b[0;34m=\u001b[0m \u001b[0mNone\u001b[0m\u001b[0;34m\u001b[0m\u001b[0m\n",
      "\u001b[0;32m<timed exec>\u001b[0m in \u001b[0;36m<module>\u001b[0;34m()\u001b[0m\n",
      "\u001b[0;32m/cluster/project/sis/ri/roskarr/spark-fof/spark_fof/spark_fof.pyc\u001b[0m in \u001b[0;36mfinal_fof_rdd\u001b[0;34m(self)\u001b[0m\n\u001b[1;32m    106\u001b[0m     \u001b[0;32mdef\u001b[0m \u001b[0mfinal_fof_rdd\u001b[0m\u001b[0;34m(\u001b[0m\u001b[0mself\u001b[0m\u001b[0;34m)\u001b[0m\u001b[0;34m:\u001b[0m\u001b[0;34m\u001b[0m\u001b[0m\n\u001b[1;32m    107\u001b[0m         \u001b[0;32mif\u001b[0m \u001b[0mself\u001b[0m\u001b[0;34m.\u001b[0m\u001b[0m_final_fof_rdd\u001b[0m \u001b[0;32mis\u001b[0m \u001b[0mNone\u001b[0m\u001b[0;34m:\u001b[0m\u001b[0;34m\u001b[0m\u001b[0m\n\u001b[0;32m--> 108\u001b[0;31m             \u001b[0mself\u001b[0m\u001b[0;34m.\u001b[0m\u001b[0m_final_fof_rdd\u001b[0m \u001b[0;34m=\u001b[0m \u001b[0mself\u001b[0m\u001b[0;34m.\u001b[0m\u001b[0mfinalize_groups\u001b[0m\u001b[0;34m(\u001b[0m\u001b[0;34m)\u001b[0m\u001b[0;34m\u001b[0m\u001b[0m\n\u001b[0m\u001b[1;32m    109\u001b[0m         \u001b[0;32mreturn\u001b[0m \u001b[0mself\u001b[0m\u001b[0;34m.\u001b[0m\u001b[0m_final_fof_rdd\u001b[0m\u001b[0;34m\u001b[0m\u001b[0m\n\u001b[1;32m    110\u001b[0m \u001b[0;34m\u001b[0m\u001b[0m\n",
      "\u001b[0;32m/cluster/project/sis/ri/roskarr/spark-fof/spark_fof/spark_fof.pyc\u001b[0m in \u001b[0;36mfinalize_groups\u001b[0;34m(self)\u001b[0m\n\u001b[1;32m    366\u001b[0m             \u001b[0;32mreturn\u001b[0m \u001b[0mp_arr\u001b[0m\u001b[0;34m\u001b[0m\u001b[0m\n\u001b[1;32m    367\u001b[0m \u001b[0;34m\u001b[0m\u001b[0m\n\u001b[0;32m--> 368\u001b[0;31m         \u001b[0mmerged_rdd\u001b[0m \u001b[0;34m=\u001b[0m \u001b[0mself\u001b[0m\u001b[0;34m.\u001b[0m\u001b[0mmerged_rdd\u001b[0m\u001b[0;34m\u001b[0m\u001b[0m\n\u001b[0m\u001b[1;32m    369\u001b[0m         \u001b[0msc\u001b[0m \u001b[0;34m=\u001b[0m \u001b[0mself\u001b[0m\u001b[0;34m.\u001b[0m\u001b[0msc\u001b[0m\u001b[0;34m\u001b[0m\u001b[0m\n\u001b[1;32m    370\u001b[0m \u001b[0;34m\u001b[0m\u001b[0m\n",
      "\u001b[0;32m/cluster/project/sis/ri/roskarr/spark-fof/spark_fof/spark_fof.pyc\u001b[0m in \u001b[0;36mmerged_rdd\u001b[0;34m(self)\u001b[0m\n\u001b[1;32m     99\u001b[0m     \u001b[0;32mdef\u001b[0m \u001b[0mmerged_rdd\u001b[0m\u001b[0;34m(\u001b[0m\u001b[0mself\u001b[0m\u001b[0;34m)\u001b[0m\u001b[0;34m:\u001b[0m\u001b[0;34m\u001b[0m\u001b[0m\n\u001b[1;32m    100\u001b[0m         \u001b[0;32mif\u001b[0m \u001b[0mself\u001b[0m\u001b[0;34m.\u001b[0m\u001b[0m_merged_rdd\u001b[0m \u001b[0;32mis\u001b[0m \u001b[0mNone\u001b[0m\u001b[0;34m:\u001b[0m\u001b[0;34m\u001b[0m\u001b[0m\n\u001b[0;32m--> 101\u001b[0;31m             \u001b[0mself\u001b[0m\u001b[0;34m.\u001b[0m\u001b[0m_merged_rdd\u001b[0m \u001b[0;34m=\u001b[0m \u001b[0mself\u001b[0m\u001b[0;34m.\u001b[0m\u001b[0mmerge_groups\u001b[0m\u001b[0;34m(\u001b[0m\u001b[0;34m)\u001b[0m\u001b[0;34m\u001b[0m\u001b[0m\n\u001b[0m\u001b[1;32m    102\u001b[0m         \u001b[0;32mreturn\u001b[0m \u001b[0mself\u001b[0m\u001b[0;34m.\u001b[0m\u001b[0m_merged_rdd\u001b[0m\u001b[0;34m\u001b[0m\u001b[0m\n\u001b[1;32m    103\u001b[0m \u001b[0;34m\u001b[0m\u001b[0m\n",
      "\u001b[0;32m/cluster/project/sis/ri/roskarr/spark-fof/spark_fof/spark_fof.pyc\u001b[0m in \u001b[0;36mmerge_groups\u001b[0;34m(self, level)\u001b[0m\n\u001b[1;32m    338\u001b[0m \u001b[0;34m\u001b[0m\u001b[0m\n\u001b[1;32m    339\u001b[0m         \u001b[0;32mfor\u001b[0m \u001b[0ml\u001b[0m \u001b[0;32min\u001b[0m \u001b[0mrange\u001b[0m\u001b[0;34m(\u001b[0m\u001b[0mlevel\u001b[0m\u001b[0;34m,\u001b[0m \u001b[0;34m-\u001b[0m\u001b[0;36m1\u001b[0m\u001b[0;34m,\u001b[0m \u001b[0;34m-\u001b[0m\u001b[0;36m1\u001b[0m\u001b[0;34m)\u001b[0m\u001b[0;34m:\u001b[0m\u001b[0;34m\u001b[0m\u001b[0m\n\u001b[0;32m--> 340\u001b[0;31m             \u001b[0mm\u001b[0m \u001b[0;34m=\u001b[0m \u001b[0mself\u001b[0m\u001b[0;34m.\u001b[0m\u001b[0mget_level_map\u001b[0m\u001b[0;34m(\u001b[0m\u001b[0ml\u001b[0m\u001b[0;34m)\u001b[0m\u001b[0;34m\u001b[0m\u001b[0m\n\u001b[0m\u001b[1;32m    341\u001b[0m             \u001b[0mm_b\u001b[0m \u001b[0;34m=\u001b[0m \u001b[0mself\u001b[0m\u001b[0;34m.\u001b[0m\u001b[0msc\u001b[0m\u001b[0;34m.\u001b[0m\u001b[0mbroadcast\u001b[0m\u001b[0;34m(\u001b[0m\u001b[0mm\u001b[0m\u001b[0;34m)\u001b[0m\u001b[0;34m\u001b[0m\u001b[0m\n\u001b[1;32m    342\u001b[0m             \u001b[0mmerged_rdd\u001b[0m \u001b[0;34m=\u001b[0m \u001b[0mfof_rdd\u001b[0m\u001b[0;34m.\u001b[0m\u001b[0mmapPartitions\u001b[0m\u001b[0;34m(\u001b[0m\u001b[0;32mlambda\u001b[0m \u001b[0mparticles\u001b[0m\u001b[0;34m:\u001b[0m \u001b[0mremap_partition\u001b[0m\u001b[0;34m(\u001b[0m\u001b[0mparticles\u001b[0m\u001b[0;34m,\u001b[0m \u001b[0mm_b\u001b[0m\u001b[0;34m.\u001b[0m\u001b[0mvalue\u001b[0m\u001b[0;34m)\u001b[0m\u001b[0;34m)\u001b[0m\u001b[0;34m\u001b[0m\u001b[0m\n",
      "\u001b[0;32m/cluster/project/sis/ri/roskarr/spark-fof/spark_fof/spark_fof.pyc\u001b[0m in \u001b[0;36mget_level_map\u001b[0;34m(self, level)\u001b[0m\n\u001b[1;32m    285\u001b[0m         \u001b[0;31m# get the initial group mapping across sub-domains just based on\u001b[0m\u001b[0;34m\u001b[0m\u001b[0;34m\u001b[0m\u001b[0m\n\u001b[1;32m    286\u001b[0m         \u001b[0;31m# particle IDs\u001b[0m\u001b[0;34m\u001b[0m\u001b[0;34m\u001b[0m\u001b[0m\n\u001b[0;32m--> 287\u001b[0;31m         \u001b[0mgroups_map\u001b[0m \u001b[0;34m=\u001b[0m \u001b[0mself\u001b[0m\u001b[0;34m.\u001b[0m\u001b[0mget_gid_map\u001b[0m\u001b[0;34m(\u001b[0m\u001b[0mlevel\u001b[0m\u001b[0;34m)\u001b[0m\u001b[0;34m\u001b[0m\u001b[0m\n\u001b[0m\u001b[1;32m    288\u001b[0m \u001b[0;34m\u001b[0m\u001b[0m\n\u001b[1;32m    289\u001b[0m         \u001b[0mmappings\u001b[0m \u001b[0;34m=\u001b[0m \u001b[0;34m{\u001b[0m\u001b[0;34m}\u001b[0m\u001b[0;34m\u001b[0m\u001b[0m\n",
      "\u001b[0;32m/cluster/project/sis/ri/roskarr/spark-fof/spark_fof/spark_fof.pyc\u001b[0m in \u001b[0;36mget_gid_map\u001b[0;34m(self, level)\u001b[0m\n\u001b[1;32m    260\u001b[0m         \u001b[0mghost_orig_rdd\u001b[0m \u001b[0;34m=\u001b[0m \u001b[0mfof_rdd\u001b[0m\u001b[0;34m.\u001b[0m\u001b[0mflatMap\u001b[0m\u001b[0;34m(\u001b[0m\u001b[0;32mlambda\u001b[0m \u001b[0mp\u001b[0m\u001b[0;34m:\u001b[0m \u001b[0mp\u001b[0m\u001b[0;34m[\u001b[0m\u001b[0mnp\u001b[0m\u001b[0;34m.\u001b[0m\u001b[0mwhere\u001b[0m\u001b[0;34m(\u001b[0m\u001b[0mp\u001b[0m\u001b[0;34m[\u001b[0m\u001b[0;34m'is_ghost'\u001b[0m\u001b[0;34m]\u001b[0m\u001b[0;34m==\u001b[0m\u001b[0;36m1\u001b[0m\u001b[0;34m)\u001b[0m\u001b[0;34m[\u001b[0m\u001b[0;36m0\u001b[0m\u001b[0;34m]\u001b[0m\u001b[0;34m]\u001b[0m\u001b[0;34m)\u001b[0m\u001b[0;34m.\u001b[0m\u001b[0mmap\u001b[0m\u001b[0;34m(\u001b[0m\u001b[0mpid_gid\u001b[0m\u001b[0;34m)\u001b[0m\u001b[0;34m\u001b[0m\u001b[0m\n\u001b[1;32m    261\u001b[0m \u001b[0;34m\u001b[0m\u001b[0m\n\u001b[0;32m--> 262\u001b[0;31m         \u001b[0mgroups_map\u001b[0m \u001b[0;34m=\u001b[0m \u001b[0mghost_copy_rdd\u001b[0m\u001b[0;34m.\u001b[0m\u001b[0mjoin\u001b[0m\u001b[0;34m(\u001b[0m\u001b[0mghost_orig_rdd\u001b[0m\u001b[0;34m)\u001b[0m\u001b[0;34m.\u001b[0m\u001b[0mmap\u001b[0m\u001b[0;34m(\u001b[0m\u001b[0;32mlambda\u001b[0m \u001b[0mk\u001b[0m\u001b[0;34m,\u001b[0m\u001b[0mv\u001b[0m\u001b[0;34m:\u001b[0m \u001b[0msorted\u001b[0m\u001b[0;34m(\u001b[0m\u001b[0mv\u001b[0m\u001b[0;34m)\u001b[0m\u001b[0;34m)\u001b[0m\u001b[0;34m.\u001b[0m\u001b[0mcollect\u001b[0m\u001b[0;34m(\u001b[0m\u001b[0;34m)\u001b[0m\u001b[0;34m\u001b[0m\u001b[0m\n\u001b[0m\u001b[1;32m    263\u001b[0m \u001b[0;34m\u001b[0m\u001b[0m\n\u001b[1;32m    264\u001b[0m         \u001b[0;32mreturn\u001b[0m \u001b[0mgroups_map\u001b[0m\u001b[0;34m\u001b[0m\u001b[0m\n",
      "\u001b[0;32m/cluster/home/roskarr/spark/python/pyspark/rdd.pyc\u001b[0m in \u001b[0;36mcollect\u001b[0;34m(self)\u001b[0m\n\u001b[1;32m    774\u001b[0m         \"\"\"\n\u001b[1;32m    775\u001b[0m         \u001b[0;32mwith\u001b[0m \u001b[0mSCCallSiteSync\u001b[0m\u001b[0;34m(\u001b[0m\u001b[0mself\u001b[0m\u001b[0;34m.\u001b[0m\u001b[0mcontext\u001b[0m\u001b[0;34m)\u001b[0m \u001b[0;32mas\u001b[0m \u001b[0mcss\u001b[0m\u001b[0;34m:\u001b[0m\u001b[0;34m\u001b[0m\u001b[0m\n\u001b[0;32m--> 776\u001b[0;31m             \u001b[0mport\u001b[0m \u001b[0;34m=\u001b[0m \u001b[0mself\u001b[0m\u001b[0;34m.\u001b[0m\u001b[0mctx\u001b[0m\u001b[0;34m.\u001b[0m\u001b[0m_jvm\u001b[0m\u001b[0;34m.\u001b[0m\u001b[0mPythonRDD\u001b[0m\u001b[0;34m.\u001b[0m\u001b[0mcollectAndServe\u001b[0m\u001b[0;34m(\u001b[0m\u001b[0mself\u001b[0m\u001b[0;34m.\u001b[0m\u001b[0m_jrdd\u001b[0m\u001b[0;34m.\u001b[0m\u001b[0mrdd\u001b[0m\u001b[0;34m(\u001b[0m\u001b[0;34m)\u001b[0m\u001b[0;34m)\u001b[0m\u001b[0;34m\u001b[0m\u001b[0m\n\u001b[0m\u001b[1;32m    777\u001b[0m         \u001b[0;32mreturn\u001b[0m \u001b[0mlist\u001b[0m\u001b[0;34m(\u001b[0m\u001b[0m_load_from_socket\u001b[0m\u001b[0;34m(\u001b[0m\u001b[0mport\u001b[0m\u001b[0;34m,\u001b[0m \u001b[0mself\u001b[0m\u001b[0;34m.\u001b[0m\u001b[0m_jrdd_deserializer\u001b[0m\u001b[0;34m)\u001b[0m\u001b[0;34m)\u001b[0m\u001b[0;34m\u001b[0m\u001b[0m\n\u001b[1;32m    778\u001b[0m \u001b[0;34m\u001b[0m\u001b[0m\n",
      "\u001b[0;32m/cluster/home/roskarr/spark/python/lib/py4j-0.10.3-src.zip/py4j/java_gateway.py\u001b[0m in \u001b[0;36m__call__\u001b[0;34m(self, *args)\u001b[0m\n\u001b[1;32m   1131\u001b[0m         \u001b[0manswer\u001b[0m \u001b[0;34m=\u001b[0m \u001b[0mself\u001b[0m\u001b[0;34m.\u001b[0m\u001b[0mgateway_client\u001b[0m\u001b[0;34m.\u001b[0m\u001b[0msend_command\u001b[0m\u001b[0;34m(\u001b[0m\u001b[0mcommand\u001b[0m\u001b[0;34m)\u001b[0m\u001b[0;34m\u001b[0m\u001b[0m\n\u001b[1;32m   1132\u001b[0m         return_value = get_return_value(\n\u001b[0;32m-> 1133\u001b[0;31m             answer, self.gateway_client, self.target_id, self.name)\n\u001b[0m\u001b[1;32m   1134\u001b[0m \u001b[0;34m\u001b[0m\u001b[0m\n\u001b[1;32m   1135\u001b[0m         \u001b[0;32mfor\u001b[0m \u001b[0mtemp_arg\u001b[0m \u001b[0;32min\u001b[0m \u001b[0mtemp_args\u001b[0m\u001b[0;34m:\u001b[0m\u001b[0;34m\u001b[0m\u001b[0m\n",
      "\u001b[0;32m/cluster/home/roskarr/spark/python/lib/py4j-0.10.3-src.zip/py4j/protocol.py\u001b[0m in \u001b[0;36mget_return_value\u001b[0;34m(answer, gateway_client, target_id, name)\u001b[0m\n\u001b[1;32m    317\u001b[0m                 raise Py4JJavaError(\n\u001b[1;32m    318\u001b[0m                     \u001b[0;34m\"An error occurred while calling {0}{1}{2}.\\n\"\u001b[0m\u001b[0;34m.\u001b[0m\u001b[0;34m\u001b[0m\u001b[0m\n\u001b[0;32m--> 319\u001b[0;31m                     format(target_id, \".\", name), value)\n\u001b[0m\u001b[1;32m    320\u001b[0m             \u001b[0;32melse\u001b[0m\u001b[0;34m:\u001b[0m\u001b[0;34m\u001b[0m\u001b[0m\n\u001b[1;32m    321\u001b[0m                 raise Py4JError(\n",
      "\u001b[0;31mPy4JJavaError\u001b[0m: An error occurred while calling z:org.apache.spark.api.python.PythonRDD.collectAndServe.\n: org.apache.spark.SparkException: Job aborted due to stage failure: Task 3 in stage 16.0 failed 4 times, most recent failure: Lost task 3.3 in stage 16.0 (TID 383, 10.205.8.31): org.apache.spark.api.python.PythonException: Traceback (most recent call last):\n  File \"/cluster/home/roskarr/spark/python/lib/pyspark.zip/pyspark/worker.py\", line 170, in main\n    profiler.profile(process)\n  File \"/cluster/home/roskarr/spark/python/lib/pyspark.zip/pyspark/profiler.py\", line 160, in profile\n    pr.runcall(func)\n  File \"/cluster/home/roskarr/miniconda2/lib/python2.7/cProfile.py\", line 149, in runcall\n    return func(*args, **kw)\n  File \"/cluster/home/roskarr/spark/python/lib/pyspark.zip/pyspark/worker.py\", line 167, in process\n    serializer.dump_stream(func(split_index, iterator), outfile)\n  File \"/cluster/home/roskarr/spark/python/lib/pyspark.zip/pyspark/serializers.py\", line 263, in dump_stream\n    vs = list(itertools.islice(iterator, batch))\nTypeError: <lambda>() takes exactly 2 arguments (1 given)\n\n\tat org.apache.spark.api.python.PythonRunner$$anon$1.read(PythonRDD.scala:193)\n\tat org.apache.spark.api.python.PythonRunner$$anon$1.<init>(PythonRDD.scala:234)\n\tat org.apache.spark.api.python.PythonRunner.compute(PythonRDD.scala:152)\n\tat org.apache.spark.api.python.PythonRDD.compute(PythonRDD.scala:63)\n\tat org.apache.spark.rdd.RDD.computeOrReadCheckpoint(RDD.scala:319)\n\tat org.apache.spark.rdd.RDD.iterator(RDD.scala:283)\n\tat org.apache.spark.scheduler.ResultTask.runTask(ResultTask.scala:70)\n\tat org.apache.spark.scheduler.Task.run(Task.scala:86)\n\tat org.apache.spark.executor.Executor$TaskRunner.run(Executor.scala:274)\n\tat java.util.concurrent.ThreadPoolExecutor.runWorker(ThreadPoolExecutor.java:1142)\n\tat java.util.concurrent.ThreadPoolExecutor$Worker.run(ThreadPoolExecutor.java:617)\n\tat java.lang.Thread.run(Thread.java:745)\n\nDriver stacktrace:\n\tat org.apache.spark.scheduler.DAGScheduler.org$apache$spark$scheduler$DAGScheduler$$failJobAndIndependentStages(DAGScheduler.scala:1454)\n\tat org.apache.spark.scheduler.DAGScheduler$$anonfun$abortStage$1.apply(DAGScheduler.scala:1442)\n\tat org.apache.spark.scheduler.DAGScheduler$$anonfun$abortStage$1.apply(DAGScheduler.scala:1441)\n\tat scala.collection.mutable.ResizableArray$class.foreach(ResizableArray.scala:59)\n\tat scala.collection.mutable.ArrayBuffer.foreach(ArrayBuffer.scala:48)\n\tat org.apache.spark.scheduler.DAGScheduler.abortStage(DAGScheduler.scala:1441)\n\tat org.apache.spark.scheduler.DAGScheduler$$anonfun$handleTaskSetFailed$1.apply(DAGScheduler.scala:811)\n\tat org.apache.spark.scheduler.DAGScheduler$$anonfun$handleTaskSetFailed$1.apply(DAGScheduler.scala:811)\n\tat scala.Option.foreach(Option.scala:257)\n\tat org.apache.spark.scheduler.DAGScheduler.handleTaskSetFailed(DAGScheduler.scala:811)\n\tat org.apache.spark.scheduler.DAGSchedulerEventProcessLoop.doOnReceive(DAGScheduler.scala:1667)\n\tat org.apache.spark.scheduler.DAGSchedulerEventProcessLoop.onReceive(DAGScheduler.scala:1622)\n\tat org.apache.spark.scheduler.DAGSchedulerEventProcessLoop.onReceive(DAGScheduler.scala:1611)\n\tat org.apache.spark.util.EventLoop$$anon$1.run(EventLoop.scala:48)\n\tat org.apache.spark.scheduler.DAGScheduler.runJob(DAGScheduler.scala:632)\n\tat org.apache.spark.SparkContext.runJob(SparkContext.scala:1890)\n\tat org.apache.spark.SparkContext.runJob(SparkContext.scala:1903)\n\tat org.apache.spark.SparkContext.runJob(SparkContext.scala:1916)\n\tat org.apache.spark.SparkContext.runJob(SparkContext.scala:1930)\n\tat org.apache.spark.rdd.RDD$$anonfun$collect$1.apply(RDD.scala:912)\n\tat org.apache.spark.rdd.RDDOperationScope$.withScope(RDDOperationScope.scala:151)\n\tat org.apache.spark.rdd.RDDOperationScope$.withScope(RDDOperationScope.scala:112)\n\tat org.apache.spark.rdd.RDD.withScope(RDD.scala:358)\n\tat org.apache.spark.rdd.RDD.collect(RDD.scala:911)\n\tat org.apache.spark.api.python.PythonRDD$.collectAndServe(PythonRDD.scala:453)\n\tat org.apache.spark.api.python.PythonRDD.collectAndServe(PythonRDD.scala)\n\tat sun.reflect.NativeMethodAccessorImpl.invoke0(Native Method)\n\tat sun.reflect.NativeMethodAccessorImpl.invoke(NativeMethodAccessorImpl.java:62)\n\tat sun.reflect.DelegatingMethodAccessorImpl.invoke(DelegatingMethodAccessorImpl.java:43)\n\tat java.lang.reflect.Method.invoke(Method.java:483)\n\tat py4j.reflection.MethodInvoker.invoke(MethodInvoker.java:237)\n\tat py4j.reflection.ReflectionEngine.invoke(ReflectionEngine.java:357)\n\tat py4j.Gateway.invoke(Gateway.java:280)\n\tat py4j.commands.AbstractCommand.invokeMethod(AbstractCommand.java:132)\n\tat py4j.commands.CallCommand.execute(CallCommand.java:79)\n\tat py4j.GatewayConnection.run(GatewayConnection.java:214)\n\tat java.lang.Thread.run(Thread.java:745)\nCaused by: org.apache.spark.api.python.PythonException: Traceback (most recent call last):\n  File \"/cluster/home/roskarr/spark/python/lib/pyspark.zip/pyspark/worker.py\", line 170, in main\n    profiler.profile(process)\n  File \"/cluster/home/roskarr/spark/python/lib/pyspark.zip/pyspark/profiler.py\", line 160, in profile\n    pr.runcall(func)\n  File \"/cluster/home/roskarr/miniconda2/lib/python2.7/cProfile.py\", line 149, in runcall\n    return func(*args, **kw)\n  File \"/cluster/home/roskarr/spark/python/lib/pyspark.zip/pyspark/worker.py\", line 167, in process\n    serializer.dump_stream(func(split_index, iterator), outfile)\n  File \"/cluster/home/roskarr/spark/python/lib/pyspark.zip/pyspark/serializers.py\", line 263, in dump_stream\n    vs = list(itertools.islice(iterator, batch))\nTypeError: <lambda>() takes exactly 2 arguments (1 given)\n\n\tat org.apache.spark.api.python.PythonRunner$$anon$1.read(PythonRDD.scala:193)\n\tat org.apache.spark.api.python.PythonRunner$$anon$1.<init>(PythonRDD.scala:234)\n\tat org.apache.spark.api.python.PythonRunner.compute(PythonRDD.scala:152)\n\tat org.apache.spark.api.python.PythonRDD.compute(PythonRDD.scala:63)\n\tat org.apache.spark.rdd.RDD.computeOrReadCheckpoint(RDD.scala:319)\n\tat org.apache.spark.rdd.RDD.iterator(RDD.scala:283)\n\tat org.apache.spark.scheduler.ResultTask.runTask(ResultTask.scala:70)\n\tat org.apache.spark.scheduler.Task.run(Task.scala:86)\n\tat org.apache.spark.executor.Executor$TaskRunner.run(Executor.scala:274)\n\tat java.util.concurrent.ThreadPoolExecutor.runWorker(ThreadPoolExecutor.java:1142)\n\tat java.util.concurrent.ThreadPoolExecutor$Worker.run(ThreadPoolExecutor.java:617)\n\t... 1 more\n"
     ]
    }
   ],
   "source": [
    "%%time\n",
    "final_fof_rdd = fof_analyzer.final_fof_rdd.cache()\n",
    "#groups = fof_analyzer.groups"
   ]
  },
  {
   "cell_type": "code",
   "execution_count": null,
   "metadata": {
    "collapsed": true
   },
   "outputs": [],
   "source": [
    "sc.show_profiles()"
   ]
  },
  {
   "cell_type": "code",
   "execution_count": 25,
   "metadata": {
    "collapsed": false
   },
   "outputs": [
    {
     "data": {
      "text/plain": [
       "1267849"
      ]
     },
     "execution_count": 25,
     "metadata": {},
     "output_type": "execute_result"
    }
   ],
   "source": [
    "len(groups)"
   ]
  },
  {
   "cell_type": "code",
   "execution_count": 76,
   "metadata": {
    "collapsed": false
   },
   "outputs": [
    {
     "data": {
      "text/plain": [
       "2194231"
      ]
     },
     "execution_count": 76,
     "metadata": {},
     "output_type": "execute_result"
    }
   ],
   "source": [
    "len(groups)"
   ]
  },
  {
   "cell_type": "code",
   "execution_count": 54,
   "metadata": {
    "collapsed": false
   },
   "outputs": [
    {
     "data": {
      "text/plain": [
       "1"
      ]
     },
     "execution_count": 54,
     "metadata": {},
     "output_type": "execute_result"
    }
   ],
   "source": [
    "min(groups.values())"
   ]
  },
  {
   "cell_type": "code",
   "execution_count": 75,
   "metadata": {
    "collapsed": false
   },
   "outputs": [
    {
     "data": {
      "text/plain": [
       "880530"
      ]
     },
     "execution_count": 75,
     "metadata": {},
     "output_type": "execute_result"
    }
   ],
   "source": [
    "len(fof_analyzer.group_merge_map)"
   ]
  },
  {
   "cell_type": "code",
   "execution_count": 56,
   "metadata": {
    "collapsed": true
   },
   "outputs": [],
   "source": [
    "group_merge_map = fof_analyzer.group_merge_map\n",
    "gr_map_inv = {v:k for (k,v) in group_merge_map.iteritems()}\n",
    "gr_map_inv_b = sc.broadcast(gr_map_inv)"
   ]
  },
  {
   "cell_type": "code",
   "execution_count": 61,
   "metadata": {
    "collapsed": true
   },
   "outputs": [],
   "source": [
    "from itertools import izip\n",
    "def count_groups_partition(particle_arrays, gr_map_inv_b, nMinMembers): \n",
    "    p_arr = np.concatenate(list(particle_arrays))\n",
    "    gs, counts = np.unique(p_arr['iGroup'], return_counts=True)\n",
    "    gr_map_inv = gr_map_inv_b.value\n",
    "    return ((g,cnt) for g,cnt in izip(gs,counts) if (g in gr_map_inv) or (cnt >= nMinMembers))"
   ]
  },
  {
   "cell_type": "code",
   "execution_count": 62,
   "metadata": {
    "collapsed": false
   },
   "outputs": [],
   "source": [
    "no_ghosts_rdd = fof_analyzer.merged_rdd.map(lambda p: p[np.where(p['is_ghost'] != 2)[0]])"
   ]
  },
  {
   "cell_type": "code",
   "execution_count": 68,
   "metadata": {
    "collapsed": true
   },
   "outputs": [],
   "source": [
    "group_counts = no_ghosts_rdd.mapPartitions(lambda p_arrs: count_groups_partition(p_arrs, gr_map_inv_b, 64))"
   ]
  },
  {
   "cell_type": "code",
   "execution_count": 72,
   "metadata": {
    "collapsed": true
   },
   "outputs": [],
   "source": [
    "merge_group_counts = (group_counts.filter(lambda (g,cnt): g in gr_map_inv_b.value)\n",
    "                                          .reduceByKey(lambda a,b: a+b)\n",
    "                                          .filter(lambda (g,cnt): cnt>=64))\n"
   ]
  },
  {
   "cell_type": "code",
   "execution_count": 73,
   "metadata": {
    "collapsed": true
   },
   "outputs": [],
   "source": [
    "total_group_counts = group_counts.filter(lambda (gid,cnt): gid not in gr_map_inv_b.value) + merge_group_counts"
   ]
  },
  {
   "cell_type": "code",
   "execution_count": 74,
   "metadata": {
    "collapsed": false
   },
   "outputs": [
    {
     "data": {
      "text/plain": [
       "64"
      ]
     },
     "execution_count": 74,
     "metadata": {},
     "output_type": "execute_result"
    }
   ],
   "source": [
    "total_group_counts.values().min()"
   ]
  },
  {
   "cell_type": "markdown",
   "metadata": {
    "collapsed": true
   },
   "source": [
    "## Used for testing"
   ]
  },
  {
   "cell_type": "code",
   "execution_count": null,
   "metadata": {
    "collapsed": false
   },
   "outputs": [],
   "source": [
    "def read_tipsy_output(filename, chunksize = 2048): \n",
    "    \"\"\"\n",
    "    Read a tipsy file and set the sequential particle IDs\n",
    "    \n",
    "    This scans through the data twice -- first to get partition particle counts\n",
    "    and a second time to actually set the particle IDs.\n",
    "    \"\"\"\n",
    "    \n",
    "    # helper functions\n",
    "    def convert_to_fof_particle_partition(index, iterator): \n",
    "        for s in iterator: \n",
    "            a = convert_to_fof_particle(s)\n",
    "            if count: \n",
    "                npart_acc.add({index: len(a)})\n",
    "            yield a\n",
    "\n",
    "    def set_particle_IDs_partition(index, iterator): \n",
    "        p_counts = partition_counts.value\n",
    "        local_index = 0\n",
    "        start_index = sum([p_counts[i] for i in range(index)])\n",
    "        for arr in iterator:\n",
    "            arr['iOrder'] = range(start_index + local_index, start_index + local_index + len(arr))\n",
    "            local_index += len(arr)\n",
    "            yield arr\n",
    "    \n",
    "    rec_rdd = sc.binaryRecords(filename, pdt_tipsy.itemsize*chunksize)\n",
    "    nPartitions = rec_rdd.getNumPartitions()\n",
    "    # set the partition count accumulator\n",
    "    npart_acc = sc.accumulator({i:0 for i in range(nPartitions)}, dictAdd())\n",
    "    count=True\n",
    "    # read the data and count the particles per partition\n",
    "    rec_rdd = rec_rdd.mapPartitionsWithIndex(convert_to_fof_particle_partition)\n",
    "    rec_rdd.count()\n",
    "    count=False\n",
    "\n",
    "    partition_counts = sc.broadcast(npart_acc.value)\n",
    "\n",
    "    return rec_rdd.mapPartitionsWithIndex(set_particle_IDs_partition)"
   ]
  },
  {
   "cell_type": "code",
   "execution_count": null,
   "metadata": {
    "collapsed": false
   },
   "outputs": [],
   "source": [
    "#p_rdd = read_tipsy_output('/Users/rok/polybox/euclid256.nat_no_header')"
   ]
  },
  {
   "cell_type": "code",
   "execution_count": null,
   "metadata": {
    "collapsed": false
   },
   "outputs": [],
   "source": [
    "#p_rdd.cache().count()"
   ]
  },
  {
   "cell_type": "code",
   "execution_count": null,
   "metadata": {
    "collapsed": false
   },
   "outputs": [],
   "source": [
    "# %%time \n",
    "# nMinMembers = 1\n",
    "# n_groups = fof.run(ps, tau, nMinMembers)\n",
    "# print 'number of groups to %d particle = %d'%(nMinMembers, n_groups)"
   ]
  }
 ],
 "metadata": {
  "kernelspec": {
   "display_name": "Python 2",
   "language": "python",
   "name": "python2"
  },
  "language_info": {
   "codemirror_mode": {
    "name": "ipython",
    "version": 2
   },
   "file_extension": ".py",
   "mimetype": "text/x-python",
   "name": "python",
   "nbconvert_exporter": "python",
   "pygments_lexer": "ipython2",
   "version": "2.7.12"
  }
 },
 "nbformat": 4,
 "nbformat_minor": 0
}
