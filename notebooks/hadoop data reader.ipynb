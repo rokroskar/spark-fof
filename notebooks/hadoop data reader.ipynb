{
 "cells": [
  {
   "cell_type": "code",
   "execution_count": 1,
   "metadata": {
    "collapsed": true
   },
   "outputs": [],
   "source": [
    "import os\n",
    "os.environ['HADOOP_HOME'] = '/home/ics/roskar/hadoop'\n",
    "import subprocess"
   ]
  },
  {
   "cell_type": "code",
   "execution_count": 2,
   "metadata": {
    "collapsed": true
   },
   "outputs": [],
   "source": [
    "host = 'x09y06'"
   ]
  },
  {
   "cell_type": "markdown",
   "metadata": {},
   "source": [
    "## put files into hadoop\n"
   ]
  },
  {
   "cell_type": "code",
   "execution_count": 3,
   "metadata": {
    "collapsed": true
   },
   "outputs": [],
   "source": [
    "# first copy a file into a temporary location trimming off the header"
   ]
  },
  {
   "cell_type": "code",
   "execution_count": 4,
   "metadata": {
    "collapsed": true
   },
   "outputs": [],
   "source": [
    "import tempfile"
   ]
  },
  {
   "cell_type": "code",
   "execution_count": 5,
   "metadata": {
    "collapsed": true
   },
   "outputs": [],
   "source": [
    "data_dir = '/zbox/trove/euclid/2Tlc-final/'"
   ]
  },
  {
   "cell_type": "code",
   "execution_count": 49,
   "metadata": {
    "collapsed": true
   },
   "outputs": [],
   "source": [
    "blockids = range(30,32)"
   ]
  },
  {
   "cell_type": "code",
   "execution_count": 50,
   "metadata": {
    "collapsed": false
   },
   "outputs": [],
   "source": [
    "import re\n",
    "get_block_ids = re.compile('blk\\.(\\d+)\\.(\\d+)\\.(\\d+)?')\n",
    "\n",
    "files = []\n",
    "for dirname, subdirlist, filelist in os.walk(data_dir):\n",
    "    try: \n",
    "        dirnum = int(os.path.basename(dirname))\n",
    "        if dirnum in blockids: \n",
    "            for f in filelist:\n",
    "                ids = get_block_ids.findall(f)\n",
    "                if len(ids) > 0:\n",
    "                    if all(int(x) in blockids for x in ids[0]):\n",
    "                        files.append(os.path.join(dirname,f))\n",
    "    except ValueError:\n",
    "        pass"
   ]
  },
  {
   "cell_type": "code",
   "execution_count": 51,
   "metadata": {
    "collapsed": false
   },
   "outputs": [
    {
     "name": "stdout",
     "output_type": "stream",
     "text": [
      "copied  blk.30.30.30i\n",
      "copied  blk.30.31.31i\n",
      "copied  blk.30.30.31i\n",
      "copied  blk.30.31.30i\n",
      "copied  blk.31.31.31i\n",
      "copied  blk.31.30.30i\n",
      "copied  blk.31.31.30i\n",
      "copied  blk.31.30.31i\n"
     ]
    }
   ],
   "source": [
    "for filename in files: \n",
    "    with open(filename) as f: \n",
    "        data = f.read()\n",
    "        tf = tempfile.NamedTemporaryFile(delete=False) \n",
    "        tf.write(data[62500:])\n",
    "        tf.close()\n",
    "        subprocess.check_call(['/home/ics/roskar/hadoop/bin/hdfs', 'dfs', '-put', tf.name, '/2Tlc/%s'%os.path.basename(filename)], shell=False)\n",
    "        os.remove(tf.name)\n",
    "        print 'copied ', os.path.basename(filename)"
   ]
  },
  {
   "cell_type": "code",
   "execution_count": 6,
   "metadata": {
    "collapsed": false
   },
   "outputs": [],
   "source": [
    "import findspark\n",
    "findspark.init()\n",
    "import sparkhpc"
   ]
  },
  {
   "cell_type": "code",
   "execution_count": 78,
   "metadata": {
    "collapsed": true
   },
   "outputs": [],
   "source": [
    "sc.stop()"
   ]
  },
  {
   "cell_type": "code",
   "execution_count": 79,
   "metadata": {
    "collapsed": false
   },
   "outputs": [],
   "source": [
    "sc = sparkhpc.start_spark('spark://x09y06:7078', executor_memory='20000M')"
   ]
  },
  {
   "cell_type": "markdown",
   "metadata": {},
   "source": [
    "### converting bytes to particles"
   ]
  },
  {
   "cell_type": "code",
   "execution_count": 80,
   "metadata": {
    "collapsed": true
   },
   "outputs": [],
   "source": [
    "import time"
   ]
  },
  {
   "cell_type": "code",
   "execution_count": 81,
   "metadata": {
    "collapsed": true
   },
   "outputs": [],
   "source": [
    "import numpy as np\n",
    "\n",
    "pdt_lc = np.dtype([('pos', 'f4', 3),('vel', 'f4', 3)])"
   ]
  },
  {
   "cell_type": "code",
   "execution_count": 85,
   "metadata": {
    "collapsed": false
   },
   "outputs": [
    {
     "name": "stdout",
     "output_type": "stream",
     "text": [
      "30 30 30\n",
      "30 30 31\n",
      "30 31 30\n",
      "30 31 31\n",
      "31 30 30\n",
      "31 30 31\n",
      "31 31 30\n",
      "31 31 31\n"
     ]
    }
   ],
   "source": [
    "for i in [30,31]: \n",
    "    for j in [30,31]:\n",
    "        for k in [30,31]:\n",
    "            print i,j,k"
   ]
  },
  {
   "cell_type": "code",
   "execution_count": 82,
   "metadata": {
    "collapsed": true
   },
   "outputs": [],
   "source": [
    "get_block_ids = re.compile('blk\\.(\\d+)\\.(\\d+)\\.(\\d+)?')\n",
    "include_file = lambda filename: all([int(blk) in blockids for blk in get_block_ids.findall(filename)[0]])"
   ]
  },
  {
   "cell_type": "code",
   "execution_count": 83,
   "metadata": {
    "collapsed": false
   },
   "outputs": [],
   "source": [
    "raw_rdd = (sc.binaryFiles('hdfs://%s:/2Tlc/'%host)\n",
    "             .map(lambda (path,buf): (path,np.frombuffer(buf,dtype=pdt_lc))))"
   ]
  },
  {
   "cell_type": "code",
   "execution_count": 84,
   "metadata": {
    "collapsed": false
   },
   "outputs": [
    {
     "name": "stdout",
     "output_type": "stream",
     "text": [
      "185.570565 MB/s\n"
     ]
    }
   ],
   "source": [
    "timein = time.time()\n",
    "size = raw_rdd.map(lambda (f, arr): len(arr)).sum()*24\n",
    "print '%f MB/s'%(size/1e6/(time.time()-timein))"
   ]
  },
  {
   "cell_type": "code",
   "execution_count": 94,
   "metadata": {
    "collapsed": true
   },
   "outputs": [],
   "source": [
    "ids = []\n",
    "for i in blockids:\n",
    "    for j in blockids: \n",
    "        for k in blockids:\n",
    "            ids.append((i,j,k))\n",
    "\n",
    "ids_map = {x:i for i,x in enumerate(ids)}"
   ]
  },
  {
   "cell_type": "code",
   "execution_count": 95,
   "metadata": {
    "collapsed": false
   },
   "outputs": [
    {
     "data": {
      "text/plain": [
       "{(30, 30, 30): 0,\n",
       " (30, 30, 31): 1,\n",
       " (30, 31, 30): 2,\n",
       " (30, 31, 31): 3,\n",
       " (31, 30, 30): 4,\n",
       " (31, 30, 31): 5,\n",
       " (31, 31, 30): 6,\n",
       " (31, 31, 31): 7}"
      ]
     },
     "execution_count": 95,
     "metadata": {},
     "output_type": "execute_result"
    }
   ],
   "source": [
    "ids_map"
   ]
  },
  {
   "cell_type": "code",
   "execution_count": 102,
   "metadata": {
    "collapsed": false
   },
   "outputs": [],
   "source": [
    "from snakebite.client import Client\n",
    "c = Client('x09y06')\n",
    "\n",
    "nparts = {}\n",
    "for f in c.ls(['/2Tlc']):\n",
    "    blocks = tuple(map(int, get_block_ids.findall(os.path.basename(f['path']))[0]))\n",
    "    if all(b in blockids for b in blocks): \n",
    "        nparts[ids_map[blocks]] = f['length']/24"
   ]
  },
  {
   "cell_type": "code",
   "execution_count": null,
   "metadata": {
    "collapsed": true
   },
   "outputs": [],
   "source": []
  }
 ],
 "metadata": {
  "kernelspec": {
   "display_name": "Python 2",
   "language": "python",
   "name": "python2"
  },
  "language_info": {
   "codemirror_mode": {
    "name": "ipython",
    "version": 2
   },
   "file_extension": ".py",
   "mimetype": "text/x-python",
   "name": "python",
   "nbconvert_exporter": "python",
   "pygments_lexer": "ipython2",
   "version": "2.7.13"
  }
 },
 "nbformat": 4,
 "nbformat_minor": 2
}
